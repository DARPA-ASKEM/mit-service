{
 "cells": [
  {
   "cell_type": "markdown",
   "id": "07c1a12c",
   "metadata": {
    "heading_collapsed": true,
    "pycharm": {
     "name": "#%% md\n"
    }
   },
   "source": [
    "# Demo Setup"
   ]
  },
  {
   "cell_type": "code",
   "execution_count": 1,
   "id": "99cf9d52",
   "metadata": {
    "ExecuteTime": {
     "end_time": "2022-12-07T14:39:02.533379Z",
     "start_time": "2022-12-07T14:39:02.042599Z"
    },
    "hidden": true,
    "pycharm": {
     "name": "#%%\n"
    }
   },
   "outputs": [],
   "source": [
    "import connect\n",
    "import requests\n",
    "from automates.program_analysis.JSON2GroMEt.json2gromet import json_to_gromet\n",
    "from automates.gromet.query import query\n"
   ]
  },
  {
   "cell_type": "markdown",
   "id": "105a85ab",
   "metadata": {
    "hidden": true,
    "pycharm": {
     "name": "#%% md\n"
    }
   },
   "source": [
    "The following assumes that you have already generated the json (e.g., by running the notebook script `py_src_to_grometFN_JSON.ipynb`)"
   ]
  },
  {
   "cell_type": "markdown",
   "id": "79611673",
   "metadata": {
    "hidden": true,
    "pycharm": {
     "name": "#%% md\n"
    }
   },
   "source": [
    "We first set up access to the MIRA Epidemiology Domain Knowledge Graph (DKG) web service."
   ]
  },
  {
   "cell_type": "code",
   "execution_count": 2,
   "id": "3fff15a7",
   "metadata": {
    "ExecuteTime": {
     "end_time": "2022-12-07T14:39:07.855508Z",
     "start_time": "2022-12-07T14:39:07.851091Z"
    },
    "hidden": true,
    "pycharm": {
     "name": "#%%\n"
    }
   },
   "outputs": [],
   "source": [
    "MIRA_DKG_URL = 'http://34.230.33.149:8771'\n",
    "\n",
    "def get_mira_dkg_term(term, attribs):\n",
    "    res = requests.get(MIRA_DKG_URL + '/api/search', params={'q': term})\n",
    "    term = [entity for entity in res.json() if entity['id'].startswith('askemo')][0]\n",
    "    res = {attrib: term.get(attrib) for attrib in attribs if term.get(attrib) is not None}\n",
    "    return res"
   ]
  },
  {
   "cell_type": "markdown",
   "id": "78e8dc16",
   "metadata": {
    "ExecuteTime": {
     "end_time": "2022-12-07T03:18:02.964304Z",
     "start_time": "2022-12-07T03:18:02.961800Z"
    },
    "heading_collapsed": true,
    "pycharm": {
     "name": "#%% md\n"
    }
   },
   "source": [
    "# Load CHIME SIR gromet representation"
   ]
  },
  {
   "cell_type": "code",
   "execution_count": 3,
   "id": "68b7b355",
   "metadata": {
    "ExecuteTime": {
     "end_time": "2022-12-07T14:39:17.105887Z",
     "start_time": "2022-12-07T14:39:17.090177Z"
    },
    "hidden": true,
    "pycharm": {
     "name": "#%%\n"
    }
   },
   "outputs": [],
   "source": [
    "gromet_fn_module = json_to_gromet(\"gromet/CHIME_SIR_while_loop--Gromet-FN-auto.json\")"
   ]
  },
  {
   "cell_type": "markdown",
   "id": "244d1ed8",
   "metadata": {
    "hidden": true,
    "pycharm": {
     "name": "#%% md\n"
    }
   },
   "source": [
    "The following uses the simple query to collect all named output ports of a GrometFNModule.\n",
    "`nops` will hold a `List` of `Tuples`, where each tuple has the following format:\n",
    "```\n",
    "(<name_of_output_port>,    # named output port == a variable in source code\n",
    " <literal_value>,          # IF a literal value has been assigned, otherwise None\n",
    " <source_code_reference>)  # metadatum for the source code location of the assignment\n",
    "```"
   ]
  },
  {
   "cell_type": "code",
   "execution_count": 4,
   "id": "31ca9b8b",
   "metadata": {
    "ExecuteTime": {
     "end_time": "2022-12-07T14:39:19.060069Z",
     "start_time": "2022-12-07T14:39:19.056202Z"
    },
    "hidden": true,
    "pycharm": {
     "name": "#%%\n"
    },
    "scrolled": true
   },
   "outputs": [
    {
     "name": "stdout",
     "output_type": "stream",
     "text": [
      "('inv_contact_rate', None, {'code_file_reference_uid': '09a64930-e9e4-8ae5-f825-bdf7c1e729f9',\n",
      " 'col_begin': 4,\n",
      " 'col_end': 50,\n",
      " 'line_begin': 3,\n",
      " 'line_end': 3,\n",
      " 'metadata_type': 'source_code_reference',\n",
      " 'provenance': {'method': 'skema_code2fn_program_analysis',\n",
      "                'timestamp': '2022-11-30 16:18:33.012848'}})\n"
     ]
    }
   ],
   "source": [
    "nops = query.collect_named_output_ports(gromet_fn_module)\n",
    "print(nops[0])"
   ]
  },
  {
   "cell_type": "markdown",
   "id": "699a348e",
   "metadata": {},
   "source": [
    "# Load all the source, document, and other files we need"
   ]
  },
  {
   "cell_type": "code",
   "execution_count": 49,
   "id": "1a38ebe9",
   "metadata": {
    "ExecuteTime": {
     "end_time": "2022-12-07T15:21:30.055323Z",
     "start_time": "2022-12-07T15:21:30.048785Z"
    }
   },
   "outputs": [],
   "source": [
    "from IPython.display import IFrame\n",
    "\n",
    "####\n",
    "# HERE IS CONTENT FOR PART 2: FORMULA-TO-MODEL-MATCHING\n",
    "####\n",
    "# CHIME SVIIR SOURCE\n",
    "CHIME_SVIIvR_model_source = connect.read_text_from_file(\"model/SVIIvR/CHIME_SVIIvR.py\")\n",
    "\n",
    "# Formula LaTeX source\n",
    "CHIME_SVIIvR_FORMULAS_PDF_DOC = \"model/SVIIvR/CHIME_SVIIvR_model_equations.pdf\"\n",
    "#formula_pdf_file = \"model/SV\"\n",
    "CHIME_SVIIvR_FORMULAS_LATEX = connect.read_text_from_file(\"model/SVIIvR/formula.tex_idx\")\n",
    "\n",
    "\n",
    "####\n",
    "# HERE IS CONTENT FOR PART 3: TEXT-TO-MODEL-MATCHING\n",
    "####\n",
    "CHIME_SIR_model_source = connect.read_text_from_file(\"model/SIR/CHIME_SIR_while_loop.py\")\n",
    "CHIME_SIR_DESCRIPTION_PDF_DOC = \"model/SIR/CHIME-online-manual-T2021-01-19.pdf\";\n",
    "CHIME_SIR_DESCRIPTION_TEXT = connect.read_text_from_file(connect.index_text(\"model/SIR/description.txt\"))\n",
    "\n",
    "###\n",
    "# HERE IS CONTENT FOR PART 4: BUCKY/DATA\n",
    "###\n",
    "BUCKY_model_source = connect.read_text_from_file(\"./model/Bucky/bucky_sample.py\")\n",
    "\n"
   ]
  },
  {
   "cell_type": "markdown",
   "id": "e4238a5f",
   "metadata": {
    "heading_collapsed": true,
    "pycharm": {
     "name": "#%% md\n"
    }
   },
   "source": [
    "# Load Ontology "
   ]
  },
  {
   "cell_type": "markdown",
   "id": "139d22b5",
   "metadata": {
    "hidden": true,
    "pycharm": {
     "name": "#%% md\n"
    }
   },
   "source": [
    "Next, we choose a set of terms and attributes to pull into a local ontology that we can use to connect to the model. In addition, for some of the terms, we define custom ranges in which their values for this model can be adjusted."
   ]
  },
  {
   "cell_type": "code",
   "execution_count": 5,
   "id": "439ca0ad",
   "metadata": {
    "ExecuteTime": {
     "end_time": "2022-12-07T14:39:24.938630Z",
     "start_time": "2022-12-07T14:39:24.165769Z"
    },
    "hidden": true,
    "pycharm": {
     "name": "#%%\n"
    }
   },
   "outputs": [
    {
     "data": {
      "text/plain": [
       "{'population': {'description': 'The number of people who live in an area being modeled.',\n",
       "  'synonyms': [],\n",
       "  'xrefs': [{'id': 'ido:0000509', 'type': 'skos:exactMatch'}],\n",
       "  'suggested_unit': 'person',\n",
       "  'suggested_data_type': 'int',\n",
       "  'physical_min': 0.0,\n",
       "  'typical_min': 1000,\n",
       "  'typical_max': 40000000},\n",
       " 'doubling time': {'description': 'The length of time that an infectious disease requires to double in incidence.',\n",
       "  'synonyms': [{'value': 'doubling rate',\n",
       "    'type': 'oboInOwl:hasRelatedSynonym'}],\n",
       "  'xrefs': [{'id': 'cemo:epidemic_doubling_time', 'type': 'skos:exactMatch'}],\n",
       "  'suggested_unit': 'day',\n",
       "  'suggested_data_type': 'float',\n",
       "  'physical_min': 0.0},\n",
       " 'recovery time': {'description': 'The length of time an infected individual needs to recover after being infected.',\n",
       "  'synonyms': [{'value': 'mean recovery time',\n",
       "    'type': 'oboInOwl:hasExactSynonym'}],\n",
       "  'xrefs': [],\n",
       "  'suggested_unit': 'day',\n",
       "  'suggested_data_type': 'float',\n",
       "  'physical_min': 0.0},\n",
       " 'infectious time': {'description': 'The length of time an infected individual is infectious after being infected.',\n",
       "  'synonyms': [{'value': 'contagious time',\n",
       "    'type': 'oboInOwl:hasExactSynonym'},\n",
       "   {'value': 'infectious days', 'type': 'oboInOwl:hasNarrowSynonym'},\n",
       "   {'value': 'infectious period', 'type': 'oboInOwl:hasExactSynonym'}],\n",
       "  'xrefs': [{'id': 'apollosv:00000140', 'type': 'skos:exactMatch'}],\n",
       "  'suggested_unit': 'day',\n",
       "  'suggested_data_type': 'float',\n",
       "  'physical_min': 0.0,\n",
       "  'typical_min': 1.0,\n",
       "  'typical_max': 35.0}}"
      ]
     },
     "execution_count": 5,
     "metadata": {},
     "output_type": "execute_result"
    }
   ],
   "source": [
    "# Terms we want to find in MIRA and specific attributes we want to add to our local ontology\n",
    "terms = ['population', 'doubling time', 'recovery time', 'infectious time']\n",
    "attribs = ['description', 'synonyms', 'xrefs', 'suggested_unit', 'suggested_data_type',\n",
    "           'physical_min', 'physical_max', 'typical_min', 'typical_max']\n",
    "\n",
    "# The local ontology if filled up from the MIRA DKG\n",
    "LOCAL_ONTOLOGY = {\n",
    "    term: get_mira_dkg_term(term, attribs) for term in terms\n",
    "    }\n",
    "\n",
    "# We can also set further local / use-case specific constraints as needed\n",
    "LOCAL_ONTOLOGY['population']['typical_min'] = 1000\n",
    "LOCAL_ONTOLOGY['population']['typical_max'] = 40_000_000\n",
    "\n",
    "LOCAL_ONTOLOGY"
   ]
  },
  {
   "cell_type": "markdown",
   "id": "548265c9",
   "metadata": {
    "heading_collapsed": true,
    "pycharm": {
     "name": "#%% md\n"
    }
   },
   "source": [
    "# DEMO: Model-to-Resource Matching"
   ]
  },
  {
   "cell_type": "markdown",
   "id": "5a5345c2",
   "metadata": {
    "heading_collapsed": true
   },
   "source": [
    "# Demo Part 1: Ontology Matching"
   ]
  },
  {
   "cell_type": "markdown",
   "id": "5883ab69",
   "metadata": {
    "heading_collapsed": true,
    "hidden": true,
    "pycharm": {
     "name": "#%% md\n"
    }
   },
   "source": [
    "### 1a. Ontology to Gromet matching"
   ]
  },
  {
   "cell_type": "code",
   "execution_count": 6,
   "id": "96f5b6a2",
   "metadata": {
    "ExecuteTime": {
     "end_time": "2022-12-07T14:39:44.727657Z",
     "start_time": "2022-12-07T14:39:41.895205Z"
    },
    "hidden": true,
    "pycharm": {
     "name": "#%%\n"
    }
   },
   "outputs": [
    {
     "data": {
      "text/plain": [
       "[('population', {'s_n': 'grometSubObject'}, 1000.0, 81),\n",
       " ('infectious time', {'infections_days': 'grometSubObject'}, 14.0, 68)]"
      ]
     },
     "execution_count": 6,
     "metadata": {},
     "output_type": "execute_result"
    }
   ],
   "source": [
    "targets = ['population', 'infectious time']\n",
    "terms = list(LOCAL_ONTOLOGY.keys())\n",
    "\n",
    "parameters = set()\n",
    "var_dict = {}\n",
    "for nop in nops:\n",
    "    if nop[1] is not None:\n",
    "        parameters.add(nop[0])\n",
    "        var_dict[nop[0]] = nop\n",
    "\n",
    "discoveredParameterConnections = connect.match_gromet_targets(targets, list(parameters), var_dict, terms)\n",
    "discoveredParameterConnections"
   ]
  },
  {
   "cell_type": "markdown",
   "id": "f3aaac72",
   "metadata": {
    "hidden": true,
    "pycharm": {
     "name": "#%% md\n"
    }
   },
   "source": [
    "### 1b. Ontology to code matching"
   ]
  },
  {
   "cell_type": "code",
   "execution_count": 7,
   "id": "78013b24",
   "metadata": {
    "ExecuteTime": {
     "end_time": "2022-12-07T14:39:56.241810Z",
     "start_time": "2022-12-07T14:39:49.100399Z"
    },
    "hidden": true,
    "pycharm": {
     "name": "#%%\n"
    }
   },
   "outputs": [
    {
     "name": "stdout",
     "output_type": "stream",
     "text": [
      "Extracted variables:  [(3, 'inv_contact_rate', '1.0'), (11, 'growth_rate', '0'), (13, 'growth_rate', '2.0'), (34, 'index', '0'), (35, 'p_idx', '0'), (41, 'd_idx', '0'), (64, 'i_day', '17.0'), (65, 'n_days', '20'), (66, 'N_p', '3'), (67, 'N_t', '121'), (68, 'infections_days', '14.0'), (69, 'relative_contact_rate', '0.05'), (70, 'gamma', '1.0'), (81, 's_n', '1000'), (82, 'i_n', '1'), (83, 'r_n', '1'), (85, 'p_idx', '0')]\n"
     ]
    },
    {
     "data": {
      "text/plain": [
       "[('population', {'s_n': 'grometSubObject'}, 1000.0, 81),\n",
       " ('infectious time', {'infections_days': 'grometSubObject'}, 14.0, 68)]"
      ]
     },
     "execution_count": 7,
     "metadata": {},
     "output_type": "execute_result"
    }
   ],
   "source": [
    "code = \"model/SIR/CHIME_SIR_while_loop.py\"\n",
    "targets = ['population', 'infectious time']\n",
    "discoveredParameterConnections = []\n",
    "try:\n",
    "    discoveredParameterConnections = connect.match_code_targets(targets, code, terms)\n",
    "except OpenAIError as err:\n",
    "    print(\"OpenAI connection error:\", err)\n",
    "    print(\"Using hard-coded connections\")\n",
    "    discoveredParameterConnections = [(\"infectious time\", {\"name\": \"grometSubObject\"}, 14.0, 67),(\"population\", {\"name\": \"grometSubObject\"}, 1000, 80)]\n",
    "\n",
    "discoveredParameterConnections"
   ]
  },
  {
   "cell_type": "markdown",
   "id": "c29fa643",
   "metadata": {
    "heading_collapsed": true
   },
   "source": [
    "# Demo Part 2: Formula-to-Model Matching"
   ]
  },
  {
   "cell_type": "markdown",
   "id": "e7513cf9",
   "metadata": {
    "hidden": true,
    "pycharm": {
     "name": "#%% md\n"
    }
   },
   "source": [
    "## We need the CHIME SVIIvR model..."
   ]
  },
  {
   "cell_type": "code",
   "execution_count": 34,
   "id": "c4a48e76",
   "metadata": {
    "ExecuteTime": {
     "end_time": "2022-12-07T15:04:32.505824Z",
     "start_time": "2022-12-07T15:04:32.502619Z"
    },
    "hidden": true,
    "pycharm": {
     "name": "#%%\n"
    }
   },
   "outputs": [
    {
     "name": "stdout",
     "output_type": "stream",
     "text": [
      "import sys\n",
      "from csv import DictWriter, QUOTE_NONNUMERIC\n",
      "\n",
      "def get_beta(intrinsic_growth_rate, gamma, susceptible, relative_contact_rate):\n",
      "    \"\"\"\n",
      "    Calculates a rate of exposure given an intrinsic growth rate for COVID-19\n",
      "    :param intrinsic_growth_rate: Rate of spread of COVID-19 cases\n",
      "    :param gamma: The expected recovery rate from COVID-19 for infected individuals\n",
      "    :param susceptible: Current amount of individuals that are susceptible\n",
      "    :param relative_contact_rate: The relative contact rate amongst individuals in the population\n",
      "    :return: beta: The rate of exposure of individuals to persons infected with COVID-19\n",
      "    \"\"\"\n",
      "    inv_contact_rate = 1.0 - relative_contact_rate  # The inverse rate of contact between individuals in the population ## get_beta_icr_exp\n",
      "    updated_growth_rate = intrinsic_growth_rate + gamma  # The intrinsic growth rate adjusted for the recovery rate from infection ## get_beta_ugr_exp\n",
      "    beta = updated_growth_rate / susceptible * inv_contact_rate  ## get_beta_beta_exp\n",
      "\n",
      "    return beta\n",
      "\n",
      "\n",
      "def get_growth_rate(doubling_time):\n",
      "    \"\"\"\n",
      "    Calculate the expected growth rate of COVID-19 infections given a doubling time\n",
      "    :param doubling_time: The time required for the amount of COVID-19 cases to double\n",
      "    :return: growth_rate: Rate of spread of COVID-19 cases.\n",
      "    \"\"\"\n",
      "    ## ggr_cond\n",
      "    if doubling_time == 0:  ## ggr_cond_b0_cond\n",
      "        growth_rate = 0  ## ggr_cond_b0_exp\n",
      "    else:\n",
      "        growth_rate = 2.0 ** (1.0 / doubling_time) - 1.0  ## ggr_cond_b1_exp\n",
      "\n",
      "    return growth_rate\n",
      "\n",
      "\n",
      "def sir(s, v, i, i_v, r, vaccination_rate, beta, gamma_unvaccinated, gamma_vaccinated, vaccine_efficacy, n):\n",
      "    \"\"\"\n",
      "    The SIR model, one time step\n",
      "    :param s: Current amount of individuals that are susceptible\n",
      "    :param v: Current amount of individuals that are vaccinated\n",
      "    :param i: Current amount of individuals that are infectious\n",
      "    :param i_v: Current amount of vaccinated individuals that are infectious\n",
      "    :param r: Current amount of individuals that are recovered\n",
      "    :param beta: The rate of exposure of individuals to persons infected with COVID-19\n",
      "    :param gamma_unvaccinated: Rate of recovery for infected unvaccinated individuals\n",
      "    :param gamma_vaccinated: Rate of recovery for infected vaccinated individuals\n",
      "    :param vaccination_rate: The rate of vaccination of susceptible individuals\n",
      "    :param vaccine_efficacy: The efficacy of the vaccine\n",
      "    :param n: Total population size\n",
      "    :return:\n",
      "    \"\"\"\n",
      "    s_n = (\n",
      "                      -beta * s * i - beta * s * i_v - vaccination_rate * s) + s  # Update to the amount of individuals that are susceptible ## sir_s_n_exp\n",
      "    v_n = (vaccination_rate * s - beta * (1 - vaccine_efficacy) * v * i - beta * (\n",
      "                1 - vaccine_efficacy) * v * i_v) + v  # Update to the amount of individuals that are susceptible ## sir_v_n_exp\n",
      "    i_n = (\n",
      "                      beta * s * i + beta * s * i_v - gamma_unvaccinated * i) + i  # Update to the amount of individuals that are infectious ## sir_i_n_exp\n",
      "    i_v_n = (beta * (1 - vaccine_efficacy) * v * i + beta * (\n",
      "                1 - vaccine_efficacy) * v * i_v - gamma_vaccinated * i_v) + i_v  # Update to the amount of individuals that are infectious ## sir_i_v_n_exp\n",
      "    r_n = gamma_vaccinated * i_v + gamma_unvaccinated * i + r  # Update to the amount of individuals that are recovered ## sir_r_n_exp\n",
      "\n",
      "    scale = n / (\n",
      "                s_n + v_n + i_n + i_v_n + r_n)  # A scaling factor to compute updated disease variables ## sir_scale_exp\n",
      "\n",
      "    s = s_n * scale  ## sir_s_exp\n",
      "    v = v_n * scale  ## sir_v_exp\n",
      "    i = i_n * scale  ## sir_i_exp\n",
      "    i_v = i_v_n * scale  ## sir_i_v_exp\n",
      "    r = r_n * scale  ## sir_r_exp\n",
      "    return s, v, i, i_v, r\n",
      "\n",
      "\n",
      "def sim_sir(s, v, i, i_v, r, vaccination_rate, gamma_unvaccinated, gamma_vaccinated, vaccine_efficacy, i_day,\n",
      "            ### original inputs\n",
      "            N_p, betas, days,  ### changes to original CHIME sim_sir to simplify policy bookkeeping\n",
      "            d_a, s_a, v_a, i_a, i_v_a, r_a, e_a,\n",
      "            ### changes to original CHIME sim_sir simulation bookkeeping - here, bookkeeping represented as lists that are passed in as arguments\n",
      "            ):\n",
      "    n = s + v + i + i_v + r  ## simsir_n_exp\n",
      "    d = i_day  ## simsir_d_exp\n",
      "\n",
      "    ### total_days from original CHIME sim_sir was used to determine the size of the\n",
      "    ### the state bookkeeping across the simulation.\n",
      "    ### Here, the array size is for this bookkeeping is determined outside of sim_sir\n",
      "    ### and the arrays are passed in as arguments.\n",
      "\n",
      "    index = 0  ## simsir_idx_exp\n",
      "    for p_idx in range(N_p):  ## simsir_loop_1\n",
      "        beta = betas[p_idx]  ## simsir_loop_1_beta_exp\n",
      "        n_days = days[p_idx]  ## simsir_loop_1_N_d_exp\n",
      "        for d_idx in range(n_days):  ## simsir_loop_1_1\n",
      "            d_a[index] = d  ## simsir_loop_1_1_T_exp\n",
      "            s_a[index] = s  ## simsir_loop_1_1_S_exp\n",
      "            v_a[index] = v  ## simsir_loop_1_1_V_exp\n",
      "            i_a[index] = i  ## simsir_loop_1_1_I_exp\n",
      "            i_v_a[index] = i_v  ## simsir_loop_1_1_I_V_exp\n",
      "            r_a[index] = r  ## simsir_loop_1_1_R_exp\n",
      "            e_a[\n",
      "                index] = i + i_v + r  # updated \"ever\" infected (= i + i_v + r)  ### In CHIME sir.py, this is performed at end as sum of two numpy arrays; here perform iteratively\n",
      "\n",
      "            index += 1  ## simsir_loop_1_1_idx_exp\n",
      "\n",
      "            s, v, i, i_v, r = sir(s, v, i, i_v, r, vaccination_rate, beta, gamma_unvaccinated, gamma_vaccinated,\n",
      "                                  vaccine_efficacy, n)  ## simsir_loop_1_1_call_sir_exp\n",
      "\n",
      "            d += 1  ## simsir_loop_1_1_d_exp\n",
      "\n",
      "    # Record the last update (since sir() is called at the tail of the inner loop above)\n",
      "    d_a[index] = d  ## simsir_T_exp\n",
      "    s_a[index] = s  ## simsir_S_exp\n",
      "    v_a[index] = v  ## simsir_V_exp\n",
      "    i_a[index] = i  ## simsir_I_exp\n",
      "    i_v_a[index] = i_v  ## simsir_I_exp\n",
      "    r_a[index] = r  ## simsir_R_exp\n",
      "\n",
      "    return s, v, i, i_v, r, d_a, s_a, v_a, i_a, i_v_a, r_a, e_a  ### return\n",
      "\n",
      "\n",
      "def main():\n",
      "    \"\"\"\n",
      "    implements generic CHIME configuration without hospitalization calculation\n",
      "    initializes parameters and population, calculates policy, and runs dynamics\n",
      "    :return:\n",
      "    \"\"\"\n",
      "    ###\n",
      "\n",
      "    # initial parameters\n",
      "    i_day = 17.0  ## main_i_day_exp\n",
      "    n_days = [14, 90]  ## main_n_days_exp\n",
      "    N_p = 2  ## main_N_p_exp\n",
      "    N_t = sum(n_days) + 1  ## main_N_t_exp\n",
      "    infectious_days_unvaccinated = 14  ## main_inf_days_u_exp\n",
      "    infectious_days_vaccinated = 10  ## main_inf_days_v_exp\n",
      "    relative_contact_rate = [0.0, 0.45]  ## main_rcr_exp\n",
      "    gamma_unvaccinated = 1.0 / infectious_days_unvaccinated  ## main_gamma_u_exp\n",
      "    gamma_vaccinated = 1.0 / infectious_days_vaccinated  ## main_gamma_v_exp\n",
      "\n",
      "    # Vaccination parameters\n",
      "    vaccination_rate = 0.02  ## main_vaccination_rate_exp\n",
      "    vaccine_efficacy = 0.85  ## main_vaccine_efficacy_exp\n",
      "\n",
      "    # initialize lists for policy and simulation state bookkeeping\n",
      "    policys_betas = [0.0] * N_p  ## TODO size      # main_pbetas_seq\n",
      "    policy_days = [0] * N_p  ## main_pdays_seq\n",
      "    d_a = [0.0] * N_t  ## main_T_seq\n",
      "    s_a = [0.0] * N_t  ## main_S_seq\n",
      "    v_a = [0.0] * N_t  ## main_V_seq\n",
      "    i_a = [0.0] * N_t  ## main_I_seq\n",
      "    i_v_a = [0.0] * N_t  ## main_I_V_seq\n",
      "    r_a = [0.0] * N_t  ## main_R_seq\n",
      "    e_a = [0.0] * N_t  # \"ever\" infected (= I + R) ## main_E_seq\n",
      "\n",
      "    # initial population\n",
      "    s_n = 1000  ## main_s_n_exp\n",
      "    v_n = 0  ## main_v_n_exp\n",
      "    i_n = 1  ## main_i_n_exp\n",
      "    i_v_n = 0  ## main_i_v_n_exp\n",
      "    r_n = 0  ## main_r_n_exp\n",
      "\n",
      "    # calculate beta under policy\n",
      "    for p_idx in range(N_p):  ## main_loop_1\n",
      "        doubling_time = 2\n",
      "\n",
      "        growth_rate = get_growth_rate(doubling_time)  ## main_loop_1_gr_exp\n",
      "        beta = get_beta(growth_rate, gamma_unvaccinated, s_n,  ## main_loop_1_beta_exp\n",
      "                        relative_contact_rate[p_idx])\n",
      "        policys_betas[p_idx] = beta  ## main_loop_1_pbetas_exp\n",
      "        policy_days[p_idx] = n_days[p_idx]  ## main_loop_1_pdays_exp\n",
      "\n",
      "    # simulate dynamics (corresponding roughly to run_projection() )\n",
      "    s_n, v_n, i_n, i_v_n, r_n, d_a, s_a, v_a, i_a, i_v_a, r_a, e_a \\\n",
      "        = sim_sir(s_n, v_n, i_n, i_v_n, r_n, vaccination_rate, gamma_unvaccinated, gamma_vaccinated, vaccine_efficacy,\n",
      "                  i_day,  ## main_call_simsir_exp\n",
      "                  N_p, policys_betas, policy_days,\n",
      "                  d_a, s_a, v_a, i_a, i_v_a, r_a, e_a)\n",
      "\n",
      "    return d_a, s_a, v_a, i_a, i_v_a, r_a, e_a  # return simulated dynamics\n",
      "\n",
      "\n",
      "if __name__ == '__main__':\n",
      "    outfile = sys.argv[1]\n",
      "\n",
      "    d_a, s_a, v_a, i_a, i_v_a, r_a, e_a = main()\n",
      "\n",
      "    out_data = list()\n",
      "    keys = ['d', 's', 'v', 'i', 'i_v', 'r', 'e']\n",
      "    data_tuples = zip(d_a, s_a, v_a, i_a, i_v_a, r_a, e_a)\n",
      "    for dat in data_tuples:\n",
      "        out_data.append(\n",
      "            dict(zip(keys, dat))\n",
      "        )\n",
      "\n",
      "    with open(outfile, 'w') as csvfile:\n",
      "        writer = DictWriter(csvfile, fieldnames=keys, quoting=QUOTE_NONNUMERIC)\n",
      "        writer.writeheader()\n",
      "        writer.writerows(out_data)\n"
     ]
    }
   ],
   "source": [
    "print(CHIME_SVIIvR_model_source)\n"
   ]
  },
  {
   "cell_type": "markdown",
   "id": "9ae538ae",
   "metadata": {
    "hidden": true
   },
   "source": [
    "## And a document with some descriptive formulas... "
   ]
  },
  {
   "cell_type": "code",
   "execution_count": 35,
   "id": "93251b02",
   "metadata": {
    "ExecuteTime": {
     "end_time": "2022-12-07T15:04:36.168190Z",
     "start_time": "2022-12-07T15:04:36.164088Z"
    },
    "hidden": true
   },
   "outputs": [
    {
     "data": {
      "text/html": [
       "\n",
       "        <iframe\n",
       "            width=\"600\"\n",
       "            height=\"300\"\n",
       "            src=\"model/SVIIvR/CHIME_SVIIvR_model_equations.pdf\"\n",
       "            frameborder=\"0\"\n",
       "            allowfullscreen\n",
       "            \n",
       "        ></iframe>\n",
       "        "
      ],
      "text/plain": [
       "<IPython.lib.display.IFrame at 0x12b0f2d60>"
      ]
     },
     "execution_count": 35,
     "metadata": {},
     "output_type": "execute_result"
    }
   ],
   "source": [
    "IFrame(CHIME_SVIIvR_FORMULAS_PDF_DOC, width=600, height=300)\n"
   ]
  },
  {
   "cell_type": "markdown",
   "id": "6f131c70",
   "metadata": {
    "hidden": true
   },
   "source": [
    "## We used a tool to extract the source LaTeX from the PDF..."
   ]
  },
  {
   "cell_type": "code",
   "execution_count": 36,
   "id": "c8c5df99",
   "metadata": {
    "ExecuteTime": {
     "end_time": "2022-12-07T15:04:58.939783Z",
     "start_time": "2022-12-07T15:04:58.936767Z"
    },
    "hidden": true,
    "pycharm": {
     "name": "#%%\n"
    }
   },
   "outputs": [
    {
     "name": "stdout",
     "output_type": "stream",
     "text": [
      "1\tS^\\prime &=& - \\beta S I - \\beta S I_{v} - v_{r} S\n",
      "2\tV^\\prime &=& v_{r} S - v_{s} V I - v_{s} V I_{v}\n",
      "3\tI^\\prime &=& \\beta S I + \\beta S I_{v} - \\gamma I\n",
      "4\tI_{v}^\\prime &=& v_{s} V I + v_{s} V I_{v} - \\gamma I_{v}\n",
      "5\tR^\\prime &=& \\gamma I + \\gamma I_v\n",
      "\n"
     ]
    }
   ],
   "source": [
    "print(CHIME_SVIIvR_FORMULAS_LATEX)\n"
   ]
  },
  {
   "cell_type": "markdown",
   "id": "06ab3d0a",
   "metadata": {
    "hidden": true
   },
   "source": [
    "## Finally, we can find connections between the model and its descriptive formulas"
   ]
  },
  {
   "cell_type": "code",
   "execution_count": 33,
   "id": "fdaa2137",
   "metadata": {
    "ExecuteTime": {
     "end_time": "2022-12-07T15:00:49.836748Z",
     "start_time": "2022-12-07T15:00:49.751149Z"
    },
    "hidden": true,
    "pycharm": {
     "name": "#%%\n"
    }
   },
   "outputs": [
    {
     "ename": "OSError",
     "evalue": "[Errno 63] File name too long: 'import sys\\nfrom csv import DictWriter, QUOTE_NONNUMERIC\\n\\ndef get_beta(intrinsic_growth_rate, gamma, susceptible, relative_contact_rate):\\n    \"\"\"\\n    Calculates a rate of exposure given an intrinsic growth rate for COVID-19\\n    :param intrinsic_growth_rate: Rate of spread of COVID-19 cases\\n    :param gamma: The expected recovery rate from COVID-19 for infected individuals\\n    :param susceptible: Current amount of individuals that are susceptible\\n    :param relative_contact_rate: The relative contact rate amongst individuals in the population\\n    :return: beta: The rate of exposure of individuals to persons infected with COVID-19\\n    \"\"\"\\n    inv_contact_rate = 1.0 - relative_contact_rate  # The inverse rate of contact between individuals in the population ## get_beta_icr_exp\\n    updated_growth_rate = intrinsic_growth_rate + gamma  # The intrinsic growth rate adjusted for the recovery rate from infection ## get_beta_ugr_exp\\n    beta = updated_growth_rate / susceptible * inv_contact_rate  ## get_beta_beta_exp\\n\\n    return beta\\n\\n\\ndef get_growth_rate(doubling_time):\\n    \"\"\"\\n    Calculate the expected growth rate of COVID-19 infections given a doubling time\\n    :param doubling_time: The time required for the amount of COVID-19 cases to double\\n    :return: growth_rate: Rate of spread of COVID-19 cases.\\n    \"\"\"\\n    ## ggr_cond\\n    if doubling_time == 0:  ## ggr_cond_b0_cond\\n        growth_rate = 0  ## ggr_cond_b0_exp\\n    else:\\n        growth_rate = 2.0 ** (1.0 / doubling_time) - 1.0  ## ggr_cond_b1_exp\\n\\n    return growth_rate\\n\\n\\ndef sir(s, v, i, i_v, r, vaccination_rate, beta, gamma_unvaccinated, gamma_vaccinated, vaccine_efficacy, n):\\n    \"\"\"\\n    The SIR model, one time step\\n    :param s: Current amount of individuals that are susceptible\\n    :param v: Current amount of individuals that are vaccinated\\n    :param i: Current amount of individuals that are infectious\\n    :param i_v: Current amount of vaccinated individuals that are infectious\\n    :param r: Current amount of individuals that are recovered\\n    :param beta: The rate of exposure of individuals to persons infected with COVID-19\\n    :param gamma_unvaccinated: Rate of recovery for infected unvaccinated individuals\\n    :param gamma_vaccinated: Rate of recovery for infected vaccinated individuals\\n    :param vaccination_rate: The rate of vaccination of susceptible individuals\\n    :param vaccine_efficacy: The efficacy of the vaccine\\n    :param n: Total population size\\n    :return:\\n    \"\"\"\\n    s_n = (\\n                      -beta * s * i - beta * s * i_v - vaccination_rate * s) + s  # Update to the amount of individuals that are susceptible ## sir_s_n_exp\\n    v_n = (vaccination_rate * s - beta * (1 - vaccine_efficacy) * v * i - beta * (\\n                1 - vaccine_efficacy) * v * i_v) + v  # Update to the amount of individuals that are susceptible ## sir_v_n_exp\\n    i_n = (\\n                      beta * s * i + beta * s * i_v - gamma_unvaccinated * i) + i  # Update to the amount of individuals that are infectious ## sir_i_n_exp\\n    i_v_n = (beta * (1 - vaccine_efficacy) * v * i + beta * (\\n                1 - vaccine_efficacy) * v * i_v - gamma_vaccinated * i_v) + i_v  # Update to the amount of individuals that are infectious ## sir_i_v_n_exp\\n    r_n = gamma_vaccinated * i_v + gamma_unvaccinated * i + r  # Update to the amount of individuals that are recovered ## sir_r_n_exp\\n\\n    scale = n / (\\n                s_n + v_n + i_n + i_v_n + r_n)  # A scaling factor to compute updated disease variables ## sir_scale_exp\\n\\n    s = s_n * scale  ## sir_s_exp\\n    v = v_n * scale  ## sir_v_exp\\n    i = i_n * scale  ## sir_i_exp\\n    i_v = i_v_n * scale  ## sir_i_v_exp\\n    r = r_n * scale  ## sir_r_exp\\n    return s, v, i, i_v, r\\n\\n\\ndef sim_sir(s, v, i, i_v, r, vaccination_rate, gamma_unvaccinated, gamma_vaccinated, vaccine_efficacy, i_day,\\n            ### original inputs\\n            N_p, betas, days,  ### changes to original CHIME sim_sir to simplify policy bookkeeping\\n            d_a, s_a, v_a, i_a, i_v_a, r_a, e_a,\\n            ### changes to original CHIME sim_sir simulation bookkeeping - here, bookkeeping represented as lists that are passed in as arguments\\n            ):\\n    n = s + v + i + i_v + r  ## simsir_n_exp\\n    d = i_day  ## simsir_d_exp\\n\\n    ### total_days from original CHIME sim_sir was used to determine the size of the\\n    ### the state bookkeeping across the simulation.\\n    ### Here, the array size is for this bookkeeping is determined outside of sim_sir\\n    ### and the arrays are passed in as arguments.\\n\\n    index = 0  ## simsir_idx_exp\\n    for p_idx in range(N_p):  ## simsir_loop_1\\n        beta = betas[p_idx]  ## simsir_loop_1_beta_exp\\n        n_days = days[p_idx]  ## simsir_loop_1_N_d_exp\\n        for d_idx in range(n_days):  ## simsir_loop_1_1\\n            d_a[index] = d  ## simsir_loop_1_1_T_exp\\n            s_a[index] = s  ## simsir_loop_1_1_S_exp\\n            v_a[index] = v  ## simsir_loop_1_1_V_exp\\n            i_a[index] = i  ## simsir_loop_1_1_I_exp\\n            i_v_a[index] = i_v  ## simsir_loop_1_1_I_V_exp\\n            r_a[index] = r  ## simsir_loop_1_1_R_exp\\n            e_a[\\n                index] = i + i_v + r  # updated \"ever\" infected (= i + i_v + r)  ### In CHIME sir.py, this is performed at end as sum of two numpy arrays; here perform iteratively\\n\\n            index += 1  ## simsir_loop_1_1_idx_exp\\n\\n            s, v, i, i_v, r = sir(s, v, i, i_v, r, vaccination_rate, beta, gamma_unvaccinated, gamma_vaccinated,\\n                                  vaccine_efficacy, n)  ## simsir_loop_1_1_call_sir_exp\\n\\n            d += 1  ## simsir_loop_1_1_d_exp\\n\\n    # Record the last update (since sir() is called at the tail of the inner loop above)\\n    d_a[index] = d  ## simsir_T_exp\\n    s_a[index] = s  ## simsir_S_exp\\n    v_a[index] = v  ## simsir_V_exp\\n    i_a[index] = i  ## simsir_I_exp\\n    i_v_a[index] = i_v  ## simsir_I_exp\\n    r_a[index] = r  ## simsir_R_exp\\n\\n    return s, v, i, i_v, r, d_a, s_a, v_a, i_a, i_v_a, r_a, e_a  ### return\\n\\n\\ndef main():\\n    \"\"\"\\n    implements generic CHIME configuration without hospitalization calculation\\n    initializes parameters and population, calculates policy, and runs dynamics\\n    :return:\\n    \"\"\"\\n    ###\\n\\n    # initial parameters\\n    i_day = 17.0  ## main_i_day_exp\\n    n_days = [14, 90]  ## main_n_days_exp\\n    N_p = 2  ## main_N_p_exp\\n    N_t = sum(n_days) + 1  ## main_N_t_exp\\n    infectious_days_unvaccinated = 14  ## main_inf_days_u_exp\\n    infectious_days_vaccinated = 10  ## main_inf_days_v_exp\\n    relative_contact_rate = [0.0, 0.45]  ## main_rcr_exp\\n    gamma_unvaccinated = 1.0 / infectious_days_unvaccinated  ## main_gamma_u_exp\\n    gamma_vaccinated = 1.0 / infectious_days_vaccinated  ## main_gamma_v_exp\\n\\n    # Vaccination parameters\\n    vaccination_rate = 0.02  ## main_vaccination_rate_exp\\n    vaccine_efficacy = 0.85  ## main_vaccine_efficacy_exp\\n\\n    # initialize lists for policy and simulation state bookkeeping\\n    policys_betas = [0.0] * N_p  ## TODO size      # main_pbetas_seq\\n    policy_days = [0] * N_p  ## main_pdays_seq\\n    d_a = [0.0] * N_t  ## main_T_seq\\n    s_a = [0.0] * N_t  ## main_S_seq\\n    v_a = [0.0] * N_t  ## main_V_seq\\n    i_a = [0.0] * N_t  ## main_I_seq\\n    i_v_a = [0.0] * N_t  ## main_I_V_seq\\n    r_a = [0.0] * N_t  ## main_R_seq\\n    e_a = [0.0] * N_t  # \"ever\" infected (= I + R) ## main_E_seq\\n\\n    # initial population\\n    s_n = 1000  ## main_s_n_exp\\n    v_n = 0  ## main_v_n_exp\\n    i_n = 1  ## main_i_n_exp\\n    i_v_n = 0  ## main_i_v_n_exp\\n    r_n = 0  ## main_r_n_exp\\n\\n    # calculate beta under policy\\n    for p_idx in range(N_p):  ## main_loop_1\\n        doubling_time = 2\\n\\n        growth_rate = get_growth_rate(doubling_time)  ## main_loop_1_gr_exp\\n        beta = get_beta(growth_rate, gamma_unvaccinated, s_n,  ## main_loop_1_beta_exp\\n                        relative_contact_rate[p_idx])\\n        policys_betas[p_idx] = beta  ## main_loop_1_pbetas_exp\\n        policy_days[p_idx] = n_days[p_idx]  ## main_loop_1_pdays_exp\\n\\n    # simulate dynamics (corresponding roughly to run_projection() )\\n    s_n, v_n, i_n, i_v_n, r_n, d_a, s_a, v_a, i_a, i_v_a, r_a, e_a \\\\\\n        = sim_sir(s_n, v_n, i_n, i_v_n, r_n, vaccination_rate, gamma_unvaccinated, gamma_vaccinated, vaccine_efficacy,\\n                  i_day,  ## main_call_simsir_exp\\n                  N_p, policys_betas, policy_days,\\n                  d_a, s_a, v_a, i_a, i_v_a, r_a, e_a)\\n\\n    return d_a, s_a, v_a, i_a, i_v_a, r_a, e_a  # return simulated dynamics\\n\\n\\nif __name__ == \\'__main__\\':\\n    outfile = sys.argv[1]\\n\\n    d_a, s_a, v_a, i_a, i_v_a, r_a, e_a = main()\\n\\n    out_data = list()\\n    keys = [\\'d\\', \\'s\\', \\'v\\', \\'i\\', \\'i_v\\', \\'r\\', \\'e\\']\\n    data_tuples = zip(d_a, s_a, v_a, i_a, i_v_a, r_a, e_a)\\n    for dat in data_tuples:\\n        out_data.append(\\n            dict(zip(keys, dat))\\n        )\\n\\n    with open(outfile, \\'w\\') as csvfile:\\n        writer = DictWriter(csvfile, fieldnames=keys, quoting=QUOTE_NONNUMERIC)\\n        writer.writeheader()\\n        writer.writerows(out_data)'",
     "output_type": "error",
     "traceback": [
      "\u001b[0;31m---------------------------------------------------------------------------\u001b[0m",
      "\u001b[0;31mOSError\u001b[0m                                   Traceback (most recent call last)",
      "Input \u001b[0;32mIn [33]\u001b[0m, in \u001b[0;36m<cell line: 1>\u001b[0;34m()\u001b[0m\n\u001b[0;32m----> 1\u001b[0m \u001b[43mconnect\u001b[49m\u001b[38;5;241;43m.\u001b[39;49m\u001b[43mformula_code_connection\u001b[49m\u001b[43m(\u001b[49m\u001b[43mCHIME_SVIIvR_model_source\u001b[49m\u001b[43m,\u001b[49m\u001b[43m \u001b[49m\u001b[43mCHIME_FORMULAS_LATEX\u001b[49m\u001b[43m)\u001b[49m\n",
      "File \u001b[0;32m~/lincoln/work/2022/mitaskem/src/connect.py:224\u001b[0m, in \u001b[0;36mformula_code_connection\u001b[0;34m(code, formula)\u001b[0m\n\u001b[1;32m    223\u001b[0m \u001b[38;5;28;01mdef\u001b[39;00m \u001b[38;5;21mformula_code_connection\u001b[39m(code, formula):\n\u001b[0;32m--> 224\u001b[0m     code_str \u001b[38;5;241m=\u001b[39m \u001b[43mread_text_from_file\u001b[49m\u001b[43m(\u001b[49m\u001b[43mcode\u001b[49m\u001b[43m)\u001b[49m\n\u001b[1;32m    225\u001b[0m     formula_text \u001b[38;5;241m=\u001b[39m read_text_from_file(formula)\n\u001b[1;32m    226\u001b[0m     flist \u001b[38;5;241m=\u001b[39m read_lines(formula)\n",
      "File \u001b[0;32m~/lincoln/work/2022/mitaskem/src/connect.py:31\u001b[0m, in \u001b[0;36mread_text_from_file\u001b[0;34m(text_path)\u001b[0m\n\u001b[1;32m     30\u001b[0m \u001b[38;5;28;01mdef\u001b[39;00m \u001b[38;5;21mread_text_from_file\u001b[39m(text_path):\n\u001b[0;32m---> 31\u001b[0m     text_file \u001b[38;5;241m=\u001b[39m \u001b[38;5;28;43mopen\u001b[39;49m\u001b[43m(\u001b[49m\u001b[43mtext_path\u001b[49m\u001b[43m,\u001b[49m\u001b[43m \u001b[49m\u001b[38;5;124;43m\"\u001b[39;49m\u001b[38;5;124;43mr\u001b[39;49m\u001b[38;5;124;43m\"\u001b[39;49m\u001b[43m)\u001b[49m\n\u001b[1;32m     32\u001b[0m     prompt \u001b[38;5;241m=\u001b[39m text_file\u001b[38;5;241m.\u001b[39mread()\n\u001b[1;32m     33\u001b[0m     \u001b[38;5;28;01mreturn\u001b[39;00m prompt\n",
      "\u001b[0;31mOSError\u001b[0m: [Errno 63] File name too long: 'import sys\\nfrom csv import DictWriter, QUOTE_NONNUMERIC\\n\\ndef get_beta(intrinsic_growth_rate, gamma, susceptible, relative_contact_rate):\\n    \"\"\"\\n    Calculates a rate of exposure given an intrinsic growth rate for COVID-19\\n    :param intrinsic_growth_rate: Rate of spread of COVID-19 cases\\n    :param gamma: The expected recovery rate from COVID-19 for infected individuals\\n    :param susceptible: Current amount of individuals that are susceptible\\n    :param relative_contact_rate: The relative contact rate amongst individuals in the population\\n    :return: beta: The rate of exposure of individuals to persons infected with COVID-19\\n    \"\"\"\\n    inv_contact_rate = 1.0 - relative_contact_rate  # The inverse rate of contact between individuals in the population ## get_beta_icr_exp\\n    updated_growth_rate = intrinsic_growth_rate + gamma  # The intrinsic growth rate adjusted for the recovery rate from infection ## get_beta_ugr_exp\\n    beta = updated_growth_rate / susceptible * inv_contact_rate  ## get_beta_beta_exp\\n\\n    return beta\\n\\n\\ndef get_growth_rate(doubling_time):\\n    \"\"\"\\n    Calculate the expected growth rate of COVID-19 infections given a doubling time\\n    :param doubling_time: The time required for the amount of COVID-19 cases to double\\n    :return: growth_rate: Rate of spread of COVID-19 cases.\\n    \"\"\"\\n    ## ggr_cond\\n    if doubling_time == 0:  ## ggr_cond_b0_cond\\n        growth_rate = 0  ## ggr_cond_b0_exp\\n    else:\\n        growth_rate = 2.0 ** (1.0 / doubling_time) - 1.0  ## ggr_cond_b1_exp\\n\\n    return growth_rate\\n\\n\\ndef sir(s, v, i, i_v, r, vaccination_rate, beta, gamma_unvaccinated, gamma_vaccinated, vaccine_efficacy, n):\\n    \"\"\"\\n    The SIR model, one time step\\n    :param s: Current amount of individuals that are susceptible\\n    :param v: Current amount of individuals that are vaccinated\\n    :param i: Current amount of individuals that are infectious\\n    :param i_v: Current amount of vaccinated individuals that are infectious\\n    :param r: Current amount of individuals that are recovered\\n    :param beta: The rate of exposure of individuals to persons infected with COVID-19\\n    :param gamma_unvaccinated: Rate of recovery for infected unvaccinated individuals\\n    :param gamma_vaccinated: Rate of recovery for infected vaccinated individuals\\n    :param vaccination_rate: The rate of vaccination of susceptible individuals\\n    :param vaccine_efficacy: The efficacy of the vaccine\\n    :param n: Total population size\\n    :return:\\n    \"\"\"\\n    s_n = (\\n                      -beta * s * i - beta * s * i_v - vaccination_rate * s) + s  # Update to the amount of individuals that are susceptible ## sir_s_n_exp\\n    v_n = (vaccination_rate * s - beta * (1 - vaccine_efficacy) * v * i - beta * (\\n                1 - vaccine_efficacy) * v * i_v) + v  # Update to the amount of individuals that are susceptible ## sir_v_n_exp\\n    i_n = (\\n                      beta * s * i + beta * s * i_v - gamma_unvaccinated * i) + i  # Update to the amount of individuals that are infectious ## sir_i_n_exp\\n    i_v_n = (beta * (1 - vaccine_efficacy) * v * i + beta * (\\n                1 - vaccine_efficacy) * v * i_v - gamma_vaccinated * i_v) + i_v  # Update to the amount of individuals that are infectious ## sir_i_v_n_exp\\n    r_n = gamma_vaccinated * i_v + gamma_unvaccinated * i + r  # Update to the amount of individuals that are recovered ## sir_r_n_exp\\n\\n    scale = n / (\\n                s_n + v_n + i_n + i_v_n + r_n)  # A scaling factor to compute updated disease variables ## sir_scale_exp\\n\\n    s = s_n * scale  ## sir_s_exp\\n    v = v_n * scale  ## sir_v_exp\\n    i = i_n * scale  ## sir_i_exp\\n    i_v = i_v_n * scale  ## sir_i_v_exp\\n    r = r_n * scale  ## sir_r_exp\\n    return s, v, i, i_v, r\\n\\n\\ndef sim_sir(s, v, i, i_v, r, vaccination_rate, gamma_unvaccinated, gamma_vaccinated, vaccine_efficacy, i_day,\\n            ### original inputs\\n            N_p, betas, days,  ### changes to original CHIME sim_sir to simplify policy bookkeeping\\n            d_a, s_a, v_a, i_a, i_v_a, r_a, e_a,\\n            ### changes to original CHIME sim_sir simulation bookkeeping - here, bookkeeping represented as lists that are passed in as arguments\\n            ):\\n    n = s + v + i + i_v + r  ## simsir_n_exp\\n    d = i_day  ## simsir_d_exp\\n\\n    ### total_days from original CHIME sim_sir was used to determine the size of the\\n    ### the state bookkeeping across the simulation.\\n    ### Here, the array size is for this bookkeeping is determined outside of sim_sir\\n    ### and the arrays are passed in as arguments.\\n\\n    index = 0  ## simsir_idx_exp\\n    for p_idx in range(N_p):  ## simsir_loop_1\\n        beta = betas[p_idx]  ## simsir_loop_1_beta_exp\\n        n_days = days[p_idx]  ## simsir_loop_1_N_d_exp\\n        for d_idx in range(n_days):  ## simsir_loop_1_1\\n            d_a[index] = d  ## simsir_loop_1_1_T_exp\\n            s_a[index] = s  ## simsir_loop_1_1_S_exp\\n            v_a[index] = v  ## simsir_loop_1_1_V_exp\\n            i_a[index] = i  ## simsir_loop_1_1_I_exp\\n            i_v_a[index] = i_v  ## simsir_loop_1_1_I_V_exp\\n            r_a[index] = r  ## simsir_loop_1_1_R_exp\\n            e_a[\\n                index] = i + i_v + r  # updated \"ever\" infected (= i + i_v + r)  ### In CHIME sir.py, this is performed at end as sum of two numpy arrays; here perform iteratively\\n\\n            index += 1  ## simsir_loop_1_1_idx_exp\\n\\n            s, v, i, i_v, r = sir(s, v, i, i_v, r, vaccination_rate, beta, gamma_unvaccinated, gamma_vaccinated,\\n                                  vaccine_efficacy, n)  ## simsir_loop_1_1_call_sir_exp\\n\\n            d += 1  ## simsir_loop_1_1_d_exp\\n\\n    # Record the last update (since sir() is called at the tail of the inner loop above)\\n    d_a[index] = d  ## simsir_T_exp\\n    s_a[index] = s  ## simsir_S_exp\\n    v_a[index] = v  ## simsir_V_exp\\n    i_a[index] = i  ## simsir_I_exp\\n    i_v_a[index] = i_v  ## simsir_I_exp\\n    r_a[index] = r  ## simsir_R_exp\\n\\n    return s, v, i, i_v, r, d_a, s_a, v_a, i_a, i_v_a, r_a, e_a  ### return\\n\\n\\ndef main():\\n    \"\"\"\\n    implements generic CHIME configuration without hospitalization calculation\\n    initializes parameters and population, calculates policy, and runs dynamics\\n    :return:\\n    \"\"\"\\n    ###\\n\\n    # initial parameters\\n    i_day = 17.0  ## main_i_day_exp\\n    n_days = [14, 90]  ## main_n_days_exp\\n    N_p = 2  ## main_N_p_exp\\n    N_t = sum(n_days) + 1  ## main_N_t_exp\\n    infectious_days_unvaccinated = 14  ## main_inf_days_u_exp\\n    infectious_days_vaccinated = 10  ## main_inf_days_v_exp\\n    relative_contact_rate = [0.0, 0.45]  ## main_rcr_exp\\n    gamma_unvaccinated = 1.0 / infectious_days_unvaccinated  ## main_gamma_u_exp\\n    gamma_vaccinated = 1.0 / infectious_days_vaccinated  ## main_gamma_v_exp\\n\\n    # Vaccination parameters\\n    vaccination_rate = 0.02  ## main_vaccination_rate_exp\\n    vaccine_efficacy = 0.85  ## main_vaccine_efficacy_exp\\n\\n    # initialize lists for policy and simulation state bookkeeping\\n    policys_betas = [0.0] * N_p  ## TODO size      # main_pbetas_seq\\n    policy_days = [0] * N_p  ## main_pdays_seq\\n    d_a = [0.0] * N_t  ## main_T_seq\\n    s_a = [0.0] * N_t  ## main_S_seq\\n    v_a = [0.0] * N_t  ## main_V_seq\\n    i_a = [0.0] * N_t  ## main_I_seq\\n    i_v_a = [0.0] * N_t  ## main_I_V_seq\\n    r_a = [0.0] * N_t  ## main_R_seq\\n    e_a = [0.0] * N_t  # \"ever\" infected (= I + R) ## main_E_seq\\n\\n    # initial population\\n    s_n = 1000  ## main_s_n_exp\\n    v_n = 0  ## main_v_n_exp\\n    i_n = 1  ## main_i_n_exp\\n    i_v_n = 0  ## main_i_v_n_exp\\n    r_n = 0  ## main_r_n_exp\\n\\n    # calculate beta under policy\\n    for p_idx in range(N_p):  ## main_loop_1\\n        doubling_time = 2\\n\\n        growth_rate = get_growth_rate(doubling_time)  ## main_loop_1_gr_exp\\n        beta = get_beta(growth_rate, gamma_unvaccinated, s_n,  ## main_loop_1_beta_exp\\n                        relative_contact_rate[p_idx])\\n        policys_betas[p_idx] = beta  ## main_loop_1_pbetas_exp\\n        policy_days[p_idx] = n_days[p_idx]  ## main_loop_1_pdays_exp\\n\\n    # simulate dynamics (corresponding roughly to run_projection() )\\n    s_n, v_n, i_n, i_v_n, r_n, d_a, s_a, v_a, i_a, i_v_a, r_a, e_a \\\\\\n        = sim_sir(s_n, v_n, i_n, i_v_n, r_n, vaccination_rate, gamma_unvaccinated, gamma_vaccinated, vaccine_efficacy,\\n                  i_day,  ## main_call_simsir_exp\\n                  N_p, policys_betas, policy_days,\\n                  d_a, s_a, v_a, i_a, i_v_a, r_a, e_a)\\n\\n    return d_a, s_a, v_a, i_a, i_v_a, r_a, e_a  # return simulated dynamics\\n\\n\\nif __name__ == \\'__main__\\':\\n    outfile = sys.argv[1]\\n\\n    d_a, s_a, v_a, i_a, i_v_a, r_a, e_a = main()\\n\\n    out_data = list()\\n    keys = [\\'d\\', \\'s\\', \\'v\\', \\'i\\', \\'i_v\\', \\'r\\', \\'e\\']\\n    data_tuples = zip(d_a, s_a, v_a, i_a, i_v_a, r_a, e_a)\\n    for dat in data_tuples:\\n        out_data.append(\\n            dict(zip(keys, dat))\\n        )\\n\\n    with open(outfile, \\'w\\') as csvfile:\\n        writer = DictWriter(csvfile, fieldnames=keys, quoting=QUOTE_NONNUMERIC)\\n        writer.writeheader()\\n        writer.writerows(out_data)'"
     ]
    }
   ],
   "source": [
    "# REMINDER: CHANGE THIS SO THE API TAKES IN THE ACTUAL VALUES, NOT THE PATHS\n",
    "connect.formula_code_connection(CHIME_SVIIvR_model_source, formula)"
   ]
  },
  {
   "cell_type": "markdown",
   "id": "544f61bb",
   "metadata": {
    "heading_collapsed": true,
    "pycharm": {
     "name": "#%% md\n"
    }
   },
   "source": [
    "# Demo Part 3: Text-to-Model Matching"
   ]
  },
  {
   "cell_type": "markdown",
   "id": "272f2d32",
   "metadata": {
    "ExecuteTime": {
     "end_time": "2022-12-07T15:09:34.239940Z",
     "start_time": "2022-12-07T15:09:34.237369Z"
    },
    "heading_collapsed": true,
    "hidden": true
   },
   "source": [
    "## We need the CHIME SIR model...\n"
   ]
  },
  {
   "cell_type": "code",
   "execution_count": 41,
   "id": "f79e556f",
   "metadata": {
    "ExecuteTime": {
     "end_time": "2022-12-07T15:09:40.527585Z",
     "start_time": "2022-12-07T15:09:40.524551Z"
    },
    "hidden": true,
    "pycharm": {
     "name": "#%%\n"
    }
   },
   "outputs": [
    {
     "name": "stdout",
     "output_type": "stream",
     "text": [
      "def get_beta(intrinsic_growth_rate, gamma,           \n",
      "             susceptible, relative_contact_rate):    \n",
      "    inv_contact_rate = 1.0 - relative_contact_rate  \n",
      "    updated_growth_rate = intrinsic_growth_rate + gamma  \n",
      "    beta = updated_growth_rate / susceptible * inv_contact_rate \n",
      " \n",
      "    return beta  \n",
      "\n",
      "def get_growth_rate(doubling_time): \n",
      "    if doubling_time == 0:  \n",
      "        growth_rate = 0  \n",
      "    else:\n",
      "        growth_rate = 2.0 ** (1.0 / doubling_time) - 1.0 \n",
      "    return growth_rate \n",
      "\n",
      "def sir(s, i, r, beta, gamma, n): \n",
      "    s_n = (-beta * s * i) + s  \n",
      "    i_n = (beta * s * i - gamma * i) + i \n",
      "    r_n = gamma * i + r  \n",
      "\n",
      "    scale = n / (s_n + i_n + r_n) \n",
      "\n",
      "    s = s_n * scale \n",
      "    i = i_n * scale \n",
      "    r = r_n * scale \n",
      "    return s, i, r  \n",
      "\n",
      "def sim_sir(s, i, r, gamma, i_day, \n",
      "            N_p, betas, days, \n",
      "            d_a, s_a, i_a, r_a, e_a  \n",
      "            ):\n",
      "    n = s + i + r \n",
      "    d = i_day \n",
      "    index = 0  \n",
      "    p_idx = 0 \n",
      "\n",
      "    while p_idx < N_p:  \n",
      "        beta = betas[p_idx]  \n",
      "        n_days = days[p_idx]  \n",
      "        \n",
      "        d_idx = 0 \n",
      "        while d_idx < n_days:  \n",
      "            d_a[index] = d  \n",
      "            s_a[index] = s  \n",
      "            i_a[index] = i  \n",
      "            r_a[index] = r  \n",
      "            e_a[index] = i + r \n",
      "            index = index + 1  \n",
      "\n",
      "            s, i, r = sir(s, i, r, beta, gamma, n) \n",
      "            d = d + 1  \n",
      "            d_idx = d_idx + 1 \n",
      "        p_idx = p_idx +  1 \n",
      "    \n",
      "    d_a[index] = d \n",
      "    s_a[index] = s \n",
      "    i_a[index] = i \n",
      "    r_a[index] = r \n",
      "    e_a[index] = i + r \n",
      "\n",
      "    return s, i, r, d_a, s_a, i_a, r_a, e_a \n",
      "\n",
      "def main(): \n",
      "    i_day = 17.0  \n",
      "    n_days = 20   \n",
      "    N_p = 3       \n",
      "    N_t = 121     \n",
      "    infections_days = 14.0  \n",
      "    relative_contact_rate = 0.05  \n",
      "    gamma = 1.0 / infections_days  \n",
      "\n",
      "    policys_betas = [0.0] * N_p  \n",
      "    policy_days = [0] * N_p      \n",
      "    d_a = [0.0] * N_t  \n",
      "    s_a = [0.0] * N_t  \n",
      "    i_a = [0.0] * N_t  \n",
      "    r_a = [0.0] * N_t  \n",
      "    e_a = [0.0] * N_t  \n",
      "\n",
      "    \n",
      "    s_n = 1000 \n",
      "    i_n = 1  \n",
      "    r_n = 1  \n",
      "\n",
      "    p_idx = 0 \n",
      "    while p_idx < N_p:  \n",
      "        doubling_time = (p_idx - 1.0) * 5.0  \n",
      "\n",
      "        growth_rate = get_growth_rate(doubling_time) \n",
      "        beta = get_beta(growth_rate, gamma, s_n,     \n",
      "                        relative_contact_rate)\n",
      "        policys_betas[p_idx] = beta  \n",
      "        policy_days[p_idx] = n_days * p_idx  \n",
      "        p_idx = p_idx + 1\n",
      "\n",
      "    s_n, i_n, r_n, d_a, s_a, i_a, r_a, e_a \\\n",
      "        = sim_sir(s_n, i_n, r_n, gamma, i_day,  \n",
      "                  N_p, policys_betas, policy_days,\n",
      "                  d_a, s_a, i_a, r_a, e_a) \n",
      "                                           \n",
      "    #print(\"s_n: \" + str(s_n))            \n",
      "    #print(\"i_n: \" + str(i_n))            \n",
      "    #print(\"r_n: \" + str(r_n))            \n",
      "    #print(\"E: \" + str(e_a))              \n",
      "\n",
      "    return d_a, s_a, i_a, r_a, e_a  \n",
      "\n",
      "# main() \n",
      "\n"
     ]
    }
   ],
   "source": [
    "print(CHIME_SIR_model_source)"
   ]
  },
  {
   "cell_type": "markdown",
   "id": "915a78ea",
   "metadata": {
    "heading_collapsed": true,
    "hidden": true
   },
   "source": [
    "## And a PDF that describes the SIR model..."
   ]
  },
  {
   "cell_type": "code",
   "execution_count": 47,
   "id": "668693ad",
   "metadata": {
    "ExecuteTime": {
     "end_time": "2022-12-07T15:16:25.918606Z",
     "start_time": "2022-12-07T15:16:25.913331Z"
    },
    "hidden": true
   },
   "outputs": [
    {
     "data": {
      "text/html": [
       "\n",
       "        <iframe\n",
       "            width=\"600\"\n",
       "            height=\"300\"\n",
       "            src=\"model/SIR/CHIME-online-manual-T2021-01-19.pdf\"\n",
       "            frameborder=\"0\"\n",
       "            allowfullscreen\n",
       "            \n",
       "        ></iframe>\n",
       "        "
      ],
      "text/plain": [
       "<IPython.lib.display.IFrame at 0x12b0f2910>"
      ]
     },
     "execution_count": 47,
     "metadata": {},
     "output_type": "execute_result"
    }
   ],
   "source": [
    "IFrame(CHIME_SIR_DESCRIPTION_PDF_DOC, width=600, height=300)\n"
   ]
  },
  {
   "cell_type": "markdown",
   "id": "000e6752",
   "metadata": {
    "ExecuteTime": {
     "end_time": "2022-12-07T15:10:04.914413Z",
     "start_time": "2022-12-07T15:10:04.911708Z"
    },
    "heading_collapsed": true,
    "hidden": true
   },
   "source": [
    "## We use a tool to extract the textual description of the SIR model from a few pages of the doc..."
   ]
  },
  {
   "cell_type": "code",
   "execution_count": 48,
   "id": "07bcb67e",
   "metadata": {
    "ExecuteTime": {
     "end_time": "2022-12-07T15:16:54.957424Z",
     "start_time": "2022-12-07T15:16:54.954450Z"
    },
    "hidden": true,
    "pycharm": {
     "name": "#%%\n"
    }
   },
   "outputs": [
    {
     "name": "stdout",
     "output_type": "stream",
     "text": [
      "0\tDiscrete-time SIR modeling of infections/recovery\n",
      "1\tThe model consists of individuals who are either Susceptible (S), Infected (I), or Recovered (R).\n",
      "2\tThe epidemic proceeds via a growth and decline process. This is the core model of infectious disease spread and has been in use in epidemiology for many years.\n",
      "3\tThe dynamics are given by the following 3 equations.\n",
      "4\tSt+1 = St−βStIt\n",
      "5\tIt+1 =It +βStIt−γIt\n",
      "6\tRt+1 = Rt + γIt\n",
      "7\tTo project the expected impact to Penn Medicine, we estimate the terms of the model.\n",
      "8\tTo do this, we use a combination of estimates from other locations, informed estimates based on logical reasoning, and best guesses from the American Hospital Association.\n",
      "9\tParameters\n",
      "10\tThe model's parameters, β and γ , determine the severity of the epidemic. β can be interpreted as the effective contact rate: β=τ×c\n",
      "11\twhich is the transmissibility τ multiplied by the average number of people exposed c. The transmissibility is the basic virulence of the pathogen. The number of people exposed c is the parameter that can be changed through social distancing.\n",
      "12\tγ is the inverse of the mean recovery time, in days. i.e.: if γ=1/14 then the average infection will clear in 14 days.\n",
      "13\tAn important descriptive parameter is the basic reproduction number, or R0 . This represents the average number of people who will be infected by any given infected person. When R0 is greater than 1, it means that a disease will\n",
      "14\tgrow. A higher R0 implies more rapid transmission and a more rapid growth of the epidemic. It is defined as R0 =β/γ\n",
      "15\tR0 is larger when\n",
      "16\tthe pathogen is more infectious\n",
      "17\tpeople are infectious for longer periods of time the number susceptible people is higher\n",
      "18\tA doubling time of 6 days and a recovery time of 14.0 days imply an R0 of 2.71. Effect of social distancing\n",
      "19\tAfter the beginning of the outbreak, actions to reduce social contact will lower the parameter c . If this happens at time t , then the effective reproduction rate is Rt , which will be lower than R0 .\n",
      "20\tFor example, in the model, a 50% reduction in social contact would increase the time it takes for the outbreak to double, to 27.5 days from 6.00 days, with a Rt of 1.36.\n",
      "21\tUsing the model\n",
      "22\tWe need to express the two parameters β and γ in terms of quantities we can estimate.\n",
      "23\tγ : the CDC recommends 14 days of self-quarantine, we'll use γ = 1/14 .\n",
      "24\tTo estimate β directly, we'd need to know transmissibility and social contact rates. Since we don't know these things, we can extract it from known doubling times. The AHA says to expect a doubling time Td of 7-10 days. That means an early-phase rate of growth can be computed by using the doubling time formula:\n",
      "25\tg = 21/Td −1\n",
      "26\tSince the rate of new infections in the SIR model is g = βS − γ and we've already computed γ , β becomes\n",
      "27\ta function of the initial population size of susceptible individuals β = (g + γ) . Initial Conditions\n",
      "28\tThe default value for the total size of the susceptible population defaults to the entire catchment area for Penn Medicine entities (HUP, PAH, PMC, CCH)\n",
      "29\tDelaware = 564696 Chester = 519293 Montgomery = 826075 Bucks = 628341\n",
      "30\tPhilly = 1581000\n",
      "31\tFor other default values, please consult the Data Inputs section.\n"
     ]
    }
   ],
   "source": [
    "print(CHIME_SIR_DESCRIPTION_TEXT)"
   ]
  },
  {
   "cell_type": "markdown",
   "id": "7385778c",
   "metadata": {
    "hidden": true
   },
   "source": [
    "## Finally, we can find connections between the model and descriptions from the text"
   ]
  },
  {
   "cell_type": "code",
   "execution_count": 13,
   "id": "2d6db05e",
   "metadata": {
    "ExecuteTime": {
     "end_time": "2022-12-07T14:43:04.972523Z",
     "start_time": "2022-12-07T14:43:03.465943Z"
    },
    "hidden": true,
    "pycharm": {
     "name": "#%%\n"
    }
   },
   "outputs": [
    {
     "name": "stdout",
     "output_type": "stream",
     "text": [
      "Best description for python function get_growth_rate is in lines 25-25:\n",
      "\t24\tTo estimate β directly, we'd need to know transmissibility and social contact rates. Since we don't know these things, we can extract it from known doubling times. The AHA says to expect a doubling time Td of 7-10 days. That means an early-phase rate of growth can be computed by using the doubling time formula:\n",
      ">>\t25\tg = 21/Td −1\n",
      "\t26\tSince the rate of new infections in the SIR model is g = βS − γ and we've already computed γ , β becomes\n",
      "---------------------------------------\n",
      "Best description for python function get_beta is in lines 11-12:\n",
      "\t10\tThe model's parameters, β and γ , determine the severity of the epidemic. β can be interpreted as the effective contact rate: β=τ×c\n",
      ">>\t11\twhich is the transmissibility τ multiplied by the average number of people exposed c. The transmissibility is the basic virulence of the pathogen. The number of people exposed c is the parameter that can be changed through social distancing.\n",
      ">>\t12\tγ is the inverse of the mean recovery time, in days. i.e.: if γ=1/14 then the average infection will clear in 14 days.\n",
      "\t13\tAn important descriptive parameter is the basic reproduction number, or R0 . This represents the average number of people who will be infected by any given infected person. When R0 is greater than 1, it means that a disease will\n",
      "---------------------------------------\n"
     ]
    }
   ],
   "source": [
    "# REMINDER: CHANGE THE API HERE!!!!\n",
    "connect.code_text_connection(code, text)"
   ]
  },
  {
   "cell_type": "markdown",
   "id": "a18ba281",
   "metadata": {
    "pycharm": {
     "name": "#%% md\n"
    }
   },
   "source": [
    "# Demo Part 4: Data-to-Model Matching"
   ]
  },
  {
   "cell_type": "markdown",
   "id": "e0e6d9f1",
   "metadata": {},
   "source": [
    "## The Bucky model is large. Imagine the user has chosen some interesting functions..."
   ]
  },
  {
   "cell_type": "code",
   "execution_count": 50,
   "id": "d6641b3c",
   "metadata": {
    "ExecuteTime": {
     "end_time": "2022-12-07T15:21:43.703811Z",
     "start_time": "2022-12-07T15:21:43.700053Z"
    },
    "pycharm": {
     "name": "#%%\n"
    }
   },
   "outputs": [
    {
     "name": "stdout",
     "output_type": "stream",
     "text": [
      "def estimate_cfr(\n",
      "    g_data,\n",
      "    base_CFR,\n",
      "    case_to_death_time,\n",
      "    Rh_gamma_k,\n",
      "    S_age_dist,\n",
      "    days_back=7,\n",
      "):\n",
      "    \"\"\"Estimate CFR from recent case data.\"\"\"\n",
      "\n",
      "    mean = case_to_death_time  # params[\"H_TIME\"] + params[\"I_TO_H_TIME\"] #+ params[\"D_REPORT_TIME\"]\n",
      "    adm2_mean = xp.sum(S_age_dist * mean[..., None], axis=0)\n",
      "    k = Rh_gamma_k\n",
      "\n",
      "    rolling_case_hist = g_data.csse_data.incident_cases\n",
      "    rolling_death_hist = g_data.csse_data.incident_deaths\n",
      "\n",
      "    t_max = rolling_case_hist.shape[0]\n",
      "    x = xp.arange(0.0, t_max)\n",
      "\n",
      "    # adm0\n",
      "    adm0_inc_cases = xp.sum(rolling_case_hist, axis=1)\n",
      "    adm0_inc_deaths = xp.sum(rolling_death_hist, axis=1)\n",
      "\n",
      "    adm0_theta = xp.sum(adm2_mean * g_data.Nj / g_data.N) / k\n",
      "\n",
      "    w = 1.0 / (xp.special.gamma(k) * adm0_theta**k) * x ** (k - 1) * xp.exp(-x / adm0_theta)\n",
      "    w = w / (1.0 - w)\n",
      "    w = w / xp.sum(w)\n",
      "    w = w[::-1]\n",
      "\n",
      "    # n_loc = rolling_case_hist.shape[1]\n",
      "    cfr = xp.empty((days_back,))\n",
      "    for i in range(days_back):\n",
      "        d = i + 1\n",
      "        cfr[i] = adm0_inc_deaths[-d] / (xp.sum(w[d:] * adm0_inc_cases[:-d], axis=0))\n",
      "\n",
      "    adm0_cfr = 1.0 / xp.nanmean(1.0 / cfr, axis=0)\n",
      "\n",
      "    # adm1\n",
      "    adm1_inc_cases = g_data.sum_adm1(rolling_case_hist.T).T\n",
      "    adm1_inc_deaths = g_data.sum_adm1(rolling_death_hist.T).T\n",
      "\n",
      "    adm1_theta = g_data.sum_adm1(adm2_mean * g_data.Nj) / g_data.adm1_Nj / k\n",
      "\n",
      "    x = xp.tile(x, (adm1_theta.shape[0], 1)).T\n",
      "    w = 1.0 / (xp.special.gamma(k) * adm1_theta**k) * x ** (k - 1) * xp.exp(-x / adm1_theta)\n",
      "    w = w / (1.0 - w)\n",
      "    w = w / xp.sum(w, axis=0)\n",
      "    w = w[::-1]\n",
      "    cfr = xp.empty((days_back, adm1_theta.shape[0]))\n",
      "    for i in range(days_back):\n",
      "        d = i + 1\n",
      "        cfr[i] = adm1_inc_deaths[-d] / (xp.sum(w[d:] * adm1_inc_cases[:-d], axis=0))\n",
      "\n",
      "    adm1_cfr = 1.0 / xp.nanmean(1.0 / cfr, axis=0)\n",
      "\n",
      "    baseline_adm1_cfr = g_data.sum_adm1(xp.sum(base_CFR * S_age_dist, axis=0) * g_data.Nj) / g_data.adm1_Nj\n",
      "\n",
      "    cfr_fac = (adm1_cfr / baseline_adm1_cfr)[g_data.adm1_id]\n",
      "\n",
      "    baseline_adm0_cfr = xp.sum(xp.sum(base_CFR * S_age_dist, axis=0) * g_data.Nj) / g_data.N\n",
      "    adm0_cfr_fac = adm0_cfr / baseline_adm0_cfr\n",
      "    valid = xp.isfinite(cfr_fac) & (cfr_fac > 0.002) & (xp.mean(adm1_inc_deaths[-days_back:]) > 4.0)\n",
      "    cfr_fac[~valid] = adm0_cfr_fac\n",
      "\n",
      "    # cfr_fac = 2.0 / (1.0 / cfr_fac + 1.0 / adm0_cfr_fac[..., None])\n",
      "    # cfr_fac = xp.sqrt(cfr_fac * adm0_cfr_fac[..., None])\n",
      "\n",
      "    return xp.clip(base_CFR * cfr_fac, 0.0, 1.0)\n",
      "\n",
      "def estimate_chr(\n",
      "    g_data,\n",
      "    base_CHR,\n",
      "    I_to_H_time,\n",
      "    Rh_gamma_k,\n",
      "    S_age_dist,\n",
      "    days_back=7,\n",
      "):\n",
      "    \"\"\"Estimate CHR from recent case data.\"\"\"\n",
      "\n",
      "    mean = I_to_H_time\n",
      "\n",
      "    adm2_mean = xp.sum(S_age_dist * mean[..., None], axis=0)\n",
      "    k = Rh_gamma_k\n",
      "\n",
      "    rolling_case_hist = g_data.csse_data.incident_cases\n",
      "    rolling_hosp_hist = g_data.hhs_data.incident_hospitalizations\n",
      "\n",
      "    t_max = rolling_case_hist.shape[0]\n",
      "    x = xp.arange(0.0, t_max)\n",
      "\n",
      "    # adm0\n",
      "    adm0_inc_cases = xp.sum(rolling_case_hist, axis=1)\n",
      "    adm0_inc_hosp = xp.sum(rolling_hosp_hist, axis=1)\n",
      "\n",
      "    adm0_theta = xp.sum(adm2_mean * g_data.Nj / g_data.N) / k\n",
      "\n",
      "    w = 1.0 / (xp.special.gamma(k) * adm0_theta**k) * x ** (k - 1) * xp.exp(-x / adm0_theta)\n",
      "    w = w / (1.0 - w)\n",
      "\n",
      "    w = w / xp.sum(w)\n",
      "    w = w[::-1]\n",
      "\n",
      "    chr_ = xp.empty((days_back,))\n",
      "    for i in range(days_back):\n",
      "        d = i + 1\n",
      "        chr_[i] = adm0_inc_hosp[-d] / (xp.sum(w[d:] * adm0_inc_cases[:-d], axis=0))\n",
      "\n",
      "    adm0_chr = 1.0 / xp.nanmean(1.0 / chr_, axis=0)\n",
      "\n",
      "    # adm1\n",
      "    adm1_inc_cases = g_data.sum_adm1(rolling_case_hist.T).T\n",
      "    adm1_inc_hosp = rolling_hosp_hist\n",
      "\n",
      "    adm1_theta = g_data.sum_adm1(adm2_mean * g_data.Nj) / g_data.adm1_Nj / k\n",
      "\n",
      "    x = xp.tile(x, (adm1_theta.shape[0], 1)).T\n",
      "    w = 1.0 / (xp.special.gamma(k) * adm1_theta**k) * x ** (k - 1) * xp.exp(-x / adm1_theta)\n",
      "    w = w / (1.0 - w)\n",
      "    w = w / xp.sum(w, axis=0)\n",
      "    w = w[::-1]\n",
      "    chr_ = xp.empty((days_back, adm1_theta.shape[0]))\n",
      "    for i in range(days_back):\n",
      "        d = i + 1\n",
      "        chr_[i] = adm1_inc_hosp[-d] / (xp.sum(w[d:] * adm1_inc_cases[:-d], axis=0))\n",
      "\n",
      "    adm1_chr = 1.0 / xp.nanmean(1.0 / chr_, axis=0)\n",
      "\n",
      "    baseline_adm1_chr = g_data.sum_adm1(xp.sum(base_CHR * S_age_dist, axis=0) * g_data.Nj) / g_data.adm1_Nj\n",
      "\n",
      "    chr_fac = (adm1_chr / baseline_adm1_chr)[g_data.adm1_id]\n",
      "\n",
      "    baseline_adm0_chr = xp.sum(xp.sum(base_CHR * S_age_dist, axis=0) * g_data.Nj) / g_data.N\n",
      "    adm0_chr_fac = adm0_chr / baseline_adm0_chr\n",
      "    valid = xp.isfinite(chr_fac) & (chr_fac > 0.002) & (xp.mean(adm1_inc_hosp[-7:]) > 4.0)\n",
      "    chr_fac[~valid] = adm0_chr_fac\n",
      "\n",
      "    return xp.clip(base_CHR * chr_fac, 0.0, 1.0)\n",
      "\n"
     ]
    }
   ],
   "source": [
    "print(BUCKY_model_source)"
   ]
  },
  {
   "cell_type": "markdown",
   "id": "7e63426e",
   "metadata": {
    "ExecuteTime": {
     "end_time": "2022-12-07T15:22:31.638410Z",
     "start_time": "2022-12-07T15:22:31.635802Z"
    }
   },
   "source": [
    "## And maintains some interesting relevant datasets..."
   ]
  },
  {
   "cell_type": "code",
   "execution_count": 15,
   "id": "18786674",
   "metadata": {
    "ExecuteTime": {
     "end_time": "2022-12-07T14:44:50.515687Z",
     "start_time": "2022-12-07T14:44:50.512052Z"
    },
    "pycharm": {
     "name": "#%%\n"
    }
   },
   "outputs": [
    {
     "name": "stdout",
     "output_type": "stream",
     "text": [
      "ls  ./model/Bucky/data_sample/\n",
      "\t covid_deaths_usafacts.csv\n",
      "\t nychealth.csv\n",
      "\t covid_tracking.csv\n",
      "\t usafacts_hist.csv\n",
      "\t covid_confirmed_usafacts.csv\n"
     ]
    }
   ],
   "source": [
    "# REMINDER: Let's change this so that in the preamble part up above, we load each of these datasets into a DF.\n",
    "# We can then list the names of the dataframes, and show the schema plus the first two rows of each one.\n",
    "\n",
    "dataset_dir =  \"./model/Bucky/data_sample/\"\n",
    "connect.print_list(dataset_dir)"
   ]
  },
  {
   "cell_type": "markdown",
   "id": "1c824d03",
   "metadata": {
    "ExecuteTime": {
     "end_time": "2022-12-07T15:26:20.555372Z",
     "start_time": "2022-12-07T15:26:20.552874Z"
    }
   },
   "source": [
    "## Finally, we can find connections between the functions and columns in these datasets"
   ]
  },
  {
   "cell_type": "code",
   "execution_count": 53,
   "id": "d0a2b056",
   "metadata": {
    "ExecuteTime": {
     "end_time": "2022-12-07T15:27:00.009053Z",
     "start_time": "2022-12-07T15:26:59.472162Z"
    },
    "pycharm": {
     "name": "#%%\n"
    }
   },
   "outputs": [
    {
     "name": "stdout",
     "output_type": "stream",
     "text": [
      "OpenAI connection error: This model's maximum context length is 4097 tokens, however you requested 4754 tokens (4498 in your prompt; 256 for the completion). Please reduce your prompt; or completion length.\n"
     ]
    }
   ],
   "source": [
    "# REMINDER: Fix this so it uses improved variable names.\n",
    "# Ideally, the output would be a bit nicer but not absolutely crucial\n",
    "\n",
    "connect.code_dataset_connection(code,dataset_dir)"
   ]
  }
 ],
 "metadata": {
  "kernelspec": {
   "display_name": "Python 3 (ipykernel)",
   "language": "python",
   "name": "python3"
  },
  "language_info": {
   "codemirror_mode": {
    "name": "ipython",
    "version": 3
   },
   "file_extension": ".py",
   "mimetype": "text/x-python",
   "name": "python",
   "nbconvert_exporter": "python",
   "pygments_lexer": "ipython3",
   "version": "3.9.5"
  },
  "varInspector": {
   "cols": {
    "lenName": 16,
    "lenType": 16,
    "lenVar": 40
   },
   "kernels_config": {
    "python": {
     "delete_cmd_postfix": "",
     "delete_cmd_prefix": "del ",
     "library": "var_list.py",
     "varRefreshCmd": "print(var_dic_list())"
    },
    "r": {
     "delete_cmd_postfix": ") ",
     "delete_cmd_prefix": "rm(",
     "library": "var_list.r",
     "varRefreshCmd": "cat(var_dic_list()) "
    }
   },
   "types_to_exclude": [
    "module",
    "function",
    "builtin_function_or_method",
    "instance",
    "_Feature"
   ],
   "window_display": false
  }
 },
 "nbformat": 4,
 "nbformat_minor": 5
}
