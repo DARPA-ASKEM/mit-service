{
 "cells": [
  {
   "cell_type": "markdown",
   "id": "07c1a12c",
   "metadata": {
    "heading_collapsed": true,
    "pycharm": {
     "name": "#%% md\n"
    }
   },
   "source": [
    "# Demo Setup"
   ]
  },
  {
   "cell_type": "code",
   "execution_count": 12,
   "id": "99cf9d52",
   "metadata": {
    "ExecuteTime": {
     "end_time": "2022-12-07T02:39:02.957026Z",
     "start_time": "2022-12-07T02:39:02.775276Z"
    },
    "hidden": true,
    "pycharm": {
     "name": "#%%\n"
    }
   },
   "outputs": [
    {
     "ename": "ModuleNotFoundError",
     "evalue": "No module named 'automates'",
     "output_type": "error",
     "traceback": [
      "\u001B[0;31m---------------------------------------------------------------------------\u001B[0m",
      "\u001B[0;31mModuleNotFoundError\u001B[0m                       Traceback (most recent call last)",
      "Cell \u001B[0;32mIn [12], line 3\u001B[0m\n\u001B[1;32m      1\u001B[0m \u001B[38;5;28;01mimport\u001B[39;00m \u001B[38;5;21;01mconnect\u001B[39;00m\n\u001B[1;32m      2\u001B[0m \u001B[38;5;28;01mimport\u001B[39;00m \u001B[38;5;21;01mrequests\u001B[39;00m\n\u001B[0;32m----> 3\u001B[0m \u001B[38;5;28;01mfrom\u001B[39;00m \u001B[38;5;21;01mautomates\u001B[39;00m\u001B[38;5;21;01m.\u001B[39;00m\u001B[38;5;21;01mprogram_analysis\u001B[39;00m\u001B[38;5;21;01m.\u001B[39;00m\u001B[38;5;21;01mJSON2GroMEt\u001B[39;00m\u001B[38;5;21;01m.\u001B[39;00m\u001B[38;5;21;01mjson2gromet\u001B[39;00m \u001B[38;5;28;01mimport\u001B[39;00m json_to_gromet\n\u001B[1;32m      4\u001B[0m \u001B[38;5;28;01mfrom\u001B[39;00m \u001B[38;5;21;01mautomates\u001B[39;00m\u001B[38;5;21;01m.\u001B[39;00m\u001B[38;5;21;01mgromet\u001B[39;00m\u001B[38;5;21;01m.\u001B[39;00m\u001B[38;5;21;01mquery\u001B[39;00m \u001B[38;5;28;01mimport\u001B[39;00m query\n",
      "\u001B[0;31mModuleNotFoundError\u001B[0m: No module named 'automates'"
     ]
    }
   ],
   "source": [
    "import connect\n",
    "import requests\n",
    "from automates.program_analysis.JSON2GroMEt.json2gromet import json_to_gromet\n",
    "from automates.gromet.query import query\n"
   ]
  },
  {
   "cell_type": "markdown",
   "id": "105a85ab",
   "metadata": {
    "hidden": true,
    "pycharm": {
     "name": "#%% md\n"
    }
   },
   "source": [
    "The following assumes that you have already generated the json (e.g., by running the notebook script `py_src_to_grometFN_JSON.ipynb`)"
   ]
  },
  {
   "cell_type": "markdown",
   "id": "79611673",
   "metadata": {
    "hidden": true,
    "pycharm": {
     "name": "#%% md\n"
    }
   },
   "source": [
    "We first set up access to the MIRA Epidemiology Domain Knowledge Graph (DKG) web service."
   ]
  },
  {
   "cell_type": "code",
   "execution_count": 2,
   "id": "3fff15a7",
   "metadata": {
    "ExecuteTime": {
     "end_time": "2022-12-07T03:19:33.345858Z",
     "start_time": "2022-12-07T03:19:33.341926Z"
    },
    "hidden": true,
    "pycharm": {
     "name": "#%%\n"
    }
   },
   "outputs": [],
   "source": [
    "MIRA_DKG_URL = 'http://34.230.33.149:8771'\n",
    "\n",
    "def get_mira_dkg_term(term, attribs):\n",
    "    res = requests.get(MIRA_DKG_URL + '/api/search', params={'q': term})\n",
    "    term = [entity for entity in res.json() if entity['id'].startswith('askemo')][0]\n",
    "    res = {attrib: term.get(attrib) for attrib in attribs if term.get(attrib) is not None}\n",
    "    return res"
   ]
  },
  {
   "cell_type": "markdown",
   "id": "78e8dc16",
   "metadata": {
    "ExecuteTime": {
     "end_time": "2022-12-07T03:18:02.964304Z",
     "start_time": "2022-12-07T03:18:02.961800Z"
    },
    "heading_collapsed": true,
    "pycharm": {
     "name": "#%% md\n"
    }
   },
   "source": [
    "# Load CHIME SIR gromet representation"
   ]
  },
  {
   "cell_type": "code",
   "execution_count": 2,
   "id": "68b7b355",
   "metadata": {
    "ExecuteTime": {
     "end_time": "2022-12-07T02:39:04.977706Z",
     "start_time": "2022-12-07T02:39:04.961153Z"
    },
    "hidden": true,
    "pycharm": {
     "name": "#%%\n"
    }
   },
   "outputs": [],
   "source": [
    "gromet_fn_module = json_to_gromet(\"gromet/CHIME_SIR_while_loop--Gromet-FN-auto.json\")"
   ]
  },
  {
   "cell_type": "markdown",
   "id": "244d1ed8",
   "metadata": {
    "hidden": true,
    "pycharm": {
     "name": "#%% md\n"
    }
   },
   "source": [
    "The following uses the simple query to collect all named output ports of a GrometFNModule.\n",
    "`nops` will hold a `List` of `Tuples`, where each tuple has the following format:\n",
    "```\n",
    "(<name_of_output_port>,    # named output port == a variable in source code\n",
    " <literal_value>,          # IF a literal value has been assigned, otherwise None\n",
    " <source_code_reference>)  # metadatum for the source code location of the assignment\n",
    "```"
   ]
  },
  {
   "cell_type": "code",
   "execution_count": 3,
   "id": "31ca9b8b",
   "metadata": {
    "ExecuteTime": {
     "end_time": "2022-12-07T02:39:06.835876Z",
     "start_time": "2022-12-07T02:39:06.831904Z"
    },
    "hidden": true,
    "pycharm": {
     "name": "#%%\n"
    },
    "scrolled": true
   },
   "outputs": [
    {
     "name": "stdout",
     "output_type": "stream",
     "text": [
      "('inv_contact_rate', None, {'code_file_reference_uid': '09a64930-e9e4-8ae5-f825-bdf7c1e729f9',\n",
      " 'col_begin': 4,\n",
      " 'col_end': 50,\n",
      " 'line_begin': 3,\n",
      " 'line_end': 3,\n",
      " 'metadata_type': 'source_code_reference',\n",
      " 'provenance': {'method': 'skema_code2fn_program_analysis',\n",
      "                'timestamp': '2022-11-30 16:18:33.012848'}})\n"
     ]
    }
   ],
   "source": [
    "nops = query.collect_named_output_ports(gromet_fn_module)\n",
    "print(nops[0])"
   ]
  },
  {
   "cell_type": "markdown",
   "id": "e4238a5f",
   "metadata": {
    "pycharm": {
     "name": "#%% md\n"
    }
   },
   "source": [
    "# Load Ontology "
   ]
  },
  {
   "cell_type": "markdown",
   "id": "139d22b5",
   "metadata": {
    "pycharm": {
     "name": "#%% md\n"
    }
   },
   "source": [
    "Next, we choose a set of terms and attributes to pull into a local ontology that we can use to connect to the model. In addition, for some of the terms, we define custom ranges in which their values for this model can be adjusted."
   ]
  },
  {
   "cell_type": "code",
   "execution_count": 5,
   "id": "439ca0ad",
   "metadata": {
    "ExecuteTime": {
     "end_time": "2022-12-07T02:39:12.211170Z",
     "start_time": "2022-12-07T02:39:11.391490Z"
    },
    "pycharm": {
     "name": "#%%\n"
    }
   },
   "outputs": [
    {
     "data": {
      "text/plain": [
       "{'population': {'description': 'The number of people who live in an area being modeled.',\n",
       "  'synonyms': [],\n",
       "  'xrefs': [{'id': 'ido:0000509', 'type': 'skos:exactMatch'}],\n",
       "  'suggested_unit': 'person',\n",
       "  'suggested_data_type': 'int',\n",
       "  'physical_min': 0.0,\n",
       "  'typical_min': 1000,\n",
       "  'typical_max': 40000000},\n",
       " 'doubling time': {'description': 'The length of time that an infectious disease requires to double in incidence.',\n",
       "  'synonyms': [{'value': 'doubling rate',\n",
       "    'type': 'oboInOwl:hasRelatedSynonym'}],\n",
       "  'xrefs': [{'id': 'cemo:epidemic_doubling_time', 'type': 'skos:exactMatch'}],\n",
       "  'suggested_unit': 'day',\n",
       "  'suggested_data_type': 'float',\n",
       "  'physical_min': 0.0},\n",
       " 'recovery time': {'description': 'The length of time an infected individual needs to recover after being infected.',\n",
       "  'synonyms': [{'value': 'mean recovery time',\n",
       "    'type': 'oboInOwl:hasExactSynonym'}],\n",
       "  'xrefs': [],\n",
       "  'suggested_unit': 'day',\n",
       "  'suggested_data_type': 'float',\n",
       "  'physical_min': 0.0},\n",
       " 'infectious time': {'description': 'The length of time an infected individual is infectious after being infected.',\n",
       "  'synonyms': [{'value': 'contagious time',\n",
       "    'type': 'oboInOwl:hasExactSynonym'},\n",
       "   {'value': 'infectious days', 'type': 'oboInOwl:hasNarrowSynonym'},\n",
       "   {'value': 'infectious period', 'type': 'oboInOwl:hasExactSynonym'}],\n",
       "  'xrefs': [{'id': 'apollosv:00000140', 'type': 'skos:exactMatch'}],\n",
       "  'suggested_unit': 'day',\n",
       "  'suggested_data_type': 'float',\n",
       "  'physical_min': 0.0,\n",
       "  'typical_min': 1.0,\n",
       "  'typical_max': 35.0}}"
      ]
     },
     "execution_count": 5,
     "metadata": {},
     "output_type": "execute_result"
    }
   ],
   "source": [
    "# Terms we want to find in MIRA and specific attributes we want to add to our local ontology\n",
    "terms = ['population', 'doubling time', 'recovery time', 'infectious time']\n",
    "attribs = ['description', 'synonyms', 'xrefs', 'suggested_unit', 'suggested_data_type',\n",
    "           'physical_min', 'physical_max', 'typical_min', 'typical_max']\n",
    "\n",
    "# The local ontology if filled up from the MIRA DKG\n",
    "LOCAL_ONTOLOGY = {\n",
    "    term: get_mira_dkg_term(term, attribs) for term in terms\n",
    "    }\n",
    "\n",
    "# We can also set further local / use-case specific constraints as needed\n",
    "LOCAL_ONTOLOGY['population']['typical_min'] = 1000\n",
    "LOCAL_ONTOLOGY['population']['typical_max'] = 40_000_000\n",
    "\n",
    "LOCAL_ONTOLOGY"
   ]
  },
  {
   "cell_type": "markdown",
   "id": "548265c9",
   "metadata": {
    "pycharm": {
     "name": "#%% md\n"
    }
   },
   "source": [
    "# Model Matching"
   ]
  },
  {
   "cell_type": "markdown",
   "id": "563948d6",
   "metadata": {
    "ExecuteTime": {
     "end_time": "2022-12-07T03:46:07.402839Z",
     "start_time": "2022-12-07T03:46:07.395797Z"
    },
    "pycharm": {
     "name": "#%% md\n"
    }
   },
   "source": [
    "## We match the loaded model to several different annotation structures:\n"
   ]
  },
  {
   "cell_type": "markdown",
   "id": "5883ab69",
   "metadata": {
    "pycharm": {
     "name": "#%% md\n"
    }
   },
   "source": [
    "### 1a. Ontology to Gromet matching"
   ]
  },
  {
   "cell_type": "code",
   "execution_count": 6,
   "id": "96f5b6a2",
   "metadata": {
    "ExecuteTime": {
     "end_time": "2022-12-07T02:39:18.345026Z",
     "start_time": "2022-12-07T02:39:15.792489Z"
    },
    "pycharm": {
     "name": "#%%\n"
    }
   },
   "outputs": [
    {
     "data": {
      "text/plain": [
       "[('population', {'s_n': 'grometSubObject'}, 1000.0, 81),\n",
       " ('infectious time', {'infections_days': 'grometSubObject'}, 14.0, 68)]"
      ]
     },
     "execution_count": 6,
     "metadata": {},
     "output_type": "execute_result"
    }
   ],
   "source": [
    "targets = ['population', 'infectious time']\n",
    "terms = list(LOCAL_ONTOLOGY.keys())\n",
    "\n",
    "parameters = set()\n",
    "var_dict = {}\n",
    "for nop in nops:\n",
    "    if nop[1] is not None:\n",
    "        parameters.add(nop[0])\n",
    "        var_dict[nop[0]] = nop\n",
    "\n",
    "discoveredParameterConnections = connect.match_gromet_targets(targets, list(parameters), var_dict, terms)\n",
    "discoveredParameterConnections"
   ]
  },
  {
   "cell_type": "markdown",
   "id": "f3aaac72",
   "metadata": {
    "pycharm": {
     "name": "#%% md\n"
    }
   },
   "source": [
    "### 1b. Ontology to code matching"
   ]
  },
  {
   "cell_type": "code",
   "execution_count": 7,
   "id": "78013b24",
   "metadata": {
    "ExecuteTime": {
     "end_time": "2022-12-07T02:39:23.034921Z",
     "start_time": "2022-12-07T02:39:20.578541Z"
    },
    "pycharm": {
     "name": "#%%\n"
    }
   },
   "outputs": [
    {
     "name": "stdout",
     "output_type": "stream",
     "text": [
      "[(3, 'inv_contact_rate', '1.0'), (11, 'growth_rate', '0'), (13, 'growth_rate', '2.0'), (34, 'index', '0'), (35, 'p_idx', '0'), (41, 'd_idx', '0'), (64, 'i_day', '17.0'), (65, 'n_days', '20'), (66, 'N_p', '3'), (67, 'N_t', '121'), (68, 'infections_days', '14.0'), (69, 'relative_contact_rate', '0.05'), (70, 'gamma', '1.0'), (81, 's_n', '1000'), (82, 'i_n', '1'), (83, 'r_n', '1'), (85, 'p_idx', '0')]\n"
     ]
    },
    {
     "data": {
      "text/plain": [
       "[('population', {'s_n': 'grometSubObject'}, 1000.0, 81),\n",
       " ('infectious time', {'infections_days': 'grometSubObject'}, 14.0, 68)]"
      ]
     },
     "execution_count": 7,
     "metadata": {},
     "output_type": "execute_result"
    }
   ],
   "source": [
    "code = \"model/SIR/CHIME_SIR_while_loop.py\"\n",
    "targets = ['population', 'infectious time']\n",
    "discoveredParameterConnections = []\n",
    "try:\n",
    "    discoveredParameterConnections = connect.match_code_targets(targets, code, terms)\n",
    "except OpenAIError as err:\n",
    "    print(\"OpenAI connection error:\", err)\n",
    "    print(\"Using hard-coded connections\")\n",
    "    discoveredParameterConnections = [(\"infectious time\", {\"name\": \"grometSubObject\"}, 14.0, 67),(\"population\", {\"name\": \"grometSubObject\"}, 1000, 80)]\n",
    "\n",
    "discoveredParameterConnections"
   ]
  },
  {
   "cell_type": "markdown",
   "id": "e7513cf9",
   "metadata": {
    "pycharm": {
     "name": "#%% md\n"
    }
   },
   "source": [
    "### 2a. Formula to code matching"
   ]
  },
  {
   "cell_type": "code",
   "execution_count": 9,
   "outputs": [
    {
     "name": "stdout",
     "output_type": "stream",
     "text": [
      "import sys\n",
      "from csv import DictWriter, QUOTE_NONNUMERIC\n",
      "\n",
      "def get_beta(intrinsic_growth_rate, gamma, susceptible, relative_contact_rate):\n",
      "    \"\"\"\n",
      "    Calculates a rate of exposure given an intrinsic growth rate for COVID-19\n",
      "    :param intrinsic_growth_rate: Rate of spread of COVID-19 cases\n",
      "    :param gamma: The expected recovery rate from COVID-19 for infected individuals\n",
      "    :param susceptible: Current amount of individuals that are susceptible\n",
      "    :param relative_contact_rate: The relative contact rate amongst individuals in the population\n",
      "    :return: beta: The rate of exposure of individuals to persons infected with COVID-19\n",
      "    \"\"\"\n",
      "    inv_contact_rate = 1.0 - relative_contact_rate  # The inverse rate of contact between individuals in the population ## get_beta_icr_exp\n",
      "    updated_growth_rate = intrinsic_growth_rate + gamma  # The intrinsic growth rate adjusted for the recovery rate from infection ## get_beta_ugr_exp\n",
      "    beta = updated_growth_rate / susceptible * inv_contact_rate  ## get_beta_beta_exp\n",
      "\n",
      "    return beta\n",
      "\n",
      "\n",
      "def get_growth_rate(doubling_time):\n",
      "    \"\"\"\n",
      "    Calculate the expected growth rate of COVID-19 infections given a doubling time\n",
      "    :param doubling_time: The time required for the amount of COVID-19 cases to double\n",
      "    :return: growth_rate: Rate of spread of COVID-19 cases.\n",
      "    \"\"\"\n",
      "    ## ggr_cond\n",
      "    if doubling_time == 0:  ## ggr_cond_b0_cond\n",
      "        growth_rate = 0  ## ggr_cond_b0_exp\n",
      "    else:\n",
      "        growth_rate = 2.0 ** (1.0 / doubling_time) - 1.0  ## ggr_cond_b1_exp\n",
      "\n",
      "    return growth_rate\n",
      "\n",
      "\n",
      "def sir(s, v, i, i_v, r, vaccination_rate, beta, gamma_unvaccinated, gamma_vaccinated, vaccine_efficacy, n):\n",
      "    \"\"\"\n",
      "    The SIR model, one time step\n",
      "    :param s: Current amount of individuals that are susceptible\n",
      "    :param v: Current amount of individuals that are vaccinated\n",
      "    :param i: Current amount of individuals that are infectious\n",
      "    :param i_v: Current amount of vaccinated individuals that are infectious\n",
      "    :param r: Current amount of individuals that are recovered\n",
      "    :param beta: The rate of exposure of individuals to persons infected with COVID-19\n",
      "    :param gamma_unvaccinated: Rate of recovery for infected unvaccinated individuals\n",
      "    :param gamma_vaccinated: Rate of recovery for infected vaccinated individuals\n",
      "    :param vaccination_rate: The rate of vaccination of susceptible individuals\n",
      "    :param vaccine_efficacy: The efficacy of the vaccine\n",
      "    :param n: Total population size\n",
      "    :return:\n",
      "    \"\"\"\n",
      "    s_n = (\n",
      "                      -beta * s * i - beta * s * i_v - vaccination_rate * s) + s  # Update to the amount of individuals that are susceptible ## sir_s_n_exp\n",
      "    v_n = (vaccination_rate * s - beta * (1 - vaccine_efficacy) * v * i - beta * (\n",
      "                1 - vaccine_efficacy) * v * i_v) + v  # Update to the amount of individuals that are susceptible ## sir_v_n_exp\n",
      "    i_n = (\n",
      "                      beta * s * i + beta * s * i_v - gamma_unvaccinated * i) + i  # Update to the amount of individuals that are infectious ## sir_i_n_exp\n",
      "    i_v_n = (beta * (1 - vaccine_efficacy) * v * i + beta * (\n",
      "                1 - vaccine_efficacy) * v * i_v - gamma_vaccinated * i_v) + i_v  # Update to the amount of individuals that are infectious ## sir_i_v_n_exp\n",
      "    r_n = gamma_vaccinated * i_v + gamma_unvaccinated * i + r  # Update to the amount of individuals that are recovered ## sir_r_n_exp\n",
      "\n",
      "    scale = n / (\n",
      "                s_n + v_n + i_n + i_v_n + r_n)  # A scaling factor to compute updated disease variables ## sir_scale_exp\n",
      "\n",
      "    s = s_n * scale  ## sir_s_exp\n",
      "    v = v_n * scale  ## sir_v_exp\n",
      "    i = i_n * scale  ## sir_i_exp\n",
      "    i_v = i_v_n * scale  ## sir_i_v_exp\n",
      "    r = r_n * scale  ## sir_r_exp\n",
      "    return s, v, i, i_v, r\n",
      "\n",
      "\n",
      "def sim_sir(s, v, i, i_v, r, vaccination_rate, gamma_unvaccinated, gamma_vaccinated, vaccine_efficacy, i_day,\n",
      "            ### original inputs\n",
      "            N_p, betas, days,  ### changes to original CHIME sim_sir to simplify policy bookkeeping\n",
      "            d_a, s_a, v_a, i_a, i_v_a, r_a, e_a,\n",
      "            ### changes to original CHIME sim_sir simulation bookkeeping - here, bookkeeping represented as lists that are passed in as arguments\n",
      "            ):\n",
      "    n = s + v + i + i_v + r  ## simsir_n_exp\n",
      "    d = i_day  ## simsir_d_exp\n",
      "\n",
      "    ### total_days from original CHIME sim_sir was used to determine the size of the\n",
      "    ### the state bookkeeping across the simulation.\n",
      "    ### Here, the array size is for this bookkeeping is determined outside of sim_sir\n",
      "    ### and the arrays are passed in as arguments.\n",
      "\n",
      "    index = 0  ## simsir_idx_exp\n",
      "    for p_idx in range(N_p):  ## simsir_loop_1\n",
      "        beta = betas[p_idx]  ## simsir_loop_1_beta_exp\n",
      "        n_days = days[p_idx]  ## simsir_loop_1_N_d_exp\n",
      "        for d_idx in range(n_days):  ## simsir_loop_1_1\n",
      "            d_a[index] = d  ## simsir_loop_1_1_T_exp\n",
      "            s_a[index] = s  ## simsir_loop_1_1_S_exp\n",
      "            v_a[index] = v  ## simsir_loop_1_1_V_exp\n",
      "            i_a[index] = i  ## simsir_loop_1_1_I_exp\n",
      "            i_v_a[index] = i_v  ## simsir_loop_1_1_I_V_exp\n",
      "            r_a[index] = r  ## simsir_loop_1_1_R_exp\n",
      "            e_a[\n",
      "                index] = i + i_v + r  # updated \"ever\" infected (= i + i_v + r)  ### In CHIME sir.py, this is performed at end as sum of two numpy arrays; here perform iteratively\n",
      "\n",
      "            index += 1  ## simsir_loop_1_1_idx_exp\n",
      "\n",
      "            s, v, i, i_v, r = sir(s, v, i, i_v, r, vaccination_rate, beta, gamma_unvaccinated, gamma_vaccinated,\n",
      "                                  vaccine_efficacy, n)  ## simsir_loop_1_1_call_sir_exp\n",
      "\n",
      "            d += 1  ## simsir_loop_1_1_d_exp\n",
      "\n",
      "    # Record the last update (since sir() is called at the tail of the inner loop above)\n",
      "    d_a[index] = d  ## simsir_T_exp\n",
      "    s_a[index] = s  ## simsir_S_exp\n",
      "    v_a[index] = v  ## simsir_V_exp\n",
      "    i_a[index] = i  ## simsir_I_exp\n",
      "    i_v_a[index] = i_v  ## simsir_I_exp\n",
      "    r_a[index] = r  ## simsir_R_exp\n",
      "\n",
      "    return s, v, i, i_v, r, d_a, s_a, v_a, i_a, i_v_a, r_a, e_a  ### return\n",
      "\n",
      "\n",
      "def main():\n",
      "    \"\"\"\n",
      "    implements generic CHIME configuration without hospitalization calculation\n",
      "    initializes parameters and population, calculates policy, and runs dynamics\n",
      "    :return:\n",
      "    \"\"\"\n",
      "    ###\n",
      "\n",
      "    # initial parameters\n",
      "    i_day = 17.0  ## main_i_day_exp\n",
      "    n_days = [14, 90]  ## main_n_days_exp\n",
      "    N_p = 2  ## main_N_p_exp\n",
      "    N_t = sum(n_days) + 1  ## main_N_t_exp\n",
      "    infectious_days_unvaccinated = 14  ## main_inf_days_u_exp\n",
      "    infectious_days_vaccinated = 10  ## main_inf_days_v_exp\n",
      "    relative_contact_rate = [0.0, 0.45]  ## main_rcr_exp\n",
      "    gamma_unvaccinated = 1.0 / infectious_days_unvaccinated  ## main_gamma_u_exp\n",
      "    gamma_vaccinated = 1.0 / infectious_days_vaccinated  ## main_gamma_v_exp\n",
      "\n",
      "    # Vaccination parameters\n",
      "    vaccination_rate = 0.02  ## main_vaccination_rate_exp\n",
      "    vaccine_efficacy = 0.85  ## main_vaccine_efficacy_exp\n",
      "\n",
      "    # initialize lists for policy and simulation state bookkeeping\n",
      "    policys_betas = [0.0] * N_p  ## TODO size      # main_pbetas_seq\n",
      "    policy_days = [0] * N_p  ## main_pdays_seq\n",
      "    d_a = [0.0] * N_t  ## main_T_seq\n",
      "    s_a = [0.0] * N_t  ## main_S_seq\n",
      "    v_a = [0.0] * N_t  ## main_V_seq\n",
      "    i_a = [0.0] * N_t  ## main_I_seq\n",
      "    i_v_a = [0.0] * N_t  ## main_I_V_seq\n",
      "    r_a = [0.0] * N_t  ## main_R_seq\n",
      "    e_a = [0.0] * N_t  # \"ever\" infected (= I + R) ## main_E_seq\n",
      "\n",
      "    # initial population\n",
      "    s_n = 1000  ## main_s_n_exp\n",
      "    v_n = 0  ## main_v_n_exp\n",
      "    i_n = 1  ## main_i_n_exp\n",
      "    i_v_n = 0  ## main_i_v_n_exp\n",
      "    r_n = 0  ## main_r_n_exp\n",
      "\n",
      "    # calculate beta under policy\n",
      "    for p_idx in range(N_p):  ## main_loop_1\n",
      "        doubling_time = 2\n",
      "\n",
      "        growth_rate = get_growth_rate(doubling_time)  ## main_loop_1_gr_exp\n",
      "        beta = get_beta(growth_rate, gamma_unvaccinated, s_n,  ## main_loop_1_beta_exp\n",
      "                        relative_contact_rate[p_idx])\n",
      "        policys_betas[p_idx] = beta  ## main_loop_1_pbetas_exp\n",
      "        policy_days[p_idx] = n_days[p_idx]  ## main_loop_1_pdays_exp\n",
      "\n",
      "    # simulate dynamics (corresponding roughly to run_projection() )\n",
      "    s_n, v_n, i_n, i_v_n, r_n, d_a, s_a, v_a, i_a, i_v_a, r_a, e_a \\\n",
      "        = sim_sir(s_n, v_n, i_n, i_v_n, r_n, vaccination_rate, gamma_unvaccinated, gamma_vaccinated, vaccine_efficacy,\n",
      "                  i_day,  ## main_call_simsir_exp\n",
      "                  N_p, policys_betas, policy_days,\n",
      "                  d_a, s_a, v_a, i_a, i_v_a, r_a, e_a)\n",
      "\n",
      "    return d_a, s_a, v_a, i_a, i_v_a, r_a, e_a  # return simulated dynamics\n",
      "\n",
      "\n",
      "if __name__ == '__main__':\n",
      "    outfile = sys.argv[1]\n",
      "\n",
      "    d_a, s_a, v_a, i_a, i_v_a, r_a, e_a = main()\n",
      "\n",
      "    out_data = list()\n",
      "    keys = ['d', 's', 'v', 'i', 'i_v', 'r', 'e']\n",
      "    data_tuples = zip(d_a, s_a, v_a, i_a, i_v_a, r_a, e_a)\n",
      "    for dat in data_tuples:\n",
      "        out_data.append(\n",
      "            dict(zip(keys, dat))\n",
      "        )\n",
      "\n",
      "    with open(outfile, 'w') as csvfile:\n",
      "        writer = DictWriter(csvfile, fieldnames=keys, quoting=QUOTE_NONNUMERIC)\n",
      "        writer.writeheader()\n",
      "        writer.writerows(out_data)\n"
     ]
    }
   ],
   "source": [
    "code = \"model/SVIIvR/CHIME_SVIIvR.py\"\n",
    "code_str = connect.read_text_from_file(code)\n",
    "print(code_str)"
   ],
   "metadata": {
    "collapsed": false,
    "pycharm": {
     "name": "#%%\n"
    }
   }
  },
  {
   "cell_type": "code",
   "execution_count": 10,
   "outputs": [
    {
     "name": "stdout",
     "output_type": "stream",
     "text": [
      "1\tS^\\prime &=& - \\beta S I - \\beta S I_{v} - v_{r} S\n",
      "2\tV^\\prime &=& v_{r} S - v_{s} V I - v_{s} V I_{v}\n",
      "3\tI^\\prime &=& \\beta S I + \\beta S I_{v} - \\gamma I\n",
      "4\tI_{v}^\\prime &=& v_{s} V I + v_{s} V I_{v} - \\gamma I_{v}\n",
      "5\tR^\\prime &=& \\gamma I + \\gamma I_v\n",
      "\n"
     ]
    }
   ],
   "source": [
    "formula = \"model/SVIIvR/formula.tex_idx\"\n",
    "formula_text = connect.read_text_from_file(formula)\n",
    "print(formula_text)"
   ],
   "metadata": {
    "collapsed": false,
    "pycharm": {
     "name": "#%%\n"
    }
   }
  },
  {
   "cell_type": "code",
   "execution_count": 11,
   "outputs": [
    {
     "ename": "TypeError",
     "evalue": "formula_code_connection() takes 0 positional arguments but 2 were given",
     "output_type": "error",
     "traceback": [
      "\u001B[0;31m---------------------------------------------------------------------------\u001B[0m",
      "\u001B[0;31mTypeError\u001B[0m                                 Traceback (most recent call last)",
      "Cell \u001B[0;32mIn [11], line 1\u001B[0m\n\u001B[0;32m----> 1\u001B[0m \u001B[43mconnect\u001B[49m\u001B[38;5;241;43m.\u001B[39;49m\u001B[43mformula_code_connection\u001B[49m\u001B[43m(\u001B[49m\u001B[43mcode\u001B[49m\u001B[43m,\u001B[49m\u001B[43m \u001B[49m\u001B[43mformula\u001B[49m\u001B[43m)\u001B[49m\n",
      "\u001B[0;31mTypeError\u001B[0m: formula_code_connection() takes 0 positional arguments but 2 were given"
     ]
    }
   ],
   "source": [
    "connect.formula_code_connection(code, formula)"
   ],
   "metadata": {
    "collapsed": false,
    "pycharm": {
     "name": "#%%\n"
    }
   }
  },
  {
   "cell_type": "markdown",
   "id": "544f61bb",
   "metadata": {
    "pycharm": {
     "name": "#%% md\n"
    }
   },
   "source": [
    "### 3. Code to text matching"
   ]
  },
  {
   "cell_type": "code",
   "execution_count": 8,
   "outputs": [
    {
     "name": "stdout",
     "output_type": "stream",
     "text": [
      "def get_beta(intrinsic_growth_rate, gamma,           \n",
      "             susceptible, relative_contact_rate):    \n",
      "    inv_contact_rate = 1.0 - relative_contact_rate  \n",
      "    updated_growth_rate = intrinsic_growth_rate + gamma  \n",
      "    beta = updated_growth_rate / susceptible * inv_contact_rate \n",
      " \n",
      "    return beta  \n",
      "\n",
      "def get_growth_rate(doubling_time): \n",
      "    if doubling_time == 0:  \n",
      "        growth_rate = 0  \n",
      "    else:\n",
      "        growth_rate = 2.0 ** (1.0 / doubling_time) - 1.0 \n",
      "    return growth_rate \n",
      "\n",
      "def sir(s, i, r, beta, gamma, n): \n",
      "    s_n = (-beta * s * i) + s  \n",
      "    i_n = (beta * s * i - gamma * i) + i \n",
      "    r_n = gamma * i + r  \n",
      "\n",
      "    scale = n / (s_n + i_n + r_n) \n",
      "\n",
      "    s = s_n * scale \n",
      "    i = i_n * scale \n",
      "    r = r_n * scale \n",
      "    return s, i, r  \n",
      "\n",
      "def sim_sir(s, i, r, gamma, i_day, \n",
      "            N_p, betas, days, \n",
      "            d_a, s_a, i_a, r_a, e_a  \n",
      "            ):\n",
      "    n = s + i + r \n",
      "    d = i_day \n",
      "    index = 0  \n",
      "    p_idx = 0 \n",
      "\n",
      "    while p_idx < N_p:  \n",
      "        beta = betas[p_idx]  \n",
      "        n_days = days[p_idx]  \n",
      "        \n",
      "        d_idx = 0 \n",
      "        while d_idx < n_days:  \n",
      "            d_a[index] = d  \n",
      "            s_a[index] = s  \n",
      "            i_a[index] = i  \n",
      "            r_a[index] = r  \n",
      "            e_a[index] = i + r \n",
      "            index = index + 1  \n",
      "\n",
      "            s, i, r = sir(s, i, r, beta, gamma, n) \n",
      "            d = d + 1  \n",
      "            d_idx = d_idx + 1 \n",
      "        p_idx = p_idx +  1 \n",
      "    \n",
      "    d_a[index] = d \n",
      "    s_a[index] = s \n",
      "    i_a[index] = i \n",
      "    r_a[index] = r \n",
      "    e_a[index] = i + r \n",
      "\n",
      "    return s, i, r, d_a, s_a, i_a, r_a, e_a \n",
      "\n",
      "def main(): \n",
      "    i_day = 17.0  \n",
      "    n_days = 20   \n",
      "    N_p = 3       \n",
      "    N_t = 121     \n",
      "    infections_days = 14.0  \n",
      "    relative_contact_rate = 0.05  \n",
      "    gamma = 1.0 / infections_days  \n",
      "\n",
      "    policys_betas = [0.0] * N_p  \n",
      "    policy_days = [0] * N_p      \n",
      "    d_a = [0.0] * N_t  \n",
      "    s_a = [0.0] * N_t  \n",
      "    i_a = [0.0] * N_t  \n",
      "    r_a = [0.0] * N_t  \n",
      "    e_a = [0.0] * N_t  \n",
      "\n",
      "    \n",
      "    s_n = 1000 \n",
      "    i_n = 1  \n",
      "    r_n = 1  \n",
      "\n",
      "    p_idx = 0 \n",
      "    while p_idx < N_p:  \n",
      "        doubling_time = (p_idx - 1.0) * 5.0  \n",
      "\n",
      "        growth_rate = get_growth_rate(doubling_time) \n",
      "        beta = get_beta(growth_rate, gamma, s_n,     \n",
      "                        relative_contact_rate)\n",
      "        policys_betas[p_idx] = beta  \n",
      "        policy_days[p_idx] = n_days * p_idx  \n",
      "        p_idx = p_idx + 1\n",
      "\n",
      "    s_n, i_n, r_n, d_a, s_a, i_a, r_a, e_a \\\n",
      "        = sim_sir(s_n, i_n, r_n, gamma, i_day,  \n",
      "                  N_p, policys_betas, policy_days,\n",
      "                  d_a, s_a, i_a, r_a, e_a) \n",
      "                                           \n",
      "    #print(\"s_n: \" + str(s_n))            \n",
      "    #print(\"i_n: \" + str(i_n))            \n",
      "    #print(\"r_n: \" + str(r_n))            \n",
      "    #print(\"E: \" + str(e_a))              \n",
      "\n",
      "    return d_a, s_a, i_a, r_a, e_a  \n",
      "\n",
      "# main() \n",
      "\n"
     ]
    }
   ],
   "source": [
    "code = \"model/SIR/CHIME_SIR_while_loop.py\"\n",
    "code_str = connect.read_text_from_file(code)\n",
    "print(code_str)"
   ],
   "metadata": {
    "collapsed": false,
    "pycharm": {
     "name": "#%%\n"
    }
   }
  },
  {
   "cell_type": "code",
   "execution_count": 7,
   "outputs": [
    {
     "name": "stdout",
     "output_type": "stream",
     "text": [
      "0\tDiscrete-time SIR modeling of infections/recovery\n",
      "1\tThe model consists of individuals who are either Susceptible (S), Infected (I), or Recovered (R).\n",
      "2\tThe epidemic proceeds via a growth and decline process. This is the core model of infectious disease spread and has been in use in epidemiology for many years.\n",
      "3\tThe dynamics are given by the following 3 equations.\n",
      "4\tSt+1 = St−βStIt\n",
      "5\tIt+1 =It +βStIt−γIt\n",
      "6\tRt+1 = Rt + γIt\n",
      "7\tTo project the expected impact to Penn Medicine, we estimate the terms of the model.\n",
      "8\tTo do this, we use a combination of estimates from other locations, informed estimates based on logical reasoning, and best guesses from the American Hospital Association.\n",
      "9\tParameters\n",
      "10\tThe model's parameters, β and γ , determine the severity of the epidemic. β can be interpreted as the effective contact rate: β=τ×c\n",
      "11\twhich is the transmissibility τ multiplied by the average number of people exposed c. The transmissibility is the basic virulence of the pathogen. The number of people exposed c is the parameter that can be changed through social distancing.\n",
      "12\tγ is the inverse of the mean recovery time, in days. i.e.: if γ=1/14 then the average infection will clear in 14 days.\n",
      "13\tAn important descriptive parameter is the basic reproduction number, or R0 . This represents the average number of people who will be infected by any given infected person. When R0 is greater than 1, it means that a disease will\n",
      "14\tgrow. A higher R0 implies more rapid transmission and a more rapid growth of the epidemic. It is defined as R0 =β/γ\n",
      "15\tR0 is larger when\n",
      "16\tthe pathogen is more infectious\n",
      "17\tpeople are infectious for longer periods of time the number susceptible people is higher\n",
      "18\tA doubling time of 6 days and a recovery time of 14.0 days imply an R0 of 2.71. Effect of social distancing\n",
      "19\tAfter the beginning of the outbreak, actions to reduce social contact will lower the parameter c . If this happens at time t , then the effective reproduction rate is Rt , which will be lower than R0 .\n",
      "20\tFor example, in the model, a 50% reduction in social contact would increase the time it takes for the outbreak to double, to 27.5 days from 6.00 days, with a Rt of 1.36.\n",
      "21\tUsing the model\n",
      "22\tWe need to express the two parameters β and γ in terms of quantities we can estimate.\n",
      "23\tγ : the CDC recommends 14 days of self-quarantine, we'll use γ = 1/14 .\n",
      "24\tTo estimate β directly, we'd need to know transmissibility and social contact rates. Since we don't know these things, we can extract it from known doubling times. The AHA says to expect a doubling time Td of 7-10 days. That means an early-phase rate of growth can be computed by using the doubling time formula:\n",
      "25\tg = 21/Td −1\n",
      "26\tSince the rate of new infections in the SIR model is g = βS − γ and we've already computed γ , β becomes\n",
      "27\ta function of the initial population size of susceptible individuals β = (g + γ) . Initial Conditions\n",
      "28\tThe default value for the total size of the susceptible population defaults to the entire catchment area for Penn Medicine entities (HUP, PAH, PMC, CCH)\n",
      "29\tDelaware = 564696 Chester = 519293 Montgomery = 826075 Bucks = 628341\n",
      "30\tPhilly = 1581000\n",
      "31\tFor other default values, please consult the Data Inputs section.\n"
     ]
    }
   ],
   "source": [
    "text = \"model/SIR/description.txt\"\n",
    "idx_text = connect.read_text_from_file(connect.index_text(text))\n",
    "print(idx_text)"
   ],
   "metadata": {
    "collapsed": false,
    "pycharm": {
     "name": "#%%\n"
    }
   }
  },
  {
   "cell_type": "code",
   "execution_count": 1,
   "outputs": [
    {
     "ename": "NameError",
     "evalue": "name 'connect' is not defined",
     "output_type": "error",
     "traceback": [
      "\u001B[0;31m---------------------------------------------------------------------------\u001B[0m",
      "\u001B[0;31mNameError\u001B[0m                                 Traceback (most recent call last)",
      "Cell \u001B[0;32mIn [1], line 1\u001B[0m\n\u001B[0;32m----> 1\u001B[0m \u001B[43mconnect\u001B[49m\u001B[38;5;241m.\u001B[39mcode_text_connection(code, text)\n",
      "\u001B[0;31mNameError\u001B[0m: name 'connect' is not defined"
     ]
    }
   ],
   "source": [
    "connect.code_text_connection(code, text)"
   ],
   "metadata": {
    "collapsed": false,
    "pycharm": {
     "name": "#%%\n"
    }
   }
  },
  {
   "cell_type": "markdown",
   "source": [
    "### 4. Code to dataset matching"
   ],
   "metadata": {
    "collapsed": false,
    "pycharm": {
     "name": "#%% md\n"
    }
   }
  },
  {
   "cell_type": "code",
   "execution_count": null,
   "outputs": [],
   "source": [
    "code = \"./model/Bucky/bucky_sample.py\"\n",
    "code_str = connect.read_text_from_file(code)\n",
    "print(code_str)"
   ],
   "metadata": {
    "collapsed": false,
    "pycharm": {
     "name": "#%%\n"
    }
   }
  },
  {
   "cell_type": "code",
   "execution_count": null,
   "outputs": [],
   "source": [
    "dataset_dir =  \"./model/Bucky/data_sample/\"\n",
    "connect.print_list(dataset_dir)"
   ],
   "metadata": {
    "collapsed": false,
    "pycharm": {
     "name": "#%%\n"
    }
   }
  },
  {
   "cell_type": "code",
   "execution_count": null,
   "outputs": [],
   "source": [
    "connect.code_dataset_connection(code,dataset_dir)"
   ],
   "metadata": {
    "collapsed": false,
    "pycharm": {
     "name": "#%%\n"
    }
   }
  }
 ],
 "metadata": {
  "kernelspec": {
   "display_name": "Python 3 (ipykernel)",
   "language": "python",
   "name": "python3"
  },
  "language_info": {
   "codemirror_mode": {
    "name": "ipython",
    "version": 3
   },
   "file_extension": ".py",
   "mimetype": "text/x-python",
   "name": "python",
   "nbconvert_exporter": "python",
   "pygments_lexer": "ipython3",
   "version": "3.9.5"
  },
  "varInspector": {
   "cols": {
    "lenName": 16,
    "lenType": 16,
    "lenVar": 40
   },
   "kernels_config": {
    "python": {
     "delete_cmd_postfix": "",
     "delete_cmd_prefix": "del ",
     "library": "var_list.py",
     "varRefreshCmd": "print(var_dic_list())"
    },
    "r": {
     "delete_cmd_postfix": ") ",
     "delete_cmd_prefix": "rm(",
     "library": "var_list.r",
     "varRefreshCmd": "cat(var_dic_list()) "
    }
   },
   "types_to_exclude": [
    "module",
    "function",
    "builtin_function_or_method",
    "instance",
    "_Feature"
   ],
   "window_display": false
  }
 },
 "nbformat": 4,
 "nbformat_minor": 5
}