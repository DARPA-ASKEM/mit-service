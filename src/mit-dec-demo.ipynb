{
 "cells": [
  {
   "cell_type": "code",
   "execution_count": 1,
   "metadata": {
    "pycharm": {
     "name": "#%%\n"
    }
   },
   "outputs": [],
   "source": [
    "from automates.program_analysis.JSON2GroMEt.json2gromet import json_to_gromet\n",
    "from automates.gromet.query import query\n",
    "import gpt3 as gpt\n",
    "import requests"
   ]
  },
  {
   "cell_type": "markdown",
   "metadata": {
    "pycharm": {
     "name": "#%% md\n"
    }
   },
   "source": [
    "The following assumes that you have already generated the json (e.g., by running the notebook script `py_src_to_grometFN_JSON.ipynb`)"
   ]
  },
  {
   "cell_type": "code",
   "execution_count": 2,
   "metadata": {
    "pycharm": {
     "name": "#%%\n"
    }
   },
   "outputs": [],
   "source": [
    "gromet_fn_module = json_to_gromet(\"gromet/CHIME_SIR_while_loop--Gromet-FN-auto.json\")"
   ]
  },
  {
   "cell_type": "markdown",
   "metadata": {
    "pycharm": {
     "name": "#%% md\n"
    }
   },
   "source": [
    "The following uses the simple query to collect all named output ports of a GrometFNModule.\n",
    "`nops` will hold a `List` of `Tuples`, where each tuple has the following format:\n",
    "```\n",
    "(<name_of_output_port>,    # named output port == a variable in source code\n",
    " <literal_value>,          # IF a literal value has been assigned, otherwise None\n",
    " <source_code_reference>)  # metadatum for the source code location of the assignment\n",
    "```"
   ]
  },
  {
   "cell_type": "code",
   "execution_count": 8,
   "metadata": {
    "pycharm": {
     "name": "#%%\n"
    },
    "scrolled": true
   },
   "outputs": [
    {
     "name": "stdout",
     "output_type": "stream",
     "text": [
      "('inv_contact_rate', None, {'code_file_reference_uid': '09a64930-e9e4-8ae5-f825-bdf7c1e729f9',\n",
      " 'col_begin': 4,\n",
      " 'col_end': 50,\n",
      " 'line_begin': 3,\n",
      " 'line_end': 3,\n",
      " 'metadata_type': 'source_code_reference',\n",
      " 'provenance': {'method': 'skema_code2fn_program_analysis',\n",
      "                'timestamp': '2022-11-30 16:18:33.012848'}})\n"
     ]
    }
   ],
   "source": [
    "nops = query.collect_named_output_ports(gromet_fn_module)\n",
    "print(nops[0])"
   ]
  },
  {
   "cell_type": "markdown",
   "metadata": {},
   "source": [
    "We first set up access to the MIRA Epidemiology Domain Knowledge Graph (DKG) web service."
   ]
  },
  {
   "cell_type": "code",
   "execution_count": 4,
   "metadata": {
    "pycharm": {
     "name": "#%%\n"
    }
   },
   "outputs": [],
   "source": [
    "MIRA_DKG_URL = 'http://34.230.33.149:8771'\n",
    "\n",
    "def get_mira_dkg_term(term, attribs):\n",
    "    res = requests.get(MIRA_DKG_URL + '/api/search', params={'q': term})\n",
    "    term = [entity for entity in res.json() if entity['id'].startswith('askemo')][0]\n",
    "    res = {attrib: term.get(attrib) for attrib in attribs if term.get(attrib) is not None}\n",
    "    return res"
   ]
  },
  {
   "cell_type": "markdown",
   "metadata": {},
   "source": [
    "Next, we choose a set of terms and attributes to pull into a local ontology that we can use to connect to the model. In addition, for some of the terms, we define custom ranges in which their values for this model can be adjusted."
   ]
  },
  {
   "cell_type": "code",
   "execution_count": 5,
   "metadata": {
    "pycharm": {
     "name": "#%%\n"
    }
   },
   "outputs": [
    {
     "data": {
      "text/plain": [
       "{'population': {'description': 'The number of people who live in an area being modeled.',\n",
       "  'synonyms': [],\n",
       "  'xrefs': [{'id': 'ido:0000509', 'type': 'skos:exactMatch'}],\n",
       "  'suggested_unit': 'person',\n",
       "  'suggested_data_type': 'int',\n",
       "  'physical_min': 0.0,\n",
       "  'typical_min': 1000,\n",
       "  'typical_max': 40000000},\n",
       " 'doubling time': {'description': 'The length of time that an infectious disease requires to double in incidence.',\n",
       "  'synonyms': [{'value': 'doubling rate',\n",
       "    'type': 'oboInOwl:hasRelatedSynonym'}],\n",
       "  'xrefs': [{'id': 'cemo:epidemic_doubling_time', 'type': 'skos:exactMatch'}],\n",
       "  'suggested_unit': 'day',\n",
       "  'suggested_data_type': 'float',\n",
       "  'physical_min': 0.0},\n",
       " 'recovery time': {'description': 'The length of time an infected individual needs to recover after being infected.',\n",
       "  'synonyms': [{'value': 'mean recovery time',\n",
       "    'type': 'oboInOwl:hasExactSynonym'}],\n",
       "  'xrefs': [],\n",
       "  'suggested_unit': 'day',\n",
       "  'suggested_data_type': 'float',\n",
       "  'physical_min': 0.0},\n",
       " 'infectious time': {'description': 'The length of time an infected individual is infectious after being infected.',\n",
       "  'synonyms': [{'value': 'contagious time',\n",
       "    'type': 'oboInOwl:hasExactSynonym'},\n",
       "   {'value': 'infectious days', 'type': 'oboInOwl:hasNarrowSynonym'},\n",
       "   {'value': 'infectious period', 'type': 'oboInOwl:hasExactSynonym'}],\n",
       "  'xrefs': [{'id': 'apollosv:00000140', 'type': 'skos:exactMatch'}],\n",
       "  'suggested_unit': 'day',\n",
       "  'suggested_data_type': 'float',\n",
       "  'physical_min': 0.0,\n",
       "  'typical_min': 1.0,\n",
       "  'typical_max': 35.0}}"
      ]
     },
     "execution_count": 5,
     "metadata": {},
     "output_type": "execute_result"
    }
   ],
   "source": [
    "# Terms we want to find in MIRA and specific attributes we want to add to our local ontology\n",
    "terms = ['population', 'doubling time', 'recovery time', 'infectious time']\n",
    "attribs = ['description', 'synonyms', 'xrefs', 'suggested_unit', 'suggested_data_type',\n",
    "           'physical_min', 'physical_max', 'typical_min', 'typical_max']\n",
    "\n",
    "# The local ontology if filled up from the MIRA DKG\n",
    "LOCAL_ONTOLOGY = {\n",
    "    term: get_mira_dkg_term(term, attribs) for term in terms\n",
    "    }\n",
    "\n",
    "# We can also set further local / use-case specific constraints as needed\n",
    "LOCAL_ONTOLOGY['population']['typical_min'] = 1000\n",
    "LOCAL_ONTOLOGY['population']['typical_max'] = 40_000_000\n",
    "\n",
    "LOCAL_ONTOLOGY"
   ]
  },
  {
   "cell_type": "markdown",
   "metadata": {
    "pycharm": {
     "name": "#%% md\n"
    }
   },
   "source": [
    "Ontology to Gromet matching"
   ]
  },
  {
   "cell_type": "code",
   "execution_count": null,
   "outputs": [],
   "source": [
    "targets = ['population', 'infectious time']\n",
    "terms = ['population', 'doubling time', 'recovery time', 'infectious time']\n",
    "\n",
    "parameters = set()\n",
    "var_dict = {}\n",
    "for nop in nops:\n",
    "    if nop[1] is not None:\n",
    "        parameters.add(nop[0])\n",
    "        var_dict[nop[0]] = nop\n",
    "\n",
    "discoveredParameterConnections = gpt.match_gromet_targets(targets, list(parameters), var_dict, terms)\n",
    "discoveredParameterConnections"
   ],
   "metadata": {
    "collapsed": false,
    "pycharm": {
     "name": "#%%\n"
    }
   }
  },
  {
   "cell_type": "markdown",
   "source": [
    "Ontology to code matching"
   ],
   "metadata": {
    "collapsed": false,
    "pycharm": {
     "name": "#%% md\n"
    }
   }
  },
  {
   "cell_type": "code",
   "execution_count": null,
   "outputs": [],
   "source": [
    "code = \"model/SIR/CHIME_SIR_while_loop.py\"\n",
    "targets = ['population', 'infectious time']\n",
    "discoveredParameterConnections = []\n",
    "try:\n",
    "    discoveredParameterConnections = gpt.match_code_targets(targets, code, terms)\n",
    "except OpenAIError as err:\n",
    "    print(\"OpenAI connection error:\", err)\n",
    "    print(\"Using hard-coded connections\")\n",
    "    discoveredParameterConnections = [(\"infectious time\", {\"name\": \"grometSubObject\"}, 14.0, 67),(\"population\", {\"name\": \"grometSubObject\"}, 1000, 80)]\n",
    "\n",
    "discoveredParameterConnections"
   ],
   "metadata": {
    "collapsed": false,
    "pycharm": {
     "name": "#%%\n"
    }
   }
  },
  {
   "cell_type": "markdown",
   "source": [
    "Formula to code matching"
   ],
   "metadata": {
    "collapsed": false,
    "pycharm": {
     "name": "#%% md\n"
    }
   }
  },
  {
   "cell_type": "code",
   "execution_count": null,
   "outputs": [],
   "source": [
    "gpt.formula_code_connection()"
   ],
   "metadata": {
    "collapsed": false,
    "pycharm": {
     "name": "#%%\n"
    }
   }
  },
  {
   "cell_type": "markdown",
   "source": [
    "Code to text matching"
   ],
   "metadata": {
    "collapsed": false,
    "pycharm": {
     "name": "#%% md\n"
    }
   }
  },
  {
   "cell_type": "code",
   "execution_count": null,
   "outputs": [],
   "source": [
    "gpt.code_text_connection()"
   ],
   "metadata": {
    "collapsed": false,
    "pycharm": {
     "name": "#%%\n"
    }
   }
  },
  {
   "cell_type": "code",
   "execution_count": null,
   "outputs": [],
   "source": [
    "# WIP \n",
    "from ipywidgets import interact, widgets\n",
    "from IPython.display import display\n",
    "\n",
    "text = widgets.Text(\n",
    "    value='last',\n",
    "    placeholder='Paste ticket description here!',\n",
    "    description='String:',\n",
    "    disabled=False\n",
    ")\n",
    "display(text)\n",
    "\n",
    "def callback(wdgt):\n",
    "    # replace by something useful\n",
    "    display(wdgt.value)\n",
    "\n",
    "text.on_submit(callback)"
   ],
   "metadata": {
    "collapsed": false,
    "pycharm": {
     "name": "#%%\n"
    }
   }
  },
  {
   "cell_type": "code",
   "execution_count": null,
   "outputs": [],
   "source": [
    "# WIP\n",
    "def mytextfunction(x):\n",
    "    print(x)\n",
    "    return x\n",
    "\n",
    "interactive_text = interactive(mytextfunction, x=\"Hello World\")\n",
    "interactive_text"
   ],
   "metadata": {
    "collapsed": false,
    "pycharm": {
     "name": "#%%\n"
    }
   }
  },
  {
   "cell_type": "code",
   "execution_count": 1,
   "metadata": {},
   "outputs": [
    {
     "data": {
      "application/vnd.jupyter.widget-view+json": {
       "model_id": "308bba2fcba644b1b0b268ce71903f0e",
       "version_major": 2,
       "version_minor": 0
      },
      "text/plain": [
       "Text(value='last', description='String:', placeholder='Paste ticket description here!')"
      ]
     },
     "metadata": {},
     "output_type": "display_data"
    }
   ],
   "source": [
    "# WIP \n",
    "from ipywidgets import interact, widgets\n",
    "from IPython.display import display\n",
    "\n",
    "text = widgets.Text(\n",
    "    value='last',\n",
    "    placeholder='Paste ticket description here!',\n",
    "    description='String:',\n",
    "    disabled=False\n",
    ")\n",
    "display(text)\n",
    "\n",
    "def callback(wdgt):\n",
    "    # replace by something useful\n",
    "    display(wdgt.value)\n",
    "\n",
    "text.on_submit(callback)"
   ]
  },
  {
   "cell_type": "code",
   "execution_count": 2,
   "metadata": {},
   "outputs": [
    {
     "ename": "NameError",
     "evalue": "name 'interactive' is not defined",
     "output_type": "error",
     "traceback": [
      "\u001B[0;31m---------------------------------------------------------------------------\u001B[0m",
      "\u001B[0;31mNameError\u001B[0m                                 Traceback (most recent call last)",
      "\u001B[0;32m<ipython-input-2-50c3b0346fae>\u001B[0m in \u001B[0;36m<module>\u001B[0;34m\u001B[0m\n\u001B[1;32m      3\u001B[0m     \u001B[0;32mreturn\u001B[0m \u001B[0mx\u001B[0m\u001B[0;34m\u001B[0m\u001B[0;34m\u001B[0m\u001B[0m\n\u001B[1;32m      4\u001B[0m \u001B[0;34m\u001B[0m\u001B[0m\n\u001B[0;32m----> 5\u001B[0;31m \u001B[0minteractive_text\u001B[0m \u001B[0;34m=\u001B[0m \u001B[0minteractive\u001B[0m\u001B[0;34m(\u001B[0m\u001B[0mmytextfunction\u001B[0m\u001B[0;34m,\u001B[0m \u001B[0mx\u001B[0m\u001B[0;34m=\u001B[0m\u001B[0;34m\"Hello World\"\u001B[0m\u001B[0;34m)\u001B[0m\u001B[0;34m\u001B[0m\u001B[0;34m\u001B[0m\u001B[0m\n\u001B[0m\u001B[1;32m      6\u001B[0m \u001B[0minteractive_text\u001B[0m\u001B[0;34m\u001B[0m\u001B[0;34m\u001B[0m\u001B[0m\n",
      "\u001B[0;31mNameError\u001B[0m: name 'interactive' is not defined"
     ]
    }
   ],
   "source": [
    "# WIP\n",
    "def mytextfunction(x):\n",
    "    print(x)\n",
    "    return x\n",
    "\n",
    "interactive_text = interactive(mytextfunction, x=\"Hello World\")\n",
    "interactive_text"
   ]
  },
  {
   "cell_type": "code",
   "execution_count": null,
   "metadata": {},
   "outputs": [],
   "source": []
  }
 ],
 "metadata": {
  "kernelspec": {
   "display_name": "Python 3",
   "language": "python",
   "name": "python3"
  },
  "language_info": {
   "codemirror_mode": {
    "name": "ipython",
    "version": 3
   },
   "file_extension": ".py",
   "mimetype": "text/x-python",
   "name": "python",
   "nbconvert_exporter": "python",
   "pygments_lexer": "ipython3",
   "version": "3.8.10"
  },
  "varInspector": {
   "cols": {
    "lenName": 16,
    "lenType": 16,
    "lenVar": 40
   },
   "kernels_config": {
    "python": {
     "delete_cmd_postfix": "",
     "delete_cmd_prefix": "del ",
     "library": "var_list.py",
     "varRefreshCmd": "print(var_dic_list())"
    },
    "r": {
     "delete_cmd_postfix": ") ",
     "delete_cmd_prefix": "rm(",
     "library": "var_list.r",
     "varRefreshCmd": "cat(var_dic_list()) "
    }
   },
   "types_to_exclude": [
    "module",
    "function",
    "builtin_function_or_method",
    "instance",
    "_Feature"
   ],
   "window_display": false
  }
 },
 "nbformat": 4,
 "nbformat_minor": 5
}