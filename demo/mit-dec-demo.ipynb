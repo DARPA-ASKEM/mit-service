{
 "cells": [
  {
   "cell_type": "code",
   "execution_count": 2,
   "metadata": {
    "pycharm": {
     "name": "#%%\n"
    }
   },
   "outputs": [
    {
     "ename": "ModuleNotFoundError",
     "evalue": "No module named 'automates'",
     "output_type": "error",
     "traceback": [
      "\u001B[0;31m---------------------------------------------------------------------------\u001B[0m",
      "\u001B[0;31mModuleNotFoundError\u001B[0m                       Traceback (most recent call last)",
      "Cell \u001B[0;32mIn [2], line 1\u001B[0m\n\u001B[0;32m----> 1\u001B[0m \u001B[38;5;28;01mfrom\u001B[39;00m \u001B[38;5;21;01mautomates\u001B[39;00m\u001B[38;5;21;01m.\u001B[39;00m\u001B[38;5;21;01mprogram_analysis\u001B[39;00m\u001B[38;5;21;01m.\u001B[39;00m\u001B[38;5;21;01mJSON2GroMEt\u001B[39;00m\u001B[38;5;21;01m.\u001B[39;00m\u001B[38;5;21;01mjson2gromet\u001B[39;00m \u001B[38;5;28;01mimport\u001B[39;00m json_to_gromet\n\u001B[1;32m      3\u001B[0m \u001B[38;5;28;01mfrom\u001B[39;00m \u001B[38;5;21;01mautomates\u001B[39;00m\u001B[38;5;21;01m.\u001B[39;00m\u001B[38;5;21;01mgromet\u001B[39;00m\u001B[38;5;21;01m.\u001B[39;00m\u001B[38;5;21;01mquery\u001B[39;00m \u001B[38;5;28;01mimport\u001B[39;00m query\n\u001B[1;32m      4\u001B[0m \u001B[38;5;28;01mimport\u001B[39;00m \u001B[38;5;21;01mgpt3\u001B[39;00m \u001B[38;5;28;01mas\u001B[39;00m \u001B[38;5;21;01mgpt\u001B[39;00m\n",
      "\u001B[0;31mModuleNotFoundError\u001B[0m: No module named 'automates'"
     ]
    }
   ],
   "source": [
    "from automates.program_analysis.JSON2GroMEt.json2gromet import json_to_gromet\n",
    "\n",
    "from automates.gromet.query import query\n",
    "import gpt3 as gpt"
   ]
  },
  {
   "cell_type": "markdown",
   "metadata": {
    "pycharm": {
     "name": "#%% md\n"
    }
   },
   "source": [
    "The following assumes that you have already generated the json (e.g., by running the notebook script `py_src_to_grometFN_JSON.ipynb`)"
   ]
  },
  {
   "cell_type": "code",
   "execution_count": 2,
   "metadata": {
    "pycharm": {
     "name": "#%%\n"
    }
   },
   "outputs": [],
   "source": [
    "gromet_fn_module = json_to_gromet(\"gromet/CHIME_SIR_while_loop--Gromet-FN-auto.json\")"
   ]
  },
  {
   "cell_type": "markdown",
   "metadata": {
    "pycharm": {
     "name": "#%% md\n"
    }
   },
   "source": [
    "The following uses the simple query to collect all named output ports of a GrometFNModule.\n",
    "`nops` will hold a `List` of `Tuples`, where each tuple has the following format:\n",
    "```\n",
    "(<name_of_output_port>,    # named output port == a variable in source code\n",
    " <literal_value>,          # IF a literal value has been assigned, otherwise None\n",
    " <source_code_reference>)  # metadatum for the source code location of the assignment\n",
    "```"
   ]
  },
  {
   "cell_type": "code",
   "execution_count": 3,
   "metadata": {
    "pycharm": {
     "name": "#%%\n"
    }
   },
   "outputs": [
    {
     "name": "stdout",
     "output_type": "stream",
     "text": [
      "('updated_growth_rate', None, {'code_file_reference_uid': '09a64930-e9e4-8ae5-f825-bdf7c1e729f9',\n",
      " 'col_begin': 4,\n",
      " 'col_end': 55,\n",
      " 'line_begin': 4,\n",
      " 'line_end': 4,\n",
      " 'metadata_type': 'source_code_reference',\n",
      " 'provenance': {'method': 'skema_code2fn_program_analysis',\n",
      "                'timestamp': '2022-11-30 16:18:33.012974'}})\n"
     ]
    }
   ],
   "source": [
    "nops = query.collect_named_output_ports(gromet_fn_module)\n",
    "print(nops[1])"
   ]
  },
  {
   "cell_type": "code",
   "execution_count": null,
   "outputs": [],
   "source": [
    "MIRA_DKG_URL = 'http://34.230.33.149:8771'\n",
    "\n",
    "def get_mira_dkg_term(term, attribs):\n",
    "    res = requests.get(MIRA_DKG_URL + '/api/search', params={'q': term})\n",
    "    term = [entity for entity in res.json() if entity['id'].startswith('askemo')][0]\n",
    "    res = {attrib: term.get(attrib) for attrib in attribs if term.get(attrib) is not None}\n",
    "    return res"
   ],
   "metadata": {
    "collapsed": false,
    "pycharm": {
     "name": "#%%\n"
    }
   }
  },
  {
   "cell_type": "code",
   "execution_count": null,
   "outputs": [],
   "source": [
    "# Terms we want to find in MIRA and specific attributes we want to add to our local ontology\n",
    "terms = ['population', 'doubling time', 'recovery time', 'infectious time']\n",
    "attribs = ['description', 'synonyms', 'xrefs', 'suggested_unit', 'suggested_data_type',\n",
    "           'physical_min', 'physical_max', 'typical_min', 'typical_max']\n",
    "\n",
    "# The local ontology if filled up from the MIRA DKG\n",
    "LOCAL_ONTOLOGY = {\n",
    "    term: get_mira_dkg_term(term, attribs) for term in terms\n",
    "    }\n",
    "\n",
    "# We can also set further local / use-case specific constraints as needed\n",
    "LOCAL_ONTOLOGY['population']['typical_min'] = 1000\n",
    "LOCAL_ONTOLOGY['population']['typical_max'] = 40_000_000\n",
    "\n",
    "LOCAL_ONTOLOGY"
   ],
   "metadata": {
    "collapsed": false,
    "pycharm": {
     "name": "#%%\n"
    }
   }
  },
  {
   "cell_type": "markdown",
   "metadata": {
    "pycharm": {
     "name": "#%% md\n"
    }
   },
   "source": [
    "The following prints each name-output-port info tuple on a separate line."
   ]
  },
  {
   "cell_type": "code",
   "execution_count": 1,
   "metadata": {
    "pycharm": {
     "name": "#%%\n"
    }
   },
   "outputs": [
    {
     "ename": "NameError",
     "evalue": "name 'nops' is not defined",
     "output_type": "error",
     "traceback": [
      "\u001B[0;31m---------------------------------------------------------------------------\u001B[0m",
      "\u001B[0;31mNameError\u001B[0m                                 Traceback (most recent call last)",
      "Cell \u001B[0;32mIn [1], line 6\u001B[0m\n\u001B[1;32m      4\u001B[0m parameters \u001B[38;5;241m=\u001B[39m \u001B[38;5;28mset\u001B[39m()\n\u001B[1;32m      5\u001B[0m var_dict \u001B[38;5;241m=\u001B[39m {}\n\u001B[0;32m----> 6\u001B[0m \u001B[38;5;28;01mfor\u001B[39;00m nop \u001B[38;5;129;01min\u001B[39;00m \u001B[43mnops\u001B[49m:\n\u001B[1;32m      7\u001B[0m     \u001B[38;5;28;01mif\u001B[39;00m nop[\u001B[38;5;241m1\u001B[39m] \u001B[38;5;129;01mis\u001B[39;00m \u001B[38;5;129;01mnot\u001B[39;00m \u001B[38;5;28;01mNone\u001B[39;00m:\n\u001B[1;32m      8\u001B[0m         parameters\u001B[38;5;241m.\u001B[39madd(nop[\u001B[38;5;241m0\u001B[39m])\n",
      "\u001B[0;31mNameError\u001B[0m: name 'nops' is not defined"
     ]
    }
   ],
   "source": [
    "\n",
    "targets = ['population', 'infectious time']\n",
    "terms = ['population', 'doubling time', 'recovery time', 'infectious time']\n",
    "\n",
    "parameters = set()\n",
    "var_dict = {}\n",
    "for nop in nops:\n",
    "    if nop[1] is not None:\n",
    "        parameters.add(nop[0])\n",
    "        var_dict[nop[0]] = nop\n",
    "#         print(type(nop[1].to_dict()))\n",
    "# print((var_dict))\n",
    "# print(len(parameters))\n",
    "discoveredParameterConnections = gpt.match_gromet_targets(targets, list(parameters), var_dict, terms)\n",
    "discoveredParameterConnections"
   ]
  },
  {
   "cell_type": "code",
   "execution_count": 5,
   "metadata": {
    "pycharm": {
     "name": "#%%\n"
    }
   },
   "outputs": [
    {
     "name": "stdout",
     "output_type": "stream",
     "text": [
      "1 (inv_contact_rate, 1.0)\n",
      "2 (growth_rate, 0)\n",
      "3 (growth_rate, 2.0)\n",
      "4 (index, 0)\n",
      "5 (p_idx, 0)\n",
      "6 (d_idx, 0)\n",
      "7 (i_day, 17.0)\n",
      "8 (n_days, 20)\n",
      "9 (N_p, 3)\n",
      "10 (N_t, 121)\n",
      "11 (infections_days, 14.0)\n",
      "12 (relative_contact_rate, 0.05)\n",
      "13 (gamma, 1.0)\n",
      "14 (s_n, 1000)\n",
      "15 (i_n, 1)\n",
      "16 (r_n, 1)\n",
      "17 (p_idx, 0)\n",
      "\n",
      "[population, doubling time, recovery time, infectious time]\n",
      "We have a list of variable names and initial values for lines of code in a Python program.The list has 17 elements\n",
      "1 (inv_contact_rate, 1.0)\n",
      "2 (growth_rate, 0)\n",
      "3 (growth_rate, 2.0)\n",
      "4 (index, 0)\n",
      "5 (p_idx, 0)\n",
      "6 (d_idx, 0)\n",
      "7 (i_day, 17.0)\n",
      "8 (n_days, 20)\n",
      "9 (N_p, 3)\n",
      "10 (N_t, 121)\n",
      "11 (infections_days, 14.0)\n",
      "12 (relative_contact_rate, 0.05)\n",
      "13 (gamma, 1.0)\n",
      "14 (s_n, 1000)\n",
      "15 (i_n, 1)\n",
      "16 (r_n, 1)\n",
      "17 (p_idx, 0)\n",
      "\n",
      "There is also an ontology which has 4 items:\n",
      "ontology = [population, doubling time, recovery time, infectious time]\n",
      "Some code elements have a matching element in the ontology. For example,\n",
      "(s_n, 1000) matches 'population'\n",
      "(relative_contact_rate, 005) matches 'number contacts'\n",
      "Which element is the best match for population?\n",
      "The best match for population is (s_n, 1000).\n",
      "1 (inv_contact_rate, 1.0)\n",
      "2 (growth_rate, 0)\n",
      "3 (growth_rate, 2.0)\n",
      "4 (index, 0)\n",
      "5 (p_idx, 0)\n",
      "6 (d_idx, 0)\n",
      "7 (i_day, 17.0)\n",
      "8 (n_days, 20)\n",
      "9 (N_p, 3)\n",
      "10 (N_t, 121)\n",
      "11 (infections_days, 14.0)\n",
      "12 (relative_contact_rate, 0.05)\n",
      "13 (gamma, 1.0)\n",
      "14 (s_n, 1000)\n",
      "15 (i_n, 1)\n",
      "16 (r_n, 1)\n",
      "17 (p_idx, 0)\n",
      "\n",
      "[population, doubling time, recovery time, infectious time]\n",
      "We have a list of variable names and initial values for lines of code in a Python program.The list has 17 elements\n",
      "1 (inv_contact_rate, 1.0)\n",
      "2 (growth_rate, 0)\n",
      "3 (growth_rate, 2.0)\n",
      "4 (index, 0)\n",
      "5 (p_idx, 0)\n",
      "6 (d_idx, 0)\n",
      "7 (i_day, 17.0)\n",
      "8 (n_days, 20)\n",
      "9 (N_p, 3)\n",
      "10 (N_t, 121)\n",
      "11 (infections_days, 14.0)\n",
      "12 (relative_contact_rate, 0.05)\n",
      "13 (gamma, 1.0)\n",
      "14 (s_n, 1000)\n",
      "15 (i_n, 1)\n",
      "16 (r_n, 1)\n",
      "17 (p_idx, 0)\n",
      "\n",
      "There is also an ontology which has 4 items:\n",
      "ontology = [population, doubling time, recovery time, infectious time]\n",
      "Some code elements have a matching element in the ontology. For example,\n",
      "(s_n, 1000) matches 'population'\n",
      "(relative_contact_rate, 005) matches 'number contacts'\n",
      "Which element is the best match for infectious time?\n",
      "The best match for infectious time is (infections_days, 14.0).\n"
     ]
    },
    {
     "data": {
      "text/plain": [
       "[('population', {'s_n': 'grometSubObject'}, 1000.0, 81),\n",
       " ('infectious time', {'infections_days': 'grometSubObject'}, 14.0, 68)]"
      ]
     },
     "execution_count": 5,
     "metadata": {},
     "output_type": "execute_result"
    }
   ],
   "source": [
    "code = \"CHIME_SIR_default_model.py\"\n",
    "targets = ['population', 'infectious time']\n",
    "discoveredParameterConnections = []\n",
    "try:\n",
    "    discoveredParameterConnections = gpt.match_code_targets(targets, code, terms)\n",
    "except OpenAIError as err:\n",
    "    print(\"OpenAI connection error:\", err)\n",
    "    print(\"Using hard-coded connections\")\n",
    "    discoveredParameterConnections = [(\"infectious time\", {\"name\": \"grometSubObject\"}, 14.0, 67),(\"population\", {\"name\": \"grometSubObject\"}, 1000, 80)]\n",
    "\n",
    "discoveredParameterConnections"
   ]
  },
  {
   "cell_type": "code",
   "execution_count": 7,
   "metadata": {
    "pycharm": {
     "name": "#%%\n"
    }
   },
   "outputs": [],
   "source": [
    "import os\n",
    "\n",
    "# The following should be edited to point to you own local path \n",
    "# to your local copy of the ASKEM-SKEMA google drive contents\n",
    "ROOT = \"/Users/claytonm/My Drive/ASKEM-SKEMA/data/\"\n",
    "\n",
    "EXP0_GROMET_JSON = os.path.join(ROOT, \"gromet/examples/exp0/FN_0.1.4/exp0--Gromet-FN-auto.json\")\n",
    "EXP1_GROMET_JSON = os.path.join(ROOT, \"gromet/examples/exp1/FN_0.1.4/exp1--Gromet-FN-auto.json\")\n",
    "EXP2_GROMET_JSON = os.path.join(ROOT, \"gromet/examples/exp2/FN_0.1.4/exp2--Gromet-FN-auto.json\")\n",
    "CHIME_SIR_GROMET_JSON = os.path.join(ROOT, \"epidemiology/CHIME/CHIME_SIR_model/gromet/FN_0.1.4/CHIME_SIR--Gromet-FN-auto.json\")"
   ]
  },
  {
   "cell_type": "code",
   "execution_count": null,
   "metadata": {
    "pycharm": {
     "name": "#%%\n"
    }
   },
   "outputs": [],
   "source": []
  }
 ],
 "metadata": {
  "kernelspec": {
   "display_name": "Python 3",
   "language": "python",
   "name": "python3"
  },
  "language_info": {
   "codemirror_mode": {
    "name": "ipython",
    "version": 3
   },
   "file_extension": ".py",
   "mimetype": "text/x-python",
   "name": "python",
   "nbconvert_exporter": "python",
   "pygments_lexer": "ipython3",
   "version": "3.8.10"
  },
  "varInspector": {
   "cols": {
    "lenName": 16,
    "lenType": 16,
    "lenVar": 40
   },
   "kernels_config": {
    "python": {
     "delete_cmd_postfix": "",
     "delete_cmd_prefix": "del ",
     "library": "var_list.py",
     "varRefreshCmd": "print(var_dic_list())"
    },
    "r": {
     "delete_cmd_postfix": ") ",
     "delete_cmd_prefix": "rm(",
     "library": "var_list.r",
     "varRefreshCmd": "cat(var_dic_list()) "
    }
   },
   "types_to_exclude": [
    "module",
    "function",
    "builtin_function_or_method",
    "instance",
    "_Feature"
   ],
   "window_display": false
  }
 },
 "nbformat": 4,
 "nbformat_minor": 5
}