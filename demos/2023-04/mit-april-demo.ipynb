{
 "cells": [
  {
   "cell_type": "markdown",
   "id": "5c9b2c23",
   "metadata": {
    "pycharm": {
     "name": "#%% md\n"
    }
   },
   "source": [
    "# MIT (TA1): From Paper and Code to annotated Petri Nets"
   ]
  },
  {
   "cell_type": "markdown",
   "id": "0701ccf7",
   "metadata": {
    "pycharm": {
     "name": "#%% md\n"
    }
   },
   "source": [
    "#### Mike Cafarella, Chunwei Liu, Markos Markakis, Peter Chen"
   ]
  },
  {
   "cell_type": "markdown",
   "id": "2719d0e6",
   "metadata": {
    "pycharm": {
     "name": "#%% md\n"
    }
   },
   "source": [
    "## 0. Preprocessing"
   ]
  },
  {
   "cell_type": "code",
   "execution_count": 2,
   "id": "d07d53d5",
   "metadata": {
    "pycharm": {
     "name": "#%%\n"
    }
   },
   "outputs": [],
   "source": [
    "import ast, json, requests, os\n",
    "from IPython import display\n",
    "from gpt_key import *\n",
    "PARAM = \"/Users/chunwei/research/mitaskem/resources/xDD/params/\"\n",
    "API_ROOT = \"http://localhost:8000/\""
   ]
  },
  {
   "cell_type": "code",
   "execution_count": 3,
   "outputs": [
    {
     "data": {
      "text/plain": "{'title': 'COVID-19 Vaccine Effectiveness by Product and Timing in New York State',\n 'doi': '10.1101/2021.10.08.21264595',\n 'url': 'https://www.medrxiv.org/content/10.1101/2021.10.08.21264595v1'}"
     },
     "execution_count": 3,
     "metadata": {},
     "output_type": "execute_result"
    }
   ],
   "source": [
    "from ensemble.ensemble import load_paper_info\n",
    "\n",
    "papers = load_paper_info(\"/Users/chunwei/research/mitaskem/resources/xDD/xdd_paper.json\")\n",
    "paper = papers[0]\n",
    "paper"
   ],
   "metadata": {
    "collapsed": false,
    "pycharm": {
     "name": "#%%\n"
    }
   }
  },
  {
   "cell_type": "markdown",
   "source": [
    "#### We can run a local script to consolidate the \"content\" fields to get just the text of the paper:"
   ],
   "metadata": {
    "collapsed": false,
    "pycharm": {
     "name": "#%% md\n"
    }
   }
  },
  {
   "cell_type": "markdown",
   "id": "ae6e9ef4",
   "metadata": {
    "pycharm": {
     "name": "#%% md\n"
    }
   },
   "source": [
    "## 1. Extracting variables and annotating them from the text and the DKG"
   ]
  },
  {
   "cell_type": "markdown",
   "id": "1c55b8b4",
   "metadata": {
    "pycharm": {
     "name": "#%% md\n"
    }
   },
   "source": [
    "#### Using our API (powered by GPT-3), we can extract variables from the paper alongside a list of possible definitions, and ground each of these variables to the MIRA DKG (thanks Harvard team!). If you're interested, the JSON format of our intermediate output can be found [here](https://github.com/mikecafarella/mitaskem/blob/main/JSONformat.md)."
   ]
  },
  {
   "cell_type": "code",
   "execution_count": 4,
   "id": "4b84abd1",
   "metadata": {
    "pycharm": {
     "name": "#%%\n"
    }
   },
   "outputs": [],
   "source": [
    "with open(PARAM+paper[\"title\"]+\"_vars.txt\", \"r\") as f:\n",
    "        text = f.read()           \n",
    "        dct_extract = {\"text\":text, \"gpt_key\":GPT_KEY}           \n",
    "        json_str = requests.post(API_ROOT + \"annotation/find_text_vars/\", params=dct_extract).text"
   ]
  },
  {
   "cell_type": "code",
   "execution_count": 5,
   "id": "f3ca99aa",
   "metadata": {
    "pycharm": {
     "name": "#%%\n"
    }
   },
   "outputs": [
    {
     "data": {
      "text/plain": "[{'type': 'variable',\n  'name': 'VE',\n  'id': 'v0',\n  'text_annotations': [' Vaccine Effectiveness', ' Vaccine Effectiveness'],\n  'dkg_annotations': [['']]},\n {'type': 'variable',\n  'name': 'Pfizer-BioNTech',\n  'id': 'v1',\n  'text_annotations': [' Vaccine Product',\n   ' Vaccine primarily distributed to NYS'],\n  'dkg_annotations': []},\n {'type': 'variable',\n  'name': 'Moderna',\n  'id': 'v2',\n  'text_annotations': [' Vaccine Product', ' Vaccine product'],\n  'dkg_annotations': [['ncit:C177124', 'Moderna'], ['vo:0004953', 'Moderna']]},\n {'type': 'variable',\n  'name': 'Janssen',\n  'id': 'v3',\n  'text_annotations': [' Vaccine Product', ' Vaccine product'],\n  'dkg_annotations': [['vo:0004932', 'Janssen Pharmaceutica'],\n   ['ncit:C164191', 'Janssen Pharmaceuticals']]},\n {'type': 'variable',\n  'name': 'Delta variant',\n  'id': 'v4',\n  'text_annotations': [' Variant of the virus',\n   ' Percentage of the population that has the Delta variant of the virus.VE for cases'],\n  'dkg_annotations': [['cido:0000376', 'SARS-CoV-2 Delta variant'],\n   ['cido:0000063', 'Delta variant COVID-19 disease process']]},\n {'type': 'variable',\n  'name': 'NYS',\n  'id': 'v5',\n  'text_annotations': [' New York State'],\n  'dkg_annotations': [['geonames:2990440', 'Nice'],\n   ['geonames:2147714', 'Sydney']]},\n {'type': 'variable',\n  'name': 'Cohort',\n  'id': 'v6',\n  'text_annotations': [' Group of persons remaining unvaccinated or fully vaccinated as of May 1, 2021.'],\n  'dkg_annotations': [['ncit:C61512', 'Cohort'], ['stato:0000203', 'cohort']]},\n {'type': 'variable',\n  'name': 'CIR',\n  'id': 'v7',\n  'text_annotations': [' Citywide Immunization Registry.'],\n  'dkg_annotations': [['']]},\n {'type': 'variable',\n  'name': 'NYSIIS',\n  'id': 'v8',\n  'text_annotations': [' New York State Immunization Information System.'],\n  'dkg_annotations': []},\n {'type': 'variable',\n  'name': 'ECLRS',\n  'id': 'v9',\n  'text_annotations': [' Electronic Clinical Laboratory Reporting System.'],\n  'dkg_annotations': []},\n {'type': 'variable',\n  'name': 'HERDS',\n  'id': 'v10',\n  'text_annotations': [' Health Electronic Response Data System.'],\n  'dkg_annotations': []},\n {'type': 'variable',\n  'name': 'Age Groups',\n  'id': 'v11',\n  'text_annotations': [' 18-49, 50-64, and ≥65 years.'],\n  'dkg_annotations': []},\n {'type': 'variable',\n  'name': 'Timing of Full-Vaccination',\n  'id': 'v12',\n  'text_annotations': [' January-February, March, April 2021.'],\n  'dkg_annotations': []},\n {'type': 'variable',\n  'name': 'VE for hospitalization',\n  'id': 'v13',\n  'text_annotations': [' Percentage of vaccine effectiveness for hospitalization'],\n  'dkg_annotations': []},\n {'type': 'variable',\n  'name': 'Delta variant prevalence',\n  'id': 'v14',\n  'text_annotations': [' Percentage of Delta variant prevalence'],\n  'dkg_annotations': []},\n {'type': 'variable',\n  'name': 'Census uncertainty',\n  'id': 'v15',\n  'text_annotations': [' Uncertainty in population size estimates'],\n  'dkg_annotations': []},\n {'type': 'variable',\n  'name': 'CDC guidance',\n  'id': 'v16',\n  'text_annotations': [' Policy changes adopted by NYS'],\n  'dkg_annotations': []},\n {'type': 'variable',\n  'name': 'Time-cohort',\n  'id': 'v17',\n  'text_annotations': [' Gradients by time-cohort in August'],\n  'dkg_annotations': []},\n {'type': 'variable',\n  'name': 'unmeasured confounding',\n  'id': 'v18',\n  'text_annotations': [' behavioral, medical, or exposure differences between fully-vaccinated and unvaccinated adults'],\n  'dkg_annotations': []},\n {'type': 'variable',\n  'name': 'indirect effects',\n  'id': 'v19',\n  'text_annotations': [' herd-immunity-type'],\n  'dkg_annotations': []},\n {'type': 'variable',\n  'name': 'non-FDA authorized vaccines',\n  'id': 'v20',\n  'text_annotations': [' persons who received non-FDA authorized vaccines'],\n  'dkg_annotations': []},\n {'type': 'variable',\n  'name': 'FDA',\n  'id': 'v21',\n  'text_annotations': [' Federal Drug Administration'],\n  'dkg_annotations': [['ndfrt:FDA_UNII', 'FDA_UNII'],\n   ['ncit:P317', 'FDA_Table']]},\n {'type': 'variable',\n  'name': 'mRNA-1273',\n  'id': 'v22',\n  'text_annotations': [' Vaccine Sponsor Briefing Document'],\n  'dkg_annotations': [['vo:0005233', 'mRNA-1273.351'],\n   ['vo:0005277', 'mRNA-1273.211']]},\n {'type': 'variable',\n  'name': 'COVID-19 Vaccine Ad26.COV2.S VA',\n  'id': 'v23',\n  'text_annotations': [' Vaccine primarily distributed to NYSC31518 (JNJ-78436735)'],\n  'dkg_annotations': []},\n {'type': 'variable',\n  'name': 'CDC',\n  'id': 'v24',\n  'text_annotations': [' Centers for Disease Control and Prevention'],\n  'dkg_annotations': [['ncit:A23', 'Has_PCDC_Data_Type'],\n   ['ncit:A38', 'Has_PCDC_OS_Permissible_Value']]},\n {'type': 'variable',\n  'name': 'BNT162b2',\n  'id': 'v25',\n  'text_annotations': [' Vaccine'],\n  'dkg_annotations': []},\n {'type': 'variable',\n  'name': 'Ad26.COV2.S VAC31518 (JNJ-78436735)',\n  'id': 'v26',\n  'text_annotations': [' Vaccine'],\n  'dkg_annotations': []},\n {'type': 'variable',\n  'name': 'Persons',\n  'id': 'v27',\n  'text_annotations': [' Total persons in cohorts of fully-vaccinated and unvaccinated adults in New York State'],\n  'dkg_annotations': [['vo:0001100', 'persons aged 6 months--24 years'],\n   ['vo:0001098',\n    'persons living with or providing care for infants aged <6 months']]},\n {'type': 'variable',\n  'name': 'Cases',\n  'id': 'v28',\n  'text_annotations': [' Total new laboratory-confirmed COVID-19 cases'],\n  'dkg_annotations': [['hp:0003745', 'Sporadic'],\n   ['cemo:daily_cases', 'daily cases']]},\n {'type': 'variable',\n  'name': 'Hospitalizations',\n  'id': 'v29',\n  'text_annotations': [' Total hospitalizations during follow-up'],\n  'dkg_annotations': []},\n {'type': 'variable',\n  'name': 'VE (95% CI)',\n  'id': 'v30',\n  'text_annotations': [' Vaccine effectiveness with 95% confidence interval',\n   ' Vaccine effectiveness with 95% confidence interval.'],\n  'dkg_annotations': []},\n {'type': 'variable',\n  'name': 'March',\n  'id': 'v31',\n  'text_annotations': [' Time period'],\n  'dkg_annotations': [['geonames:445408', 'Nomarchía Athínas'],\n   ['doid:0050475', 'Weill-Marchesani syndrome']]},\n {'type': 'variable',\n  'name': 'April',\n  'id': 'v32',\n  'text_annotations': [' Time period'],\n  'dkg_annotations': [['pr:Q92688',\n    'acidic leucine-rich nuclear phosphoprotein 32 family member B (human)']]},\n {'type': 'variable',\n  'name': '18-49 years',\n  'id': 'v33',\n  'text_annotations': [' Age group.'],\n  'dkg_annotations': []},\n {'type': 'variable',\n  'name': '50-64 years',\n  'id': 'v34',\n  'text_annotations': [' Age group.'],\n  'dkg_annotations': []},\n {'type': 'variable',\n  'name': 'Vaccine cohort',\n  'id': 'v35',\n  'text_annotations': [' Percentage of vaccine effectiveness by product and timing in New York State'],\n  'dkg_annotations': []}]"
     },
     "execution_count": 5,
     "metadata": {},
     "output_type": "execute_result"
    }
   ],
   "source": [
    "ast.literal_eval(json_str)"
   ]
  },
  {
   "cell_type": "code",
   "execution_count": 6,
   "outputs": [
    {
     "data": {
      "text/plain": "'[{\"type\": \"variable\", \"name\": \"VE\", \"id\": \"v0\", \"text_annotations\": [\" Vaccine Effectiveness\", \" Vaccine Effectiveness\"], \"dkg_annotations\": [[\"\"]], \"title\": \"COVID-19 Vaccine Effectiveness by Product and Timing in New York State\", \"doi\": \"10.1101/2021.10.08.21264595\", \"url\": \"https://www.medrxiv.org/content/10.1101/2021.10.08.21264595v1\"}, {\"type\": \"variable\", \"name\": \"Pfizer-BioNTech\", \"id\": \"v1\", \"text_annotations\": [\" Vaccine Product\", \" Vaccine primarily distributed to NYS\"], \"dkg_annotations\": [], \"title\": \"COVID-19 Vaccine Effectiveness by Product and Timing in New York State\", \"doi\": \"10.1101/2021.10.08.21264595\", \"url\": \"https://www.medrxiv.org/content/10.1101/2021.10.08.21264595v1\"}, {\"type\": \"variable\", \"name\": \"Moderna\", \"id\": \"v2\", \"text_annotations\": [\" Vaccine Product\", \" Vaccine product\"], \"dkg_annotations\": [[\"ncit:C177124\", \"Moderna\"], [\"vo:0004953\", \"Moderna\"]], \"title\": \"COVID-19 Vaccine Effectiveness by Product and Timing in New York State\", \"doi\": \"10.1101/2021.10.08.21264595\", \"url\": \"https://www.medrxiv.org/content/10.1101/2021.10.08.21264595v1\"}, {\"type\": \"variable\", \"name\": \"Janssen\", \"id\": \"v3\", \"text_annotations\": [\" Vaccine Product\", \" Vaccine product\"], \"dkg_annotations\": [[\"vo:0004932\", \"Janssen Pharmaceutica\"], [\"ncit:C164191\", \"Janssen Pharmaceuticals\"]], \"title\": \"COVID-19 Vaccine Effectiveness by Product and Timing in New York State\", \"doi\": \"10.1101/2021.10.08.21264595\", \"url\": \"https://www.medrxiv.org/content/10.1101/2021.10.08.21264595v1\"}, {\"type\": \"variable\", \"name\": \"Delta variant\", \"id\": \"v4\", \"text_annotations\": [\" Variant of the virus\", \" Percentage of the population that has the Delta variant of the virus.VE for cases\"], \"dkg_annotations\": [[\"cido:0000376\", \"SARS-CoV-2 Delta variant\"], [\"cido:0000063\", \"Delta variant COVID-19 disease process\"]], \"title\": \"COVID-19 Vaccine Effectiveness by Product and Timing in New York State\", \"doi\": \"10.1101/2021.10.08.21264595\", \"url\": \"https://www.medrxiv.org/content/10.1101/2021.10.08.21264595v1\"}, {\"type\": \"variable\", \"name\": \"NYS\", \"id\": \"v5\", \"text_annotations\": [\" New York State\"], \"dkg_annotations\": [[\"geonames:2990440\", \"Nice\"], [\"geonames:2147714\", \"Sydney\"]], \"title\": \"COVID-19 Vaccine Effectiveness by Product and Timing in New York State\", \"doi\": \"10.1101/2021.10.08.21264595\", \"url\": \"https://www.medrxiv.org/content/10.1101/2021.10.08.21264595v1\"}, {\"type\": \"variable\", \"name\": \"Cohort\", \"id\": \"v6\", \"text_annotations\": [\" Group of persons remaining unvaccinated or fully vaccinated as of May 1, 2021.\"], \"dkg_annotations\": [[\"ncit:C61512\", \"Cohort\"], [\"stato:0000203\", \"cohort\"]], \"title\": \"COVID-19 Vaccine Effectiveness by Product and Timing in New York State\", \"doi\": \"10.1101/2021.10.08.21264595\", \"url\": \"https://www.medrxiv.org/content/10.1101/2021.10.08.21264595v1\"}, {\"type\": \"variable\", \"name\": \"CIR\", \"id\": \"v7\", \"text_annotations\": [\" Citywide Immunization Registry.\"], \"dkg_annotations\": [[\"\"]], \"title\": \"COVID-19 Vaccine Effectiveness by Product and Timing in New York State\", \"doi\": \"10.1101/2021.10.08.21264595\", \"url\": \"https://www.medrxiv.org/content/10.1101/2021.10.08.21264595v1\"}, {\"type\": \"variable\", \"name\": \"NYSIIS\", \"id\": \"v8\", \"text_annotations\": [\" New York State Immunization Information System.\"], \"dkg_annotations\": [], \"title\": \"COVID-19 Vaccine Effectiveness by Product and Timing in New York State\", \"doi\": \"10.1101/2021.10.08.21264595\", \"url\": \"https://www.medrxiv.org/content/10.1101/2021.10.08.21264595v1\"}, {\"type\": \"variable\", \"name\": \"ECLRS\", \"id\": \"v9\", \"text_annotations\": [\" Electronic Clinical Laboratory Reporting System.\"], \"dkg_annotations\": [], \"title\": \"COVID-19 Vaccine Effectiveness by Product and Timing in New York State\", \"doi\": \"10.1101/2021.10.08.21264595\", \"url\": \"https://www.medrxiv.org/content/10.1101/2021.10.08.21264595v1\"}, {\"type\": \"variable\", \"name\": \"HERDS\", \"id\": \"v10\", \"text_annotations\": [\" Health Electronic Response Data System.\"], \"dkg_annotations\": [], \"title\": \"COVID-19 Vaccine Effectiveness by Product and Timing in New York State\", \"doi\": \"10.1101/2021.10.08.21264595\", \"url\": \"https://www.medrxiv.org/content/10.1101/2021.10.08.21264595v1\"}, {\"type\": \"variable\", \"name\": \"Age Groups\", \"id\": \"v11\", \"text_annotations\": [\" 18-49, 50-64, and \\\\u226565 years.\"], \"dkg_annotations\": [], \"title\": \"COVID-19 Vaccine Effectiveness by Product and Timing in New York State\", \"doi\": \"10.1101/2021.10.08.21264595\", \"url\": \"https://www.medrxiv.org/content/10.1101/2021.10.08.21264595v1\"}, {\"type\": \"variable\", \"name\": \"Timing of Full-Vaccination\", \"id\": \"v12\", \"text_annotations\": [\" January-February, March, April 2021.\"], \"dkg_annotations\": [], \"title\": \"COVID-19 Vaccine Effectiveness by Product and Timing in New York State\", \"doi\": \"10.1101/2021.10.08.21264595\", \"url\": \"https://www.medrxiv.org/content/10.1101/2021.10.08.21264595v1\"}, {\"type\": \"variable\", \"name\": \"VE for hospitalization\", \"id\": \"v13\", \"text_annotations\": [\" Percentage of vaccine effectiveness for hospitalization\"], \"dkg_annotations\": [], \"title\": \"COVID-19 Vaccine Effectiveness by Product and Timing in New York State\", \"doi\": \"10.1101/2021.10.08.21264595\", \"url\": \"https://www.medrxiv.org/content/10.1101/2021.10.08.21264595v1\"}, {\"type\": \"variable\", \"name\": \"Delta variant prevalence\", \"id\": \"v14\", \"text_annotations\": [\" Percentage of Delta variant prevalence\"], \"dkg_annotations\": [], \"title\": \"COVID-19 Vaccine Effectiveness by Product and Timing in New York State\", \"doi\": \"10.1101/2021.10.08.21264595\", \"url\": \"https://www.medrxiv.org/content/10.1101/2021.10.08.21264595v1\"}, {\"type\": \"variable\", \"name\": \"Census uncertainty\", \"id\": \"v15\", \"text_annotations\": [\" Uncertainty in population size estimates\"], \"dkg_annotations\": [], \"title\": \"COVID-19 Vaccine Effectiveness by Product and Timing in New York State\", \"doi\": \"10.1101/2021.10.08.21264595\", \"url\": \"https://www.medrxiv.org/content/10.1101/2021.10.08.21264595v1\"}, {\"type\": \"variable\", \"name\": \"CDC guidance\", \"id\": \"v16\", \"text_annotations\": [\" Policy changes adopted by NYS\"], \"dkg_annotations\": [], \"title\": \"COVID-19 Vaccine Effectiveness by Product and Timing in New York State\", \"doi\": \"10.1101/2021.10.08.21264595\", \"url\": \"https://www.medrxiv.org/content/10.1101/2021.10.08.21264595v1\"}, {\"type\": \"variable\", \"name\": \"Time-cohort\", \"id\": \"v17\", \"text_annotations\": [\" Gradients by time-cohort in August\"], \"dkg_annotations\": [], \"title\": \"COVID-19 Vaccine Effectiveness by Product and Timing in New York State\", \"doi\": \"10.1101/2021.10.08.21264595\", \"url\": \"https://www.medrxiv.org/content/10.1101/2021.10.08.21264595v1\"}, {\"type\": \"variable\", \"name\": \"unmeasured confounding\", \"id\": \"v18\", \"text_annotations\": [\" behavioral, medical, or exposure differences between fully-vaccinated and unvaccinated adults\"], \"dkg_annotations\": [], \"title\": \"COVID-19 Vaccine Effectiveness by Product and Timing in New York State\", \"doi\": \"10.1101/2021.10.08.21264595\", \"url\": \"https://www.medrxiv.org/content/10.1101/2021.10.08.21264595v1\"}, {\"type\": \"variable\", \"name\": \"indirect effects\", \"id\": \"v19\", \"text_annotations\": [\" herd-immunity-type\"], \"dkg_annotations\": [], \"title\": \"COVID-19 Vaccine Effectiveness by Product and Timing in New York State\", \"doi\": \"10.1101/2021.10.08.21264595\", \"url\": \"https://www.medrxiv.org/content/10.1101/2021.10.08.21264595v1\"}, {\"type\": \"variable\", \"name\": \"non-FDA authorized vaccines\", \"id\": \"v20\", \"text_annotations\": [\" persons who received non-FDA authorized vaccines\"], \"dkg_annotations\": [], \"title\": \"COVID-19 Vaccine Effectiveness by Product and Timing in New York State\", \"doi\": \"10.1101/2021.10.08.21264595\", \"url\": \"https://www.medrxiv.org/content/10.1101/2021.10.08.21264595v1\"}, {\"type\": \"variable\", \"name\": \"FDA\", \"id\": \"v21\", \"text_annotations\": [\" Federal Drug Administration\"], \"dkg_annotations\": [[\"ndfrt:FDA_UNII\", \"FDA_UNII\"], [\"ncit:P317\", \"FDA_Table\"]], \"title\": \"COVID-19 Vaccine Effectiveness by Product and Timing in New York State\", \"doi\": \"10.1101/2021.10.08.21264595\", \"url\": \"https://www.medrxiv.org/content/10.1101/2021.10.08.21264595v1\"}, {\"type\": \"variable\", \"name\": \"mRNA-1273\", \"id\": \"v22\", \"text_annotations\": [\" Vaccine Sponsor Briefing Document\"], \"dkg_annotations\": [[\"vo:0005233\", \"mRNA-1273.351\"], [\"vo:0005277\", \"mRNA-1273.211\"]], \"title\": \"COVID-19 Vaccine Effectiveness by Product and Timing in New York State\", \"doi\": \"10.1101/2021.10.08.21264595\", \"url\": \"https://www.medrxiv.org/content/10.1101/2021.10.08.21264595v1\"}, {\"type\": \"variable\", \"name\": \"COVID-19 Vaccine Ad26.COV2.S VA\", \"id\": \"v23\", \"text_annotations\": [\" Vaccine primarily distributed to NYSC31518 (JNJ-78436735)\"], \"dkg_annotations\": [], \"title\": \"COVID-19 Vaccine Effectiveness by Product and Timing in New York State\", \"doi\": \"10.1101/2021.10.08.21264595\", \"url\": \"https://www.medrxiv.org/content/10.1101/2021.10.08.21264595v1\"}, {\"type\": \"variable\", \"name\": \"CDC\", \"id\": \"v24\", \"text_annotations\": [\" Centers for Disease Control and Prevention\"], \"dkg_annotations\": [[\"ncit:A23\", \"Has_PCDC_Data_Type\"], [\"ncit:A38\", \"Has_PCDC_OS_Permissible_Value\"]], \"title\": \"COVID-19 Vaccine Effectiveness by Product and Timing in New York State\", \"doi\": \"10.1101/2021.10.08.21264595\", \"url\": \"https://www.medrxiv.org/content/10.1101/2021.10.08.21264595v1\"}, {\"type\": \"variable\", \"name\": \"BNT162b2\", \"id\": \"v25\", \"text_annotations\": [\" Vaccine\"], \"dkg_annotations\": [], \"title\": \"COVID-19 Vaccine Effectiveness by Product and Timing in New York State\", \"doi\": \"10.1101/2021.10.08.21264595\", \"url\": \"https://www.medrxiv.org/content/10.1101/2021.10.08.21264595v1\"}, {\"type\": \"variable\", \"name\": \"Ad26.COV2.S VAC31518 (JNJ-78436735)\", \"id\": \"v26\", \"text_annotations\": [\" Vaccine\"], \"dkg_annotations\": [], \"title\": \"COVID-19 Vaccine Effectiveness by Product and Timing in New York State\", \"doi\": \"10.1101/2021.10.08.21264595\", \"url\": \"https://www.medrxiv.org/content/10.1101/2021.10.08.21264595v1\"}, {\"type\": \"variable\", \"name\": \"Persons\", \"id\": \"v27\", \"text_annotations\": [\" Total persons in cohorts of fully-vaccinated and unvaccinated adults in New York State\"], \"dkg_annotations\": [[\"vo:0001100\", \"persons aged 6 months--24 years\"], [\"vo:0001098\", \"persons living with or providing care for infants aged <6 months\"]], \"title\": \"COVID-19 Vaccine Effectiveness by Product and Timing in New York State\", \"doi\": \"10.1101/2021.10.08.21264595\", \"url\": \"https://www.medrxiv.org/content/10.1101/2021.10.08.21264595v1\"}, {\"type\": \"variable\", \"name\": \"Cases\", \"id\": \"v28\", \"text_annotations\": [\" Total new laboratory-confirmed COVID-19 cases\"], \"dkg_annotations\": [[\"hp:0003745\", \"Sporadic\"], [\"cemo:daily_cases\", \"daily cases\"]], \"title\": \"COVID-19 Vaccine Effectiveness by Product and Timing in New York State\", \"doi\": \"10.1101/2021.10.08.21264595\", \"url\": \"https://www.medrxiv.org/content/10.1101/2021.10.08.21264595v1\"}, {\"type\": \"variable\", \"name\": \"Hospitalizations\", \"id\": \"v29\", \"text_annotations\": [\" Total hospitalizations during follow-up\"], \"dkg_annotations\": [], \"title\": \"COVID-19 Vaccine Effectiveness by Product and Timing in New York State\", \"doi\": \"10.1101/2021.10.08.21264595\", \"url\": \"https://www.medrxiv.org/content/10.1101/2021.10.08.21264595v1\"}, {\"type\": \"variable\", \"name\": \"VE (95% CI)\", \"id\": \"v30\", \"text_annotations\": [\" Vaccine effectiveness with 95% confidence interval\", \" Vaccine effectiveness with 95% confidence interval.\"], \"dkg_annotations\": [], \"title\": \"COVID-19 Vaccine Effectiveness by Product and Timing in New York State\", \"doi\": \"10.1101/2021.10.08.21264595\", \"url\": \"https://www.medrxiv.org/content/10.1101/2021.10.08.21264595v1\"}, {\"type\": \"variable\", \"name\": \"March\", \"id\": \"v31\", \"text_annotations\": [\" Time period\"], \"dkg_annotations\": [[\"geonames:445408\", \"Nomarch\\\\u00eda Ath\\\\u00ednas\"], [\"doid:0050475\", \"Weill-Marchesani syndrome\"]], \"title\": \"COVID-19 Vaccine Effectiveness by Product and Timing in New York State\", \"doi\": \"10.1101/2021.10.08.21264595\", \"url\": \"https://www.medrxiv.org/content/10.1101/2021.10.08.21264595v1\"}, {\"type\": \"variable\", \"name\": \"April\", \"id\": \"v32\", \"text_annotations\": [\" Time period\"], \"dkg_annotations\": [[\"pr:Q92688\", \"acidic leucine-rich nuclear phosphoprotein 32 family member B (human)\"]], \"title\": \"COVID-19 Vaccine Effectiveness by Product and Timing in New York State\", \"doi\": \"10.1101/2021.10.08.21264595\", \"url\": \"https://www.medrxiv.org/content/10.1101/2021.10.08.21264595v1\"}, {\"type\": \"variable\", \"name\": \"18-49 years\", \"id\": \"v33\", \"text_annotations\": [\" Age group.\"], \"dkg_annotations\": [], \"title\": \"COVID-19 Vaccine Effectiveness by Product and Timing in New York State\", \"doi\": \"10.1101/2021.10.08.21264595\", \"url\": \"https://www.medrxiv.org/content/10.1101/2021.10.08.21264595v1\"}, {\"type\": \"variable\", \"name\": \"50-64 years\", \"id\": \"v34\", \"text_annotations\": [\" Age group.\"], \"dkg_annotations\": [], \"title\": \"COVID-19 Vaccine Effectiveness by Product and Timing in New York State\", \"doi\": \"10.1101/2021.10.08.21264595\", \"url\": \"https://www.medrxiv.org/content/10.1101/2021.10.08.21264595v1\"}, {\"type\": \"variable\", \"name\": \"Vaccine cohort\", \"id\": \"v35\", \"text_annotations\": [\" Percentage of vaccine effectiveness by product and timing in New York State\"], \"dkg_annotations\": [], \"title\": \"COVID-19 Vaccine Effectiveness by Product and Timing in New York State\", \"doi\": \"10.1101/2021.10.08.21264595\", \"url\": \"https://www.medrxiv.org/content/10.1101/2021.10.08.21264595v1\"}]'"
     },
     "execution_count": 6,
     "metadata": {},
     "output_type": "execute_result"
    }
   ],
   "source": [
    "dkg_json = json.loads(json_str)\n",
    "for variable in dkg_json:\n",
    "    variable[\"title\"] = paper[\"title\"]\n",
    "    variable[\"doi\"] = paper[\"doi\"]\n",
    "    variable[\"url\"] = paper[\"url\"]\n",
    "dkg_json_string = json.dumps(dkg_json)\n",
    "dkg_json_string"
   ],
   "metadata": {
    "collapsed": false,
    "pycharm": {
     "name": "#%%\n"
    }
   }
  },
  {
   "cell_type": "code",
   "execution_count": 6,
   "outputs": [],
   "source": [],
   "metadata": {
    "collapsed": false,
    "pycharm": {
     "name": "#%%\n"
    }
   }
  },
  {
   "cell_type": "markdown",
   "id": "bfb7bbbd",
   "metadata": {
    "pycharm": {
     "name": "#%% md\n"
    }
   },
   "source": [
    "## 2. Adding annotations from dataset columns"
   ]
  },
  {
   "cell_type": "markdown",
   "id": "a6938a2a",
   "metadata": {
    "pycharm": {
     "name": "#%% md\n"
    }
   },
   "source": [
    "#### Alongside the text, we might also have discovered a collection of datasets that we think might be relevant:"
   ]
  },
  {
   "cell_type": "markdown",
   "id": "4e8df028",
   "metadata": {
    "pycharm": {
     "name": "#%% md\n"
    }
   },
   "source": [
    "#### Let's collect just the column names into a single file:"
   ]
  },
  {
   "cell_type": "code",
   "execution_count": 7,
   "id": "c63f494e",
   "metadata": {
    "pycharm": {
     "name": "#%%\n"
    }
   },
   "outputs": [],
   "source": [
    "dir = \"../../resources/dataset/ensemble/\"\n",
    "with open(os.path.join(dir,\"headers.txt\"), \"w+\") as fw:\n",
    "    for filename in os.listdir(dir):\n",
    "        file = os.path.join(dir, filename)\n",
    "        if os.path.isfile(file) and file.endswith(\".csv\"):\n",
    "            fw.write(\"{}:\\t{}\".format(filename, open(file, \"r\").readline()))"
   ]
  },
  {
   "cell_type": "code",
   "execution_count": 8,
   "id": "1c449c42",
   "metadata": {
    "pycharm": {
     "name": "#%%\n"
    }
   },
   "outputs": [
    {
     "name": "stdout",
     "output_type": "stream",
     "text": [
      "usa-cases-deaths.csv:\tdate,location_key,new_confirmed,new_deceased,new_recovered,new_tested,cumulative_confirmed,cumulative_deceased,cumulative_recovered,cumulative_tested\n",
      "hospitalization-rate-by-month.csv:\tmonth,num_hosp_month,num_cases_month\n",
      "age-stratified-by-month-hosp-cases-deaths.csv:\tage_group,case_month,num_cases,num_hosp,num_death\n",
      "vaccination-hazard-rates-age-month.csv:\tMonth,Age Group,Vaccinated Pop,Unvacci\n"
     ]
    }
   ],
   "source": [
    "with open(os.path.join(dir,\"headers.txt\")) as f:\n",
    "    dataset_str = f.read()\n",
    "    print(dataset_str[:419])"
   ]
  },
  {
   "cell_type": "markdown",
   "id": "90543cb7",
   "metadata": {
    "pycharm": {
     "name": "#%% md\n"
    }
   },
   "source": [
    "#### Now we can call our `annotation/link_datasets_to_vars` endpoint to map variables discovered earlier to any matching dataset columns (GIGO warning here):"
   ]
  },
  {
   "cell_type": "code",
   "execution_count": 9,
   "id": "d4d891aa",
   "metadata": {
    "pycharm": {
     "name": "#%%\n"
    }
   },
   "outputs": [
    {
     "name": "stderr",
     "output_type": "stream",
     "text": [
      "100%|██████████| 11/11 [00:00<00:00, 59226.37it/s]\n",
      "100%|██████████| 36/36 [02:13<00:00,  3.71s/it]\n"
     ]
    },
    {
     "data": {
      "text/plain": "'[{\"type\": \"variable\", \"name\": \"VE\", \"id\": \"v0\", \"text_annotations\": [\" Vaccine Effectiveness\", \" Vaccine Effectiveness\"], \"dkg_annotations\": [[\"\"]], \"title\": \"COVID-19 Vaccine Effectiveness by Product and Timing in New York State\", \"doi\": \"10.1101/2021.10.08.21264595\", \"url\": \"https://www.medrxiv.org/content/10.1101/2021.10.08.21264595v1\", \"data_annotations\": [[\"usa-vaccinations.csv\", \"new_persons_vaccinated\"], [\"usa-vaccinations.csv\", \"cumulative_persons_vaccinated\"]]}, {\"type\": \"variable\", \"name\": \"Pfizer-BioNTech\", \"id\": \"v1\", \"text_annotations\": [\" Vaccine Product\", \" Vaccine primarily distributed to NYS\"], \"dkg_annotations\": [], \"title\": \"COVID-19 Vaccine Effectiveness by Product and Timing in New York State\", \"doi\": \"10.1101/2021.10.08.21264595\", \"url\": \"https://www.medrxiv.org/content/10.1101/2021.10.08.21264595v1\", \"data_annotations\": [[\"usa-vaccinations.csv\", \"new_persons_vaccinated_pfizer\"], [\"usa-vaccinations.csv\", \"cumulative_persons_vaccinated_pfizer\"]]}, {\"type\": \"variable\", \"name\": \"Moderna\", \"id\": \"v2\", \"text_annotations\": [\" Vaccine Product\", \" Vaccine product\"], \"dkg_annotations\": [[\"ncit:C177124\", \"Moderna\"], [\"vo:0004953\", \"Moderna\"]], \"title\": \"COVID-19 Vaccine Effectiveness by Product and Timing in New York State\", \"doi\": \"10.1101/2021.10.08.21264595\", \"url\": \"https://www.medrxiv.org/content/10.1101/2021.10.08.21264595v1\", \"data_annotations\": [[\"usa-vaccinations.csv\", \"new_persons_vaccinated_moderna\"], [\"usa-vaccinations.csv\", \"cumulative_persons_vaccinated_moderna\"]]}, {\"type\": \"variable\", \"name\": \"Janssen\", \"id\": \"v3\", \"text_annotations\": [\" Vaccine Product\", \" Vaccine product\"], \"dkg_annotations\": [[\"vo:0004932\", \"Janssen Pharmaceutica\"], [\"ncit:C164191\", \"Janssen Pharmaceuticals\"]], \"title\": \"COVID-19 Vaccine Effectiveness by Product and Timing in New York State\", \"doi\": \"10.1101/2021.10.08.21264595\", \"url\": \"https://www.medrxiv.org/content/10.1101/2021.10.08.21264595v1\", \"data_annotations\": [[\"usa-vaccinations.csv\", \"new_persons_vaccinated_janssen\"], [\"usa-vaccinations.csv\", \"cumulative_persons_vaccinated_janssen\"]]}, {\"type\": \"variable\", \"name\": \"Delta variant\", \"id\": \"v4\", \"text_annotations\": [\" Variant of the virus\", \" Percentage of the population that has the Delta variant of the virus.VE for cases\"], \"dkg_annotations\": [[\"cido:0000376\", \"SARS-CoV-2 Delta variant\"], [\"cido:0000063\", \"Delta variant COVID-19 disease process\"]], \"title\": \"COVID-19 Vaccine Effectiveness by Product and Timing in New York State\", \"doi\": \"10.1101/2021.10.08.21264595\", \"url\": \"https://www.medrxiv.org/content/10.1101/2021.10.08.21264595v1\", \"data_annotations\": [\"\"]}, {\"type\": \"variable\", \"name\": \"NYS\", \"id\": \"v5\", \"text_annotations\": [\" New York State\"], \"dkg_annotations\": [[\"geonames:2990440\", \"Nice\"], [\"geonames:2147714\", \"Sydney\"]], \"title\": \"COVID-19 Vaccine Effectiveness by Product and Timing in New York State\", \"doi\": \"10.1101/2021.10.08.21264595\", \"url\": \"https://www.medrxiv.org/content/10.1101/2021.10.08.21264595v1\", \"data_annotations\": [[\"us-counties-2023.csv\", \"state\"], [\"OxCGRT_nat_latest.csv\", \"RegionName\"]]}, {\"type\": \"variable\", \"name\": \"Cohort\", \"id\": \"v6\", \"text_annotations\": [\" Group of persons remaining unvaccinated or fully vaccinated as of May 1, 2021.\"], \"dkg_annotations\": [[\"ncit:C61512\", \"Cohort\"], [\"stato:0000203\", \"cohort\"]], \"title\": \"COVID-19 Vaccine Effectiveness by Product and Timing in New York State\", \"doi\": \"10.1101/2021.10.08.21264595\", \"url\": \"https://www.medrxiv.org/content/10.1101/2021.10.08.21264595v1\", \"data_annotations\": [[\"usa-vaccinations.csv\", \"new_persons_fully_vaccinated\"], [\"usa-vaccinations.csv\", \"cumulative_persons_fully_vaccinated\"]]}, {\"type\": \"variable\", \"name\": \"CIR\", \"id\": \"v7\", \"text_annotations\": [\" Citywide Immunization Registry.\"], \"dkg_annotations\": [[\"\"]], \"title\": \"COVID-19 Vaccine Effectiveness by Product and Timing in New York State\", \"doi\": \"10.1101/2021.10.08.21264595\", \"url\": \"https://www.medrxiv.org/content/10.1101/2021.10.08.21264595v1\", \"data_annotations\": [\"\"]}, {\"type\": \"variable\", \"name\": \"NYSIIS\", \"id\": \"v8\", \"text_annotations\": [\" New York State Immunization Information System.\"], \"dkg_annotations\": [], \"title\": \"COVID-19 Vaccine Effectiveness by Product and Timing in New York State\", \"doi\": \"10.1101/2021.10.08.21264595\", \"url\": \"https://www.medrxiv.org/content/10.1101/2021.10.08.21264595v1\", \"data_annotations\": [\"\"]}, {\"type\": \"variable\", \"name\": \"ECLRS\", \"id\": \"v9\", \"text_annotations\": [\" Electronic Clinical Laboratory Reporting System.\"], \"dkg_annotations\": [], \"title\": \"COVID-19 Vaccine Effectiveness by Product and Timing in New York State\", \"doi\": \"10.1101/2021.10.08.21264595\", \"url\": \"https://www.medrxiv.org/content/10.1101/2021.10.08.21264595v1\", \"data_annotations\": [\"\"]}, {\"type\": \"variable\", \"name\": \"HERDS\", \"id\": \"v10\", \"text_annotations\": [\" Health Electronic Response Data System.\"], \"dkg_annotations\": [], \"title\": \"COVID-19 Vaccine Effectiveness by Product and Timing in New York State\", \"doi\": \"10.1101/2021.10.08.21264595\", \"url\": \"https://www.medrxiv.org/content/10.1101/2021.10.08.21264595v1\", \"data_annotations\": [[\"usa-hospitalizations.csv\", \"cumulative_hospitalized_patients\"], [\"usa-hospitalizations.csv\", \"current_hospitalized_patients\"]]}, {\"type\": \"variable\", \"name\": \"Age Groups\", \"id\": \"v11\", \"text_annotations\": [\" 18-49, 50-64, and \\\\u226565 years.\"], \"dkg_annotations\": [], \"title\": \"COVID-19 Vaccine Effectiveness by Product and Timing in New York State\", \"doi\": \"10.1101/2021.10.08.21264595\", \"url\": \"https://www.medrxiv.org/content/10.1101/2021.10.08.21264595v1\", \"data_annotations\": [[\"age-stratified-by-month-hosp-cases-deaths.csv\", \"age_group\"], [\"usa-cases-hospitalized-by-age.csv\", \"age_bin_0\"]]}, {\"type\": \"variable\", \"name\": \"Timing of Full-Vaccination\", \"id\": \"v12\", \"text_annotations\": [\" January-February, March, April 2021.\"], \"dkg_annotations\": [], \"title\": \"COVID-19 Vaccine Effectiveness by Product and Timing in New York State\", \"doi\": \"10.1101/2021.10.08.21264595\", \"url\": \"https://www.medrxiv.org/content/10.1101/2021.10.08.21264595v1\", \"data_annotations\": [[\"hospitalization-rate-by-month.csv\", \"month\"], [\"vaccination-hazard-rates-age-month.csv\", \"Month\"]]}, {\"type\": \"variable\", \"name\": \"VE for hospitalization\", \"id\": \"v13\", \"text_annotations\": [\" Percentage of vaccine effectiveness for hospitalization\"], \"dkg_annotations\": [], \"title\": \"COVID-19 Vaccine Effectiveness by Product and Timing in New York State\", \"doi\": \"10.1101/2021.10.08.21264595\", \"url\": \"https://www.medrxiv.org/content/10.1101/2021.10.08.21264595v1\", \"data_annotations\": [\"\"]}, {\"type\": \"variable\", \"name\": \"Delta variant prevalence\", \"id\": \"v14\", \"text_annotations\": [\" Percentage of Delta variant prevalence\"], \"dkg_annotations\": [], \"title\": \"COVID-19 Vaccine Effectiveness by Product and Timing in New York State\", \"doi\": \"10.1101/2021.10.08.21264595\", \"url\": \"https://www.medrxiv.org/content/10.1101/2021.10.08.21264595v1\", \"data_annotations\": [\"\"]}, {\"type\": \"variable\", \"name\": \"Census uncertainty\", \"id\": \"v15\", \"text_annotations\": [\" Uncertainty in population size estimates\"], \"dkg_annotations\": [], \"title\": \"COVID-19 Vaccine Effectiveness by Product and Timing in New York State\", \"doi\": \"10.1101/2021.10.08.21264595\", \"url\": \"https://www.medrxiv.org/content/10.1101/2021.10.08.21264595v1\", \"data_annotations\": [[\"usa-2021-population-age-stratified.csv\", \"\\\\\"Population\\\\\"\"], [\"usa-2021-population-age-stratified.csv\", \"\\\\\"% of Population\\\\\"\"]]}, {\"type\": \"variable\", \"name\": \"CDC guidance\", \"id\": \"v16\", \"text_annotations\": [\" Policy changes adopted by NYS\"], \"dkg_annotations\": [], \"title\": \"COVID-19 Vaccine Effectiveness by Product and Timing in New York State\", \"doi\": \"10.1101/2021.10.08.21264595\", \"url\": \"https://www.medrxiv.org/content/10.1101/2021.10.08.21264595v1\", \"data_annotations\": [[\"OxCGRT_nat_latest.csv\", \"CDC\"], [\"OxCGRT_nat_latest.csv\", \"Date\"]]}, {\"type\": \"variable\", \"name\": \"Time-cohort\", \"id\": \"v17\", \"text_annotations\": [\" Gradients by time-cohort in August\"], \"dkg_annotations\": [], \"title\": \"COVID-19 Vaccine Effectiveness by Product and Timing in New York State\", \"doi\": \"10.1101/2021.10.08.21264595\", \"url\": \"https://www.medrxiv.org/content/10.1101/2021.10.08.21264595v1\", \"data_annotations\": [\"\"]}, {\"type\": \"variable\", \"name\": \"unmeasured confounding\", \"id\": \"v18\", \"text_annotations\": [\" behavioral, medical, or exposure differences between fully-vaccinated and unvaccinated adults\"], \"dkg_annotations\": [], \"title\": \"COVID-19 Vaccine Effectiveness by Product and Timing in New York State\", \"doi\": \"10.1101/2021.10.08.21264595\", \"url\": \"https://www.medrxiv.org/content/10.1101/2021.10.08.21264595v1\", \"data_annotations\": [\"\"]}, {\"type\": \"variable\", \"name\": \"indirect effects\", \"id\": \"v19\", \"text_annotations\": [\" herd-immunity-type\"], \"dkg_annotations\": [], \"title\": \"COVID-19 Vaccine Effectiveness by Product and Timing in New York State\", \"doi\": \"10.1101/2021.10.08.21264595\", \"url\": \"https://www.medrxiv.org/content/10.1101/2021.10.08.21264595v1\", \"data_annotations\": [\"\"]}, {\"type\": \"variable\", \"name\": \"non-FDA authorized vaccines\", \"id\": \"v20\", \"text_annotations\": [\" persons who received non-FDA authorized vaccines\"], \"dkg_annotations\": [], \"title\": \"COVID-19 Vaccine Effectiveness by Product and Timing in New York State\", \"doi\": \"10.1101/2021.10.08.21264595\", \"url\": \"https://www.medrxiv.org/content/10.1101/2021.10.08.21264595v1\", \"data_annotations\": [[\"usa-vaccinations.csv\", \"new_persons_vaccinated_sinovac\"], [\"usa-vaccinations.csv\", \"total_persons_vaccinated_sinovac\"]]}, {\"type\": \"variable\", \"name\": \"FDA\", \"id\": \"v21\", \"text_annotations\": [\" Federal Drug Administration\"], \"dkg_annotations\": [[\"ndfrt:FDA_UNII\", \"FDA_UNII\"], [\"ncit:P317\", \"FDA_Table\"]], \"title\": \"COVID-19 Vaccine Effectiveness by Product and Timing in New York State\", \"doi\": \"10.1101/2021.10.08.21264595\", \"url\": \"https://www.medrxiv.org/content/10.1101/2021.10.08.21264595v1\", \"data_annotations\": [\"\"]}, {\"type\": \"variable\", \"name\": \"mRNA-1273\", \"id\": \"v22\", \"text_annotations\": [\" Vaccine Sponsor Briefing Document\"], \"dkg_annotations\": [[\"vo:0005233\", \"mRNA-1273.351\"], [\"vo:0005277\", \"mRNA-1273.211\"]], \"title\": \"COVID-19 Vaccine Effectiveness by Product and Timing in New York State\", \"doi\": \"10.1101/2021.10.08.21264595\", \"url\": \"https://www.medrxiv.org/content/10.1101/2021.10.08.21264595v1\", \"data_annotations\": [\"\"]}, {\"type\": \"variable\", \"name\": \"COVID-19 Vaccine Ad26.COV2.S VA\", \"id\": \"v23\", \"text_annotations\": [\" Vaccine primarily distributed to NYSC31518 (JNJ-78436735)\"], \"dkg_annotations\": [], \"title\": \"COVID-19 Vaccine Effectiveness by Product and Timing in New York State\", \"doi\": \"10.1101/2021.10.08.21264595\", \"url\": \"https://www.medrxiv.org/content/10.1101/2021.10.08.21264595v1\", \"data_annotations\": [[\"usa-vaccinations.csv\", \"new_persons_vaccinated_janssen\"], [\"usa-vaccinations.csv\", \"cumulative_persons_vaccinated_janssen\"]]}, {\"type\": \"variable\", \"name\": \"CDC\", \"id\": \"v24\", \"text_annotations\": [\" Centers for Disease Control and Prevention\"], \"dkg_annotations\": [[\"ncit:A23\", \"Has_PCDC_Data_Type\"], [\"ncit:A38\", \"Has_PCDC_OS_Permissible_Value\"]], \"title\": \"COVID-19 Vaccine Effectiveness by Product and Timing in New York State\", \"doi\": \"10.1101/2021.10.08.21264595\", \"url\": \"https://www.medrxiv.org/content/10.1101/2021.10.08.21264595v1\", \"data_annotations\": [\"\"]}, {\"type\": \"variable\", \"name\": \"BNT162b2\", \"id\": \"v25\", \"text_annotations\": [\" Vaccine\"], \"dkg_annotations\": [], \"title\": \"COVID-19 Vaccine Effectiveness by Product and Timing in New York State\", \"doi\": \"10.1101/2021.10.08.21264595\", \"url\": \"https://www.medrxiv.org/content/10.1101/2021.10.08.21264595v1\", \"data_annotations\": [[\"usa-vaccinations.csv\", \"new_persons_vaccinated_pfizer\"], [\"usa-vaccinations.csv\", \"cumulative_persons_vaccinated_pfizer\"]]}, {\"type\": \"variable\", \"name\": \"Ad26.COV2.S VAC31518 (JNJ-78436735)\", \"id\": \"v26\", \"text_annotations\": [\" Vaccine\"], \"dkg_annotations\": [], \"title\": \"COVID-19 Vaccine Effectiveness by Product and Timing in New York State\", \"doi\": \"10.1101/2021.10.08.21264595\", \"url\": \"https://www.medrxiv.org/content/10.1101/2021.10.08.21264595v1\", \"data_annotations\": [[\"usa-vaccinations.csv\", \"new_persons_vaccinated_janssen\"], [\"usa-vaccinations.csv\", \"cumulative_persons_vaccinated_janssen\"]]}, {\"type\": \"variable\", \"name\": \"Persons\", \"id\": \"v27\", \"text_annotations\": [\" Total persons in cohorts of fully-vaccinated and unvaccinated adults in New York State\"], \"dkg_annotations\": [[\"vo:0001100\", \"persons aged 6 months--24 years\"], [\"vo:0001098\", \"persons living with or providing care for infants aged <6 months\"]], \"title\": \"COVID-19 Vaccine Effectiveness by Product and Timing in New York State\", \"doi\": \"10.1101/2021.10.08.21264595\", \"url\": \"https://www.medrxiv.org/content/10.1101/2021.10.08.21264595v1\", \"data_annotations\": [[\"usa-vaccinations.csv\", \"cumulative_persons_vaccinated\"], [\"usa-vaccinations.csv\", \"cumulative_persons_fully_vaccinated\"]]}, {\"type\": \"variable\", \"name\": \"Cases\", \"id\": \"v28\", \"text_annotations\": [\" Total new laboratory-confirmed COVID-19 cases\"], \"dkg_annotations\": [[\"hp:0003745\", \"Sporadic\"], [\"cemo:daily_cases\", \"daily cases\"]], \"title\": \"COVID-19 Vaccine Effectiveness by Product and Timing in New York State\", \"doi\": \"10.1101/2021.10.08.21264595\", \"url\": \"https://www.medrxiv.org/content/10.1101/2021.10.08.21264595v1\", \"data_annotations\": [[\"us-counties-2023.csv\", \"cases\"], [\"hospitalization-rate-by-month.csv\", \"num_cases_month\"]]}, {\"type\": \"variable\", \"name\": \"Hospitalizations\", \"id\": \"v29\", \"text_annotations\": [\" Total hospitalizations during follow-up\"], \"dkg_annotations\": [], \"title\": \"COVID-19 Vaccine Effectiveness by Product and Timing in New York State\", \"doi\": \"10.1101/2021.10.08.21264595\", \"url\": \"https://www.medrxiv.org/content/10.1101/2021.10.08.21264595v1\", \"data_annotations\": [[\"usa-hospitalizations.csv\", \"new_hospitalized_patients\"], [\"usa-hospitalizations.csv\", \"cumulative_hospitalized_patients\"]]}, {\"type\": \"variable\", \"name\": \"VE (95% CI)\", \"id\": \"v30\", \"text_annotations\": [\" Vaccine effectiveness with 95% confidence interval\", \" Vaccine effectiveness with 95% confidence interval.\"], \"dkg_annotations\": [], \"title\": \"COVID-19 Vaccine Effectiveness by Product and Timing in New York State\", \"doi\": \"10.1101/2021.10.08.21264595\", \"url\": \"https://www.medrxiv.org/content/10.1101/2021.10.08.21264595v1\", \"data_annotations\": [\"\"]}, {\"type\": \"variable\", \"name\": \"March\", \"id\": \"v31\", \"text_annotations\": [\" Time period\"], \"dkg_annotations\": [[\"geonames:445408\", \"Nomarch\\\\u00eda Ath\\\\u00ednas\"], [\"doid:0050475\", \"Weill-Marchesani syndrome\"]], \"title\": \"COVID-19 Vaccine Effectiveness by Product and Timing in New York State\", \"doi\": \"10.1101/2021.10.08.21264595\", \"url\": \"https://www.medrxiv.org/content/10.1101/2021.10.08.21264595v1\", \"data_annotations\": [[\"hospitalization-rate-by-month.csv\", \"month\"], [\"vaccination-hazard-rates-age-month.csv\", \"Month\"]]}, {\"type\": \"variable\", \"name\": \"April\", \"id\": \"v32\", \"text_annotations\": [\" Time period\"], \"dkg_annotations\": [[\"pr:Q92688\", \"acidic leucine-rich nuclear phosphoprotein 32 family member B (human)\"]], \"title\": \"COVID-19 Vaccine Effectiveness by Product and Timing in New York State\", \"doi\": \"10.1101/2021.10.08.21264595\", \"url\": \"https://www.medrxiv.org/content/10.1101/2021.10.08.21264595v1\", \"data_annotations\": [[\"hospitalization-rate-by-month.csv\", \"month\"], [\"vaccination-hazard-rates-age-month.csv\", \"Month\"]]}, {\"type\": \"variable\", \"name\": \"18-49 years\", \"id\": \"v33\", \"text_annotations\": [\" Age group.\"], \"dkg_annotations\": [], \"title\": \"COVID-19 Vaccine Effectiveness by Product and Timing in New York State\", \"doi\": \"10.1101/2021.10.08.21264595\", \"url\": \"https://www.medrxiv.org/content/10.1101/2021.10.08.21264595v1\", \"data_annotations\": [[\"age-stratified-by-month-hosp-cases-deaths.csv\", \"age_group\"], [\"usa-cases-hospitalized-by-age.csv\", \"age_bin_0\"]]}, {\"type\": \"variable\", \"name\": \"50-64 years\", \"id\": \"v34\", \"text_annotations\": [\" Age group.\"], \"dkg_annotations\": [], \"title\": \"COVID-19 Vaccine Effectiveness by Product and Timing in New York State\", \"doi\": \"10.1101/2021.10.08.21264595\", \"url\": \"https://www.medrxiv.org/content/10.1101/2021.10.08.21264595v1\", \"data_annotations\": [[\"age-stratified-by-month-hosp-cases-deaths.csv\", \"age_group\"], [\"vaccination-hazard-rates-age-month.csv\", \"Age Group\"]]}, {\"type\": \"variable\", \"name\": \"Vaccine cohort\", \"id\": \"v35\", \"text_annotations\": [\" Percentage of vaccine effectiveness by product and timing in New York State\"], \"dkg_annotations\": [], \"title\": \"COVID-19 Vaccine Effectiveness by Product and Timing in New York State\", \"doi\": \"10.1101/2021.10.08.21264595\", \"url\": \"https://www.medrxiv.org/content/10.1101/2021.10.08.21264595v1\", \"data_annotations\": [[\"vaccination-hazard-rates-age-month.csv\", \"Vaccinated Cases\"], [\"vaccination-hazard-rates-age-month.csv\", \"Unvaccinated Cases\"]]}]'"
     },
     "execution_count": 9,
     "metadata": {},
     "output_type": "execute_result"
    }
   ],
   "source": [
    "from connect import vars_dataset_connection\n",
    "\n",
    "json_str, success = vars_dataset_connection(dkg_json_string,dataset_str,GPT_KEY)\n",
    "json_str"
   ]
  },
  {
   "cell_type": "code",
   "execution_count": 10,
   "id": "5d492104",
   "metadata": {
    "pycharm": {
     "name": "#%%\n"
    }
   },
   "outputs": [
    {
     "data": {
      "text/plain": "[{'type': 'variable',\n  'name': 'VE',\n  'id': 'v0',\n  'text_annotations': [' Vaccine Effectiveness', ' Vaccine Effectiveness'],\n  'dkg_annotations': [['']],\n  'title': 'COVID-19 Vaccine Effectiveness by Product and Timing in New York State',\n  'doi': '10.1101/2021.10.08.21264595',\n  'url': 'https://www.medrxiv.org/content/10.1101/2021.10.08.21264595v1',\n  'data_annotations': [['usa-vaccinations.csv', 'new_persons_vaccinated'],\n   ['usa-vaccinations.csv', 'cumulative_persons_vaccinated']]},\n {'type': 'variable',\n  'name': 'Pfizer-BioNTech',\n  'id': 'v1',\n  'text_annotations': [' Vaccine Product',\n   ' Vaccine primarily distributed to NYS'],\n  'dkg_annotations': [],\n  'title': 'COVID-19 Vaccine Effectiveness by Product and Timing in New York State',\n  'doi': '10.1101/2021.10.08.21264595',\n  'url': 'https://www.medrxiv.org/content/10.1101/2021.10.08.21264595v1',\n  'data_annotations': [['usa-vaccinations.csv',\n    'new_persons_vaccinated_pfizer'],\n   ['usa-vaccinations.csv', 'cumulative_persons_vaccinated_pfizer']]},\n {'type': 'variable',\n  'name': 'Moderna',\n  'id': 'v2',\n  'text_annotations': [' Vaccine Product', ' Vaccine product'],\n  'dkg_annotations': [['ncit:C177124', 'Moderna'], ['vo:0004953', 'Moderna']],\n  'title': 'COVID-19 Vaccine Effectiveness by Product and Timing in New York State',\n  'doi': '10.1101/2021.10.08.21264595',\n  'url': 'https://www.medrxiv.org/content/10.1101/2021.10.08.21264595v1',\n  'data_annotations': [['usa-vaccinations.csv',\n    'new_persons_vaccinated_moderna'],\n   ['usa-vaccinations.csv', 'cumulative_persons_vaccinated_moderna']]},\n {'type': 'variable',\n  'name': 'Janssen',\n  'id': 'v3',\n  'text_annotations': [' Vaccine Product', ' Vaccine product'],\n  'dkg_annotations': [['vo:0004932', 'Janssen Pharmaceutica'],\n   ['ncit:C164191', 'Janssen Pharmaceuticals']],\n  'title': 'COVID-19 Vaccine Effectiveness by Product and Timing in New York State',\n  'doi': '10.1101/2021.10.08.21264595',\n  'url': 'https://www.medrxiv.org/content/10.1101/2021.10.08.21264595v1',\n  'data_annotations': [['usa-vaccinations.csv',\n    'new_persons_vaccinated_janssen'],\n   ['usa-vaccinations.csv', 'cumulative_persons_vaccinated_janssen']]},\n {'type': 'variable',\n  'name': 'Delta variant',\n  'id': 'v4',\n  'text_annotations': [' Variant of the virus',\n   ' Percentage of the population that has the Delta variant of the virus.VE for cases'],\n  'dkg_annotations': [['cido:0000376', 'SARS-CoV-2 Delta variant'],\n   ['cido:0000063', 'Delta variant COVID-19 disease process']],\n  'title': 'COVID-19 Vaccine Effectiveness by Product and Timing in New York State',\n  'doi': '10.1101/2021.10.08.21264595',\n  'url': 'https://www.medrxiv.org/content/10.1101/2021.10.08.21264595v1',\n  'data_annotations': ['']},\n {'type': 'variable',\n  'name': 'NYS',\n  'id': 'v5',\n  'text_annotations': [' New York State'],\n  'dkg_annotations': [['geonames:2990440', 'Nice'],\n   ['geonames:2147714', 'Sydney']],\n  'title': 'COVID-19 Vaccine Effectiveness by Product and Timing in New York State',\n  'doi': '10.1101/2021.10.08.21264595',\n  'url': 'https://www.medrxiv.org/content/10.1101/2021.10.08.21264595v1',\n  'data_annotations': [['us-counties-2023.csv', 'state'],\n   ['OxCGRT_nat_latest.csv', 'RegionName']]},\n {'type': 'variable',\n  'name': 'Cohort',\n  'id': 'v6',\n  'text_annotations': [' Group of persons remaining unvaccinated or fully vaccinated as of May 1, 2021.'],\n  'dkg_annotations': [['ncit:C61512', 'Cohort'], ['stato:0000203', 'cohort']],\n  'title': 'COVID-19 Vaccine Effectiveness by Product and Timing in New York State',\n  'doi': '10.1101/2021.10.08.21264595',\n  'url': 'https://www.medrxiv.org/content/10.1101/2021.10.08.21264595v1',\n  'data_annotations': [['usa-vaccinations.csv',\n    'new_persons_fully_vaccinated'],\n   ['usa-vaccinations.csv', 'cumulative_persons_fully_vaccinated']]},\n {'type': 'variable',\n  'name': 'CIR',\n  'id': 'v7',\n  'text_annotations': [' Citywide Immunization Registry.'],\n  'dkg_annotations': [['']],\n  'title': 'COVID-19 Vaccine Effectiveness by Product and Timing in New York State',\n  'doi': '10.1101/2021.10.08.21264595',\n  'url': 'https://www.medrxiv.org/content/10.1101/2021.10.08.21264595v1',\n  'data_annotations': ['']},\n {'type': 'variable',\n  'name': 'NYSIIS',\n  'id': 'v8',\n  'text_annotations': [' New York State Immunization Information System.'],\n  'dkg_annotations': [],\n  'title': 'COVID-19 Vaccine Effectiveness by Product and Timing in New York State',\n  'doi': '10.1101/2021.10.08.21264595',\n  'url': 'https://www.medrxiv.org/content/10.1101/2021.10.08.21264595v1',\n  'data_annotations': ['']},\n {'type': 'variable',\n  'name': 'ECLRS',\n  'id': 'v9',\n  'text_annotations': [' Electronic Clinical Laboratory Reporting System.'],\n  'dkg_annotations': [],\n  'title': 'COVID-19 Vaccine Effectiveness by Product and Timing in New York State',\n  'doi': '10.1101/2021.10.08.21264595',\n  'url': 'https://www.medrxiv.org/content/10.1101/2021.10.08.21264595v1',\n  'data_annotations': ['']},\n {'type': 'variable',\n  'name': 'HERDS',\n  'id': 'v10',\n  'text_annotations': [' Health Electronic Response Data System.'],\n  'dkg_annotations': [],\n  'title': 'COVID-19 Vaccine Effectiveness by Product and Timing in New York State',\n  'doi': '10.1101/2021.10.08.21264595',\n  'url': 'https://www.medrxiv.org/content/10.1101/2021.10.08.21264595v1',\n  'data_annotations': [['usa-hospitalizations.csv',\n    'cumulative_hospitalized_patients'],\n   ['usa-hospitalizations.csv', 'current_hospitalized_patients']]},\n {'type': 'variable',\n  'name': 'Age Groups',\n  'id': 'v11',\n  'text_annotations': [' 18-49, 50-64, and ≥65 years.'],\n  'dkg_annotations': [],\n  'title': 'COVID-19 Vaccine Effectiveness by Product and Timing in New York State',\n  'doi': '10.1101/2021.10.08.21264595',\n  'url': 'https://www.medrxiv.org/content/10.1101/2021.10.08.21264595v1',\n  'data_annotations': [['age-stratified-by-month-hosp-cases-deaths.csv',\n    'age_group'],\n   ['usa-cases-hospitalized-by-age.csv', 'age_bin_0']]},\n {'type': 'variable',\n  'name': 'Timing of Full-Vaccination',\n  'id': 'v12',\n  'text_annotations': [' January-February, March, April 2021.'],\n  'dkg_annotations': [],\n  'title': 'COVID-19 Vaccine Effectiveness by Product and Timing in New York State',\n  'doi': '10.1101/2021.10.08.21264595',\n  'url': 'https://www.medrxiv.org/content/10.1101/2021.10.08.21264595v1',\n  'data_annotations': [['hospitalization-rate-by-month.csv', 'month'],\n   ['vaccination-hazard-rates-age-month.csv', 'Month']]},\n {'type': 'variable',\n  'name': 'VE for hospitalization',\n  'id': 'v13',\n  'text_annotations': [' Percentage of vaccine effectiveness for hospitalization'],\n  'dkg_annotations': [],\n  'title': 'COVID-19 Vaccine Effectiveness by Product and Timing in New York State',\n  'doi': '10.1101/2021.10.08.21264595',\n  'url': 'https://www.medrxiv.org/content/10.1101/2021.10.08.21264595v1',\n  'data_annotations': ['']},\n {'type': 'variable',\n  'name': 'Delta variant prevalence',\n  'id': 'v14',\n  'text_annotations': [' Percentage of Delta variant prevalence'],\n  'dkg_annotations': [],\n  'title': 'COVID-19 Vaccine Effectiveness by Product and Timing in New York State',\n  'doi': '10.1101/2021.10.08.21264595',\n  'url': 'https://www.medrxiv.org/content/10.1101/2021.10.08.21264595v1',\n  'data_annotations': ['']},\n {'type': 'variable',\n  'name': 'Census uncertainty',\n  'id': 'v15',\n  'text_annotations': [' Uncertainty in population size estimates'],\n  'dkg_annotations': [],\n  'title': 'COVID-19 Vaccine Effectiveness by Product and Timing in New York State',\n  'doi': '10.1101/2021.10.08.21264595',\n  'url': 'https://www.medrxiv.org/content/10.1101/2021.10.08.21264595v1',\n  'data_annotations': [['usa-2021-population-age-stratified.csv',\n    '\"Population\"'],\n   ['usa-2021-population-age-stratified.csv', '\"% of Population\"']]},\n {'type': 'variable',\n  'name': 'CDC guidance',\n  'id': 'v16',\n  'text_annotations': [' Policy changes adopted by NYS'],\n  'dkg_annotations': [],\n  'title': 'COVID-19 Vaccine Effectiveness by Product and Timing in New York State',\n  'doi': '10.1101/2021.10.08.21264595',\n  'url': 'https://www.medrxiv.org/content/10.1101/2021.10.08.21264595v1',\n  'data_annotations': [['OxCGRT_nat_latest.csv', 'CDC'],\n   ['OxCGRT_nat_latest.csv', 'Date']]},\n {'type': 'variable',\n  'name': 'Time-cohort',\n  'id': 'v17',\n  'text_annotations': [' Gradients by time-cohort in August'],\n  'dkg_annotations': [],\n  'title': 'COVID-19 Vaccine Effectiveness by Product and Timing in New York State',\n  'doi': '10.1101/2021.10.08.21264595',\n  'url': 'https://www.medrxiv.org/content/10.1101/2021.10.08.21264595v1',\n  'data_annotations': ['']},\n {'type': 'variable',\n  'name': 'unmeasured confounding',\n  'id': 'v18',\n  'text_annotations': [' behavioral, medical, or exposure differences between fully-vaccinated and unvaccinated adults'],\n  'dkg_annotations': [],\n  'title': 'COVID-19 Vaccine Effectiveness by Product and Timing in New York State',\n  'doi': '10.1101/2021.10.08.21264595',\n  'url': 'https://www.medrxiv.org/content/10.1101/2021.10.08.21264595v1',\n  'data_annotations': ['']},\n {'type': 'variable',\n  'name': 'indirect effects',\n  'id': 'v19',\n  'text_annotations': [' herd-immunity-type'],\n  'dkg_annotations': [],\n  'title': 'COVID-19 Vaccine Effectiveness by Product and Timing in New York State',\n  'doi': '10.1101/2021.10.08.21264595',\n  'url': 'https://www.medrxiv.org/content/10.1101/2021.10.08.21264595v1',\n  'data_annotations': ['']},\n {'type': 'variable',\n  'name': 'non-FDA authorized vaccines',\n  'id': 'v20',\n  'text_annotations': [' persons who received non-FDA authorized vaccines'],\n  'dkg_annotations': [],\n  'title': 'COVID-19 Vaccine Effectiveness by Product and Timing in New York State',\n  'doi': '10.1101/2021.10.08.21264595',\n  'url': 'https://www.medrxiv.org/content/10.1101/2021.10.08.21264595v1',\n  'data_annotations': [['usa-vaccinations.csv',\n    'new_persons_vaccinated_sinovac'],\n   ['usa-vaccinations.csv', 'total_persons_vaccinated_sinovac']]},\n {'type': 'variable',\n  'name': 'FDA',\n  'id': 'v21',\n  'text_annotations': [' Federal Drug Administration'],\n  'dkg_annotations': [['ndfrt:FDA_UNII', 'FDA_UNII'],\n   ['ncit:P317', 'FDA_Table']],\n  'title': 'COVID-19 Vaccine Effectiveness by Product and Timing in New York State',\n  'doi': '10.1101/2021.10.08.21264595',\n  'url': 'https://www.medrxiv.org/content/10.1101/2021.10.08.21264595v1',\n  'data_annotations': ['']},\n {'type': 'variable',\n  'name': 'mRNA-1273',\n  'id': 'v22',\n  'text_annotations': [' Vaccine Sponsor Briefing Document'],\n  'dkg_annotations': [['vo:0005233', 'mRNA-1273.351'],\n   ['vo:0005277', 'mRNA-1273.211']],\n  'title': 'COVID-19 Vaccine Effectiveness by Product and Timing in New York State',\n  'doi': '10.1101/2021.10.08.21264595',\n  'url': 'https://www.medrxiv.org/content/10.1101/2021.10.08.21264595v1',\n  'data_annotations': ['']},\n {'type': 'variable',\n  'name': 'COVID-19 Vaccine Ad26.COV2.S VA',\n  'id': 'v23',\n  'text_annotations': [' Vaccine primarily distributed to NYSC31518 (JNJ-78436735)'],\n  'dkg_annotations': [],\n  'title': 'COVID-19 Vaccine Effectiveness by Product and Timing in New York State',\n  'doi': '10.1101/2021.10.08.21264595',\n  'url': 'https://www.medrxiv.org/content/10.1101/2021.10.08.21264595v1',\n  'data_annotations': [['usa-vaccinations.csv',\n    'new_persons_vaccinated_janssen'],\n   ['usa-vaccinations.csv', 'cumulative_persons_vaccinated_janssen']]},\n {'type': 'variable',\n  'name': 'CDC',\n  'id': 'v24',\n  'text_annotations': [' Centers for Disease Control and Prevention'],\n  'dkg_annotations': [['ncit:A23', 'Has_PCDC_Data_Type'],\n   ['ncit:A38', 'Has_PCDC_OS_Permissible_Value']],\n  'title': 'COVID-19 Vaccine Effectiveness by Product and Timing in New York State',\n  'doi': '10.1101/2021.10.08.21264595',\n  'url': 'https://www.medrxiv.org/content/10.1101/2021.10.08.21264595v1',\n  'data_annotations': ['']},\n {'type': 'variable',\n  'name': 'BNT162b2',\n  'id': 'v25',\n  'text_annotations': [' Vaccine'],\n  'dkg_annotations': [],\n  'title': 'COVID-19 Vaccine Effectiveness by Product and Timing in New York State',\n  'doi': '10.1101/2021.10.08.21264595',\n  'url': 'https://www.medrxiv.org/content/10.1101/2021.10.08.21264595v1',\n  'data_annotations': [['usa-vaccinations.csv',\n    'new_persons_vaccinated_pfizer'],\n   ['usa-vaccinations.csv', 'cumulative_persons_vaccinated_pfizer']]},\n {'type': 'variable',\n  'name': 'Ad26.COV2.S VAC31518 (JNJ-78436735)',\n  'id': 'v26',\n  'text_annotations': [' Vaccine'],\n  'dkg_annotations': [],\n  'title': 'COVID-19 Vaccine Effectiveness by Product and Timing in New York State',\n  'doi': '10.1101/2021.10.08.21264595',\n  'url': 'https://www.medrxiv.org/content/10.1101/2021.10.08.21264595v1',\n  'data_annotations': [['usa-vaccinations.csv',\n    'new_persons_vaccinated_janssen'],\n   ['usa-vaccinations.csv', 'cumulative_persons_vaccinated_janssen']]},\n {'type': 'variable',\n  'name': 'Persons',\n  'id': 'v27',\n  'text_annotations': [' Total persons in cohorts of fully-vaccinated and unvaccinated adults in New York State'],\n  'dkg_annotations': [['vo:0001100', 'persons aged 6 months--24 years'],\n   ['vo:0001098',\n    'persons living with or providing care for infants aged <6 months']],\n  'title': 'COVID-19 Vaccine Effectiveness by Product and Timing in New York State',\n  'doi': '10.1101/2021.10.08.21264595',\n  'url': 'https://www.medrxiv.org/content/10.1101/2021.10.08.21264595v1',\n  'data_annotations': [['usa-vaccinations.csv',\n    'cumulative_persons_vaccinated'],\n   ['usa-vaccinations.csv', 'cumulative_persons_fully_vaccinated']]},\n {'type': 'variable',\n  'name': 'Cases',\n  'id': 'v28',\n  'text_annotations': [' Total new laboratory-confirmed COVID-19 cases'],\n  'dkg_annotations': [['hp:0003745', 'Sporadic'],\n   ['cemo:daily_cases', 'daily cases']],\n  'title': 'COVID-19 Vaccine Effectiveness by Product and Timing in New York State',\n  'doi': '10.1101/2021.10.08.21264595',\n  'url': 'https://www.medrxiv.org/content/10.1101/2021.10.08.21264595v1',\n  'data_annotations': [['us-counties-2023.csv', 'cases'],\n   ['hospitalization-rate-by-month.csv', 'num_cases_month']]},\n {'type': 'variable',\n  'name': 'Hospitalizations',\n  'id': 'v29',\n  'text_annotations': [' Total hospitalizations during follow-up'],\n  'dkg_annotations': [],\n  'title': 'COVID-19 Vaccine Effectiveness by Product and Timing in New York State',\n  'doi': '10.1101/2021.10.08.21264595',\n  'url': 'https://www.medrxiv.org/content/10.1101/2021.10.08.21264595v1',\n  'data_annotations': [['usa-hospitalizations.csv',\n    'new_hospitalized_patients'],\n   ['usa-hospitalizations.csv', 'cumulative_hospitalized_patients']]},\n {'type': 'variable',\n  'name': 'VE (95% CI)',\n  'id': 'v30',\n  'text_annotations': [' Vaccine effectiveness with 95% confidence interval',\n   ' Vaccine effectiveness with 95% confidence interval.'],\n  'dkg_annotations': [],\n  'title': 'COVID-19 Vaccine Effectiveness by Product and Timing in New York State',\n  'doi': '10.1101/2021.10.08.21264595',\n  'url': 'https://www.medrxiv.org/content/10.1101/2021.10.08.21264595v1',\n  'data_annotations': ['']},\n {'type': 'variable',\n  'name': 'March',\n  'id': 'v31',\n  'text_annotations': [' Time period'],\n  'dkg_annotations': [['geonames:445408', 'Nomarchía Athínas'],\n   ['doid:0050475', 'Weill-Marchesani syndrome']],\n  'title': 'COVID-19 Vaccine Effectiveness by Product and Timing in New York State',\n  'doi': '10.1101/2021.10.08.21264595',\n  'url': 'https://www.medrxiv.org/content/10.1101/2021.10.08.21264595v1',\n  'data_annotations': [['hospitalization-rate-by-month.csv', 'month'],\n   ['vaccination-hazard-rates-age-month.csv', 'Month']]},\n {'type': 'variable',\n  'name': 'April',\n  'id': 'v32',\n  'text_annotations': [' Time period'],\n  'dkg_annotations': [['pr:Q92688',\n    'acidic leucine-rich nuclear phosphoprotein 32 family member B (human)']],\n  'title': 'COVID-19 Vaccine Effectiveness by Product and Timing in New York State',\n  'doi': '10.1101/2021.10.08.21264595',\n  'url': 'https://www.medrxiv.org/content/10.1101/2021.10.08.21264595v1',\n  'data_annotations': [['hospitalization-rate-by-month.csv', 'month'],\n   ['vaccination-hazard-rates-age-month.csv', 'Month']]},\n {'type': 'variable',\n  'name': '18-49 years',\n  'id': 'v33',\n  'text_annotations': [' Age group.'],\n  'dkg_annotations': [],\n  'title': 'COVID-19 Vaccine Effectiveness by Product and Timing in New York State',\n  'doi': '10.1101/2021.10.08.21264595',\n  'url': 'https://www.medrxiv.org/content/10.1101/2021.10.08.21264595v1',\n  'data_annotations': [['age-stratified-by-month-hosp-cases-deaths.csv',\n    'age_group'],\n   ['usa-cases-hospitalized-by-age.csv', 'age_bin_0']]},\n {'type': 'variable',\n  'name': '50-64 years',\n  'id': 'v34',\n  'text_annotations': [' Age group.'],\n  'dkg_annotations': [],\n  'title': 'COVID-19 Vaccine Effectiveness by Product and Timing in New York State',\n  'doi': '10.1101/2021.10.08.21264595',\n  'url': 'https://www.medrxiv.org/content/10.1101/2021.10.08.21264595v1',\n  'data_annotations': [['age-stratified-by-month-hosp-cases-deaths.csv',\n    'age_group'],\n   ['vaccination-hazard-rates-age-month.csv', 'Age Group']]},\n {'type': 'variable',\n  'name': 'Vaccine cohort',\n  'id': 'v35',\n  'text_annotations': [' Percentage of vaccine effectiveness by product and timing in New York State'],\n  'dkg_annotations': [],\n  'title': 'COVID-19 Vaccine Effectiveness by Product and Timing in New York State',\n  'doi': '10.1101/2021.10.08.21264595',\n  'url': 'https://www.medrxiv.org/content/10.1101/2021.10.08.21264595v1',\n  'data_annotations': [['vaccination-hazard-rates-age-month.csv',\n    'Vaccinated Cases'],\n   ['vaccination-hazard-rates-age-month.csv', 'Unvaccinated Cases']]}]"
     },
     "execution_count": 10,
     "metadata": {},
     "output_type": "execute_result"
    }
   ],
   "source": [
    "ast.literal_eval(json_str)"
   ]
  },
  {
   "cell_type": "markdown",
   "id": "60ca157e",
   "metadata": {
    "pycharm": {
     "name": "#%% md\n"
    }
   },
   "source": []
  },
  {
   "cell_type": "code",
   "execution_count": 11,
   "outputs": [
    {
     "name": "stderr",
     "output_type": "stream",
     "text": [
      "100%|██████████| 11/11 [00:00<00:00, 26022.19it/s]\n",
      "100%|██████████| 36/36 [02:22<00:00,  3.96s/it]\n"
     ]
    }
   ],
   "source": [
    "paper = papers[1]\n",
    "paper\n",
    "with open(PARAM+paper[\"title\"]+\"_vars.txt\", \"r\") as f:\n",
    "        text = f.read()\n",
    "        dct_extract = {\"text\":text, \"gpt_key\":GPT_KEY}\n",
    "        json_str1 = requests.post(API_ROOT + \"annotation/find_text_vars/\", params=dct_extract).text\n",
    "dkg_json1 = json.loads(json_str)\n",
    "for variable in dkg_json1:\n",
    "    variable[\"title\"] = paper[\"title\"]\n",
    "    variable[\"doi\"] = paper[\"doi\"]\n",
    "    variable[\"url\"] = paper[\"url\"]\n",
    "dkg_json_string1 = json.dumps(dkg_json1)\n",
    "json_str1, success = vars_dataset_connection(dkg_json_string1,dataset_str,GPT_KEY)\n",
    "\n",
    "data_json = json.loads(json_str)\n",
    "data_json1 = json.loads(json_str1)\n",
    "data_json.extend(data_json1)"
   ],
   "metadata": {
    "collapsed": false,
    "pycharm": {
     "name": "#%%\n"
    }
   }
  },
  {
   "cell_type": "code",
   "execution_count": 12,
   "outputs": [],
   "source": [
    "with open('mit-extraction.json', 'w', encoding='utf-8') as json_file:\n",
    "    json.dump(data_json, json_file, ensure_ascii=False, indent=4)"
   ],
   "metadata": {
    "collapsed": false,
    "pycharm": {
     "name": "#%%\n"
    }
   }
  },
  {
   "cell_type": "markdown",
   "id": "65a888fa",
   "metadata": {
    "pycharm": {
     "name": "#%% md\n"
    }
   },
   "source": [
    "## 3. Getting a Petri net (as a pyascet) from code"
   ]
  },
  {
   "cell_type": "markdown",
   "id": "1ab7283a",
   "metadata": {
    "pycharm": {
     "name": "#%% md\n"
    }
   },
   "source": [
    "#### Let's now turn our attention to code. We have a python function that describes the Bucky dynamics:"
   ]
  },
  {
   "cell_type": "code",
   "execution_count": null,
   "id": "e2969b62",
   "metadata": {
    "pycharm": {
     "name": "#%%\n"
    }
   },
   "outputs": [],
   "source": [
    "with open(\"../../demos/2023-03-19/bucky.py\", \"r\") as f:\n",
    "    code = f.read()\n",
    "print(code)"
   ]
  },
  {
   "cell_type": "markdown",
   "id": "785c8fa3",
   "metadata": {
    "pycharm": {
     "name": "#%% md\n"
    }
   },
   "source": [
    "#### Using calls to the public MIT API, we can get Petri net components (places, transitions, hypothesized arcs) from this piece of code."
   ]
  },
  {
   "cell_type": "code",
   "execution_count": null,
   "id": "bc6e7dcb",
   "metadata": {
    "pycharm": {
     "name": "#%%\n"
    }
   },
   "outputs": [],
   "source": [
    "dict_petri = {\"code\": code, \"gpt_key\": GPT_KEY}\n",
    "places = requests.post(API_ROOT + \"petri/get_places\", params=dict_petri).text\n",
    "ast.literal_eval(places)"
   ]
  },
  {
   "cell_type": "code",
   "execution_count": null,
   "id": "4f48fde8",
   "metadata": {
    "pycharm": {
     "name": "#%%\n"
    }
   },
   "outputs": [],
   "source": [
    "transitions = requests.post(API_ROOT + \"petri/get_transitions\", params=dict_petri).text\n",
    "ast.literal_eval(transitions)"
   ]
  },
  {
   "cell_type": "code",
   "execution_count": null,
   "id": "a2558515",
   "metadata": {
    "pycharm": {
     "name": "#%%\n"
    }
   },
   "outputs": [],
   "source": [
    "arcs = requests.post(API_ROOT + \"petri/get_arcs\", params=dict_petri).text\n",
    "ast.literal_eval(arcs)"
   ]
  },
  {
   "cell_type": "markdown",
   "id": "21bc9dbc",
   "metadata": {
    "pycharm": {
     "name": "#%% md\n"
    }
   },
   "source": [
    "#### We can then convert these outputs into a py-acset (thanks to Justin Lieffers from Arizona for some of the conversion code and to Owen Lynch for the py-acset code!)"
   ]
  },
  {
   "cell_type": "code",
   "execution_count": null,
   "id": "473da719",
   "metadata": {
    "pycharm": {
     "name": "#%%\n"
    }
   },
   "outputs": [],
   "source": [
    "dict_acset = {\"places_str\": places, \"transitions_str\": transitions, \"arcs_str\": arcs}\n",
    "pyacset_str = requests.post(API_ROOT + \"petri/get_pyacset\", params=dict_acset).text"
   ]
  },
  {
   "cell_type": "code",
   "execution_count": null,
   "id": "c2a4aaa3",
   "metadata": {
    "pycharm": {
     "name": "#%%\n"
    }
   },
   "outputs": [],
   "source": [
    "ast.literal_eval(pyacset_str)"
   ]
  },
  {
   "cell_type": "markdown",
   "id": "59df09f4",
   "metadata": {
    "pycharm": {
     "name": "#%% md\n"
    }
   },
   "source": [
    "## 4. Linking the annotations to the py-acset and paper info [WIP]"
   ]
  },
  {
   "cell_type": "markdown",
   "id": "b11fcced",
   "metadata": {
    "pycharm": {
     "name": "#%% md\n"
    }
   },
   "source": [
    "#### Finally, we bring everything together: for every place and transition in the pyacset, let's map it to the annotations from earlier:"
   ]
  },
  {
   "cell_type": "code",
   "execution_count": null,
   "id": "1f50f236",
   "metadata": {
    "pycharm": {
     "name": "#%%\n"
    }
   },
   "outputs": [],
   "source": [
    "dct_link = {\"pyacset_str\":pyacset_str, \"annotations_str\":json_str, \"info_str\":\"\"}\n",
    "metadata_str = requests.post(API_ROOT + \"annotation/link_annos_to_pyacset/\", params=dct_link).text\n",
    "print(metadata_str)"
   ]
  },
  {
   "cell_type": "code",
   "execution_count": null,
   "id": "61bcdb1b",
   "metadata": {
    "pycharm": {
     "name": "#%%\n"
    }
   },
   "outputs": [],
   "source": [
    "ast.literal_eval(metadata_str)"
   ]
  },
  {
   "cell_type": "markdown",
   "id": "94a9cfcd",
   "metadata": {
    "pycharm": {
     "name": "#%% md\n"
    }
   },
   "source": [
    "#### Data in this format can be ingested, visualized and edited by TA4! Let's export the related files:"
   ]
  },
  {
   "cell_type": "code",
   "execution_count": null,
   "id": "8cf547c2",
   "metadata": {
    "pycharm": {
     "name": "#%%\n"
    }
   },
   "outputs": [],
   "source": [
    "with open(\"output-mit-pyacset.json\", \"w+\") as f:\n",
    "    json.dump(ast.literal_eval(pyacset_str), f)\n",
    "with open(\"output-mit-metadata.json\", \"w+\") as f:\n",
    "    json.dump(ast.literal_eval(metadata_str), f)"
   ]
  },
  {
   "cell_type": "markdown",
   "id": "d66094a4",
   "metadata": {
    "pycharm": {
     "name": "#%% md\n"
    }
   },
   "source": [
    "## 5. Interacting with the University of Arizona codepaths"
   ]
  },
  {
   "cell_type": "markdown",
   "id": "439e54ac",
   "metadata": {
    "pycharm": {
     "name": "#%% md\n"
    }
   },
   "source": [
    "#### The University of Arizona team can also produce an annotated py-acset as an output. We can integrate the two outputs by matching on the names of places and transitions, to get a more complete picture of the model. The metadata extracted by both teams can then be accessible by using the associated `uid` of each place/transition as a key into the metadata JSON file."
   ]
  }
 ],
 "metadata": {
  "kernelspec": {
   "display_name": "Python 3 (ipykernel)",
   "language": "python",
   "name": "python3"
  },
  "language_info": {
   "codemirror_mode": {
    "name": "ipython",
    "version": 3
   },
   "file_extension": ".py",
   "mimetype": "text/x-python",
   "name": "python",
   "nbconvert_exporter": "python",
   "pygments_lexer": "ipython3",
   "version": "3.10.6"
  }
 },
 "nbformat": 4,
 "nbformat_minor": 5
}