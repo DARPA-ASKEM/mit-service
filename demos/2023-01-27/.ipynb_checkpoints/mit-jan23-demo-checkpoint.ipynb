{
 "cells": [
  {
   "cell_type": "markdown",
   "id": "b032ffaa",
   "metadata": {},
   "source": [
    "# January 2023 Hackathon Friday Demo"
   ]
  },
  {
   "cell_type": "code",
   "execution_count": 1,
   "id": "bf253a8b",
   "metadata": {},
   "outputs": [],
   "source": [
    "API_IP_ADDR=\"http://100.26.10.46/\"\n",
    "GPT_KEY=\"\""
   ]
  },
  {
   "cell_type": "code",
   "execution_count": 14,
   "id": "1d0db1c5",
   "metadata": {},
   "outputs": [],
   "source": [
    "import requests, ast"
   ]
  },
  {
   "cell_type": "markdown",
   "id": "a7e91b76",
   "metadata": {},
   "source": [
    "## 1. Extracting (imperfect) Petri net components from code"
   ]
  },
  {
   "cell_type": "markdown",
   "id": "0d59a0c6",
   "metadata": {},
   "source": [
    "In this part of the demo, we show how our API provides calls to extract state variables, parameter variables and transitions of a Petri net, starting with a python function describing the related model."
   ]
  },
  {
   "cell_type": "markdown",
   "id": "c7217cae",
   "metadata": {},
   "source": [
    "Let's first load the code we will be working with:"
   ]
  },
  {
   "cell_type": "code",
   "execution_count": 3,
   "id": "fb951014",
   "metadata": {},
   "outputs": [
    {
     "name": "stdout",
     "output_type": "stream",
     "text": [
      "# define SEIRD_model\n",
      "def SEIRD_model(y, t, N0, alpha, beta, gamma, epsilon, mu):\n",
      "    S, E, I, R, D, N = y\n",
      "    dSdt = mu*N -beta * S * I / N0 - mu*S\n",
      "    dEdt = beta * S * I / N0 - (mu + epsilon) * E\n",
      "    dIdt = epsilon * E - (gamma + mu + alpha) * I\n",
      "    dRdt = gamma * I - mu *R\n",
      "    dDdt = -(dSdt + dEdt + dIdt + dRdt)\n",
      "    dNdt = -dDdt\n",
      "    return dSdt, dEdt, dIdt, dRdt, dDdt, dNdt\n"
     ]
    }
   ],
   "source": [
    "with open(\"seird.py\", \"r\") as f:\n",
    "        code = f.read()\n",
    "print(code)"
   ]
  },
  {
   "cell_type": "markdown",
   "id": "9273facc",
   "metadata": {},
   "source": [
    "This function describes an SEIRD model. If we're interested in representing this model with a Petri net, we can use our API's `petri/get_places` endpoint to first extract the places (states) of the net:"
   ]
  },
  {
   "cell_type": "code",
   "execution_count": 4,
   "id": "5fd6fcd8",
   "metadata": {},
   "outputs": [
    {
     "name": "stdout",
     "output_type": "stream",
     "text": [
      "[\"S\",\" E\",\" I\",\" R\",\" D\",\" N\"]\n"
     ]
    }
   ],
   "source": [
    "dict= {\"code\": code, \"gpt_key\": GPT_KEY}\n",
    "places = requests.post(API_IP_ADDR + \"petri/get_places\", params=dict).text\n",
    "print(places)"
   ]
  },
  {
   "cell_type": "markdown",
   "id": "4c844955",
   "metadata": {},
   "source": [
    "We can then also extract the parameter variables using the `petri/get_parameters` endpoint:"
   ]
  },
  {
   "cell_type": "code",
   "execution_count": 21,
   "id": "14617f89",
   "metadata": {},
   "outputs": [
    {
     "name": "stdout",
     "output_type": "stream",
     "text": [
      "[\"alpha\",\" beta\",\" gamma\",\" epsilon\",\" mu\"]\n"
     ]
    }
   ],
   "source": [
    "parameters = requests.post(API_IP_ADDR + \"petri/get_parameters\", params=dict).text\n",
    "print(parameters)"
   ]
  },
  {
   "cell_type": "markdown",
   "id": "2eec88ff",
   "metadata": {},
   "source": [
    "And we can finally also extract transititions using the `petri/get_transitions` endpoint:"
   ]
  },
  {
   "cell_type": "code",
   "execution_count": 6,
   "id": "c0dc2057",
   "metadata": {},
   "outputs": [
    {
     "name": "stdout",
     "output_type": "stream",
     "text": [
      "[[\"S\",\" E\"],[\"E\",\" I\"],[\"I\",\" R\"],[\"R\",\" D\"],[\"D\",\" N\"],[\"N\",\" S\"]]\n"
     ]
    }
   ],
   "source": [
    "transitions = requests.post(API_IP_ADDR + \"petri/get_transitions\", params=dict).text\n",
    "print(transitions)"
   ]
  },
  {
   "cell_type": "markdown",
   "id": "a207c145",
   "metadata": {},
   "source": [
    "## 2. Annotating the extracted Petri net places based on the paper text"
   ]
  },
  {
   "cell_type": "markdown",
   "id": "f2aae678",
   "metadata": {},
   "source": [
    "Let's first load part of the paper to which the code above corresponds"
   ]
  },
  {
   "cell_type": "code",
   "execution_count": 12,
   "id": "ee7fbe63",
   "metadata": {},
   "outputs": [
    {
     "name": "stdout",
     "output_type": "stream",
     "text": [
      "When no vaccine is available, the isolation of diagnosed infectives and social distancing are the only control measures available. We consider an SEIR epidemic disease model [e.g., (5, 7–9)]. The total (initial) population, N0, is categorized into four classes, namely, susceptible, S(t), exposed, E(t), infected-infectious, I(t) and recovered, R(t), where t is the time variable. The governing differential equations are\n",
      "\n",
      "S˙=Λ−μS−βSIN,E˙=βSIN−(μ+ϵ)E,I˙=ϵE−(γ+μ+α)I,R˙=γI−μR,    (1)\n",
      " \n",
      "where N = S + E\n",
      "...\n"
     ]
    }
   ],
   "source": [
    "with open(\"section2.txt\", \"r\") as f:\n",
    "        text = f.read()\n",
    "print(text[:500])\n",
    "print(\"...\")"
   ]
  },
  {
   "cell_type": "markdown",
   "id": "323dd189",
   "metadata": {},
   "source": [
    "Let's convert the places that we obtained through the `petri/get_places` call above into an actual python list:"
   ]
  },
  {
   "cell_type": "code",
   "execution_count": 15,
   "id": "a9614920",
   "metadata": {},
   "outputs": [],
   "source": [
    "places = ast.literal_eval(places)"
   ]
  },
  {
   "cell_type": "markdown",
   "id": "8fece93d",
   "metadata": {},
   "source": [
    "Now let's use the `petri/match_place_to_text` endpoint to obtain a description for each place from the paper text:"
   ]
  },
  {
   "cell_type": "code",
   "execution_count": 17,
   "id": "d902e47f",
   "metadata": {},
   "outputs": [
    {
     "name": "stdout",
     "output_type": "stream",
     "text": [
      "Description for S: \"\\\"The total (initial) population, N0, is categorized into four classes, namely, susceptible, S(t), exposed, E(t), infected-infectious, I(t) and recovered, R(t), where t is the time variable.\\\"\"\n",
      "------\n",
      "\n",
      "Description for  E: \"\\\"The exposed (E) become infectious (I) with a rate ϵ and the infectious recover (R) with a rate γ.\\\"\"\n",
      "------\n",
      "\n",
      "Description for  I: \"\\\"The infected-infectious, I(t), class is where people go from S to E depending on the number of contacts with I individuals, multiplied by the probability of infection (β).\\\"\"\n",
      "------\n",
      "\n",
      "Description for  R: \"\\\"Recovered means an individual who does not flow back into the S class, as lifelong immunity is assumed, but it remains to be seen whether patients recovered from COVID-19 will develop antibodies and achieve lifelong protection.\\\"\"\n",
      "------\n",
      "\n",
      "Description for  D: \"\\\"The dead population as a function of time is D(t) = N0 − N(t), whereas the curve giving the dead people per unit time is\\\"\"\n",
      "------\n",
      "\n",
      "Description for  N: \"\\\"The total (initial) population, N0, is categorized into four classes, namely, susceptible, S(t), exposed, E(t), infected-infectious, I(t) and recovered, R(t), where t is the time variable.\\\"\"\n",
      "------\n",
      "\n"
     ]
    }
   ],
   "source": [
    "dict2= {\"text\": text, \"gpt_key\": GPT_KEY}\n",
    "for place in places:\n",
    "        dict2[\"place\"] = place\n",
    "        desc = requests.post(API_IP_ADDR + \"petri/match_place_to_text\", params=dict2).text\n",
    "        print(f\"Description for {place}: {desc}\\n------\\n\")"
   ]
  },
  {
   "cell_type": "markdown",
   "id": "9f244392",
   "metadata": {},
   "source": [
    "## 3. Finding values for extracted Petri net parameters based on the paper text"
   ]
  },
  {
   "cell_type": "markdown",
   "id": "5e071f88",
   "metadata": {},
   "source": [
    "Let's load some more of the paper text:"
   ]
  },
  {
   "cell_type": "code",
   "execution_count": 18,
   "id": "8ef13f35",
   "metadata": {},
   "outputs": [
    {
     "name": "stdout",
     "output_type": "stream",
     "text": [
      "We solve the differential Equations (1) by using a forward Euler finite-difference scheme [e.g., (17)], discretizing the time variable as t = ndt, where n is a natural number and dt is the time step. After discretization, Equations (1) and (2) become:\n",
      "\n",
      "Sn+1=Sn+dt(Λ−μSn−βSnInNn),En+1=En+dt[βSnInNn−(μ+ϵ)En],In+1=In+dt[ϵEn−(γ+μ+α)In],Rn+1=Rn+dt(γIn−μRn),D˙n=−(S˙n+E˙n+I˙n+R˙n)(t),    (7)\n",
      " \n",
      "where Ḋn is the number of dead people in only the specific day n. This algorithm yields positive and bounded so\n",
      "...\n"
     ]
    }
   ],
   "source": [
    "with open(\"sections34.txt\", \"r\") as f:\n",
    "        text2 = f.read()\n",
    "print(text2[:500])\n",
    "print(\"...\")"
   ]
  },
  {
   "cell_type": "markdown",
   "id": "4247c49b",
   "metadata": {},
   "source": [
    "Let's convert the parameters that we obtained through the `petri/get_parameters` call above into an actual python list:"
   ]
  },
  {
   "cell_type": "code",
   "execution_count": 22,
   "id": "94eadb88",
   "metadata": {},
   "outputs": [],
   "source": [
    "parameters = ast.literal_eval(parameters)"
   ]
  },
  {
   "cell_type": "markdown",
   "id": "2bab77a7",
   "metadata": {},
   "source": [
    "Now let's use the `petri/init_param_from_text` endpoint to obtain an initial value, and the associated units, for each parameter from the paper text:"
   ]
  },
  {
   "cell_type": "code",
   "execution_count": 26,
   "id": "f04a1f65",
   "metadata": {},
   "outputs": [
    {
     "name": "stdout",
     "output_type": "stream",
     "text": [
      "Initial value for alpha: [\"0.006\",\"/day\"]\n",
      "------\n",
      "\n",
      "Initial value for  beta: [\"0.75\",\"/day\"]\n",
      "------\n",
      "\n",
      "Initial value for  gamma: [\"(1/8)\",\"/day\"]\n",
      "------\n",
      "\n",
      "Initial value for  epsilon: [\"1/3\",\"/day\"]\n",
      "------\n",
      "\n",
      "Initial value for  mu: [\"0.006\",\"/day\"]\n",
      "------\n",
      "\n"
     ]
    }
   ],
   "source": [
    "dict3= {\"text\": text2, \"gpt_key\": GPT_KEY}\n",
    "for param in parameters:\n",
    "        dict3[\"param\"] = param\n",
    "        desc = requests.post(API_IP_ADDR + \"petri/init_param_from_text\", params=dict3).text\n",
    "        print(f\"Initial value for {param}: {desc}\\n------\\n\")\n"
   ]
  },
  {
   "cell_type": "code",
   "execution_count": null,
   "id": "63c7ac6f",
   "metadata": {},
   "outputs": [],
   "source": []
  }
 ],
 "metadata": {
  "kernelspec": {
   "display_name": "Python 3 (ipykernel)",
   "language": "python",
   "name": "python3"
  },
  "language_info": {
   "codemirror_mode": {
    "name": "ipython",
    "version": 3
   },
   "file_extension": ".py",
   "mimetype": "text/x-python",
   "name": "python",
   "nbconvert_exporter": "python",
   "pygments_lexer": "ipython3",
   "version": "3.10.6"
  }
 },
 "nbformat": 4,
 "nbformat_minor": 5
}
