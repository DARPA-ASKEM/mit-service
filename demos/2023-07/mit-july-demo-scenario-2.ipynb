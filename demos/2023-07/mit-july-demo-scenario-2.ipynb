{
 "cells": [
  {
   "cell_type": "markdown",
   "id": "7f6a1aaa",
   "metadata": {
    "pycharm": {
     "name": "#%% md\n"
    }
   },
   "source": [
    "# MIT (TA1): From Paper and Code to annotated extraction\n"
   ]
  },
  {
   "cell_type": "markdown",
   "id": "8f6cdd8b",
   "metadata": {
    "pycharm": {
     "name": "#%% md\n"
    }
   },
   "source": [
    "## 0. Preprocessing"
   ]
  },
  {
   "cell_type": "code",
   "execution_count": 4,
   "id": "d07d53d5",
   "metadata": {
    "execution": {
     "iopub.execute_input": "2023-10-23T22:16:24.674911Z",
     "iopub.status.busy": "2023-10-23T22:16:24.674343Z",
     "iopub.status.idle": "2023-10-23T22:16:24.679891Z",
     "shell.execute_reply": "2023-10-23T22:16:24.678900Z",
     "shell.execute_reply.started": "2023-10-23T22:16:24.674878Z"
    },
    "pycharm": {
     "name": "#%%\n"
    }
   },
   "outputs": [],
   "source": [
    "import ast, json, requests, os\n",
    "from mitaskem.gpt_key import *\n",
    "API_ROOT = \"http://localhost:8000/\""
   ]
  },
  {
   "cell_type": "markdown",
   "id": "d382c8c7",
   "metadata": {
    "pycharm": {
     "name": "#%% md\n"
    }
   },
   "source": [
    "## 1. MIT annotation end to end pipeline"
   ]
  },
  {
   "cell_type": "markdown",
   "id": "7fe51f05",
   "metadata": {
    "pycharm": {
     "name": "#%% md\n"
    }
   },
   "source": [
    "#### We bring every annotation step together: for the original paper text, let's integrate all the extraction modules and output the MIT extraction:\n",
    "[http://3.83.68.208/#/Paper-2-annotated-vars/upload_file_annotate_annotation_upload_file_extract__post](http://3.83.68.208/#/Paper-2-annotated-vars/upload_file_annotate_annotation_upload_file_extract__post)"
   ]
  },
  {
   "cell_type": "code",
   "execution_count": 7,
   "id": "0ab278fe",
   "metadata": {
    "execution": {
     "iopub.execute_input": "2023-10-23T22:27:22.910521Z",
     "iopub.status.busy": "2023-10-23T22:27:22.909674Z",
     "iopub.status.idle": "2023-10-23T22:28:12.747252Z",
     "shell.execute_reply": "2023-10-23T22:28:12.744415Z",
     "shell.execute_reply.started": "2023-10-23T22:27:22.910460Z"
    },
    "pycharm": {
     "name": "#%%\n"
    }
   },
   "outputs": [
    {
     "name": "stdout",
     "output_type": "stream",
     "text": [
      "{\"detail\":\"Rate limit reached for gpt-4 in organization org-wEq2smkqY1LHfIhwEwqmMN04 on tokens per min. Limit: 10000 / min. Please try again in 6ms. Contact us through our help center at help.openai.com if you continue to have issues.\"}\n"
     ]
    }
   ],
   "source": [
    "scenario_2_paper = \"text_s41598-022-06159-x.txt\"\n",
    "with open(scenario_2_paper, 'rb') as f:\n",
    "    files = {'file': ('filename', f)}\n",
    "    params = {\"gpt_key\": GPT_KEY}\n",
    "    response = requests.post(API_ROOT + \"annotation/upload_file_extract/\",  params=params,  files=files)\n",
    "    json_str = response.text\n",
    "print(json_str)\n"
   ]
  },
  {
   "cell_type": "code",
   "execution_count": 3,
   "id": "aaba066a",
   "metadata": {
    "execution": {
     "iopub.execute_input": "2023-10-23T22:09:56.357638Z",
     "iopub.status.busy": "2023-10-23T22:09:56.357178Z",
     "iopub.status.idle": "2023-10-23T22:09:56.365795Z",
     "shell.execute_reply": "2023-10-23T22:09:56.364515Z",
     "shell.execute_reply.started": "2023-10-23T22:09:56.357608Z"
    },
    "pycharm": {
     "name": "#%%\n"
    }
   },
   "outputs": [],
   "source": [
    "import json\n",
    "\n",
    "json_object = json.dumps(json.loads(json_str), indent=4)\n",
    "with open(\"m_temp_scenario_2.json\", \"w\") as f:\n",
    "    f.write(json_object)"
   ]
  },
  {
   "cell_type": "markdown",
   "id": "7543b56f",
   "metadata": {
    "pycharm": {
     "name": "#%% md\n"
    }
   },
   "source": [
    "## 2. Interacting with the University of Arizona extraction"
   ]
  },
  {
   "cell_type": "markdown",
   "id": "8ac39918",
   "metadata": {
    "pycharm": {
     "name": "#%% md\n"
    }
   },
   "source": [
    "#### With both the University of Arizona and MIT extractions, we first build the entity matching mapping for all the extracted variable entities, and then integrate the two integration together with the unified TA1 data model.\n",
    "[http://3.83.68.208/#/TA1-Integration/upload_files_integration_integration_get_mapping_post](http://3.83.68.208/#/TA1-Integration/upload_files_integration_integration_get_mapping_post)"
   ]
  },
  {
   "cell_type": "code",
   "execution_count": 4,
   "id": "88718f30",
   "metadata": {
    "execution": {
     "iopub.execute_input": "2023-10-23T22:10:03.625886Z",
     "iopub.status.busy": "2023-10-23T22:10:03.624950Z",
     "iopub.status.idle": "2023-10-23T22:10:03.652121Z",
     "shell.execute_reply": "2023-10-23T22:10:03.651660Z",
     "shell.execute_reply.started": "2023-10-23T22:10:03.625835Z"
    },
    "pycharm": {
     "name": "#%%\n"
    }
   },
   "outputs": [
    {
     "name": "stdout",
     "output_type": "stream",
     "text": [
      "{\"detail\":\"'attributes'\"}\n"
     ]
    }
   ],
   "source": [
    "with open('m_temp_scenario_2.json', 'rb') as f_mit, open('s41598-022-06159.json', 'rb') as f_arizona:\n",
    "    files = { 'mit_file': ('bucky__mit-extraction_id.json', f_mit, 'application/json'),\n",
    "        'arizona_file': ('bucky_arizona_output_example.json', f_arizona, 'application/json')}\n",
    "    params = {\"gpt_key\": GPT_KEY}\n",
    "    response = requests.post(API_ROOT + \"integration/get_mapping\", params=params, files=files)\n",
    "    print(response.text)"
   ]
  },
  {
   "cell_type": "code",
   "execution_count": null,
   "id": "69af103e",
   "metadata": {
    "pycharm": {
     "name": "#%%\n"
    }
   },
   "outputs": [],
   "source": []
  }
 ],
 "metadata": {
  "kernelspec": {
   "display_name": "Python (mitaskem)",
   "language": "python",
   "name": "mitaskem"
  },
  "language_info": {
   "codemirror_mode": {
    "name": "ipython",
    "version": 3
   },
   "file_extension": ".py",
   "mimetype": "text/x-python",
   "name": "python",
   "nbconvert_exporter": "python",
   "pygments_lexer": "ipython3",
   "version": "3.10.12"
  }
 },
 "nbformat": 4,
 "nbformat_minor": 5
}
