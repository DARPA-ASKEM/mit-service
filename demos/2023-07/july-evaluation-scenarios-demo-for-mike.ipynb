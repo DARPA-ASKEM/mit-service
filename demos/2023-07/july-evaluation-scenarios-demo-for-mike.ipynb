{
 "cells": [
  {
   "cell_type": "markdown",
   "id": "7f6a1aaa",
   "metadata": {
    "pycharm": {
     "name": "#%% md\n"
    }
   },
   "source": [
    "# MIT (TA1): Data cards for Scenarios 3.1a and 3.4a"
   ]
  },
  {
   "cell_type": "markdown",
   "id": "8f6cdd8b",
   "metadata": {
    "pycharm": {
     "name": "#%% md\n"
    }
   },
   "source": [
    "## 0. Preprocessing"
   ]
  },
  {
   "cell_type": "code",
   "execution_count": 10,
   "id": "d07d53d5",
   "metadata": {
    "pycharm": {
     "name": "#%%\n"
    }
   },
   "outputs": [],
   "source": [
    "import io, json, pandas as pd, requests\n",
    "from gpt_key import *\n",
    "API_ROOT = \"http://localhost:8000/\"\n",
    "\n",
    "# display imports\n",
    "from IPython.display import display, HTML, Markdown\n",
    "from IPython.core.interactiveshell import InteractiveShell\n",
    "InteractiveShell.ast_node_interactivity = \"all\""
   ]
  },
  {
   "cell_type": "markdown",
   "id": "d382c8c7",
   "metadata": {
    "pycharm": {
     "name": "#%% md\n"
    }
   },
   "source": [
    "## Scenario 3-1a. MA Wastewater Flow Rate and Viral Load\n",
    "\n",
    "`Extract the appropriate data columns (cRNA2 and F2, which represent the viral load in wastewater and the flow rate, respectively) from the paper’s supplemental materials.`\n",
    "\n",
    "Relevant data columns for flow rate and viral load can be found in two `.csv` files in the supplemental materials; we provide data annotations via data card for each of them here, which includes general annotations about the dataset, statistics about the dataset, and column-level DKG groundings.\n",
    "\n",
    "Below, we start with the flow rate table:"
   ]
  },
  {
   "cell_type": "code",
   "execution_count": 11,
   "id": "959641f2",
   "metadata": {},
   "outputs": [
    {
     "data": {
      "text/html": [
       "<div>\n",
       "<style scoped>\n",
       "    .dataframe tbody tr th:only-of-type {\n",
       "        vertical-align: middle;\n",
       "    }\n",
       "\n",
       "    .dataframe tbody tr th {\n",
       "        vertical-align: top;\n",
       "    }\n",
       "\n",
       "    .dataframe thead th {\n",
       "        text-align: right;\n",
       "    }\n",
       "</style>\n",
       "<table border=\"1\" class=\"dataframe\">\n",
       "  <thead>\n",
       "    <tr style=\"text-align: right;\">\n",
       "      <th></th>\n",
       "      <th>Sample Date</th>\n",
       "      <th>North System Flows to DITP, MGD</th>\n",
       "      <th>South System Flows to DITP, MGD</th>\n",
       "      <th>Total flows to DITP (MGD: Million gallon per day)</th>\n",
       "    </tr>\n",
       "  </thead>\n",
       "  <tbody>\n",
       "    <tr>\n",
       "      <th>0</th>\n",
       "      <td>10/2/20</td>\n",
       "      <td>134.0</td>\n",
       "      <td>64.2</td>\n",
       "      <td>198.2</td>\n",
       "    </tr>\n",
       "    <tr>\n",
       "      <th>1</th>\n",
       "      <td>10/3/20</td>\n",
       "      <td>130.5</td>\n",
       "      <td>61.7</td>\n",
       "      <td>192.2</td>\n",
       "    </tr>\n",
       "    <tr>\n",
       "      <th>2</th>\n",
       "      <td>10/4/20</td>\n",
       "      <td>126.4</td>\n",
       "      <td>59.2</td>\n",
       "      <td>185.6</td>\n",
       "    </tr>\n",
       "    <tr>\n",
       "      <th>3</th>\n",
       "      <td>10/5/20</td>\n",
       "      <td>127.4</td>\n",
       "      <td>60.0</td>\n",
       "      <td>187.5</td>\n",
       "    </tr>\n",
       "    <tr>\n",
       "      <th>4</th>\n",
       "      <td>10/6/20</td>\n",
       "      <td>130.1</td>\n",
       "      <td>60.7</td>\n",
       "      <td>190.9</td>\n",
       "    </tr>\n",
       "    <tr>\n",
       "      <th>...</th>\n",
       "      <td>...</td>\n",
       "      <td>...</td>\n",
       "      <td>...</td>\n",
       "      <td>...</td>\n",
       "    </tr>\n",
       "    <tr>\n",
       "      <th>111</th>\n",
       "      <td>1/21/21</td>\n",
       "      <td>200.3</td>\n",
       "      <td>129.2</td>\n",
       "      <td>329.5</td>\n",
       "    </tr>\n",
       "    <tr>\n",
       "      <th>112</th>\n",
       "      <td>1/22/21</td>\n",
       "      <td>193.9</td>\n",
       "      <td>124.3</td>\n",
       "      <td>318.2</td>\n",
       "    </tr>\n",
       "    <tr>\n",
       "      <th>113</th>\n",
       "      <td>1/23/21</td>\n",
       "      <td>186.9</td>\n",
       "      <td>119.9</td>\n",
       "      <td>306.8</td>\n",
       "    </tr>\n",
       "    <tr>\n",
       "      <th>114</th>\n",
       "      <td>1/24/21</td>\n",
       "      <td>185.1</td>\n",
       "      <td>115.0</td>\n",
       "      <td>300.1</td>\n",
       "    </tr>\n",
       "    <tr>\n",
       "      <th>115</th>\n",
       "      <td>1/25/21</td>\n",
       "      <td>180.4</td>\n",
       "      <td>113.6</td>\n",
       "      <td>294.0</td>\n",
       "    </tr>\n",
       "  </tbody>\n",
       "</table>\n",
       "<p>116 rows × 4 columns</p>\n",
       "</div>"
      ],
      "text/plain": [
       "    Sample Date  North System Flows to DITP, MGD  \\\n",
       "0       10/2/20                            134.0   \n",
       "1       10/3/20                            130.5   \n",
       "2       10/4/20                            126.4   \n",
       "3       10/5/20                            127.4   \n",
       "4       10/6/20                            130.1   \n",
       "..          ...                              ...   \n",
       "111     1/21/21                            200.3   \n",
       "112     1/22/21                            193.9   \n",
       "113     1/23/21                            186.9   \n",
       "114     1/24/21                            185.1   \n",
       "115     1/25/21                            180.4   \n",
       "\n",
       "     South System Flows to DITP, MGD  \\\n",
       "0                               64.2   \n",
       "1                               61.7   \n",
       "2                               59.2   \n",
       "3                               60.0   \n",
       "4                               60.7   \n",
       "..                               ...   \n",
       "111                            129.2   \n",
       "112                            124.3   \n",
       "113                            119.9   \n",
       "114                            115.0   \n",
       "115                            113.6   \n",
       "\n",
       "     Total flows to DITP (MGD: Million gallon per day)  \n",
       "0                                                198.2  \n",
       "1                                                192.2  \n",
       "2                                                185.6  \n",
       "3                                                187.5  \n",
       "4                                                190.9  \n",
       "..                                                 ...  \n",
       "111                                              329.5  \n",
       "112                                              318.2  \n",
       "113                                              306.8  \n",
       "114                                              300.1  \n",
       "115                                              294.0  \n",
       "\n",
       "[116 rows x 4 columns]"
      ]
     },
     "execution_count": 11,
     "metadata": {},
     "output_type": "execute_result"
    }
   ],
   "source": [
    "csv_name = \"scenario-3.1a-flow-rates.csv\"\n",
    "pd.read_csv(csv_name)"
   ]
  },
  {
   "cell_type": "markdown",
   "id": "abe2d87f",
   "metadata": {},
   "source": [
    "We also take a look at the source paper to add context to the datasets; in this scenario, we use the same documentation for both the flow rate and viral concentration datasets."
   ]
  },
  {
   "cell_type": "code",
   "execution_count": 12,
   "id": "a77c285d",
   "metadata": {},
   "outputs": [
    {
     "name": "stdout",
     "output_type": "stream",
     "text": [
      "2. Materials and methods\n",
      "\n",
      "2.1. Samples and wastewater data\n",
      "\n",
      "Raw, 24-h composite wastewater samples were collected from the Deer Island wastewater treatment plant in Massachusetts from October 02, 2020 to January 25, 2021. The Massachusetts wastewater treatment plant where we obtained samples has two major influent streams, which are referred to as the “northern” and “southern” influents. The daily flow rates during the sampling period for the northern and southern influents are 4.54e5–2.3e6 m3/day, and 2.16e5–1.19e6m3/day, respectively. Together the two catchments represent approximately 2.3 million wastewater customers in Middlesex, Norfolk, and Suffolk counties, primarily in urban and suburban neighborhoods. There are 5100 miles of local sewers transporting wastewater into 227 miles of interceptor pipes to the wastewater treatment plant (www.mwra.com), and the typical turnaround time for the plant to treat wastewater is 24 h. Samples were processed as they were received. Experimental methods and data were reported in our previous work (Wu et al., 2022b; Xiao et al., 2022). Briefly, the samples were pasteurized at 60 °C for 1 h for disinfection, and then filtered with 0.2 μm hydrophilic polyethersulfone membrane (Millipore Sigma) to remove bacterial cells and debris. Then, 15-ml filtrate was concentrated to ~200 ul with Amicon Ultra Centrifugal Filter (30-kDa cutoff, Millipore Sigma), and lysed with Qiagen AVL buffer followed by RNA extraction with Qiagen RNeasy kit. SARS-CoV-2 concentrations were quantified by one-step reverse transcription-polymerase chain reaction (RT-PCR) with the Taqman Fast Virus 1-Step Master Mix (Thermofisher) and CDC N1 and N2 primers/probes. Ct values were transformed to copies per ml of wastewater using standard curves for N1 and N2 targets established with synthetic SARS-CoV-2 RNA (Twist Bioscience) as the template. To compute the total viral load in the sewershed, we first averaged the viral concentration in the northern and southern influents by the sampling date, which is then multiplied by the total influent flow rates (i.e., sum of flow rates of northern and southern influents) on the same day.\n",
      "\n",
      "...\n"
     ]
    }
   ],
   "source": [
    "doc_name = \"scenario-3.1a-data-documentation.txt\"\n",
    "\n",
    "with open(doc_name, 'r') as f:\n",
    "    for line in f.readlines()[:3]:\n",
    "        print(line)\n",
    "    print('...') # ellipsis to indicate there's more"
   ]
  },
  {
   "cell_type": "markdown",
   "id": "cc9a4c89",
   "metadata": {},
   "source": [
    "Now that we have our inputs, we are ready to fetch our data card:"
   ]
  },
  {
   "cell_type": "code",
   "execution_count": 18,
   "id": "0ab278fe",
   "metadata": {
    "pycharm": {
     "name": "#%%\n"
    }
   },
   "outputs": [],
   "source": [
    "with open(csv_name, 'rb') as f_csv, open(doc_name,  'rb') as f_doc:\n",
    "    files = {'csv_file': ('filename', f_csv), 'doc_file': ('filename', f_doc)}\n",
    "    params = {\"gpt_key\": GPT_KEY}\n",
    "    response = requests.post(API_ROOT + \"cards/get_data_card/\",  params=params,  files=files)\n",
    "    json_str = response.text\n",
    "profile31a_flow = json.loads(json_str)"
   ]
  },
  {
   "cell_type": "markdown",
   "id": "e588b18d",
   "metadata": {},
   "source": [
    "...and read it:"
   ]
  },
  {
   "cell_type": "code",
   "execution_count": 14,
   "id": "89f30625",
   "metadata": {},
   "outputs": [
    {
     "data": {
      "text/markdown": [
       "# Data Card Output"
      ],
      "text/plain": [
       "<IPython.core.display.Markdown object>"
      ]
     },
     "metadata": {},
     "output_type": "display_data"
    },
    {
     "data": {
      "text/markdown": [
       "**Description**: The dataset contains wastewater data collected from the Deer Island wastewater treatment plant in Massachusetts from October 02, 2020 to January 25, 2021."
      ],
      "text/plain": [
       "<IPython.core.display.Markdown object>"
      ]
     },
     "metadata": {},
     "output_type": "display_data"
    },
    {
     "data": {
      "text/markdown": [
       "**Provenance**: The data was collected from the Deer Island wastewater treatment plant in Massachusetts."
      ],
      "text/plain": [
       "<IPython.core.display.Markdown object>"
      ]
     },
     "metadata": {},
     "output_type": "display_data"
    },
    {
     "data": {
      "text/markdown": [
       "**Dataset type**: tabular"
      ],
      "text/plain": [
       "<IPython.core.display.Markdown object>"
      ]
     },
     "metadata": {},
     "output_type": "display_data"
    }
   ],
   "source": [
    "display(Markdown(\"# Data Card Output\"))\n",
    "for key, value in profile31a_flow.items():\n",
    "    if type(value) is str and value != 'UNKNOWN':\n",
    "        display(Markdown(\"**\" + key.capitalize().replace('_', ' ') + \"**: \" + value))"
   ]
  },
  {
   "cell_type": "code",
   "execution_count": 15,
   "id": "ca2fea34",
   "metadata": {},
   "outputs": [],
   "source": [
    "profiling_result = profile31a_flow[\"DATA_PROFILING_RESULT\"]\n",
    "for column_name, output in profiling_result.items():\n",
    "    # string formating one of the DKG groundings for display\n",
    "    selected_grounding = output['dkg_groundings'][0]\n",
    "    grounding_keys = ['id', 'name', 'class']\n",
    "    grounding_output = [f\"<b>{k}</b>: {v}\" for k, v in zip(grounding_keys, selected_grounding)]\n",
    "    profiling_result[column_name]['dkg_groundings'] = '\\\\n'.join(grounding_output) + '\\\\n...'\n",
    "\n",
    "    column_stats = output['column_stats']\n",
    "    # truncate numbers to a lower floating point precision\n",
    "    for key, val in column_stats.items():\n",
    "        if type(val) is float:\n",
    "            column_stats[key] = round(val, ndigits=3)\n",
    "    output['column_stats'] = ''\n",
    "    # pulling up the column type first\n",
    "    if column_stats.get('type'):\n",
    "        output['column_stats'] += f\"<b>type: {column_stats['type']}</b>\\\\n\\\\n\"\n",
    "    # truncating and string formatting most common entries due to length\n",
    "    if column_stats.get('most_common_entries'):\n",
    "        output_str = ''\n",
    "        for i, entry_key in enumerate(column_stats['most_common_entries'].keys()):\n",
    "            if i > 1:\n",
    "                continue\n",
    "            entry_value = column_stats['most_common_entries'][entry_key]\n",
    "            output_str += f\"\\\\n\\\\t{entry_key} ({entry_value} times)\"\n",
    "        output_str += \"\\\\n\\\\t...\"\n",
    "        column_stats['most_common_entries'] = output_str\n",
    "    # truncate column stats key set\n",
    "    smaller_key_set = ['earliest', 'latest', 'mean', 'std'] # ['most_common_entries', 'earliest', 'latest', 'mean', 'std', 'min', 'max', '50%']\n",
    "    if smaller_key_set:\n",
    "        output['column_stats'] += '\\\\n'.join(key + ': ' + str(value) for key, value in column_stats.items() if key != 'type' and key in smaller_key_set)\n",
    "        output['column_stats'] += '\\\\n\\\\n'\n",
    "        output['column_stats'] += '\\\\n'.join(key + ': ' + str(value) for key, value in column_stats.items() if key != 'type' and key not in smaller_key_set)\n",
    "    else:\n",
    "        output['column_stats'] += '\\\\n'.join(key + ': ' + str(value) for key, value in column_stats.items() if key != 'type')"
   ]
  },
  {
   "cell_type": "code",
   "execution_count": 16,
   "id": "b87c1e56",
   "metadata": {},
   "outputs": [
    {
     "data": {
      "text/markdown": [
       "# Data Profiling Output"
      ],
      "text/plain": [
       "<IPython.core.display.Markdown object>"
      ]
     },
     "metadata": {},
     "output_type": "display_data"
    },
    {
     "data": {
      "text/html": [
       "<style type=\"text/css\">\n",
       "#T_15451 th {\n",
       "  text-align: left;\n",
       "}\n",
       "#T_15451_row0_col0, #T_15451_row0_col1, #T_15451_row0_col2, #T_15451_row0_col3, #T_15451_row1_col0, #T_15451_row1_col1, #T_15451_row1_col2, #T_15451_row1_col3, #T_15451_row2_col0, #T_15451_row2_col1, #T_15451_row2_col2, #T_15451_row2_col3, #T_15451_row3_col0, #T_15451_row3_col1, #T_15451_row3_col2, #T_15451_row3_col3, #T_15451_row4_col0, #T_15451_row4_col1, #T_15451_row4_col2, #T_15451_row4_col3 {\n",
       "  text-align: left;\n",
       "}\n",
       "</style>\n",
       "<table id=\"T_15451\" style=\"font-size: 14px\">\n",
       "  <thead>\n",
       "    <tr>\n",
       "      <th class=\"blank level0\" >&nbsp;</th>\n",
       "      <th id=\"T_15451_level0_col0\" class=\"col_heading level0 col0\" >Sample Date</th>\n",
       "      <th id=\"T_15451_level0_col1\" class=\"col_heading level0 col1\" >North System Flows to DITP, MGD</th>\n",
       "      <th id=\"T_15451_level0_col2\" class=\"col_heading level0 col2\" >South System Flows to DITP, MGD</th>\n",
       "      <th id=\"T_15451_level0_col3\" class=\"col_heading level0 col3\" >Total flows to DITP (MGD: Million gallon per day)</th>\n",
       "    </tr>\n",
       "  </thead>\n",
       "  <tbody>\n",
       "    <tr>\n",
       "      <th id=\"T_15451_level0_row0\" class=\"row_heading level0 row0\" >concept</th>\n",
       "      <td id=\"T_15451_row0_col0\" class=\"data row0 col0\" >Date of sample collection</td>\n",
       "      <td id=\"T_15451_row0_col1\" class=\"data row0 col1\" >Flow rate of the northern influent</td>\n",
       "      <td id=\"T_15451_row0_col2\" class=\"data row0 col2\" >Flow rate of the southern influent</td>\n",
       "      <td id=\"T_15451_row0_col3\" class=\"data row0 col3\" >Total flow rate to the treatment plant</td>\n",
       "    </tr>\n",
       "    <tr>\n",
       "      <th id=\"T_15451_level0_row1\" class=\"row_heading level0 row1\" >unit</th>\n",
       "      <td id=\"T_15451_row1_col0\" class=\"data row1 col0\" >Date</td>\n",
       "      <td id=\"T_15451_row1_col1\" class=\"data row1 col1\" >Million gallons per day (MGD)</td>\n",
       "      <td id=\"T_15451_row1_col2\" class=\"data row1 col2\" >Million gallons per day (MGD)</td>\n",
       "      <td id=\"T_15451_row1_col3\" class=\"data row1 col3\" >Million gallons per day (MGD)</td>\n",
       "    </tr>\n",
       "    <tr>\n",
       "      <th id=\"T_15451_level0_row2\" class=\"row_heading level0 row2\" >description</th>\n",
       "      <td id=\"T_15451_row2_col0\" class=\"data row2 col0\" >The date when the wastewater sample was collected from the Deer Island wastewater treatment plant in\n",
       "Massachusetts.</td>\n",
       "      <td id=\"T_15451_row2_col1\" class=\"data row2 col1\" >The daily flow rate of the northern influent to the Deer Island wastewater treatment plant in\n",
       "Massachusetts.</td>\n",
       "      <td id=\"T_15451_row2_col2\" class=\"data row2 col2\" >The daily flow rate of the southern influent to the Deer Island wastewater treatment plant in\n",
       "Massachusetts.</td>\n",
       "      <td id=\"T_15451_row2_col3\" class=\"data row2 col3\" >The total daily flow rate (sum of the northern and southern influents) to the Deer Island wastewater\n",
       "treatment plant in Massachusetts.</td>\n",
       "    </tr>\n",
       "    <tr>\n",
       "      <th id=\"T_15451_level0_row3\" class=\"row_heading level0 row3\" >dkg_groundings</th>\n",
       "      <td id=\"T_15451_row3_col0\" class=\"data row3 col0\" ><b>id</b>: oboinowl:date<br><b>name</b>: date<br><b>class</b>: property<br>...</td>\n",
       "      <td id=\"T_15451_row3_col1\" class=\"data row3 col1\" ><b>id</b>: geonames:2297169<br><b>name</b>: Northern<br><b>class</b>: individual<br>...</td>\n",
       "      <td id=\"T_15451_row3_col2\" class=\"data row3 col2\" ><b>id</b>: geonames:7533609<br><b>name</b>: Southern<br><b>class</b>: individual<br>...</td>\n",
       "      <td id=\"T_15451_row3_col3\" class=\"data row3 col3\" ><b>id</b>: oae:0001658<br><b>name</b>: protein total increased AE<br><b>class</b>: class<br>...</td>\n",
       "    </tr>\n",
       "    <tr>\n",
       "      <th id=\"T_15451_level0_row4\" class=\"row_heading level0 row4\" >column_stats</th>\n",
       "      <td id=\"T_15451_row4_col0\" class=\"data row4 col0\" ><b>type: date</b><br><br><br><br>num_null_entries: 0<br>num_unique_entries: 116<br>most_common_entries: <br> 2020-10-02T00:00:00 (1 times)<br> 2020-12-14T00:00:00 (1 times)<br> ...</td>\n",
       "      <td id=\"T_15451_row4_col1\" class=\"data row4 col1\" ><b>type: numeric</b><br><br>mean: 210.637<br>std: 84.609<br><br>num_null_entries: 0<br>min: 120.7<br>max: 617.0<br>quantile_25: 157.0<br>quantile_50: 191.85<br>quantile_75: 231.5</td>\n",
       "      <td id=\"T_15451_row4_col2\" class=\"data row4 col2\" ><b>type: numeric</b><br><br>mean: 115.939<br>std: 47.982<br><br>num_null_entries: 0<br>min: 57.0<br>max: 314.0<br>quantile_25: 81.375<br>quantile_50: 111.25<br>quantile_75: 138.625</td>\n",
       "      <td id=\"T_15451_row4_col3\" class=\"data row4 col3\" ><b>type: numeric</b><br><br>mean: 326.576<br>std: 124.737<br><br>num_null_entries: 0<br>min: 177.7<br>max: 931.0<br>quantile_25: 241.5<br>quantile_50: 306.75<br>quantile_75: 369.475</td>\n",
       "    </tr>\n",
       "  </tbody>\n",
       "</table>\n"
      ],
      "text/plain": [
       "<IPython.core.display.HTML object>"
      ]
     },
     "metadata": {},
     "output_type": "display_data"
    }
   ],
   "source": [
    "display(Markdown(\"# Data Profiling Output\"))\n",
    "df = pd.read_json(io.StringIO(json.dumps(profiling_result)), orient='index')\n",
    "# deduplicate column names\n",
    "df = df.drop('col_name', axis=1)\n",
    "# print the whole description\n",
    "df['description'] = df['description'].str.wrap(100)\n",
    "# transpose table\n",
    "df = df.T\n",
    "# make sure the table is aligned to the left\n",
    "df_style = df.style.set_properties(**{'text-align': 'left'})\n",
    "# make sure the column headers are also aligned to the left\n",
    "df_style = df_style.set_table_styles([dict(selector='th', props=[('text-align', 'left')])])\n",
    "# increase the font size\n",
    "df_style = df_style.set_table_attributes('style=\"font-size: 14px\"')\n",
    "# replace delimiters for HTML parsing\n",
    "df_style = df_style.to_html().replace(\"\\\\n\",\"<br>\").replace(\"\\\\t\",\" \")\n",
    "\n",
    "display(HTML(df_style))\n"
   ]
  },
  {
   "cell_type": "markdown",
   "id": "6371a184",
   "metadata": {},
   "source": [
    "Now that we have gone through this data card pipeline, we will wrap it in a function:"
   ]
  },
  {
   "cell_type": "code",
   "execution_count": 35,
   "id": "c2ae4876",
   "metadata": {},
   "outputs": [],
   "source": [
    "def fetch_data_card(csv_filename, documentation_filename):\n",
    "    with open(csv_name, 'rb') as f_csv, open(doc_name,  'rb') as f_doc:\n",
    "        files = {'csv_file': ('filename', f_csv), 'doc_file': ('filename', f_doc)}\n",
    "        params = {\"gpt_key\": GPT_KEY}\n",
    "        response = requests.post(API_ROOT + \"cards/get_data_card/\",  params=params,  files=files)\n",
    "        json_str = response.text\n",
    "    data_profile = json.loads(json_str)\n",
    "\n",
    "    display(Markdown(\"# Data Card Output\"))\n",
    "    for key, value in data_profile.items():\n",
    "        if type(value) is str and value != 'UNKNOWN':\n",
    "            display(Markdown(\"**\" + key.capitalize().replace('_', ' ') + \"**: \" + value))\n",
    "\n",
    "    profiling_result = data_profile[\"DATA_PROFILING_RESULT\"]\n",
    "    for column_name, output in profiling_result.items():\n",
    "        # string formating one of the DKG groundings for display\n",
    "        selected_grounding = output['dkg_groundings'][0]\n",
    "        grounding_keys = ['id', 'name', 'class']\n",
    "        grounding_output = [f\"<b>{k}</b>: {v}\" for k, v in zip(grounding_keys, selected_grounding)]\n",
    "        profiling_result[column_name]['dkg_groundings'] = '\\\\n'.join(grounding_output) + '\\\\n...'\n",
    "\n",
    "        column_stats = output['column_stats']\n",
    "        # truncate numbers to a lower floating point precision\n",
    "        for key, val in column_stats.items():\n",
    "            if type(val) is float:\n",
    "                column_stats[key] = round(val, ndigits=3)\n",
    "        output['column_stats'] = ''\n",
    "        # pulling up the column type first\n",
    "        if column_stats.get('type'):\n",
    "            output['column_stats'] += f\"<b>type: {column_stats['type']}</b>\\\\n\\\\n\"\n",
    "        # truncating and string formatting most common entries due to length\n",
    "        if column_stats.get('most_common_entries'):\n",
    "            output_str = ''\n",
    "            for i, entry_key in enumerate(column_stats['most_common_entries'].keys()):\n",
    "                if i > 1:\n",
    "                    continue\n",
    "                entry_value = column_stats['most_common_entries'][entry_key]\n",
    "                output_str += f\"\\\\n\\\\t{entry_key} ({entry_value} times)\"\n",
    "            output_str += \"\\\\n\\\\t...\"\n",
    "            column_stats['most_common_entries'] = output_str\n",
    "        # truncate column stats key set\n",
    "        smaller_key_set = ['earliest', 'latest', 'mean', 'std'] # ['most_common_entries', 'earliest', 'latest', 'mean', 'std', 'min', 'max', '50%']\n",
    "        if smaller_key_set:\n",
    "            output['column_stats'] += '\\\\n'.join(key + ': ' + str(value) for key, value in column_stats.items() if key != 'type' and key in smaller_key_set)\n",
    "            if column_stats.get('type') and column_stats['type'] == 'categorical':\n",
    "                pass\n",
    "            else:\n",
    "                output['column_stats'] += '\\\\n\\\\n'\n",
    "            output['column_stats'] += '\\\\n'.join(key + ': ' + str(value) for key, value in column_stats.items() if key != 'type' and key not in smaller_key_set)\n",
    "        else:\n",
    "            output['column_stats'] += '\\\\n'.join(key + ': ' + str(value) for key, value in column_stats.items() if key != 'type')\n",
    "\n",
    "    display(Markdown(\"# Data Profiling Output\"))\n",
    "    df = pd.read_json(io.StringIO(json.dumps(profiling_result)), orient='index')\n",
    "    # deduplicate column names\n",
    "    df = df.drop('col_name', axis=1)\n",
    "    # print the whole description\n",
    "    df['description'] = df['description'].str.wrap(100)\n",
    "    # transpose table\n",
    "    df = df.T\n",
    "    # make sure the table is aligned to the left\n",
    "    df_style = df.style.set_properties(**{'text-align': 'left'})\n",
    "    # make sure the column headers are also aligned to the left\n",
    "    df_style = df_style.set_table_styles([dict(selector='th', props=[('text-align', 'left')])])\n",
    "    # increase the font size\n",
    "    df_style = df_style.set_table_attributes('style=\"font-size: 14px\"')\n",
    "    # replace delimiters for HTML parsing\n",
    "    df_style = df_style.to_html().replace(\"\\\\n\",\"<br>\").replace(\"\\\\t\",\" \")\n",
    "\n",
    "    display(HTML(df_style))"
   ]
  },
  {
   "cell_type": "markdown",
   "id": "ad6043d3",
   "metadata": {},
   "source": [
    "Now, we switch to looking at the viral concentration dataset:"
   ]
  },
  {
   "cell_type": "code",
   "execution_count": 21,
   "id": "5f0554d8",
   "metadata": {},
   "outputs": [
    {
     "data": {
      "text/html": [
       "<div>\n",
       "<style scoped>\n",
       "    .dataframe tbody tr th:only-of-type {\n",
       "        vertical-align: middle;\n",
       "    }\n",
       "\n",
       "    .dataframe tbody tr th {\n",
       "        vertical-align: top;\n",
       "    }\n",
       "\n",
       "    .dataframe thead th {\n",
       "        text-align: right;\n",
       "    }\n",
       "</style>\n",
       "<table border=\"1\" class=\"dataframe\">\n",
       "  <thead>\n",
       "    <tr style=\"text-align: right;\">\n",
       "      <th></th>\n",
       "      <th>Date</th>\n",
       "      <th>SARS-CoV-2 levels [copies/L]</th>\n",
       "      <th>log_SARS-CoV-2</th>\n",
       "      <th>seven_day_average</th>\n",
       "      <th>seven_day_average_log</th>\n",
       "    </tr>\n",
       "  </thead>\n",
       "  <tbody>\n",
       "    <tr>\n",
       "      <th>0</th>\n",
       "      <td>10/2/20</td>\n",
       "      <td>4.791207e+04</td>\n",
       "      <td>4.680454</td>\n",
       "      <td>43998.28696</td>\n",
       "      <td>4.643446</td>\n",
       "    </tr>\n",
       "    <tr>\n",
       "      <th>1</th>\n",
       "      <td>10/3/20</td>\n",
       "      <td>NaN</td>\n",
       "      <td>NaN</td>\n",
       "      <td>43998.28696</td>\n",
       "      <td>4.643446</td>\n",
       "    </tr>\n",
       "    <tr>\n",
       "      <th>2</th>\n",
       "      <td>10/4/20</td>\n",
       "      <td>NaN</td>\n",
       "      <td>NaN</td>\n",
       "      <td>52228.97821</td>\n",
       "      <td>4.717920</td>\n",
       "    </tr>\n",
       "    <tr>\n",
       "      <th>3</th>\n",
       "      <td>10/5/20</td>\n",
       "      <td>4.742341e+04</td>\n",
       "      <td>4.676002</td>\n",
       "      <td>52228.97821</td>\n",
       "      <td>4.717920</td>\n",
       "    </tr>\n",
       "    <tr>\n",
       "      <th>4</th>\n",
       "      <td>10/6/20</td>\n",
       "      <td>NaN</td>\n",
       "      <td>NaN</td>\n",
       "      <td>55536.09344</td>\n",
       "      <td>4.744583</td>\n",
       "    </tr>\n",
       "    <tr>\n",
       "      <th>...</th>\n",
       "      <td>...</td>\n",
       "      <td>...</td>\n",
       "      <td>...</td>\n",
       "      <td>...</td>\n",
       "      <td>...</td>\n",
       "    </tr>\n",
       "    <tr>\n",
       "      <th>111</th>\n",
       "      <td>1/21/21</td>\n",
       "      <td>5.159181e+05</td>\n",
       "      <td>5.712582</td>\n",
       "      <td>924447.10450</td>\n",
       "      <td>5.965883</td>\n",
       "    </tr>\n",
       "    <tr>\n",
       "      <th>112</th>\n",
       "      <td>1/22/21</td>\n",
       "      <td>6.448364e+05</td>\n",
       "      <td>5.809450</td>\n",
       "      <td>967594.89500</td>\n",
       "      <td>5.985694</td>\n",
       "    </tr>\n",
       "    <tr>\n",
       "      <th>113</th>\n",
       "      <td>1/23/21</td>\n",
       "      <td>9.203620e+05</td>\n",
       "      <td>5.963959</td>\n",
       "      <td>884487.78690</td>\n",
       "      <td>5.946692</td>\n",
       "    </tr>\n",
       "    <tr>\n",
       "      <th>114</th>\n",
       "      <td>1/24/21</td>\n",
       "      <td>2.038592e+06</td>\n",
       "      <td>6.309331</td>\n",
       "      <td>856670.00150</td>\n",
       "      <td>5.932814</td>\n",
       "    </tr>\n",
       "    <tr>\n",
       "      <th>115</th>\n",
       "      <td>1/25/21</td>\n",
       "      <td>1.117430e+06</td>\n",
       "      <td>6.048221</td>\n",
       "      <td>861101.41740</td>\n",
       "      <td>5.935055</td>\n",
       "    </tr>\n",
       "  </tbody>\n",
       "</table>\n",
       "<p>116 rows × 5 columns</p>\n",
       "</div>"
      ],
      "text/plain": [
       "        Date  SARS-CoV-2 levels [copies/L]  log_SARS-CoV-2  seven_day_average  \\\n",
       "0    10/2/20                  4.791207e+04        4.680454        43998.28696   \n",
       "1    10/3/20                           NaN             NaN        43998.28696   \n",
       "2    10/4/20                           NaN             NaN        52228.97821   \n",
       "3    10/5/20                  4.742341e+04        4.676002        52228.97821   \n",
       "4    10/6/20                           NaN             NaN        55536.09344   \n",
       "..       ...                           ...             ...                ...   \n",
       "111  1/21/21                  5.159181e+05        5.712582       924447.10450   \n",
       "112  1/22/21                  6.448364e+05        5.809450       967594.89500   \n",
       "113  1/23/21                  9.203620e+05        5.963959       884487.78690   \n",
       "114  1/24/21                  2.038592e+06        6.309331       856670.00150   \n",
       "115  1/25/21                  1.117430e+06        6.048221       861101.41740   \n",
       "\n",
       "     seven_day_average_log  \n",
       "0                 4.643446  \n",
       "1                 4.643446  \n",
       "2                 4.717920  \n",
       "3                 4.717920  \n",
       "4                 4.744583  \n",
       "..                     ...  \n",
       "111               5.965883  \n",
       "112               5.985694  \n",
       "113               5.946692  \n",
       "114               5.932814  \n",
       "115               5.935055  \n",
       "\n",
       "[116 rows x 5 columns]"
      ]
     },
     "execution_count": 21,
     "metadata": {},
     "output_type": "execute_result"
    }
   ],
   "source": [
    "csv_name = \"scenario-3.1a-viral-concentration.csv\"\n",
    "pd.read_csv(csv_name)"
   ]
  },
  {
   "cell_type": "markdown",
   "id": "cd6229fb",
   "metadata": {},
   "source": [
    "... and  present data annotations on this viral concentration dataset through another data card:"
   ]
  },
  {
   "cell_type": "code",
   "execution_count": 22,
   "id": "1da2aeb2",
   "metadata": {},
   "outputs": [
    {
     "data": {
      "text/markdown": [
       "# Data Card Output"
      ],
      "text/plain": [
       "<IPython.core.display.Markdown object>"
      ]
     },
     "metadata": {},
     "output_type": "display_data"
    },
    {
     "data": {
      "text/markdown": [
       "**Description**: The dataset contains wastewater data collected from the Deer Island wastewater treatment plant in Massachusetts from October 02, 2020 to January 25, 2021."
      ],
      "text/plain": [
       "<IPython.core.display.Markdown object>"
      ]
     },
     "metadata": {},
     "output_type": "display_data"
    },
    {
     "data": {
      "text/markdown": [
       "**Provenance**: The data was collected from the Deer Island wastewater treatment plant in Massachusetts."
      ],
      "text/plain": [
       "<IPython.core.display.Markdown object>"
      ]
     },
     "metadata": {},
     "output_type": "display_data"
    },
    {
     "data": {
      "text/markdown": [
       "**Dataset type**: tabular"
      ],
      "text/plain": [
       "<IPython.core.display.Markdown object>"
      ]
     },
     "metadata": {},
     "output_type": "display_data"
    },
    {
     "data": {
      "text/markdown": [
       "# Data Profiling Output"
      ],
      "text/plain": [
       "<IPython.core.display.Markdown object>"
      ]
     },
     "metadata": {},
     "output_type": "display_data"
    },
    {
     "data": {
      "text/html": [
       "<style type=\"text/css\">\n",
       "#T_8dbf6 th {\n",
       "  text-align: left;\n",
       "}\n",
       "#T_8dbf6_row0_col0, #T_8dbf6_row0_col1, #T_8dbf6_row0_col2, #T_8dbf6_row0_col3, #T_8dbf6_row0_col4, #T_8dbf6_row1_col0, #T_8dbf6_row1_col1, #T_8dbf6_row1_col2, #T_8dbf6_row1_col3, #T_8dbf6_row1_col4, #T_8dbf6_row2_col0, #T_8dbf6_row2_col1, #T_8dbf6_row2_col2, #T_8dbf6_row2_col3, #T_8dbf6_row2_col4, #T_8dbf6_row3_col0, #T_8dbf6_row3_col1, #T_8dbf6_row3_col2, #T_8dbf6_row3_col3, #T_8dbf6_row3_col4, #T_8dbf6_row4_col0, #T_8dbf6_row4_col1, #T_8dbf6_row4_col2, #T_8dbf6_row4_col3, #T_8dbf6_row4_col4 {\n",
       "  text-align: left;\n",
       "}\n",
       "</style>\n",
       "<table id=\"T_8dbf6\" style=\"font-size: 14px\">\n",
       "  <thead>\n",
       "    <tr>\n",
       "      <th class=\"blank level0\" >&nbsp;</th>\n",
       "      <th id=\"T_8dbf6_level0_col0\" class=\"col_heading level0 col0\" >Date</th>\n",
       "      <th id=\"T_8dbf6_level0_col1\" class=\"col_heading level0 col1\" >SARS-CoV-2 levels [copies/L]</th>\n",
       "      <th id=\"T_8dbf6_level0_col2\" class=\"col_heading level0 col2\" >log_SARS-CoV-2</th>\n",
       "      <th id=\"T_8dbf6_level0_col3\" class=\"col_heading level0 col3\" >seven_day_average</th>\n",
       "      <th id=\"T_8dbf6_level0_col4\" class=\"col_heading level0 col4\" >seven_day_average_log</th>\n",
       "    </tr>\n",
       "  </thead>\n",
       "  <tbody>\n",
       "    <tr>\n",
       "      <th id=\"T_8dbf6_level0_row0\" class=\"row_heading level0 row0\" >concept</th>\n",
       "      <td id=\"T_8dbf6_row0_col0\" class=\"data row0 col0\" >Sampling date</td>\n",
       "      <td id=\"T_8dbf6_row0_col1\" class=\"data row0 col1\" >SARS-CoV-2 concentration</td>\n",
       "      <td id=\"T_8dbf6_row0_col2\" class=\"data row0 col2\" >Logarithm of SARS-CoV-2 concentration</td>\n",
       "      <td id=\"T_8dbf6_row0_col3\" class=\"data row0 col3\" >Seven-day average of SARS-CoV-2 concentration</td>\n",
       "      <td id=\"T_8dbf6_row0_col4\" class=\"data row0 col4\" >Logarithm of seven-day average of SARS-CoV-2 concentration</td>\n",
       "    </tr>\n",
       "    <tr>\n",
       "      <th id=\"T_8dbf6_level0_row1\" class=\"row_heading level0 row1\" >unit</th>\n",
       "      <td id=\"T_8dbf6_row1_col0\" class=\"data row1 col0\" >Date</td>\n",
       "      <td id=\"T_8dbf6_row1_col1\" class=\"data row1 col1\" >copies/L</td>\n",
       "      <td id=\"T_8dbf6_row1_col2\" class=\"data row1 col2\" >Log(copies/L)</td>\n",
       "      <td id=\"T_8dbf6_row1_col3\" class=\"data row1 col3\" >copies/L</td>\n",
       "      <td id=\"T_8dbf6_row1_col4\" class=\"data row1 col4\" >Log(copies/L)</td>\n",
       "    </tr>\n",
       "    <tr>\n",
       "      <th id=\"T_8dbf6_level0_row2\" class=\"row_heading level0 row2\" >description</th>\n",
       "      <td id=\"T_8dbf6_row2_col0\" class=\"data row2 col0\" >The date when the wastewater sample was collected</td>\n",
       "      <td id=\"T_8dbf6_row2_col1\" class=\"data row2 col1\" >The concentration of SARS-CoV-2 in the wastewater sample, measured in copies per liter</td>\n",
       "      <td id=\"T_8dbf6_row2_col2\" class=\"data row2 col2\" >The natural logarithm of the SARS-CoV-2 concentration in the wastewater sample</td>\n",
       "      <td id=\"T_8dbf6_row2_col3\" class=\"data row2 col3\" >The seven-day moving average of the SARS-CoV-2 concentration in the wastewater sample</td>\n",
       "      <td id=\"T_8dbf6_row2_col4\" class=\"data row2 col4\" >The natural logarithm of the seven-day moving average of the SARS-CoV-2 concentration in the\n",
       "wastewater sample</td>\n",
       "    </tr>\n",
       "    <tr>\n",
       "      <th id=\"T_8dbf6_level0_row3\" class=\"row_heading level0 row3\" >dkg_groundings</th>\n",
       "      <td id=\"T_8dbf6_row3_col0\" class=\"data row3 col0\" ><b>id</b>: oboinowl:date<br><b>name</b>: date<br><b>class</b>: property<br>...</td>\n",
       "      <td id=\"T_8dbf6_row3_col1\" class=\"data row3 col1\" ><b>id</b>: cido:0004830<br><b>name</b>: SARS-CoV-2-SARS-CoV-2 N-S physical association<br><b>class</b>: class<br>...</td>\n",
       "      <td id=\"T_8dbf6_row3_col2\" class=\"data row3 col2\" ><b>id</b>: cido:0003058<br><b>name</b>: SARS-CoV-2-SARS-CoV-2 M-S physical association<br><b>class</b>: class<br>...</td>\n",
       "      <td id=\"T_8dbf6_row3_col3\" class=\"data row3 col3\" ><b>id</b>: opmi:0000091<br><b>name</b>: day of birth<br><b>class</b>: class<br>...</td>\n",
       "      <td id=\"T_8dbf6_row3_col4\" class=\"data row3 col4\" ><b>id</b>: opmi:0000091<br><b>name</b>: day of birth<br><b>class</b>: class<br>...</td>\n",
       "    </tr>\n",
       "    <tr>\n",
       "      <th id=\"T_8dbf6_level0_row4\" class=\"row_heading level0 row4\" >column_stats</th>\n",
       "      <td id=\"T_8dbf6_row4_col0\" class=\"data row4 col0\" ><b>type: date</b><br><br><br><br>num_null_entries: 0<br>num_unique_entries: 116<br>most_common_entries: <br> 2020-10-02T00:00:00 (1 times)<br> 2020-12-14T00:00:00 (1 times)<br> ...</td>\n",
       "      <td id=\"T_8dbf6_row4_col1\" class=\"data row4 col1\" ><b>type: numeric</b><br><br>mean: 601107.122<br>std: 407072.939<br><br>num_null_entries: 9<br>min: 47423.412<br>max: 2038591.913<br>quantile_25: 249928.689<br>quantile_50: 566181.008<br>quantile_75: 875858.806</td>\n",
       "      <td id=\"T_8dbf6_row4_col2\" class=\"data row4 col2\" ><b>type: numeric</b><br><br>mean: 5.642<br>std: 0.391<br><br>num_null_entries: 9<br>min: 4.676<br>max: 6.309<br>quantile_25: 5.397<br>quantile_50: 5.753<br>quantile_75: 5.942</td>\n",
       "      <td id=\"T_8dbf6_row4_col3\" class=\"data row4 col3\" ><b>type: numeric</b><br><br>mean: 552940.252<br>std: 367337.12<br><br>num_null_entries: 0<br>min: 43998.287<br>max: 1256651.488<br>quantile_25: 156967.388<br>quantile_50: 614862.797<br>quantile_75: 873505.164</td>\n",
       "      <td id=\"T_8dbf6_row4_col4\" class=\"data row4 col4\" ><b>type: numeric</b><br><br>mean: 5.587<br>std: 0.426<br><br>num_null_entries: 0<br>min: 4.643<br>max: 6.099<br>quantile_25: 5.196<br>quantile_50: 5.789<br>quantile_75: 5.941</td>\n",
       "    </tr>\n",
       "  </tbody>\n",
       "</table>\n"
      ],
      "text/plain": [
       "<IPython.core.display.HTML object>"
      ]
     },
     "metadata": {},
     "output_type": "display_data"
    }
   ],
   "source": [
    "csv_name = \"scenario-3.1a-viral-concentration.csv\"\n",
    "doc_name = \"scenario-3.1a-data-documentation.txt\"\n",
    "fetch_data_card(csv_name, doc_name)"
   ]
  },
  {
   "cell_type": "markdown",
   "id": "5dd8be6e",
   "metadata": {},
   "source": [
    "## Scenario 3-4a. NYC Wastewater Flow Rate and Viral Load\n",
    "\n",
    "`The City of New York maintains openly available COVID-19 wastewater monitoring data at https://data.cityofnewyork.us/Health/SARS-CoV-2-concentrations-measured-in-NYC-Wastewat/f7dc-2q9f/data. Extract the relevant data columns (viral load, population served); you will also need the flow rate to implement the SEIR-V model. This can be found in Table S1 of the supplemental materials of https://doi.org/10.1039/D1EW00747E. Extract this data from the table.`\n",
    "\n",
    "For this scenario, we provide data annotations for both indicated datasets via data card. In the case of Table S1, (WISCONSIN) extracted a table from the supplemental materials which we generate data annotations for below. As mentioned above, these data cards include general annotations about the dataset, statistics about the dataset, and column-level DKG groundings.\n",
    "\n",
    "Below, we start with the NYC wastewater monitoring table:"
   ]
  },
  {
   "cell_type": "code",
   "execution_count": 23,
   "id": "d2758116",
   "metadata": {},
   "outputs": [
    {
     "data": {
      "text/html": [
       "<div>\n",
       "<style scoped>\n",
       "    .dataframe tbody tr th:only-of-type {\n",
       "        vertical-align: middle;\n",
       "    }\n",
       "\n",
       "    .dataframe tbody tr th {\n",
       "        vertical-align: top;\n",
       "    }\n",
       "\n",
       "    .dataframe thead th {\n",
       "        text-align: right;\n",
       "    }\n",
       "</style>\n",
       "<table border=\"1\" class=\"dataframe\">\n",
       "  <thead>\n",
       "    <tr style=\"text-align: right;\">\n",
       "      <th></th>\n",
       "      <th>Sample Date</th>\n",
       "      <th>Test date</th>\n",
       "      <th>WRRF Name</th>\n",
       "      <th>WRRF Abbreviation</th>\n",
       "      <th>Concentration SARS-CoV-2 gene target (N1 Copies/L)</th>\n",
       "      <th>Per capita SARS-CoV-2 load (N1 copies per day per population)</th>\n",
       "      <th>Annotation</th>\n",
       "      <th>Population Served, estimated</th>\n",
       "    </tr>\n",
       "  </thead>\n",
       "  <tbody>\n",
       "    <tr>\n",
       "      <th>0</th>\n",
       "      <td>08/31/2020</td>\n",
       "      <td>09/01/2020</td>\n",
       "      <td>26th Ward</td>\n",
       "      <td>26W</td>\n",
       "      <td>389.0</td>\n",
       "      <td>263535.64</td>\n",
       "      <td>Concentration below Method Limit of Quantifica...</td>\n",
       "      <td>290608</td>\n",
       "    </tr>\n",
       "    <tr>\n",
       "      <th>1</th>\n",
       "      <td>08/31/2020</td>\n",
       "      <td>09/01/2020</td>\n",
       "      <td>Bowery Bay</td>\n",
       "      <td>BB</td>\n",
       "      <td>1204.0</td>\n",
       "      <td>443632.86</td>\n",
       "      <td>NaN</td>\n",
       "      <td>924695</td>\n",
       "    </tr>\n",
       "    <tr>\n",
       "      <th>2</th>\n",
       "      <td>08/31/2020</td>\n",
       "      <td>09/01/2020</td>\n",
       "      <td>Coney Island</td>\n",
       "      <td>CI</td>\n",
       "      <td>304.0</td>\n",
       "      <td>168551.56</td>\n",
       "      <td>Concentration below Method Limit of Quantifica...</td>\n",
       "      <td>682342</td>\n",
       "    </tr>\n",
       "    <tr>\n",
       "      <th>3</th>\n",
       "      <td>08/31/2020</td>\n",
       "      <td>09/01/2020</td>\n",
       "      <td>Hunts Point</td>\n",
       "      <td>HP</td>\n",
       "      <td>940.0</td>\n",
       "      <td>574446.57</td>\n",
       "      <td>NaN</td>\n",
       "      <td>755948</td>\n",
       "    </tr>\n",
       "    <tr>\n",
       "      <th>4</th>\n",
       "      <td>08/31/2020</td>\n",
       "      <td>09/01/2020</td>\n",
       "      <td>Jamaica Bay</td>\n",
       "      <td>JA</td>\n",
       "      <td>632.0</td>\n",
       "      <td>233077.74</td>\n",
       "      <td>NaN</td>\n",
       "      <td>748737</td>\n",
       "    </tr>\n",
       "    <tr>\n",
       "      <th>...</th>\n",
       "      <td>...</td>\n",
       "      <td>...</td>\n",
       "      <td>...</td>\n",
       "      <td>...</td>\n",
       "      <td>...</td>\n",
       "      <td>...</td>\n",
       "      <td>...</td>\n",
       "      <td>...</td>\n",
       "    </tr>\n",
       "    <tr>\n",
       "      <th>3271</th>\n",
       "      <td>04/11/2023</td>\n",
       "      <td>04/12/2023</td>\n",
       "      <td>Port Richmond</td>\n",
       "      <td>PR</td>\n",
       "      <td>4616.0</td>\n",
       "      <td>1850000.00</td>\n",
       "      <td>NaN</td>\n",
       "      <td>226167</td>\n",
       "    </tr>\n",
       "    <tr>\n",
       "      <th>3272</th>\n",
       "      <td>04/11/2023</td>\n",
       "      <td>04/12/2023</td>\n",
       "      <td>Red Hook</td>\n",
       "      <td>RH</td>\n",
       "      <td>4726.0</td>\n",
       "      <td>2080000.00</td>\n",
       "      <td>NaN</td>\n",
       "      <td>224029</td>\n",
       "    </tr>\n",
       "    <tr>\n",
       "      <th>3273</th>\n",
       "      <td>04/11/2023</td>\n",
       "      <td>04/12/2023</td>\n",
       "      <td>Rockaway</td>\n",
       "      <td>RK</td>\n",
       "      <td>1697.0</td>\n",
       "      <td>906000.00</td>\n",
       "      <td>NaN</td>\n",
       "      <td>120539</td>\n",
       "    </tr>\n",
       "    <tr>\n",
       "      <th>3274</th>\n",
       "      <td>04/11/2023</td>\n",
       "      <td>04/12/2023</td>\n",
       "      <td>Tallman Island</td>\n",
       "      <td>TI</td>\n",
       "      <td>3340.0</td>\n",
       "      <td>1210000.00</td>\n",
       "      <td>NaN</td>\n",
       "      <td>449907</td>\n",
       "    </tr>\n",
       "    <tr>\n",
       "      <th>3275</th>\n",
       "      <td>04/11/2023</td>\n",
       "      <td>04/12/2023</td>\n",
       "      <td>Wards Island</td>\n",
       "      <td>WI</td>\n",
       "      <td>605.0</td>\n",
       "      <td>343000.00</td>\n",
       "      <td>NaN</td>\n",
       "      <td>1201485</td>\n",
       "    </tr>\n",
       "  </tbody>\n",
       "</table>\n",
       "<p>3276 rows × 8 columns</p>\n",
       "</div>"
      ],
      "text/plain": [
       "     Sample Date   Test date       WRRF Name WRRF Abbreviation  \\\n",
       "0     08/31/2020  09/01/2020       26th Ward               26W   \n",
       "1     08/31/2020  09/01/2020      Bowery Bay                BB   \n",
       "2     08/31/2020  09/01/2020    Coney Island                CI   \n",
       "3     08/31/2020  09/01/2020     Hunts Point                HP   \n",
       "4     08/31/2020  09/01/2020     Jamaica Bay                JA   \n",
       "...          ...         ...             ...               ...   \n",
       "3271  04/11/2023  04/12/2023   Port Richmond                PR   \n",
       "3272  04/11/2023  04/12/2023        Red Hook                RH   \n",
       "3273  04/11/2023  04/12/2023        Rockaway                RK   \n",
       "3274  04/11/2023  04/12/2023  Tallman Island                TI   \n",
       "3275  04/11/2023  04/12/2023    Wards Island                WI   \n",
       "\n",
       "      Concentration SARS-CoV-2 gene target (N1 Copies/L)   \\\n",
       "0                                                 389.0     \n",
       "1                                                1204.0     \n",
       "2                                                 304.0     \n",
       "3                                                 940.0     \n",
       "4                                                 632.0     \n",
       "...                                                 ...     \n",
       "3271                                             4616.0     \n",
       "3272                                             4726.0     \n",
       "3273                                             1697.0     \n",
       "3274                                             3340.0     \n",
       "3275                                              605.0     \n",
       "\n",
       "      Per capita SARS-CoV-2 load (N1 copies per day per population)  \\\n",
       "0                                             263535.64               \n",
       "1                                             443632.86               \n",
       "2                                             168551.56               \n",
       "3                                             574446.57               \n",
       "4                                             233077.74               \n",
       "...                                                 ...               \n",
       "3271                                         1850000.00               \n",
       "3272                                         2080000.00               \n",
       "3273                                          906000.00               \n",
       "3274                                         1210000.00               \n",
       "3275                                          343000.00               \n",
       "\n",
       "                                             Annotation  \\\n",
       "0     Concentration below Method Limit of Quantifica...   \n",
       "1                                                   NaN   \n",
       "2     Concentration below Method Limit of Quantifica...   \n",
       "3                                                   NaN   \n",
       "4                                                   NaN   \n",
       "...                                                 ...   \n",
       "3271                                                NaN   \n",
       "3272                                                NaN   \n",
       "3273                                                NaN   \n",
       "3274                                                NaN   \n",
       "3275                                                NaN   \n",
       "\n",
       "      Population Served, estimated   \n",
       "0                            290608  \n",
       "1                            924695  \n",
       "2                            682342  \n",
       "3                            755948  \n",
       "4                            748737  \n",
       "...                             ...  \n",
       "3271                         226167  \n",
       "3272                         224029  \n",
       "3273                         120539  \n",
       "3274                         449907  \n",
       "3275                        1201485  \n",
       "\n",
       "[3276 rows x 8 columns]"
      ]
     },
     "execution_count": 23,
     "metadata": {},
     "output_type": "execute_result"
    }
   ],
   "source": [
    "csv_name = \"scenario-3.4a-nyc-wastewater.csv\"\n",
    "pd.read_csv(csv_name)"
   ]
  },
  {
   "cell_type": "markdown",
   "id": "6292f1af",
   "metadata": {},
   "source": [
    "... and take a peek at the documentation, taken from the dataset description webpage hosted by the NYC wastewater data portal:"
   ]
  },
  {
   "cell_type": "code",
   "execution_count": 28,
   "id": "fa061a0b",
   "metadata": {},
   "outputs": [
    {
     "name": "stdout",
     "output_type": "stream",
     "text": [
      "Skip to Main Content\n",
      "\n",
      "NYC Open Data logo\n",
      "\n",
      "SARS-CoV-2 concentrations measured in NYC Wastewater\n",
      "\n",
      "Health\n",
      "\n",
      "View Data\n",
      "\n",
      "\n",
      "\n",
      "Visualize\n",
      "\n",
      "ExportAPI\n",
      "\n",
      "\n",
      "\n",
      "Results of sampling to determine the SARS-CoV-2 N gene levels in NYC DEP Wastewater Resource Recovery Facility (WRRF) influent, disaggregated by the WRRF where the sample was collected, date sample was collected, and date sample was tested.\n",
      "\n",
      "...\n"
     ]
    }
   ],
   "source": [
    "doc_name = \"scenario-3.4a-nyc-wastewater-documentation.txt\"\n",
    "\n",
    "with open(doc_name, 'r') as f:\n",
    "    for line in f.readlines()[:10]:\n",
    "        print(line)\n",
    "    print('...') # ellipsis to indicate there's more"
   ]
  },
  {
   "cell_type": "markdown",
   "id": "81c8ea2d",
   "metadata": {},
   "source": [
    "With these two inputs, we retrieve the following data card:"
   ]
  },
  {
   "cell_type": "code",
   "execution_count": 36,
   "id": "213ca8d8",
   "metadata": {},
   "outputs": [
    {
     "data": {
      "text/markdown": [
       "# Data Card Output"
      ],
      "text/plain": [
       "<IPython.core.display.Markdown object>"
      ]
     },
     "metadata": {},
     "output_type": "display_data"
    },
    {
     "data": {
      "text/markdown": [
       "**Description**: Results of sampling to determine the SARS-CoV-2 N gene levels in NYC DEP Wastewater Resource Recovery Facility (WRRF) influent, disaggregated by the WRRF where the sample was collected, date sample was collected, and date sample was tested."
      ],
      "text/plain": [
       "<IPython.core.display.Markdown object>"
      ]
     },
     "metadata": {},
     "output_type": "display_data"
    },
    {
     "data": {
      "text/markdown": [
       "**Author name**: Department of Environmental Protection (DEP)"
      ],
      "text/plain": [
       "<IPython.core.display.Markdown object>"
      ]
     },
     "metadata": {},
     "output_type": "display_data"
    },
    {
     "data": {
      "text/markdown": [
       "**Date**: May 1, 2023"
      ],
      "text/plain": [
       "<IPython.core.display.Markdown object>"
      ]
     },
     "metadata": {},
     "output_type": "display_data"
    },
    {
     "data": {
      "text/markdown": [
       "**Dataset type**: tabular"
      ],
      "text/plain": [
       "<IPython.core.display.Markdown object>"
      ]
     },
     "metadata": {},
     "output_type": "display_data"
    },
    {
     "data": {
      "text/markdown": [
       "# Data Profiling Output"
      ],
      "text/plain": [
       "<IPython.core.display.Markdown object>"
      ]
     },
     "metadata": {},
     "output_type": "display_data"
    },
    {
     "data": {
      "text/html": [
       "<style type=\"text/css\">\n",
       "#T_18f64 th {\n",
       "  text-align: left;\n",
       "}\n",
       "#T_18f64_row0_col0, #T_18f64_row0_col1, #T_18f64_row0_col2, #T_18f64_row0_col3, #T_18f64_row0_col4, #T_18f64_row0_col5, #T_18f64_row0_col6, #T_18f64_row0_col7, #T_18f64_row1_col0, #T_18f64_row1_col1, #T_18f64_row1_col2, #T_18f64_row1_col3, #T_18f64_row1_col4, #T_18f64_row1_col5, #T_18f64_row1_col6, #T_18f64_row1_col7, #T_18f64_row2_col0, #T_18f64_row2_col1, #T_18f64_row2_col2, #T_18f64_row2_col3, #T_18f64_row2_col4, #T_18f64_row2_col5, #T_18f64_row2_col6, #T_18f64_row2_col7, #T_18f64_row3_col0, #T_18f64_row3_col1, #T_18f64_row3_col2, #T_18f64_row3_col3, #T_18f64_row3_col4, #T_18f64_row3_col5, #T_18f64_row3_col6, #T_18f64_row3_col7, #T_18f64_row4_col0, #T_18f64_row4_col1, #T_18f64_row4_col2, #T_18f64_row4_col3, #T_18f64_row4_col4, #T_18f64_row4_col5, #T_18f64_row4_col6, #T_18f64_row4_col7 {\n",
       "  text-align: left;\n",
       "}\n",
       "</style>\n",
       "<table id=\"T_18f64\" style=\"font-size: 14px\">\n",
       "  <thead>\n",
       "    <tr>\n",
       "      <th class=\"blank level0\" >&nbsp;</th>\n",
       "      <th id=\"T_18f64_level0_col0\" class=\"col_heading level0 col0\" >Sample Date</th>\n",
       "      <th id=\"T_18f64_level0_col1\" class=\"col_heading level0 col1\" >Test date</th>\n",
       "      <th id=\"T_18f64_level0_col2\" class=\"col_heading level0 col2\" >WRRF Name</th>\n",
       "      <th id=\"T_18f64_level0_col3\" class=\"col_heading level0 col3\" >WRRF Abbreviation</th>\n",
       "      <th id=\"T_18f64_level0_col4\" class=\"col_heading level0 col4\" >Concentration SARS-CoV-2 gene target (N1 Copies/L) </th>\n",
       "      <th id=\"T_18f64_level0_col5\" class=\"col_heading level0 col5\" >Per capita SARS-CoV-2 load (N1 copies per day per population)</th>\n",
       "      <th id=\"T_18f64_level0_col6\" class=\"col_heading level0 col6\" >Annotation</th>\n",
       "      <th id=\"T_18f64_level0_col7\" class=\"col_heading level0 col7\" >Population Served, estimated </th>\n",
       "    </tr>\n",
       "  </thead>\n",
       "  <tbody>\n",
       "    <tr>\n",
       "      <th id=\"T_18f64_level0_row0\" class=\"row_heading level0 row0\" >concept</th>\n",
       "      <td id=\"T_18f64_row0_col0\" class=\"data row0 col0\" >Date of sample collection</td>\n",
       "      <td id=\"T_18f64_row0_col1\" class=\"data row0 col1\" >Date of sample analysis</td>\n",
       "      <td id=\"T_18f64_row0_col2\" class=\"data row0 col2\" >Wastewater Resource Recovery Facility name</td>\n",
       "      <td id=\"T_18f64_row0_col3\" class=\"data row0 col3\" >Abbreviation of Wastewater Resource Recovery Facility name</td>\n",
       "      <td id=\"T_18f64_row0_col4\" class=\"data row0 col4\" >Concentration of SARS-CoV-2 gene target</td>\n",
       "      <td id=\"T_18f64_row0_col5\" class=\"data row0 col5\" >Normalized SARS-CoV-2 load</td>\n",
       "      <td id=\"T_18f64_row0_col6\" class=\"data row0 col6\" >Notes on sampling and testing</td>\n",
       "      <td id=\"T_18f64_row0_col7\" class=\"data row0 col7\" >Estimated population served</td>\n",
       "    </tr>\n",
       "    <tr>\n",
       "      <th id=\"T_18f64_level0_row1\" class=\"row_heading level0 row1\" >unit</th>\n",
       "      <td id=\"T_18f64_row1_col0\" class=\"data row1 col0\" >Date</td>\n",
       "      <td id=\"T_18f64_row1_col1\" class=\"data row1 col1\" >Date</td>\n",
       "      <td id=\"T_18f64_row1_col2\" class=\"data row1 col2\" >Text</td>\n",
       "      <td id=\"T_18f64_row1_col3\" class=\"data row1 col3\" >Text</td>\n",
       "      <td id=\"T_18f64_row1_col4\" class=\"data row1 col4\" >Copies/L</td>\n",
       "      <td id=\"T_18f64_row1_col5\" class=\"data row1 col5\" >Copies per day per population</td>\n",
       "      <td id=\"T_18f64_row1_col6\" class=\"data row1 col6\" >Text</td>\n",
       "      <td id=\"T_18f64_row1_col7\" class=\"data row1 col7\" >People</td>\n",
       "    </tr>\n",
       "    <tr>\n",
       "      <th id=\"T_18f64_level0_row2\" class=\"row_heading level0 row2\" >description</th>\n",
       "      <td id=\"T_18f64_row2_col0\" class=\"data row2 col0\" >Date sample was collected; The “sample” is a 24 hour composite of influent wastewater. The “sample\n",
       "date” is the date of start of collection.</td>\n",
       "      <td id=\"T_18f64_row2_col1\" class=\"data row2 col1\" >Date sample was analyzed;  This date is the date the analysis started (this is a three-days analysis\n",
       "protocol).</td>\n",
       "      <td id=\"T_18f64_row2_col2\" class=\"data row2 col2\" >Wastewater Resource Recovery Facility (waste water treatment plant) where sample was taken. Samples\n",
       "are taken from WRRF influent.</td>\n",
       "      <td id=\"T_18f64_row2_col3\" class=\"data row2 col3\" >WRRF Abbreviation; Two letter abbreviation for WRRF name.</td>\n",
       "      <td id=\"T_18f64_row2_col4\" class=\"data row2 col4\" >Concentration of the N1 target of SARS-CoV2 genetic material measured in wastewater influent.</td>\n",
       "      <td id=\"T_18f64_row2_col5\" class=\"data row2 col5\" >Normalized  SARS-CoV-2 N gene concentration (taking into account average daily flow and total\n",
       "population).</td>\n",
       "      <td id=\"T_18f64_row2_col6\" class=\"data row2 col6\" >Notes on sampling and testing.</td>\n",
       "      <td id=\"T_18f64_row2_col7\" class=\"data row2 col7\" >Population of sewershed; Estimated from 2020 New York Department of City Planning population\n",
       "estimate model.</td>\n",
       "    </tr>\n",
       "    <tr>\n",
       "      <th id=\"T_18f64_level0_row3\" class=\"row_heading level0 row3\" >dkg_groundings</th>\n",
       "      <td id=\"T_18f64_row3_col0\" class=\"data row3 col0\" ><b>id</b>: dc:date<br><b>name</b>: Date<br><b>class</b>: property<br>...</td>\n",
       "      <td id=\"T_18f64_row3_col1\" class=\"data row3 col1\" ><b>id</b>: oboinowl:date<br><b>name</b>: date<br><b>class</b>: property<br>...</td>\n",
       "      <td id=\"T_18f64_row3_col2\" class=\"data row3 col2\" ><b>id</b>: rdfs:Resource<br><b>name</b>: Resource<br><b>class</b>: class<br>...</td>\n",
       "      <td id=\"T_18f64_row3_col3\" class=\"data row3 col3\" ><b>id</b>: geogeo:000000010<br><b>name</b>: US State Two Letter Abbreviation<br><b>class</b>: property<br>...</td>\n",
       "      <td id=\"T_18f64_row3_col4\" class=\"data row3 col4\" ><b>id</b>: ro:0002463<br><b>name</b>: target participant in<br><b>class</b>: property<br>...</td>\n",
       "      <td id=\"T_18f64_row3_col5\" class=\"data row3 col5\" ><b>id</b>: cemo:per_capita_mobility<br><b>name</b>: per capita mobility<br><b>class</b>: class<br>...</td>\n",
       "      <td id=\"T_18f64_row3_col6\" class=\"data row3 col6\" ><b>id</b>: iao:0000634<br><b>name</b>: notes section<br><b>class</b>: class<br>...</td>\n",
       "      <td id=\"T_18f64_row3_col7\" class=\"data row3 col7\" ><b>id</b>: idomal:0001255<br><b>name</b>: human population<br><b>class</b>: class<br>...</td>\n",
       "    </tr>\n",
       "    <tr>\n",
       "      <th id=\"T_18f64_level0_row4\" class=\"row_heading level0 row4\" >column_stats</th>\n",
       "      <td id=\"T_18f64_row4_col0\" class=\"data row4 col0\" ><b>type: date</b><br><br><br><br>num_null_entries: 0<br>num_unique_entries: 234<br>most_common_entries: <br> 2020-08-31T00:00:00 (14 times)<br> 2022-06-05T00:00:00 (14 times)<br> ...</td>\n",
       "      <td id=\"T_18f64_row4_col1\" class=\"data row4 col1\" ><b>type: date</b><br><br><br><br>num_null_entries: 15<br>num_unique_entries: 237<br>most_common_entries: <br> 2020-09-30T00:00:00 (18 times)<br> 2021-08-02T00:00:00 (17 times)<br> ...</td>\n",
       "      <td id=\"T_18f64_row4_col2\" class=\"data row4 col2\" ><b>type: categorical</b><br><br>num_null_entries: 0<br>num_unique_entries: 14<br>most_common_entries: <br> 26th Ward (234 times)<br> Bowery Bay (234 times)<br> ...</td>\n",
       "      <td id=\"T_18f64_row4_col3\" class=\"data row4 col3\" ><b>type: categorical</b><br><br>num_null_entries: 0<br>num_unique_entries: 14<br>most_common_entries: <br> 26W (234 times)<br> BB (234 times)<br> ...</td>\n",
       "      <td id=\"T_18f64_row4_col4\" class=\"data row4 col4\" ><b>type: numeric</b><br><br>mean: 11412.836<br>std: 14586.518<br><br>num_null_entries: 120<br>min: 30.0<br>max: 194978.0<br>quantile_25: 2964.75<br>quantile_50: 7374.0<br>quantile_75: 15472.25</td>\n",
       "      <td id=\"T_18f64_row4_col5\" class=\"data row4 col5\" ><b>type: numeric</b><br><br>mean: 5545685.215<br>std: 6915624.234<br><br>num_null_entries: 119<br>min: 0.0<br>max: 107298936.35<br>quantile_25: 1500000.0<br>quantile_50: 3731524.81<br>quantile_75: 7540000.0</td>\n",
       "      <td id=\"T_18f64_row4_col6\" class=\"data row4 col6\" ><b>type: categorical</b><br><br>num_null_entries: 2658<br>num_unique_entries: 42<br>most_common_entries: <br> This sample was analyzed in duplicate. The higher of the 2 results is reported (202 times)<br> Concentration below Method Limit of Quantification (above Method Limit of Detection) (117 times)<br> ...</td>\n",
       "      <td id=\"T_18f64_row4_col7\" class=\"data row4 col7\" ><b>type: numeric</b><br><br>mean: 614621.357<br>std: 345445.583<br><br>num_null_entries: 0<br>min: 120539.0<br>max: 1201485.0<br>quantile_25: 258731.0<br>quantile_50: 670469.0<br>quantile_75: 906442.0</td>\n",
       "    </tr>\n",
       "  </tbody>\n",
       "</table>\n"
      ],
      "text/plain": [
       "<IPython.core.display.HTML object>"
      ]
     },
     "metadata": {},
     "output_type": "display_data"
    }
   ],
   "source": [
    "csv_name = \"scenario-3.4a-nyc-wastewater.csv\"\n",
    "doc_name = \"scenario-3.4a-nyc-wastewater-documentation.txt\"\n",
    "fetch_data_card(csv_name, doc_name)"
   ]
  },
  {
   "cell_type": "markdown",
   "id": "0e142f83",
   "metadata": {},
   "source": [
    "Last, but not least, we inspect Table S1 from the paper's supplemental materials:"
   ]
  },
  {
   "cell_type": "code",
   "execution_count": 30,
   "id": "fdb7a1e9",
   "metadata": {},
   "outputs": [
    {
     "data": {
      "text/html": [
       "<div>\n",
       "<style scoped>\n",
       "    .dataframe tbody tr th:only-of-type {\n",
       "        vertical-align: middle;\n",
       "    }\n",
       "\n",
       "    .dataframe tbody tr th {\n",
       "        vertical-align: top;\n",
       "    }\n",
       "\n",
       "    .dataframe thead th {\n",
       "        text-align: right;\n",
       "    }\n",
       "</style>\n",
       "<table border=\"1\" class=\"dataframe\">\n",
       "  <thead>\n",
       "    <tr style=\"text-align: right;\">\n",
       "      <th></th>\n",
       "      <th>Wastewater Resource Recovery Facility (WRRF)</th>\n",
       "      <th>Borough(s)</th>\n",
       "      <th>Population Served*</th>\n",
       "      <th>Daily Flow Range (Average)† in MGD</th>\n",
       "    </tr>\n",
       "  </thead>\n",
       "  <tbody>\n",
       "    <tr>\n",
       "      <th>0</th>\n",
       "      <td>Hunts Point</td>\n",
       "      <td>Bronx</td>\n",
       "      <td>755,948</td>\n",
       "      <td>115 - 215 (136)</td>\n",
       "    </tr>\n",
       "    <tr>\n",
       "      <th>1</th>\n",
       "      <td>Wards Island</td>\n",
       "      <td>Bronx and Manhattan</td>\n",
       "      <td>1,201,485</td>\n",
       "      <td>143 - 273 (180)</td>\n",
       "    </tr>\n",
       "    <tr>\n",
       "      <th>2</th>\n",
       "      <td>North River</td>\n",
       "      <td>Manhattan</td>\n",
       "      <td>658,596</td>\n",
       "      <td>81 - 143 (94)</td>\n",
       "    </tr>\n",
       "    <tr>\n",
       "      <th>3</th>\n",
       "      <td>Newtown Creek</td>\n",
       "      <td>Manhattan, Brooklyn, \\nand Queens</td>\n",
       "      <td>1,156,473</td>\n",
       "      <td>158 - 296 (188)</td>\n",
       "    </tr>\n",
       "    <tr>\n",
       "      <th>4</th>\n",
       "      <td>Red Hook</td>\n",
       "      <td>Brooklyn</td>\n",
       "      <td>224,029</td>\n",
       "      <td>21 - 46 (26)</td>\n",
       "    </tr>\n",
       "    <tr>\n",
       "      <th>5</th>\n",
       "      <td>Owls Head</td>\n",
       "      <td>Brooklyn</td>\n",
       "      <td>906,442</td>\n",
       "      <td>81 - 159 (95)</td>\n",
       "    </tr>\n",
       "    <tr>\n",
       "      <th>6</th>\n",
       "      <td>Coney Island</td>\n",
       "      <td>Brooklyn</td>\n",
       "      <td>682,342</td>\n",
       "      <td>70 - 102 (82)</td>\n",
       "    </tr>\n",
       "    <tr>\n",
       "      <th>7</th>\n",
       "      <td>26th Ward</td>\n",
       "      <td>Brooklyn</td>\n",
       "      <td>290,608</td>\n",
       "      <td>44 - 89  (55)</td>\n",
       "    </tr>\n",
       "    <tr>\n",
       "      <th>8</th>\n",
       "      <td>Rockaway</td>\n",
       "      <td>Queens</td>\n",
       "      <td>120,539</td>\n",
       "      <td>18 - 25 (20)</td>\n",
       "    </tr>\n",
       "    <tr>\n",
       "      <th>9</th>\n",
       "      <td>Jamaica Bay</td>\n",
       "      <td>Queens</td>\n",
       "      <td>748,737</td>\n",
       "      <td>74 - 103 (81)</td>\n",
       "    </tr>\n",
       "    <tr>\n",
       "      <th>10</th>\n",
       "      <td>Tallman Island</td>\n",
       "      <td>Queens</td>\n",
       "      <td>449,907</td>\n",
       "      <td>48 - 90 (59)</td>\n",
       "    </tr>\n",
       "    <tr>\n",
       "      <th>11</th>\n",
       "      <td>Bowery Bay</td>\n",
       "      <td>Queens</td>\n",
       "      <td>924,695</td>\n",
       "      <td>82 - 179 (100)</td>\n",
       "    </tr>\n",
       "    <tr>\n",
       "      <th>12</th>\n",
       "      <td>Port Richmond</td>\n",
       "      <td>Staten Island</td>\n",
       "      <td>226,167</td>\n",
       "      <td>23 - 55 (29)</td>\n",
       "    </tr>\n",
       "    <tr>\n",
       "      <th>13</th>\n",
       "      <td>Oakwood Beach</td>\n",
       "      <td>Staten Island</td>\n",
       "      <td>258,731</td>\n",
       "      <td>24 - 41 (28)</td>\n",
       "    </tr>\n",
       "  </tbody>\n",
       "</table>\n",
       "</div>"
      ],
      "text/plain": [
       "   Wastewater Resource Recovery Facility (WRRF)  \\\n",
       "0                                   Hunts Point   \n",
       "1                                  Wards Island   \n",
       "2                                   North River   \n",
       "3                                 Newtown Creek   \n",
       "4                                      Red Hook   \n",
       "5                                     Owls Head   \n",
       "6                                  Coney Island   \n",
       "7                                     26th Ward   \n",
       "8                                      Rockaway   \n",
       "9                                   Jamaica Bay   \n",
       "10                               Tallman Island   \n",
       "11                                   Bowery Bay   \n",
       "12                                Port Richmond   \n",
       "13                                Oakwood Beach   \n",
       "\n",
       "                           Borough(s) Population Served*  \\\n",
       "0                               Bronx            755,948   \n",
       "1                 Bronx and Manhattan          1,201,485   \n",
       "2                           Manhattan            658,596   \n",
       "3   Manhattan, Brooklyn, \\nand Queens          1,156,473   \n",
       "4                            Brooklyn            224,029   \n",
       "5                            Brooklyn            906,442   \n",
       "6                            Brooklyn            682,342   \n",
       "7                            Brooklyn            290,608   \n",
       "8                              Queens            120,539   \n",
       "9                              Queens            748,737   \n",
       "10                             Queens            449,907   \n",
       "11                             Queens            924,695   \n",
       "12                      Staten Island            226,167   \n",
       "13                      Staten Island            258,731   \n",
       "\n",
       "   Daily Flow Range (Average)† in MGD  \n",
       "0                     115 - 215 (136)  \n",
       "1                     143 - 273 (180)  \n",
       "2                       81 - 143 (94)  \n",
       "3                     158 - 296 (188)  \n",
       "4                        21 - 46 (26)  \n",
       "5                       81 - 159 (95)  \n",
       "6                       70 - 102 (82)  \n",
       "7                       44 - 89  (55)  \n",
       "8                        18 - 25 (20)  \n",
       "9                       74 - 103 (81)  \n",
       "10                       48 - 90 (59)  \n",
       "11                     82 - 179 (100)  \n",
       "12                       23 - 55 (29)  \n",
       "13                       24 - 41 (28)  "
      ]
     },
     "execution_count": 30,
     "metadata": {},
     "output_type": "execute_result"
    }
   ],
   "source": [
    "csv_name = \"scenario-3.4a-supplement.csv\"\n",
    "pd.read_csv(csv_name)"
   ]
  },
  {
   "cell_type": "markdown",
   "id": "ce150301",
   "metadata": {},
   "source": [
    "...and peek at the paper contents, which are used as this dataset's documentation:"
   ]
  },
  {
   "cell_type": "code",
   "execution_count": 33,
   "id": "952824f7",
   "metadata": {},
   "outputs": [
    {
     "name": "stdout",
     "output_type": "stream",
     "text": [
      "Monitoring SARS-CoV-2 in wastewater during New York City's second wave of COVID-19: sewershed-level trends and relationships to publicly available clinical testing data†\tCheck for updates\n",
      "\n",
      "Catherine Hoar, ORCID logo a   Francoise Chauvin,b   Alexander Clare,b   Hope McGibbon,b   Esmeraldo Castro,b   Samantha Patinella,b   Dimitrios Katehis,b   John J. Dennehy, ORCID logo cd   Monica Trujillo,e   Davida S. Smyth‡f  and  Andrea I. Silverman ORCID logo *a  \n",
      "\n",
      " Author affiliations\n",
      "\n",
      "Abstract\n",
      "\n",
      "New York City's wastewater monitoring program tracked trends in sewershed-level SARS-CoV-2 loads starting in the fall of 2020, just before the start of the city's second wave of the COVID-19 outbreak. During a five-month study period, from November 8, 2020 to April 11, 2021, viral loads in influent wastewater from each of New York City's 14 wastewater treatment plants were measured and compared to new laboratory-confirmed COVID-19 cases for the populations in each corresponding sewershed, estimated from publicly available clinical testing data. We found significant positive correlations between viral loads in wastewater and new COVID-19 cases. The strength of the correlations varied depending on the sewershed, with Spearman's rank correlation coefficients ranging between 0.38 and 0.81 (mean = 0.55). Based on a linear regression analysis of a combined data set for New York City, we found that a 1 log10 change in the SARS-CoV-2 viral load in wastewater corresponded to a 0.6 log10 change in the number of new laboratory-confirmed COVID-19 cases per day in a sewershed. An estimated minimum detectable case rate between 2–8 cases per day/100 000 people was associated with the method limit of detection in wastewater. This work offers a preliminary assessment of the relationship between wastewater monitoring data and clinical testing data in New York City. While routine monitoring and method optimization continue, information on the development of New York City's wastewater monitoring program may provide insights for similar wastewater-based epidemiology efforts in the future.\n",
      "\n",
      "...\n"
     ]
    }
   ],
   "source": [
    "doc_name = \"scenario-3.4a-supplement-documentation.txt\"\n",
    "\n",
    "with open(doc_name, 'r') as f:\n",
    "    for line in f.readlines()[:5]:\n",
    "        print(line)\n",
    "    print('...') # ellipsis to indicate there's more"
   ]
  },
  {
   "cell_type": "markdown",
   "id": "8587ac4e",
   "metadata": {},
   "source": [
    "Finally, we present data annotations on the supplemental table via data card:"
   ]
  },
  {
   "cell_type": "code",
   "execution_count": 34,
   "id": "2aebab26",
   "metadata": {},
   "outputs": [
    {
     "data": {
      "text/markdown": [
       "# Data Card Output"
      ],
      "text/plain": [
       "<IPython.core.display.Markdown object>"
      ]
     },
     "metadata": {},
     "output_type": "display_data"
    },
    {
     "data": {
      "text/markdown": [
       "**Description**: Monitoring SARS-CoV-2 in wastewater during New York City's second wave of COVID-19: sewershed-level trends and relationships to publicly available clinical testing data† Check for updates"
      ],
      "text/plain": [
       "<IPython.core.display.Markdown object>"
      ]
     },
     "metadata": {},
     "output_type": "display_data"
    },
    {
     "data": {
      "text/markdown": [
       "**Author name**: Catherine Hoar, Francoise Chauvin, Alexander Clare, Hope McGibbon, Esmeraldo Castro, Samantha Patinella, Dimitrios Katehis, John J. Dennehy, Monica Trujillo, Davida S. Smyth, Andrea I. Silverman"
      ],
      "text/plain": [
       "<IPython.core.display.Markdown object>"
      ]
     },
     "metadata": {},
     "output_type": "display_data"
    },
    {
     "data": {
      "text/markdown": [
       "**Provenance**: New York City's wastewater monitoring program tracked trends in sewershed-level SARS-CoV-2 loads starting in the fall of 2020, just before the start of the city's second wave of the COVID-19 outbreak."
      ],
      "text/plain": [
       "<IPython.core.display.Markdown object>"
      ]
     },
     "metadata": {},
     "output_type": "display_data"
    },
    {
     "data": {
      "text/markdown": [
       "**Dataset type**: tabular"
      ],
      "text/plain": [
       "<IPython.core.display.Markdown object>"
      ]
     },
     "metadata": {},
     "output_type": "display_data"
    },
    {
     "data": {
      "text/markdown": [
       "# Data Profiling Output"
      ],
      "text/plain": [
       "<IPython.core.display.Markdown object>"
      ]
     },
     "metadata": {},
     "output_type": "display_data"
    },
    {
     "data": {
      "text/html": [
       "<style type=\"text/css\">\n",
       "#T_6c26f th {\n",
       "  text-align: left;\n",
       "}\n",
       "#T_6c26f_row0_col0, #T_6c26f_row0_col1, #T_6c26f_row0_col2, #T_6c26f_row0_col3, #T_6c26f_row1_col0, #T_6c26f_row1_col1, #T_6c26f_row1_col2, #T_6c26f_row1_col3, #T_6c26f_row2_col0, #T_6c26f_row2_col1, #T_6c26f_row2_col2, #T_6c26f_row2_col3, #T_6c26f_row3_col0, #T_6c26f_row3_col1, #T_6c26f_row3_col2, #T_6c26f_row3_col3, #T_6c26f_row4_col0, #T_6c26f_row4_col1, #T_6c26f_row4_col2, #T_6c26f_row4_col3 {\n",
       "  text-align: left;\n",
       "}\n",
       "</style>\n",
       "<table id=\"T_6c26f\" style=\"font-size: 14px\">\n",
       "  <thead>\n",
       "    <tr>\n",
       "      <th class=\"blank level0\" >&nbsp;</th>\n",
       "      <th id=\"T_6c26f_level0_col0\" class=\"col_heading level0 col0\" >Wastewater Resource Recovery Facility (WRRF)</th>\n",
       "      <th id=\"T_6c26f_level0_col1\" class=\"col_heading level0 col1\" >Borough(s)</th>\n",
       "      <th id=\"T_6c26f_level0_col2\" class=\"col_heading level0 col2\" >Population Served*</th>\n",
       "      <th id=\"T_6c26f_level0_col3\" class=\"col_heading level0 col3\" >Daily Flow Range (Average)† in MGD</th>\n",
       "    </tr>\n",
       "  </thead>\n",
       "  <tbody>\n",
       "    <tr>\n",
       "      <th id=\"T_6c26f_level0_row0\" class=\"row_heading level0 row0\" >concept</th>\n",
       "      <td id=\"T_6c26f_row0_col0\" class=\"data row0 col0\" >Wastewater treatment plant</td>\n",
       "      <td id=\"T_6c26f_row0_col1\" class=\"data row0 col1\" >Geographic location</td>\n",
       "      <td id=\"T_6c26f_row0_col2\" class=\"data row0 col2\" >Number of people</td>\n",
       "      <td id=\"T_6c26f_row0_col3\" class=\"data row0 col3\" >Wastewater flow</td>\n",
       "    </tr>\n",
       "    <tr>\n",
       "      <th id=\"T_6c26f_level0_row1\" class=\"row_heading level0 row1\" >unit</th>\n",
       "      <td id=\"T_6c26f_row1_col0\" class=\"data row1 col0\" >N/A</td>\n",
       "      <td id=\"T_6c26f_row1_col1\" class=\"data row1 col1\" >N/A</td>\n",
       "      <td id=\"T_6c26f_row1_col2\" class=\"data row1 col2\" >People</td>\n",
       "      <td id=\"T_6c26f_row1_col3\" class=\"data row1 col3\" >Million gallons per day (MGD)</td>\n",
       "    </tr>\n",
       "    <tr>\n",
       "      <th id=\"T_6c26f_level0_row2\" class=\"row_heading level0 row2\" >description</th>\n",
       "      <td id=\"T_6c26f_row2_col0\" class=\"data row2 col0\" >The name of the wastewater treatment plant in New York City</td>\n",
       "      <td id=\"T_6c26f_row2_col1\" class=\"data row2 col1\" >The borough(s) in New York City that the wastewater treatment plant serves</td>\n",
       "      <td id=\"T_6c26f_row2_col2\" class=\"data row2 col2\" >The estimated number of people whose wastewater is treated by the plant</td>\n",
       "      <td id=\"T_6c26f_row2_col3\" class=\"data row2 col3\" >The average daily flow of wastewater treated by the plant, given as a range in million gallons per\n",
       "day</td>\n",
       "    </tr>\n",
       "    <tr>\n",
       "      <th id=\"T_6c26f_level0_row3\" class=\"row_heading level0 row3\" >dkg_groundings</th>\n",
       "      <td id=\"T_6c26f_row3_col0\" class=\"data row3 col0\" ><b>id</b>: apollosv:00000618<br><b>name</b>: wastewater surveillance data set<br><b>class</b>: class<br>...</td>\n",
       "      <td id=\"T_6c26f_row3_col1\" class=\"data row3 col1\" ><b>id</b>: geonames:3333125<br><b>name</b>: City and Borough of Birmingham<br><b>class</b>: individual<br>...</td>\n",
       "      <td id=\"T_6c26f_row3_col2\" class=\"data row3 col2\" ><b>id</b>: askemo:0000001<br><b>name</b>: population<br><b>class</b>: class<br>...</td>\n",
       "      <td id=\"T_6c26f_row3_col3\" class=\"data row3 col3\" ><b>id</b>: cemo:average_daily_number_of_new_infections_generated_per_case_rt<br><b>name</b>: average daily number of new infections generated per case (rt)<br><b>class</b>: class<br>...</td>\n",
       "    </tr>\n",
       "    <tr>\n",
       "      <th id=\"T_6c26f_level0_row4\" class=\"row_heading level0 row4\" >column_stats</th>\n",
       "      <td id=\"T_6c26f_row4_col0\" class=\"data row4 col0\" ><b>type: categorical</b><br><br><br><br>num_null_entries: 0<br>num_unique_entries: 14<br>most_common_entries: <br> Hunts Point (1 times)<br> Wards Island (1 times)<br> ...</td>\n",
       "      <td id=\"T_6c26f_row4_col1\" class=\"data row4 col1\" ><b>type: categorical</b><br><br><br><br>num_null_entries: 0<br>num_unique_entries: 7<br>most_common_entries: <br> Brooklyn (4 times)<br> Queens (4 times)<br> ...</td>\n",
       "      <td id=\"T_6c26f_row4_col2\" class=\"data row4 col2\" ><b>type: numeric</b><br><br>mean: 614621.357<br>std: 358431.105<br><br>num_null_entries: 0<br>min: 120539.0<br>max: 1201485.0<br>quantile_25: 266700.25<br>quantile_50: 670469.0<br>quantile_75: 868818.5</td>\n",
       "      <td id=\"T_6c26f_row4_col3\" class=\"data row4 col3\" ><b>type: categorical</b><br><br><br><br>num_null_entries: 0<br>num_unique_entries: 14<br>most_common_entries: <br> 115 - 215 (136) (1 times)<br> 143 - 273 (180) (1 times)<br> ...</td>\n",
       "    </tr>\n",
       "  </tbody>\n",
       "</table>\n"
      ],
      "text/plain": [
       "<IPython.core.display.HTML object>"
      ]
     },
     "metadata": {},
     "output_type": "display_data"
    }
   ],
   "source": [
    "csv_name = \"scenario-3.4a-supplement.csv\"\n",
    "doc_name = \"scenario-3.4a-supplement-documentation.txt\"\n",
    "fetch_data_card(csv_name, doc_name)"
   ]
  },
  {
   "cell_type": "code",
   "execution_count": 37,
   "id": "c2950af8",
   "metadata": {},
   "outputs": [
    {
     "data": {
      "text/markdown": [
       "# Data Card Output"
      ],
      "text/plain": [
       "<IPython.core.display.Markdown object>"
      ]
     },
     "metadata": {},
     "output_type": "display_data"
    },
    {
     "data": {
      "text/markdown": [
       "**Description**: Results of sampling to determine the SARS-CoV-2 N gene levels in NYC DEP Wastewater Resource Recovery Facility (WRRF) influent, disaggregated by the WRRF where the sample was collected, date sample was collected, and date sample was tested."
      ],
      "text/plain": [
       "<IPython.core.display.Markdown object>"
      ]
     },
     "metadata": {},
     "output_type": "display_data"
    },
    {
     "data": {
      "text/markdown": [
       "**Author name**: Department of Environmental Protection (DEP)"
      ],
      "text/plain": [
       "<IPython.core.display.Markdown object>"
      ]
     },
     "metadata": {},
     "output_type": "display_data"
    },
    {
     "data": {
      "text/markdown": [
       "**Date**: May 1, 2023"
      ],
      "text/plain": [
       "<IPython.core.display.Markdown object>"
      ]
     },
     "metadata": {},
     "output_type": "display_data"
    },
    {
     "data": {
      "text/markdown": [
       "**Dataset type**: tabular"
      ],
      "text/plain": [
       "<IPython.core.display.Markdown object>"
      ]
     },
     "metadata": {},
     "output_type": "display_data"
    },
    {
     "data": {
      "text/markdown": [
       "# Data Profiling Output"
      ],
      "text/plain": [
       "<IPython.core.display.Markdown object>"
      ]
     },
     "metadata": {},
     "output_type": "display_data"
    },
    {
     "data": {
      "text/html": [
       "<style type=\"text/css\">\n",
       "#T_29fd2 th {\n",
       "  text-align: left;\n",
       "}\n",
       "#T_29fd2_row0_col0, #T_29fd2_row0_col1, #T_29fd2_row0_col2, #T_29fd2_row0_col3, #T_29fd2_row0_col4, #T_29fd2_row0_col5, #T_29fd2_row0_col6, #T_29fd2_row0_col7, #T_29fd2_row1_col0, #T_29fd2_row1_col1, #T_29fd2_row1_col2, #T_29fd2_row1_col3, #T_29fd2_row1_col4, #T_29fd2_row1_col5, #T_29fd2_row1_col6, #T_29fd2_row1_col7, #T_29fd2_row2_col0, #T_29fd2_row2_col1, #T_29fd2_row2_col2, #T_29fd2_row2_col3, #T_29fd2_row2_col4, #T_29fd2_row2_col5, #T_29fd2_row2_col6, #T_29fd2_row2_col7, #T_29fd2_row3_col0, #T_29fd2_row3_col1, #T_29fd2_row3_col2, #T_29fd2_row3_col3, #T_29fd2_row3_col4, #T_29fd2_row3_col5, #T_29fd2_row3_col6, #T_29fd2_row3_col7, #T_29fd2_row4_col0, #T_29fd2_row4_col1, #T_29fd2_row4_col2, #T_29fd2_row4_col3, #T_29fd2_row4_col4, #T_29fd2_row4_col5, #T_29fd2_row4_col6, #T_29fd2_row4_col7 {\n",
       "  text-align: left;\n",
       "}\n",
       "</style>\n",
       "<table id=\"T_29fd2\" style=\"font-size: 14px\">\n",
       "  <thead>\n",
       "    <tr>\n",
       "      <th class=\"blank level0\" >&nbsp;</th>\n",
       "      <th id=\"T_29fd2_level0_col0\" class=\"col_heading level0 col0\" >Sample Date</th>\n",
       "      <th id=\"T_29fd2_level0_col1\" class=\"col_heading level0 col1\" >Test date</th>\n",
       "      <th id=\"T_29fd2_level0_col2\" class=\"col_heading level0 col2\" >WRRF Name</th>\n",
       "      <th id=\"T_29fd2_level0_col3\" class=\"col_heading level0 col3\" >WRRF Abbreviation</th>\n",
       "      <th id=\"T_29fd2_level0_col4\" class=\"col_heading level0 col4\" >Concentration SARS-CoV-2 gene target (N1 Copies/L) </th>\n",
       "      <th id=\"T_29fd2_level0_col5\" class=\"col_heading level0 col5\" >Per capita SARS-CoV-2 load (N1 copies per day per population)</th>\n",
       "      <th id=\"T_29fd2_level0_col6\" class=\"col_heading level0 col6\" >Annotation</th>\n",
       "      <th id=\"T_29fd2_level0_col7\" class=\"col_heading level0 col7\" >Population Served, estimated </th>\n",
       "    </tr>\n",
       "  </thead>\n",
       "  <tbody>\n",
       "    <tr>\n",
       "      <th id=\"T_29fd2_level0_row0\" class=\"row_heading level0 row0\" >concept</th>\n",
       "      <td id=\"T_29fd2_row0_col0\" class=\"data row0 col0\" >Date of sample collection</td>\n",
       "      <td id=\"T_29fd2_row0_col1\" class=\"data row0 col1\" >Date of sample analysis</td>\n",
       "      <td id=\"T_29fd2_row0_col2\" class=\"data row0 col2\" >Wastewater Resource Recovery Facility name</td>\n",
       "      <td id=\"T_29fd2_row0_col3\" class=\"data row0 col3\" >Abbreviation of Wastewater Resource Recovery Facility name</td>\n",
       "      <td id=\"T_29fd2_row0_col4\" class=\"data row0 col4\" >Concentration of SARS-CoV-2 gene target</td>\n",
       "      <td id=\"T_29fd2_row0_col5\" class=\"data row0 col5\" >Normalized SARS-CoV-2 gene concentration</td>\n",
       "      <td id=\"T_29fd2_row0_col6\" class=\"data row0 col6\" >Notes on sampling and testing</td>\n",
       "      <td id=\"T_29fd2_row0_col7\" class=\"data row0 col7\" >Estimated population served</td>\n",
       "    </tr>\n",
       "    <tr>\n",
       "      <th id=\"T_29fd2_level0_row1\" class=\"row_heading level0 row1\" >unit</th>\n",
       "      <td id=\"T_29fd2_row1_col0\" class=\"data row1 col0\" >Date</td>\n",
       "      <td id=\"T_29fd2_row1_col1\" class=\"data row1 col1\" >Date</td>\n",
       "      <td id=\"T_29fd2_row1_col2\" class=\"data row1 col2\" >Text</td>\n",
       "      <td id=\"T_29fd2_row1_col3\" class=\"data row1 col3\" >Text</td>\n",
       "      <td id=\"T_29fd2_row1_col4\" class=\"data row1 col4\" >Copies/L</td>\n",
       "      <td id=\"T_29fd2_row1_col5\" class=\"data row1 col5\" >Copies per day per population</td>\n",
       "      <td id=\"T_29fd2_row1_col6\" class=\"data row1 col6\" >Text</td>\n",
       "      <td id=\"T_29fd2_row1_col7\" class=\"data row1 col7\" >People</td>\n",
       "    </tr>\n",
       "    <tr>\n",
       "      <th id=\"T_29fd2_level0_row2\" class=\"row_heading level0 row2\" >description</th>\n",
       "      <td id=\"T_29fd2_row2_col0\" class=\"data row2 col0\" >Date sample was collected; The “sample” is a 24 hour composite of influent wastewater. The “sample\n",
       "date” is the date of start of collection.</td>\n",
       "      <td id=\"T_29fd2_row2_col1\" class=\"data row2 col1\" >Date sample was analyzed;  This date is the date the analysis started (this is a three-days analysis\n",
       "protocol).</td>\n",
       "      <td id=\"T_29fd2_row2_col2\" class=\"data row2 col2\" >Wastewater Resource Recovery Facility (waste water treatment plant) where sample was taken. Samples\n",
       "are taken from WRRF influent.</td>\n",
       "      <td id=\"T_29fd2_row2_col3\" class=\"data row2 col3\" >WRRF Abbreviation; Two letter abbreviation for WRRF name.</td>\n",
       "      <td id=\"T_29fd2_row2_col4\" class=\"data row2 col4\" >Concentration of the N1 target of SARS-CoV2 genetic material measured in wastewater influent.</td>\n",
       "      <td id=\"T_29fd2_row2_col5\" class=\"data row2 col5\" >Normalized  SARS-CoV-2 N gene concentration (taking into account average daily flow and total\n",
       "population).</td>\n",
       "      <td id=\"T_29fd2_row2_col6\" class=\"data row2 col6\" >Notes on sampling and testing.</td>\n",
       "      <td id=\"T_29fd2_row2_col7\" class=\"data row2 col7\" >Population of sewershed; Estimated from 2020 New York Department of City Planning population\n",
       "estimate model.</td>\n",
       "    </tr>\n",
       "    <tr>\n",
       "      <th id=\"T_29fd2_level0_row3\" class=\"row_heading level0 row3\" >dkg_groundings</th>\n",
       "      <td id=\"T_29fd2_row3_col0\" class=\"data row3 col0\" ><b>id</b>: dc:date<br><b>name</b>: Date<br><b>class</b>: property<br>...</td>\n",
       "      <td id=\"T_29fd2_row3_col1\" class=\"data row3 col1\" ><b>id</b>: oboinowl:date<br><b>name</b>: date<br><b>class</b>: property<br>...</td>\n",
       "      <td id=\"T_29fd2_row3_col2\" class=\"data row3 col2\" ><b>id</b>: rdfs:Resource<br><b>name</b>: Resource<br><b>class</b>: class<br>...</td>\n",
       "      <td id=\"T_29fd2_row3_col3\" class=\"data row3 col3\" ><b>id</b>: geogeo:000000010<br><b>name</b>: US State Two Letter Abbreviation<br><b>class</b>: property<br>...</td>\n",
       "      <td id=\"T_29fd2_row3_col4\" class=\"data row3 col4\" ><b>id</b>: ro:0002463<br><b>name</b>: target participant in<br><b>class</b>: property<br>...</td>\n",
       "      <td id=\"T_29fd2_row3_col5\" class=\"data row3 col5\" ><b>id</b>: cemo:per_capita_mobility<br><b>name</b>: per capita mobility<br><b>class</b>: class<br>...</td>\n",
       "      <td id=\"T_29fd2_row3_col6\" class=\"data row3 col6\" ><b>id</b>: iao:0000634<br><b>name</b>: notes section<br><b>class</b>: class<br>...</td>\n",
       "      <td id=\"T_29fd2_row3_col7\" class=\"data row3 col7\" ><b>id</b>: idomal:0001255<br><b>name</b>: human population<br><b>class</b>: class<br>...</td>\n",
       "    </tr>\n",
       "    <tr>\n",
       "      <th id=\"T_29fd2_level0_row4\" class=\"row_heading level0 row4\" >column_stats</th>\n",
       "      <td id=\"T_29fd2_row4_col0\" class=\"data row4 col0\" ><b>type: date</b><br><br>earliest: 2020-08-31T00:00:00<br>latest: 2023-04-11T00:00:00<br><br>num_null_entries: 0<br>num_unique_entries: 234<br>most_common_entries: <br> 2020-08-31T00:00:00 (14 times)<br> 2022-06-05T00:00:00 (14 times)<br> ...</td>\n",
       "      <td id=\"T_29fd2_row4_col1\" class=\"data row4 col1\" ><b>type: date</b><br><br>earliest: 2020-09-01T00:00:00<br>latest: 2023-04-12T00:00:00<br><br>num_null_entries: 15<br>num_unique_entries: 237<br>most_common_entries: <br> 2020-09-30T00:00:00 (18 times)<br> 2021-08-02T00:00:00 (17 times)<br> ...</td>\n",
       "      <td id=\"T_29fd2_row4_col2\" class=\"data row4 col2\" ><b>type: categorical</b><br><br>num_null_entries: 0<br>num_unique_entries: 14<br>most_common_entries: <br> 26th Ward (234 times)<br> Bowery Bay (234 times)<br> ...</td>\n",
       "      <td id=\"T_29fd2_row4_col3\" class=\"data row4 col3\" ><b>type: categorical</b><br><br>num_null_entries: 0<br>num_unique_entries: 14<br>most_common_entries: <br> 26W (234 times)<br> BB (234 times)<br> ...</td>\n",
       "      <td id=\"T_29fd2_row4_col4\" class=\"data row4 col4\" ><b>type: numeric</b><br><br>mean: 11412.836<br>std: 14586.518<br><br>num_null_entries: 120<br>min: 30.0<br>max: 194978.0<br>25%: 2964.75<br>50%: 7374.0<br>75%: 15472.25</td>\n",
       "      <td id=\"T_29fd2_row4_col5\" class=\"data row4 col5\" ><b>type: numeric</b><br><br>mean: 5545685.215<br>std: 6915624.234<br><br>num_null_entries: 119<br>min: 0.0<br>max: 107298936.35<br>25%: 1500000.0<br>50%: 3731524.81<br>75%: 7540000.0</td>\n",
       "      <td id=\"T_29fd2_row4_col6\" class=\"data row4 col6\" ><b>type: categorical</b><br><br>num_null_entries: 2658<br>num_unique_entries: 42<br>most_common_entries: <br> This sample was analyzed in duplicate. The higher of the 2 results is reported (202 times)<br> Concentration below Method Limit of Quantification (above Method Limit of Detection) (117 times)<br> ...</td>\n",
       "      <td id=\"T_29fd2_row4_col7\" class=\"data row4 col7\" ><b>type: numeric</b><br><br>mean: 614621.357<br>std: 345445.583<br><br>num_null_entries: 0<br>min: 120539.0<br>max: 1201485.0<br>25%: 258731.0<br>50%: 670469.0<br>75%: 906442.0</td>\n",
       "    </tr>\n",
       "  </tbody>\n",
       "</table>\n"
      ],
      "text/plain": [
       "<IPython.core.display.HTML object>"
      ]
     },
     "metadata": {},
     "output_type": "display_data"
    }
   ],
   "source": [
    "csv_name = \"scenario-3.4a-nyc-wastewater.csv\"\n",
    "doc_name = \"scenario-3.4a-nyc-wastewater-documentation.txt\"\n",
    "fetch_data_card(csv_name, doc_name)"
   ]
  }
 ],
 "metadata": {
  "kernelspec": {
   "display_name": "Python 3.11.4 64-bit",
   "language": "python",
   "name": "python3"
  },
  "language_info": {
   "codemirror_mode": {
    "name": "ipython",
    "version": 3
   },
   "file_extension": ".py",
   "mimetype": "text/x-python",
   "name": "python",
   "nbconvert_exporter": "python",
   "pygments_lexer": "ipython3",
   "version": "3.11.4"
  },
  "vscode": {
   "interpreter": {
    "hash": "b0fa6594d8f4cbf19f97940f81e996739fb7646882a419484c72d19e05852a7e"
   }
  }
 },
 "nbformat": 4,
 "nbformat_minor": 5
}
