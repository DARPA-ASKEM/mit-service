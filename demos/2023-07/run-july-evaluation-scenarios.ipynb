{
 "cells": [
  {
   "cell_type": "markdown",
   "id": "7f6a1aaa",
   "metadata": {
    "pycharm": {
     "name": "#%% md\n"
    }
   },
   "source": [
    "# MIT (TA1): Data cards for Scenarios 3.1a and 3.4a"
   ]
  },
  {
   "cell_type": "markdown",
   "id": "8f6cdd8b",
   "metadata": {
    "pycharm": {
     "name": "#%% md\n"
    }
   },
   "source": [
    "## 0. Preprocessing"
   ]
  },
  {
   "cell_type": "code",
<<<<<<< Updated upstream
   "execution_count": 7,
=======
   "execution_count": 218,
>>>>>>> Stashed changes
   "id": "d07d53d5",
   "metadata": {
    "pycharm": {
     "name": "#%%\n"
    }
   },
   "outputs": [],
   "source": [
    "import io, json, pandas as pd, requests\n",
    "from gpt_key import *\n",
    "API_ROOT = \"http://localhost:8000/\"\n",
    "\n",
    "# display imports\n",
    "from IPython.display import display, HTML, Markdown\n",
    "from IPython.core.interactiveshell import InteractiveShell\n",
    "InteractiveShell.ast_node_interactivity = \"all\""
   ]
  },
  {
   "cell_type": "markdown",
   "id": "d382c8c7",
   "metadata": {
    "pycharm": {
     "name": "#%% md\n"
    }
   },
   "source": [
    "## Scenario 3-1a. MA Wastewater Flow Rate and Viral Load\n",
    "\n",
    "`Extract the appropriate data columns (cRNA2 and F2, which represent the viral load in wastewater and the flow rate, respectively) from the paper’s supplemental materials.`\n",
    "\n",
    "Relevant data columns for flow rate and viral load can be found in two `.csv` files in the supplemental materials; we provide data annotations via data card for each of them here, which includes general annotations about the dataset, statistics about the dataset, and column-level DKG groundings.\n",
    "\n",
    "[http://100.26.10.46/#/Data-and-model-cards/get_data_card_cards_get_data_card_post](http://100.26.10.46/#/Data-and-model-cards/get_data_card_cards_get_data_card_post)\n",
    "\n",
    "Below, we start with the flow rate table:"
   ]
  },
  {
   "cell_type": "code",
<<<<<<< Updated upstream
   "execution_count": 8,
   "id": "0ab278fe",
   "metadata": {
    "pycharm": {
     "name": "#%%\n"
    }
   },
=======
   "execution_count": 2,
   "id": "3bf693a8",
   "metadata": {},
>>>>>>> Stashed changes
   "outputs": [
    {
     "data": {
      "text/html": [
       "<div>\n",
       "<style scoped>\n",
       "    .dataframe tbody tr th:only-of-type {\n",
       "        vertical-align: middle;\n",
       "    }\n",
       "\n",
       "    .dataframe tbody tr th {\n",
       "        vertical-align: top;\n",
       "    }\n",
       "\n",
       "    .dataframe thead th {\n",
       "        text-align: right;\n",
       "    }\n",
       "</style>\n",
       "<table border=\"1\" class=\"dataframe\">\n",
       "  <thead>\n",
       "    <tr style=\"text-align: right;\">\n",
       "      <th></th>\n",
       "      <th>Sample Date</th>\n",
       "      <th>North System Flows to DITP, MGD</th>\n",
       "      <th>South System Flows to DITP, MGD</th>\n",
       "      <th>Total flows to DITP (MGD: Million gallon per day)</th>\n",
       "    </tr>\n",
       "  </thead>\n",
       "  <tbody>\n",
       "    <tr>\n",
       "      <th>0</th>\n",
       "      <td>10/2/20</td>\n",
       "      <td>134.0</td>\n",
       "      <td>64.2</td>\n",
       "      <td>198.2</td>\n",
       "    </tr>\n",
       "    <tr>\n",
       "      <th>1</th>\n",
       "      <td>10/3/20</td>\n",
       "      <td>130.5</td>\n",
       "      <td>61.7</td>\n",
       "      <td>192.2</td>\n",
       "    </tr>\n",
       "    <tr>\n",
       "      <th>2</th>\n",
       "      <td>10/4/20</td>\n",
       "      <td>126.4</td>\n",
       "      <td>59.2</td>\n",
       "      <td>185.6</td>\n",
       "    </tr>\n",
       "    <tr>\n",
       "      <th>3</th>\n",
       "      <td>10/5/20</td>\n",
       "      <td>127.4</td>\n",
       "      <td>60.0</td>\n",
       "      <td>187.5</td>\n",
       "    </tr>\n",
       "    <tr>\n",
       "      <th>4</th>\n",
       "      <td>10/6/20</td>\n",
       "      <td>130.1</td>\n",
       "      <td>60.7</td>\n",
       "      <td>190.9</td>\n",
       "    </tr>\n",
       "    <tr>\n",
       "      <th>...</th>\n",
       "      <td>...</td>\n",
       "      <td>...</td>\n",
       "      <td>...</td>\n",
       "      <td>...</td>\n",
       "    </tr>\n",
       "    <tr>\n",
       "      <th>111</th>\n",
       "      <td>1/21/21</td>\n",
       "      <td>200.3</td>\n",
       "      <td>129.2</td>\n",
       "      <td>329.5</td>\n",
       "    </tr>\n",
       "    <tr>\n",
       "      <th>112</th>\n",
       "      <td>1/22/21</td>\n",
       "      <td>193.9</td>\n",
       "      <td>124.3</td>\n",
       "      <td>318.2</td>\n",
       "    </tr>\n",
       "    <tr>\n",
       "      <th>113</th>\n",
       "      <td>1/23/21</td>\n",
       "      <td>186.9</td>\n",
       "      <td>119.9</td>\n",
       "      <td>306.8</td>\n",
       "    </tr>\n",
       "    <tr>\n",
       "      <th>114</th>\n",
       "      <td>1/24/21</td>\n",
       "      <td>185.1</td>\n",
       "      <td>115.0</td>\n",
       "      <td>300.1</td>\n",
       "    </tr>\n",
       "    <tr>\n",
       "      <th>115</th>\n",
       "      <td>1/25/21</td>\n",
       "      <td>180.4</td>\n",
       "      <td>113.6</td>\n",
       "      <td>294.0</td>\n",
       "    </tr>\n",
       "  </tbody>\n",
       "</table>\n",
       "<p>116 rows × 4 columns</p>\n",
       "</div>"
      ],
      "text/plain": [
<<<<<<< Updated upstream
       "{'DESCRIPTION': 'The dataset contains wastewater data collected from the Deer Island wastewater treatment plant in Massachusetts from October 02, 2020 to January 25, 2021.',\n",
       " 'AUTHOR_NAME': 'UNKNOWN',\n",
       " 'AUTHOR_EMAIL': 'UNKNOWN',\n",
       " 'DATE': 'UNKNOWN',\n",
       " 'PROVENANCE': 'The data was collected from the Deer Island wastewater treatment plant in Massachusetts.',\n",
       " 'SENSITIVITY': 'UNKNOWN',\n",
       " 'LICENSE': 'UNKNOWN',\n",
       " 'DATASET_TYPE': 'tabular',\n",
       " 'SCHEMA': ['Sample Date',\n",
       "  'North System Flows to DITP, MGD',\n",
       "  'South System Flows to DITP, MGD',\n",
       "  'Total flows to DITP (MGD: Million gallon per day)'],\n",
       " 'DATA_PROFILING_RESULT': {'Sample Date': {'col_name': 'Sample Date',\n",
       "   'concept': 'Date of Sample Collection',\n",
       "   'unit': 'Date',\n",
       "   'description': 'The date when the wastewater sample was collected from the Deer Island wastewater treatment plant in Massachusetts.',\n",
       "   'dkg_groundings': [['oboinowl:date', 'date', 'property'],\n",
       "    ['dc:date', 'Date', 'property'],\n",
       "    ['opmi:0000529', 'condition end date', 'class'],\n",
       "    ['opmi:0000510', 'procedure end date', 'class']],\n",
       "   'column_stats': {'type': 'date',\n",
       "    'most_common_entries': {'2020-10-02T00:00:00': 1,\n",
       "     '2020-12-14T00:00:00': 1,\n",
       "     '2020-12-26T00:00:00': 1,\n",
       "     '2020-12-25T00:00:00': 1,\n",
       "     '2020-12-24T00:00:00': 1,\n",
       "     '2020-12-23T00:00:00': 1,\n",
       "     '2020-12-22T00:00:00': 1,\n",
       "     '2020-12-21T00:00:00': 1,\n",
       "     '2020-12-20T00:00:00': 1,\n",
       "     '2020-12-19T00:00:00': 1},\n",
       "    'num_unique_entries': 116,\n",
       "    'earliest': '2020-10-02T00:00:00',\n",
       "    'latest': '2021-01-25T00:00:00',\n",
       "    'num_null_entries': 0}},\n",
       "  'North System Flows to DITP, MGD': {'col_name': 'North System Flows to DITP, MGD',\n",
       "   'concept': 'North System Flow Rate',\n",
       "   'unit': 'Million Gallons per Day (MGD)',\n",
       "   'description': 'The daily flow rate of the northern influent stream to the Deer Island wastewater treatment plant in Massachusetts.',\n",
       "   'dkg_groundings': [['geonames:2990129', 'North', 'individual'],\n",
       "    ['geonames:2223603', 'North', 'individual'],\n",
       "    ['geonames:7533617', 'North', 'individual'],\n",
       "    ['ncit:C94866', 'Blood Flow Rate', 'class']],\n",
       "   'column_stats': {'mean': 210.63706896551724,\n",
       "    'std': 84.60938022842787,\n",
       "    'min': 120.7,\n",
       "    '25%': 157.0,\n",
       "    '50%': 191.85,\n",
       "    '75%': 231.5,\n",
       "    'max': 617.0,\n",
       "    'type': 'numeric',\n",
       "    'num_null_entries': 0}},\n",
       "  'South System Flows to DITP, MGD': {'col_name': 'South System Flows to DITP, MGD',\n",
       "   'concept': 'South System Flow Rate',\n",
       "   'unit': 'Million Gallons per Day (MGD)',\n",
       "   'description': 'The daily flow rate of the southern influent stream to the Deer Island wastewater treatment plant in Massachusetts.',\n",
       "   'dkg_groundings': [['ncit:C94866', 'Blood Flow Rate', 'class'],\n",
       "    ['probonto:k0000603', 'rate', 'class'],\n",
       "    ['ncit:C83071', 'Exposure Flow Rate', 'class'],\n",
       "    ['ncit:C164776', 'Defined Substance Administration Flow Rate', 'class']],\n",
       "   'column_stats': {'mean': 115.93879310344828,\n",
       "    'std': 47.982255364197734,\n",
       "    'min': 57.0,\n",
       "    '25%': 81.375,\n",
       "    '50%': 111.25,\n",
       "    '75%': 138.625,\n",
       "    'max': 314.0,\n",
       "    'type': 'numeric',\n",
       "    'num_null_entries': 0}},\n",
       "  'Total flows to DITP (MGD: Million gallon per day)': {'col_name': 'Total flows to DITP (MGD: Million gallon per day)',\n",
       "   'concept': 'Total System Flow Rate',\n",
       "   'unit': 'Million Gallons per Day (MGD)',\n",
       "   'description': 'The total daily flow rate (sum of northern and southern influents) to the Deer Island wastewater treatment plant in Massachusetts.',\n",
       "   'dkg_groundings': [['oae:0001658', 'protein total increased AE', 'class'],\n",
       "    ['oae:0001659', 'protein total decreased AE', 'class'],\n",
       "    ['ncit:C94866', 'Blood Flow Rate', 'class'],\n",
       "    ['hp:0004432', 'Agammaglobulinemia', 'class']],\n",
       "   'column_stats': {'mean': 326.5758620689655,\n",
       "    'std': 124.7372205674896,\n",
       "    'min': 177.7,\n",
       "    '25%': 241.5,\n",
       "    '50%': 306.75,\n",
       "    '75%': 369.475,\n",
       "    'max': 931.0,\n",
       "    'type': 'numeric',\n",
       "    'num_null_entries': 0}}},\n",
       " 'EXAMPLES': {'Sample Date': '12/9/20',\n",
       "  'North System Flows to DITP, MGD': 263.0,\n",
       "  'South System Flows to DITP, MGD': 177.5,\n",
       "  'Total flows to DITP (MGD: Million gallon per day)': 440.5}}"
=======
       "    Sample Date  North System Flows to DITP, MGD  \\\n",
       "0       10/2/20                            134.0   \n",
       "1       10/3/20                            130.5   \n",
       "2       10/4/20                            126.4   \n",
       "3       10/5/20                            127.4   \n",
       "4       10/6/20                            130.1   \n",
       "..          ...                              ...   \n",
       "111     1/21/21                            200.3   \n",
       "112     1/22/21                            193.9   \n",
       "113     1/23/21                            186.9   \n",
       "114     1/24/21                            185.1   \n",
       "115     1/25/21                            180.4   \n",
       "\n",
       "     South System Flows to DITP, MGD  \\\n",
       "0                               64.2   \n",
       "1                               61.7   \n",
       "2                               59.2   \n",
       "3                               60.0   \n",
       "4                               60.7   \n",
       "..                               ...   \n",
       "111                            129.2   \n",
       "112                            124.3   \n",
       "113                            119.9   \n",
       "114                            115.0   \n",
       "115                            113.6   \n",
       "\n",
       "     Total flows to DITP (MGD: Million gallon per day)  \n",
       "0                                                198.2  \n",
       "1                                                192.2  \n",
       "2                                                185.6  \n",
       "3                                                187.5  \n",
       "4                                                190.9  \n",
       "..                                                 ...  \n",
       "111                                              329.5  \n",
       "112                                              318.2  \n",
       "113                                              306.8  \n",
       "114                                              300.1  \n",
       "115                                              294.0  \n",
       "\n",
       "[116 rows x 4 columns]"
>>>>>>> Stashed changes
      ]
     },
     "execution_count": 8,
     "metadata": {},
     "output_type": "execute_result"
    }
   ],
   "source": [
    "csv_name = \"scenario-3.1a-flow-rates.csv\"\n",
    "pd.read_csv(csv_name)"
   ]
  },
  {
   "cell_type": "markdown",
   "id": "01505bf5",
   "metadata": {},
   "source": [
    "Next, we provide some text from the paper to add context to the columns we're seeing in the table. In this case, we use the same documentation for both the wastewater flow rate and viral load datasets."
   ]
  },
  {
   "cell_type": "code",
   "execution_count": 185,
   "id": "c915ebc1",
   "metadata": {},
   "outputs": [
    {
     "name": "stdout",
     "output_type": "stream",
     "text": [
      "2. Materials and methods\n",
      "\n",
      "2.1. Samples and wastewater data\n",
      "\n",
      "Raw, 24-h composite wastewater samples were collected from the Deer Island wastewater treatment plant in Massachusetts from October 02, 2020 to January 25, 2021. The Massachusetts wastewater treatment plant where we obtained samples has two major influent streams, which are referred to as the “northern” and “southern” influents. The daily flow rates during the sampling period for the northern and southern influents are 4.54e5–2.3e6 m3/day, and 2.16e5–1.19e6m3/day, respectively. Together the two catchments represent approximately 2.3 million wastewater customers in Middlesex, Norfolk, and Suffolk counties, primarily in urban and suburban neighborhoods. There are 5100 miles of local sewers transporting wastewater into 227 miles of interceptor pipes to the wastewater treatment plant (www.mwra.com), and the typical turnaround time for the plant to treat wastewater is 24 h. Samples were processed as they were received. Experimental methods and data were reported in our previous work (Wu et al., 2022b; Xiao et al., 2022). Briefly, the samples were pasteurized at 60 °C for 1 h for disinfection, and then filtered with 0.2 μm hydrophilic polyethersulfone membrane (Millipore Sigma) to remove bacterial cells and debris. Then, 15-ml filtrate was concentrated to ~200 ul with Amicon Ultra Centrifugal Filter (30-kDa cutoff, Millipore Sigma), and lysed with Qiagen AVL buffer followed by RNA extraction with Qiagen RNeasy kit. SARS-CoV-2 concentrations were quantified by one-step reverse transcription-polymerase chain reaction (RT-PCR) with the Taqman Fast Virus 1-Step Master Mix (Thermofisher) and CDC N1 and N2 primers/probes. Ct values were transformed to copies per ml of wastewater using standard curves for N1 and N2 targets established with synthetic SARS-CoV-2 RNA (Twist Bioscience) as the template. To compute the total viral load in the sewershed, we first averaged the viral concentration in the northern and southern influents by the sampling date, which is then multiplied by the total influent flow rates (i.e., sum of flow rates of northern and southern influents) on the same day.\n",
      "\n",
      "...\n"
     ]
    }
   ],
   "source": [
    "doc_name = \"scenario-3.1a-data-documentation.txt\"\n",
    "\n",
    "with open(doc_name, 'r') as f:\n",
    "    for line in f.readlines()[:3]:\n",
    "        print(line)\n",
    "    print('...') # ellipsis to indicate there's more"
   ]
  },
  {
   "cell_type": "markdown",
   "id": "02a7dc0e",
   "metadata": {},
   "source": [
    "Now that we've inspected the inputs, let's fetch our data card from the Data Card API endpoint:"
   ]
  },
  {
   "cell_type": "code",
   "execution_count": 186,
   "id": "0ab278fe",
   "metadata": {
    "pycharm": {
     "name": "#%%\n"
    }
   },
   "outputs": [],
   "source": [
    "with open(csv_name, 'rb') as f_csv, open(doc_name,  'rb') as f_doc:\n",
    "    files = {'csv_file': ('filename', f_csv), 'doc_file': ('filename', f_doc)}\n",
    "    params = {\"gpt_key\": GPT_KEY}\n",
    "    response = requests.post(API_ROOT + \"cards/get_data_card/\",  params=params,  files=files)\n",
    "    json_str = response.text\n",
    "profile31a_flow = json.loads(json_str)"
   ]
  },
  {
   "cell_type": "markdown",
   "id": "f7355231",
   "metadata": {},
   "source": [
    "... and see what's inside:"
   ]
  },
  {
   "cell_type": "code",
   "execution_count": 198,
   "id": "ecbff3ec",
   "metadata": {},
   "outputs": [
    {
     "data": {
      "text/markdown": [
       "# Data Card Output"
      ],
      "text/plain": [
       "<IPython.core.display.Markdown object>"
      ]
     },
     "metadata": {},
     "output_type": "display_data"
    },
    {
     "data": {
      "text/markdown": [
       "**Description**: This dataset contains wastewater data collected from the Deer Island wastewater treatment plant in Massachusetts from October 02, 2020 to January 25, 2021."
      ],
      "text/plain": [
       "<IPython.core.display.Markdown object>"
      ]
     },
     "metadata": {},
     "output_type": "display_data"
    },
    {
     "data": {
      "text/markdown": [
       "**Provenance**: The data was collected from the Deer Island wastewater treatment plant in Massachusetts."
      ],
      "text/plain": [
       "<IPython.core.display.Markdown object>"
      ]
     },
     "metadata": {},
     "output_type": "display_data"
    },
    {
     "data": {
      "text/markdown": [
       "**Dataset type**: tabular"
      ],
      "text/plain": [
       "<IPython.core.display.Markdown object>"
      ]
     },
     "metadata": {},
     "output_type": "display_data"
    }
   ],
   "source": [
    "display(Markdown(\"# Data Card Output\"))\n",
    "for key, value in profile31a_flow.items():\n",
    "    if type(value) is str and value != 'UNKNOWN':\n",
    "        display(Markdown(\"**\" + key.capitalize().replace('_', ' ') + \"**: \" + value))"
   ]
  },
  {
   "cell_type": "code",
   "execution_count": 219,
   "id": "4c626b5f",
   "metadata": {},
   "outputs": [],
   "source": [
    "profiling_result = profile31a_flow[\"DATA_PROFILING_RESULT\"]\n",
    "for column_name, output in profiling_result.items():\n",
    "    # string formating one of the DKG groundings for display\n",
    "    selected_grounding = output['dkg_groundings'][0]\n",
    "    grounding_keys = ['id', 'name', 'class']\n",
    "    grounding_output = [f\"<b>{k}</b>: {v}\" for k, v in zip(grounding_keys, selected_grounding)]\n",
    "    profiling_result[column_name]['dkg_groundings'] = '\\\\n'.join(grounding_output) + '\\\\n...'\n",
    "\n",
    "    column_stats = output['column_stats']\n",
    "    output['column_stats'] = ''\n",
    "    # pulling up the column type first\n",
    "    if column_stats.get('type'):\n",
    "        output['column_stats'] += f\"<b>type: {column_stats['type']}</b>\\\\n\\\\n\"\n",
    "    # truncating and string formatting most common entries due to length\n",
    "    if column_stats.get('most_common_entries'):\n",
    "        output_str = ''\n",
    "        for i, entry_key in enumerate(column_stats['most_common_entries'].keys()):\n",
    "            if i > 1:\n",
    "                continue\n",
    "            entry_value = column_stats['most_common_entries'][entry_key]\n",
    "            output_str += f\"\\\\n\\\\t{entry_key} ({entry_value} times)\"\n",
    "        output_str += \"\\\\n\\\\t...\"\n",
    "        column_stats['most_common_entries'] = output_str\n",
    "    # truncate numbers to a lower floating point precision\n",
    "    for key, val in column_stats.items():\n",
    "        if type(val) is float:\n",
    "            column_stats[key] = round(val, ndigits=3)\n",
    "    # truncate column stats key set\n",
    "    smaller_key_set = ['earliest', 'latest', 'mean', 'std'] # ['most_common_entries', 'earliest', 'latest', 'mean', 'std', 'min', 'max', '50%']\n",
    "    if smaller_key_set:\n",
    "        output['column_stats'] += '\\\\n'.join(key + ': ' + str(value) for key, value in column_stats.items() if key != 'type' and key in smaller_key_set)\n",
    "        output['column_stats'] += '\\\\n\\\\n'\n",
    "        output['column_stats'] += '\\\\n'.join(key + ': ' + str(value) for key, value in column_stats.items() if key != 'type' and key not in smaller_key_set)\n",
    "    else:\n",
    "        output['column_stats'] += '\\\\n'.join(key + ': ' + str(value) for key, value in column_stats.items() if key != 'type')"
   ]
  },
  {
   "cell_type": "code",
   "execution_count": 220,
   "id": "c4fb42b5",
   "metadata": {},
   "outputs": [
    {
     "data": {
      "text/markdown": [
       "# Data Profiling Output"
      ],
      "text/plain": [
       "<IPython.core.display.Markdown object>"
      ]
     },
     "metadata": {},
     "output_type": "display_data"
    },
    {
     "data": {
      "text/html": [
       "<style type=\"text/css\">\n",
       "#T_5f392 th {\n",
       "  text-align: left;\n",
       "}\n",
       "#T_5f392_row0_col0, #T_5f392_row0_col1, #T_5f392_row0_col2, #T_5f392_row0_col3, #T_5f392_row1_col0, #T_5f392_row1_col1, #T_5f392_row1_col2, #T_5f392_row1_col3, #T_5f392_row2_col0, #T_5f392_row2_col1, #T_5f392_row2_col2, #T_5f392_row2_col3, #T_5f392_row3_col0, #T_5f392_row3_col1, #T_5f392_row3_col2, #T_5f392_row3_col3, #T_5f392_row4_col0, #T_5f392_row4_col1, #T_5f392_row4_col2, #T_5f392_row4_col3 {\n",
       "  text-align: left;\n",
       "}\n",
       "</style>\n",
       "<table id=\"T_5f392\" style=\"font-size: 14px\">\n",
       "  <thead>\n",
       "    <tr>\n",
       "      <th class=\"blank level0\" >&nbsp;</th>\n",
       "      <th id=\"T_5f392_level0_col0\" class=\"col_heading level0 col0\" >Sample Date</th>\n",
       "      <th id=\"T_5f392_level0_col1\" class=\"col_heading level0 col1\" >North System Flows to DITP, MGD</th>\n",
       "      <th id=\"T_5f392_level0_col2\" class=\"col_heading level0 col2\" >South System Flows to DITP, MGD</th>\n",
       "      <th id=\"T_5f392_level0_col3\" class=\"col_heading level0 col3\" >Total flows to DITP (MGD: Million gallon per day)</th>\n",
       "    </tr>\n",
       "  </thead>\n",
       "  <tbody>\n",
       "    <tr>\n",
       "      <th id=\"T_5f392_level0_row0\" class=\"row_heading level0 row0\" >concept</th>\n",
       "      <td id=\"T_5f392_row0_col0\" class=\"data row0 col0\" >Date of sample collection</td>\n",
       "      <td id=\"T_5f392_row0_col1\" class=\"data row0 col1\" >Flow rate of the northern influent</td>\n",
       "      <td id=\"T_5f392_row0_col2\" class=\"data row0 col2\" >Flow rate of the southern influent</td>\n",
       "      <td id=\"T_5f392_row0_col3\" class=\"data row0 col3\" >Total flow rate to the treatment plant</td>\n",
       "    </tr>\n",
       "    <tr>\n",
       "      <th id=\"T_5f392_level0_row1\" class=\"row_heading level0 row1\" >unit</th>\n",
       "      <td id=\"T_5f392_row1_col0\" class=\"data row1 col0\" >Date</td>\n",
       "      <td id=\"T_5f392_row1_col1\" class=\"data row1 col1\" >Million gallons per day (MGD)</td>\n",
       "      <td id=\"T_5f392_row1_col2\" class=\"data row1 col2\" >Million gallons per day (MGD)</td>\n",
       "      <td id=\"T_5f392_row1_col3\" class=\"data row1 col3\" >Million gallons per day (MGD)</td>\n",
       "    </tr>\n",
       "    <tr>\n",
       "      <th id=\"T_5f392_level0_row2\" class=\"row_heading level0 row2\" >description</th>\n",
       "      <td id=\"T_5f392_row2_col0\" class=\"data row2 col0\" >The date when the wastewater sample was collected from the Deer Island wastewater treatment plant in\n",
       "Massachusetts.</td>\n",
       "      <td id=\"T_5f392_row2_col1\" class=\"data row2 col1\" >The daily flow rate of the northern influent to the Deer Island wastewater treatment plant in\n",
       "Massachusetts.</td>\n",
       "      <td id=\"T_5f392_row2_col2\" class=\"data row2 col2\" >The daily flow rate of the southern influent to the Deer Island wastewater treatment plant in\n",
       "Massachusetts.</td>\n",
       "      <td id=\"T_5f392_row2_col3\" class=\"data row2 col3\" >The total daily flow rate (sum of the northern and southern influents) to the Deer Island wastewater\n",
       "treatment plant in Massachusetts.</td>\n",
       "    </tr>\n",
       "    <tr>\n",
       "      <th id=\"T_5f392_level0_row3\" class=\"row_heading level0 row3\" >dkg_groundings</th>\n",
       "      <td id=\"T_5f392_row3_col0\" class=\"data row3 col0\" ><b>id</b>: oboinowl:date<br><b>name</b>: date<br><b>class</b>: property<br>...</td>\n",
       "      <td id=\"T_5f392_row3_col1\" class=\"data row3 col1\" ><b>id</b>: geonames:2297169<br><b>name</b>: Northern<br><b>class</b>: individual<br>...</td>\n",
       "      <td id=\"T_5f392_row3_col2\" class=\"data row3 col2\" ><b>id</b>: geonames:7533609<br><b>name</b>: Southern<br><b>class</b>: individual<br>...</td>\n",
       "      <td id=\"T_5f392_row3_col3\" class=\"data row3 col3\" ><b>id</b>: oae:0001658<br><b>name</b>: protein total increased AE<br><b>class</b>: class<br>...</td>\n",
       "    </tr>\n",
       "    <tr>\n",
       "      <th id=\"T_5f392_level0_row4\" class=\"row_heading level0 row4\" >column_stats</th>\n",
       "      <td id=\"T_5f392_row4_col0\" class=\"data row4 col0\" ><b>type: date</b><br><br>earliest: 2020-10-02T00:00:00<br>latest: 2021-01-25T00:00:00<br><br>most_common_entries: <br> 2020-10-02T00:00:00 (1 times)<br> 2020-12-14T00:00:00 (1 times)<br> ...<br>num_unique_entries: 116<br>num_null_entries: 0</td>\n",
       "      <td id=\"T_5f392_row4_col1\" class=\"data row4 col1\" ><b>type: numeric</b><br><br>mean: 210.637<br>std: 84.609<br><br>min: 120.7<br>25%: 157.0<br>50%: 191.85<br>75%: 231.5<br>max: 617.0<br>num_null_entries: 0</td>\n",
       "      <td id=\"T_5f392_row4_col2\" class=\"data row4 col2\" ><b>type: numeric</b><br><br>mean: 115.939<br>std: 47.982<br><br>min: 57.0<br>25%: 81.375<br>50%: 111.25<br>75%: 138.625<br>max: 314.0<br>num_null_entries: 0</td>\n",
       "      <td id=\"T_5f392_row4_col3\" class=\"data row4 col3\" ><b>type: numeric</b><br><br>mean: 326.576<br>std: 124.737<br><br>min: 177.7<br>25%: 241.5<br>50%: 306.75<br>75%: 369.475<br>max: 931.0<br>num_null_entries: 0</td>\n",
       "    </tr>\n",
       "  </tbody>\n",
       "</table>\n"
      ],
      "text/plain": [
       "<IPython.core.display.HTML object>"
      ]
     },
     "metadata": {},
     "output_type": "display_data"
    }
   ],
   "source": [
    "display(Markdown(\"# Data Profiling Output\"))\n",
    "df = pd.read_json(io.StringIO(json.dumps(profiling_result)), orient='index')\n",
    "# deduplicate column names\n",
    "df = df.drop('col_name', axis=1)\n",
    "# print the whole description\n",
    "df['description'] = df['description'].str.wrap(100)\n",
    "# transpose table\n",
    "df = df.T\n",
    "# make sure the table is aligned to the left\n",
    "df_style = df.style.set_properties(**{'text-align': 'left'})\n",
    "# make sure the column headers are also aligned to the left\n",
    "df_style = df_style.set_table_styles([dict(selector='th', props=[('text-align', 'left')])])\n",
    "# increase the font size\n",
    "df_style = df_style.set_table_attributes('style=\"font-size: 14px\"')\n",
    "# replace delimiters for HTML parsing\n",
    "df_style = df_style.to_html().replace(\"\\\\n\",\"<br>\").replace(\"\\\\t\",\" \")\n",
    "\n",
    "display(HTML(df_style))\n"
   ]
  },
  {
   "cell_type": "markdown",
   "id": "2645b299",
   "metadata": {},
   "source": [
    "Now that we've walked through this pipeline once, we wrap it all in a nifty function to re-use as we step through the rest of the scenarios."
   ]
  },
  {
   "cell_type": "code",
   "execution_count": 221,
   "id": "85c475ba",
   "metadata": {},
   "outputs": [],
   "source": [
    "def fetch_data_card(csv_filename, documentation_filename):\n",
    "    with open(csv_name, 'rb') as f_csv, open(doc_name,  'rb') as f_doc:\n",
    "        files = {'csv_file': ('filename', f_csv), 'doc_file': ('filename', f_doc)}\n",
    "        params = {\"gpt_key\": GPT_KEY}\n",
    "        response = requests.post(API_ROOT + \"cards/get_data_card/\",  params=params,  files=files)\n",
    "        json_str = response.text\n",
    "    data_profile = json.loads(json_str)\n",
    "\n",
    "    display(Markdown(\"# Data Card Output\"))\n",
    "    for key, value in data_profile.items():\n",
    "        if type(value) is str and value != 'UNKNOWN':\n",
    "            display(Markdown(\"**\" + key.capitalize().replace('_', ' ') + \"**: \" + value))\n",
    "\n",
    "    profiling_result = data_profile[\"DATA_PROFILING_RESULT\"]\n",
    "    for column_name, output in profiling_result.items():\n",
    "        # string formating one of the DKG groundings for display\n",
    "        selected_grounding = output['dkg_groundings'][0]\n",
    "        grounding_keys = ['id', 'name', 'class']\n",
    "        grounding_output = [f\"<b>{k}</b>: {v}\" for k, v in zip(grounding_keys, selected_grounding)]\n",
    "        profiling_result[column_name]['dkg_groundings'] = '\\\\n'.join(grounding_output) + '\\\\n...'\n",
    "\n",
    "        column_stats = output['column_stats']\n",
    "        output['column_stats'] = ''\n",
    "        # pulling up the column type first\n",
    "        if column_stats.get('type'):\n",
    "            output['column_stats'] += f\"<b>type: {column_stats['type']}</b>\\\\n\\\\n\"\n",
    "        # truncating and string formatting most common entries due to length\n",
    "        if column_stats.get('most_common_entries'):\n",
    "            output_str = ''\n",
    "            for i, entry_key in enumerate(column_stats['most_common_entries'].keys()):\n",
    "                if i > 1:\n",
    "                    continue\n",
    "                entry_value = column_stats['most_common_entries'][entry_key]\n",
    "                output_str += f\"\\\\n\\\\t{entry_key} ({entry_value} times)\"\n",
    "            output_str += \"\\\\n\\\\t...\"\n",
    "            column_stats['most_common_entries'] = output_str\n",
    "        # truncate numbers to a lower floating point precision\n",
    "        for key, val in column_stats.items():\n",
    "            if type(val) is float:\n",
    "                column_stats[key] = round(val, ndigits=3)\n",
    "        # truncate column stats key set\n",
    "        smaller_key_set = ['earliest', 'latest', 'mean', 'std'] # ['most_common_entries', 'earliest', 'latest', 'mean', 'std', 'min', 'max', '50%']\n",
    "        if smaller_key_set:\n",
    "            output['column_stats'] += '\\\\n'.join(key + ': ' + str(value) for key, value in column_stats.items() if key != 'type' and key in smaller_key_set)\n",
    "            output['column_stats'] += '\\\\n\\\\n'\n",
    "            output['column_stats'] += '\\\\n'.join(key + ': ' + str(value) for key, value in column_stats.items() if key != 'type' and key not in smaller_key_set)\n",
    "        else:\n",
    "            output['column_stats'] += '\\\\n'.join(key + ': ' + str(value) for key, value in column_stats.items() if key != 'type')\n",
    "\n",
    "    display(Markdown(\"# Data Profiling Output\"))\n",
    "    df = pd.read_json(io.StringIO(json.dumps(profiling_result)), orient='index')\n",
    "    # deduplicate column names\n",
    "    df = df.drop('col_name', axis=1)\n",
    "    # print the whole description\n",
    "    df['description'] = df['description'].str.wrap(100)\n",
    "    # transpose table\n",
    "    df = df.T\n",
    "    # make sure the table is aligned to the left\n",
    "    df_style = df.style.set_properties(**{'text-align': 'left'})\n",
    "    # make sure the column headers are also aligned to the left\n",
    "    df_style = df_style.set_table_styles([dict(selector='th', props=[('text-align', 'left')])])\n",
    "    # increase the font size\n",
    "    df_style = df_style.set_table_attributes('style=\"font-size: 14px\"')\n",
    "    # replace delimiters for HTML parsing\n",
    "    df_style = df_style.to_html().replace(\"\\\\n\",\"<br>\").replace(\"\\\\t\",\" \")\n",
    "\n",
    "    display(HTML(df_style))"
   ]
  },
  {
   "cell_type": "markdown",
   "id": "90c45409",
   "metadata": {},
   "source": [
    "Next up, we pull up the viral concentration dataset:"
   ]
  },
  {
   "cell_type": "code",
   "execution_count": 222,
   "id": "a580c88b",
   "metadata": {},
   "outputs": [
    {
     "data": {
      "text/html": [
       "<div>\n",
       "<style scoped>\n",
       "    .dataframe tbody tr th:only-of-type {\n",
       "        vertical-align: middle;\n",
       "    }\n",
       "\n",
       "    .dataframe tbody tr th {\n",
       "        vertical-align: top;\n",
       "    }\n",
       "\n",
       "    .dataframe thead th {\n",
       "        text-align: right;\n",
       "    }\n",
       "</style>\n",
       "<table border=\"1\" class=\"dataframe\">\n",
       "  <thead>\n",
       "    <tr style=\"text-align: right;\">\n",
       "      <th></th>\n",
       "      <th>Date</th>\n",
       "      <th>SARS-CoV-2 levels [copies/L]</th>\n",
       "      <th>log_SARS-CoV-2</th>\n",
       "      <th>seven_day_average</th>\n",
       "      <th>seven_day_average_log</th>\n",
       "    </tr>\n",
       "  </thead>\n",
       "  <tbody>\n",
       "    <tr>\n",
       "      <th>0</th>\n",
       "      <td>10/2/20</td>\n",
       "      <td>4.791207e+04</td>\n",
       "      <td>4.680454</td>\n",
       "      <td>43998.28696</td>\n",
       "      <td>4.643446</td>\n",
       "    </tr>\n",
       "    <tr>\n",
       "      <th>1</th>\n",
       "      <td>10/3/20</td>\n",
       "      <td>NaN</td>\n",
       "      <td>NaN</td>\n",
       "      <td>43998.28696</td>\n",
       "      <td>4.643446</td>\n",
       "    </tr>\n",
       "    <tr>\n",
       "      <th>2</th>\n",
       "      <td>10/4/20</td>\n",
       "      <td>NaN</td>\n",
       "      <td>NaN</td>\n",
       "      <td>52228.97821</td>\n",
       "      <td>4.717920</td>\n",
       "    </tr>\n",
       "    <tr>\n",
       "      <th>3</th>\n",
       "      <td>10/5/20</td>\n",
       "      <td>4.742341e+04</td>\n",
       "      <td>4.676002</td>\n",
       "      <td>52228.97821</td>\n",
       "      <td>4.717920</td>\n",
       "    </tr>\n",
       "    <tr>\n",
       "      <th>4</th>\n",
       "      <td>10/6/20</td>\n",
       "      <td>NaN</td>\n",
       "      <td>NaN</td>\n",
       "      <td>55536.09344</td>\n",
       "      <td>4.744583</td>\n",
       "    </tr>\n",
       "    <tr>\n",
       "      <th>...</th>\n",
       "      <td>...</td>\n",
       "      <td>...</td>\n",
       "      <td>...</td>\n",
       "      <td>...</td>\n",
       "      <td>...</td>\n",
       "    </tr>\n",
       "    <tr>\n",
       "      <th>111</th>\n",
       "      <td>1/21/21</td>\n",
       "      <td>5.159181e+05</td>\n",
       "      <td>5.712582</td>\n",
       "      <td>924447.10450</td>\n",
       "      <td>5.965883</td>\n",
       "    </tr>\n",
       "    <tr>\n",
       "      <th>112</th>\n",
       "      <td>1/22/21</td>\n",
       "      <td>6.448364e+05</td>\n",
       "      <td>5.809450</td>\n",
       "      <td>967594.89500</td>\n",
       "      <td>5.985694</td>\n",
       "    </tr>\n",
       "    <tr>\n",
       "      <th>113</th>\n",
       "      <td>1/23/21</td>\n",
       "      <td>9.203620e+05</td>\n",
       "      <td>5.963959</td>\n",
       "      <td>884487.78690</td>\n",
       "      <td>5.946692</td>\n",
       "    </tr>\n",
       "    <tr>\n",
       "      <th>114</th>\n",
       "      <td>1/24/21</td>\n",
       "      <td>2.038592e+06</td>\n",
       "      <td>6.309331</td>\n",
       "      <td>856670.00150</td>\n",
       "      <td>5.932814</td>\n",
       "    </tr>\n",
       "    <tr>\n",
       "      <th>115</th>\n",
       "      <td>1/25/21</td>\n",
       "      <td>1.117430e+06</td>\n",
       "      <td>6.048221</td>\n",
       "      <td>861101.41740</td>\n",
       "      <td>5.935055</td>\n",
       "    </tr>\n",
       "  </tbody>\n",
       "</table>\n",
       "<p>116 rows × 5 columns</p>\n",
       "</div>"
      ],
      "text/plain": [
       "        Date  SARS-CoV-2 levels [copies/L]  log_SARS-CoV-2  seven_day_average  \\\n",
       "0    10/2/20                  4.791207e+04        4.680454        43998.28696   \n",
       "1    10/3/20                           NaN             NaN        43998.28696   \n",
       "2    10/4/20                           NaN             NaN        52228.97821   \n",
       "3    10/5/20                  4.742341e+04        4.676002        52228.97821   \n",
       "4    10/6/20                           NaN             NaN        55536.09344   \n",
       "..       ...                           ...             ...                ...   \n",
       "111  1/21/21                  5.159181e+05        5.712582       924447.10450   \n",
       "112  1/22/21                  6.448364e+05        5.809450       967594.89500   \n",
       "113  1/23/21                  9.203620e+05        5.963959       884487.78690   \n",
       "114  1/24/21                  2.038592e+06        6.309331       856670.00150   \n",
       "115  1/25/21                  1.117430e+06        6.048221       861101.41740   \n",
       "\n",
       "     seven_day_average_log  \n",
       "0                 4.643446  \n",
       "1                 4.643446  \n",
       "2                 4.717920  \n",
       "3                 4.717920  \n",
       "4                 4.744583  \n",
       "..                     ...  \n",
       "111               5.965883  \n",
       "112               5.985694  \n",
       "113               5.946692  \n",
       "114               5.932814  \n",
       "115               5.935055  \n",
       "\n",
       "[116 rows x 5 columns]"
      ]
     },
     "execution_count": 222,
     "metadata": {},
     "output_type": "execute_result"
    }
   ],
   "source": [
    "csv_name = \"scenario-3.1a-viral-concentration.csv\"\n",
    "pd.read_csv(csv_name)"
   ]
  },
  {
   "cell_type": "markdown",
   "id": "cd6229fb",
   "metadata": {},
   "source": [
    "... and  present data annotations on this viral concentration dataset through another data card:"
   ]
  },
  {
   "cell_type": "code",
<<<<<<< Updated upstream
   "execution_count": 9,
   "id": "1da2aeb2",
=======
   "execution_count": 223,
   "id": "5a454c45",
>>>>>>> Stashed changes
   "metadata": {},
   "outputs": [
    {
     "data": {
      "text/markdown": [
       "# Data Card Output"
      ],
      "text/plain": [
<<<<<<< Updated upstream
       "{'DESCRIPTION': 'This dataset contains wastewater data collected from the Deer Island wastewater treatment plant in Massachusetts from October 02, 2020 to January 25, 2021.',\n",
       " 'AUTHOR_NAME': 'UNKNOWN',\n",
       " 'AUTHOR_EMAIL': 'UNKNOWN',\n",
       " 'DATE': 'UNKNOWN',\n",
       " 'PROVENANCE': 'The data was collected from the Deer Island wastewater treatment plant in Massachusetts.',\n",
       " 'SENSITIVITY': 'UNKNOWN',\n",
       " 'LICENSE': 'UNKNOWN',\n",
       " 'DATASET_TYPE': 'tabular',\n",
       " 'SCHEMA': ['Date',\n",
       "  'SARS-CoV-2 levels [copies/L]',\n",
       "  'log_SARS-CoV-2',\n",
       "  'seven_day_average',\n",
       "  'seven_day_average_log'],\n",
       " 'DATA_PROFILING_RESULT': {'Date': {'col_name': 'Date',\n",
       "   'concept': 'Sampling date',\n",
       "   'unit': 'Date',\n",
       "   'description': 'The date when the wastewater sample was collected',\n",
       "   'dkg_groundings': [['oboinowl:date', 'date', 'property'],\n",
       "    ['dc:date', 'Date', 'property'],\n",
       "    ['opmi:0000529', 'condition end date', 'class'],\n",
       "    ['opmi:0000580', 'measurement date', 'class']],\n",
       "   'column_stats': {'type': 'date',\n",
       "    'most_common_entries': {'2020-10-02T00:00:00': 1,\n",
       "     '2020-12-14T00:00:00': 1,\n",
       "     '2020-12-26T00:00:00': 1,\n",
       "     '2020-12-25T00:00:00': 1,\n",
       "     '2020-12-24T00:00:00': 1,\n",
       "     '2020-12-23T00:00:00': 1,\n",
       "     '2020-12-22T00:00:00': 1,\n",
       "     '2020-12-21T00:00:00': 1,\n",
       "     '2020-12-20T00:00:00': 1,\n",
       "     '2020-12-19T00:00:00': 1},\n",
       "    'num_unique_entries': 116,\n",
       "    'earliest': '2020-10-02T00:00:00',\n",
       "    'latest': '2021-01-25T00:00:00',\n",
       "    'num_null_entries': 0}},\n",
       "  'SARS-CoV-2 levels [copies/L]': {'col_name': 'SARS-CoV-2 levels [copies/L]',\n",
       "   'concept': 'SARS-CoV-2 concentration',\n",
       "   'unit': 'copies/L',\n",
       "   'description': 'The concentration of SARS-CoV-2 in the wastewater sample, measured in copies per liter',\n",
       "   'dkg_groundings': [['cido:0004830',\n",
       "     'SARS-CoV-2-SARS-CoV-2 N-S physical association',\n",
       "     'class'],\n",
       "    ['cido:0003058',\n",
       "     'SARS-CoV-2-SARS-CoV-2 M-S physical association',\n",
       "     'class'],\n",
       "    ['cido:0003062',\n",
       "     'SARS-CoV-2-SARS-CoV-2 M-N physical association',\n",
       "     'class'],\n",
       "    ['cido:0004831', 'SARS-CoV-2-SARS-CoV-2 N-E direct interaction', 'class']],\n",
       "   'column_stats': {'mean': 601107.1221153272,\n",
       "    'std': 407072.9391200486,\n",
       "    'min': 47423.41154,\n",
       "    '25%': 249928.68945,\n",
       "    '50%': 566181.0083,\n",
       "    '75%': 875858.8059,\n",
       "    'max': 2038591.913,\n",
       "    'type': 'numeric',\n",
       "    'num_null_entries': 9}},\n",
       "  'log_SARS-CoV-2': {'col_name': 'log_SARS-CoV-2',\n",
       "   'concept': 'Logarithm of SARS-CoV-2 concentration',\n",
       "   'unit': 'Log(copies/L)',\n",
       "   'description': 'The natural logarithm of the SARS-CoV-2 concentration in the wastewater sample',\n",
       "   'dkg_groundings': [['cido:0003062',\n",
       "     'SARS-CoV-2-SARS-CoV-2 M-N physical association',\n",
       "     'class'],\n",
       "    ['cido:0004830',\n",
       "     'SARS-CoV-2-SARS-CoV-2 N-S physical association',\n",
       "     'class'],\n",
       "    ['cido:0003058',\n",
       "     'SARS-CoV-2-SARS-CoV-2 M-S physical association',\n",
       "     'class'],\n",
       "    ['cido:0002000', 'SARS-CoV-2-SARS-CoV-2 E-E direct interaction', 'class']],\n",
       "   'column_stats': {'mean': 5.641993625252336,\n",
       "    'std': 0.39073851736249166,\n",
       "    'min': 4.676001951,\n",
       "    '25%': 5.397082339,\n",
       "    '50%': 5.752956065,\n",
       "    '75%': 5.942434064,\n",
       "    'max': 6.30933051,\n",
       "    'type': 'numeric',\n",
       "    'num_null_entries': 9}},\n",
       "  'seven_day_average': {'col_name': 'seven_day_average',\n",
       "   'concept': 'Seven-day average of SARS-CoV-2 concentration',\n",
       "   'unit': 'copies/L',\n",
       "   'description': 'The seven-day moving average of the SARS-CoV-2 concentration in the wastewater sample',\n",
       "   'dkg_groundings': [['opmi:0000091', 'day of birth', 'class'],\n",
       "    ['wikidata:Q102129592', 'reciprocal_day', 'class'],\n",
       "    ['idomal:0000478', '1 day after blood meal', 'class'],\n",
       "    ['cemo:average_rate_of_infectious_contacts',\n",
       "     'average rate of infectious contacts',\n",
       "     'class']],\n",
       "   'column_stats': {'mean': 552940.251807069,\n",
       "    'std': 367337.11999084544,\n",
       "    'min': 43998.28696,\n",
       "    '25%': 156967.38775,\n",
       "    '50%': 614862.7967000001,\n",
       "    '75%': 873505.1644,\n",
       "    'max': 1256651.488,\n",
       "    'type': 'numeric',\n",
       "    'num_null_entries': 0}},\n",
       "  'seven_day_average_log': {'col_name': 'seven_day_average_log',\n",
       "   'concept': 'Logarithm of seven-day average of SARS-CoV-2 concentration',\n",
       "   'unit': 'Log(copies/L)',\n",
       "   'description': 'The natural logarithm of the seven-day moving average of the SARS-CoV-2 concentration in the wastewater sample',\n",
       "   'dkg_groundings': [['opmi:0000091', 'day of birth', 'class'],\n",
       "    ['wikidata:Q102129592', 'reciprocal_day', 'class'],\n",
       "    ['cemo:average_rate_of_infectious_contacts',\n",
       "     'average rate of infectious contacts',\n",
       "     'class'],\n",
       "    ['idomal:0000478', '1 day after blood meal', 'class']],\n",
       "   'column_stats': {'mean': 5.586522559060344,\n",
       "    'std': 0.42608132875602883,\n",
       "    'min': 4.643445638,\n",
       "    '25%': 5.1958120945,\n",
       "    '50%': 5.788696966,\n",
       "    '75%': 5.941264904,\n",
       "    'max': 6.099215196,\n",
       "    'type': 'numeric',\n",
       "    'num_null_entries': 0}}},\n",
       " 'EXAMPLES': {'Date': '10/13/20',\n",
       "  'SARS-CoV-2 levels [copies/L]': None,\n",
       "  'log_SARS-CoV-2': None,\n",
       "  'seven_day_average': 77753.01454,\n",
       "  'seven_day_average_log': 4.890722821}}"
      ]
     },
     "execution_count": 9,
=======
       "<IPython.core.display.Markdown object>"
      ]
     },
>>>>>>> Stashed changes
     "metadata": {},
     "output_type": "display_data"
    },
    {
     "data": {
      "text/markdown": [
       "**Description**: The dataset contains wastewater data collected from the Deer Island wastewater treatment plant in Massachusetts from October 02, 2020 to January 25, 2021."
      ],
      "text/plain": [
       "<IPython.core.display.Markdown object>"
      ]
     },
     "metadata": {},
     "output_type": "display_data"
    },
    {
     "data": {
      "text/markdown": [
       "**Provenance**: The data was collected from the Deer Island wastewater treatment plant in Massachusetts."
      ],
      "text/plain": [
       "<IPython.core.display.Markdown object>"
      ]
     },
     "metadata": {},
     "output_type": "display_data"
    },
    {
     "data": {
      "text/markdown": [
       "**Dataset type**: tabular"
      ],
      "text/plain": [
       "<IPython.core.display.Markdown object>"
      ]
     },
     "metadata": {},
     "output_type": "display_data"
    },
    {
     "data": {
      "text/markdown": [
       "# Data Profiling Output"
      ],
      "text/plain": [
       "<IPython.core.display.Markdown object>"
      ]
     },
     "metadata": {},
     "output_type": "display_data"
    },
    {
     "data": {
      "text/html": [
       "<style type=\"text/css\">\n",
       "#T_080fb th {\n",
       "  text-align: left;\n",
       "}\n",
       "#T_080fb_row0_col0, #T_080fb_row0_col1, #T_080fb_row0_col2, #T_080fb_row0_col3, #T_080fb_row0_col4, #T_080fb_row1_col0, #T_080fb_row1_col1, #T_080fb_row1_col2, #T_080fb_row1_col3, #T_080fb_row1_col4, #T_080fb_row2_col0, #T_080fb_row2_col1, #T_080fb_row2_col2, #T_080fb_row2_col3, #T_080fb_row2_col4, #T_080fb_row3_col0, #T_080fb_row3_col1, #T_080fb_row3_col2, #T_080fb_row3_col3, #T_080fb_row3_col4, #T_080fb_row4_col0, #T_080fb_row4_col1, #T_080fb_row4_col2, #T_080fb_row4_col3, #T_080fb_row4_col4 {\n",
       "  text-align: left;\n",
       "}\n",
       "</style>\n",
       "<table id=\"T_080fb\" style=\"font-size: 14px\">\n",
       "  <thead>\n",
       "    <tr>\n",
       "      <th class=\"blank level0\" >&nbsp;</th>\n",
       "      <th id=\"T_080fb_level0_col0\" class=\"col_heading level0 col0\" >Date</th>\n",
       "      <th id=\"T_080fb_level0_col1\" class=\"col_heading level0 col1\" >SARS-CoV-2 levels [copies/L]</th>\n",
       "      <th id=\"T_080fb_level0_col2\" class=\"col_heading level0 col2\" >log_SARS-CoV-2</th>\n",
       "      <th id=\"T_080fb_level0_col3\" class=\"col_heading level0 col3\" >seven_day_average</th>\n",
       "      <th id=\"T_080fb_level0_col4\" class=\"col_heading level0 col4\" >seven_day_average_log</th>\n",
       "    </tr>\n",
       "  </thead>\n",
       "  <tbody>\n",
       "    <tr>\n",
       "      <th id=\"T_080fb_level0_row0\" class=\"row_heading level0 row0\" >concept</th>\n",
       "      <td id=\"T_080fb_row0_col0\" class=\"data row0 col0\" >Sampling date</td>\n",
       "      <td id=\"T_080fb_row0_col1\" class=\"data row0 col1\" >SARS-CoV-2 concentration</td>\n",
       "      <td id=\"T_080fb_row0_col2\" class=\"data row0 col2\" >Logarithm of SARS-CoV-2 concentration</td>\n",
       "      <td id=\"T_080fb_row0_col3\" class=\"data row0 col3\" >Seven-day average of SARS-CoV-2 concentration</td>\n",
       "      <td id=\"T_080fb_row0_col4\" class=\"data row0 col4\" >Logarithm of seven-day average of SARS-CoV-2 concentration</td>\n",
       "    </tr>\n",
       "    <tr>\n",
       "      <th id=\"T_080fb_level0_row1\" class=\"row_heading level0 row1\" >unit</th>\n",
       "      <td id=\"T_080fb_row1_col0\" class=\"data row1 col0\" >Date</td>\n",
       "      <td id=\"T_080fb_row1_col1\" class=\"data row1 col1\" >copies/L</td>\n",
       "      <td id=\"T_080fb_row1_col2\" class=\"data row1 col2\" >Log(copies/L)</td>\n",
       "      <td id=\"T_080fb_row1_col3\" class=\"data row1 col3\" >copies/L</td>\n",
       "      <td id=\"T_080fb_row1_col4\" class=\"data row1 col4\" >Log(copies/L)</td>\n",
       "    </tr>\n",
       "    <tr>\n",
       "      <th id=\"T_080fb_level0_row2\" class=\"row_heading level0 row2\" >description</th>\n",
       "      <td id=\"T_080fb_row2_col0\" class=\"data row2 col0\" >The date when the wastewater sample was collected</td>\n",
       "      <td id=\"T_080fb_row2_col1\" class=\"data row2 col1\" >The concentration of SARS-CoV-2 in the wastewater sample, measured in copies per liter</td>\n",
       "      <td id=\"T_080fb_row2_col2\" class=\"data row2 col2\" >The natural logarithm of the SARS-CoV-2 concentration in the wastewater sample</td>\n",
       "      <td id=\"T_080fb_row2_col3\" class=\"data row2 col3\" >The seven-day moving average of the SARS-CoV-2 concentration in the wastewater sample</td>\n",
       "      <td id=\"T_080fb_row2_col4\" class=\"data row2 col4\" >The natural logarithm of the seven-day moving average of the SARS-CoV-2 concentration in the\n",
       "wastewater sample</td>\n",
       "    </tr>\n",
       "    <tr>\n",
       "      <th id=\"T_080fb_level0_row3\" class=\"row_heading level0 row3\" >dkg_groundings</th>\n",
       "      <td id=\"T_080fb_row3_col0\" class=\"data row3 col0\" ><b>id</b>: oboinowl:date<br><b>name</b>: date<br><b>class</b>: property<br>...</td>\n",
       "      <td id=\"T_080fb_row3_col1\" class=\"data row3 col1\" ><b>id</b>: cido:0004830<br><b>name</b>: SARS-CoV-2-SARS-CoV-2 N-S physical association<br><b>class</b>: class<br>...</td>\n",
       "      <td id=\"T_080fb_row3_col2\" class=\"data row3 col2\" ><b>id</b>: cido:0003058<br><b>name</b>: SARS-CoV-2-SARS-CoV-2 M-S physical association<br><b>class</b>: class<br>...</td>\n",
       "      <td id=\"T_080fb_row3_col3\" class=\"data row3 col3\" ><b>id</b>: opmi:0000091<br><b>name</b>: day of birth<br><b>class</b>: class<br>...</td>\n",
       "      <td id=\"T_080fb_row3_col4\" class=\"data row3 col4\" ><b>id</b>: opmi:0000091<br><b>name</b>: day of birth<br><b>class</b>: class<br>...</td>\n",
       "    </tr>\n",
       "    <tr>\n",
       "      <th id=\"T_080fb_level0_row4\" class=\"row_heading level0 row4\" >column_stats</th>\n",
       "      <td id=\"T_080fb_row4_col0\" class=\"data row4 col0\" ><b>type: date</b><br><br>earliest: 2020-10-02T00:00:00<br>latest: 2021-01-25T00:00:00<br><br>most_common_entries: <br> 2020-10-02T00:00:00 (1 times)<br> 2020-12-14T00:00:00 (1 times)<br> ...<br>num_unique_entries: 116<br>num_null_entries: 0</td>\n",
       "      <td id=\"T_080fb_row4_col1\" class=\"data row4 col1\" ><b>type: numeric</b><br><br>mean: 601107.122<br>std: 407072.939<br><br>min: 47423.412<br>25%: 249928.689<br>50%: 566181.008<br>75%: 875858.806<br>max: 2038591.913<br>num_null_entries: 9</td>\n",
       "      <td id=\"T_080fb_row4_col2\" class=\"data row4 col2\" ><b>type: numeric</b><br><br>mean: 5.642<br>std: 0.391<br><br>min: 4.676<br>25%: 5.397<br>50%: 5.753<br>75%: 5.942<br>max: 6.309<br>num_null_entries: 9</td>\n",
       "      <td id=\"T_080fb_row4_col3\" class=\"data row4 col3\" ><b>type: numeric</b><br><br>mean: 552940.252<br>std: 367337.12<br><br>min: 43998.287<br>25%: 156967.388<br>50%: 614862.797<br>75%: 873505.164<br>max: 1256651.488<br>num_null_entries: 0</td>\n",
       "      <td id=\"T_080fb_row4_col4\" class=\"data row4 col4\" ><b>type: numeric</b><br><br>mean: 5.587<br>std: 0.426<br><br>min: 4.643<br>25%: 5.196<br>50%: 5.789<br>75%: 5.941<br>max: 6.099<br>num_null_entries: 0</td>\n",
       "    </tr>\n",
       "  </tbody>\n",
       "</table>\n"
      ],
      "text/plain": [
       "<IPython.core.display.HTML object>"
      ]
     },
     "metadata": {},
     "output_type": "display_data"
    }
   ],
   "source": [
    "csv_name = \"scenario-3.1a-viral-concentration.csv\"\n",
    "doc_name = \"scenario-3.1a-data-documentation.txt\"\n",
    "fetch_data_card(csv_name, doc_name)"
   ]
  },
  {
   "cell_type": "markdown",
   "id": "5dd8be6e",
   "metadata": {},
   "source": [
    "## Scenario 3-4a. NYC Wastewater Flow Rate and Viral Load\n",
    "\n",
    "`The City of New York maintains openly available COVID-19 wastewater monitoring data at https://data.cityofnewyork.us/Health/SARS-CoV-2-concentrations-measured-in-NYC-Wastewat/f7dc-2q9f/data. Extract the relevant data columns (viral load, population served); you will also need the flow rate to implement the SEIR-V model. This can be found in Table S1 of the supplemental materials of https://doi.org/10.1039/D1EW00747E. Extract this data from the table.`\n",
    "\n",
    "For this scenario, we provide data annotations for both indicated datasets via data card. In the case of Table S1, (WISCONSIN) extracted a table from the supplemental materials which we generate data annotations for below. As mentioned above, these data cards include general annotations about the dataset, statistics about the dataset, and column-level DKG groundings.\n",
    "\n",
    "[http://100.26.10.46/#/Data-and-model-cards/get_data_card_cards_get_data_card_post](http://100.26.10.46/#/Data-and-model-cards/get_data_card_cards_get_data_card_post)\n",
    "\n",
    "Below, we start with the NYC wastewater monitoring table:"
   ]
  },
  {
   "cell_type": "code",
<<<<<<< Updated upstream
   "execution_count": 10,
=======
   "execution_count": 224,
>>>>>>> Stashed changes
   "id": "213ca8d8",
   "metadata": {},
   "outputs": [
    {
     "data": {
      "text/markdown": [
       "# Data Card Output"
      ],
      "text/plain": [
<<<<<<< Updated upstream
       "{'DESCRIPTION': 'Results of sampling to determine the SARS-CoV-2 N gene levels in NYC DEP Wastewater Resource Recovery Facility (WRRF) influent, disaggregated by the WRRF where the sample was collected, date sample was collected, and date sample was tested.',\n",
       " 'AUTHOR_NAME': 'Department of Environmental Protection (DEP)',\n",
       " 'AUTHOR_EMAIL': 'UNKNOWN',\n",
       " 'DATE': 'May 1, 2023',\n",
       " 'PROVENANCE': 'UNKNOWN',\n",
       " 'SENSITIVITY': 'UNKNOWN',\n",
       " 'LICENSE': 'UNKNOWN',\n",
       " 'DATASET_TYPE': 'tabular',\n",
       " 'SCHEMA': ['Sample Date',\n",
       "  'Test date',\n",
       "  'WRRF Name',\n",
       "  'WRRF Abbreviation',\n",
       "  'Concentration SARS-CoV-2 gene target (N1 Copies/L) ',\n",
       "  'Per capita SARS-CoV-2 load (N1 copies per day per population)',\n",
       "  'Annotation',\n",
       "  'Population Served, estimated '],\n",
       " 'DATA_PROFILING_RESULT': {'Sample Date': {'col_name': 'Sample Date',\n",
       "   'concept': 'Date of sample collection',\n",
       "   'unit': 'Date & Time',\n",
       "   'description': 'Date sample was collected; The “sample” is a 24 hour composite of influent wastewater. The “sample date” is the date of start of collection.',\n",
       "   'dkg_groundings': [['dc:date', 'Date', 'property'],\n",
       "    ['oboinowl:date', 'date', 'property'],\n",
       "    ['opmi:0000531', 'condition start date', 'class'],\n",
       "    ['opmi:0000529', 'condition end date', 'class']],\n",
       "   'column_stats': {'type': 'date',\n",
       "    'most_common_entries': {'2020-08-31T00:00:00': 14,\n",
       "     '2022-06-05T00:00:00': 14,\n",
       "     '2022-04-19T00:00:00': 14,\n",
       "     '2022-04-24T00:00:00': 14,\n",
       "     '2022-04-26T00:00:00': 14,\n",
       "     '2022-05-01T00:00:00': 14,\n",
       "     '2022-05-03T00:00:00': 14,\n",
       "     '2022-05-08T00:00:00': 14,\n",
       "     '2022-05-10T00:00:00': 14,\n",
       "     '2022-05-15T00:00:00': 14},\n",
       "    'num_unique_entries': 234,\n",
       "    'earliest': '2020-08-31T00:00:00',\n",
       "    'latest': '2023-04-11T00:00:00',\n",
       "    'num_null_entries': 0}},\n",
       "  'Test date': {'col_name': 'Test date',\n",
       "   'concept': 'Date of sample analysis',\n",
       "   'unit': 'Date & Time',\n",
       "   'description': 'Date sample was analyzed;  This date is the date the analysis started (this is a three-days analysis protocol).',\n",
       "   'dkg_groundings': [['oboinowl:date', 'date', 'property'],\n",
       "    ['dc:date', 'Date', 'property'],\n",
       "    ['opmi:0000529', 'condition end date', 'class'],\n",
       "    ['opmi:0000531', 'condition start date', 'class']],\n",
       "   'column_stats': {'type': 'date',\n",
       "    'most_common_entries': {'2020-09-30T00:00:00': 18,\n",
       "     '2021-08-02T00:00:00': 17,\n",
       "     '2022-01-13T00:00:00': 15,\n",
       "     '2022-03-30T00:00:00': 15,\n",
       "     '2020-09-01T00:00:00': 14,\n",
       "     '2022-06-06T00:00:00': 14,\n",
       "     '2022-04-27T00:00:00': 14,\n",
       "     '2022-05-02T00:00:00': 14,\n",
       "     '2022-05-04T00:00:00': 14,\n",
       "     '2022-05-09T00:00:00': 14},\n",
       "    'num_unique_entries': 237,\n",
       "    'earliest': '2020-09-01T00:00:00',\n",
       "    'latest': '2023-04-12T00:00:00',\n",
       "    'num_null_entries': 15}},\n",
       "  'WRRF Name': {'col_name': 'WRRF Name',\n",
       "   'concept': 'Wastewater Resource Recovery Facility name',\n",
       "   'unit': 'Text',\n",
       "   'description': 'Wastewater Resource Recovery Facility (waste water treatment plant) where sample was taken. Samples are taken from WRRF influent.',\n",
       "   'dkg_groundings': [['rdfs:Resource', 'Resource', 'class'],\n",
       "    ['ncit:C133321',\n",
       "     'Human Cells, Tissues, and Cellular and Tissue-Based Products Satellite Recovery Facility',\n",
       "     'class'],\n",
       "    ['oae:0001873', 'incomplete AE recovery', 'class'],\n",
       "    ['oae:0001871', 'complete AE recovery', 'class']],\n",
       "   'column_stats': {'type': 'categorical',\n",
       "    'most_common_entries': {'26th Ward': 234,\n",
       "     'Bowery Bay': 234,\n",
       "     'Coney Island': 234,\n",
       "     'Hunts Point': 234,\n",
       "     'Jamaica Bay': 234,\n",
       "     'Newtown Creek': 234,\n",
       "     'North River': 234,\n",
       "     'Oakwood Beach': 234,\n",
       "     'Owls Head': 234,\n",
       "     'Port Richmond': 234},\n",
       "    'num_unique_entries': 14,\n",
       "    'num_null_entries': 0}},\n",
       "  'WRRF Abbreviation': {'col_name': 'WRRF Abbreviation',\n",
       "   'concept': 'Abbreviation of WRRF name',\n",
       "   'unit': 'Text',\n",
       "   'description': 'WRRF Abbreviation; Two letter abbreviation for WRRF name.',\n",
       "   'dkg_groundings': [['geogeo:000000010',\n",
       "     'US State Two Letter Abbreviation',\n",
       "     'property'],\n",
       "    ['apollosv:00000321', 'ISO Title Abbreviation', 'property'],\n",
       "    ['apollosv:00000324', 'NLM Title Abbreviation', 'property'],\n",
       "    ['iao:0000605', 'abbreviation textual entity', 'class']],\n",
       "   'column_stats': {'type': 'categorical',\n",
       "    'most_common_entries': {'26W': 234,\n",
       "     'BB': 234,\n",
       "     'CI': 234,\n",
       "     'HP': 234,\n",
       "     'JA': 234,\n",
       "     'NC': 234,\n",
       "     'NR': 234,\n",
       "     'OB': 234,\n",
       "     'OH': 234,\n",
       "     'PR': 234},\n",
       "    'num_unique_entries': 14,\n",
       "    'num_null_entries': 0}},\n",
       "  'Concentration SARS-CoV-2 gene target (N1 Copies/L) ': {'col_name': 'Concentration SARS-CoV-2 gene target (N1 Copies/L)',\n",
       "   'concept': 'Concentration of SARS-CoV-2 gene target',\n",
       "   'unit': 'N1 Copies/L',\n",
       "   'description': 'Concentration of the N1 target of SARS-CoV2 genetic material measured in wastewater influent.',\n",
       "   'dkg_groundings': [['ro:0002463', 'target participant in', 'property'],\n",
       "    ['apollosv:00000195', 'target population', 'class'],\n",
       "    ['probonto:k0000781', 'concentration', 'class'],\n",
       "    ['doid:0081067', 'N1 diffuse large B-cell lymphoma', 'class']],\n",
       "   'column_stats': {'mean': 11412.836498732573,\n",
       "    'std': 14586.517563651203,\n",
       "    'min': 30.0,\n",
       "    '25%': 2964.75,\n",
       "    '50%': 7374.0,\n",
       "    '75%': 15472.25,\n",
       "    'max': 194978.0,\n",
       "    'type': 'numeric',\n",
       "    'num_null_entries': 120}},\n",
       "  'Per capita SARS-CoV-2 load (N1 copies per day per population)': {'col_name': 'Per capita SARS-CoV-2 load (N1 copies per day per population)',\n",
       "   'concept': 'Normalized SARS-CoV-2 gene concentration',\n",
       "   'unit': 'N1 copies per day per population',\n",
       "   'description': 'Normalized  SARS-CoV-2 N gene concentration (taking into account average daily flow and total population).',\n",
       "   'dkg_groundings': [['cemo:per_capita_mobility',\n",
       "     'per capita mobility',\n",
       "     'class'],\n",
       "    ['cido:0020279', 'SARS-COV-2 R-GENE', 'class'],\n",
       "    ['ido:0000489', 'infectious disease mortality rate', 'class'],\n",
       "    ['vo:0001444', 'SARS-CoV gene', 'class']],\n",
       "   'column_stats': {'mean': 5545685.214510611,\n",
       "    'std': 6915624.23411643,\n",
       "    'min': 0.0,\n",
       "    '25%': 1500000.0,\n",
       "    '50%': 3731524.81,\n",
       "    '75%': 7540000.0,\n",
       "    'max': 107298936.35,\n",
       "    'type': 'numeric',\n",
       "    'num_null_entries': 119}},\n",
       "  'Annotation': {'col_name': 'Annotation',\n",
       "   'concept': 'Notes on sampling and testing',\n",
       "   'unit': 'Text',\n",
       "   'description': 'Notes on sampling and testing.',\n",
       "   'dkg_groundings': [['iao:0000634', 'notes section', 'class'],\n",
       "    ['cemo:testing_rate', 'testing rate', 'class'],\n",
       "    ['apollosv:00000520', 'location of sampling process', 'class'],\n",
       "    ['cemo:number_of_cases_by_testing',\n",
       "     'number of cases by testing',\n",
       "     'class']],\n",
       "   'column_stats': {'type': 'categorical',\n",
       "    'most_common_entries': {'This sample was analyzed in duplicate. The higher of the 2 results is reported': 202,\n",
       "     'Concentration below Method Limit of Quantification (above Method Limit of Detection)': 117,\n",
       "     'Concentration below Method Limit of Detection': 30,\n",
       "     'This result is not useable (because associated with contaminated method blank)': 28,\n",
       "     'Lower PCR efficiency: 78%': 26,\n",
       "     'Sample processing method slightly different due to supply chain issues': 26,\n",
       "     'Analytical issue': 24,\n",
       "     'No sample delivery due to logistical issue': 15,\n",
       "     'Low standard curve efficiency (62%)': 14,\n",
       "     'Low standard curve efficiency (68%)': 14},\n",
       "    'num_unique_entries': 42,\n",
       "    'num_null_entries': 2658}},\n",
       "  'Population Served, estimated ': {'col_name': 'Population Served, estimated',\n",
       "   'concept': 'Estimated population of sewershed',\n",
       "   'unit': 'Number',\n",
       "   'description': 'Population of sewershed; Estimated from 2020 New York Department of City Planning population estimate model.',\n",
       "   'dkg_groundings': [['idomal:0001255', 'human population', 'class'],\n",
       "    ['idomal:0000118', 'vaccination of population', 'class'],\n",
       "    ['ncit:C71544', 'Source Population', 'class'],\n",
       "    ['ncit:C71553', 'Population Covered', 'class']],\n",
       "   'column_stats': {'mean': 614621.3571428572,\n",
       "    'std': 345445.58313749376,\n",
       "    'min': 120539.0,\n",
       "    '25%': 258731.0,\n",
       "    '50%': 670469.0,\n",
       "    '75%': 906442.0,\n",
       "    'max': 1201485.0,\n",
       "    'type': 'numeric',\n",
       "    'num_null_entries': 0}}},\n",
       " 'EXAMPLES': {'Sample Date': '08/31/2020',\n",
       "  'Test date': '09/01/2020',\n",
       "  'WRRF Name': 'Jamaica Bay',\n",
       "  'WRRF Abbreviation': 'JA',\n",
       "  'Concentration SARS-CoV-2 gene target (N1 Copies/L)': 632.0,\n",
       "  'Per capita SARS-CoV-2 load (N1 copies per day per population)': 233077.74,\n",
       "  'Annotation': None,\n",
       "  'Population Served, estimated': 748737.0}}"
      ]
     },
     "execution_count": 10,
=======
       "<IPython.core.display.Markdown object>"
      ]
     },
>>>>>>> Stashed changes
     "metadata": {},
     "output_type": "display_data"
    },
    {
     "data": {
      "text/markdown": [
       "**Description**: Results of sampling to determine the SARS-CoV-2 N gene levels in NYC DEP Wastewater Resource Recovery Facility (WRRF) influent, disaggregated by the WRRF where the sample was collected, date sample was collected, and date sample was tested."
      ],
      "text/plain": [
       "<IPython.core.display.Markdown object>"
      ]
     },
     "metadata": {},
     "output_type": "display_data"
    },
    {
     "data": {
      "text/markdown": [
       "**Author name**: Department of Environmental Protection (DEP)"
      ],
      "text/plain": [
       "<IPython.core.display.Markdown object>"
      ]
     },
     "metadata": {},
     "output_type": "display_data"
    },
    {
     "data": {
      "text/markdown": [
       "**Date**: May 1, 2023"
      ],
      "text/plain": [
       "<IPython.core.display.Markdown object>"
      ]
     },
     "metadata": {},
     "output_type": "display_data"
    },
    {
     "data": {
      "text/markdown": [
       "**Dataset type**: tabular"
      ],
      "text/plain": [
       "<IPython.core.display.Markdown object>"
      ]
     },
     "metadata": {},
     "output_type": "display_data"
    },
    {
     "data": {
      "text/markdown": [
       "# Data Profiling Output"
      ],
      "text/plain": [
       "<IPython.core.display.Markdown object>"
      ]
     },
     "metadata": {},
     "output_type": "display_data"
    },
    {
     "data": {
      "text/html": [
       "<style type=\"text/css\">\n",
       "#T_52a20 th {\n",
       "  text-align: left;\n",
       "}\n",
       "#T_52a20_row0_col0, #T_52a20_row0_col1, #T_52a20_row0_col2, #T_52a20_row0_col3, #T_52a20_row0_col4, #T_52a20_row0_col5, #T_52a20_row0_col6, #T_52a20_row0_col7, #T_52a20_row1_col0, #T_52a20_row1_col1, #T_52a20_row1_col2, #T_52a20_row1_col3, #T_52a20_row1_col4, #T_52a20_row1_col5, #T_52a20_row1_col6, #T_52a20_row1_col7, #T_52a20_row2_col0, #T_52a20_row2_col1, #T_52a20_row2_col2, #T_52a20_row2_col3, #T_52a20_row2_col4, #T_52a20_row2_col5, #T_52a20_row2_col6, #T_52a20_row2_col7, #T_52a20_row3_col0, #T_52a20_row3_col1, #T_52a20_row3_col2, #T_52a20_row3_col3, #T_52a20_row3_col4, #T_52a20_row3_col5, #T_52a20_row3_col6, #T_52a20_row3_col7, #T_52a20_row4_col0, #T_52a20_row4_col1, #T_52a20_row4_col2, #T_52a20_row4_col3, #T_52a20_row4_col4, #T_52a20_row4_col5, #T_52a20_row4_col6, #T_52a20_row4_col7 {\n",
       "  text-align: left;\n",
       "}\n",
       "</style>\n",
       "<table id=\"T_52a20\" style=\"font-size: 14px\">\n",
       "  <thead>\n",
       "    <tr>\n",
       "      <th class=\"blank level0\" >&nbsp;</th>\n",
       "      <th id=\"T_52a20_level0_col0\" class=\"col_heading level0 col0\" >Sample Date</th>\n",
       "      <th id=\"T_52a20_level0_col1\" class=\"col_heading level0 col1\" >Test date</th>\n",
       "      <th id=\"T_52a20_level0_col2\" class=\"col_heading level0 col2\" >WRRF Name</th>\n",
       "      <th id=\"T_52a20_level0_col3\" class=\"col_heading level0 col3\" >WRRF Abbreviation</th>\n",
       "      <th id=\"T_52a20_level0_col4\" class=\"col_heading level0 col4\" >Concentration SARS-CoV-2 gene target (N1 Copies/L) </th>\n",
       "      <th id=\"T_52a20_level0_col5\" class=\"col_heading level0 col5\" >Per capita SARS-CoV-2 load (N1 copies per day per population)</th>\n",
       "      <th id=\"T_52a20_level0_col6\" class=\"col_heading level0 col6\" >Annotation</th>\n",
       "      <th id=\"T_52a20_level0_col7\" class=\"col_heading level0 col7\" >Population Served, estimated </th>\n",
       "    </tr>\n",
       "  </thead>\n",
       "  <tbody>\n",
       "    <tr>\n",
       "      <th id=\"T_52a20_level0_row0\" class=\"row_heading level0 row0\" >concept</th>\n",
       "      <td id=\"T_52a20_row0_col0\" class=\"data row0 col0\" >Date of sample collection</td>\n",
       "      <td id=\"T_52a20_row0_col1\" class=\"data row0 col1\" >Date of sample analysis</td>\n",
       "      <td id=\"T_52a20_row0_col2\" class=\"data row0 col2\" >Wastewater Resource Recovery Facility name</td>\n",
       "      <td id=\"T_52a20_row0_col3\" class=\"data row0 col3\" >Abbreviation of Wastewater Resource Recovery Facility name</td>\n",
       "      <td id=\"T_52a20_row0_col4\" class=\"data row0 col4\" >Concentration of SARS-CoV-2 gene target</td>\n",
       "      <td id=\"T_52a20_row0_col5\" class=\"data row0 col5\" >Normalized SARS-CoV-2 gene concentration</td>\n",
       "      <td id=\"T_52a20_row0_col6\" class=\"data row0 col6\" >Notes on sampling and testing</td>\n",
       "      <td id=\"T_52a20_row0_col7\" class=\"data row0 col7\" >Estimated population of sewershed</td>\n",
       "    </tr>\n",
       "    <tr>\n",
       "      <th id=\"T_52a20_level0_row1\" class=\"row_heading level0 row1\" >unit</th>\n",
       "      <td id=\"T_52a20_row1_col0\" class=\"data row1 col0\" >Date & Time</td>\n",
       "      <td id=\"T_52a20_row1_col1\" class=\"data row1 col1\" >Date & Time</td>\n",
       "      <td id=\"T_52a20_row1_col2\" class=\"data row1 col2\" >Text</td>\n",
       "      <td id=\"T_52a20_row1_col3\" class=\"data row1 col3\" >Text</td>\n",
       "      <td id=\"T_52a20_row1_col4\" class=\"data row1 col4\" >N1 Copies/L</td>\n",
       "      <td id=\"T_52a20_row1_col5\" class=\"data row1 col5\" >N1 copies per day per population</td>\n",
       "      <td id=\"T_52a20_row1_col6\" class=\"data row1 col6\" >Text</td>\n",
       "      <td id=\"T_52a20_row1_col7\" class=\"data row1 col7\" >Number</td>\n",
       "    </tr>\n",
       "    <tr>\n",
       "      <th id=\"T_52a20_level0_row2\" class=\"row_heading level0 row2\" >description</th>\n",
       "      <td id=\"T_52a20_row2_col0\" class=\"data row2 col0\" >Date sample was collected; The “sample” is a 24 hour composite of influent wastewater. The “sample\n",
       "date” is the date of start of collection.</td>\n",
       "      <td id=\"T_52a20_row2_col1\" class=\"data row2 col1\" >Date sample was analyzed;  This date is the date the analysis started (this is a three-days analysis\n",
       "protocol).</td>\n",
       "      <td id=\"T_52a20_row2_col2\" class=\"data row2 col2\" >Wastewater Resource Recovery Facility (waste water treatment plant) where sample was taken. Samples\n",
       "are taken from WRRF influent.</td>\n",
       "      <td id=\"T_52a20_row2_col3\" class=\"data row2 col3\" >WRRF Abbreviation; Two letter abbreviation for WRRF name.</td>\n",
       "      <td id=\"T_52a20_row2_col4\" class=\"data row2 col4\" >Concentration of the N1 target of SARS-CoV2 genetic material measured in wastewater influent.</td>\n",
       "      <td id=\"T_52a20_row2_col5\" class=\"data row2 col5\" >Normalized  SARS-CoV-2 N gene concentration (taking into account average daily flow and total\n",
       "population).</td>\n",
       "      <td id=\"T_52a20_row2_col6\" class=\"data row2 col6\" >Notes on sampling and testing.</td>\n",
       "      <td id=\"T_52a20_row2_col7\" class=\"data row2 col7\" >Population of sewershed; Estimated from 2020 New York Department of City Planning population\n",
       "estimate model.</td>\n",
       "    </tr>\n",
       "    <tr>\n",
       "      <th id=\"T_52a20_level0_row3\" class=\"row_heading level0 row3\" >dkg_groundings</th>\n",
       "      <td id=\"T_52a20_row3_col0\" class=\"data row3 col0\" ><b>id</b>: dc:date<br><b>name</b>: Date<br><b>class</b>: property<br>...</td>\n",
       "      <td id=\"T_52a20_row3_col1\" class=\"data row3 col1\" ><b>id</b>: oboinowl:date<br><b>name</b>: date<br><b>class</b>: property<br>...</td>\n",
       "      <td id=\"T_52a20_row3_col2\" class=\"data row3 col2\" ><b>id</b>: rdfs:Resource<br><b>name</b>: Resource<br><b>class</b>: class<br>...</td>\n",
       "      <td id=\"T_52a20_row3_col3\" class=\"data row3 col3\" ><b>id</b>: geogeo:000000010<br><b>name</b>: US State Two Letter Abbreviation<br><b>class</b>: property<br>...</td>\n",
       "      <td id=\"T_52a20_row3_col4\" class=\"data row3 col4\" ><b>id</b>: ro:0002463<br><b>name</b>: target participant in<br><b>class</b>: property<br>...</td>\n",
       "      <td id=\"T_52a20_row3_col5\" class=\"data row3 col5\" ><b>id</b>: cemo:per_capita_mobility<br><b>name</b>: per capita mobility<br><b>class</b>: class<br>...</td>\n",
       "      <td id=\"T_52a20_row3_col6\" class=\"data row3 col6\" ><b>id</b>: iao:0000634<br><b>name</b>: notes section<br><b>class</b>: class<br>...</td>\n",
       "      <td id=\"T_52a20_row3_col7\" class=\"data row3 col7\" ><b>id</b>: idomal:0001255<br><b>name</b>: human population<br><b>class</b>: class<br>...</td>\n",
       "    </tr>\n",
       "    <tr>\n",
       "      <th id=\"T_52a20_level0_row4\" class=\"row_heading level0 row4\" >column_stats</th>\n",
       "      <td id=\"T_52a20_row4_col0\" class=\"data row4 col0\" ><b>type: date</b><br><br>earliest: 2020-08-31T00:00:00<br>latest: 2023-04-11T00:00:00<br><br>most_common_entries: <br> 2020-08-31T00:00:00 (14 times)<br> 2022-06-05T00:00:00 (14 times)<br> ...<br>num_unique_entries: 234<br>num_null_entries: 0</td>\n",
       "      <td id=\"T_52a20_row4_col1\" class=\"data row4 col1\" ><b>type: date</b><br><br>earliest: 2020-09-01T00:00:00<br>latest: 2023-04-12T00:00:00<br><br>most_common_entries: <br> 2020-09-30T00:00:00 (18 times)<br> 2021-08-02T00:00:00 (17 times)<br> ...<br>num_unique_entries: 237<br>num_null_entries: 15</td>\n",
       "      <td id=\"T_52a20_row4_col2\" class=\"data row4 col2\" ><b>type: categorical</b><br><br><br><br>most_common_entries: <br> 26th Ward (234 times)<br> Bowery Bay (234 times)<br> ...<br>num_unique_entries: 14<br>num_null_entries: 0</td>\n",
       "      <td id=\"T_52a20_row4_col3\" class=\"data row4 col3\" ><b>type: categorical</b><br><br><br><br>most_common_entries: <br> 26W (234 times)<br> BB (234 times)<br> ...<br>num_unique_entries: 14<br>num_null_entries: 0</td>\n",
       "      <td id=\"T_52a20_row4_col4\" class=\"data row4 col4\" ><b>type: numeric</b><br><br>mean: 11412.836<br>std: 14586.518<br><br>min: 30.0<br>25%: 2964.75<br>50%: 7374.0<br>75%: 15472.25<br>max: 194978.0<br>num_null_entries: 120</td>\n",
       "      <td id=\"T_52a20_row4_col5\" class=\"data row4 col5\" ><b>type: numeric</b><br><br>mean: 5545685.215<br>std: 6915624.234<br><br>min: 0.0<br>25%: 1500000.0<br>50%: 3731524.81<br>75%: 7540000.0<br>max: 107298936.35<br>num_null_entries: 119</td>\n",
       "      <td id=\"T_52a20_row4_col6\" class=\"data row4 col6\" ><b>type: categorical</b><br><br><br><br>most_common_entries: <br> This sample was analyzed in duplicate. The higher of the 2 results is reported (202 times)<br> Concentration below Method Limit of Quantification (above Method Limit of Detection) (117 times)<br> ...<br>num_unique_entries: 42<br>num_null_entries: 2658</td>\n",
       "      <td id=\"T_52a20_row4_col7\" class=\"data row4 col7\" ><b>type: numeric</b><br><br>mean: 614621.357<br>std: 345445.583<br><br>min: 120539.0<br>25%: 258731.0<br>50%: 670469.0<br>75%: 906442.0<br>max: 1201485.0<br>num_null_entries: 0</td>\n",
       "    </tr>\n",
       "  </tbody>\n",
       "</table>\n"
      ],
      "text/plain": [
       "<IPython.core.display.HTML object>"
      ]
     },
     "metadata": {},
     "output_type": "display_data"
    }
   ],
   "source": [
    "csv_name = \"scenario-3.4a-nyc-wastewater.csv\"\n",
    "doc_name = \"scenario-3.4a-nyc-wastewater-documentation.txt\"\n",
    "fetch_data_card(csv_name, doc_name)"
   ]
  },
  {
   "cell_type": "markdown",
   "id": "8587ac4e",
   "metadata": {},
   "source": [
    "Next, we present data annotations on the supplemental table through another data card:"
   ]
  },
  {
   "cell_type": "code",
<<<<<<< Updated upstream
   "execution_count": 11,
=======
   "execution_count": 225,
>>>>>>> Stashed changes
   "id": "2aebab26",
   "metadata": {},
   "outputs": [
    {
     "data": {
      "text/markdown": [
       "# Data Card Output"
      ],
      "text/plain": [
<<<<<<< Updated upstream
       "{'DESCRIPTION': \"Monitoring SARS-CoV-2 in wastewater during New York City's second wave of COVID-19: sewershed-level trends and relationships to publicly available clinical testing data† Check for updates\",\n",
       " 'AUTHOR_NAME': 'Catherine Hoar, Francoise Chauvin, Alexander Clare, Hope McGibbon, Esmeraldo Castro, Samantha Patinella, Dimitrios Katehis, John J. Dennehy, Monica Trujillo, Davida S. Smyth, Andrea I. Silverman',\n",
       " 'AUTHOR_EMAIL': 'UNKNOWN',\n",
       " 'DATE': 'UNKNOWN',\n",
       " 'PROVENANCE': \"New York City's wastewater monitoring program tracked trends in sewershed-level SARS-CoV-2 loads starting in the fall of 2020, just before the start of the city's second wave of the COVID-19 outbreak.\",\n",
       " 'SENSITIVITY': 'UNKNOWN',\n",
       " 'LICENSE': 'UNKNOWN',\n",
       " 'DATASET_TYPE': 'tabular',\n",
       " 'SCHEMA': ['Wastewater Resource Recovery Facility (WRRF)',\n",
       "  'Borough(s)',\n",
       "  'Population Served*',\n",
       "  'Daily Flow Range (Average)† in MGD'],\n",
       " 'DATA_PROFILING_RESULT': {'Wastewater Resource Recovery Facility (WRRF)': {'col_name': 'Wastewater Resource Recovery Facility (WRRF)',\n",
       "   'concept': 'Wastewater treatment plant',\n",
       "   'unit': 'N/A',\n",
       "   'description': 'The name of the wastewater treatment plant where the data was collected',\n",
       "   'dkg_groundings': [['apollosv:00000618',\n",
       "     'wastewater surveillance data set',\n",
       "     'class'],\n",
       "    ['idomal:6000001', 'plant structure', 'class'],\n",
       "    ['apollosv:00000616', 'wastewater disease surveillance', 'class'],\n",
       "    ['idomal:6000000', 'plant anatomical entity', 'class']],\n",
       "   'column_stats': {'type': 'categorical',\n",
       "    'most_common_entries': {'Hunts Point': 1,\n",
       "     'Wards Island': 1,\n",
       "     'North River': 1,\n",
       "     'Newtown Creek': 1,\n",
       "     'Red Hook': 1,\n",
       "     'Owls Head': 1,\n",
       "     'Coney Island': 1,\n",
       "     '26th Ward': 1,\n",
       "     'Rockaway': 1,\n",
       "     'Jamaica Bay': 1},\n",
       "    'num_unique_entries': 14,\n",
       "    'num_null_entries': 0}},\n",
       "  'Borough(s)': {'col_name': 'Borough(s)',\n",
       "   'concept': 'Geographic location',\n",
       "   'unit': 'N/A',\n",
       "   'description': 'The borough(s) in New York City that the wastewater treatment plant serves',\n",
       "   'dkg_groundings': [['geonames:3333125',\n",
       "     'City and Borough of Birmingham',\n",
       "     'individual'],\n",
       "    ['geonames:3333164', 'City and Borough of Leeds', 'individual'],\n",
       "    ['geonames:3333190', 'City and Borough of Salford', 'individual'],\n",
       "    ['geonames:3333212', 'City and Borough of Wakefield', 'individual']],\n",
       "   'column_stats': {'type': 'categorical',\n",
       "    'most_common_entries': {'Brooklyn': 4,\n",
       "     'Queens': 4,\n",
       "     'Staten Island': 2,\n",
       "     'Bronx': 1,\n",
       "     'Bronx and Manhattan': 1,\n",
       "     'Manhattan': 1,\n",
       "     'Manhattan, Brooklyn, \\nand Queens': 1},\n",
       "    'num_unique_entries': 7,\n",
       "    'num_null_entries': 0}},\n",
       "  'Population Served*': {'col_name': 'Population Served*',\n",
       "   'concept': 'Population size',\n",
       "   'unit': 'People',\n",
       "   'description': 'The estimated number of people whose wastewater is treated by the plant',\n",
       "   'dkg_groundings': [['ido:0000511', 'infected population', 'class'],\n",
       "    ['idomal:0001255', 'human population', 'class'],\n",
       "    ['apollosv:00000155', 'population infection survey', 'class'],\n",
       "    ['idomal:0000118', 'vaccination of population', 'class']],\n",
       "   'column_stats': {'mean': 614621.3571428572,\n",
       "    'std': 358431.1052924541,\n",
       "    'min': 120539.0,\n",
       "    '25%': 266700.25,\n",
       "    '50%': 670469.0,\n",
       "    '75%': 868818.5,\n",
       "    'max': 1201485.0,\n",
       "    'type': 'numeric',\n",
       "    'num_null_entries': 0}},\n",
       "  'Daily Flow Range (Average)† in MGD': {'col_name': 'Daily Flow Range (Average)† in MGD',\n",
       "   'concept': 'Wastewater flow',\n",
       "   'unit': 'Million gallons per day (MGD)',\n",
       "   'description': 'The average daily flow of wastewater treated by the plant, given as a range in million gallons per day',\n",
       "   'dkg_groundings': [['cemo:average_daily_number_of_new_infections_generated_per_case_rt',\n",
       "     'average daily number of new infections generated per case (rt)',\n",
       "     'class'],\n",
       "    ['rdfs:range', 'range', 'unknown'],\n",
       "    ['apollosv:00000618', 'wastewater surveillance data set', 'class'],\n",
       "    ['oae:0001386', 'sensation of blood flow AE', 'class']],\n",
       "   'column_stats': {'type': 'categorical',\n",
       "    'most_common_entries': {'115 - 215 (136)': 1,\n",
       "     '143 - 273 (180)': 1,\n",
       "     '81 - 143 (94)': 1,\n",
       "     '158 - 296 (188)': 1,\n",
       "     '21 - 46 (26)': 1,\n",
       "     '81 - 159 (95)': 1,\n",
       "     '70 - 102 (82)': 1,\n",
       "     '44 - 89  (55)': 1,\n",
       "     '18 - 25 (20)': 1,\n",
       "     '74 - 103 (81)': 1},\n",
       "    'num_unique_entries': 14,\n",
       "    'num_null_entries': 0}}},\n",
       " 'EXAMPLES': {'Wastewater Resource Recovery Facility (WRRF)': 'Oakwood Beach',\n",
       "  'Borough(s)': 'Staten Island',\n",
       "  'Population Served*': 258731.0,\n",
       "  'Daily Flow Range (Average)† in MGD': '24 - 41 (28)'}}"
      ]
     },
     "execution_count": 11,
=======
       "<IPython.core.display.Markdown object>"
      ]
     },
>>>>>>> Stashed changes
     "metadata": {},
     "output_type": "display_data"
    },
    {
     "data": {
      "text/markdown": [
       "**Description**: Monitoring SARS-CoV-2 in wastewater during New York City's second wave of COVID-19: sewershed-level trends and relationships to publicly available clinical testing data† Check for updates"
      ],
      "text/plain": [
       "<IPython.core.display.Markdown object>"
      ]
     },
     "metadata": {},
     "output_type": "display_data"
    },
    {
     "data": {
      "text/markdown": [
       "**Author name**: Catherine Hoar, Francoise Chauvin, Alexander Clare, Hope McGibbon, Esmeraldo Castro, Samantha Patinella, Dimitrios Katehis, John J. Dennehy, Monica Trujillo, Davida S. Smyth, Andrea I. Silverman"
      ],
      "text/plain": [
       "<IPython.core.display.Markdown object>"
      ]
     },
     "metadata": {},
     "output_type": "display_data"
    },
    {
     "data": {
      "text/markdown": [
       "**Provenance**: New York City's wastewater monitoring program tracked trends in sewershed-level SARS-CoV-2 loads starting in the fall of 2020, just before the start of the city's second wave of the COVID-19 outbreak."
      ],
      "text/plain": [
       "<IPython.core.display.Markdown object>"
      ]
     },
     "metadata": {},
     "output_type": "display_data"
    },
    {
     "data": {
      "text/markdown": [
       "**Dataset type**: tabular"
      ],
      "text/plain": [
       "<IPython.core.display.Markdown object>"
      ]
     },
     "metadata": {},
     "output_type": "display_data"
    },
    {
     "data": {
      "text/markdown": [
       "# Data Profiling Output"
      ],
      "text/plain": [
       "<IPython.core.display.Markdown object>"
      ]
     },
     "metadata": {},
     "output_type": "display_data"
    },
    {
     "data": {
      "text/html": [
       "<style type=\"text/css\">\n",
       "#T_f22be th {\n",
       "  text-align: left;\n",
       "}\n",
       "#T_f22be_row0_col0, #T_f22be_row0_col1, #T_f22be_row0_col2, #T_f22be_row0_col3, #T_f22be_row1_col0, #T_f22be_row1_col1, #T_f22be_row1_col2, #T_f22be_row1_col3, #T_f22be_row2_col0, #T_f22be_row2_col1, #T_f22be_row2_col2, #T_f22be_row2_col3, #T_f22be_row3_col0, #T_f22be_row3_col1, #T_f22be_row3_col2, #T_f22be_row3_col3, #T_f22be_row4_col0, #T_f22be_row4_col1, #T_f22be_row4_col2, #T_f22be_row4_col3 {\n",
       "  text-align: left;\n",
       "}\n",
       "</style>\n",
       "<table id=\"T_f22be\" style=\"font-size: 14px\">\n",
       "  <thead>\n",
       "    <tr>\n",
       "      <th class=\"blank level0\" >&nbsp;</th>\n",
       "      <th id=\"T_f22be_level0_col0\" class=\"col_heading level0 col0\" >Wastewater Resource Recovery Facility (WRRF)</th>\n",
       "      <th id=\"T_f22be_level0_col1\" class=\"col_heading level0 col1\" >Borough(s)</th>\n",
       "      <th id=\"T_f22be_level0_col2\" class=\"col_heading level0 col2\" >Population Served*</th>\n",
       "      <th id=\"T_f22be_level0_col3\" class=\"col_heading level0 col3\" >Daily Flow Range (Average)† in MGD</th>\n",
       "    </tr>\n",
       "  </thead>\n",
       "  <tbody>\n",
       "    <tr>\n",
       "      <th id=\"T_f22be_level0_row0\" class=\"row_heading level0 row0\" >concept</th>\n",
       "      <td id=\"T_f22be_row0_col0\" class=\"data row0 col0\" >Wastewater treatment plant</td>\n",
       "      <td id=\"T_f22be_row0_col1\" class=\"data row0 col1\" >Geographic location</td>\n",
       "      <td id=\"T_f22be_row0_col2\" class=\"data row0 col2\" >Number of people</td>\n",
       "      <td id=\"T_f22be_row0_col3\" class=\"data row0 col3\" >Wastewater flow</td>\n",
       "    </tr>\n",
       "    <tr>\n",
       "      <th id=\"T_f22be_level0_row1\" class=\"row_heading level0 row1\" >unit</th>\n",
       "      <td id=\"T_f22be_row1_col0\" class=\"data row1 col0\" >N/A</td>\n",
       "      <td id=\"T_f22be_row1_col1\" class=\"data row1 col1\" >N/A</td>\n",
       "      <td id=\"T_f22be_row1_col2\" class=\"data row1 col2\" >People</td>\n",
       "      <td id=\"T_f22be_row1_col3\" class=\"data row1 col3\" >Million gallons per day (MGD)</td>\n",
       "    </tr>\n",
       "    <tr>\n",
       "      <th id=\"T_f22be_level0_row2\" class=\"row_heading level0 row2\" >description</th>\n",
       "      <td id=\"T_f22be_row2_col0\" class=\"data row2 col0\" >The name of the wastewater treatment plant in New York City</td>\n",
       "      <td id=\"T_f22be_row2_col1\" class=\"data row2 col1\" >The borough(s) in New York City where the wastewater treatment plant is located</td>\n",
       "      <td id=\"T_f22be_row2_col2\" class=\"data row2 col2\" >The estimated number of people whose wastewater is treated by the plant</td>\n",
       "      <td id=\"T_f22be_row2_col3\" class=\"data row2 col3\" >The range and average of daily flow of wastewater treated by the plant, measured in million gallons\n",
       "per day</td>\n",
       "    </tr>\n",
       "    <tr>\n",
       "      <th id=\"T_f22be_level0_row3\" class=\"row_heading level0 row3\" >dkg_groundings</th>\n",
       "      <td id=\"T_f22be_row3_col0\" class=\"data row3 col0\" ><b>id</b>: apollosv:00000618<br><b>name</b>: wastewater surveillance data set<br><b>class</b>: class<br>...</td>\n",
       "      <td id=\"T_f22be_row3_col1\" class=\"data row3 col1\" ><b>id</b>: geonames:3333125<br><b>name</b>: City and Borough of Birmingham<br><b>class</b>: individual<br>...</td>\n",
       "      <td id=\"T_f22be_row3_col2\" class=\"data row3 col2\" ><b>id</b>: askemo:0000001<br><b>name</b>: population<br><b>class</b>: class<br>...</td>\n",
       "      <td id=\"T_f22be_row3_col3\" class=\"data row3 col3\" ><b>id</b>: cemo:average_daily_number_of_new_infections_generated_per_case_rt<br><b>name</b>: average daily number of new infections generated per case (rt)<br><b>class</b>: class<br>...</td>\n",
       "    </tr>\n",
       "    <tr>\n",
       "      <th id=\"T_f22be_level0_row4\" class=\"row_heading level0 row4\" >column_stats</th>\n",
       "      <td id=\"T_f22be_row4_col0\" class=\"data row4 col0\" ><b>type: categorical</b><br><br><br><br>most_common_entries: <br> Hunts Point (1 times)<br> Wards Island (1 times)<br> ...<br>num_unique_entries: 14<br>num_null_entries: 0</td>\n",
       "      <td id=\"T_f22be_row4_col1\" class=\"data row4 col1\" ><b>type: categorical</b><br><br><br><br>most_common_entries: <br> Brooklyn (4 times)<br> Queens (4 times)<br> ...<br>num_unique_entries: 7<br>num_null_entries: 0</td>\n",
       "      <td id=\"T_f22be_row4_col2\" class=\"data row4 col2\" ><b>type: categorical</b><br><br><br><br>most_common_entries: <br> 755,948 (1 times)<br> 1,201,485 (1 times)<br> ...<br>num_unique_entries: 14<br>num_null_entries: 0</td>\n",
       "      <td id=\"T_f22be_row4_col3\" class=\"data row4 col3\" ><b>type: categorical</b><br><br><br><br>most_common_entries: <br> 115 - 215 (136) (1 times)<br> 143 - 273 (180) (1 times)<br> ...<br>num_unique_entries: 14<br>num_null_entries: 0</td>\n",
       "    </tr>\n",
       "  </tbody>\n",
       "</table>\n"
      ],
      "text/plain": [
       "<IPython.core.display.HTML object>"
      ]
     },
     "metadata": {},
     "output_type": "display_data"
    }
   ],
   "source": [
    "csv_name = \"scenario-3.4a-supplement.csv\"\n",
    "doc_name = \"scenario-3.4a-supplement-documentation.txt\"\n",
    "fetch_data_card(csv_name, doc_name)"
   ]
  },
  {
   "cell_type": "code",
   "execution_count": null,
   "id": "168ed6cc",
   "metadata": {},
   "outputs": [],
   "source": []
  }
 ],
 "metadata": {
  "kernelspec": {
   "display_name": "Python 3.11.4 64-bit",
   "language": "python",
   "name": "python3"
  },
  "language_info": {
   "codemirror_mode": {
    "name": "ipython",
    "version": 3
   },
   "file_extension": ".py",
   "mimetype": "text/x-python",
   "name": "python",
   "nbconvert_exporter": "python",
   "pygments_lexer": "ipython3",
   "version": "3.9.17"
  },
  "vscode": {
   "interpreter": {
    "hash": "b0fa6594d8f4cbf19f97940f81e996739fb7646882a419484c72d19e05852a7e"
   }
  }
 },
 "nbformat": 4,
 "nbformat_minor": 5
}
