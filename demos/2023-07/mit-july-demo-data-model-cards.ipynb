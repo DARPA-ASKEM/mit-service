{
 "cells": [
  {
   "cell_type": "markdown",
   "id": "7f6a1aaa",
   "metadata": {
    "pycharm": {
     "name": "#%% md\n"
    }
   },
   "source": [
    "# MIT (TA1): Data and model cards\n"
   ]
  },
  {
   "cell_type": "markdown",
   "id": "8f6cdd8b",
   "metadata": {
    "pycharm": {
     "name": "#%% md\n"
    }
   },
   "source": [
    "## 0. Preprocessing"
   ]
  },
  {
   "cell_type": "code",
   "execution_count": 1,
   "id": "d07d53d5",
   "metadata": {
    "execution": {
     "iopub.execute_input": "2023-10-24T18:14:27.981253Z",
     "iopub.status.busy": "2023-10-24T18:14:27.980241Z",
     "iopub.status.idle": "2023-10-24T18:14:27.987428Z",
     "shell.execute_reply": "2023-10-24T18:14:27.986329Z",
     "shell.execute_reply.started": "2023-10-24T18:14:27.981203Z"
    },
    "pycharm": {
     "name": "#%%\n"
    }
   },
   "outputs": [],
   "source": [
    "import ast, json, requests, os\n",
    "GPT_KEY = os.environ.get('OPENAI_API_KEY')\n",
    "API_ROOT = \"http://localhost:8000/\" # \"http://3.83.68.208/\""
   ]
  },
  {
   "cell_type": "markdown",
   "id": "d382c8c7",
   "metadata": {
    "pycharm": {
     "name": "#%% md\n"
    }
   },
   "source": [
    "## 1. Get data card"
   ]
  },
  {
   "cell_type": "markdown",
   "id": "559e6c92",
   "metadata": {
    "collapsed": false,
    "jupyter": {
     "outputs_hidden": false
    },
    "pycharm": {
     "name": "#%% md\n"
    }
   },
   "source": [
    "#### Data cards summarize general information about the dataset.\n",
    "[http://3.83.68.208/#/Data-and-model-cards/get_data_card_cards_get_data_card_post](http://3.83.68.208/#/Data-and-model-cards/get_data_card_cards_get_data_card_post)\n",
    "\n",
    "The data card endpoint supports both tabular and matrix (e.g. transmission probabilities) data.\n",
    "It will automatically detect which one has been passed, based on whether or not the first row in the dataset contains purely numeric data.\n",
    "\n",
    "In addition to the fields which are populated based on the documentation provided (e.g. `DESCRIPTION`, `AUTHOR_NAME`, etc.), the data card also includes the data profiling results.\n",
    "When the data is tabular, this consists of column-level DKG groundings and summary statistics.\n",
    "When it is a matrix, it instead consists of matrix-level summary statistics.\n",
    "\n",
    "**Note:** When the data is tabular, `EXAMPLES` is a dictionary from `column name: example column value`. When the data is a matrix, `EXAMPLES` is a list consisting of a *sample row*.\n"
   ]
  },
  {
   "cell_type": "code",
   "execution_count": 2,
   "id": "fbf89623",
   "metadata": {},
   "outputs": [],
   "source": [
    "from ta1viewer import display_json"
   ]
  },
  {
   "cell_type": "code",
   "execution_count": 3,
   "id": "f25f9f0b",
   "metadata": {
    "collapsed": false,
    "execution": {
     "iopub.execute_input": "2023-10-24T18:14:59.064195Z",
     "iopub.status.busy": "2023-10-24T18:14:59.063583Z",
     "iopub.status.idle": "2023-10-24T18:16:13.616452Z",
     "shell.execute_reply": "2023-10-24T18:16:13.616155Z",
     "shell.execute_reply.started": "2023-10-24T18:14:59.064155Z"
    },
    "jupyter": {
     "outputs_hidden": false
    },
    "pycharm": {
     "name": "#%%\n"
    }
   },
   "outputs": [
    {
     "name": "stdout",
     "output_type": "stream",
     "text": [
      "{\"DESCRIPTION\":\"A Simple SEIR model for wastewater-based epidemiological modeling of COVID-19 outbreak.\",\"AUTHOR_NAME\":\"Mehrdad Fazli, Samuel Sklar, Michael D Porter, Brent A French, Heman Shakeri\",\"AUTHOR_EMAIL\":\"UNKNOWN\",\"DATE\":\"2021\",\"PROVENANCE\":\"The data was collected through wastewater surveillance as a continuous pooled sampling technique.\",\"SENSITIVITY\":\"UNKNOWN\",\"LICENSE\":\"UNKNOWN\",\"DATASET_TYPE\":\"tabular\",\"SCHEMA\":[\"dates\",\"VAX_count\",\"day\",\"sdm\",\"events\",\"I_1\",\"I_2\",\"I_3\",\"Y_1\",\"Y_2\",\"Y_3\",\"V_1\",\"V_2\",\"V_3\",\"Infected\",\"Y\",\"V\",\"logV\"],\"DATA_PROFILING_RESULT\":{\"dates\":{\"col_name\":\"dates\",\"concept\":\"Date of data collection\",\"unit\":\"Date\",\"description\":\"The date when the data was collected.\",\"dkg_groundings\":[[\"dc:date\",\"Date\",\"property\"],[\"oboinowl:date\",\"date\",\"property\"],[\"opmi:0000488\",\"visit end date\",\"class\"],[\"obib:0000714\",\"date of specimen collection\",\"class\"]],\"column_stats\":{\"num_null_entries\":0,\"type\":\"date\",\"num_unique_entries\":540,\"most_common_entries\":{\"2020-03-10T00:00:00\":1,\"2021-02-28T00:00:00\":1,\"2021-03-14T00:00:00\":1,\"2021-03-13T00:00:00\":1,\"2021-03-12T00:00:00\":1,\"2021-03-11T00:00:00\":1,\"2021-03-10T00:00:00\":1,\"2021-03-09T00:00:00\":1,\"2021-03-08T00:00:00\":1,\"2021-03-07T00:00:00\":1},\"earliest\":\"2020-03-10T00:00:00\",\"latest\":\"2021-08-31T00:00:00\"}},\"VAX_count\":{\"col_name\":\"VAX_count\",\"concept\":\"Vaccination count\",\"unit\":\"Count\",\"description\":\"The number of vaccinations administered on the given date.\",\"dkg_groundings\":[[\"oboinowl:date\",\"date\",\"property\"],[\"dc:date\",\"Date\",\"property\"],[\"apollosv:00000047\",\"vaccination administration capacity\",\"class\"],[\"opmi:0000529\",\"condition end date\",\"class\"]],\"column_stats\":{\"num_null_entries\":0,\"type\":\"numeric\",\"min\":0.0,\"max\":587.0,\"mean\":44.56481481481482,\"std\":91.57703785200043,\"quantile_25\":0.0,\"quantile_50\":0.0,\"quantile_75\":45.25}},\"day\":{\"col_name\":\"day\",\"concept\":\"Day of the year\",\"unit\":\"Count\",\"description\":\"The day of the year corresponding to the date of data collection.\",\"dkg_groundings\":[[\"opmi:0000091\",\"day of birth\",\"class\"],[\"wikidata:Q102129592\",\"reciprocal_day\",\"class\"],[\"idomal:0000478\",\"1 day after blood meal\",\"class\"],[\"opmi:0000473\",\"year of birth\",\"class\"]],\"column_stats\":{\"num_null_entries\":0,\"type\":\"numeric\",\"min\":0.0,\"max\":539.0,\"mean\":269.5,\"std\":156.02884348735012,\"quantile_25\":134.75,\"quantile_50\":269.5,\"quantile_75\":404.25}},\"sdm\":{\"col_name\":\"sdm\",\"concept\":\"Social Distancing Measure\",\"unit\":\"Proportion\",\"description\":\"The level of social distancing measures in place, represented as a proportion from 0 to 1.\",\"dkg_groundings\":[[\"ncit:C173636\",\"Social Distancing\",\"class\"],[\"apollosv:00000620\",\"physical distancing infectious disease control measure\",\"class\"],[\"hp:5200021\",\"Reduced social insight\",\"class\"],[\"hp:0012433\",\"Abnormal social behavior\",\"class\"]],\"column_stats\":{\"num_null_entries\":0,\"type\":\"numeric\",\"min\":0.04,\"max\":1.0,\"mean\":0.33188518518518517,\"std\":0.33411446629713515,\"quantile_25\":0.089,\"quantile_50\":0.12,\"quantile_75\":0.6}},\"events\":{\"col_name\":\"events\",\"concept\":\"Events\",\"unit\":\"Proportion\",\"description\":\"The level of events or gatherings happening, represented as a proportion from 0 to 1.\",\"dkg_groundings\":[[\"cemo:number_of_cases_with_exposure_events\",\"number of cases with exposure events\",\"class\"],[\"cemo:number_of_schools_with_exposure_events\",\"number of schools with exposure events\",\"class\"],[\"go:0030168\",\"platelet activation\",\"class\"],[\"cemo:number_of_cases_with_school_exposure_events\",\"number of cases with school exposure events\",\"class\"]],\"column_stats\":{\"num_null_entries\":0,\"type\":\"numeric\",\"min\":0.0,\"max\":0.8,\"mean\":0.12259259259259257,\"std\":0.16684550289840552,\"quantile_25\":0.1,\"quantile_50\":0.1,\"quantile_75\":0.1}},\"I_1\":{\"col_name\":\"I_1\",\"concept\":\"Infectious population (Model 1)\",\"unit\":\"Count\",\"description\":\"The number of infectious individuals in the population according to the first model.\",\"dkg_groundings\":[[\"idomal:0000352\",\"herd immunity to infectious organism\",\"class\"],[\"ido:0000447\",\"herd immunity to infectious organism\",\"class\"],[\"apollosv:00000548\",\"Susceptible-Infected-Susceptible model\",\"class\"],[\"apollosv:00000507\",\"disease transmission model identifier\",\"class\"]],\"column_stats\":{\"num_null_entries\":0,\"type\":\"numeric\",\"min\":1.0,\"max\":221.0,\"mean\":58.92037037037037,\"std\":54.643719981744255,\"quantile_25\":14.0,\"quantile_50\":48.0,\"quantile_75\":83.25}},\"I_2\":{\"col_name\":\"I_2\",\"concept\":\"Infectious population (Model 2)\",\"unit\":\"Count\",\"description\":\"The number of infectious individuals in the population according to the second model.\",\"dkg_groundings\":[[\"idomal:0000352\",\"herd immunity to infectious organism\",\"class\"],[\"ido:0000447\",\"herd immunity to infectious organism\",\"class\"],[\"apollosv:00000548\",\"Susceptible-Infected-Susceptible model\",\"class\"],[\"apollosv:00000507\",\"disease transmission model identifier\",\"class\"]],\"column_stats\":{\"num_null_entries\":0,\"type\":\"numeric\",\"min\":0.0,\"max\":229.0,\"mean\":43.25925925925926,\"std\":57.52591903856349,\"quantile_25\":7.0,\"quantile_50\":21.0,\"quantile_75\":47.25}},\"I_3\":{\"col_name\":\"I_3\",\"concept\":\"Infectious population (Model 3)\",\"unit\":\"Count\",\"description\":\"The number of infectious individuals in the population according to the third model.\",\"dkg_groundings\":[[\"idomal:0000352\",\"herd immunity to infectious organism\",\"class\"],[\"ido:0000447\",\"herd immunity to infectious organism\",\"class\"],[\"apollosv:00000548\",\"Susceptible-Infected-Susceptible model\",\"class\"],[\"apollosv:00000507\",\"disease transmission model identifier\",\"class\"]],\"column_stats\":{\"num_null_entries\":0,\"type\":\"numeric\",\"min\":0.0,\"max\":291.0,\"mean\":79.17407407407407,\"std\":64.41469941710787,\"quantile_25\":39.0,\"quantile_50\":64.0,\"quantile_75\":97.0}},\"Y_1\":{\"col_name\":\"Y_1\",\"concept\":\"Case count (Model 1)\",\"unit\":\"Count\",\"description\":\"The number of confirmed cases according to the first model.\",\"dkg_groundings\":[[\"apollosv:00000507\",\"disease transmission model identifier\",\"class\"],[\"iao:0000017\",\"model number\",\"class\"],[\"apollosv:00000561\",\"disease transmission model software\",\"class\"],[\"apollosv:00000294\",\"agent-based disease transmission model\",\"class\"]],\"column_stats\":{\"num_null_entries\":0,\"type\":\"numeric\",\"min\":0.0,\"max\":13.0,\"mean\":1.5,\"std\":1.7931016028297173,\"quantile_25\":0.0,\"quantile_50\":1.0,\"quantile_75\":2.0}},\"Y_2\":{\"col_name\":\"Y_2\",\"concept\":\"Case count (Model 2)\",\"unit\":\"Count\",\"description\":\"The number of confirmed cases according to the second model.\",\"dkg_groundings\":[[\"apollosv:00000507\",\"disease transmission model identifier\",\"class\"],[\"iao:0000017\",\"model number\",\"class\"],[\"apollosv:00000561\",\"disease transmission model software\",\"class\"],[\"apollosv:00000294\",\"agent-based disease transmission model\",\"class\"]],\"column_stats\":{\"num_null_entries\":0,\"type\":\"numeric\",\"min\":0.0,\"max\":10.0,\"mean\":1.1555555555555554,\"std\":1.713708416503968,\"quantile_25\":0.0,\"quantile_50\":0.0,\"quantile_75\":2.0}},\"Y_3\":{\"col_name\":\"Y_3\",\"concept\":\"Case count (Model 3)\",\"unit\":\"Count\",\"description\":\"The number of confirmed cases according to the third model.\",\"dkg_groundings\":[[\"apollosv:00000507\",\"disease transmission model identifier\",\"class\"],[\"iao:0000017\",\"model number\",\"class\"],[\"apollosv:00000561\",\"disease transmission model software\",\"class\"],[\"apollosv:00000294\",\"agent-based disease transmission model\",\"class\"]],\"column_stats\":{\"num_null_entries\":0,\"type\":\"numeric\",\"min\":0.0,\"max\":10.0,\"mean\":1.962962962962963,\"std\":1.9230364340387716,\"quantile_25\":1.0,\"quantile_50\":1.0,\"quantile_75\":3.0}},\"V_1\":{\"col_name\":\"V_1\",\"concept\":\"Viral load (Model 1)\",\"unit\":\"Count\",\"description\":\"The viral load in the wastewater according to the first model.\",\"dkg_groundings\":[[\"apollosv:00000507\",\"disease transmission model identifier\",\"class\"],[\"iao:0000017\",\"model number\",\"class\"],[\"vo:0000156\",\"viral gene\",\"class\"],[\"vido:0001331\",\"viral load\",\"class\"]],\"column_stats\":{\"num_null_entries\":0,\"type\":\"numeric\",\"min\":1002.3180237027808,\"max\":406371.4656460259,\"mean\":99144.7632252408,\"std\":93740.91643752693,\"quantile_25\":22667.889843027777,\"quantile_50\":74545.22882665138,\"quantile_75\":142646.6753042973}},\"V_2\":{\"col_name\":\"V_2\",\"concept\":\"Viral load (Model 2)\",\"unit\":\"Count\",\"description\":\"The viral load in the wastewater according to the second model.\",\"dkg_groundings\":[[\"apollosv:00000507\",\"disease transmission model identifier\",\"class\"],[\"iao:0000017\",\"model number\",\"class\"],[\"vo:0000156\",\"viral gene\",\"class\"],[\"vido:0001331\",\"viral load\",\"class\"]],\"column_stats\":{\"num_null_entries\":0,\"type\":\"numeric\",\"min\":0.0,\"max\":398459.3191052788,\"mean\":72336.3696113207,\"std\":96313.92441935057,\"quantile_25\":10711.966807814451,\"quantile_50\":35411.995339615874,\"quantile_75\":80219.22502508922}},\"V_3\":{\"col_name\":\"V_3\",\"concept\":\"Viral load (Model 3)\",\"unit\":\"Count\",\"description\":\"The viral load in the wastewater according to the third model.\",\"dkg_groundings\":[[\"apollosv:00000507\",\"disease transmission model identifier\",\"class\"],[\"iao:0000017\",\"model number\",\"class\"],[\"vo:0000156\",\"viral gene\",\"class\"],[\"vido:0001331\",\"viral load\",\"class\"]],\"column_stats\":{\"num_null_entries\":0,\"type\":\"numeric\",\"min\":0.0,\"max\":513957.0474296356,\"mean\":132590.61245229366,\"std\":109802.34668196192,\"quantile_25\":64695.0859253356,\"quantile_50\":108511.39565896089,\"quantile_75\":164867.68024359224}},\"Infected\":{\"col_name\":\"Infected\",\"concept\":\"Infected population\",\"unit\":\"Count\",\"description\":\"The number of infected individuals in the population.\",\"dkg_groundings\":[[\"apollosv:00000233\",\"infected population\",\"class\"],[\"cido:0000292\",\"human infected by SARS-CoV-2\",\"class\"],[\"ido:0000511\",\"infected population\",\"class\"],[\"apollosv:00000155\",\"population infection survey\",\"class\"]],\"column_stats\":{\"num_null_entries\":0,\"type\":\"numeric\",\"min\":5.0,\"max\":728.0,\"mean\":181.3537037037037,\"std\":166.84490838993227,\"quantile_25\":93.0,\"quantile_50\":127.0,\"quantile_75\":194.0}},\"Y\":{\"col_name\":\"Y\",\"concept\":\"Total case count\",\"unit\":\"Count\",\"description\":\"The total number of confirmed cases.\",\"dkg_groundings\":[[\"apollosv:00000569\",\"total disease cases\",\"class\"],[\"apollosv:00000568\",\"total fatal disease cases\",\"class\"],[\"cemo:total_number_of_cases_removed_from_isolation\",\"total number of cases removed from isolation\",\"class\"],[\"oae:0001658\",\"protein total increased AE\",\"class\"]],\"column_stats\":{\"num_null_entries\":0,\"type\":\"numeric\",\"min\":0.0,\"max\":24.0,\"mean\":4.618518518518519,\"std\":4.375979045463479,\"quantile_25\":2.0,\"quantile_50\":3.0,\"quantile_75\":6.0}},\"V\":{\"col_name\":\"V\",\"concept\":\"Total viral load\",\"unit\":\"Count\",\"description\":\"The total viral load in the wastewater.\",\"dkg_groundings\":[[\"oae:0001658\",\"protein total increased AE\",\"class\"],[\"oae:0001659\",\"protein total decreased AE\",\"class\"],[\"vo:0000156\",\"viral gene\",\"class\"],[\"vido:0001331\",\"viral load\",\"class\"]],\"column_stats\":{\"num_null_entries\":0,\"type\":\"numeric\",\"min\":2032.6239080010116,\"max\":404785.44328658737,\"mean\":94945.09441078735,\"std\":87761.06214864712,\"quantile_25\":45637.861836625896,\"quantile_50\":66436.08220887893,\"quantile_75\":102594.28449145911}},\"logV\":{\"col_name\":\"logV\",\"concept\":\"Logarithm of total viral load\",\"unit\":\"Logarithm (base e)\",\"description\":\"The natural logarithm of the total viral load in the wastewater.\",\"dkg_groundings\":[[\"vido:0001331\",\"viral load\",\"class\"],[\"oae:0001658\",\"protein total increased AE\",\"class\"],[\"vsmo:0000051\",\"viral load of arthropod\",\"class\"],[\"oae:0001659\",\"protein total decreased AE\",\"class\"]],\"column_stats\":{\"num_null_entries\":0,\"type\":\"numeric\",\"min\":7.617082802909907,\"max\":12.9111124360484,\"mean\":11.064899833546166,\"std\":0.9704131476024136,\"quantile_25\":10.728492713353576,\"quantile_50\":11.103994827924955,\"quantile_75\":11.538537492141966}}},\"EXAMPLES\":{\"dates\":\"2020-04-21\",\"VAX_count\":0.0,\"day\":42.0,\"sdm\":0.086,\"events\":0.0,\"I_1\":23.0,\"I_2\":8.0,\"I_3\":99.0,\"Y_1\":0.0,\"Y_2\":0.0,\"Y_3\":1.0,\"V_1\":44331.89120898135,\"V_2\":12970.073589882455,\"V_3\":155174.14190413652,\"Infected\":130.0,\"Y\":1.0,\"V\":64848.91949791182,\"logV\":11.079815528046984}}\n"
     ]
    }
   ],
   "source": [
    "# Tabular example\n",
    "csv_name = \"../../mitaskem/resources/dataset/ensemble/abm.csv\"\n",
    "doc_name = \"../../mitaskem/resources/dataset/ensemble/abm_doc.txt\"\n",
    "\n",
    "with open(csv_name, 'rb') as f_csv, open(doc_name,  'rb') as f_doc:\n",
    "    files = {'csv_file': ('filename', f_csv), 'doc_file': ('filename', f_doc)}\n",
    "    params = {\"gpt_key\": GPT_KEY}\n",
    "    response = requests.post(API_ROOT + \"cards/get_data_card/\",  params=params,  files=files)\n",
    "    json_str = response.text\n",
    "print(json_str)\n",
    "#ast.literal_eval(json_str)\n",
    "\n"
   ]
  },
  {
   "cell_type": "code",
   "execution_count": 4,
   "id": "4b3b81e8",
   "metadata": {},
   "outputs": [
    {
     "data": {
      "text/html": [
       "<div>\n",
       "                <iframe\n",
       "                    id=\"jsonviewer_Hjykhcsp\">\n",
       "                </iframe>\n",
       "                <script>\n",
       "                    function init (){\n",
       "                        console.log('within iframe script')\n",
       "\n",
       "                        document.getElementById(\"jsonviewer_Hjykhcsp\").onload = () => {\n",
       "                            console.log('loaded iframe')\n",
       "                            let iframe = document.getElementById(\"jsonviewer_Hjykhcsp\")\n",
       "                            var iframeWindow = document.getElementById(\"jsonviewer_Hjykhcsp\").contentWindow;\n",
       "                            iframe.style.width = \"100%\";\n",
       "                            iframe.style.height = \"630px\";\n",
       "                            let data = {\"json_str\": \"{\\n  \\\"DESCRIPTION\\\": \\\"A Simple SEIR model for wastewater-based epidemiological modeling of COVID-19 outbreak.\\\",\\n  \\\"AUTHOR_NAME\\\": \\\"Mehrdad Fazli, Samuel Sklar, Michael D Porter, Brent A French, Heman Shakeri\\\",\\n  \\\"AUTHOR_EMAIL\\\": \\\"UNKNOWN\\\",\\n  \\\"DATE\\\": \\\"2021\\\",\\n  \\\"PROVENANCE\\\": \\\"The data was collected through wastewater surveillance as a continuous pooled sampling technique.\\\",\\n  \\\"SENSITIVITY\\\": \\\"UNKNOWN\\\",\\n  \\\"LICENSE\\\": \\\"UNKNOWN\\\",\\n  \\\"DATASET_TYPE\\\": \\\"tabular\\\",\\n  \\\"SCHEMA\\\": [\\n    \\\"dates\\\",\\n    \\\"VAX_count\\\",\\n    \\\"day\\\",\\n    \\\"sdm\\\",\\n    \\\"events\\\",\\n    \\\"I_1\\\",\\n    \\\"I_2\\\",\\n    \\\"I_3\\\",\\n    \\\"Y_1\\\",\\n    \\\"Y_2\\\",\\n    \\\"Y_3\\\",\\n    \\\"V_1\\\",\\n    \\\"V_2\\\",\\n    \\\"V_3\\\",\\n    \\\"Infected\\\",\\n    \\\"Y\\\",\\n    \\\"V\\\",\\n    \\\"logV\\\"\\n  ],\\n  \\\"DATA_PROFILING_RESULT\\\": {\\n    \\\"dates\\\": {\\n      \\\"col_name\\\": \\\"dates\\\",\\n      \\\"concept\\\": \\\"Date of data collection\\\",\\n      \\\"unit\\\": \\\"Date\\\",\\n      \\\"description\\\": \\\"The date when the data was collected.\\\",\\n      \\\"dkg_groundings\\\": [\\n        [\\n          \\\"dc:date\\\",\\n          \\\"Date\\\",\\n          \\\"property\\\"\\n        ],\\n        [\\n          \\\"oboinowl:date\\\",\\n          \\\"date\\\",\\n          \\\"property\\\"\\n        ],\\n        [\\n          \\\"opmi:0000488\\\",\\n          \\\"visit end date\\\",\\n          \\\"class\\\"\\n        ],\\n        [\\n          \\\"obib:0000714\\\",\\n          \\\"date of specimen collection\\\",\\n          \\\"class\\\"\\n        ]\\n      ],\\n      \\\"column_stats\\\": {\\n        \\\"num_null_entries\\\": 0,\\n        \\\"type\\\": \\\"date\\\",\\n        \\\"num_unique_entries\\\": 540,\\n        \\\"most_common_entries\\\": {\\n          \\\"2020-03-10T00:00:00\\\": 1,\\n          \\\"2021-02-28T00:00:00\\\": 1,\\n          \\\"2021-03-14T00:00:00\\\": 1,\\n          \\\"2021-03-13T00:00:00\\\": 1,\\n          \\\"2021-03-12T00:00:00\\\": 1,\\n          \\\"2021-03-11T00:00:00\\\": 1,\\n          \\\"2021-03-10T00:00:00\\\": 1,\\n          \\\"2021-03-09T00:00:00\\\": 1,\\n          \\\"2021-03-08T00:00:00\\\": 1,\\n          \\\"2021-03-07T00:00:00\\\": 1\\n        },\\n        \\\"earliest\\\": \\\"2020-03-10T00:00:00\\\",\\n        \\\"latest\\\": \\\"2021-08-31T00:00:00\\\"\\n      }\\n    },\\n    \\\"VAX_count\\\": {\\n      \\\"col_name\\\": \\\"VAX_count\\\",\\n      \\\"concept\\\": \\\"Vaccination count\\\",\\n      \\\"unit\\\": \\\"Count\\\",\\n      \\\"description\\\": \\\"The number of vaccinations administered on the given date.\\\",\\n      \\\"dkg_groundings\\\": [\\n        [\\n          \\\"oboinowl:date\\\",\\n          \\\"date\\\",\\n          \\\"property\\\"\\n        ],\\n        [\\n          \\\"dc:date\\\",\\n          \\\"Date\\\",\\n          \\\"property\\\"\\n        ],\\n        [\\n          \\\"apollosv:00000047\\\",\\n          \\\"vaccination administration capacity\\\",\\n          \\\"class\\\"\\n        ],\\n        [\\n          \\\"opmi:0000529\\\",\\n          \\\"condition end date\\\",\\n          \\\"class\\\"\\n        ]\\n      ],\\n      \\\"column_stats\\\": {\\n        \\\"num_null_entries\\\": 0,\\n        \\\"type\\\": \\\"numeric\\\",\\n        \\\"min\\\": 0.0,\\n        \\\"max\\\": 587.0,\\n        \\\"mean\\\": 44.56481481481482,\\n        \\\"std\\\": 91.57703785200043,\\n        \\\"quantile_25\\\": 0.0,\\n        \\\"quantile_50\\\": 0.0,\\n        \\\"quantile_75\\\": 45.25\\n      }\\n    },\\n    \\\"day\\\": {\\n      \\\"col_name\\\": \\\"day\\\",\\n      \\\"concept\\\": \\\"Day of the year\\\",\\n      \\\"unit\\\": \\\"Count\\\",\\n      \\\"description\\\": \\\"The day of the year corresponding to the date of data collection.\\\",\\n      \\\"dkg_groundings\\\": [\\n        [\\n          \\\"opmi:0000091\\\",\\n          \\\"day of birth\\\",\\n          \\\"class\\\"\\n        ],\\n        [\\n          \\\"wikidata:Q102129592\\\",\\n          \\\"reciprocal_day\\\",\\n          \\\"class\\\"\\n        ],\\n        [\\n          \\\"idomal:0000478\\\",\\n          \\\"1 day after blood meal\\\",\\n          \\\"class\\\"\\n        ],\\n        [\\n          \\\"opmi:0000473\\\",\\n          \\\"year of birth\\\",\\n          \\\"class\\\"\\n        ]\\n      ],\\n      \\\"column_stats\\\": {\\n        \\\"num_null_entries\\\": 0,\\n        \\\"type\\\": \\\"numeric\\\",\\n        \\\"min\\\": 0.0,\\n        \\\"max\\\": 539.0,\\n        \\\"mean\\\": 269.5,\\n        \\\"std\\\": 156.02884348735012,\\n        \\\"quantile_25\\\": 134.75,\\n        \\\"quantile_50\\\": 269.5,\\n        \\\"quantile_75\\\": 404.25\\n      }\\n    },\\n    \\\"sdm\\\": {\\n      \\\"col_name\\\": \\\"sdm\\\",\\n      \\\"concept\\\": \\\"Social Distancing Measure\\\",\\n      \\\"unit\\\": \\\"Proportion\\\",\\n      \\\"description\\\": \\\"The level of social distancing measures in place, represented as a proportion from 0 to 1.\\\",\\n      \\\"dkg_groundings\\\": [\\n        [\\n          \\\"ncit:C173636\\\",\\n          \\\"Social Distancing\\\",\\n          \\\"class\\\"\\n        ],\\n        [\\n          \\\"apollosv:00000620\\\",\\n          \\\"physical distancing infectious disease control measure\\\",\\n          \\\"class\\\"\\n        ],\\n        [\\n          \\\"hp:5200021\\\",\\n          \\\"Reduced social insight\\\",\\n          \\\"class\\\"\\n        ],\\n        [\\n          \\\"hp:0012433\\\",\\n          \\\"Abnormal social behavior\\\",\\n          \\\"class\\\"\\n        ]\\n      ],\\n      \\\"column_stats\\\": {\\n        \\\"num_null_entries\\\": 0,\\n        \\\"type\\\": \\\"numeric\\\",\\n        \\\"min\\\": 0.04,\\n        \\\"max\\\": 1.0,\\n        \\\"mean\\\": 0.33188518518518517,\\n        \\\"std\\\": 0.33411446629713515,\\n        \\\"quantile_25\\\": 0.089,\\n        \\\"quantile_50\\\": 0.12,\\n        \\\"quantile_75\\\": 0.6\\n      }\\n    },\\n    \\\"events\\\": {\\n      \\\"col_name\\\": \\\"events\\\",\\n      \\\"concept\\\": \\\"Events\\\",\\n      \\\"unit\\\": \\\"Proportion\\\",\\n      \\\"description\\\": \\\"The level of events or gatherings happening, represented as a proportion from 0 to 1.\\\",\\n      \\\"dkg_groundings\\\": [\\n        [\\n          \\\"cemo:number_of_cases_with_exposure_events\\\",\\n          \\\"number of cases with exposure events\\\",\\n          \\\"class\\\"\\n        ],\\n        [\\n          \\\"cemo:number_of_schools_with_exposure_events\\\",\\n          \\\"number of schools with exposure events\\\",\\n          \\\"class\\\"\\n        ],\\n        [\\n          \\\"go:0030168\\\",\\n          \\\"platelet activation\\\",\\n          \\\"class\\\"\\n        ],\\n        [\\n          \\\"cemo:number_of_cases_with_school_exposure_events\\\",\\n          \\\"number of cases with school exposure events\\\",\\n          \\\"class\\\"\\n        ]\\n      ],\\n      \\\"column_stats\\\": {\\n        \\\"num_null_entries\\\": 0,\\n        \\\"type\\\": \\\"numeric\\\",\\n        \\\"min\\\": 0.0,\\n        \\\"max\\\": 0.8,\\n        \\\"mean\\\": 0.12259259259259257,\\n        \\\"std\\\": 0.16684550289840552,\\n        \\\"quantile_25\\\": 0.1,\\n        \\\"quantile_50\\\": 0.1,\\n        \\\"quantile_75\\\": 0.1\\n      }\\n    },\\n    \\\"I_1\\\": {\\n      \\\"col_name\\\": \\\"I_1\\\",\\n      \\\"concept\\\": \\\"Infectious population (Model 1)\\\",\\n      \\\"unit\\\": \\\"Count\\\",\\n      \\\"description\\\": \\\"The number of infectious individuals in the population according to the first model.\\\",\\n      \\\"dkg_groundings\\\": [\\n        [\\n          \\\"idomal:0000352\\\",\\n          \\\"herd immunity to infectious organism\\\",\\n          \\\"class\\\"\\n        ],\\n        [\\n          \\\"ido:0000447\\\",\\n          \\\"herd immunity to infectious organism\\\",\\n          \\\"class\\\"\\n        ],\\n        [\\n          \\\"apollosv:00000548\\\",\\n          \\\"Susceptible-Infected-Susceptible model\\\",\\n          \\\"class\\\"\\n        ],\\n        [\\n          \\\"apollosv:00000507\\\",\\n          \\\"disease transmission model identifier\\\",\\n          \\\"class\\\"\\n        ]\\n      ],\\n      \\\"column_stats\\\": {\\n        \\\"num_null_entries\\\": 0,\\n        \\\"type\\\": \\\"numeric\\\",\\n        \\\"min\\\": 1.0,\\n        \\\"max\\\": 221.0,\\n        \\\"mean\\\": 58.92037037037037,\\n        \\\"std\\\": 54.643719981744255,\\n        \\\"quantile_25\\\": 14.0,\\n        \\\"quantile_50\\\": 48.0,\\n        \\\"quantile_75\\\": 83.25\\n      }\\n    },\\n    \\\"I_2\\\": {\\n      \\\"col_name\\\": \\\"I_2\\\",\\n      \\\"concept\\\": \\\"Infectious population (Model 2)\\\",\\n      \\\"unit\\\": \\\"Count\\\",\\n      \\\"description\\\": \\\"The number of infectious individuals in the population according to the second model.\\\",\\n      \\\"dkg_groundings\\\": [\\n        [\\n          \\\"idomal:0000352\\\",\\n          \\\"herd immunity to infectious organism\\\",\\n          \\\"class\\\"\\n        ],\\n        [\\n          \\\"ido:0000447\\\",\\n          \\\"herd immunity to infectious organism\\\",\\n          \\\"class\\\"\\n        ],\\n        [\\n          \\\"apollosv:00000548\\\",\\n          \\\"Susceptible-Infected-Susceptible model\\\",\\n          \\\"class\\\"\\n        ],\\n        [\\n          \\\"apollosv:00000507\\\",\\n          \\\"disease transmission model identifier\\\",\\n          \\\"class\\\"\\n        ]\\n      ],\\n      \\\"column_stats\\\": {\\n        \\\"num_null_entries\\\": 0,\\n        \\\"type\\\": \\\"numeric\\\",\\n        \\\"min\\\": 0.0,\\n        \\\"max\\\": 229.0,\\n        \\\"mean\\\": 43.25925925925926,\\n        \\\"std\\\": 57.52591903856349,\\n        \\\"quantile_25\\\": 7.0,\\n        \\\"quantile_50\\\": 21.0,\\n        \\\"quantile_75\\\": 47.25\\n      }\\n    },\\n    \\\"I_3\\\": {\\n      \\\"col_name\\\": \\\"I_3\\\",\\n      \\\"concept\\\": \\\"Infectious population (Model 3)\\\",\\n      \\\"unit\\\": \\\"Count\\\",\\n      \\\"description\\\": \\\"The number of infectious individuals in the population according to the third model.\\\",\\n      \\\"dkg_groundings\\\": [\\n        [\\n          \\\"idomal:0000352\\\",\\n          \\\"herd immunity to infectious organism\\\",\\n          \\\"class\\\"\\n        ],\\n        [\\n          \\\"ido:0000447\\\",\\n          \\\"herd immunity to infectious organism\\\",\\n          \\\"class\\\"\\n        ],\\n        [\\n          \\\"apollosv:00000548\\\",\\n          \\\"Susceptible-Infected-Susceptible model\\\",\\n          \\\"class\\\"\\n        ],\\n        [\\n          \\\"apollosv:00000507\\\",\\n          \\\"disease transmission model identifier\\\",\\n          \\\"class\\\"\\n        ]\\n      ],\\n      \\\"column_stats\\\": {\\n        \\\"num_null_entries\\\": 0,\\n        \\\"type\\\": \\\"numeric\\\",\\n        \\\"min\\\": 0.0,\\n        \\\"max\\\": 291.0,\\n        \\\"mean\\\": 79.17407407407407,\\n        \\\"std\\\": 64.41469941710787,\\n        \\\"quantile_25\\\": 39.0,\\n        \\\"quantile_50\\\": 64.0,\\n        \\\"quantile_75\\\": 97.0\\n      }\\n    },\\n    \\\"Y_1\\\": {\\n      \\\"col_name\\\": \\\"Y_1\\\",\\n      \\\"concept\\\": \\\"Case count (Model 1)\\\",\\n      \\\"unit\\\": \\\"Count\\\",\\n      \\\"description\\\": \\\"The number of confirmed cases according to the first model.\\\",\\n      \\\"dkg_groundings\\\": [\\n        [\\n          \\\"apollosv:00000507\\\",\\n          \\\"disease transmission model identifier\\\",\\n          \\\"class\\\"\\n        ],\\n        [\\n          \\\"iao:0000017\\\",\\n          \\\"model number\\\",\\n          \\\"class\\\"\\n        ],\\n        [\\n          \\\"apollosv:00000561\\\",\\n          \\\"disease transmission model software\\\",\\n          \\\"class\\\"\\n        ],\\n        [\\n          \\\"apollosv:00000294\\\",\\n          \\\"agent-based disease transmission model\\\",\\n          \\\"class\\\"\\n        ]\\n      ],\\n      \\\"column_stats\\\": {\\n        \\\"num_null_entries\\\": 0,\\n        \\\"type\\\": \\\"numeric\\\",\\n        \\\"min\\\": 0.0,\\n        \\\"max\\\": 13.0,\\n        \\\"mean\\\": 1.5,\\n        \\\"std\\\": 1.7931016028297173,\\n        \\\"quantile_25\\\": 0.0,\\n        \\\"quantile_50\\\": 1.0,\\n        \\\"quantile_75\\\": 2.0\\n      }\\n    },\\n    \\\"Y_2\\\": {\\n      \\\"col_name\\\": \\\"Y_2\\\",\\n      \\\"concept\\\": \\\"Case count (Model 2)\\\",\\n      \\\"unit\\\": \\\"Count\\\",\\n      \\\"description\\\": \\\"The number of confirmed cases according to the second model.\\\",\\n      \\\"dkg_groundings\\\": [\\n        [\\n          \\\"apollosv:00000507\\\",\\n          \\\"disease transmission model identifier\\\",\\n          \\\"class\\\"\\n        ],\\n        [\\n          \\\"iao:0000017\\\",\\n          \\\"model number\\\",\\n          \\\"class\\\"\\n        ],\\n        [\\n          \\\"apollosv:00000561\\\",\\n          \\\"disease transmission model software\\\",\\n          \\\"class\\\"\\n        ],\\n        [\\n          \\\"apollosv:00000294\\\",\\n          \\\"agent-based disease transmission model\\\",\\n          \\\"class\\\"\\n        ]\\n      ],\\n      \\\"column_stats\\\": {\\n        \\\"num_null_entries\\\": 0,\\n        \\\"type\\\": \\\"numeric\\\",\\n        \\\"min\\\": 0.0,\\n        \\\"max\\\": 10.0,\\n        \\\"mean\\\": 1.1555555555555554,\\n        \\\"std\\\": 1.713708416503968,\\n        \\\"quantile_25\\\": 0.0,\\n        \\\"quantile_50\\\": 0.0,\\n        \\\"quantile_75\\\": 2.0\\n      }\\n    },\\n    \\\"Y_3\\\": {\\n      \\\"col_name\\\": \\\"Y_3\\\",\\n      \\\"concept\\\": \\\"Case count (Model 3)\\\",\\n      \\\"unit\\\": \\\"Count\\\",\\n      \\\"description\\\": \\\"The number of confirmed cases according to the third model.\\\",\\n      \\\"dkg_groundings\\\": [\\n        [\\n          \\\"apollosv:00000507\\\",\\n          \\\"disease transmission model identifier\\\",\\n          \\\"class\\\"\\n        ],\\n        [\\n          \\\"iao:0000017\\\",\\n          \\\"model number\\\",\\n          \\\"class\\\"\\n        ],\\n        [\\n          \\\"apollosv:00000561\\\",\\n          \\\"disease transmission model software\\\",\\n          \\\"class\\\"\\n        ],\\n        [\\n          \\\"apollosv:00000294\\\",\\n          \\\"agent-based disease transmission model\\\",\\n          \\\"class\\\"\\n        ]\\n      ],\\n      \\\"column_stats\\\": {\\n        \\\"num_null_entries\\\": 0,\\n        \\\"type\\\": \\\"numeric\\\",\\n        \\\"min\\\": 0.0,\\n        \\\"max\\\": 10.0,\\n        \\\"mean\\\": 1.962962962962963,\\n        \\\"std\\\": 1.9230364340387716,\\n        \\\"quantile_25\\\": 1.0,\\n        \\\"quantile_50\\\": 1.0,\\n        \\\"quantile_75\\\": 3.0\\n      }\\n    },\\n    \\\"V_1\\\": {\\n      \\\"col_name\\\": \\\"V_1\\\",\\n      \\\"concept\\\": \\\"Viral load (Model 1)\\\",\\n      \\\"unit\\\": \\\"Count\\\",\\n      \\\"description\\\": \\\"The viral load in the wastewater according to the first model.\\\",\\n      \\\"dkg_groundings\\\": [\\n        [\\n          \\\"apollosv:00000507\\\",\\n          \\\"disease transmission model identifier\\\",\\n          \\\"class\\\"\\n        ],\\n        [\\n          \\\"iao:0000017\\\",\\n          \\\"model number\\\",\\n          \\\"class\\\"\\n        ],\\n        [\\n          \\\"vo:0000156\\\",\\n          \\\"viral gene\\\",\\n          \\\"class\\\"\\n        ],\\n        [\\n          \\\"vido:0001331\\\",\\n          \\\"viral load\\\",\\n          \\\"class\\\"\\n        ]\\n      ],\\n      \\\"column_stats\\\": {\\n        \\\"num_null_entries\\\": 0,\\n        \\\"type\\\": \\\"numeric\\\",\\n        \\\"min\\\": 1002.3180237027808,\\n        \\\"max\\\": 406371.4656460259,\\n        \\\"mean\\\": 99144.7632252408,\\n        \\\"std\\\": 93740.91643752693,\\n        \\\"quantile_25\\\": 22667.889843027777,\\n        \\\"quantile_50\\\": 74545.22882665138,\\n        \\\"quantile_75\\\": 142646.6753042973\\n      }\\n    },\\n    \\\"V_2\\\": {\\n      \\\"col_name\\\": \\\"V_2\\\",\\n      \\\"concept\\\": \\\"Viral load (Model 2)\\\",\\n      \\\"unit\\\": \\\"Count\\\",\\n      \\\"description\\\": \\\"The viral load in the wastewater according to the second model.\\\",\\n      \\\"dkg_groundings\\\": [\\n        [\\n          \\\"apollosv:00000507\\\",\\n          \\\"disease transmission model identifier\\\",\\n          \\\"class\\\"\\n        ],\\n        [\\n          \\\"iao:0000017\\\",\\n          \\\"model number\\\",\\n          \\\"class\\\"\\n        ],\\n        [\\n          \\\"vo:0000156\\\",\\n          \\\"viral gene\\\",\\n          \\\"class\\\"\\n        ],\\n        [\\n          \\\"vido:0001331\\\",\\n          \\\"viral load\\\",\\n          \\\"class\\\"\\n        ]\\n      ],\\n      \\\"column_stats\\\": {\\n        \\\"num_null_entries\\\": 0,\\n        \\\"type\\\": \\\"numeric\\\",\\n        \\\"min\\\": 0.0,\\n        \\\"max\\\": 398459.3191052788,\\n        \\\"mean\\\": 72336.3696113207,\\n        \\\"std\\\": 96313.92441935057,\\n        \\\"quantile_25\\\": 10711.966807814451,\\n        \\\"quantile_50\\\": 35411.995339615874,\\n        \\\"quantile_75\\\": 80219.22502508922\\n      }\\n    },\\n    \\\"V_3\\\": {\\n      \\\"col_name\\\": \\\"V_3\\\",\\n      \\\"concept\\\": \\\"Viral load (Model 3)\\\",\\n      \\\"unit\\\": \\\"Count\\\",\\n      \\\"description\\\": \\\"The viral load in the wastewater according to the third model.\\\",\\n      \\\"dkg_groundings\\\": [\\n        [\\n          \\\"apollosv:00000507\\\",\\n          \\\"disease transmission model identifier\\\",\\n          \\\"class\\\"\\n        ],\\n        [\\n          \\\"iao:0000017\\\",\\n          \\\"model number\\\",\\n          \\\"class\\\"\\n        ],\\n        [\\n          \\\"vo:0000156\\\",\\n          \\\"viral gene\\\",\\n          \\\"class\\\"\\n        ],\\n        [\\n          \\\"vido:0001331\\\",\\n          \\\"viral load\\\",\\n          \\\"class\\\"\\n        ]\\n      ],\\n      \\\"column_stats\\\": {\\n        \\\"num_null_entries\\\": 0,\\n        \\\"type\\\": \\\"numeric\\\",\\n        \\\"min\\\": 0.0,\\n        \\\"max\\\": 513957.0474296356,\\n        \\\"mean\\\": 132590.61245229366,\\n        \\\"std\\\": 109802.34668196192,\\n        \\\"quantile_25\\\": 64695.0859253356,\\n        \\\"quantile_50\\\": 108511.39565896089,\\n        \\\"quantile_75\\\": 164867.68024359224\\n      }\\n    },\\n    \\\"Infected\\\": {\\n      \\\"col_name\\\": \\\"Infected\\\",\\n      \\\"concept\\\": \\\"Infected population\\\",\\n      \\\"unit\\\": \\\"Count\\\",\\n      \\\"description\\\": \\\"The number of infected individuals in the population.\\\",\\n      \\\"dkg_groundings\\\": [\\n        [\\n          \\\"apollosv:00000233\\\",\\n          \\\"infected population\\\",\\n          \\\"class\\\"\\n        ],\\n        [\\n          \\\"cido:0000292\\\",\\n          \\\"human infected by SARS-CoV-2\\\",\\n          \\\"class\\\"\\n        ],\\n        [\\n          \\\"ido:0000511\\\",\\n          \\\"infected population\\\",\\n          \\\"class\\\"\\n        ],\\n        [\\n          \\\"apollosv:00000155\\\",\\n          \\\"population infection survey\\\",\\n          \\\"class\\\"\\n        ]\\n      ],\\n      \\\"column_stats\\\": {\\n        \\\"num_null_entries\\\": 0,\\n        \\\"type\\\": \\\"numeric\\\",\\n        \\\"min\\\": 5.0,\\n        \\\"max\\\": 728.0,\\n        \\\"mean\\\": 181.3537037037037,\\n        \\\"std\\\": 166.84490838993227,\\n        \\\"quantile_25\\\": 93.0,\\n        \\\"quantile_50\\\": 127.0,\\n        \\\"quantile_75\\\": 194.0\\n      }\\n    },\\n    \\\"Y\\\": {\\n      \\\"col_name\\\": \\\"Y\\\",\\n      \\\"concept\\\": \\\"Total case count\\\",\\n      \\\"unit\\\": \\\"Count\\\",\\n      \\\"description\\\": \\\"The total number of confirmed cases.\\\",\\n      \\\"dkg_groundings\\\": [\\n        [\\n          \\\"apollosv:00000569\\\",\\n          \\\"total disease cases\\\",\\n          \\\"class\\\"\\n        ],\\n        [\\n          \\\"apollosv:00000568\\\",\\n          \\\"total fatal disease cases\\\",\\n          \\\"class\\\"\\n        ],\\n        [\\n          \\\"cemo:total_number_of_cases_removed_from_isolation\\\",\\n          \\\"total number of cases removed from isolation\\\",\\n          \\\"class\\\"\\n        ],\\n        [\\n          \\\"oae:0001658\\\",\\n          \\\"protein total increased AE\\\",\\n          \\\"class\\\"\\n        ]\\n      ],\\n      \\\"column_stats\\\": {\\n        \\\"num_null_entries\\\": 0,\\n        \\\"type\\\": \\\"numeric\\\",\\n        \\\"min\\\": 0.0,\\n        \\\"max\\\": 24.0,\\n        \\\"mean\\\": 4.618518518518519,\\n        \\\"std\\\": 4.375979045463479,\\n        \\\"quantile_25\\\": 2.0,\\n        \\\"quantile_50\\\": 3.0,\\n        \\\"quantile_75\\\": 6.0\\n      }\\n    },\\n    \\\"V\\\": {\\n      \\\"col_name\\\": \\\"V\\\",\\n      \\\"concept\\\": \\\"Total viral load\\\",\\n      \\\"unit\\\": \\\"Count\\\",\\n      \\\"description\\\": \\\"The total viral load in the wastewater.\\\",\\n      \\\"dkg_groundings\\\": [\\n        [\\n          \\\"oae:0001658\\\",\\n          \\\"protein total increased AE\\\",\\n          \\\"class\\\"\\n        ],\\n        [\\n          \\\"oae:0001659\\\",\\n          \\\"protein total decreased AE\\\",\\n          \\\"class\\\"\\n        ],\\n        [\\n          \\\"vo:0000156\\\",\\n          \\\"viral gene\\\",\\n          \\\"class\\\"\\n        ],\\n        [\\n          \\\"vido:0001331\\\",\\n          \\\"viral load\\\",\\n          \\\"class\\\"\\n        ]\\n      ],\\n      \\\"column_stats\\\": {\\n        \\\"num_null_entries\\\": 0,\\n        \\\"type\\\": \\\"numeric\\\",\\n        \\\"min\\\": 2032.6239080010116,\\n        \\\"max\\\": 404785.44328658737,\\n        \\\"mean\\\": 94945.09441078735,\\n        \\\"std\\\": 87761.06214864712,\\n        \\\"quantile_25\\\": 45637.861836625896,\\n        \\\"quantile_50\\\": 66436.08220887893,\\n        \\\"quantile_75\\\": 102594.28449145911\\n      }\\n    },\\n    \\\"logV\\\": {\\n      \\\"col_name\\\": \\\"logV\\\",\\n      \\\"concept\\\": \\\"Logarithm of total viral load\\\",\\n      \\\"unit\\\": \\\"Logarithm (base e)\\\",\\n      \\\"description\\\": \\\"The natural logarithm of the total viral load in the wastewater.\\\",\\n      \\\"dkg_groundings\\\": [\\n        [\\n          \\\"vido:0001331\\\",\\n          \\\"viral load\\\",\\n          \\\"class\\\"\\n        ],\\n        [\\n          \\\"oae:0001658\\\",\\n          \\\"protein total increased AE\\\",\\n          \\\"class\\\"\\n        ],\\n        [\\n          \\\"vsmo:0000051\\\",\\n          \\\"viral load of arthropod\\\",\\n          \\\"class\\\"\\n        ],\\n        [\\n          \\\"oae:0001659\\\",\\n          \\\"protein total decreased AE\\\",\\n          \\\"class\\\"\\n        ]\\n      ],\\n      \\\"column_stats\\\": {\\n        \\\"num_null_entries\\\": 0,\\n        \\\"type\\\": \\\"numeric\\\",\\n        \\\"min\\\": 7.617082802909907,\\n        \\\"max\\\": 12.9111124360484,\\n        \\\"mean\\\": 11.064899833546166,\\n        \\\"std\\\": 0.9704131476024136,\\n        \\\"quantile_25\\\": 10.728492713353576,\\n        \\\"quantile_50\\\": 11.103994827924955,\\n        \\\"quantile_75\\\": 11.538537492141966\\n      }\\n    }\\n  },\\n  \\\"EXAMPLES\\\": {\\n    \\\"dates\\\": \\\"2020-04-21\\\",\\n    \\\"VAX_count\\\": 0.0,\\n    \\\"day\\\": 42.0,\\n    \\\"sdm\\\": 0.086,\\n    \\\"events\\\": 0.0,\\n    \\\"I_1\\\": 23.0,\\n    \\\"I_2\\\": 8.0,\\n    \\\"I_3\\\": 99.0,\\n    \\\"Y_1\\\": 0.0,\\n    \\\"Y_2\\\": 0.0,\\n    \\\"Y_3\\\": 1.0,\\n    \\\"V_1\\\": 44331.89120898135,\\n    \\\"V_2\\\": 12970.073589882455,\\n    \\\"V_3\\\": 155174.14190413652,\\n    \\\"Infected\\\": 130.0,\\n    \\\"Y\\\": 1.0,\\n    \\\"V\\\": 64848.91949791182,\\n    \\\"logV\\\": 11.079815528046984\\n  }\\n}\", \"width\": \"100%\", \"height\": \"600px\"}\n",
       "                    \n",
       "                            // postMessage to send the data to the iframe\n",
       "                            console.log('sender', window.location.origin)\n",
       "                            \n",
       "                            iframeWindow.postMessage(data,'*');\n",
       "                        };\n",
       "\n",
       "                            console.log('setting iframe content.')\n",
       "                            let viewer_html = atob(\"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\");\n",
       "                            let iframe = document.getElementById(\"jsonviewer_Hjykhcsp\");\n",
       "                            let iframeDocument = iframe.contentDocument || iframe.contentWindow.document;\n",
       "\n",
       "                            iframeDocument.open();\n",
       "                            iframeDocument.write(viewer_html);\n",
       "                            iframeDocument.close();\n",
       "                        }\n",
       "                    init();\n",
       "                </script>\n",
       "            </div>\n",
       "            "
      ],
      "text/plain": [
       "<IPython.core.display.HTML object>"
      ]
     },
     "execution_count": 4,
     "metadata": {},
     "output_type": "execute_result"
    }
   ],
   "source": [
    "display_json(json_str)"
   ]
  },
  {
   "cell_type": "code",
   "execution_count": 5,
   "id": "fd0c46c3",
   "metadata": {},
   "outputs": [
    {
     "name": "stdout",
     "output_type": "stream",
     "text": [
      "CHANGELOG.md     README.md        \u001b[34mdata\u001b[m\u001b[m\n",
      "LICENSE          \u001b[34manalysis_results\u001b[m\u001b[m requirements.txt\n"
     ]
    }
   ],
   "source": [
    "!ls ~/.cache/mixing-patterns || git clone https://github.com/mobs-lab/mixing-patterns ~/.cache/mixing-patterns"
   ]
  },
  {
   "cell_type": "code",
   "execution_count": 6,
   "id": "f0cb0ce8",
   "metadata": {
    "collapsed": false,
    "jupyter": {
     "outputs_hidden": false
    },
    "pycharm": {
     "name": "#%%\n"
    }
   },
   "outputs": [
    {
     "data": {
      "text/html": [
       "<div>\n",
       "                <iframe\n",
       "                    id=\"jsonviewer_oVApeSxm\">\n",
       "                </iframe>\n",
       "                <script>\n",
       "                    function init (){\n",
       "                        console.log('within iframe script')\n",
       "\n",
       "                        document.getElementById(\"jsonviewer_oVApeSxm\").onload = () => {\n",
       "                            console.log('loaded iframe')\n",
       "                            let iframe = document.getElementById(\"jsonviewer_oVApeSxm\")\n",
       "                            var iframeWindow = document.getElementById(\"jsonviewer_oVApeSxm\").contentWindow;\n",
       "                            iframe.style.width = \"100%\";\n",
       "                            iframe.style.height = \"630px\";\n",
       "                            let data = {\"json_str\": \"{\\n  \\\"DESCRIPTION\\\": \\\"Different locations might include only a single country level matrix or additional subnational matrices as indicated below.\\\",\\n  \\\"AUTHOR_NAME\\\": \\\"UNKNOWN\\\",\\n  \\\"AUTHOR_EMAIL\\\": \\\"UNKNOWN\\\",\\n  \\\"DATE\\\": \\\"UNKNOWN\\\",\\n  \\\"PROVENANCE\\\": \\\"UNKNOWN\\\",\\n  \\\"SENSITIVITY\\\": \\\"UNKNOWN\\\",\\n  \\\"LICENSE\\\": \\\"UNKNOWN\\\",\\n  \\\"DATASET_TYPE\\\": \\\"matrix\\\",\\n  \\\"DATA_PROFILING_RESULT\\\": {\\n    \\\"matrix_stats\\\": {\\n      \\\"num_null_entries\\\": 0,\\n      \\\"type\\\": \\\"numeric\\\",\\n      \\\"min\\\": 0.0492537573404737,\\n      \\\"max\\\": 7.422581547144762,\\n      \\\"mean\\\": 0.6399015998362235,\\n      \\\"std\\\": 0.7700007890649679,\\n      \\\"quantile_25\\\": 0.24465994009854003,\\n      \\\"quantile_50\\\": 0.44931271067347417,\\n      \\\"quantile_75\\\": 0.8522124667881429\\n    }\\n  },\\n  \\\"EXAMPLES\\\": [\\n    0.2067726185452332,\\n    0.2345949961000502,\\n    0.2545016401066247,\\n    0.2912546623943255,\\n    0.3511037057261174,\\n    0.3374892048796228,\\n    0.3352214745820234,\\n    0.3703214540778196,\\n    0.4356668435253348,\\n    0.4510414047701459,\\n    0.4051148691929762,\\n    0.3325153645869824,\\n    0.400698368664108,\\n    0.6476193829088248,\\n    0.8567190870544821,\\n    0.4715826052164029,\\n    0.1619315078743282,\\n    0.1131376715236167\\n  ],\\n  \\\"CELL_INTERPRETATION\\\": \\\"Each contact matrix has dimensions 85x85. For the 4 settings (households, schools, workplaces, and the community) contact matrices, the matrix element F^k_ij represents the per capita probability of contact for an individual of age i with individuals of age j in that setting k. Thus the element F^k_00 is the per capita probability of contact for an individual of age [0, 1) with individuals of age [0, 1), the element F^k_01 is the per capita probability of contact for an individual of age [0, 1) with individuals of age [1, 2), etc. Each row and column refers to a single year of age, except for the last row and column which both refer to ages 84 years old and over.\\\"\\n}\", \"width\": \"100%\", \"height\": \"600px\"}\n",
       "                    \n",
       "                            // postMessage to send the data to the iframe\n",
       "                            console.log('sender', window.location.origin)\n",
       "                            \n",
       "                            iframeWindow.postMessage(data,'*');\n",
       "                        };\n",
       "\n",
       "                            console.log('setting iframe content.')\n",
       "                            let viewer_html = atob(\"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\");\n",
       "                            let iframe = document.getElementById(\"jsonviewer_oVApeSxm\");\n",
       "                            let iframeDocument = iframe.contentDocument || iframe.contentWindow.document;\n",
       "\n",
       "                            iframeDocument.open();\n",
       "                            iframeDocument.write(viewer_html);\n",
       "                            iframeDocument.close();\n",
       "                        }\n",
       "                    init();\n",
       "                </script>\n",
       "            </div>\n",
       "            "
      ],
      "text/plain": [
       "<IPython.core.display.HTML object>"
      ]
     },
     "execution_count": 6,
     "metadata": {},
     "output_type": "execute_result"
    }
   ],
   "source": [
    "# Matrix example - make sure to download the data from https://github.com/mobs-lab/mixing-patterns first\n",
    "csv_name = os.path.expanduser('~/.cache/mixing-patterns/data/contact_matrices/United_States_subnational_New_York_M_overall_contact_matrix_18.csv')\n",
    "doc_name = os.path.expanduser('~/.cache/mixing-patterns/README.md')\n",
    "\n",
    "with open(csv_name, 'rb') as f_csv, open(doc_name,  'rb') as f_doc:\n",
    "    files = {'csv_file': ('filename', f_csv), 'doc_file': ('filename', f_doc)}\n",
    "    params = {\"gpt_key\": GPT_KEY}\n",
    "    response = requests.post(API_ROOT + \"cards/get_data_card/\",  params=params,  files=files)\n",
    "    json_str = response.text\n",
    "\n",
    "display_json(json_str)"
   ]
  },
  {
   "cell_type": "markdown",
   "id": "756df744",
   "metadata": {
    "collapsed": false,
    "jupyter": {
     "outputs_hidden": false
    },
    "pycharm": {
     "name": "#%% md\n"
    }
   },
   "source": [
    "## 2. Get model card"
   ]
  },
  {
   "cell_type": "markdown",
   "id": "5aeab32e",
   "metadata": {
    "collapsed": false,
    "jupyter": {
     "outputs_hidden": false
    },
    "pycharm": {
     "name": "#%% md\n"
    }
   },
   "source": [
    "#### Model cards provide general information about the model.\n",
    "[http://3.83.68.208/#/Data-and-model-cards/get_model_card_cards_get_model_card_post](http://3.83.68.208/#/Data-and-model-cards/get_model_card_cards_get_model_card_post)"
   ]
  },
  {
   "cell_type": "markdown",
   "id": "8ac39918",
   "metadata": {
    "pycharm": {
     "name": "#%% md\n"
    }
   },
   "source": [
    "#### Model cards provide general information about the model.\n",
    "[http://100.26.10.46/#/Data-and-model-cards/get_model_card_cards_get_model_card_post](http://100.26.10.46/#/Data-and-model-cards/get_model_card_cards_get_model_card_post)"
   ]
  },
  {
   "cell_type": "code",
   "execution_count": 7,
   "id": "88718f30",
   "metadata": {
    "execution": {
     "iopub.execute_input": "2023-10-23T21:53:12.708440Z",
     "iopub.status.busy": "2023-10-23T21:53:12.707760Z",
     "iopub.status.idle": "2023-10-23T21:53:21.478830Z",
     "shell.execute_reply": "2023-10-23T21:53:21.478102Z",
     "shell.execute_reply.started": "2023-10-23T21:53:12.708403Z"
    },
    "pycharm": {
     "name": "#%%\n"
    }
   },
   "outputs": [
    {
     "data": {
      "text/html": [
       "<div>\n",
       "                <iframe\n",
       "                    id=\"jsonviewer_kkxHyyqw\">\n",
       "                </iframe>\n",
       "                <script>\n",
       "                    function init (){\n",
       "                        console.log('within iframe script')\n",
       "\n",
       "                        document.getElementById(\"jsonviewer_kkxHyyqw\").onload = () => {\n",
       "                            console.log('loaded iframe')\n",
       "                            let iframe = document.getElementById(\"jsonviewer_kkxHyyqw\")\n",
       "                            var iframeWindow = document.getElementById(\"jsonviewer_kkxHyyqw\").contentWindow;\n",
       "                            iframe.style.width = \"100%\";\n",
       "                            iframe.style.height = \"630px\";\n",
       "                            let data = {\"json_str\": \"{\\n  \\\"DESCRIPTION\\\": \\\"Understanding the dynamics of SARS\\\\u2011CoV\\\\u20112 variants of concern in Ontario, Canada: a modeling study\\\",\\n  \\\"AUTHOR_INST\\\": \\\"University of Waterloo\\\",\\n  \\\"AUTHOR_AUTHOR\\\": \\\"Anita T. Layton, Mehrshad Sadria\\\",\\n  \\\"AUTHOR_EMAIL\\\": \\\"anita.layton@uwaterloo.ca\\\",\\n  \\\"DATE\\\": \\\"UNKNOWN\\\",\\n  \\\"SCHEMA\\\": \\\"UNKNOWN\\\",\\n  \\\"PROVENANCE\\\": \\\"The model was developed and applied to better understand the spread of multiple variants of concern (VOC) of SARS-CoV-2 in Ontario, Canada.\\\",\\n  \\\"DATASET\\\": \\\"UNKNOWN\\\",\\n  \\\"COMPLEXITY\\\": \\\"The complexity of the model is not specified.\\\",\\n  \\\"USAGE\\\": \\\"The model should be used to assess the effectiveness of vaccination and non-pharmaceutical interventions (NPI) in controlling the spread of SARS-CoV-2 variants of concern in Ontario, Canada.\\\",\\n  \\\"LICENSE\\\": \\\"UNKNOWN\\\"\\n}\", \"width\": \"100%\", \"height\": \"600px\"}\n",
       "                    \n",
       "                            // postMessage to send the data to the iframe\n",
       "                            console.log('sender', window.location.origin)\n",
       "                            \n",
       "                            iframeWindow.postMessage(data,'*');\n",
       "                        };\n",
       "\n",
       "                            console.log('setting iframe content.')\n",
       "                            let viewer_html = atob(\"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\");\n",
       "                            let iframe = document.getElementById(\"jsonviewer_kkxHyyqw\");\n",
       "                            let iframeDocument = iframe.contentDocument || iframe.contentWindow.document;\n",
       "\n",
       "                            iframeDocument.open();\n",
       "                            iframeDocument.write(viewer_html);\n",
       "                            iframeDocument.close();\n",
       "                        }\n",
       "                    init();\n",
       "                </script>\n",
       "            </div>\n",
       "            "
      ],
      "text/plain": [
       "<IPython.core.display.HTML object>"
      ]
     },
     "execution_count": 7,
     "metadata": {},
     "output_type": "execute_result"
    }
   ],
   "source": [
    "text_name = \"text_s41598-022-06159-x.txt\"\n",
    "code_name = \"scenario2code.txt\"\n",
    "\n",
    "with open(text_name, 'rb') as f_text, open(code_name, 'rb') as f_code:\n",
    "    files = { 'text_file': ('filename', f_text),'code_file': ('filename', f_code)}\n",
    "    params = {\"gpt_key\": GPT_KEY}\n",
    "    response = requests.post(API_ROOT + \"cards/get_model_card\", params=params, files=files)\n",
    "    \n",
    "display_json(response.text)"
   ]
  }
 ],
 "metadata": {
  "kernelspec": {
   "display_name": "mitaskem",
   "language": "python",
   "name": "python3"
  },
  "language_info": {
   "codemirror_mode": {
    "name": "ipython",
    "version": 3
   },
   "file_extension": ".py",
   "mimetype": "text/x-python",
   "name": "python",
   "nbconvert_exporter": "python",
   "pygments_lexer": "ipython3",
   "version": "3.10.12"
  }
 },
 "nbformat": 4,
 "nbformat_minor": 5
}
