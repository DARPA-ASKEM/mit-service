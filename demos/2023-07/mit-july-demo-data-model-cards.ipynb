{
 "cells": [
  {
   "cell_type": "markdown",
   "id": "7f6a1aaa",
   "metadata": {
    "pycharm": {
     "name": "#%% md\n"
    }
   },
   "source": [
    "# MIT (TA1): Data and model cards\n"
   ]
  },
  {
   "cell_type": "markdown",
   "id": "8f6cdd8b",
   "metadata": {
    "pycharm": {
     "name": "#%% md\n"
    }
   },
   "source": [
    "## 0. Preprocessing"
   ]
  },
  {
   "cell_type": "code",
   "execution_count": 23,
   "id": "d07d53d5",
   "metadata": {
    "execution": {
     "iopub.execute_input": "2023-10-24T18:14:27.981253Z",
     "iopub.status.busy": "2023-10-24T18:14:27.980241Z",
     "iopub.status.idle": "2023-10-24T18:14:27.987428Z",
     "shell.execute_reply": "2023-10-24T18:14:27.986329Z",
     "shell.execute_reply.started": "2023-10-24T18:14:27.981203Z"
    },
    "pycharm": {
     "name": "#%%\n"
    }
   },
   "outputs": [],
   "source": [
    "import ast, json, requests, os\n",
    "GPT_KEY = os.environ.get('OPENAI_API_KEY')\n",
    "API_ROOT = \"http://localhost:8000/\" # \"http://3.83.68.208/\""
   ]
  },
  {
   "cell_type": "markdown",
   "id": "d382c8c7",
   "metadata": {
    "pycharm": {
     "name": "#%% md\n"
    }
   },
   "source": [
    "## 1. Get data card"
   ]
  },
  {
   "cell_type": "markdown",
   "id": "559e6c92",
   "metadata": {
    "collapsed": false,
    "jupyter": {
     "outputs_hidden": false
    },
    "pycharm": {
     "name": "#%% md\n"
    }
   },
   "source": [
    "#### Data cards summarize general information about the dataset.\n",
    "[http://3.83.68.208/#/Data-and-model-cards/get_data_card_cards_get_data_card_post](http://3.83.68.208/#/Data-and-model-cards/get_data_card_cards_get_data_card_post)\n",
    "\n",
    "The data card endpoint supports both tabular and matrix (e.g. transmission probabilities) data.\n",
    "It will automatically detect which one has been passed, based on whether or not the first row in the dataset contains purely numeric data.\n",
    "\n",
    "In addition to the fields which are populated based on the documentation provided (e.g. `DESCRIPTION`, `AUTHOR_NAME`, etc.), the data card also includes the data profiling results.\n",
    "When the data is tabular, this consists of column-level DKG groundings and summary statistics.\n",
    "When it is a matrix, it instead consists of matrix-level summary statistics.\n",
    "\n",
    "**Note:** When the data is tabular, `EXAMPLES` is a dictionary from `column name: example column value`. When the data is a matrix, `EXAMPLES` is a list consisting of a *sample row*.\n"
   ]
  },
  {
   "cell_type": "code",
   "execution_count": 25,
   "id": "f25f9f0b",
   "metadata": {
    "collapsed": false,
    "execution": {
     "iopub.execute_input": "2023-10-24T18:14:59.064195Z",
     "iopub.status.busy": "2023-10-24T18:14:59.063583Z",
     "iopub.status.idle": "2023-10-24T18:16:13.616452Z",
     "shell.execute_reply": "2023-10-24T18:16:13.616155Z",
     "shell.execute_reply.started": "2023-10-24T18:14:59.064155Z"
    },
    "jupyter": {
     "outputs_hidden": false
    },
    "pycharm": {
     "name": "#%%\n"
    }
   },
   "outputs": [
    {
     "data": {
      "text/plain": [
       "{'DESCRIPTION': 'A Simple SEIR model for wastewater-based epidemiological modeling of COVID-19 outbreak.',\n",
       " 'AUTHOR_NAME': 'Mehrdad Fazli, Samuel Sklar, Michael D Porter, Brent A French, Heman Shakeri',\n",
       " 'AUTHOR_EMAIL': 'UNKNOWN',\n",
       " 'DATE': '2021',\n",
       " 'PROVENANCE': 'The data was collected through wastewater surveillance as a continuous pooled sampling technique.',\n",
       " 'SENSITIVITY': 'UNKNOWN',\n",
       " 'LICENSE': 'UNKNOWN',\n",
       " 'DATASET_TYPE': 'tabular',\n",
       " 'SCHEMA': ['dates',\n",
       "  'VAX_count',\n",
       "  'day',\n",
       "  'sdm',\n",
       "  'events',\n",
       "  'I_1',\n",
       "  'I_2',\n",
       "  'I_3',\n",
       "  'Y_1',\n",
       "  'Y_2',\n",
       "  'Y_3',\n",
       "  'V_1',\n",
       "  'V_2',\n",
       "  'V_3',\n",
       "  'Infected',\n",
       "  'Y',\n",
       "  'V',\n",
       "  'logV'],\n",
       " 'DATA_PROFILING_RESULT': {'dates': {'col_name': 'dates',\n",
       "   'concept': 'Date of data collection',\n",
       "   'unit': 'Date',\n",
       "   'description': 'The date when the data was collected.',\n",
       "   'dkg_groundings': [['dc:date', 'Date', 'property'],\n",
       "    ['oboinowl:date', 'date', 'property'],\n",
       "    ['opmi:0000488', 'visit end date', 'class'],\n",
       "    ['obib:0000714', 'date of specimen collection', 'class']],\n",
       "   'column_stats': {'num_null_entries': 0,\n",
       "    'type': 'date',\n",
       "    'num_unique_entries': 540,\n",
       "    'most_common_entries': {'2020-03-10T00:00:00': 1,\n",
       "     '2021-02-28T00:00:00': 1,\n",
       "     '2021-03-14T00:00:00': 1,\n",
       "     '2021-03-13T00:00:00': 1,\n",
       "     '2021-03-12T00:00:00': 1,\n",
       "     '2021-03-11T00:00:00': 1,\n",
       "     '2021-03-10T00:00:00': 1,\n",
       "     '2021-03-09T00:00:00': 1,\n",
       "     '2021-03-08T00:00:00': 1,\n",
       "     '2021-03-07T00:00:00': 1},\n",
       "    'earliest': '2020-03-10T00:00:00',\n",
       "    'latest': '2021-08-31T00:00:00'}},\n",
       "  'VAX_count': {'col_name': 'VAX_count',\n",
       "   'concept': 'Vaccination count',\n",
       "   'unit': 'Count',\n",
       "   'description': 'The number of vaccinations administered on the given date.',\n",
       "   'dkg_groundings': [['oboinowl:date', 'date', 'property'],\n",
       "    ['dc:date', 'Date', 'property'],\n",
       "    ['apollosv:00000047', 'vaccination administration capacity', 'class'],\n",
       "    ['opmi:0000529', 'condition end date', 'class']],\n",
       "   'column_stats': {'num_null_entries': 0,\n",
       "    'type': 'numeric',\n",
       "    'min': 0.0,\n",
       "    'max': 587.0,\n",
       "    'mean': 44.56481481481482,\n",
       "    'std': 91.57703785200043,\n",
       "    '25%': 0.0,\n",
       "    '50%': 0.0,\n",
       "    '75%': 45.25}},\n",
       "  'day': {'col_name': 'day',\n",
       "   'concept': 'Day of the year',\n",
       "   'unit': 'Count',\n",
       "   'description': 'The day of the year corresponding to the date of data collection.',\n",
       "   'dkg_groundings': [['opmi:0000091', 'day of birth', 'class'],\n",
       "    ['wikidata:Q102129592', 'reciprocal_day', 'class'],\n",
       "    ['idomal:0000478', '1 day after blood meal', 'class'],\n",
       "    ['opmi:0000473', 'year of birth', 'class']],\n",
       "   'column_stats': {'num_null_entries': 0,\n",
       "    'type': 'numeric',\n",
       "    'min': 0.0,\n",
       "    'max': 539.0,\n",
       "    'mean': 269.5,\n",
       "    'std': 156.02884348735012,\n",
       "    '25%': 134.75,\n",
       "    '50%': 269.5,\n",
       "    '75%': 404.25}},\n",
       "  'sdm': {'col_name': 'sdm',\n",
       "   'concept': 'Social Distancing Measure',\n",
       "   'unit': 'Proportion',\n",
       "   'description': 'The level of social distancing measures in place, represented as a proportion from 0 to 1.',\n",
       "   'dkg_groundings': [['ncit:C173636', 'Social Distancing', 'class'],\n",
       "    ['apollosv:00000620',\n",
       "     'physical distancing infectious disease control measure',\n",
       "     'class'],\n",
       "    ['hp:5200021', 'Reduced social insight', 'class'],\n",
       "    ['hp:0012433', 'Abnormal social behavior', 'class']],\n",
       "   'column_stats': {'num_null_entries': 0,\n",
       "    'type': 'numeric',\n",
       "    'min': 0.04,\n",
       "    'max': 1.0,\n",
       "    'mean': 0.33188518518518517,\n",
       "    'std': 0.33411446629713515,\n",
       "    '25%': 0.089,\n",
       "    '50%': 0.12,\n",
       "    '75%': 0.6}},\n",
       "  'events': {'col_name': 'events',\n",
       "   'concept': 'Events',\n",
       "   'unit': 'Proportion',\n",
       "   'description': 'The level of events or gatherings happening, represented as a proportion from 0 to 1.',\n",
       "   'dkg_groundings': [['cemo:number_of_cases_with_exposure_events',\n",
       "     'number of cases with exposure events',\n",
       "     'class'],\n",
       "    ['cemo:number_of_schools_with_exposure_events',\n",
       "     'number of schools with exposure events',\n",
       "     'class'],\n",
       "    ['go:0030168', 'platelet activation', 'class'],\n",
       "    ['cemo:number_of_cases_with_school_exposure_events',\n",
       "     'number of cases with school exposure events',\n",
       "     'class']],\n",
       "   'column_stats': {'num_null_entries': 0,\n",
       "    'type': 'numeric',\n",
       "    'min': 0.0,\n",
       "    'max': 0.8,\n",
       "    'mean': 0.12259259259259257,\n",
       "    'std': 0.16684550289840552,\n",
       "    '25%': 0.1,\n",
       "    '50%': 0.1,\n",
       "    '75%': 0.1}},\n",
       "  'I_1': {'col_name': 'I_1',\n",
       "   'concept': 'Infectious population (Model 1)',\n",
       "   'unit': 'Count',\n",
       "   'description': 'The number of infectious individuals in the population according to the first model.',\n",
       "   'dkg_groundings': [['idomal:0000352',\n",
       "     'herd immunity to infectious organism',\n",
       "     'class'],\n",
       "    ['ido:0000447', 'herd immunity to infectious organism', 'class'],\n",
       "    ['apollosv:00000548', 'Susceptible-Infected-Susceptible model', 'class'],\n",
       "    ['apollosv:00000507', 'disease transmission model identifier', 'class']],\n",
       "   'column_stats': {'num_null_entries': 0,\n",
       "    'type': 'numeric',\n",
       "    'min': 1.0,\n",
       "    'max': 221.0,\n",
       "    'mean': 58.92037037037037,\n",
       "    'std': 54.643719981744255,\n",
       "    '25%': 14.0,\n",
       "    '50%': 48.0,\n",
       "    '75%': 83.25}},\n",
       "  'I_2': {'col_name': 'I_2',\n",
       "   'concept': 'Infectious population (Model 2)',\n",
       "   'unit': 'Count',\n",
       "   'description': 'The number of infectious individuals in the population according to the second model.',\n",
       "   'dkg_groundings': [['idomal:0000352',\n",
       "     'herd immunity to infectious organism',\n",
       "     'class'],\n",
       "    ['ido:0000447', 'herd immunity to infectious organism', 'class'],\n",
       "    ['apollosv:00000548', 'Susceptible-Infected-Susceptible model', 'class'],\n",
       "    ['apollosv:00000507', 'disease transmission model identifier', 'class']],\n",
       "   'column_stats': {'num_null_entries': 0,\n",
       "    'type': 'numeric',\n",
       "    'min': 0.0,\n",
       "    'max': 229.0,\n",
       "    'mean': 43.25925925925926,\n",
       "    'std': 57.52591903856349,\n",
       "    '25%': 7.0,\n",
       "    '50%': 21.0,\n",
       "    '75%': 47.25}},\n",
       "  'I_3': {'col_name': 'I_3',\n",
       "   'concept': 'Infectious population (Model 3)',\n",
       "   'unit': 'Count',\n",
       "   'description': 'The number of infectious individuals in the population according to the third model.',\n",
       "   'dkg_groundings': [['idomal:0000352',\n",
       "     'herd immunity to infectious organism',\n",
       "     'class'],\n",
       "    ['ido:0000447', 'herd immunity to infectious organism', 'class'],\n",
       "    ['apollosv:00000548', 'Susceptible-Infected-Susceptible model', 'class'],\n",
       "    ['apollosv:00000507', 'disease transmission model identifier', 'class']],\n",
       "   'column_stats': {'num_null_entries': 0,\n",
       "    'type': 'numeric',\n",
       "    'min': 0.0,\n",
       "    'max': 291.0,\n",
       "    'mean': 79.17407407407407,\n",
       "    'std': 64.41469941710787,\n",
       "    '25%': 39.0,\n",
       "    '50%': 64.0,\n",
       "    '75%': 97.0}},\n",
       "  'Y_1': {'col_name': 'Y_1',\n",
       "   'concept': 'Case count (Model 1)',\n",
       "   'unit': 'Count',\n",
       "   'description': 'The number of confirmed cases according to the first model.',\n",
       "   'dkg_groundings': [['apollosv:00000507',\n",
       "     'disease transmission model identifier',\n",
       "     'class'],\n",
       "    ['iao:0000017', 'model number', 'class'],\n",
       "    ['apollosv:00000561', 'disease transmission model software', 'class'],\n",
       "    ['apollosv:00000294', 'agent-based disease transmission model', 'class']],\n",
       "   'column_stats': {'num_null_entries': 0,\n",
       "    'type': 'numeric',\n",
       "    'min': 0.0,\n",
       "    'max': 13.0,\n",
       "    'mean': 1.5,\n",
       "    'std': 1.7931016028297173,\n",
       "    '25%': 0.0,\n",
       "    '50%': 1.0,\n",
       "    '75%': 2.0}},\n",
       "  'Y_2': {'col_name': 'Y_2',\n",
       "   'concept': 'Case count (Model 2)',\n",
       "   'unit': 'Count',\n",
       "   'description': 'The number of confirmed cases according to the second model.',\n",
       "   'dkg_groundings': [['apollosv:00000507',\n",
       "     'disease transmission model identifier',\n",
       "     'class'],\n",
       "    ['iao:0000017', 'model number', 'class'],\n",
       "    ['apollosv:00000561', 'disease transmission model software', 'class'],\n",
       "    ['apollosv:00000294', 'agent-based disease transmission model', 'class']],\n",
       "   'column_stats': {'num_null_entries': 0,\n",
       "    'type': 'numeric',\n",
       "    'min': 0.0,\n",
       "    'max': 10.0,\n",
       "    'mean': 1.1555555555555554,\n",
       "    'std': 1.713708416503968,\n",
       "    '25%': 0.0,\n",
       "    '50%': 0.0,\n",
       "    '75%': 2.0}},\n",
       "  'Y_3': {'col_name': 'Y_3',\n",
       "   'concept': 'Case count (Model 3)',\n",
       "   'unit': 'Count',\n",
       "   'description': 'The number of confirmed cases according to the third model.',\n",
       "   'dkg_groundings': [['apollosv:00000507',\n",
       "     'disease transmission model identifier',\n",
       "     'class'],\n",
       "    ['iao:0000017', 'model number', 'class'],\n",
       "    ['apollosv:00000561', 'disease transmission model software', 'class'],\n",
       "    ['apollosv:00000294', 'agent-based disease transmission model', 'class']],\n",
       "   'column_stats': {'num_null_entries': 0,\n",
       "    'type': 'numeric',\n",
       "    'min': 0.0,\n",
       "    'max': 10.0,\n",
       "    'mean': 1.962962962962963,\n",
       "    'std': 1.9230364340387716,\n",
       "    '25%': 1.0,\n",
       "    '50%': 1.0,\n",
       "    '75%': 3.0}},\n",
       "  'V_1': {'col_name': 'V_1',\n",
       "   'concept': 'Viral load (Model 1)',\n",
       "   'unit': 'Count',\n",
       "   'description': 'The viral load in the wastewater according to the first model.',\n",
       "   'dkg_groundings': [['apollosv:00000507',\n",
       "     'disease transmission model identifier',\n",
       "     'class'],\n",
       "    ['iao:0000017', 'model number', 'class'],\n",
       "    ['vo:0000156', 'viral gene', 'class'],\n",
       "    ['vido:0001331', 'viral load', 'class']],\n",
       "   'column_stats': {'num_null_entries': 0,\n",
       "    'type': 'numeric',\n",
       "    'min': 1002.3180237027808,\n",
       "    'max': 406371.4656460259,\n",
       "    'mean': 99144.7632252408,\n",
       "    'std': 93740.91643752693,\n",
       "    '25%': 22667.889843027777,\n",
       "    '50%': 74545.22882665138,\n",
       "    '75%': 142646.6753042973}},\n",
       "  'V_2': {'col_name': 'V_2',\n",
       "   'concept': 'Viral load (Model 2)',\n",
       "   'unit': 'Count',\n",
       "   'description': 'The viral load in the wastewater according to the second model.',\n",
       "   'dkg_groundings': [['apollosv:00000507',\n",
       "     'disease transmission model identifier',\n",
       "     'class'],\n",
       "    ['iao:0000017', 'model number', 'class'],\n",
       "    ['vo:0000156', 'viral gene', 'class'],\n",
       "    ['vido:0001331', 'viral load', 'class']],\n",
       "   'column_stats': {'num_null_entries': 0,\n",
       "    'type': 'numeric',\n",
       "    'min': 0.0,\n",
       "    'max': 398459.3191052788,\n",
       "    'mean': 72336.3696113207,\n",
       "    'std': 96313.92441935057,\n",
       "    '25%': 10711.966807814451,\n",
       "    '50%': 35411.995339615874,\n",
       "    '75%': 80219.22502508922}},\n",
       "  'V_3': {'col_name': 'V_3',\n",
       "   'concept': 'Viral load (Model 3)',\n",
       "   'unit': 'Count',\n",
       "   'description': 'The viral load in the wastewater according to the third model.',\n",
       "   'dkg_groundings': [['apollosv:00000507',\n",
       "     'disease transmission model identifier',\n",
       "     'class'],\n",
       "    ['iao:0000017', 'model number', 'class'],\n",
       "    ['vo:0000156', 'viral gene', 'class'],\n",
       "    ['vido:0001331', 'viral load', 'class']],\n",
       "   'column_stats': {'num_null_entries': 0,\n",
       "    'type': 'numeric',\n",
       "    'min': 0.0,\n",
       "    'max': 513957.0474296356,\n",
       "    'mean': 132590.61245229366,\n",
       "    'std': 109802.34668196192,\n",
       "    '25%': 64695.0859253356,\n",
       "    '50%': 108511.39565896089,\n",
       "    '75%': 164867.68024359224}},\n",
       "  'Infected': {'col_name': 'Infected',\n",
       "   'concept': 'Infected population',\n",
       "   'unit': 'Count',\n",
       "   'description': 'The number of infected individuals in the population.',\n",
       "   'dkg_groundings': [['apollosv:00000233', 'infected population', 'class'],\n",
       "    ['cido:0000292', 'human infected by SARS-CoV-2', 'class'],\n",
       "    ['ido:0000511', 'infected population', 'class'],\n",
       "    ['apollosv:00000155', 'population infection survey', 'class']],\n",
       "   'column_stats': {'num_null_entries': 0,\n",
       "    'type': 'numeric',\n",
       "    'min': 5.0,\n",
       "    'max': 728.0,\n",
       "    'mean': 181.3537037037037,\n",
       "    'std': 166.84490838993227,\n",
       "    '25%': 93.0,\n",
       "    '50%': 127.0,\n",
       "    '75%': 194.0}},\n",
       "  'Y': {'col_name': 'Y',\n",
       "   'concept': 'Total case count',\n",
       "   'unit': 'Count',\n",
       "   'description': 'The total number of confirmed cases.',\n",
       "   'dkg_groundings': [['apollosv:00000569', 'total disease cases', 'class'],\n",
       "    ['apollosv:00000568', 'total fatal disease cases', 'class'],\n",
       "    ['cemo:total_number_of_cases_removed_from_isolation',\n",
       "     'total number of cases removed from isolation',\n",
       "     'class'],\n",
       "    ['oae:0001658', 'protein total increased AE', 'class']],\n",
       "   'column_stats': {'num_null_entries': 0,\n",
       "    'type': 'numeric',\n",
       "    'min': 0.0,\n",
       "    'max': 24.0,\n",
       "    'mean': 4.618518518518519,\n",
       "    'std': 4.375979045463479,\n",
       "    '25%': 2.0,\n",
       "    '50%': 3.0,\n",
       "    '75%': 6.0}},\n",
       "  'V': {'col_name': 'V',\n",
       "   'concept': 'Total viral load',\n",
       "   'unit': 'Count',\n",
       "   'description': 'The total viral load in the wastewater.',\n",
       "   'dkg_groundings': [['oae:0001658', 'protein total increased AE', 'class'],\n",
       "    ['oae:0001659', 'protein total decreased AE', 'class'],\n",
       "    ['vo:0000156', 'viral gene', 'class'],\n",
       "    ['vido:0001331', 'viral load', 'class']],\n",
       "   'column_stats': {'num_null_entries': 0,\n",
       "    'type': 'numeric',\n",
       "    'min': 2032.6239080010116,\n",
       "    'max': 404785.44328658737,\n",
       "    'mean': 94945.09441078735,\n",
       "    'std': 87761.06214864712,\n",
       "    '25%': 45637.861836625896,\n",
       "    '50%': 66436.08220887893,\n",
       "    '75%': 102594.28449145911}},\n",
       "  'logV': {'col_name': 'logV',\n",
       "   'concept': 'Logarithm of total viral load',\n",
       "   'unit': 'Logarithm (base e)',\n",
       "   'description': 'The natural logarithm of the total viral load in the wastewater.',\n",
       "   'dkg_groundings': [['vido:0001331', 'viral load', 'class'],\n",
       "    ['oae:0001658', 'protein total increased AE', 'class'],\n",
       "    ['vsmo:0000051', 'viral load of arthropod', 'class'],\n",
       "    ['oae:0001659', 'protein total decreased AE', 'class']],\n",
       "   'column_stats': {'num_null_entries': 0,\n",
       "    'type': 'numeric',\n",
       "    'min': 7.617082802909907,\n",
       "    'max': 12.9111124360484,\n",
       "    'mean': 11.064899833546166,\n",
       "    'std': 0.9704131476024136,\n",
       "    '25%': 10.728492713353576,\n",
       "    '50%': 11.103994827924955,\n",
       "    '75%': 11.538537492141966}}},\n",
       " 'EXAMPLES': {'dates': '2020-11-18',\n",
       "  'VAX_count': 0.0,\n",
       "  'day': 253.0,\n",
       "  'sdm': 0.12,\n",
       "  'events': 0.2,\n",
       "  'I_1': 130.0,\n",
       "  'I_2': 32.0,\n",
       "  'I_3': 93.0,\n",
       "  'Y_1': 4.0,\n",
       "  'Y_2': 0.0,\n",
       "  'Y_3': 4.0,\n",
       "  'V_1': 244384.15992119772,\n",
       "  'V_2': 44655.15546322169,\n",
       "  'V_3': 146317.89899171123,\n",
       "  'Infected': 255.0,\n",
       "  'Y': 8.0,\n",
       "  'V': 139601.56197203803,\n",
       "  'logV': 11.846547658159261}}"
      ]
     },
     "execution_count": 25,
     "metadata": {},
     "output_type": "execute_result"
    }
   ],
   "source": [
    "# Tabular example\n",
    "csv_name = \"../../mitaskem/resources/dataset/ensemble/abm.csv\"\n",
    "doc_name = \"../../mitaskem/resources/dataset/ensemble/abm_doc.txt\"\n",
    "\n",
    "with open(csv_name, 'rb') as f_csv, open(doc_name,  'rb') as f_doc:\n",
    "    files = {'csv_file': ('filename', f_csv), 'doc_file': ('filename', f_doc)}\n",
    "    params = {\"gpt_key\": GPT_KEY}\n",
    "    response = requests.post(API_ROOT + \"cards/get_data_card/\",  params=params,  files=files)\n",
    "    json_str = response.text\n",
    "# print(json_str)\n",
    "ast.literal_eval(json_str)\n"
   ]
  },
  {
   "cell_type": "code",
   "execution_count": 26,
   "id": "fd0c46c3",
   "metadata": {},
   "outputs": [
    {
     "name": "stdout",
     "output_type": "stream",
     "text": [
      "fatal: destination path '/Users/orm/.cache/mixing-patterns' already exists and is not an empty directory.\n"
     ]
    }
   ],
   "source": [
    "!git clone https://github.com/mobs-lab/mixing-patterns ~/.cache/mixing-patterns"
   ]
  },
  {
   "cell_type": "code",
   "execution_count": 28,
   "id": "f0cb0ce8",
   "metadata": {
    "collapsed": false,
    "jupyter": {
     "outputs_hidden": false
    },
    "pycharm": {
     "name": "#%%\n"
    }
   },
   "outputs": [
    {
     "data": {
      "text/plain": [
       "{'DESCRIPTION': 'Different locations might include only a single country level matrix or additional subnational matrices as indicated below.',\n",
       " 'AUTHOR_NAME': 'UNKNOWN',\n",
       " 'AUTHOR_EMAIL': 'UNKNOWN',\n",
       " 'DATE': 'UNKNOWN',\n",
       " 'PROVENANCE': 'UNKNOWN',\n",
       " 'SENSITIVITY': 'UNKNOWN',\n",
       " 'LICENSE': 'UNKNOWN',\n",
       " 'DATASET_TYPE': 'matrix',\n",
       " 'DATA_PROFILING_RESULT': {'matrix_stats': {'num_null_entries': 0,\n",
       "   'type': 'numeric',\n",
       "   'min': 0.0492537573404737,\n",
       "   'max': 7.422581547144762,\n",
       "   'mean': 0.6399015998362235,\n",
       "   'std': 0.7700007890649679,\n",
       "   '25%': 0.24465994009854003,\n",
       "   '50%': 0.44931271067347417,\n",
       "   '75%': 0.8522124667881429}},\n",
       " 'EXAMPLES': [0.2516467228441472,\n",
       "  0.3373295854802683,\n",
       "  0.3958656213922929,\n",
       "  0.597678404998955,\n",
       "  0.9215187432135592,\n",
       "  0.982902109605631,\n",
       "  0.8386027987698976,\n",
       "  0.7759817646527434,\n",
       "  0.842062807003874,\n",
       "  0.970409854763161,\n",
       "  1.256898425448872,\n",
       "  1.3637642003999793,\n",
       "  0.9053222383990704,\n",
       "  0.2967428433543169,\n",
       "  0.1560832704228411,\n",
       "  0.1152383792629327,\n",
       "  0.1001252658685928,\n",
       "  0.1421254542259504],\n",
       " 'CELL_INTERPRETATION': 'Each contact matrix has dimensions 85x85. For the 4 settings (households, schools, workplaces, and the community) contact matrices, the matrix element F^k_ij represents the per capita probability of contact for an individual of age i with individuals of age j in that setting k. Thus the element F^k_00 is the per capita probability of contact for an individual of age [0, 1) with individuals of age [0, 1), the element F^k_01 is the per capita probability of contact for an individual of age [0, 1) with individuals of age [1, 2), etc. Each row and column refers to a single year of age, except for the last row and column which both refer to ages 84 years old and over.'}"
      ]
     },
     "execution_count": 28,
     "metadata": {},
     "output_type": "execute_result"
    }
   ],
   "source": [
    "# Matrix example - make sure to download the data from https://github.com/mobs-lab/mixing-patterns first\n",
    "csv_name = os.path.expanduser('~/.cache/mixing-patterns/data/contact_matrices/United_States_subnational_New_York_M_overall_contact_matrix_18.csv')\n",
    "doc_name = os.path.expanduser('~/.cache/mixing-patterns/README.md')\n",
    "\n",
    "with open(csv_name, 'rb') as f_csv, open(doc_name,  'rb') as f_doc:\n",
    "    files = {'csv_file': ('filename', f_csv), 'doc_file': ('filename', f_doc)}\n",
    "    params = {\"gpt_key\": GPT_KEY}\n",
    "    response = requests.post(API_ROOT + \"cards/get_data_card/\",  params=params,  files=files)\n",
    "    json_str = response.text\n",
    "# print(json_str)\n",
    "ast.literal_eval(json_str)\n"
   ]
  },
  {
   "cell_type": "markdown",
   "id": "756df744",
   "metadata": {
    "collapsed": false,
    "jupyter": {
     "outputs_hidden": false
    },
    "pycharm": {
     "name": "#%% md\n"
    }
   },
   "source": [
    "## 2. Get model card"
   ]
  },
  {
   "cell_type": "markdown",
   "id": "5aeab32e",
   "metadata": {
    "collapsed": false,
    "jupyter": {
     "outputs_hidden": false
    },
    "pycharm": {
     "name": "#%% md\n"
    }
   },
   "source": [
    "#### Model cards provide general information about the model.\n",
    "[http://3.83.68.208/#/Data-and-model-cards/get_model_card_cards_get_model_card_post](http://3.83.68.208/#/Data-and-model-cards/get_model_card_cards_get_model_card_post)"
   ]
  },
  {
   "cell_type": "markdown",
   "id": "8ac39918",
   "metadata": {
    "pycharm": {
     "name": "#%% md\n"
    }
   },
   "source": [
    "#### Model cards provide general information about the model.\n",
    "[http://100.26.10.46/#/Data-and-model-cards/get_model_card_cards_get_model_card_post](http://100.26.10.46/#/Data-and-model-cards/get_model_card_cards_get_model_card_post)"
   ]
  },
  {
   "cell_type": "code",
   "execution_count": 31,
   "id": "88718f30",
   "metadata": {
    "execution": {
     "iopub.execute_input": "2023-10-23T21:53:12.708440Z",
     "iopub.status.busy": "2023-10-23T21:53:12.707760Z",
     "iopub.status.idle": "2023-10-23T21:53:21.478830Z",
     "shell.execute_reply": "2023-10-23T21:53:21.478102Z",
     "shell.execute_reply.started": "2023-10-23T21:53:12.708403Z"
    },
    "pycharm": {
     "name": "#%%\n"
    }
   },
   "outputs": [
    {
     "data": {
      "text/plain": [
       "{'DESCRIPTION': 'Understanding the dynamics of SARS‑CoV‑2 variants of concern in Ontario, Canada: a modeling study',\n",
       " 'AUTHOR_INST': 'University of Waterloo',\n",
       " 'AUTHOR_AUTHOR': 'Anita T. Layton, Mehrshad Sadria',\n",
       " 'AUTHOR_EMAIL': 'anita.layton@uwaterloo.ca',\n",
       " 'DATE': 'UNKNOWN',\n",
       " 'SCHEMA': 'UNKNOWN',\n",
       " 'PROVENANCE': 'The model was developed and applied to better understand the spread of multiple variants of concern (VOC) of SARS-CoV-2 in Ontario, Canada.',\n",
       " 'DATASET': 'UNKNOWN',\n",
       " 'COMPLEXITY': 'The complexity of the model is not specified.',\n",
       " 'USAGE': 'The model should be used to assess the effectiveness of vaccination and non-pharmaceutical interventions (NPI) in controlling the spread of SARS-CoV-2 variants of concern in Ontario, Canada.',\n",
       " 'LICENSE': 'UNKNOWN'}"
      ]
     },
     "execution_count": 31,
     "metadata": {},
     "output_type": "execute_result"
    }
   ],
   "source": [
    "text_name = \"text_s41598-022-06159-x.txt\"\n",
    "code_name = \"scenario2code.txt\"\n",
    "\n",
    "with open(text_name, 'rb') as f_text, open(code_name, 'rb') as f_code:\n",
    "    files = { 'text_file': ('filename', f_text),'code_file': ('filename', f_code)}\n",
    "    params = {\"gpt_key\": GPT_KEY}\n",
    "    response = requests.post(API_ROOT + \"cards/get_model_card\", params=params, files=files)\n",
    "#     print(response.text)\n",
    "    \n",
    "ast.literal_eval(response.text)"
   ]
  },
  {
   "cell_type": "code",
   "execution_count": null,
   "id": "85e95f09",
   "metadata": {},
   "outputs": [],
   "source": []
  }
 ],
 "metadata": {
  "kernelspec": {
   "display_name": "mitaskem",
   "language": "python",
   "name": "python3"
  },
  "language_info": {
   "codemirror_mode": {
    "name": "ipython",
    "version": 3
   },
   "file_extension": ".py",
   "mimetype": "text/x-python",
   "name": "python",
   "nbconvert_exporter": "python",
   "pygments_lexer": "ipython3",
   "version": "3.10.12"
  }
 },
 "nbformat": 4,
 "nbformat_minor": 5
}
