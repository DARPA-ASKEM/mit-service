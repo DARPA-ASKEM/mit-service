{
 "cells": [
  {
   "cell_type": "markdown",
   "id": "7f6a1aaa",
   "metadata": {
    "pycharm": {
     "name": "#%% md\n"
    }
   },
   "source": [
    "# MIT (TA1): Data and model cards\n"
   ]
  },
  {
   "cell_type": "markdown",
   "id": "8f6cdd8b",
   "metadata": {
    "pycharm": {
     "name": "#%% md\n"
    }
   },
   "source": [
    "## 0. Preprocessing"
   ]
  },
  {
   "cell_type": "code",
   "execution_count": 1,
   "id": "d07d53d5",
   "metadata": {
    "pycharm": {
     "name": "#%%\n"
    }
   },
   "outputs": [],
   "source": [
    "import ast, json, requests, os\n",
    "from gpt_key import *\n",
    "API_ROOT = \"http://localhost:8000/\""
   ]
  },
  {
   "cell_type": "markdown",
   "id": "d382c8c7",
   "metadata": {
    "pycharm": {
     "name": "#%% md\n"
    }
   },
   "source": [
    "## 1. Get data card"
   ]
  },
  {
   "cell_type": "markdown",
   "source": [
    "#### Data cards summarize general information about the dataset.\n",
    "[http://3.83.68.208/#/Data-and-model-cards/get_data_card_cards_get_data_card_post](http://3.83.68.208/#/Data-and-model-cards/get_data_card_cards_get_data_card_post)\n",
    "\n",
    "The data card endpoint supports both tabular and matrix (e.g. transmission probabilities) data.\n",
    "It will automatically detect which one has been passed, based on whether or not the first row in the dataset contains purely numeric data.\n",
    "\n",
    "In addition to the fields which are populated based on the documentation provided (e.g. `DESCRIPTION`, `AUTHOR_NAME`, etc.), the data card also includes the data profiling results.\n",
    "When the data is tabular, this consists of column-level DKG groundings and summary statistics.\n",
    "When it is a matrix, it instead consists of matrix-level summary statistics.\n",
    "\n",
    "**Note:** When the data is tabular, `EXAMPLES` is a dictionary from `column name: example column value`. When the data is a matrix, `EXAMPLES` is a list consisting of a *sample row*.\n"
   ],
   "metadata": {
    "collapsed": false,
    "pycharm": {
     "name": "#%% md\n"
    }
   }
  },
  {
   "cell_type": "code",
   "execution_count": null,
   "outputs": [],
   "source": [
    "# Tabular example\n",
    "csv_name = \"abm.csv\"\n",
    "doc_name = \"abm_doc.txt\"\n",
    "\n",
    "with open(csv_name, 'rb') as f_csv, open(doc_name,  'rb') as f_doc:\n",
    "    files = {'csv_file': ('filename', f_csv), 'doc_file': ('filename', f_doc)}\n",
    "    params = {\"gpt_key\": GPT_KEY}\n",
    "    response = requests.post(API_ROOT + \"cards/get_data_card/\",  params=params,  files=files)\n",
    "    json_str = response.text\n",
    "# print(json_str)\n",
    "ast.literal_eval(json_str)\n"
   ],
   "metadata": {
    "collapsed": false,
    "pycharm": {
     "name": "#%%\n"
    }
   }
  },
  {
   "cell_type": "code",
   "execution_count": null,
   "outputs": [],
   "source": [
    "# Matrix example - make sure to download the data from https://github.com/mobs-lab/mixing-patterns first\n",
    "csv_name = \"../../../mixing-patterns/data/contact_matrices/United_States_subnational_New_York_M_overall_contact_matrix_18.csv\"\n",
    "doc_name = \"../../../mixing-patterns/README.md\"\n",
    "\n",
    "with open(csv_name, 'rb') as f_csv, open(doc_name,  'rb') as f_doc:\n",
    "    files = {'csv_file': ('filename', f_csv), 'doc_file': ('filename', f_doc)}\n",
    "    params = {\"gpt_key\": GPT_KEY}\n",
    "    response = requests.post(API_ROOT + \"cards/get_data_card/\",  params=params,  files=files)\n",
    "    json_str = response.text\n",
    "# print(json_str)\n",
    "ast.literal_eval(json_str)\n"
   ],
   "metadata": {
    "collapsed": false,
    "pycharm": {
     "name": "#%%\n"
    }
   }
  },
  {
   "cell_type": "markdown",
   "source": [
    "## 2. Get model card"
   ],
   "metadata": {
    "collapsed": false,
    "pycharm": {
     "name": "#%% md\n"
    }
   }
  },
  {
   "cell_type": "markdown",
   "source": [
    "#### Model cards provide general information about the model.\n",
    "[http://3.83.68.208/#/Data-and-model-cards/get_model_card_cards_get_model_card_post](http://3.83.68.208/#/Data-and-model-cards/get_model_card_cards_get_model_card_post)"
   ],
   "metadata": {
    "collapsed": false,
    "pycharm": {
     "name": "#%% md\n"
    }
   }
  },
  {
   "cell_type": "markdown",
   "id": "8ac39918",
   "metadata": {
    "pycharm": {
     "name": "#%% md\n"
    }
   },
   "source": [
    "#### Model cards provide general information about the model.\n",
    "[http://100.26.10.46/#/Data-and-model-cards/get_model_card_cards_get_model_card_post](http://100.26.10.46/#/Data-and-model-cards/get_model_card_cards_get_model_card_post)"
   ]
  },
  {
   "cell_type": "code",
   "execution_count": 7,
   "id": "88718f30",
   "metadata": {
    "pycharm": {
     "name": "#%%\n"
    }
   },
   "outputs": [
    {
     "data": {
      "text/plain": [
       "{'DESCRIPTION': 'Understanding the dynamics of SARS‑CoV‑2 variants of concern in Ontario, Canada: a modeling study',\n",
       " 'AUTHOR_INST': 'University of Waterloo',\n",
       " 'AUTHOR_AUTHOR': 'Anita T. Layton, Mehrshad Sadria',\n",
       " 'AUTHOR_EMAIL': 'anita.layton@uwaterloo.ca',\n",
       " 'DATE': 'UNKNOWN',\n",
       " 'SCHEMA': 'The model simulates the spread of three SARS-CoV-2 strains: wild type, Alpha, and Delta. It considers the dynamics of susceptible, infected, recovered, and vaccinated populations, as well as the interactions among different variants and the effects of non-pharmaceutical interventions (NPI).',\n",
       " 'PROVENANCE': 'The model was developed to better understand the spread of SARS-CoV-2 variants of concern in Ontario, Canada, and to assess the effectiveness of vaccination and non-pharmaceutical interventions (NPI) in controlling the spread. The study used a computational modeling approach to simulate the dynamics of the virus and evaluate different scenarios.',\n",
       " 'DATASET': 'UNKNOWN',\n",
       " 'COMPLEXITY': 'The model is a simplified version of the SV2(AIR)3 model, which represents the dynamics of multiple SARS-CoV-2 variants and their competition. It considers various parameters such as infectivity, vaccination rate, recovery rate, and vaccine efficacy to capture the complexity of the virus spread.',\n",
       " 'USAGE': 'The model can be used to understand the dynamics of SARS-CoV-2 variants of concern and assess the effectiveness of different interventions, such as vaccination and non-pharmaceutical interventions, in controlling the spread of the virus. It can help policymakers and public health officials make informed decisions to mitigate the impact of the virus.',\n",
       " 'LICENSE': 'UNKNOWN'}"
      ]
     },
     "execution_count": 7,
     "metadata": {},
     "output_type": "execute_result"
    }
   ],
   "source": [
    "text_name = \"text_s41598-022-06159-short.txt\"\n",
    "code_name = \"scenario2code.txt\"\n",
    "\n",
    "with open(text_name, 'rb') as f_text, open(code_name, 'rb') as f_code:\n",
    "    files = { 'text_file': ('filename', f_text),'code_file': ('filename', f_code)}\n",
    "    params = {\"gpt_key\": GPT_KEY}\n",
    "    response = requests.post(API_ROOT + \"cards/get_model_card\", params=params, files=files)\n",
    "#     print(response.text)\n",
    "    \n",
    "ast.literal_eval(response.text)"
   ]
  },
  {
   "cell_type": "code",
   "execution_count": null,
   "id": "69af103e",
   "metadata": {
    "pycharm": {
     "name": "#%%\n"
    }
   },
   "outputs": [],
   "source": []
  }
 ],
 "metadata": {
  "kernelspec": {
   "display_name": "Python 3",
   "language": "python",
   "name": "python3"
  },
  "language_info": {
   "codemirror_mode": {
    "name": "ipython",
    "version": 3
   },
   "file_extension": ".py",
   "mimetype": "text/x-python",
   "name": "python",
   "nbconvert_exporter": "python",
   "pygments_lexer": "ipython3",
   "version": "3.9.17"
  }
 },
 "nbformat": 4,
 "nbformat_minor": 5
}