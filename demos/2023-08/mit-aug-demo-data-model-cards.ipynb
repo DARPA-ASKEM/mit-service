{
 "cells": [
  {
   "cell_type": "markdown",
   "id": "7f6a1aaa",
   "metadata": {
    "pycharm": {
     "name": "#%% md\n"
    }
   },
   "source": [
    "# MIT (TA1): Data and model cards\n"
   ]
  },
  {
   "cell_type": "markdown",
   "id": "8f6cdd8b",
   "metadata": {
    "pycharm": {
     "name": "#%% md\n"
    }
   },
   "source": [
    "## 0. Preprocessing"
   ]
  },
  {
   "cell_type": "code",
   "execution_count": 7,
   "id": "d07d53d5",
   "metadata": {
    "pycharm": {
     "name": "#%%\n"
    }
   },
   "outputs": [],
   "source": [
    "import ast, json, requests, os\n",
    "from gpt_key import *\n",
    "API_ROOT = \"http://3.83.68.208/\"\n",
    "# \"http://localhost:8000/\" #"
   ]
  },
  {
   "cell_type": "markdown",
   "source": [
    "## 1. MIT annotation end to end pipeline"
   ],
   "metadata": {
    "collapsed": false,
    "pycharm": {
     "name": "#%% md\n"
    }
   }
  },
  {
   "cell_type": "markdown",
   "source": [
    "#### We bring every annotation step together: for the original paper text, let's integrate all the extraction modules and output the MIT extraction:\n",
    "[http://3.83.68.208/#/Paper-2-annotated-vars/upload_file_annotate_annotation_upload_file_extract__post](http://3.83.68.208/#/Paper-2-annotated-vars/upload_file_annotate_annotation_upload_file_extract__post)"
   ],
   "metadata": {
    "collapsed": false,
    "pycharm": {
     "name": "#%% md\n"
    }
   }
  },
  {
   "cell_type": "code",
   "execution_count": 10,
   "outputs": [
    {
     "name": "stdout",
     "output_type": "stream",
     "text": [
      "{\"attributes\":[{\"type\":\"anchored_extraction\",\"amr_element_id\":null,\"payload\":{\"id\":{\"id\":\"v0\"},\"names\":[{\"id\":{\"id\":\"v0\"},\"name\":\"SIDARTHE\",\"extraction_source\":null,\"provenance\":{\"method\":\"MIT extractor V1.0 - text, dataset, formula annotation (chunwei@mit.edu)\",\"timestamp\":\"2023-08-15T14:32:17.234476\"}}],\"descriptions\":[{\"id\":{\"id\":\"v0\"},\"source\":\"Model for predicting the course of the COVID-19 epidemic\",\"grounding\":null,\"extraction_source\":null,\"provenance\":{\"method\":\"MIT extractor V1.0 - text, dataset, formula annotation (chunwei@mit.edu)\",\"timestamp\":\"2023-08-15T14:32:17.234476\"}}],\"value_specs\":null,\"groundings\":[{\"grounding_text\":\"COVID-19 epidemic\",\"grounding_id\":\"cido:0000154\",\"source\":[],\"score\":1.0,\"provenance\":{\"method\":\"MIT extractor V1.0 - text, dataset, formula annotation (chunwei@mit.edu)\",\"timestamp\":\"2023-08-15T14:32:17.234476\"}},{\"grounding_text\":\"COVID-19 disease course\",\"grounding_id\":\"idocovid19:0001143\",\"source\":[],\"score\":1.0,\"provenance\":{\"method\":\"MIT extractor V1.0 - text, dataset, formula annotation (chunwei@mit.edu)\",\"timestamp\":\"2023-08-15T14:32:17.234476\"}}],\"data_columns\":[]}},{\"type\":\"anchored_extraction\",\"amr_element_id\":null,\"payload\":{\"id\":{\"id\":\"v1\"},\"names\":[{\"id\":{\"id\":\"v1\"},\"name\":\"R0\",\"extraction_source\":null,\"provenance\":{\"method\":\"MIT extractor V1.0 - text, dataset, formula annotation (chunwei@mit.edu)\",\"timestamp\":\"2023-08-15T14:32:17.234476\"}}],\"descriptions\":[{\"id\":{\"id\":\"v1\"},\"source\":\"Basic reproduction number\",\"grounding\":null,\"extraction_source\":null,\"provenance\":{\"method\":\"MIT extractor V1.0 - text, dataset, formula annotation (chunwei@mit.edu)\",\"timestamp\":\"2023-08-15T14:32:17.234476\"}}],\"value_specs\":[{\"id\":{\"id\":\"v1-value\"},\"value\":{\"source\":\"2.38\",\"grounding\":null,\"extraction_source\":null},\"units\":null,\"type\":null,\"bounds\":null,\"provenance\":{\"method\":\"MIT extractor V1.0 - text, dataset, formula annotation (chunwei@mit.edu)\",\"timestamp\":\"2023-08-15T14:32:17.234476\"}}],\"groundings\":[{\"grounding_text\":\"has average R0\",\"grounding_id\":\"cido:0000610\",\"source\":[],\"score\":1.0,\"provenance\":{\"method\":\"MIT extractor V1.0 - text, dataset, formula annotation (chunwei@mit.edu)\",\"timestamp\":\"2023-08-15T14:32:17.234476\"}},{\"grounding_text\":\"basic reproduction number of infection\",\"grounding_id\":\"cido:0000589\",\"source\":[],\"score\":1.0,\"provenance\":{\"method\":\"MIT extractor V1.0 - text, dataset, formula annotation (chunwei@mit.edu)\",\"timestamp\":\"2023-08-15T14:32:17.234476\"}}],\"data_columns\":[]}},{\"type\":\"anchored_extraction\",\"amr_element_id\":null,\"payload\":{\"id\":{\"id\":\"v2\"},\"names\":[{\"id\":{\"id\":\"v2\"},\"name\":\"ND AS\",\"extraction_source\":null,\"provenance\":{\"method\":\"MIT extractor V1.0 - text, dataset, formula annotation (chunwei@mit.edu)\",\"timestamp\":\"2023-08-15T14:32:17.234476\"}}],\"descriptions\":[{\"id\":{\"id\":\"v2\"},\"source\":\"Non-diagnosed asymptomatic\",\"grounding\":null,\"extraction_source\":null,\"provenance\":{\"method\":\"MIT extractor V1.0 - text, dataset, formula annotation (chunwei@mit.edu)\",\"timestamp\":\"2023-08-15T14:32:17.234476\"}}],\"value_specs\":null,\"groundings\":[{\"grounding_text\":\"HVT-ND\",\"grounding_id\":\"vo:0004632\",\"source\":[],\"score\":1.0,\"provenance\":{\"method\":\"MIT extractor V1.0 - text, dataset, formula annotation (chunwei@mit.edu)\",\"timestamp\":\"2023-08-15T14:32:17.234476\"}},{\"grounding_text\":\"Vectormune FP-ND\",\"grounding_id\":\"vo:0001016\",\"source\":[],\"score\":1.0,\"provenance\":{\"method\":\"MIT extractor V1.0 - text, dataset, formula annotation (chunwei@mit.edu)\",\"timestamp\":\"2023-08-15T14:32:17.234476\"}}],\"data_columns\":[]}},{\"type\":\"anchored_extraction\",\"amr_element_id\":null,\"payload\":{\"id\":{\"id\":\"v3\"},\"names\":[{\"id\":{\"id\":\"v3\"},\"name\":\"D AS\",\"extraction_source\":null,\"provenance\":{\"method\":\"MIT extractor V1.0 - text, dataset, formula annotation (chunwei@mit.edu)\",\"timestamp\":\"2023-08-15T14:32:17.234476\"}}],\"descriptions\":[{\"id\":{\"id\":\"v3\"},\"source\":\"Diagnosed asymptomatic\",\"grounding\":null,\"extraction_source\":null,\"provenance\":{\"method\":\"MIT extractor V1.0 - text, dataset, formula annotation (chunwei@mit.edu)\",\"timestamp\":\"2023-08-15T14:32:17.234476\"}}],\"value_specs\":null,\"groundings\":[{\"grounding_text\":\"asymptomatic host\",\"grounding_id\":\"apollosv:00000236\",\"source\":[],\"score\":1.0,\"provenance\":{\"method\":\"MIT extractor V1.0 - text, dataset, formula annotation (chunwei@mit.edu)\",\"timestamp\":\"2023-08-15T14:32:17.234476\"}},{\"grounding_text\":\"Asymptomatic\",\"grounding_id\":\"ncit:C3833\",\"source\":[],\"score\":1.0,\"provenance\":{\"method\":\"MIT extractor V1.0 - text, dataset, formula annotation (chunwei@mit.edu)\",\"timestamp\":\"2023-08-15T14:32:17.234476\"}}],\"data_columns\":[]}},{\"type\":\"anchored_extraction\",\"amr_element_id\":null,\"payload\":{\"id\":{\"id\":\"v4\"},\"names\":[{\"id\":{\"id\":\"v4\"},\"name\":\"ND S\",\"extraction_source\":null,\"provenance\":{\"method\":\"MIT extractor V1.0 - text, dataset, formula annotation (chunwei@mit.edu)\",\"timestamp\":\"2023-08-15T14:32:17.234476\"}}],\"descriptions\":[{\"id\":{\"id\":\"v4\"},\"source\":\"Non-diagnosed symptomatic\",\"grounding\":null,\"extraction_source\":null,\"provenance\":{\"method\":\"MIT extractor V1.0 - text, dataset, formula annotation (chunwei@mit.edu)\",\"timestamp\":\"2023-08-15T14:32:17.234476\"}}],\"value_specs\":null,\"groundings\":[{\"grounding_text\":\"HVT-ND\",\"grounding_id\":\"vo:0004632\",\"source\":[],\"score\":1.0,\"provenance\":{\"method\":\"MIT extractor V1.0 - text, dataset, formula annotation (chunwei@mit.edu)\",\"timestamp\":\"2023-08-15T14:32:17.234476\"}},{\"grounding_text\":\"Vectormune FP-ND\",\"grounding_id\":\"vo:0001016\",\"source\":[],\"score\":1.0,\"provenance\":{\"method\":\"MIT extractor V1.0 - text, dataset, formula annotation (chunwei@mit.edu)\",\"timestamp\":\"2023-08-15T14:32:17.234476\"}}],\"data_columns\":[]}},{\"type\":\"anchored_extraction\",\"amr_element_id\":null,\"payload\":{\"id\":{\"id\":\"v5\"},\"names\":[{\"id\":{\"id\":\"v5\"},\"name\":\"D S\",\"extraction_source\":null,\"provenance\":{\"method\":\"MIT extractor V1.0 - text, dataset, formula annotation (chunwei@mit.edu)\",\"timestamp\":\"2023-08-15T14:32:17.234476\"}}],\"descriptions\":[{\"id\":{\"id\":\"v5\"},\"source\":\"Diagnosed symptomatic\",\"grounding\":null,\"extraction_source\":null,\"provenance\":{\"method\":\"MIT extractor V1.0 - text, dataset, formula annotation (chunwei@mit.edu)\",\"timestamp\":\"2023-08-15T14:32:17.234476\"}}],\"value_specs\":null,\"groundings\":[{\"grounding_text\":\"Symptomatic\",\"grounding_id\":\"ncit:C25269\",\"source\":[],\"score\":1.0,\"provenance\":{\"method\":\"MIT extractor V1.0 - text, dataset, formula annotation (chunwei@mit.edu)\",\"timestamp\":\"2023-08-15T14:32:17.234476\"}},{\"grounding_text\":\"Newly Diagnosed\",\"grounding_id\":\"ncit:C25587\",\"source\":[],\"score\":1.0,\"provenance\":{\"method\":\"MIT extractor V1.0 - text, dataset, formula annotation (chunwei@mit.edu)\",\"timestamp\":\"2023-08-15T14:32:17.234476\"}}],\"data_columns\":[]}},{\"type\":\"anchored_extraction\",\"amr_element_id\":null,\"payload\":{\"id\":{\"id\":\"v6\"},\"names\":[{\"id\":{\"id\":\"v6\"},\"name\":\"D IC\",\"extraction_source\":null,\"provenance\":{\"method\":\"MIT extractor V1.0 - text, dataset, formula annotation (chunwei@mit.edu)\",\"timestamp\":\"2023-08-15T14:32:17.234476\"}}],\"descriptions\":[{\"id\":{\"id\":\"v6\"},\"source\":\"Diagnosed with life-threatening symptoms\",\"grounding\":null,\"extraction_source\":null,\"provenance\":{\"method\":\"MIT extractor V1.0 - text, dataset, formula annotation (chunwei@mit.edu)\",\"timestamp\":\"2023-08-15T14:32:17.234476\"}}],\"value_specs\":null,\"groundings\":[{\"grounding_text\":\"iC SARS-CoV2 Test\",\"grounding_id\":\"cido:0020170\",\"source\":[],\"score\":1.0,\"provenance\":{\"method\":\"MIT extractor V1.0 - text, dataset, formula annotation (chunwei@mit.edu)\",\"timestamp\":\"2023-08-15T14:32:17.234476\"}},{\"grounding_text\":\"life-threatening reaction to previous vaccination\",\"grounding_id\":\"vo:0000233\",\"source\":[],\"score\":1.0,\"provenance\":{\"method\":\"MIT extractor V1.0 - text, dataset, formula annotation (chunwei@mit.edu)\",\"timestamp\":\"2023-08-15T14:32:17.234476\"}}],\"data_columns\":[]}},{\"type\":\"anchored_extraction\",\"amr_element_id\":null,\"payload\":{\"id\":{\"id\":\"v7\"},\"names\":[{\"id\":{\"id\":\"v7\"},\"name\":\"α\",\"extraction_source\":null,\"provenance\":{\"method\":\"MIT extractor V1.0 - text, dataset, formula annotation (chunwei@mit.edu)\",\"timestamp\":\"2023-08-15T14:32:17.234476\"}}],\"descriptions\":[{\"id\":{\"id\":\"v7\"},\"source\":\"Contagion rate\",\"grounding\":null,\"extraction_source\":null,\"provenance\":{\"method\":\"MIT extractor V1.0 - text, dataset, formula annotation (chunwei@mit.edu)\",\"timestamp\":\"2023-08-15T14:32:17.234476\"}},{\"id\":{\"id\":\"v7\"},\"source\":\"transmission rate due to contact with infected population\",\"grounding\":null,\"extraction_source\":null,\"provenance\":{\"method\":\"MIT extractor V1.0 - text, dataset, formula annotation (chunwei@mit.edu)\",\"timestamp\":\"2023-08-15T14:32:17.234476\"}}],\"value_specs\":[{\"id\":{\"id\":\"v7-value\"},\"value\":{\"source\":\"0.252\",\"grounding\":null,\"extraction_source\":null},\"units\":null,\"type\":null,\"bounds\":null,\"provenance\":{\"method\":\"MIT extractor V1.0 - text, dataset, formula annotation (chunwei@mit.edu)\",\"timestamp\":\"2023-08-15T14:32:17.234476\"}}],\"groundings\":[{\"grounding_text\":\"rate\",\"grounding_id\":\"probonto:k0000603\",\"source\":[],\"score\":1.0,\"provenance\":{\"method\":\"MIT extractor V1.0 - text, dataset, formula annotation (chunwei@mit.edu)\",\"timestamp\":\"2023-08-15T14:32:17.234476\"}},{\"grounding_text\":\"Response Rate\",\"grounding_id\":\"ncit:C94502\",\"source\":[],\"score\":1.0,\"provenance\":{\"method\":\"MIT extractor V1.0 - text, dataset, formula annotation (chunwei@mit.edu)\",\"timestamp\":\"2023-08-15T14:32:17.234476\"}}],\"data_columns\":[]}},{\"type\":\"anchored_extraction\",\"amr_element_id\":null,\"payload\":{\"id\":{\"id\":\"v8\"},\"names\":[{\"id\":{\"id\":\"v8\"},\"name\":\"β\",\"extraction_source\":null,\"provenance\":{\"method\":\"MIT extractor V1.0 - text, dataset, formula annotation (chunwei@mit.edu)\",\"timestamp\":\"2023-08-15T14:32:17.234476\"}}],\"descriptions\":[{\"id\":{\"id\":\"v8\"},\"source\":\"Contagion rate\",\"grounding\":null,\"extraction_source\":null,\"provenance\":{\"method\":\"MIT extractor V1.0 - text, dataset, formula annotation (chunwei@mit.edu)\",\"timestamp\":\"2023-08-15T14:32:17.234476\"}},{\"id\":{\"id\":\"v8\"},\"source\":\"transmission rate due to contact with diagnosed population\",\"grounding\":null,\"extraction_source\":null,\"provenance\":{\"method\":\"MIT extractor V1.0 - text, dataset, formula annotation (chunwei@mit.edu)\",\"timestamp\":\"2023-08-15T14:32:17.234476\"}}],\"value_specs\":[{\"id\":{\"id\":\"v8-value\"},\"value\":{\"source\":\"0.0057\",\"grounding\":null,\"extraction_source\":null},\"units\":null,\"type\":null,\"bounds\":null,\"provenance\":{\"method\":\"MIT extractor V1.0 - text, dataset, formula annotation (chunwei@mit.edu)\",\"timestamp\":\"2023-08-15T14:32:17.234476\"}}],\"groundings\":[{\"grounding_text\":\"rate\",\"grounding_id\":\"probonto:k0000603\",\"source\":[],\"score\":1.0,\"provenance\":{\"method\":\"MIT extractor V1.0 - text, dataset, formula annotation (chunwei@mit.edu)\",\"timestamp\":\"2023-08-15T14:32:17.234476\"}},{\"grounding_text\":\"Response Rate\",\"grounding_id\":\"ncit:C94502\",\"source\":[],\"score\":1.0,\"provenance\":{\"method\":\"MIT extractor V1.0 - text, dataset, formula annotation (chunwei@mit.edu)\",\"timestamp\":\"2023-08-15T14:32:17.234476\"}}],\"data_columns\":[]}},{\"type\":\"anchored_extraction\",\"amr_element_id\":null,\"payload\":{\"id\":{\"id\":\"v9\"},\"names\":[{\"id\":{\"id\":\"v9\"},\"name\":\"γ\",\"extraction_source\":null,\"provenance\":{\"method\":\"MIT extractor V1.0 - text, dataset, formula annotation (chunwei@mit.edu)\",\"timestamp\":\"2023-08-15T14:32:17.234476\"}}],\"descriptions\":[{\"id\":{\"id\":\"v9\"},\"source\":\"Contagion rate\",\"grounding\":null,\"extraction_source\":null,\"provenance\":{\"method\":\"MIT extractor V1.0 - text, dataset, formula annotation (chunwei@mit.edu)\",\"timestamp\":\"2023-08-15T14:32:17.234476\"}},{\"id\":{\"id\":\"v9\"},\"source\":\"transmission rate due to contact with ailing population\",\"grounding\":null,\"extraction_source\":null,\"provenance\":{\"method\":\"MIT extractor V1.0 - text, dataset, formula annotation (chunwei@mit.edu)\",\"timestamp\":\"2023-08-15T14:32:17.234476\"}}],\"value_specs\":[{\"id\":{\"id\":\"v9-value\"},\"value\":{\"source\":\"0.285\",\"grounding\":null,\"extraction_source\":null},\"units\":null,\"type\":null,\"bounds\":null,\"provenance\":{\"method\":\"MIT extractor V1.0 - text, dataset, formula annotation (chunwei@mit.edu)\",\"timestamp\":\"2023-08-15T14:32:17.234476\"}}],\"groundings\":[{\"grounding_text\":\"rate\",\"grounding_id\":\"probonto:k0000603\",\"source\":[],\"score\":1.0,\"provenance\":{\"method\":\"MIT extractor V1.0 - text, dataset, formula annotation (chunwei@mit.edu)\",\"timestamp\":\"2023-08-15T14:32:17.234476\"}},{\"grounding_text\":\"Response Rate\",\"grounding_id\":\"ncit:C94502\",\"source\":[],\"score\":1.0,\"provenance\":{\"method\":\"MIT extractor V1.0 - text, dataset, formula annotation (chunwei@mit.edu)\",\"timestamp\":\"2023-08-15T14:32:17.234476\"}}],\"data_columns\":[]}},{\"type\":\"anchored_extraction\",\"amr_element_id\":null,\"payload\":{\"id\":{\"id\":\"v10\"},\"names\":[{\"id\":{\"id\":\"v10\"},\"name\":\"δ\",\"extraction_source\":null,\"provenance\":{\"method\":\"MIT extractor V1.0 - text, dataset, formula annotation (chunwei@mit.edu)\",\"timestamp\":\"2023-08-15T14:32:17.234476\"}}],\"descriptions\":[{\"id\":{\"id\":\"v10\"},\"source\":\"Contagion rate\",\"grounding\":null,\"extraction_source\":null,\"provenance\":{\"method\":\"MIT extractor V1.0 - text, dataset, formula annotation (chunwei@mit.edu)\",\"timestamp\":\"2023-08-15T14:32:17.234476\"}},{\"id\":{\"id\":\"v10\"},\"source\":\"transmission rate due to contact with recognized population\",\"grounding\":null,\"extraction_source\":null,\"provenance\":{\"method\":\"MIT extractor V1.0 - text, dataset, formula annotation (chunwei@mit.edu)\",\"timestamp\":\"2023-08-15T14:32:17.234476\"}}],\"value_specs\":[{\"id\":{\"id\":\"v10-value\"},\"value\":{\"source\":\"0.0057\",\"grounding\":null,\"extraction_source\":null},\"units\":null,\"type\":null,\"bounds\":null,\"provenance\":{\"method\":\"MIT extractor V1.0 - text, dataset, formula annotation (chunwei@mit.edu)\",\"timestamp\":\"2023-08-15T14:32:17.234476\"}}],\"groundings\":[{\"grounding_text\":\"rate\",\"grounding_id\":\"probonto:k0000603\",\"source\":[],\"score\":1.0,\"provenance\":{\"method\":\"MIT extractor V1.0 - text, dataset, formula annotation (chunwei@mit.edu)\",\"timestamp\":\"2023-08-15T14:32:17.234476\"}},{\"grounding_text\":\"Response Rate\",\"grounding_id\":\"ncit:C94502\",\"source\":[],\"score\":1.0,\"provenance\":{\"method\":\"MIT extractor V1.0 - text, dataset, formula annotation (chunwei@mit.edu)\",\"timestamp\":\"2023-08-15T14:32:17.234476\"}}],\"data_columns\":[]}},{\"type\":\"anchored_extraction\",\"amr_element_id\":null,\"payload\":{\"id\":{\"id\":\"v11\"},\"names\":[{\"id\":{\"id\":\"v11\"},\"name\":\"λ\",\"extraction_source\":null,\"provenance\":{\"method\":\"MIT extractor V1.0 - text, dataset, formula annotation (chunwei@mit.edu)\",\"timestamp\":\"2023-08-15T14:32:17.234476\"}}],\"descriptions\":[{\"id\":{\"id\":\"v11\"},\"source\":\"Healing rate\",\"grounding\":null,\"extraction_source\":null,\"provenance\":{\"method\":\"MIT extractor V1.0 - text, dataset, formula annotation (chunwei@mit.edu)\",\"timestamp\":\"2023-08-15T14:32:17.234476\"}},{\"id\":{\"id\":\"v11\"},\"source\":\"rate of recovery for infected population\",\"grounding\":null,\"extraction_source\":null,\"provenance\":{\"method\":\"MIT extractor V1.0 - text, dataset, formula annotation (chunwei@mit.edu)\",\"timestamp\":\"2023-08-15T14:32:17.234476\"}}],\"value_specs\":null,\"groundings\":[{\"grounding_text\":\"abnormal wound healing\",\"grounding_id\":\"symp:0020021\",\"source\":[],\"score\":1.0,\"provenance\":{\"method\":\"MIT extractor V1.0 - text, dataset, formula annotation (chunwei@mit.edu)\",\"timestamp\":\"2023-08-15T14:32:17.234476\"}},{\"grounding_text\":\"rate\",\"grounding_id\":\"probonto:k0000603\",\"source\":[],\"score\":1.0,\"provenance\":{\"method\":\"MIT extractor V1.0 - text, dataset, formula annotation (chunwei@mit.edu)\",\"timestamp\":\"2023-08-15T14:32:17.234476\"}}],\"data_columns\":[]}},{\"type\":\"anchored_extraction\",\"amr_element_id\":null,\"payload\":{\"id\":{\"id\":\"v12\"},\"names\":[{\"id\":{\"id\":\"v12\"},\"name\":\"κ\",\"extraction_source\":null,\"provenance\":{\"method\":\"MIT extractor V1.0 - text, dataset, formula annotation (chunwei@mit.edu)\",\"timestamp\":\"2023-08-15T14:32:17.234476\"}}],\"descriptions\":[{\"id\":{\"id\":\"v12\"},\"source\":\"Healing rate\",\"grounding\":null,\"extraction_source\":null,\"provenance\":{\"method\":\"MIT extractor V1.0 - text, dataset, formula annotation (chunwei@mit.edu)\",\"timestamp\":\"2023-08-15T14:32:17.234476\"}},{\"id\":{\"id\":\"v12\"},\"source\":\"rate of recovery for ailing population\",\"grounding\":null,\"extraction_source\":null,\"provenance\":{\"method\":\"MIT extractor V1.0 - text, dataset, formula annotation (chunwei@mit.edu)\",\"timestamp\":\"2023-08-15T14:32:17.234476\"}}],\"value_specs\":null,\"groundings\":[{\"grounding_text\":\"abnormal wound healing\",\"grounding_id\":\"symp:0020021\",\"source\":[],\"score\":1.0,\"provenance\":{\"method\":\"MIT extractor V1.0 - text, dataset, formula annotation (chunwei@mit.edu)\",\"timestamp\":\"2023-08-15T14:32:17.234476\"}},{\"grounding_text\":\"rate\",\"grounding_id\":\"probonto:k0000603\",\"source\":[],\"score\":1.0,\"provenance\":{\"method\":\"MIT extractor V1.0 - text, dataset, formula annotation (chunwei@mit.edu)\",\"timestamp\":\"2023-08-15T14:32:17.234476\"}}],\"data_columns\":[]}},{\"type\":\"anchored_extraction\",\"amr_element_id\":null,\"payload\":{\"id\":{\"id\":\"v13\"},\"names\":[{\"id\":{\"id\":\"v13\"},\"name\":\"ε\",\"extraction_source\":null,\"provenance\":{\"method\":\"MIT extractor V1.0 - text, dataset, formula annotation (chunwei@mit.edu)\",\"timestamp\":\"2023-08-15T14:32:17.234476\"}}],\"descriptions\":[{\"id\":{\"id\":\"v13\"},\"source\":\"Diagnosis rate\",\"grounding\":null,\"extraction_source\":null,\"provenance\":{\"method\":\"MIT extractor V1.0 - text, dataset, formula annotation (chunwei@mit.edu)\",\"timestamp\":\"2023-08-15T14:32:17.234476\"}},{\"id\":{\"id\":\"v13\"},\"source\":\"rate of detection for asymptomatic cases\",\"grounding\":null,\"extraction_source\":null,\"provenance\":{\"method\":\"MIT extractor V1.0 - text, dataset, formula annotation (chunwei@mit.edu)\",\"timestamp\":\"2023-08-15T14:32:17.234476\"}}],\"value_specs\":[{\"id\":{\"id\":\"v13-value\"},\"value\":{\"source\":\"0.400\",\"grounding\":null,\"extraction_source\":null},\"units\":null,\"type\":null,\"bounds\":null,\"provenance\":{\"method\":\"MIT extractor V1.0 - text, dataset, formula annotation (chunwei@mit.edu)\",\"timestamp\":\"2023-08-15T14:32:17.234476\"}}],\"groundings\":[{\"grounding_text\":\"Diagnosis\",\"grounding_id\":\"ncit:C15220\",\"source\":[],\"score\":1.0,\"provenance\":{\"method\":\"MIT extractor V1.0 - text, dataset, formula annotation (chunwei@mit.edu)\",\"timestamp\":\"2023-08-15T14:32:17.234476\"}},{\"grounding_text\":\"rate\",\"grounding_id\":\"probonto:k0000603\",\"source\":[],\"score\":1.0,\"provenance\":{\"method\":\"MIT extractor V1.0 - text, dataset, formula annotation (chunwei@mit.edu)\",\"timestamp\":\"2023-08-15T14:32:17.234476\"}}],\"data_columns\":[]}},{\"type\":\"anchored_extraction\",\"amr_element_id\":null,\"payload\":{\"id\":{\"id\":\"v14\"},\"names\":[{\"id\":{\"id\":\"v14\"},\"name\":\"θ\",\"extraction_source\":null,\"provenance\":{\"method\":\"MIT extractor V1.0 - text, dataset, formula annotation (chunwei@mit.edu)\",\"timestamp\":\"2023-08-15T14:32:17.234476\"}}],\"descriptions\":[{\"id\":{\"id\":\"v14\"},\"source\":\"Diagnosis rate\",\"grounding\":null,\"extraction_source\":null,\"provenance\":{\"method\":\"MIT extractor V1.0 - text, dataset, formula annotation (chunwei@mit.edu)\",\"timestamp\":\"2023-08-15T14:32:17.234476\"}},{\"id\":{\"id\":\"v14\"},\"source\":\"rate of developing clinically relevant symptoms for asymptomatic cases\",\"grounding\":null,\"extraction_source\":null,\"provenance\":{\"method\":\"MIT extractor V1.0 - text, dataset, formula annotation (chunwei@mit.edu)\",\"timestamp\":\"2023-08-15T14:32:17.234476\"}}],\"value_specs\":null,\"groundings\":[{\"grounding_text\":\"Diagnosis\",\"grounding_id\":\"ncit:C15220\",\"source\":[],\"score\":1.0,\"provenance\":{\"method\":\"MIT extractor V1.0 - text, dataset, formula annotation (chunwei@mit.edu)\",\"timestamp\":\"2023-08-15T14:32:17.234476\"}},{\"grounding_text\":\"rate\",\"grounding_id\":\"probonto:k0000603\",\"source\":[],\"score\":1.0,\"provenance\":{\"method\":\"MIT extractor V1.0 - text, dataset, formula annotation (chunwei@mit.edu)\",\"timestamp\":\"2023-08-15T14:32:17.234476\"}}],\"data_columns\":[]}},{\"type\":\"anchored_extraction\",\"amr_element_id\":null,\"payload\":{\"id\":{\"id\":\"v15\"},\"names\":[{\"id\":{\"id\":\"v15\"},\"name\":\"η\",\"extraction_source\":null,\"provenance\":{\"method\":\"MIT extractor V1.0 - text, dataset, formula annotation (chunwei@mit.edu)\",\"timestamp\":\"2023-08-15T14:32:17.234476\"}}],\"descriptions\":[{\"id\":{\"id\":\"v15\"},\"source\":\"Symptoms rate\",\"grounding\":null,\"extraction_source\":null,\"provenance\":{\"method\":\"MIT extractor V1.0 - text, dataset, formula annotation (chunwei@mit.edu)\",\"timestamp\":\"2023-08-15T14:32:17.234476\"}},{\"id\":{\"id\":\"v15\"},\"source\":\"rate of developing clinically relevant symptoms for diagnosed cases\",\"grounding\":null,\"extraction_source\":null,\"provenance\":{\"method\":\"MIT extractor V1.0 - text, dataset, formula annotation (chunwei@mit.edu)\",\"timestamp\":\"2023-08-15T14:32:17.234476\"}}],\"value_specs\":null,\"groundings\":[{\"grounding_text\":\"rate\",\"grounding_id\":\"probonto:k0000603\",\"source\":[],\"score\":1.0,\"provenance\":{\"method\":\"MIT extractor V1.0 - text, dataset, formula annotation (chunwei@mit.edu)\",\"timestamp\":\"2023-08-15T14:32:17.234476\"}},{\"grounding_text\":\"Response Rate\",\"grounding_id\":\"ncit:C94502\",\"source\":[],\"score\":1.0,\"provenance\":{\"method\":\"MIT extractor V1.0 - text, dataset, formula annotation (chunwei@mit.edu)\",\"timestamp\":\"2023-08-15T14:32:17.234476\"}}],\"data_columns\":[]}},{\"type\":\"anchored_extraction\",\"amr_element_id\":null,\"payload\":{\"id\":{\"id\":\"v16\"},\"names\":[{\"id\":{\"id\":\"v16\"},\"name\":\"σ\",\"extraction_source\":null,\"provenance\":{\"method\":\"MIT extractor V1.0 - text, dataset, formula annotation (chunwei@mit.edu)\",\"timestamp\":\"2023-08-15T14:32:17.234476\"}}],\"descriptions\":[{\"id\":{\"id\":\"v16\"},\"source\":\"Healing rate\",\"grounding\":null,\"extraction_source\":null,\"provenance\":{\"method\":\"MIT extractor V1.0 - text, dataset, formula annotation (chunwei@mit.edu)\",\"timestamp\":\"2023-08-15T14:32:17.234476\"}},{\"id\":{\"id\":\"v16\"},\"source\":\"Healing parameter\",\"grounding\":null,\"extraction_source\":null,\"provenance\":{\"method\":\"MIT extractor V1.0 - text, dataset, formula annotation (chunwei@mit.edu)\",\"timestamp\":\"2023-08-15T14:32:17.234476\"}}],\"value_specs\":null,\"groundings\":[{\"grounding_text\":\"abnormal wound healing\",\"grounding_id\":\"symp:0020021\",\"source\":[],\"score\":1.0,\"provenance\":{\"method\":\"MIT extractor V1.0 - text, dataset, formula annotation (chunwei@mit.edu)\",\"timestamp\":\"2023-08-15T14:32:17.234476\"}},{\"grounding_text\":\"rate\",\"grounding_id\":\"probonto:k0000603\",\"source\":[],\"score\":1.0,\"provenance\":{\"method\":\"MIT extractor V1.0 - text, dataset, formula annotation (chunwei@mit.edu)\",\"timestamp\":\"2023-08-15T14:32:17.234476\"}}],\"data_columns\":[]}},{\"type\":\"anchored_extraction\",\"amr_element_id\":null,\"payload\":{\"id\":{\"id\":\"v17\"},\"names\":[{\"id\":{\"id\":\"v17\"},\"name\":\"ν\",\"extraction_source\":null,\"provenance\":{\"method\":\"MIT extractor V1.0 - text, dataset, formula annotation (chunwei@mit.edu)\",\"timestamp\":\"2023-08-15T14:32:17.234476\"}}],\"descriptions\":[{\"id\":{\"id\":\"v17\"},\"source\":\"Critical rate\",\"grounding\":null,\"extraction_source\":null,\"provenance\":{\"method\":\"MIT extractor V1.0 - text, dataset, formula annotation (chunwei@mit.edu)\",\"timestamp\":\"2023-08-15T14:32:17.234476\"}},{\"id\":{\"id\":\"v17\"},\"source\":\"Healing parameter\",\"grounding\":null,\"extraction_source\":null,\"provenance\":{\"method\":\"MIT extractor V1.0 - text, dataset, formula annotation (chunwei@mit.edu)\",\"timestamp\":\"2023-08-15T14:32:17.234476\"}}],\"value_specs\":null,\"groundings\":[{\"grounding_text\":\"Critical\",\"grounding_id\":\"ncit:C25467\",\"source\":[],\"score\":1.0,\"provenance\":{\"method\":\"MIT extractor V1.0 - text, dataset, formula annotation (chunwei@mit.edu)\",\"timestamp\":\"2023-08-15T14:32:17.234476\"}},{\"grounding_text\":\"rate\",\"grounding_id\":\"probonto:k0000603\",\"source\":[],\"score\":1.0,\"provenance\":{\"method\":\"MIT extractor V1.0 - text, dataset, formula annotation (chunwei@mit.edu)\",\"timestamp\":\"2023-08-15T14:32:17.234476\"}}],\"data_columns\":[]}},{\"type\":\"anchored_extraction\",\"amr_element_id\":null,\"payload\":{\"id\":{\"id\":\"v18\"},\"names\":[{\"id\":{\"id\":\"v18\"},\"name\":\"μ\",\"extraction_source\":null,\"provenance\":{\"method\":\"MIT extractor V1.0 - text, dataset, formula annotation (chunwei@mit.edu)\",\"timestamp\":\"2023-08-15T14:32:17.234476\"}}],\"descriptions\":[{\"id\":{\"id\":\"v18\"},\"source\":\"Critical rate\",\"grounding\":null,\"extraction_source\":null,\"provenance\":{\"method\":\"MIT extractor V1.0 - text, dataset, formula annotation (chunwei@mit.edu)\",\"timestamp\":\"2023-08-15T14:32:17.234476\"}},{\"id\":{\"id\":\"v18\"},\"source\":\"Healing parameter\",\"grounding\":null,\"extraction_source\":null,\"provenance\":{\"method\":\"MIT extractor V1.0 - text, dataset, formula annotation (chunwei@mit.edu)\",\"timestamp\":\"2023-08-15T14:32:17.234476\"}}],\"value_specs\":null,\"groundings\":[{\"grounding_text\":\"Critical\",\"grounding_id\":\"ncit:C25467\",\"source\":[],\"score\":1.0,\"provenance\":{\"method\":\"MIT extractor V1.0 - text, dataset, formula annotation (chunwei@mit.edu)\",\"timestamp\":\"2023-08-15T14:32:17.234476\"}},{\"grounding_text\":\"rate\",\"grounding_id\":\"probonto:k0000603\",\"source\":[],\"score\":1.0,\"provenance\":{\"method\":\"MIT extractor V1.0 - text, dataset, formula annotation (chunwei@mit.edu)\",\"timestamp\":\"2023-08-15T14:32:17.234476\"}}],\"data_columns\":[]}},{\"type\":\"anchored_extraction\",\"amr_element_id\":null,\"payload\":{\"id\":{\"id\":\"v19\"},\"names\":[{\"id\":{\"id\":\"v19\"},\"name\":\"τ\",\"extraction_source\":null,\"provenance\":{\"method\":\"MIT extractor V1.0 - text, dataset, formula annotation (chunwei@mit.edu)\",\"timestamp\":\"2023-08-15T14:32:17.234476\"}}],\"descriptions\":[{\"id\":{\"id\":\"v19\"},\"source\":\"Death rate\",\"grounding\":null,\"extraction_source\":null,\"provenance\":{\"method\":\"MIT extractor V1.0 - text, dataset, formula annotation (chunwei@mit.edu)\",\"timestamp\":\"2023-08-15T14:32:17.234476\"}},{\"id\":{\"id\":\"v19\"},\"source\":\"Healing parameter\",\"grounding\":null,\"extraction_source\":null,\"provenance\":{\"method\":\"MIT extractor V1.0 - text, dataset, formula annotation (chunwei@mit.edu)\",\"timestamp\":\"2023-08-15T14:32:17.234476\"}}],\"value_specs\":null,\"groundings\":[{\"grounding_text\":\"rate\",\"grounding_id\":\"probonto:k0000603\",\"source\":[],\"score\":1.0,\"provenance\":{\"method\":\"MIT extractor V1.0 - text, dataset, formula annotation (chunwei@mit.edu)\",\"timestamp\":\"2023-08-15T14:32:17.234476\"}},{\"grounding_text\":\"death AE\",\"grounding_id\":\"oae:0000632\",\"source\":[],\"score\":1.0,\"provenance\":{\"method\":\"MIT extractor V1.0 - text, dataset, formula annotation (chunwei@mit.edu)\",\"timestamp\":\"2023-08-15T14:32:17.234476\"}}],\"data_columns\":[]}},{\"type\":\"anchored_extraction\",\"amr_element_id\":null,\"payload\":{\"id\":{\"id\":\"v20\"},\"names\":[{\"id\":{\"id\":\"v20\"},\"name\":\"S_ðtÞ\",\"extraction_source\":null,\"provenance\":{\"method\":\"MIT extractor V1.0 - text, dataset, formula annotation (chunwei@mit.edu)\",\"timestamp\":\"2023-08-15T14:32:17.234476\"}}],\"descriptions\":[{\"id\":{\"id\":\"v20\"},\"source\":\"rate of susceptible population\",\"grounding\":null,\"extraction_source\":null,\"provenance\":{\"method\":\"MIT extractor V1.0 - text, dataset, formula annotation (chunwei@mit.edu)\",\"timestamp\":\"2023-08-15T14:32:17.234476\"}}],\"value_specs\":null,\"groundings\":[{\"grounding_text\":\"susceptible population\",\"grounding_id\":\"apollosv:00000234\",\"source\":[],\"score\":1.0,\"provenance\":{\"method\":\"MIT extractor V1.0 - text, dataset, formula annotation (chunwei@mit.edu)\",\"timestamp\":\"2023-08-15T14:32:17.234476\"}},{\"grounding_text\":\"count of susceptible population\",\"grounding_id\":\"apollosv:00000087\",\"source\":[],\"score\":1.0,\"provenance\":{\"method\":\"MIT extractor V1.0 - text, dataset, formula annotation (chunwei@mit.edu)\",\"timestamp\":\"2023-08-15T14:32:17.234476\"}}],\"data_columns\":[]}},{\"type\":\"anchored_extraction\",\"amr_element_id\":null,\"payload\":{\"id\":{\"id\":\"v21\"},\"names\":[{\"id\":{\"id\":\"v21\"},\"name\":\"I_ðtÞ\",\"extraction_source\":null,\"provenance\":{\"method\":\"MIT extractor V1.0 - text, dataset, formula annotation (chunwei@mit.edu)\",\"timestamp\":\"2023-08-15T14:32:17.234476\"}}],\"descriptions\":[{\"id\":{\"id\":\"v21\"},\"source\":\"rate of infected population\",\"grounding\":null,\"extraction_source\":null,\"provenance\":{\"method\":\"MIT extractor V1.0 - text, dataset, formula annotation (chunwei@mit.edu)\",\"timestamp\":\"2023-08-15T14:32:17.234476\"}}],\"value_specs\":null,\"groundings\":[{\"grounding_text\":\"infected population\",\"grounding_id\":\"apollosv:00000233\",\"source\":[],\"score\":1.0,\"provenance\":{\"method\":\"MIT extractor V1.0 - text, dataset, formula annotation (chunwei@mit.edu)\",\"timestamp\":\"2023-08-15T14:32:17.234476\"}},{\"grounding_text\":\"infected population\",\"grounding_id\":\"ido:0000511\",\"source\":[],\"score\":1.0,\"provenance\":{\"method\":\"MIT extractor V1.0 - text, dataset, formula annotation (chunwei@mit.edu)\",\"timestamp\":\"2023-08-15T14:32:17.234476\"}}],\"data_columns\":[]}},{\"type\":\"anchored_extraction\",\"amr_element_id\":null,\"payload\":{\"id\":{\"id\":\"v22\"},\"names\":[{\"id\":{\"id\":\"v22\"},\"name\":\"D_ ð t Þ\",\"extraction_source\":null,\"provenance\":{\"method\":\"MIT extractor V1.0 - text, dataset, formula annotation (chunwei@mit.edu)\",\"timestamp\":\"2023-08-15T14:32:17.234476\"}}],\"descriptions\":[{\"id\":{\"id\":\"v22\"},\"source\":\"rate of diagnosed population\",\"grounding\":null,\"extraction_source\":null,\"provenance\":{\"method\":\"MIT extractor V1.0 - text, dataset, formula annotation (chunwei@mit.edu)\",\"timestamp\":\"2023-08-15T14:32:17.234476\"}}],\"value_specs\":null,\"groundings\":[{\"grounding_text\":\"Wolbachia effect on adult mortality rate in mosquito population\",\"grounding_id\":\"apollosv:00000419\",\"source\":[],\"score\":1.0,\"provenance\":{\"method\":\"MIT extractor V1.0 - text, dataset, formula annotation (chunwei@mit.edu)\",\"timestamp\":\"2023-08-15T14:32:17.234476\"}},{\"grounding_text\":\"Wolbachia effect on larval mortality rate in mosquito population\",\"grounding_id\":\"apollosv:00000420\",\"source\":[],\"score\":1.0,\"provenance\":{\"method\":\"MIT extractor V1.0 - text, dataset, formula annotation (chunwei@mit.edu)\",\"timestamp\":\"2023-08-15T14:32:17.234476\"}}],\"data_columns\":[]}},{\"type\":\"anchored_extraction\",\"amr_element_id\":null,\"payload\":{\"id\":{\"id\":\"v23\"},\"names\":[{\"id\":{\"id\":\"v23\"},\"name\":\"A_ ð t Þ\",\"extraction_source\":null,\"provenance\":{\"method\":\"MIT extractor V1.0 - text, dataset, formula annotation (chunwei@mit.edu)\",\"timestamp\":\"2023-08-15T14:32:17.234476\"}}],\"descriptions\":[{\"id\":{\"id\":\"v23\"},\"source\":\"rate of ailing population\",\"grounding\":null,\"extraction_source\":null,\"provenance\":{\"method\":\"MIT extractor V1.0 - text, dataset, formula annotation (chunwei@mit.edu)\",\"timestamp\":\"2023-08-15T14:32:17.234476\"}}],\"value_specs\":null,\"groundings\":[{\"grounding_text\":\"Wolbachia effect on adult mortality rate in mosquito population\",\"grounding_id\":\"apollosv:00000419\",\"source\":[],\"score\":1.0,\"provenance\":{\"method\":\"MIT extractor V1.0 - text, dataset, formula annotation (chunwei@mit.edu)\",\"timestamp\":\"2023-08-15T14:32:17.234476\"}},{\"grounding_text\":\"Wolbachia effect on larval mortality rate in mosquito population\",\"grounding_id\":\"apollosv:00000420\",\"source\":[],\"score\":1.0,\"provenance\":{\"method\":\"MIT extractor V1.0 - text, dataset, formula annotation (chunwei@mit.edu)\",\"timestamp\":\"2023-08-15T14:32:17.234476\"}}],\"data_columns\":[]}},{\"type\":\"anchored_extraction\",\"amr_element_id\":null,\"payload\":{\"id\":{\"id\":\"v24\"},\"names\":[{\"id\":{\"id\":\"v24\"},\"name\":\"R_ ð t Þ\",\"extraction_source\":null,\"provenance\":{\"method\":\"MIT extractor V1.0 - text, dataset, formula annotation (chunwei@mit.edu)\",\"timestamp\":\"2023-08-15T14:32:17.234476\"}}],\"descriptions\":[{\"id\":{\"id\":\"v24\"},\"source\":\"rate of recognized population\",\"grounding\":null,\"extraction_source\":null,\"provenance\":{\"method\":\"MIT extractor V1.0 - text, dataset, formula annotation (chunwei@mit.edu)\",\"timestamp\":\"2023-08-15T14:32:17.234476\"}}],\"value_specs\":null,\"groundings\":[{\"grounding_text\":\"Wolbachia effect on adult mortality rate in mosquito population\",\"grounding_id\":\"apollosv:00000419\",\"source\":[],\"score\":1.0,\"provenance\":{\"method\":\"MIT extractor V1.0 - text, dataset, formula annotation (chunwei@mit.edu)\",\"timestamp\":\"2023-08-15T14:32:17.234476\"}},{\"grounding_text\":\"Wolbachia effect on larval mortality rate in mosquito population\",\"grounding_id\":\"apollosv:00000420\",\"source\":[],\"score\":1.0,\"provenance\":{\"method\":\"MIT extractor V1.0 - text, dataset, formula annotation (chunwei@mit.edu)\",\"timestamp\":\"2023-08-15T14:32:17.234476\"}}],\"data_columns\":[]}},{\"type\":\"anchored_extraction\",\"amr_element_id\":null,\"payload\":{\"id\":{\"id\":\"v25\"},\"names\":[{\"id\":{\"id\":\"v25\"},\"name\":\"T_ ð t Þ\",\"extraction_source\":null,\"provenance\":{\"method\":\"MIT extractor V1.0 - text, dataset, formula annotation (chunwei@mit.edu)\",\"timestamp\":\"2023-08-15T14:32:17.234476\"}}],\"descriptions\":[{\"id\":{\"id\":\"v25\"},\"source\":\"rate of threatened population\",\"grounding\":null,\"extraction_source\":null,\"provenance\":{\"method\":\"MIT extractor V1.0 - text, dataset, formula annotation (chunwei@mit.edu)\",\"timestamp\":\"2023-08-15T14:32:17.234476\"}}],\"value_specs\":null,\"groundings\":[{\"grounding_text\":\"Wolbachia effect on adult mortality rate in mosquito population\",\"grounding_id\":\"apollosv:00000419\",\"source\":[],\"score\":1.0,\"provenance\":{\"method\":\"MIT extractor V1.0 - text, dataset, formula annotation (chunwei@mit.edu)\",\"timestamp\":\"2023-08-15T14:32:17.234476\"}},{\"grounding_text\":\"Wolbachia effect on larval mortality rate in mosquito population\",\"grounding_id\":\"apollosv:00000420\",\"source\":[],\"score\":1.0,\"provenance\":{\"method\":\"MIT extractor V1.0 - text, dataset, formula annotation (chunwei@mit.edu)\",\"timestamp\":\"2023-08-15T14:32:17.234476\"}}],\"data_columns\":[]}},{\"type\":\"anchored_extraction\",\"amr_element_id\":null,\"payload\":{\"id\":{\"id\":\"v26\"},\"names\":[{\"id\":{\"id\":\"v26\"},\"name\":\"H_ ðtÞ\",\"extraction_source\":null,\"provenance\":{\"method\":\"MIT extractor V1.0 - text, dataset, formula annotation (chunwei@mit.edu)\",\"timestamp\":\"2023-08-15T14:32:17.234476\"}}],\"descriptions\":[{\"id\":{\"id\":\"v26\"},\"source\":\"rate of hospitalized population\",\"grounding\":null,\"extraction_source\":null,\"provenance\":{\"method\":\"MIT extractor V1.0 - text, dataset, formula annotation (chunwei@mit.edu)\",\"timestamp\":\"2023-08-15T14:32:17.234476\"}}],\"value_specs\":null,\"groundings\":[{\"grounding_text\":\"median age of cases hospitalized\",\"grounding_id\":\"cemo:median_age_of_cases_hospitalized\",\"source\":[],\"score\":1.0,\"provenance\":{\"method\":\"MIT extractor V1.0 - text, dataset, formula annotation (chunwei@mit.edu)\",\"timestamp\":\"2023-08-15T14:32:17.234476\"}},{\"grounding_text\":\"number of cases hospitalized this week\",\"grounding_id\":\"cemo:number_of_cases_hospitalized_this_week\",\"source\":[],\"score\":1.0,\"provenance\":{\"method\":\"MIT extractor V1.0 - text, dataset, formula annotation (chunwei@mit.edu)\",\"timestamp\":\"2023-08-15T14:32:17.234476\"}}],\"data_columns\":[]}},{\"type\":\"anchored_extraction\",\"amr_element_id\":null,\"payload\":{\"id\":{\"id\":\"v27\"},\"names\":[{\"id\":{\"id\":\"v27\"},\"name\":\"E_ ð t Þ\",\"extraction_source\":null,\"provenance\":{\"method\":\"MIT extractor V1.0 - text, dataset, formula annotation (chunwei@mit.edu)\",\"timestamp\":\"2023-08-15T14:32:17.234476\"}}],\"descriptions\":[{\"id\":{\"id\":\"v27\"},\"source\":\"rate of deceased population\",\"grounding\":null,\"extraction_source\":null,\"provenance\":{\"method\":\"MIT extractor V1.0 - text, dataset, formula annotation (chunwei@mit.edu)\",\"timestamp\":\"2023-08-15T14:32:17.234476\"}}],\"value_specs\":null,\"groundings\":[{\"grounding_text\":\"Wolbachia effect on adult mortality rate in mosquito population\",\"grounding_id\":\"apollosv:00000419\",\"source\":[],\"score\":1.0,\"provenance\":{\"method\":\"MIT extractor V1.0 - text, dataset, formula annotation (chunwei@mit.edu)\",\"timestamp\":\"2023-08-15T14:32:17.234476\"}},{\"grounding_text\":\"Wolbachia effect on larval mortality rate in mosquito population\",\"grounding_id\":\"apollosv:00000420\",\"source\":[],\"score\":1.0,\"provenance\":{\"method\":\"MIT extractor V1.0 - text, dataset, formula annotation (chunwei@mit.edu)\",\"timestamp\":\"2023-08-15T14:32:17.234476\"}}],\"data_columns\":[]}},{\"type\":\"anchored_extraction\",\"amr_element_id\":null,\"payload\":{\"id\":{\"id\":\"v28\"},\"names\":[{\"id\":{\"id\":\"v28\"},\"name\":\"ζ\",\"extraction_source\":null,\"provenance\":{\"method\":\"MIT extractor V1.0 - text, dataset, formula annotation (chunwei@mit.edu)\",\"timestamp\":\"2023-08-15T14:32:17.234476\"}}],\"descriptions\":[{\"id\":{\"id\":\"v28\"},\"source\":\"rate of detection for symptomatic cases\",\"grounding\":null,\"extraction_source\":null,\"provenance\":{\"method\":\"MIT extractor V1.0 - text, dataset, formula annotation (chunwei@mit.edu)\",\"timestamp\":\"2023-08-15T14:32:17.234476\"}},{\"id\":{\"id\":\"v28\"},\"source\":\"Healing parameter\",\"grounding\":null,\"extraction_source\":null,\"provenance\":{\"method\":\"MIT extractor V1.0 - text, dataset, formula annotation (chunwei@mit.edu)\",\"timestamp\":\"2023-08-15T14:32:17.234476\"}}],\"value_specs\":null,\"groundings\":[{\"grounding_text\":\"rate cases by testing\",\"grounding_id\":\"cemo:rate_cases_by_testing\",\"source\":[],\"score\":1.0,\"provenance\":{\"method\":\"MIT extractor V1.0 - text, dataset, formula annotation (chunwei@mit.edu)\",\"timestamp\":\"2023-08-15T14:32:17.234476\"}},{\"grounding_text\":\"Symptomatic\",\"grounding_id\":\"ncit:C25269\",\"source\":[],\"score\":1.0,\"provenance\":{\"method\":\"MIT extractor V1.0 - text, dataset, formula annotation (chunwei@mit.edu)\",\"timestamp\":\"2023-08-15T14:32:17.234476\"}}],\"data_columns\":[]}},{\"type\":\"anchored_extraction\",\"amr_element_id\":null,\"payload\":{\"id\":{\"id\":\"v29\"},\"names\":[{\"id\":{\"id\":\"v29\"},\"name\":\"ρ\",\"extraction_source\":null,\"provenance\":{\"method\":\"MIT extractor V1.0 - text, dataset, formula annotation (chunwei@mit.edu)\",\"timestamp\":\"2023-08-15T14:32:17.234476\"}}],\"descriptions\":[{\"id\":{\"id\":\"v29\"},\"source\":\"Healing parameter\",\"grounding\":null,\"extraction_source\":null,\"provenance\":{\"method\":\"MIT extractor V1.0 - text, dataset, formula annotation (chunwei@mit.edu)\",\"timestamp\":\"2023-08-15T14:32:17.234476\"}}],\"value_specs\":null,\"groundings\":[{\"grounding_text\":\"abnormal wound healing\",\"grounding_id\":\"symp:0020021\",\"source\":[],\"score\":1.0,\"provenance\":{\"method\":\"MIT extractor V1.0 - text, dataset, formula annotation (chunwei@mit.edu)\",\"timestamp\":\"2023-08-15T14:32:17.234476\"}},{\"grounding_text\":\"poor wound healing\",\"grounding_id\":\"symp:0020028\",\"source\":[],\"score\":1.0,\"provenance\":{\"method\":\"MIT extractor V1.0 - text, dataset, formula annotation (chunwei@mit.edu)\",\"timestamp\":\"2023-08-15T14:32:17.234476\"}}],\"data_columns\":[]}},{\"type\":\"anchored_extraction\",\"amr_element_id\":null,\"payload\":{\"id\":{\"id\":\"v30\"},\"names\":[{\"id\":{\"id\":\"v30\"},\"name\":\"ξ\",\"extraction_source\":null,\"provenance\":{\"method\":\"MIT extractor V1.0 - text, dataset, formula annotation (chunwei@mit.edu)\",\"timestamp\":\"2023-08-15T14:32:17.234476\"}}],\"descriptions\":[{\"id\":{\"id\":\"v30\"},\"source\":\"Healing parameter\",\"grounding\":null,\"extraction_source\":null,\"provenance\":{\"method\":\"MIT extractor V1.0 - text, dataset, formula annotation (chunwei@mit.edu)\",\"timestamp\":\"2023-08-15T14:32:17.234476\"}}],\"value_specs\":null,\"groundings\":[{\"grounding_text\":\"abnormal wound healing\",\"grounding_id\":\"symp:0020021\",\"source\":[],\"score\":1.0,\"provenance\":{\"method\":\"MIT extractor V1.0 - text, dataset, formula annotation (chunwei@mit.edu)\",\"timestamp\":\"2023-08-15T14:32:17.234476\"}},{\"grounding_text\":\"poor wound healing\",\"grounding_id\":\"symp:0020028\",\"source\":[],\"score\":1.0,\"provenance\":{\"method\":\"MIT extractor V1.0 - text, dataset, formula annotation (chunwei@mit.edu)\",\"timestamp\":\"2023-08-15T14:32:17.234476\"}}],\"data_columns\":[]}},{\"type\":\"document_collection\",\"amr_element_id\":null,\"payload\":{\"documents\":[{\"id\":{\"id\":\"1\"},\"source_file\":\"ce46a17589ed0d6f1181689f335a9492__filename\",\"doi\":\"\"}]}}]}\n"
     ]
    }
   ],
   "source": [
    "# We assume plain text from arizona team.\n",
    "scenario_1_paper = \"sidarthe.txt\"\n",
    "with open(scenario_1_paper, 'rb') as f:\n",
    "    files = {'file': ('filename', f)}\n",
    "    params = {\"gpt_key\": GPT_KEY}\n",
    "    response = requests.post(API_ROOT + \"annotation/upload_file_extract/\",  params=params,  files=files)\n",
    "    json_str = response.text\n",
    "print(json_str)\n"
   ],
   "metadata": {
    "collapsed": false,
    "pycharm": {
     "name": "#%%\n"
    }
   }
  },
  {
   "cell_type": "markdown",
   "source": [
    "## 2. Get model card"
   ],
   "metadata": {
    "collapsed": false,
    "pycharm": {
     "name": "#%% md\n"
    }
   }
  },
  {
   "cell_type": "markdown",
   "source": [
    "#### Model cards provide general information about the model.\n",
    "[http://3.83.68.208/#/Data-and-model-cards/get_model_card_cards_get_model_card_post](http://3.83.68.208/#/Data-and-model-cards/get_model_card_cards_get_model_card_post)"
   ],
   "metadata": {
    "collapsed": false,
    "pycharm": {
     "name": "#%% md\n"
    }
   }
  },
  {
   "cell_type": "code",
   "execution_count": 6,
   "outputs": [
    {
     "data": {
      "text/plain": "{'DESCRIPTION': 'Modelling the COVID-19 epidemic and implementation of population-wide interventions in Italy',\n 'AUTHOR_INST': 'University of Trento, Trento, Italy',\n 'AUTHOR_AUTHOR': 'Giulia Giordano, Franco Blanchini, Raffaele Bruno, Patrizio Colaneri, Alessandro Di Filippo, Angela Di Matteo, Marta Colaneri',\n 'AUTHOR_EMAIL': 'giulia.giordano@unitn.it',\n 'DATE': 'UNKNOWN',\n 'SCHEMA': 'The model considers eight stages of infection: susceptible (S), infected (I), diagnosed (D), ailing (A), recognized (R), threatened (T), healed (H), and extinct (E), collectively termed SIDARTHE.',\n 'PROVENANCE': 'The model was trained using data from the COVID-19 epidemic in Italy.',\n 'DATASET': 'UNKNOWN',\n 'COMPLEXITY': 'UNKNOWN',\n 'USAGE': 'The model can be used to predict the course of the COVID-19 epidemic and evaluate the impact of different control strategies.',\n 'LICENSE': 'UNKNOWN'}"
     },
     "execution_count": 6,
     "metadata": {},
     "output_type": "execute_result"
    }
   ],
   "source": [
    "text_name = \"sidarthe.txt\"\n",
    "code_name = \"sidarthe-code.txt\"\n",
    "\n",
    "with open(text_name, 'rb') as f_text, open(code_name, 'rb') as f_code:\n",
    "    files = { 'text_file': ('filename', f_text),'code_file': ('filename', f_code)}\n",
    "    params = {\"gpt_key\": GPT_KEY}\n",
    "    response = requests.post(API_ROOT + \"cards/get_model_card\", params=params, files=files)\n",
    "#     print(response.text)\n",
    "\n",
    "ast.literal_eval(response.text)"
   ],
   "metadata": {
    "collapsed": false,
    "pycharm": {
     "name": "#%%\n"
    }
   }
  },
  {
   "cell_type": "markdown",
   "source": [
    "## 3. Get data card"
   ],
   "metadata": {
    "collapsed": false,
    "pycharm": {
     "name": "#%% md\n"
    }
   }
  },
  {
   "cell_type": "markdown",
   "source": [
    "####  TODO (we need to find the corresponding dataset)\n",
    "Data cards summarize general information about the dataset.\n",
    "[http://3.83.68.208/#/Data-and-model-cards/get_data_card_cards_get_data_card_post](http://3.83.68.208/#/Data-and-model-cards/get_data_card_cards_get_data_card_post)\n",
    "\n",
    "The data card endpoint supports both tabular and matrix (e.g. transmission probabilities) data.\n",
    "It will automatically detect which one has been passed, based on whether or not the first row in the dataset contains purely numeric data.\n",
    "\n",
    "In addition to the fields which are populated based on the documentation provided (e.g. `DESCRIPTION`, `AUTHOR_NAME`, etc.), the data card also includes the data profiling results.\n",
    "When the data is tabular, this consists of column-level DKG groundings and summary statistics.\n",
    "When it is a matrix, it instead consists of matrix-level summary statistics.\n",
    "\n",
    "**Note:** When the data is tabular, `EXAMPLES` is a dictionary from `column name: example column value`. When the data is a matrix, `EXAMPLES` is a list consisting of a *sample row*.\n"
   ],
   "metadata": {
    "collapsed": false,
    "pycharm": {
     "name": "#%% md\n"
    }
   }
  },
  {
   "cell_type": "code",
   "execution_count": 34,
   "outputs": [
    {
     "data": {
      "text/plain": [
       "{'DESCRIPTION': 'A Simple SEIR model for wastewater-based epidemiological modeling of COVID-19 outbreak.',\n",
       " 'AUTHOR_NAME': 'Mehrdad Fazli, Samuel Sklar, Michael D Porter, Brent A French, Heman Shakeri',\n",
       " 'AUTHOR_EMAIL': 'UNKNOWN',\n",
       " 'DATE': '2021',\n",
       " 'PROVENANCE': 'The data was collected through wastewater surveillance as a continuous pooled sampling technique.',\n",
       " 'SENSITIVITY': 'UNKNOWN',\n",
       " 'LICENSE': 'UNKNOWN',\n",
       " 'SCHEMA': ['dates',\n",
       "  'VAX_count',\n",
       "  'day',\n",
       "  'sdm',\n",
       "  'events',\n",
       "  'I_1',\n",
       "  'I_2',\n",
       "  'I_3',\n",
       "  'Y_1',\n",
       "  'Y_2',\n",
       "  'Y_3',\n",
       "  'V_1',\n",
       "  'V_2',\n",
       "  'V_3',\n",
       "  'Infected',\n",
       "  'Y',\n",
       "  'V',\n",
       "  'logV'],\n",
       " 'EXAMPLES': {'dates': '2020-05-01',\n",
       "  'VAX_count': 0.0,\n",
       "  'day': 52.0,\n",
       "  'sdm': 0.086,\n",
       "  'events': 0.0,\n",
       "  'I_1': 33.0,\n",
       "  'I_2': 8.0,\n",
       "  'I_3': 116.0,\n",
       "  'Y_1': 1.0,\n",
       "  'Y_2': 0.0,\n",
       "  'Y_3': 1.0,\n",
       "  'V_1': 48330.96993832172,\n",
       "  'V_2': 30791.74221975949,\n",
       "  'V_3': 199986.2197207459,\n",
       "  'Infected': 157.0,\n",
       "  'Y': 2.0,\n",
       "  'V': 83871.45174036581,\n",
       "  'logV': 11.337040569240429},\n",
       " 'DATA_PROFILING_RESULT': {'dates': {'col_name': 'dates',\n",
       "   'concept': 'Date of data collection',\n",
       "   'unit': 'Date',\n",
       "   'description': 'The date when the data was collected.',\n",
       "   'dkg_groundings': [['dc:date', 'Date', 'property'],\n",
       "    ['oboinowl:date', 'date', 'property'],\n",
       "    ['opmi:0000488', 'visit end date', 'class'],\n",
       "    ['obib:0000714', 'date of specimen collection', 'class']],\n",
       "   'column_stats': {'type': 'date',\n",
       "    'most_common_entries': {'2020-03-10T00:00:00': 1,\n",
       "     '2021-02-28T00:00:00': 1,\n",
       "     '2021-03-14T00:00:00': 1,\n",
       "     '2021-03-13T00:00:00': 1,\n",
       "     '2021-03-12T00:00:00': 1,\n",
       "     '2021-03-11T00:00:00': 1,\n",
       "     '2021-03-10T00:00:00': 1,\n",
       "     '2021-03-09T00:00:00': 1,\n",
       "     '2021-03-08T00:00:00': 1,\n",
       "     '2021-03-07T00:00:00': 1},\n",
       "    'num_unique_entries': 540,\n",
       "    'earliest': '2020-03-10T00:00:00',\n",
       "    'latest': '2021-08-31T00:00:00',\n",
       "    'num_null_entries': 0}},\n",
       "  'VAX_count': {'col_name': 'VAX_count',\n",
       "   'concept': 'Vaccination count',\n",
       "   'unit': 'Count',\n",
       "   'description': 'The number of vaccinations administered on the given date.',\n",
       "   'dkg_groundings': [['oboinowl:date', 'date', 'property'],\n",
       "    ['dc:date', 'Date', 'property'],\n",
       "    ['apollosv:00000047', 'vaccination administration capacity', 'class'],\n",
       "    ['opmi:0000529', 'condition end date', 'class']],\n",
       "   'column_stats': {'mean': 44.56481481481482,\n",
       "    'std': 91.57703785200043,\n",
       "    'min': 0.0,\n",
       "    '25%': 0.0,\n",
       "    '50%': 0.0,\n",
       "    '75%': 45.25,\n",
       "    'max': 587.0,\n",
       "    'type': 'numeric',\n",
       "    'num_null_entries': 0}},\n",
       "  'day': {'col_name': 'day',\n",
       "   'concept': 'Day of the year',\n",
       "   'unit': 'Count',\n",
       "   'description': 'The day of the year corresponding to the date of data collection.',\n",
       "   'dkg_groundings': [['opmi:0000091', 'day of birth', 'class'],\n",
       "    ['wikidata:Q102129592', 'reciprocal_day', 'class'],\n",
       "    ['idomal:0000478', '1 day after blood meal', 'class'],\n",
       "    ['opmi:0000473', 'year of birth', 'class']],\n",
       "   'column_stats': {'mean': 269.5,\n",
       "    'std': 156.02884348735012,\n",
       "    'min': 0.0,\n",
       "    '25%': 134.75,\n",
       "    '50%': 269.5,\n",
       "    '75%': 404.25,\n",
       "    'max': 539.0,\n",
       "    'type': 'numeric',\n",
       "    'num_null_entries': 0}},\n",
       "  'sdm': {'col_name': 'sdm',\n",
       "   'concept': 'Stochasticity in the transmission rates',\n",
       "   'unit': 'Proportion',\n",
       "   'description': 'The proportion of stochasticity in the transmission rates on the given date.',\n",
       "   'dkg_groundings': [['cemo:device-specific_rates_and_procedure-specific_rates',\n",
       "     'device-specific rates and procedure-specific rates',\n",
       "     'class'],\n",
       "    ['cido:0000157', 'SARS-CoV transmission', 'class'],\n",
       "    ['cido:0000156', 'SARS-CoV-2 transmission', 'class'],\n",
       "    ['cido:0000155', 'coronavirus transmission', 'class']],\n",
       "   'column_stats': {'mean': 0.33188518518518517,\n",
       "    'std': 0.33411446629713515,\n",
       "    'min': 0.04,\n",
       "    '25%': 0.089,\n",
       "    '50%': 0.12,\n",
       "    '75%': 0.6,\n",
       "    'max': 1.0,\n",
       "    'type': 'numeric',\n",
       "    'num_null_entries': 0}},\n",
       "  'events': {'col_name': 'events',\n",
       "   'concept': 'Unforeseen events',\n",
       "   'unit': 'Count',\n",
       "   'description': 'The number of unforeseen events that occurred on the given date.',\n",
       "   'dkg_groundings': [['cemo:number_of_cases_with_exposure_events',\n",
       "     'number of cases with exposure events',\n",
       "     'class'],\n",
       "    ['cemo:number_of_schools_with_exposure_events',\n",
       "     'number of schools with exposure events',\n",
       "     'class'],\n",
       "    ['cemo:number_of_cases_with_school_exposure_events',\n",
       "     'number of cases with school exposure events',\n",
       "     'class'],\n",
       "    ['pato:0000165', 'time', 'class']],\n",
       "   'column_stats': {'mean': 0.12259259259259257,\n",
       "    'std': 0.16684550289840552,\n",
       "    'min': 0.0,\n",
       "    '25%': 0.1,\n",
       "    '50%': 0.1,\n",
       "    '75%': 0.1,\n",
       "    'max': 0.8,\n",
       "    'type': 'numeric',\n",
       "    'num_null_entries': 0}},\n",
       "  'I_1': {'col_name': 'I_1',\n",
       "   'concept': 'Infectious population (Model 1)',\n",
       "   'unit': 'Count',\n",
       "   'description': 'The number of infectious individuals in the population according to the first model on the given date.',\n",
       "   'dkg_groundings': [['ido:0000447',\n",
       "     'herd immunity to infectious organism',\n",
       "     'class'],\n",
       "    ['idomal:0000352', 'herd immunity to infectious organism', 'class'],\n",
       "    ['apollosv:00000548', 'Susceptible-Infected-Susceptible model', 'class'],\n",
       "    ['apollosv:00000507', 'disease transmission model identifier', 'class']],\n",
       "   'column_stats': {'mean': 58.92037037037037,\n",
       "    'std': 54.643719981744255,\n",
       "    'min': 1.0,\n",
       "    '25%': 14.0,\n",
       "    '50%': 48.0,\n",
       "    '75%': 83.25,\n",
       "    'max': 221.0,\n",
       "    'type': 'numeric',\n",
       "    'num_null_entries': 0}},\n",
       "  'I_2': {'col_name': 'I_2',\n",
       "   'concept': 'Infectious population (Model 2)',\n",
       "   'unit': 'Count',\n",
       "   'description': 'The number of infectious individuals in the population according to the second model on the given date.',\n",
       "   'dkg_groundings': [['ido:0000447',\n",
       "     'herd immunity to infectious organism',\n",
       "     'class'],\n",
       "    ['idomal:0000352', 'herd immunity to infectious organism', 'class'],\n",
       "    ['apollosv:00000548', 'Susceptible-Infected-Susceptible model', 'class'],\n",
       "    ['apollosv:00000507', 'disease transmission model identifier', 'class']],\n",
       "   'column_stats': {'mean': 43.25925925925926,\n",
       "    'std': 57.52591903856349,\n",
       "    'min': 0.0,\n",
       "    '25%': 7.0,\n",
       "    '50%': 21.0,\n",
       "    '75%': 47.25,\n",
       "    'max': 229.0,\n",
       "    'type': 'numeric',\n",
       "    'num_null_entries': 0}},\n",
       "  'I_3': {'col_name': 'I_3',\n",
       "   'concept': 'Infectious population (Model 3)',\n",
       "   'unit': 'Count',\n",
       "   'description': 'The number of infectious individuals in the population according to the third model on the given date.',\n",
       "   'dkg_groundings': [['ido:0000447',\n",
       "     'herd immunity to infectious organism',\n",
       "     'class'],\n",
       "    ['idomal:0000352', 'herd immunity to infectious organism', 'class'],\n",
       "    ['apollosv:00000548', 'Susceptible-Infected-Susceptible model', 'class'],\n",
       "    ['apollosv:00000507', 'disease transmission model identifier', 'class']],\n",
       "   'column_stats': {'mean': 79.17407407407407,\n",
       "    'std': 64.41469941710787,\n",
       "    'min': 0.0,\n",
       "    '25%': 39.0,\n",
       "    '50%': 64.0,\n",
       "    '75%': 97.0,\n",
       "    'max': 291.0,\n",
       "    'type': 'numeric',\n",
       "    'num_null_entries': 0}},\n",
       "  'Y_1': {'col_name': 'Y_1',\n",
       "   'concept': 'Case count (Model 1)',\n",
       "   'unit': 'Count',\n",
       "   'description': 'The number of COVID-19 cases according to the first model on the given date.',\n",
       "   'dkg_groundings': [['apollosv:00000507',\n",
       "     'disease transmission model identifier',\n",
       "     'class'],\n",
       "    ['iao:0000017', 'model number', 'class'],\n",
       "    ['apollosv:00000561', 'disease transmission model software', 'class'],\n",
       "    ['apollosv:00000294', 'agent-based disease transmission model', 'class']],\n",
       "   'column_stats': {'mean': 1.5,\n",
       "    'std': 1.7931016028297173,\n",
       "    'min': 0.0,\n",
       "    '25%': 0.0,\n",
       "    '50%': 1.0,\n",
       "    '75%': 2.0,\n",
       "    'max': 13.0,\n",
       "    'type': 'numeric',\n",
       "    'num_null_entries': 0}},\n",
       "  'Y_2': {'col_name': 'Y_2',\n",
       "   'concept': 'Case count (Model 2)',\n",
       "   'unit': 'Count',\n",
       "   'description': 'The number of COVID-19 cases according to the second model on the given date.',\n",
       "   'dkg_groundings': [['apollosv:00000507',\n",
       "     'disease transmission model identifier',\n",
       "     'class'],\n",
       "    ['iao:0000017', 'model number', 'class'],\n",
       "    ['apollosv:00000561', 'disease transmission model software', 'class'],\n",
       "    ['apollosv:00000294', 'agent-based disease transmission model', 'class']],\n",
       "   'column_stats': {'mean': 1.1555555555555554,\n",
       "    'std': 1.713708416503968,\n",
       "    'min': 0.0,\n",
       "    '25%': 0.0,\n",
       "    '50%': 0.0,\n",
       "    '75%': 2.0,\n",
       "    'max': 10.0,\n",
       "    'type': 'numeric',\n",
       "    'num_null_entries': 0}},\n",
       "  'Y_3': {'col_name': 'Y_3',\n",
       "   'concept': 'Case count (Model 3)',\n",
       "   'unit': 'Count',\n",
       "   'description': 'The number of COVID-19 cases according to the third model on the given date.',\n",
       "   'dkg_groundings': [['apollosv:00000507',\n",
       "     'disease transmission model identifier',\n",
       "     'class'],\n",
       "    ['iao:0000017', 'model number', 'class'],\n",
       "    ['apollosv:00000561', 'disease transmission model software', 'class'],\n",
       "    ['apollosv:00000294', 'agent-based disease transmission model', 'class']],\n",
       "   'column_stats': {'mean': 1.962962962962963,\n",
       "    'std': 1.9230364340387716,\n",
       "    'min': 0.0,\n",
       "    '25%': 1.0,\n",
       "    '50%': 1.0,\n",
       "    '75%': 3.0,\n",
       "    'max': 10.0,\n",
       "    'type': 'numeric',\n",
       "    'num_null_entries': 0}},\n",
       "  'V_1': {'col_name': 'V_1',\n",
       "   'concept': 'Viral load (Model 1)',\n",
       "   'unit': 'Count',\n",
       "   'description': 'The viral load in the wastewater according to the first model on the given date.',\n",
       "   'dkg_groundings': [['apollosv:00000507',\n",
       "     'disease transmission model identifier',\n",
       "     'class'],\n",
       "    ['vsmo:0000051', 'viral load of arthropod', 'class'],\n",
       "    ['iao:0000017', 'model number', 'class'],\n",
       "    ['vido:0001331', 'viral load', 'class']],\n",
       "   'column_stats': {'mean': 99144.7632252408,\n",
       "    'std': 93740.91643752693,\n",
       "    'min': 1002.3180237027808,\n",
       "    '25%': 22667.889843027777,\n",
       "    '50%': 74545.22882665138,\n",
       "    '75%': 142646.6753042973,\n",
       "    'max': 406371.4656460259,\n",
       "    'type': 'numeric',\n",
       "    'num_null_entries': 0}},\n",
       "  'V_2': {'col_name': 'V_2',\n",
       "   'concept': 'Viral load (Model 2)',\n",
       "   'unit': 'Count',\n",
       "   'description': 'The viral load in the wastewater according to the second model on the given date.',\n",
       "   'dkg_groundings': [['apollosv:00000507',\n",
       "     'disease transmission model identifier',\n",
       "     'class'],\n",
       "    ['vsmo:0000051', 'viral load of arthropod', 'class'],\n",
       "    ['iao:0000017', 'model number', 'class'],\n",
       "    ['vido:0001331', 'viral load', 'class']],\n",
       "   'column_stats': {'mean': 72336.3696113207,\n",
       "    'std': 96313.92441935057,\n",
       "    'min': 0.0,\n",
       "    '25%': 10711.966807814451,\n",
       "    '50%': 35411.995339615874,\n",
       "    '75%': 80219.22502508922,\n",
       "    'max': 398459.3191052788,\n",
       "    'type': 'numeric',\n",
       "    'num_null_entries': 0}},\n",
       "  'V_3': {'col_name': 'V_3',\n",
       "   'concept': 'Viral load (Model 3)',\n",
       "   'unit': 'Count',\n",
       "   'description': 'The viral load in the wastewater according to the third model on the given date.',\n",
       "   'dkg_groundings': [['apollosv:00000507',\n",
       "     'disease transmission model identifier',\n",
       "     'class'],\n",
       "    ['vsmo:0000051', 'viral load of arthropod', 'class'],\n",
       "    ['iao:0000017', 'model number', 'class'],\n",
       "    ['vido:0001331', 'viral load', 'class']],\n",
       "   'column_stats': {'mean': 132590.61245229366,\n",
       "    'std': 109802.34668196192,\n",
       "    'min': 0.0,\n",
       "    '25%': 64695.0859253356,\n",
       "    '50%': 108511.39565896089,\n",
       "    '75%': 164867.68024359224,\n",
       "    'max': 513957.0474296356,\n",
       "    'type': 'numeric',\n",
       "    'num_null_entries': 0}},\n",
       "  'Infected': {'col_name': 'Infected',\n",
       "   'concept': 'Infected population',\n",
       "   'unit': 'Count',\n",
       "   'description': 'The number of infected individuals in the population on the given date.',\n",
       "   'dkg_groundings': [['apollosv:00000233', 'infected population', 'class'],\n",
       "    ['cido:0000292', 'human infected by SARS-CoV-2', 'class'],\n",
       "    ['ido:0000511', 'infected population', 'class'],\n",
       "    ['apollosv:00000155', 'population infection survey', 'class']],\n",
       "   'column_stats': {'mean': 181.3537037037037,\n",
       "    'std': 166.84490838993227,\n",
       "    'min': 5.0,\n",
       "    '25%': 93.0,\n",
       "    '50%': 127.0,\n",
       "    '75%': 194.0,\n",
       "    'max': 728.0,\n",
       "    'type': 'numeric',\n",
       "    'num_null_entries': 0}},\n",
       "  'Y': {'col_name': 'Y',\n",
       "   'concept': 'Total case count',\n",
       "   'unit': 'Count',\n",
       "   'description': 'The total number of COVID-19 cases on the given date.',\n",
       "   'dkg_groundings': [['apollosv:00000569', 'total disease cases', 'class'],\n",
       "    ['apollosv:00000568', 'total fatal disease cases', 'class'],\n",
       "    ['cemo:total_number_of_cases_removed_from_isolation',\n",
       "     'total number of cases removed from isolation',\n",
       "     'class'],\n",
       "    ['oae:0001658', 'protein total increased AE', 'class']],\n",
       "   'column_stats': {'mean': 4.618518518518519,\n",
       "    'std': 4.375979045463479,\n",
       "    'min': 0.0,\n",
       "    '25%': 2.0,\n",
       "    '50%': 3.0,\n",
       "    '75%': 6.0,\n",
       "    'max': 24.0,\n",
       "    'type': 'numeric',\n",
       "    'num_null_entries': 0}},\n",
       "  'V': {'col_name': 'V',\n",
       "   'concept': 'Total viral load',\n",
       "   'unit': 'Count',\n",
       "   'description': 'The total viral load in the wastewater on the given date.',\n",
       "   'dkg_groundings': [['vsmo:0000051', 'viral load of arthropod', 'class'],\n",
       "    ['oae:0001658', 'protein total increased AE', 'class'],\n",
       "    ['oae:0001659', 'protein total decreased AE', 'class'],\n",
       "    ['vo:0000156', 'viral gene', 'class']],\n",
       "   'column_stats': {'mean': 94945.09441078735,\n",
       "    'std': 87761.06214864712,\n",
       "    'min': 2032.6239080010116,\n",
       "    '25%': 45637.861836625896,\n",
       "    '50%': 66436.08220887893,\n",
       "    '75%': 102594.28449145911,\n",
       "    'max': 404785.44328658737,\n",
       "    'type': 'numeric',\n",
       "    'num_null_entries': 0}},\n",
       "  'logV': {'col_name': 'logV',\n",
       "   'concept': 'Logarithm of total viral load',\n",
       "   'unit': 'Logarithm (base e)',\n",
       "   'description': 'The natural logarithm of the total viral load in the wastewater on the given date.',\n",
       "   'dkg_groundings': [['vsmo:0000051', 'viral load of arthropod', 'class'],\n",
       "    ['vido:0001331', 'viral load', 'class'],\n",
       "    ['oae:0001658', 'protein total increased AE', 'class'],\n",
       "    ['oae:0001659', 'protein total decreased AE', 'class']],\n",
       "   'column_stats': {'mean': 11.064899833546166,\n",
       "    'std': 0.9704131476024136,\n",
       "    'min': 7.617082802909907,\n",
       "    '25%': 10.728492713353576,\n",
       "    '50%': 11.103994827924955,\n",
       "    '75%': 11.538537492141966,\n",
       "    'max': 12.9111124360484,\n",
       "    'type': 'numeric',\n",
       "    'num_null_entries': 0}}},\n",
       " 'DATASET_TYPE': 'tabular'}"
      ]
     },
     "execution_count": 34,
     "metadata": {},
     "output_type": "execute_result"
    }
   ],
   "source": [
    "# Tabular example\n",
    "csv_name = \"../../resources/dataset/ensemble/abm.csv\"\n",
    "doc_name = \"../../resources/dataset/ensemble/abm_doc.txt\"\n",
    "\n",
    "with open(csv_name, 'rb') as f_csv, open(doc_name,  'rb') as f_doc:\n",
    "    files = {'csv_file': ('filename', f_csv), 'doc_file': ('filename', f_doc)}\n",
    "    params = {\"gpt_key\": GPT_KEY}\n",
    "    response = requests.post(API_ROOT + \"cards/get_data_card/\",  params=params,  files=files)\n",
    "    json_str = response.text\n",
    "# print(json_str)\n",
    "ast.literal_eval(json_str)\n"
   ],
   "metadata": {
    "collapsed": false,
    "pycharm": {
     "name": "#%%\n"
    }
   }
  },
  {
   "cell_type": "code",
   "execution_count": null,
   "outputs": [],
   "source": [],
   "metadata": {
    "collapsed": false,
    "pycharm": {
     "name": "#%%\n"
    }
   }
  }
 ],
 "metadata": {
  "kernelspec": {
   "display_name": "Python 3",
   "language": "python",
   "name": "python3"
  },
  "language_info": {
   "codemirror_mode": {
    "name": "ipython",
    "version": 3
   },
   "file_extension": ".py",
   "mimetype": "text/x-python",
   "name": "python",
   "nbconvert_exporter": "python",
   "pygments_lexer": "ipython3",
   "version": "3.9.17"
  }
 },
 "nbformat": 4,
 "nbformat_minor": 5
}