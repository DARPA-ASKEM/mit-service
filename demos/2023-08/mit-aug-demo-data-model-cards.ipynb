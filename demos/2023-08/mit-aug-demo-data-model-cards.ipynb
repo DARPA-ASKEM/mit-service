{
 "cells": [
  {
   "cell_type": "markdown",
   "id": "7f6a1aaa",
   "metadata": {
    "pycharm": {
     "name": "#%% md\n"
    }
   },
   "source": [
    "# MIT (TA1): Data and model cards\n"
   ]
  },
  {
   "cell_type": "markdown",
   "id": "8f6cdd8b",
   "metadata": {
    "pycharm": {
     "name": "#%% md\n"
    }
   },
   "source": [
    "## 0. Preprocessing"
   ]
  },
  {
   "cell_type": "code",
   "execution_count": 2,
   "id": "d07d53d5",
   "metadata": {
    "pycharm": {
     "name": "#%%\n"
    }
   },
   "outputs": [],
   "source": [
    "import ast, json, requests, os\n",
    "from gpt_key import *\n",
    "API_ROOT = \"https://api.askem.lum.ai/\"\n",
    "# API_ROOT = \"https://api.askem.lum.ai/\"\n",
    "# \"http://localhost:8000/\" #"
   ]
  },
  {
   "cell_type": "markdown",
   "source": [
    "## 1. TA1 text extraction end to end pipeline"
   ],
   "metadata": {
    "collapsed": false,
    "pycharm": {
     "name": "#%% md\n"
    }
   }
  },
  {
   "cell_type": "markdown",
   "source": [
    "#### We bring every annotation step together: for the original paper pdf, let's integrate all the extraction modules and output the TA1 extraction:"
   ],
   "metadata": {
    "collapsed": false,
    "pycharm": {
     "name": "#%% md\n"
    }
   }
  },
  {
   "cell_type": "code",
   "execution_count": 3,
   "outputs": [
    {
     "name": "stdout",
     "output_type": "stream",
     "text": [
      "{\"outputs\":[{\"data\":{\"attributes\":[{\"type\":\"anchored_extraction\",\"amr_element_id\":null,\"payload\":{\"id\":{\"id\":\"v0\"},\"names\":[{\"id\":{\"id\":\"v0\"},\"name\":\"S\",\"extraction_source\":null,\"provenance\":{\"method\":\"MIT extractor V1.0 - text, dataset, formula annotation (chunwei@mit.edu)\",\"timestamp\":\"2023-08-21T22:37:55.722018\"}}],\"descriptions\":[{\"id\":{\"id\":\"v0\"},\"source\":\"Susceptible (uninfected)\",\"grounding\":null,\"extraction_source\":null,\"provenance\":{\"method\":\"MIT extractor V1.0 - text, dataset, formula annotation (chunwei@mit.edu)\",\"timestamp\":\"2023-08-21T22:37:55.722018\"}},{\"id\":{\"id\":\"v0\"},\"source\":\"fraction of population in susceptible stage\",\"grounding\":null,\"extraction_source\":null,\"provenance\":{\"method\":\"MIT extractor V1.0 - text, dataset, formula annotation (chunwei@mit.edu)\",\"timestamp\":\"2023-08-21T22:37:55.722018\"}}],\"value_specs\":[{\"id\":{\"id\":\"v0-value\"},\"value\":{\"source\":\"1 - I - D - A - R - T - H - E\",\"grounding\":null,\"extraction_source\":null},\"units\":null,\"type\":null,\"bounds\":null,\"provenance\":{\"method\":\"MIT extractor V1.0 - text, dataset, formula annotation (chunwei@mit.edu)\",\"timestamp\":\"2023-08-21T22:37:55.722018\"}}],\"groundings\":[{\"grounding_text\":\"uninfected\",\"grounding_id\":\"efo:0001460\",\"source\":[],\"score\":1.0,\"provenance\":{\"method\":\"MIT extractor V1.0 - text, dataset, formula annotation (chunwei@mit.edu)\",\"timestamp\":\"2023-08-21T22:37:55.722018\"}},{\"grounding_text\":\"susceptible to infection of\",\"grounding_id\":\"cido:0000391\",\"source\":[],\"score\":1.0,\"provenance\":{\"method\":\"MIT extractor V1.0 - text, dataset, formula annotation (chunwei@mit.edu)\",\"timestamp\":\"2023-08-21T22:37:55.722018\"}}],\"data_columns\":[]}},{\"type\":\"anchored_extraction\",\"amr_element_id\":null,\"payload\":{\"id\":{\"id\":\"v1\"},\"names\":[{\"id\":{\"id\":\"v1\"},\"name\":\"I\",\"extraction_source\":null,\"provenance\":{\"method\":\"MIT extractor V1.0 - text, dataset, formula annotation (chunwei@mit.edu)\",\"timestamp\":\"2023-08-21T22:37:55.722018\"}}],\"descriptions\":[{\"id\":{\"id\":\"v1\"},\"source\":\"Infected (asymptomatic or pauci-symptomatic infected, undetected)\",\"grounding\":null,\"extraction_source\":null,\"provenance\":{\"method\":\"MIT extractor V1.0 - text, dataset, formula annotation (chunwei@mit.edu)\",\"timestamp\":\"2023-08-21T22:37:55.722018\"}},{\"id\":{\"id\":\"v1\"},\"source\":\"fraction of population in infected stage\",\"grounding\":null,\"extraction_source\":null,\"provenance\":{\"method\":\"MIT extractor V1.0 - text, dataset, formula annotation (chunwei@mit.edu)\",\"timestamp\":\"2023-08-21T22:37:55.722018\"}}],\"value_specs\":[{\"id\":{\"id\":\"v1-value\"},\"value\":{\"source\":\"200/60e6\",\"grounding\":null,\"extraction_source\":null},\"units\":null,\"type\":null,\"bounds\":null,\"provenance\":{\"method\":\"MIT extractor V1.0 - text, dataset, formula annotation (chunwei@mit.edu)\",\"timestamp\":\"2023-08-21T22:37:55.722018\"}}],\"groundings\":[{\"grounding_text\":\"asymptomatic human female infected by SARS-CoV-2\",\"grounding_id\":\"cido:0000297\",\"source\":[],\"score\":1.0,\"provenance\":{\"method\":\"MIT extractor V1.0 - text, dataset, formula annotation (chunwei@mit.edu)\",\"timestamp\":\"2023-08-21T22:37:55.722018\"}},{\"grounding_text\":\"symptomatic human female infected by SARS-CoV-2\",\"grounding_id\":\"cido:0000295\",\"source\":[],\"score\":1.0,\"provenance\":{\"method\":\"MIT extractor V1.0 - text, dataset, formula annotation (chunwei@mit.edu)\",\"timestamp\":\"2023-08-21T22:37:55.722018\"}}],\"data_columns\":[{\"id\":{\"id\":\"0-6\"},\"name\":\"cumulative_confirmed\",\"dataset\":{\"id\":{\"id\":\"0\"},\"name\":\"usa-cases-deaths.csv\",\"metadata\":\"https://github.com/DARPA-ASKEM/program-milestones/blob/main/6-month-milestone/evaluation/scenario_3/ta_1/google-health-data/usa-cases-deaths.csv\"}},{\"id\":{\"id\":\"5-12\"},\"name\":\"cumulative_confirmed_age_0\",\"dataset\":{\"id\":{\"id\":\"5\"},\"name\":\"usa-cases-hospitalized-by-age.csv\",\"metadata\":\"https://github.com/DARPA-ASKEM/program-milestones/blob/main/6-month-milestone/evaluation/scenario_3/ta_1/google-health-data/usa-cases-hospitalized-by-age.csv\"}}]}},{\"type\":\"anchored_extraction\",\"amr_element_id\":null,\"payload\":{\"id\":{\"id\":\"v2\"},\"names\":[{\"id\":{\"id\":\"v2\"},\"name\":\"D\",\"extraction_source\":null,\"provenance\":{\"method\":\"MIT extractor V1.0 - text, dataset, formula annotation (chunwei@mit.edu)\",\"timestamp\":\"2023-08-21T22:37:55.722018\"}}],\"descriptions\":[{\"id\":{\"id\":\"v2\"},\"source\":\"Diagnosed (asymptomatic infected, detected)\",\"grounding\":null,\"extraction_source\":null,\"provenance\":{\"method\":\"MIT extractor V1.0 - text, dataset, formula annotation (chunwei@mit.edu)\",\"timestamp\":\"2023-08-21T22:37:55.722018\"}},{\"id\":{\"id\":\"v2\"},\"source\":\"fraction of population in diagnosed stage\",\"grounding\":null,\"extraction_source\":null,\"provenance\":{\"method\":\"MIT extractor V1.0 - text, dataset, formula annotation (chunwei@mit.edu)\",\"timestamp\":\"2023-08-21T22:37:55.722018\"}}],\"value_specs\":[{\"id\":{\"id\":\"v2-value\"},\"value\":{\"source\":\"20/60e6\",\"grounding\":null,\"extraction_source\":null},\"units\":null,\"type\":null,\"bounds\":null,\"provenance\":{\"method\":\"MIT extractor V1.0 - text, dataset, formula annotation (chunwei@mit.edu)\",\"timestamp\":\"2023-08-21T22:37:55.722018\"}}],\"groundings\":[{\"grounding_text\":\"asymptomatic human female infected by SARS-CoV-2\",\"grounding_id\":\"cido:0000297\",\"source\":[],\"score\":1.0,\"provenance\":{\"method\":\"MIT extractor V1.0 - text, dataset, formula annotation (chunwei@mit.edu)\",\"timestamp\":\"2023-08-21T22:37:55.722018\"}},{\"grounding_text\":\"asymptomatic host\",\"grounding_id\":\"apollosv:00000236\",\"source\":[],\"score\":1.0,\"provenance\":{\"method\":\"MIT extractor V1.0 - text, dataset, formula annotation (chunwei@mit.edu)\",\"timestamp\":\"2023-08-21T22:37:55.722018\"}}],\"data_columns\":[{\"id\":{\"id\":\"0-6\"},\"name\":\"cumulative_confirmed\",\"dataset\":{\"id\":{\"id\":\"0\"},\"name\":\"usa-cases-deaths.csv\",\"metadata\":\"https://github.com/DARPA-ASKEM/program-milestones/blob/main/6-month-milestone/evaluation/scenario_3/ta_1/google-health-data/usa-cases-deaths.csv\"}},{\"id\":{\"id\":\"5-12\"},\"name\":\"cumulative_confirmed_age_0\",\"dataset\":{\"id\":{\"id\":\"5\"},\"name\":\"usa-cases-hospitalized-by-age.csv\",\"metadata\":\"https://github.com/DARPA-ASKEM/program-milestones/blob/main/6-month-milestone/evaluation/scenario_3/ta_1/google-health-data/usa-cases-hospitalized-by-age.csv\"}}]}},{\"type\":\"anchored_extraction\",\"amr_element_id\":null,\"payload\":{\"id\":{\"id\":\"v3\"},\"names\":[{\"id\":{\"id\":\"v3\"},\"name\":\"A\",\"extraction_source\":null,\"provenance\":{\"method\":\"MIT extractor V1.0 - text, dataset, formula annotation (chunwei@mit.edu)\",\"timestamp\":\"2023-08-21T22:37:55.722018\"}}],\"descriptions\":[{\"id\":{\"id\":\"v3\"},\"source\":\"Ailing (symptomatic infected, undetected)\",\"grounding\":null,\"extraction_source\":null,\"provenance\":{\"method\":\"MIT extractor V1.0 - text, dataset, formula annotation (chunwei@mit.edu)\",\"timestamp\":\"2023-08-21T22:37:55.722018\"}},{\"id\":{\"id\":\"v3\"},\"source\":\"fraction of population in ailing stage\",\"grounding\":null,\"extraction_source\":null,\"provenance\":{\"method\":\"MIT extractor V1.0 - text, dataset, formula annotation (chunwei@mit.edu)\",\"timestamp\":\"2023-08-21T22:37:55.722018\"}}],\"value_specs\":[{\"id\":{\"id\":\"v3-value\"},\"value\":{\"source\":\"1/60e6\",\"grounding\":null,\"extraction_source\":null},\"units\":null,\"type\":null,\"bounds\":null,\"provenance\":{\"method\":\"MIT extractor V1.0 - text, dataset, formula annotation (chunwei@mit.edu)\",\"timestamp\":\"2023-08-21T22:37:55.722018\"}}],\"groundings\":[{\"grounding_text\":\"undetected cases\",\"grounding_id\":\"cemo:undetected_cases\",\"source\":[],\"score\":1.0,\"provenance\":{\"method\":\"MIT extractor V1.0 - text, dataset, formula annotation (chunwei@mit.edu)\",\"timestamp\":\"2023-08-21T22:37:55.722018\"}},{\"grounding_text\":\"symptomatic human female infected by SARS-CoV-2\",\"grounding_id\":\"cido:0000295\",\"source\":[],\"score\":1.0,\"provenance\":{\"method\":\"MIT extractor V1.0 - text, dataset, formula annotation (chunwei@mit.edu)\",\"timestamp\":\"2023-08-21T22:37:55.722018\"}}],\"data_columns\":[{\"id\":{\"id\":\"0-6\"},\"name\":\"cumulative_confirmed\",\"dataset\":{\"id\":{\"id\":\"0\"},\"name\":\"usa-cases-deaths.csv\",\"metadata\":\"https://github.com/DARPA-ASKEM/program-milestones/blob/main/6-month-milestone/evaluation/scenario_3/ta_1/google-health-data/usa-cases-deaths.csv\"}},{\"id\":{\"id\":\"5-12\"},\"name\":\"cumulative_confirmed_age_0\",\"dataset\":{\"id\":{\"id\":\"5\"},\"name\":\"usa-cases-hospitalized-by-age.csv\",\"metadata\":\"https://github.com/DARPA-ASKEM/program-milestones/blob/main/6-month-milestone/evaluation/scenario_3/ta_1/google-health-data/usa-cases-hospitalized-by-age.csv\"}}]}},{\"type\":\"anchored_extraction\",\"amr_element_id\":null,\"payload\":{\"id\":{\"id\":\"v4\"},\"names\":[{\"id\":{\"id\":\"v4\"},\"name\":\"R\",\"extraction_source\":null,\"provenance\":{\"method\":\"MIT extractor V1.0 - text, dataset, formula annotation (chunwei@mit.edu)\",\"timestamp\":\"2023-08-21T22:37:55.722018\"}}],\"descriptions\":[{\"id\":{\"id\":\"v4\"},\"source\":\"Recognized (symptomatic infected, detected)\",\"grounding\":null,\"extraction_source\":null,\"provenance\":{\"method\":\"MIT extractor V1.0 - text, dataset, formula annotation (chunwei@mit.edu)\",\"timestamp\":\"2023-08-21T22:37:55.722018\"}},{\"id\":{\"id\":\"v4\"},\"source\":\"fraction of population in recognized stage\",\"grounding\":null,\"extraction_source\":null,\"provenance\":{\"method\":\"MIT extractor V1.0 - text, dataset, formula annotation (chunwei@mit.edu)\",\"timestamp\":\"2023-08-21T22:37:55.722018\"}}],\"value_specs\":[{\"id\":{\"id\":\"v4-value\"},\"value\":{\"source\":\"2/60e6\",\"grounding\":null,\"extraction_source\":null},\"units\":null,\"type\":null,\"bounds\":null,\"provenance\":{\"method\":\"MIT extractor V1.0 - text, dataset, formula annotation (chunwei@mit.edu)\",\"timestamp\":\"2023-08-21T22:37:55.722018\"}}],\"groundings\":[{\"grounding_text\":\"symptomatic human female infected by SARS-CoV-2\",\"grounding_id\":\"cido:0000295\",\"source\":[],\"score\":1.0,\"provenance\":{\"method\":\"MIT extractor V1.0 - text, dataset, formula annotation (chunwei@mit.edu)\",\"timestamp\":\"2023-08-21T22:37:55.722018\"}},{\"grounding_text\":\"human infected by SARS-CoV-2\",\"grounding_id\":\"cido:0000292\",\"source\":[],\"score\":1.0,\"provenance\":{\"method\":\"MIT extractor V1.0 - text, dataset, formula annotation (chunwei@mit.edu)\",\"timestamp\":\"2023-08-21T22:37:55.722018\"}}],\"data_columns\":[{\"id\":{\"id\":\"0-6\"},\"name\":\"cumulative_confirmed\",\"dataset\":{\"id\":{\"id\":\"0\"},\"name\":\"usa-cases-deaths.csv\",\"metadata\":\"https://github.com/DARPA-ASKEM/program-milestones/blob/main/6-month-milestone/evaluation/scenario_3/ta_1/google-health-data/usa-cases-deaths.csv\"}},{\"id\":{\"id\":\"5-12\"},\"name\":\"cumulative_confirmed_age_0\",\"dataset\":{\"id\":{\"id\":\"5\"},\"name\":\"usa-cases-hospitalized-by-age.csv\",\"metadata\":\"https://github.com/DARPA-ASKEM/program-milestones/blob/main/6-month-milestone/evaluation/scenario_3/ta_1/google-health-data/usa-cases-hospitalized-by-age.csv\"}}]}},{\"type\":\"anchored_extraction\",\"amr_element_id\":null,\"payload\":{\"id\":{\"id\":\"v5\"},\"names\":[{\"id\":{\"id\":\"v5\"},\"name\":\"T\",\"extraction_source\":null,\"provenance\":{\"method\":\"MIT extractor V1.0 - text, dataset, formula annotation (chunwei@mit.edu)\",\"timestamp\":\"2023-08-21T22:37:55.722018\"}}],\"descriptions\":[{\"id\":{\"id\":\"v5\"},\"source\":\"Threatened (infected with life-threatening symptoms, detected)\",\"grounding\":null,\"extraction_source\":null,\"provenance\":{\"method\":\"MIT extractor V1.0 - text, dataset, formula annotation (chunwei@mit.edu)\",\"timestamp\":\"2023-08-21T22:37:55.722018\"}},{\"id\":{\"id\":\"v5\"},\"source\":\"fraction of population in threatened stage\",\"grounding\":null,\"extraction_source\":null,\"provenance\":{\"method\":\"MIT extractor V1.0 - text, dataset, formula annotation (chunwei@mit.edu)\",\"timestamp\":\"2023-08-21T22:37:55.722018\"}}],\"value_specs\":[{\"id\":{\"id\":\"v5-value\"},\"value\":{\"source\":\"0\",\"grounding\":null,\"extraction_source\":null},\"units\":null,\"type\":null,\"bounds\":null,\"provenance\":{\"method\":\"MIT extractor V1.0 - text, dataset, formula annotation (chunwei@mit.edu)\",\"timestamp\":\"2023-08-21T22:37:55.722018\"}}],\"groundings\":[{\"grounding_text\":\"life-threatening reaction to previous vaccination\",\"grounding_id\":\"vo:0000233\",\"source\":[],\"score\":1.0,\"provenance\":{\"method\":\"MIT extractor V1.0 - text, dataset, formula annotation (chunwei@mit.edu)\",\"timestamp\":\"2023-08-21T22:37:55.722018\"}},{\"grounding_text\":\"human infected with pathogen\",\"grounding_id\":\"cido:0000290\",\"source\":[],\"score\":1.0,\"provenance\":{\"method\":\"MIT extractor V1.0 - text, dataset, formula annotation (chunwei@mit.edu)\",\"timestamp\":\"2023-08-21T22:37:55.722018\"}}],\"data_columns\":[{\"id\":{\"id\":\"0-6\"},\"name\":\"cumulative_confirmed\",\"dataset\":{\"id\":{\"id\":\"0\"},\"name\":\"usa-cases-deaths.csv\",\"metadata\":\"https://github.com/DARPA-ASKEM/program-milestones/blob/main/6-month-milestone/evaluation/scenario_3/ta_1/google-health-data/usa-cases-deaths.csv\"}},{\"id\":{\"id\":\"5-12\"},\"name\":\"cumulative_confirmed_age_0\",\"dataset\":{\"id\":{\"id\":\"5\"},\"name\":\"usa-cases-hospitalized-by-age.csv\",\"metadata\":\"https://github.com/DARPA-ASKEM/program-milestones/blob/main/6-month-milestone/evaluation/scenario_3/ta_1/google-health-data/usa-cases-hospitalized-by-age.csv\"}}]}},{\"type\":\"anchored_extraction\",\"amr_element_id\":null,\"payload\":{\"id\":{\"id\":\"v6\"},\"names\":[{\"id\":{\"id\":\"v6\"},\"name\":\"H\",\"extraction_source\":null,\"provenance\":{\"method\":\"MIT extractor V1.0 - text, dataset, formula annotation (chunwei@mit.edu)\",\"timestamp\":\"2023-08-21T22:37:55.722018\"}}],\"descriptions\":[{\"id\":{\"id\":\"v6\"},\"source\":\"Healed (recovered)\",\"grounding\":null,\"extraction_source\":null,\"provenance\":{\"method\":\"MIT extractor V1.0 - text, dataset, formula annotation (chunwei@mit.edu)\",\"timestamp\":\"2023-08-21T22:37:55.722018\"}},{\"id\":{\"id\":\"v6\"},\"source\":\"fraction of population in hospitalized stage\",\"grounding\":null,\"extraction_source\":null,\"provenance\":{\"method\":\"MIT extractor V1.0 - text, dataset, formula annotation (chunwei@mit.edu)\",\"timestamp\":\"2023-08-21T22:37:55.722018\"}}],\"value_specs\":[{\"id\":{\"id\":\"v6-value\"},\"value\":{\"source\":\"0\",\"grounding\":null,\"extraction_source\":null},\"units\":null,\"type\":null,\"bounds\":null,\"provenance\":{\"method\":\"MIT extractor V1.0 - text, dataset, formula annotation (chunwei@mit.edu)\",\"timestamp\":\"2023-08-21T22:37:55.722018\"}}],\"groundings\":[{\"grounding_text\":\"Recovered from Adverse Event\",\"grounding_id\":\"ncit:C49498\",\"source\":[],\"score\":1.0,\"provenance\":{\"method\":\"MIT extractor V1.0 - text, dataset, formula annotation (chunwei@mit.edu)\",\"timestamp\":\"2023-08-21T22:37:55.722018\"}},{\"grounding_text\":\"recovered population\",\"grounding_id\":\"apollosv:00000163\",\"source\":[],\"score\":1.0,\"provenance\":{\"method\":\"MIT extractor V1.0 - text, dataset, formula annotation (chunwei@mit.edu)\",\"timestamp\":\"2023-08-21T22:37:55.722018\"}}],\"data_columns\":[{\"id\":{\"id\":\"0-8\"},\"name\":\"cumulative_recovered\",\"dataset\":{\"id\":{\"id\":\"0\"},\"name\":\"usa-cases-deaths.csv\",\"metadata\":\"https://github.com/DARPA-ASKEM/program-milestones/blob/main/6-month-milestone/evaluation/scenario_3/ta_1/google-health-data/usa-cases-deaths.csv\"}},{\"id\":{\"id\":\"5-52\"},\"name\":\"cumulative_recovered_age_0\",\"dataset\":{\"id\":{\"id\":\"5\"},\"name\":\"usa-cases-hospitalized-by-age.csv\",\"metadata\":\"https://github.com/DARPA-ASKEM/program-milestones/blob/main/6-month-milestone/evaluation/scenario_3/ta_1/google-health-data/usa-cases-hospitalized-by-age.csv\"}}]}},{\"type\":\"anchored_extraction\",\"amr_element_id\":null,\"payload\":{\"id\":{\"id\":\"v7\"},\"names\":[{\"id\":{\"id\":\"v7\"},\"name\":\"E\",\"extraction_source\":null,\"provenance\":{\"method\":\"MIT extractor V1.0 - text, dataset, formula annotation (chunwei@mit.edu)\",\"timestamp\":\"2023-08-21T22:37:55.722018\"}}],\"descriptions\":[{\"id\":{\"id\":\"v7\"},\"source\":\"Extinct (dead)\",\"grounding\":null,\"extraction_source\":null,\"provenance\":{\"method\":\"MIT extractor V1.0 - text, dataset, formula annotation (chunwei@mit.edu)\",\"timestamp\":\"2023-08-21T22:37:55.722018\"}},{\"id\":{\"id\":\"v7\"},\"source\":\"fraction of population in expired stage\",\"grounding\":null,\"extraction_source\":null,\"provenance\":{\"method\":\"MIT extractor V1.0 - text, dataset, formula annotation (chunwei@mit.edu)\",\"timestamp\":\"2023-08-21T22:37:55.722018\"}}],\"value_specs\":[{\"id\":{\"id\":\"v7-value\"},\"value\":{\"source\":\"0\",\"grounding\":null,\"extraction_source\":null},\"units\":null,\"type\":null,\"bounds\":null,\"provenance\":{\"method\":\"MIT extractor V1.0 - text, dataset, formula annotation (chunwei@mit.edu)\",\"timestamp\":\"2023-08-21T22:37:55.722018\"}}],\"groundings\":[{\"grounding_text\":\"Dead\",\"grounding_id\":\"ncit:C28554\",\"source\":[],\"score\":1.0,\"provenance\":{\"method\":\"MIT extractor V1.0 - text, dataset, formula annotation (chunwei@mit.edu)\",\"timestamp\":\"2023-08-21T22:37:55.722018\"}},{\"grounding_text\":\"dead-end host\",\"grounding_id\":\"ido:0000535\",\"source\":[],\"score\":1.0,\"provenance\":{\"method\":\"MIT extractor V1.0 - text, dataset, formula annotation (chunwei@mit.edu)\",\"timestamp\":\"2023-08-21T22:37:55.722018\"}}],\"data_columns\":[{\"id\":{\"id\":\"0-7\"},\"name\":\"cumulative_deceased\",\"dataset\":{\"id\":{\"id\":\"0\"},\"name\":\"usa-cases-deaths.csv\",\"metadata\":\"https://github.com/DARPA-ASKEM/program-milestones/blob/main/6-month-milestone/evaluation/scenario_3/ta_1/google-health-data/usa-cases-deaths.csv\"}},{\"id\":{\"id\":\"5-32\"},\"name\":\"cumulative_deceased_age_0\",\"dataset\":{\"id\":{\"id\":\"5\"},\"name\":\"usa-cases-hospitalized-by-age.csv\",\"metadata\":\"https://github.com/DARPA-ASKEM/program-milestones/blob/main/6-month-milestone/evaluation/scenario_3/ta_1/google-health-data/usa-cases-hospitalized-by-age.csv\"}}]}},{\"type\":\"anchored_extraction\",\"amr_element_id\":null,\"payload\":{\"id\":{\"id\":\"v8\"},\"names\":[{\"id\":{\"id\":\"v8\"},\"name\":\"R0\",\"extraction_source\":null,\"provenance\":{\"method\":\"MIT extractor V1.0 - text, dataset, formula annotation (chunwei@mit.edu)\",\"timestamp\":\"2023-08-21T22:37:55.722018\"}}],\"descriptions\":[{\"id\":{\"id\":\"v8\"},\"source\":\"Basic reproduction number\",\"grounding\":null,\"extraction_source\":null,\"provenance\":{\"method\":\"MIT extractor V1.0 - text, dataset, formula annotation (chunwei@mit.edu)\",\"timestamp\":\"2023-08-21T22:37:55.722018\"}},{\"id\":{\"id\":\"v8\"},\"source\":\"Reproduction number\",\"grounding\":null,\"extraction_source\":null,\"provenance\":{\"method\":\"MIT extractor V1.0 - text, dataset, formula annotation (chunwei@mit.edu)\",\"timestamp\":\"2023-08-21T22:37:55.722018\"}}],\"value_specs\":[{\"id\":{\"id\":\"v8-value\"},\"value\":{\"source\":\"0.99\",\"grounding\":null,\"extraction_source\":null},\"units\":null,\"type\":null,\"bounds\":null,\"provenance\":{\"method\":\"MIT extractor V1.0 - text, dataset, formula annotation (chunwei@mit.edu)\",\"timestamp\":\"2023-08-21T22:37:55.722018\"}}],\"groundings\":[{\"grounding_text\":\"has average R0\",\"grounding_id\":\"cido:0000610\",\"source\":[],\"score\":1.0,\"provenance\":{\"method\":\"MIT extractor V1.0 - text, dataset, formula annotation (chunwei@mit.edu)\",\"timestamp\":\"2023-08-21T22:37:55.722018\"}},{\"grounding_text\":\"basic reproduction number of infection\",\"grounding_id\":\"cido:0000589\",\"source\":[],\"score\":1.0,\"provenance\":{\"method\":\"MIT extractor V1.0 - text, dataset, formula annotation (chunwei@mit.edu)\",\"timestamp\":\"2023-08-21T22:37:55.722018\"}}],\"data_columns\":[]}},{\"type\":\"anchored_extraction\",\"amr_element_id\":null,\"payload\":{\"id\":{\"id\":\"v9\"},\"names\":[{\"id\":{\"id\":\"v9\"},\"name\":\"CFR\",\"extraction_source\":null,\"provenance\":{\"method\":\"MIT extractor V1.0 - text, dataset, formula annotation (chunwei@mit.edu)\",\"timestamp\":\"2023-08-21T22:37:55.722018\"}}],\"descriptions\":[{\"id\":{\"id\":\"v9\"},\"source\":\"Case fatality rate\",\"grounding\":null,\"extraction_source\":null,\"provenance\":{\"method\":\"MIT extractor V1.0 - text, dataset, formula annotation (chunwei@mit.edu)\",\"timestamp\":\"2023-08-21T22:37:55.722018\"}}],\"value_specs\":[{\"id\":{\"id\":\"v9-value\"},\"value\":{\"source\":\"9.8\",\"grounding\":null,\"extraction_source\":null},\"units\":null,\"type\":null,\"bounds\":null,\"provenance\":{\"method\":\"MIT extractor V1.0 - text, dataset, formula annotation (chunwei@mit.edu)\",\"timestamp\":\"2023-08-21T22:37:55.722018\"}}],\"groundings\":[{\"grounding_text\":\"case fatality rate\",\"grounding_id\":\"cemo:case_fatality_rate\",\"source\":[],\"score\":1.0,\"provenance\":{\"method\":\"MIT extractor V1.0 - text, dataset, formula annotation (chunwei@mit.edu)\",\"timestamp\":\"2023-08-21T22:37:55.722018\"}},{\"grounding_text\":\"infection fatality rate\",\"grounding_id\":\"cemo:infection_fatality_rate\",\"source\":[],\"score\":1.0,\"provenance\":{\"method\":\"MIT extractor V1.0 - text, dataset, formula annotation (chunwei@mit.edu)\",\"timestamp\":\"2023-08-21T22:37:55.722018\"}}],\"data_columns\":[]}},{\"type\":\"anchored_extraction\",\"amr_element_id\":null,\"payload\":{\"id\":{\"id\":\"v10\"},\"names\":[{\"id\":{\"id\":\"v10\"},\"name\":\"Perceived CFR\",\"extraction_source\":null,\"provenance\":{\"method\":\"MIT extractor V1.0 - text, dataset, formula annotation (chunwei@mit.edu)\",\"timestamp\":\"2023-08-21T22:37:55.722018\"}}],\"descriptions\":[{\"id\":{\"id\":\"v10\"},\"source\":\"Perceived case fatality rate\",\"grounding\":null,\"extraction_source\":null,\"provenance\":{\"method\":\"MIT extractor V1.0 - text, dataset, formula annotation (chunwei@mit.edu)\",\"timestamp\":\"2023-08-21T22:37:55.722018\"}}],\"value_specs\":[{\"id\":{\"id\":\"v10-value\"},\"value\":{\"source\":\"13%\",\"grounding\":null,\"extraction_source\":null},\"units\":null,\"type\":null,\"bounds\":null,\"provenance\":{\"method\":\"MIT extractor V1.0 - text, dataset, formula annotation (chunwei@mit.edu)\",\"timestamp\":\"2023-08-21T22:37:55.722018\"}}],\"groundings\":[{\"grounding_text\":\"case fatality rate\",\"grounding_id\":\"cemo:case_fatality_rate\",\"source\":[],\"score\":1.0,\"provenance\":{\"method\":\"MIT extractor V1.0 - text, dataset, formula annotation (chunwei@mit.edu)\",\"timestamp\":\"2023-08-21T22:37:55.722018\"}},{\"grounding_text\":\"infection fatality rate\",\"grounding_id\":\"cemo:infection_fatality_rate\",\"source\":[],\"score\":1.0,\"provenance\":{\"method\":\"MIT extractor V1.0 - text, dataset, formula annotation (chunwei@mit.edu)\",\"timestamp\":\"2023-08-21T22:37:55.722018\"}}],\"data_columns\":[]}},{\"type\":\"anchored_extraction\",\"amr_element_id\":null,\"payload\":{\"id\":{\"id\":\"v11\"},\"names\":[{\"id\":{\"id\":\"v11\"},\"name\":\"Threshold\",\"extraction_source\":null,\"provenance\":{\"method\":\"MIT extractor V1.0 - text, dataset, formula annotation (chunwei@mit.edu)\",\"timestamp\":\"2023-08-21T22:37:55.722018\"}}],\"descriptions\":[{\"id\":{\"id\":\"v11\"},\"source\":\"Threshold for ICU admissions\",\"grounding\":null,\"extraction_source\":null,\"provenance\":{\"method\":\"MIT extractor V1.0 - text, dataset, formula annotation (chunwei@mit.edu)\",\"timestamp\":\"2023-08-21T22:37:55.722018\"}}],\"value_specs\":null,\"groundings\":[{\"grounding_text\":\"herd immunity threshold\",\"grounding_id\":\"cemo:herd_immunity_threshold\",\"source\":[],\"score\":1.0,\"provenance\":{\"method\":\"MIT extractor V1.0 - text, dataset, formula annotation (chunwei@mit.edu)\",\"timestamp\":\"2023-08-21T22:37:55.722018\"}},{\"grounding_text\":\"convulsive threshold lowered AE\",\"grounding_id\":\"oae:0009388\",\"source\":[],\"score\":1.0,\"provenance\":{\"method\":\"MIT extractor V1.0 - text, dataset, formula annotation (chunwei@mit.edu)\",\"timestamp\":\"2023-08-21T22:37:55.722018\"}}],\"data_columns\":[]}},{\"type\":\"anchored_extraction\",\"amr_element_id\":null,\"payload\":{\"id\":{\"id\":\"v12\"},\"names\":[{\"id\":{\"id\":\"v12\"},\"name\":\"α\",\"extraction_source\":null,\"provenance\":{\"method\":\"MIT extractor V1.0 - text, dataset, formula annotation (chunwei@mit.edu)\",\"timestamp\":\"2023-08-21T22:37:55.722018\"}}],\"descriptions\":[{\"id\":{\"id\":\"v12\"},\"source\":\"transmission rate due to contact between susceptible and infected\",\"grounding\":null,\"extraction_source\":null,\"provenance\":{\"method\":\"MIT extractor V1.0 - text, dataset, formula annotation (chunwei@mit.edu)\",\"timestamp\":\"2023-08-21T22:37:55.722018\"}},{\"id\":{\"id\":\"v12\"},\"source\":\"rate of transition from susceptible to infected\",\"grounding\":null,\"extraction_source\":null,\"provenance\":{\"method\":\"MIT extractor V1.0 - text, dataset, formula annotation (chunwei@mit.edu)\",\"timestamp\":\"2023-08-21T22:37:55.722018\"}}],\"value_specs\":[{\"id\":{\"id\":\"v12-value\"},\"value\":{\"source\":\"0.21\",\"grounding\":null,\"extraction_source\":null},\"units\":null,\"type\":null,\"bounds\":null,\"provenance\":{\"method\":\"MIT extractor V1.0 - text, dataset, formula annotation (chunwei@mit.edu)\",\"timestamp\":\"2023-08-21T22:37:55.722018\"}}],\"groundings\":[{\"grounding_text\":\"Contact Transmission\",\"grounding_id\":\"ncit:C128168\",\"source\":[],\"score\":1.0,\"provenance\":{\"method\":\"MIT extractor V1.0 - text, dataset, formula annotation (chunwei@mit.edu)\",\"timestamp\":\"2023-08-21T22:37:55.722018\"}},{\"grounding_text\":\"contact and droplet transmission of SARS-CoV-2\",\"grounding_id\":\"cido:0000161\",\"source\":[],\"score\":1.0,\"provenance\":{\"method\":\"MIT extractor V1.0 - text, dataset, formula annotation (chunwei@mit.edu)\",\"timestamp\":\"2023-08-21T22:37:55.722018\"}}],\"data_columns\":[]}},{\"type\":\"anchored_extraction\",\"amr_element_id\":null,\"payload\":{\"id\":{\"id\":\"v13\"},\"names\":[{\"id\":{\"id\":\"v13\"},\"name\":\"β\",\"extraction_source\":null,\"provenance\":{\"method\":\"MIT extractor V1.0 - text, dataset, formula annotation (chunwei@mit.edu)\",\"timestamp\":\"2023-08-21T22:37:55.722018\"}}],\"descriptions\":[{\"id\":{\"id\":\"v13\"},\"source\":\"transmission rate due to contact between susceptible and diagnosed\",\"grounding\":null,\"extraction_source\":null,\"provenance\":{\"method\":\"MIT extractor V1.0 - text, dataset, formula annotation (chunwei@mit.edu)\",\"timestamp\":\"2023-08-21T22:37:55.722018\"}},{\"id\":{\"id\":\"v13\"},\"source\":\"rate of transition from infected to quarantined at home\",\"grounding\":null,\"extraction_source\":null,\"provenance\":{\"method\":\"MIT extractor V1.0 - text, dataset, formula annotation (chunwei@mit.edu)\",\"timestamp\":\"2023-08-21T22:37:55.722018\"}}],\"value_specs\":[{\"id\":{\"id\":\"v13-value\"},\"value\":{\"source\":\"0.0050\",\"grounding\":null,\"extraction_source\":null},\"units\":null,\"type\":null,\"bounds\":null,\"provenance\":{\"method\":\"MIT extractor V1.0 - text, dataset, formula annotation (chunwei@mit.edu)\",\"timestamp\":\"2023-08-21T22:37:55.722018\"}}],\"groundings\":[{\"grounding_text\":\"Contact Transmission\",\"grounding_id\":\"ncit:C128168\",\"source\":[],\"score\":1.0,\"provenance\":{\"method\":\"MIT extractor V1.0 - text, dataset, formula annotation (chunwei@mit.edu)\",\"timestamp\":\"2023-08-21T22:37:55.722018\"}},{\"grounding_text\":\"contact and droplet transmission of SARS-CoV-2\",\"grounding_id\":\"cido:0000161\",\"source\":[],\"score\":1.0,\"provenance\":{\"method\":\"MIT extractor V1.0 - text, dataset, formula annotation (chunwei@mit.edu)\",\"timestamp\":\"2023-08-21T22:37:55.722018\"}}],\"data_columns\":[]}},{\"type\":\"anchored_extraction\",\"amr_element_id\":null,\"payload\":{\"id\":{\"id\":\"v14\"},\"names\":[{\"id\":{\"id\":\"v14\"},\"name\":\"γ\",\"extraction_source\":null,\"provenance\":{\"method\":\"MIT extractor V1.0 - text, dataset, formula annotation (chunwei@mit.edu)\",\"timestamp\":\"2023-08-21T22:37:55.722018\"}}],\"descriptions\":[{\"id\":{\"id\":\"v14\"},\"source\":\"transmission rate due to contact between susceptible and ailing\",\"grounding\":null,\"extraction_source\":null,\"provenance\":{\"method\":\"MIT extractor V1.0 - text, dataset, formula annotation (chunwei@mit.edu)\",\"timestamp\":\"2023-08-21T22:37:55.722018\"}},{\"id\":{\"id\":\"v14\"},\"source\":\"rate of transition from infected to asymptomatic\",\"grounding\":null,\"extraction_source\":null,\"provenance\":{\"method\":\"MIT extractor V1.0 - text, dataset, formula annotation (chunwei@mit.edu)\",\"timestamp\":\"2023-08-21T22:37:55.722018\"}}],\"value_specs\":[{\"id\":{\"id\":\"v14-value\"},\"value\":{\"source\":\"0.11\",\"grounding\":null,\"extraction_source\":null},\"units\":null,\"type\":null,\"bounds\":null,\"provenance\":{\"method\":\"MIT extractor V1.0 - text, dataset, formula annotation (chunwei@mit.edu)\",\"timestamp\":\"2023-08-21T22:37:55.722018\"}}],\"groundings\":[{\"grounding_text\":\"Contact Transmission\",\"grounding_id\":\"ncit:C128168\",\"source\":[],\"score\":1.0,\"provenance\":{\"method\":\"MIT extractor V1.0 - text, dataset, formula annotation (chunwei@mit.edu)\",\"timestamp\":\"2023-08-21T22:37:55.722018\"}},{\"grounding_text\":\"contact and droplet transmission of SARS-CoV-2\",\"grounding_id\":\"cido:0000161\",\"source\":[],\"score\":1.0,\"provenance\":{\"method\":\"MIT extractor V1.0 - text, dataset, formula annotation (chunwei@mit.edu)\",\"timestamp\":\"2023-08-21T22:37:55.722018\"}}],\"data_columns\":[]}},{\"type\":\"anchored_extraction\",\"amr_element_id\":null,\"payload\":{\"id\":{\"id\":\"v15\"},\"names\":[{\"id\":{\"id\":\"v15\"},\"name\":\"δ\",\"extraction_source\":null,\"provenance\":{\"method\":\"MIT extractor V1.0 - text, dataset, formula annotation (chunwei@mit.edu)\",\"timestamp\":\"2023-08-21T22:37:55.722018\"}}],\"descriptions\":[{\"id\":{\"id\":\"v15\"},\"source\":\"transmission rate due to contact between susceptible and recognized\",\"grounding\":null,\"extraction_source\":null,\"provenance\":{\"method\":\"MIT extractor V1.0 - text, dataset, formula annotation (chunwei@mit.edu)\",\"timestamp\":\"2023-08-21T22:37:55.722018\"}},{\"id\":{\"id\":\"v15\"},\"source\":\"Transmission parameter related to lockdown measures\",\"grounding\":null,\"extraction_source\":null,\"provenance\":{\"method\":\"MIT extractor V1.0 - text, dataset, formula annotation (chunwei@mit.edu)\",\"timestamp\":\"2023-08-21T22:37:55.722018\"}}],\"value_specs\":[{\"id\":{\"id\":\"v15-value\"},\"value\":{\"source\":\"0.0050\",\"grounding\":null,\"extraction_source\":null},\"units\":null,\"type\":null,\"bounds\":null,\"provenance\":{\"method\":\"MIT extractor V1.0 - text, dataset, formula annotation (chunwei@mit.edu)\",\"timestamp\":\"2023-08-21T22:37:55.722018\"}}],\"groundings\":[{\"grounding_text\":\"Contact Transmission\",\"grounding_id\":\"ncit:C128168\",\"source\":[],\"score\":1.0,\"provenance\":{\"method\":\"MIT extractor V1.0 - text, dataset, formula annotation (chunwei@mit.edu)\",\"timestamp\":\"2023-08-21T22:37:55.722018\"}},{\"grounding_text\":\"contact and droplet transmission of SARS-CoV-2\",\"grounding_id\":\"cido:0000161\",\"source\":[],\"score\":1.0,\"provenance\":{\"method\":\"MIT extractor V1.0 - text, dataset, formula annotation (chunwei@mit.edu)\",\"timestamp\":\"2023-08-21T22:37:55.722018\"}}],\"data_columns\":[]}},{\"type\":\"anchored_extraction\",\"amr_element_id\":null,\"payload\":{\"id\":{\"id\":\"v16\"},\"names\":[{\"id\":{\"id\":\"v16\"},\"name\":\"ε\",\"extraction_source\":null,\"provenance\":{\"method\":\"MIT extractor V1.0 - text, dataset, formula annotation (chunwei@mit.edu)\",\"timestamp\":\"2023-08-21T22:37:55.722018\"}}],\"descriptions\":[{\"id\":{\"id\":\"v16\"},\"source\":\"probability rate of detection for asymptomatic cases\",\"grounding\":null,\"extraction_source\":null,\"provenance\":{\"method\":\"MIT extractor V1.0 - text, dataset, formula annotation (chunwei@mit.edu)\",\"timestamp\":\"2023-08-21T22:37:55.722018\"}},{\"id\":{\"id\":\"v16\"},\"source\":\"rate of transition from infected to diagnosed\",\"grounding\":null,\"extraction_source\":null,\"provenance\":{\"method\":\"MIT extractor V1.0 - text, dataset, formula annotation (chunwei@mit.edu)\",\"timestamp\":\"2023-08-21T22:37:55.722018\"}}],\"value_specs\":[{\"id\":{\"id\":\"v16-value\"},\"value\":{\"source\":\"0.2000\",\"grounding\":null,\"extraction_source\":null},\"units\":null,\"type\":null,\"bounds\":null,\"provenance\":{\"method\":\"MIT extractor V1.0 - text, dataset, formula annotation (chunwei@mit.edu)\",\"timestamp\":\"2023-08-21T22:37:55.722018\"}}],\"groundings\":[{\"grounding_text\":\"probability\",\"grounding_id\":\"probonto:k0000160\",\"source\":[],\"score\":1.0,\"provenance\":{\"method\":\"MIT extractor V1.0 - text, dataset, formula annotation (chunwei@mit.edu)\",\"timestamp\":\"2023-08-21T22:37:55.722018\"}},{\"grounding_text\":\"probability\",\"grounding_id\":\"probonto:k0000007\",\"source\":[],\"score\":1.0,\"provenance\":{\"method\":\"MIT extractor V1.0 - text, dataset, formula annotation (chunwei@mit.edu)\",\"timestamp\":\"2023-08-21T22:37:55.722018\"}}],\"data_columns\":[]}},{\"type\":\"anchored_extraction\",\"amr_element_id\":null,\"payload\":{\"id\":{\"id\":\"v17\"},\"names\":[{\"id\":{\"id\":\"v17\"},\"name\":\"ζ\",\"extraction_source\":null,\"provenance\":{\"method\":\"MIT extractor V1.0 - text, dataset, formula annotation (chunwei@mit.edu)\",\"timestamp\":\"2023-08-21T22:37:55.722018\"}}],\"descriptions\":[{\"id\":{\"id\":\"v17\"},\"source\":\"probability rate at which an infected subject not aware of diagnosis is detected\",\"grounding\":null,\"extraction_source\":null,\"provenance\":{\"method\":\"MIT extractor V1.0 - text, dataset, formula annotation (chunwei@mit.edu)\",\"timestamp\":\"2023-08-21T22:37:55.722018\"}},{\"id\":{\"id\":\"v17\"},\"source\":\"rate of transition from asymptomatic to diagnosed\",\"grounding\":null,\"extraction_source\":null,\"provenance\":{\"method\":\"MIT extractor V1.0 - text, dataset, formula annotation (chunwei@mit.edu)\",\"timestamp\":\"2023-08-21T22:37:55.722018\"}}],\"value_specs\":[{\"id\":{\"id\":\"v17-value\"},\"value\":{\"source\":\"0.0250\",\"grounding\":null,\"extraction_source\":null},\"units\":null,\"type\":null,\"bounds\":null,\"provenance\":{\"method\":\"MIT extractor V1.0 - text, dataset, formula annotation (chunwei@mit.edu)\",\"timestamp\":\"2023-08-21T22:37:55.722018\"}}],\"groundings\":[{\"grounding_text\":\"probability\",\"grounding_id\":\"probonto:k0000160\",\"source\":[],\"score\":1.0,\"provenance\":{\"method\":\"MIT extractor V1.0 - text, dataset, formula annotation (chunwei@mit.edu)\",\"timestamp\":\"2023-08-21T22:37:55.722018\"}},{\"grounding_text\":\"probability\",\"grounding_id\":\"probonto:k0000007\",\"source\":[],\"score\":1.0,\"provenance\":{\"method\":\"MIT extractor V1.0 - text, dataset, formula annotation (chunwei@mit.edu)\",\"timestamp\":\"2023-08-21T22:37:55.722018\"}}],\"data_columns\":[]}},{\"type\":\"anchored_extraction\",\"amr_element_id\":null,\"payload\":{\"id\":{\"id\":\"v18\"},\"names\":[{\"id\":{\"id\":\"v18\"},\"name\":\"η\",\"extraction_source\":null,\"provenance\":{\"method\":\"MIT extractor V1.0 - text, dataset, formula annotation (chunwei@mit.edu)\",\"timestamp\":\"2023-08-21T22:37:55.722018\"}}],\"descriptions\":[{\"id\":{\"id\":\"v18\"},\"source\":\"probability rate at which an infected subject aware of diagnosis is detected\",\"grounding\":null,\"extraction_source\":null,\"provenance\":{\"method\":\"MIT extractor V1.0 - text, dataset, formula annotation (chunwei@mit.edu)\",\"timestamp\":\"2023-08-21T22:37:55.722018\"}},{\"id\":{\"id\":\"v18\"},\"source\":\"rate of transition from diagnosed to recovered\",\"grounding\":null,\"extraction_source\":null,\"provenance\":{\"method\":\"MIT extractor V1.0 - text, dataset, formula annotation (chunwei@mit.edu)\",\"timestamp\":\"2023-08-21T22:37:55.722018\"}}],\"value_specs\":[{\"id\":{\"id\":\"v18-value\"},\"value\":{\"source\":\"0.0250\",\"grounding\":null,\"extraction_source\":null},\"units\":null,\"type\":null,\"bounds\":null,\"provenance\":{\"method\":\"MIT extractor V1.0 - text, dataset, formula annotation (chunwei@mit.edu)\",\"timestamp\":\"2023-08-21T22:37:55.722018\"}}],\"groundings\":[{\"grounding_text\":\"probability\",\"grounding_id\":\"probonto:k0000160\",\"source\":[],\"score\":1.0,\"provenance\":{\"method\":\"MIT extractor V1.0 - text, dataset, formula annotation (chunwei@mit.edu)\",\"timestamp\":\"2023-08-21T22:37:55.722018\"}},{\"grounding_text\":\"probability\",\"grounding_id\":\"probonto:k0000007\",\"source\":[],\"score\":1.0,\"provenance\":{\"method\":\"MIT extractor V1.0 - text, dataset, formula annotation (chunwei@mit.edu)\",\"timestamp\":\"2023-08-21T22:37:55.722018\"}}],\"data_columns\":[]}},{\"type\":\"anchored_extraction\",\"amr_element_id\":null,\"payload\":{\"id\":{\"id\":\"v19\"},\"names\":[{\"id\":{\"id\":\"v19\"},\"name\":\"λ\",\"extraction_source\":null,\"provenance\":{\"method\":\"MIT extractor V1.0 - text, dataset, formula annotation (chunwei@mit.edu)\",\"timestamp\":\"2023-08-21T22:37:55.722018\"}}],\"descriptions\":[{\"id\":{\"id\":\"v19\"},\"source\":\"probability rate at which an infected subject is hospitalized\",\"grounding\":null,\"extraction_source\":null,\"provenance\":{\"method\":\"MIT extractor V1.0 - text, dataset, formula annotation (chunwei@mit.edu)\",\"timestamp\":\"2023-08-21T22:37:55.722018\"}},{\"id\":{\"id\":\"v19\"},\"source\":\"rate of recovery for infected population\",\"grounding\":null,\"extraction_source\":null,\"provenance\":{\"method\":\"MIT extractor V1.0 - text, dataset, formula annotation (chunwei@mit.edu)\",\"timestamp\":\"2023-08-21T22:37:55.722018\"}}],\"value_specs\":[{\"id\":{\"id\":\"v19-value\"},\"value\":{\"source\":\"0.0800\",\"grounding\":null,\"extraction_source\":null},\"units\":null,\"type\":null,\"bounds\":null,\"provenance\":{\"method\":\"MIT extractor V1.0 - text, dataset, formula annotation (chunwei@mit.edu)\",\"timestamp\":\"2023-08-21T22:37:55.722018\"}}],\"groundings\":[{\"grounding_text\":\"probability\",\"grounding_id\":\"probonto:k0000160\",\"source\":[],\"score\":1.0,\"provenance\":{\"method\":\"MIT extractor V1.0 - text, dataset, formula annotation (chunwei@mit.edu)\",\"timestamp\":\"2023-08-21T22:37:55.722018\"}},{\"grounding_text\":\"hospital discharge rate\",\"grounding_id\":\"askemo:0000014\",\"source\":[],\"score\":1.0,\"provenance\":{\"method\":\"MIT extractor V1.0 - text, dataset, formula annotation (chunwei@mit.edu)\",\"timestamp\":\"2023-08-21T22:37:55.722018\"}}],\"data_columns\":[]}},{\"type\":\"anchored_extraction\",\"amr_element_id\":null,\"payload\":{\"id\":{\"id\":\"v20\"},\"names\":[{\"id\":{\"id\":\"v20\"},\"name\":\"ρ\",\"extraction_source\":null,\"provenance\":{\"method\":\"MIT extractor V1.0 - text, dataset, formula annotation (chunwei@mit.edu)\",\"timestamp\":\"2023-08-21T22:37:55.722018\"}}],\"descriptions\":[{\"id\":{\"id\":\"v20\"},\"source\":\"probability rate at which a diagnosed subject is hospitalized\",\"grounding\":null,\"extraction_source\":null,\"provenance\":{\"method\":\"MIT extractor V1.0 - text, dataset, formula annotation (chunwei@mit.edu)\",\"timestamp\":\"2023-08-21T22:37:55.722018\"}},{\"id\":{\"id\":\"v20\"},\"source\":\"rate of recovery for asymptomatic population\",\"grounding\":null,\"extraction_source\":null,\"provenance\":{\"method\":\"MIT extractor V1.0 - text, dataset, formula annotation (chunwei@mit.edu)\",\"timestamp\":\"2023-08-21T22:37:55.722018\"}}],\"value_specs\":[{\"id\":{\"id\":\"v20-value\"},\"value\":{\"source\":\"0.0200\",\"grounding\":null,\"extraction_source\":null},\"units\":null,\"type\":null,\"bounds\":null,\"provenance\":{\"method\":\"MIT extractor V1.0 - text, dataset, formula annotation (chunwei@mit.edu)\",\"timestamp\":\"2023-08-21T22:37:55.722018\"}}],\"groundings\":[{\"grounding_text\":\"probability\",\"grounding_id\":\"probonto:k0000160\",\"source\":[],\"score\":1.0,\"provenance\":{\"method\":\"MIT extractor V1.0 - text, dataset, formula annotation (chunwei@mit.edu)\",\"timestamp\":\"2023-08-21T22:37:55.722018\"}},{\"grounding_text\":\"hospital discharge rate\",\"grounding_id\":\"askemo:0000014\",\"source\":[],\"score\":1.0,\"provenance\":{\"method\":\"MIT extractor V1.0 - text, dataset, formula annotation (chunwei@mit.edu)\",\"timestamp\":\"2023-08-21T22:37:55.722018\"}}],\"data_columns\":[]}},{\"type\":\"anchored_extraction\",\"amr_element_id\":null,\"payload\":{\"id\":{\"id\":\"v21\"},\"names\":[{\"id\":{\"id\":\"v21\"},\"name\":\"κ\",\"extraction_source\":null,\"provenance\":{\"method\":\"MIT extractor V1.0 - text, dataset, formula annotation (chunwei@mit.edu)\",\"timestamp\":\"2023-08-21T22:37:55.722018\"}}],\"descriptions\":[{\"id\":{\"id\":\"v21\"},\"source\":\"probability rate at which an ailing subject is hospitalized\",\"grounding\":null,\"extraction_source\":null,\"provenance\":{\"method\":\"MIT extractor V1.0 - text, dataset, formula annotation (chunwei@mit.edu)\",\"timestamp\":\"2023-08-21T22:37:55.722018\"}},{\"id\":{\"id\":\"v21\"},\"source\":\"rate of recovery for diagnosed population\",\"grounding\":null,\"extraction_source\":null,\"provenance\":{\"method\":\"MIT extractor V1.0 - text, dataset, formula annotation (chunwei@mit.edu)\",\"timestamp\":\"2023-08-21T22:37:55.722018\"}}],\"value_specs\":[{\"id\":{\"id\":\"v21-value\"},\"value\":{\"source\":\"0.0200\",\"grounding\":null,\"extraction_source\":null},\"units\":null,\"type\":null,\"bounds\":null,\"provenance\":{\"method\":\"MIT extractor V1.0 - text, dataset, formula annotation (chunwei@mit.edu)\",\"timestamp\":\"2023-08-21T22:37:55.722018\"}}],\"groundings\":[{\"grounding_text\":\"probability\",\"grounding_id\":\"probonto:k0000160\",\"source\":[],\"score\":1.0,\"provenance\":{\"method\":\"MIT extractor V1.0 - text, dataset, formula annotation (chunwei@mit.edu)\",\"timestamp\":\"2023-08-21T22:37:55.722018\"}},{\"grounding_text\":\"hospital discharge rate\",\"grounding_id\":\"askemo:0000014\",\"source\":[],\"score\":1.0,\"provenance\":{\"method\":\"MIT extractor V1.0 - text, dataset, formula annotation (chunwei@mit.edu)\",\"timestamp\":\"2023-08-21T22:37:55.722018\"}}],\"data_columns\":[]}},{\"type\":\"anchored_extraction\",\"amr_element_id\":null,\"payload\":{\"id\":{\"id\":\"v22\"},\"names\":[{\"id\":{\"id\":\"v22\"},\"name\":\"ξ\",\"extraction_source\":null,\"provenance\":{\"method\":\"MIT extractor V1.0 - text, dataset, formula annotation (chunwei@mit.edu)\",\"timestamp\":\"2023-08-21T22:37:55.722018\"}}],\"descriptions\":[{\"id\":{\"id\":\"v22\"},\"source\":\"probability rate at which a recognized subject is hospitalized\",\"grounding\":null,\"extraction_source\":null,\"provenance\":{\"method\":\"MIT extractor V1.0 - text, dataset, formula annotation (chunwei@mit.edu)\",\"timestamp\":\"2023-08-21T22:37:55.722018\"}},{\"id\":{\"id\":\"v22\"},\"source\":\"rate of recovery for treated population\",\"grounding\":null,\"extraction_source\":null,\"provenance\":{\"method\":\"MIT extractor V1.0 - text, dataset, formula annotation (chunwei@mit.edu)\",\"timestamp\":\"2023-08-21T22:37:55.722018\"}}],\"value_specs\":[{\"id\":{\"id\":\"v22-value\"},\"value\":{\"source\":\"0.0200\",\"grounding\":null,\"extraction_source\":null},\"units\":null,\"type\":null,\"bounds\":null,\"provenance\":{\"method\":\"MIT extractor V1.0 - text, dataset, formula annotation (chunwei@mit.edu)\",\"timestamp\":\"2023-08-21T22:37:55.722018\"}}],\"groundings\":[{\"grounding_text\":\"probability\",\"grounding_id\":\"probonto:k0000160\",\"source\":[],\"score\":1.0,\"provenance\":{\"method\":\"MIT extractor V1.0 - text, dataset, formula annotation (chunwei@mit.edu)\",\"timestamp\":\"2023-08-21T22:37:55.722018\"}},{\"grounding_text\":\"hospital discharge rate\",\"grounding_id\":\"askemo:0000014\",\"source\":[],\"score\":1.0,\"provenance\":{\"method\":\"MIT extractor V1.0 - text, dataset, formula annotation (chunwei@mit.edu)\",\"timestamp\":\"2023-08-21T22:37:55.722018\"}}],\"data_columns\":[]}},{\"type\":\"anchored_extraction\",\"amr_element_id\":null,\"payload\":{\"id\":{\"id\":\"v23\"},\"names\":[{\"id\":{\"id\":\"v23\"},\"name\":\"θ\",\"extraction_source\":null,\"provenance\":{\"method\":\"MIT extractor V1.0 - text, dataset, formula annotation (chunwei@mit.edu)\",\"timestamp\":\"2023-08-21T22:37:55.722018\"}}],\"descriptions\":[{\"id\":{\"id\":\"v23\"},\"source\":\"rate of transition from treated to recovered\",\"grounding\":null,\"extraction_source\":null,\"provenance\":{\"method\":\"MIT extractor V1.0 - text, dataset, formula annotation (chunwei@mit.edu)\",\"timestamp\":\"2023-08-21T22:37:55.722018\"}},{\"id\":{\"id\":\"v23\"},\"source\":\"rate of transition from asymptomatic to diagnosed\",\"grounding\":null,\"extraction_source\":null,\"provenance\":{\"method\":\"MIT extractor V1.0 - text, dataset, formula annotation (chunwei@mit.edu)\",\"timestamp\":\"2023-08-21T22:37:55.722018\"}}],\"value_specs\":[{\"id\":{\"id\":\"v23-value\"},\"value\":{\"source\":\"0.3705\",\"grounding\":null,\"extraction_source\":null},\"units\":null,\"type\":null,\"bounds\":null,\"provenance\":{\"method\":\"MIT extractor V1.0 - text, dataset, formula annotation (chunwei@mit.edu)\",\"timestamp\":\"2023-08-21T22:37:55.722018\"}}],\"groundings\":[{\"grounding_text\":\"Recovered from Adverse Event\",\"grounding_id\":\"ncit:C49498\",\"source\":[],\"score\":1.0,\"provenance\":{\"method\":\"MIT extractor V1.0 - text, dataset, formula annotation (chunwei@mit.edu)\",\"timestamp\":\"2023-08-21T22:37:55.722018\"}},{\"grounding_text\":\"Recovered Rate\",\"grounding_id\":\"ncit:C173781\",\"source\":[],\"score\":1.0,\"provenance\":{\"method\":\"MIT extractor V1.0 - text, dataset, formula annotation (chunwei@mit.edu)\",\"timestamp\":\"2023-08-21T22:37:55.722018\"}}],\"data_columns\":[]}},{\"type\":\"anchored_extraction\",\"amr_element_id\":null,\"payload\":{\"id\":{\"id\":\"v24\"},\"names\":[{\"id\":{\"id\":\"v24\"},\"name\":\"μ\",\"extraction_source\":null,\"provenance\":{\"method\":\"MIT extractor V1.0 - text, dataset, formula annotation (chunwei@mit.edu)\",\"timestamp\":\"2023-08-21T22:37:55.722018\"}}],\"descriptions\":[{\"id\":{\"id\":\"v24\"},\"source\":\"rate of transition from infected to treated\",\"grounding\":null,\"extraction_source\":null,\"provenance\":{\"method\":\"MIT extractor V1.0 - text, dataset, formula annotation (chunwei@mit.edu)\",\"timestamp\":\"2023-08-21T22:37:55.722018\"}},{\"id\":{\"id\":\"v24\"},\"source\":\"rate of\",\"grounding\":null,\"extraction_source\":null,\"provenance\":{\"method\":\"MIT extractor V1.0 - text, dataset, formula annotation (chunwei@mit.edu)\",\"timestamp\":\"2023-08-21T22:37:55.722018\"}}],\"value_specs\":[{\"id\":{\"id\":\"v24-value\"},\"value\":{\"source\":\"0.0080\",\"grounding\":null,\"extraction_source\":null},\"units\":null,\"type\":null,\"bounds\":null,\"provenance\":{\"method\":\"MIT extractor V1.0 - text, dataset, formula annotation (chunwei@mit.edu)\",\"timestamp\":\"2023-08-21T22:37:55.722018\"}}],\"groundings\":[{\"grounding_text\":\"transition element atom\",\"grounding_id\":\"chebi:27081\",\"source\":[],\"score\":1.0,\"provenance\":{\"method\":\"MIT extractor V1.0 - text, dataset, formula annotation (chunwei@mit.edu)\",\"timestamp\":\"2023-08-21T22:37:55.722018\"}},{\"grounding_text\":\"human infected by SARS-CoV-2\",\"grounding_id\":\"cido:0000292\",\"source\":[],\"score\":1.0,\"provenance\":{\"method\":\"MIT extractor V1.0 - text, dataset, formula annotation (chunwei@mit.edu)\",\"timestamp\":\"2023-08-21T22:37:55.722018\"}}],\"data_columns\":[]}},{\"type\":\"anchored_extraction\",\"amr_element_id\":null,\"payload\":{\"id\":{\"id\":\"v25\"},\"names\":[{\"id\":{\"id\":\"v25\"},\"name\":\"ν\",\"extraction_source\":null,\"provenance\":{\"method\":\"MIT extractor V1.0 - text, dataset, formula annotation (chunwei@mit.edu)\",\"timestamp\":\"2023-08-21T22:37:55.722018\"}}],\"descriptions\":[{\"id\":{\"id\":\"v25\"},\"source\":\"rate of transition from diagnosed to treated\",\"grounding\":null,\"extraction_source\":null,\"provenance\":{\"method\":\"MIT extractor V1.0 - text, dataset, formula annotation (chunwei@mit.edu)\",\"timestamp\":\"2023-08-21T22:37:55.722018\"}},{\"id\":{\"id\":\"v25\"},\"source\":\"Parameter related to prevention and mitigation strategies\",\"grounding\":null,\"extraction_source\":null,\"provenance\":{\"method\":\"MIT extractor V1.0 - text, dataset, formula annotation (chunwei@mit.edu)\",\"timestamp\":\"2023-08-21T22:37:55.722018\"}}],\"value_specs\":[{\"id\":{\"id\":\"v25-value\"},\"value\":{\"source\":\"0.0150\",\"grounding\":null,\"extraction_source\":null},\"units\":null,\"type\":null,\"bounds\":null,\"provenance\":{\"method\":\"MIT extractor V1.0 - text, dataset, formula annotation (chunwei@mit.edu)\",\"timestamp\":\"2023-08-21T22:37:55.722018\"}}],\"groundings\":[{\"grounding_text\":\"transition element atom\",\"grounding_id\":\"chebi:27081\",\"source\":[],\"score\":1.0,\"provenance\":{\"method\":\"MIT extractor V1.0 - text, dataset, formula annotation (chunwei@mit.edu)\",\"timestamp\":\"2023-08-21T22:37:55.722018\"}},{\"grounding_text\":\"rate\",\"grounding_id\":\"probonto:k0000603\",\"source\":[],\"score\":1.0,\"provenance\":{\"method\":\"MIT extractor V1.0 - text, dataset, formula annotation (chunwei@mit.edu)\",\"timestamp\":\"2023-08-21T22:37:55.722018\"}}],\"data_columns\":[]}},{\"type\":\"anchored_extraction\",\"amr_element_id\":null,\"payload\":{\"id\":{\"id\":\"v26\"},\"names\":[{\"id\":{\"id\":\"v26\"},\"name\":\"σ\",\"extraction_source\":null,\"provenance\":{\"method\":\"MIT extractor V1.0 - text, dataset, formula annotation (chunwei@mit.edu)\",\"timestamp\":\"2023-08-21T22:37:55.722018\"}}],\"descriptions\":[{\"id\":{\"id\":\"v26\"},\"source\":\"rate of recovery for recovered population\",\"grounding\":null,\"extraction_source\":null,\"provenance\":{\"method\":\"MIT extractor V1.0 - text, dataset, formula annotation (chunwei@mit.edu)\",\"timestamp\":\"2023-08-21T22:37:55.722018\"}},{\"id\":{\"id\":\"v26\"},\"source\":\"Healing parameter\",\"grounding\":null,\"extraction_source\":null,\"provenance\":{\"method\":\"MIT extractor V1.0 - text, dataset, formula annotation (chunwei@mit.edu)\",\"timestamp\":\"2023-08-21T22:37:55.722018\"}}],\"value_specs\":[{\"id\":{\"id\":\"v26-value\"},\"value\":{\"source\":\"0.0100\",\"grounding\":null,\"extraction_source\":null},\"units\":null,\"type\":null,\"bounds\":null,\"provenance\":{\"method\":\"MIT extractor V1.0 - text, dataset, formula annotation (chunwei@mit.edu)\",\"timestamp\":\"2023-08-21T22:37:55.722018\"}}],\"groundings\":[{\"grounding_text\":\"recovered population\",\"grounding_id\":\"apollosv:00000163\",\"source\":[],\"score\":1.0,\"provenance\":{\"method\":\"MIT extractor V1.0 - text, dataset, formula annotation (chunwei@mit.edu)\",\"timestamp\":\"2023-08-21T22:37:55.722018\"}},{\"grounding_text\":\"AE recovery rate\",\"grounding_id\":\"oae:0001869\",\"source\":[],\"score\":1.0,\"provenance\":{\"method\":\"MIT extractor V1.0 - text, dataset, formula annotation (chunwei@mit.edu)\",\"timestamp\":\"2023-08-21T22:37:55.722018\"}}],\"data_columns\":[]}},{\"type\":\"anchored_extraction\",\"amr_element_id\":null,\"payload\":{\"id\":{\"id\":\"v27\"},\"names\":[{\"id\":{\"id\":\"v27\"},\"name\":\"τ\",\"extraction_source\":null,\"provenance\":{\"method\":\"MIT extractor V1.0 - text, dataset, formula annotation (chunwei@mit.edu)\",\"timestamp\":\"2023-08-21T22:37:55.722018\"}}],\"descriptions\":[{\"id\":{\"id\":\"v27\"},\"source\":\"mortality rate\",\"grounding\":null,\"extraction_source\":null,\"provenance\":{\"method\":\"MIT extractor V1.0 - text, dataset, formula annotation (chunwei@mit.edu)\",\"timestamp\":\"2023-08-21T22:37:55.722018\"}},{\"id\":{\"id\":\"v27\"},\"source\":\"Healing parameter\",\"grounding\":null,\"extraction_source\":null,\"provenance\":{\"method\":\"MIT extractor V1.0 - text, dataset, formula annotation (chunwei@mit.edu)\",\"timestamp\":\"2023-08-21T22:37:55.722018\"}}],\"value_specs\":[{\"id\":{\"id\":\"v27-value\"},\"value\":{\"source\":\"0.0100\",\"grounding\":null,\"extraction_source\":null},\"units\":null,\"type\":null,\"bounds\":null,\"provenance\":{\"method\":\"MIT extractor V1.0 - text, dataset, formula annotation (chunwei@mit.edu)\",\"timestamp\":\"2023-08-21T22:37:55.722018\"}}],\"groundings\":[{\"grounding_text\":\"mortality rate\",\"grounding_id\":\"stato:0000414\",\"source\":[],\"score\":1.0,\"provenance\":{\"method\":\"MIT extractor V1.0 - text, dataset, formula annotation (chunwei@mit.edu)\",\"timestamp\":\"2023-08-21T22:37:55.722018\"}},{\"grounding_text\":\"neonatal mortality rate\",\"grounding_id\":\"sdgio:00020030\",\"source\":[],\"score\":1.0,\"provenance\":{\"method\":\"MIT extractor V1.0 - text, dataset, formula annotation (chunwei@mit.edu)\",\"timestamp\":\"2023-08-21T22:37:55.722018\"}}],\"data_columns\":[]}},{\"type\":\"anchored_extraction\",\"amr_element_id\":null,\"payload\":{\"id\":{\"id\":\"v28\"},\"names\":[{\"id\":{\"id\":\"v28\"},\"name\":\"S*\",\"extraction_source\":null,\"provenance\":{\"method\":\"MIT extractor V1.0 - text, dataset, formula annotation (chunwei@mit.edu)\",\"timestamp\":\"2023-08-21T22:37:55.722018\"}}],\"descriptions\":[{\"id\":{\"id\":\"v28\"},\"source\":\"threshold value\",\"grounding\":null,\"extraction_source\":null,\"provenance\":{\"method\":\"MIT extractor V1.0 - text, dataset, formula annotation (chunwei@mit.edu)\",\"timestamp\":\"2023-08-21T22:37:55.722018\"}}],\"value_specs\":null,\"groundings\":[{\"grounding_text\":\"has value\",\"grounding_id\":\"stato:0000129\",\"source\":[],\"score\":1.0,\"provenance\":{\"method\":\"MIT extractor V1.0 - text, dataset, formula annotation (chunwei@mit.edu)\",\"timestamp\":\"2023-08-21T22:37:55.722018\"}},{\"grounding_text\":\"has value specification\",\"grounding_id\":\"obi:0001938\",\"source\":[],\"score\":1.0,\"provenance\":{\"method\":\"MIT extractor V1.0 - text, dataset, formula annotation (chunwei@mit.edu)\",\"timestamp\":\"2023-08-21T22:37:55.722018\"}}],\"data_columns\":[]}},{\"type\":\"document_collection\",\"amr_element_id\":null,\"payload\":{\"documents\":[{\"id\":{\"id\":\"1\"},\"source_file\":\"9e8f0a3deb7dfd30091c2d585190565e__file\",\"doi\":\"\"}]}}]},\"errors\":null}],\"generalized_errors\":[{\"pipeline\":\"SKEMA\",\"message\":\"Problem annotating with SKEMA: Calling http://hopper.sista.arizona.edu/cosmosJsonToMentions failed with HTTP code 502\"}]}\n"
     ]
    }
   ],
   "source": [
    "paper_pdf = \"sidarthe.pdf\"\n",
    "with open(paper_pdf, 'rb') as f:\n",
    "    params = {\n",
    "       \"annotate_skema\":True,\n",
    "       \"annotate_mit\": True\n",
    "    }\n",
    "    files = [(\"pdfs\", (paper_pdf, f))]\n",
    "    response = requests.post(API_ROOT + \"text-reading/integrated-pdf-extractions\",  params=params,  files=files)\n",
    "    json_str = response.text\n",
    "print(json_str)\n"
   ],
   "metadata": {
    "collapsed": false,
    "pycharm": {
     "name": "#%%\n"
    }
   }
  },
  {
   "cell_type": "markdown",
   "source": [
    "## 2. Get model card"
   ],
   "metadata": {
    "collapsed": false,
    "pycharm": {
     "name": "#%% md\n"
    }
   }
  },
  {
   "cell_type": "markdown",
   "source": [
    "#### Model cards provide general information about the model."
   ],
   "metadata": {
    "collapsed": false,
    "pycharm": {
     "name": "#%% md\n"
    }
   }
  },
  {
   "cell_type": "code",
   "execution_count": 6,
   "outputs": [
    {
     "data": {
      "text/plain": "{'DESCRIPTION': 'Modelling the COVID-19 epidemic and implementation of population-wide interventions in Italy',\n 'AUTHOR_INST': 'University of Trento, Trento, Italy',\n 'AUTHOR_AUTHOR': 'Giulia Giordano, Franco Blanchini, Raffaele Bruno, Patrizio Colaneri, Alessandro Di Filippo, Angela Di Matteo, Marta Colaneri',\n 'AUTHOR_EMAIL': 'giulia.giordano@unitn.it',\n 'DATE': 'UNKNOWN',\n 'SCHEMA': 'The model considers eight stages of infection: susceptible (S), infected (I), diagnosed (D), ailing (A), recognized (R), threatened (T), healed (H), and extinct (E), collectively termed SIDARTHE.',\n 'PROVENANCE': 'The model was trained using data from the COVID-19 epidemic in Italy.',\n 'DATASET': 'UNKNOWN',\n 'COMPLEXITY': 'UNKNOWN',\n 'USAGE': 'The model can be used to predict the course of the COVID-19 epidemic and evaluate the impact of different control strategies.',\n 'LICENSE': 'UNKNOWN'}"
     },
     "execution_count": 6,
     "metadata": {},
     "output_type": "execute_result"
    }
   ],
   "source": [
    "text_name = \"sidarthe-short.txt\"\n",
    "code_name = \"sidarthe-code.txt\"\n",
    "\n",
    "with open(text_name, 'rb') as f_text, open(code_name, 'rb') as f_code:\n",
    "    files = { 'text_file': ('filename', f_text),'code_file': ('filename', f_code)}\n",
    "    response = requests.post(API_ROOT + \"text-reading/cards/get_model_card\", files=files)\n",
    "#     print(response.text)\n",
    "\n",
    "ast.literal_eval(response.text)"
   ],
   "metadata": {
    "collapsed": false,
    "pycharm": {
     "name": "#%%\n"
    }
   }
  },
  {
   "cell_type": "markdown",
   "source": [
    "## 3. Get data card"
   ],
   "metadata": {
    "collapsed": false,
    "pycharm": {
     "name": "#%% md\n"
    }
   }
  },
  {
   "cell_type": "markdown",
   "source": [
    "####  TODO (we need to find the corresponding dataset)\n",
    "Data cards summarize general information about the dataset.\n",
    "\n",
    "The data card endpoint supports both tabular and matrix (e.g. transmission probabilities) data.\n",
    "It will automatically detect which one has been passed, based on whether or not the first row in the dataset contains purely numeric data.\n",
    "\n",
    "In addition to the fields which are populated based on the documentation provided (e.g. `DESCRIPTION`, `AUTHOR_NAME`, etc.), the data card also includes the data profiling results.\n",
    "When the data is tabular, this consists of column-level DKG groundings and summary statistics.\n",
    "When it is a matrix, it instead consists of matrix-level summary statistics.\n",
    "\n",
    "**Note:** When the data is tabular, `EXAMPLES` is a dictionary from `column name: example column value`. When the data is a matrix, `EXAMPLES` is a list consisting of a *sample row*.\n"
   ],
   "metadata": {
    "collapsed": false,
    "pycharm": {
     "name": "#%% md\n"
    }
   }
  },
  {
   "cell_type": "code",
   "execution_count": 34,
   "outputs": [
    {
     "data": {
      "text/plain": [
       "{'DESCRIPTION': 'A Simple SEIR model for wastewater-based epidemiological modeling of COVID-19 outbreak.',\n",
       " 'AUTHOR_NAME': 'Mehrdad Fazli, Samuel Sklar, Michael D Porter, Brent A French, Heman Shakeri',\n",
       " 'AUTHOR_EMAIL': 'UNKNOWN',\n",
       " 'DATE': '2021',\n",
       " 'PROVENANCE': 'The data was collected through wastewater surveillance as a continuous pooled sampling technique.',\n",
       " 'SENSITIVITY': 'UNKNOWN',\n",
       " 'LICENSE': 'UNKNOWN',\n",
       " 'SCHEMA': ['dates',\n",
       "  'VAX_count',\n",
       "  'day',\n",
       "  'sdm',\n",
       "  'events',\n",
       "  'I_1',\n",
       "  'I_2',\n",
       "  'I_3',\n",
       "  'Y_1',\n",
       "  'Y_2',\n",
       "  'Y_3',\n",
       "  'V_1',\n",
       "  'V_2',\n",
       "  'V_3',\n",
       "  'Infected',\n",
       "  'Y',\n",
       "  'V',\n",
       "  'logV'],\n",
       " 'EXAMPLES': {'dates': '2020-05-01',\n",
       "  'VAX_count': 0.0,\n",
       "  'day': 52.0,\n",
       "  'sdm': 0.086,\n",
       "  'events': 0.0,\n",
       "  'I_1': 33.0,\n",
       "  'I_2': 8.0,\n",
       "  'I_3': 116.0,\n",
       "  'Y_1': 1.0,\n",
       "  'Y_2': 0.0,\n",
       "  'Y_3': 1.0,\n",
       "  'V_1': 48330.96993832172,\n",
       "  'V_2': 30791.74221975949,\n",
       "  'V_3': 199986.2197207459,\n",
       "  'Infected': 157.0,\n",
       "  'Y': 2.0,\n",
       "  'V': 83871.45174036581,\n",
       "  'logV': 11.337040569240429},\n",
       " 'DATA_PROFILING_RESULT': {'dates': {'col_name': 'dates',\n",
       "   'concept': 'Date of data collection',\n",
       "   'unit': 'Date',\n",
       "   'description': 'The date when the data was collected.',\n",
       "   'dkg_groundings': [['dc:date', 'Date', 'property'],\n",
       "    ['oboinowl:date', 'date', 'property'],\n",
       "    ['opmi:0000488', 'visit end date', 'class'],\n",
       "    ['obib:0000714', 'date of specimen collection', 'class']],\n",
       "   'column_stats': {'type': 'date',\n",
       "    'most_common_entries': {'2020-03-10T00:00:00': 1,\n",
       "     '2021-02-28T00:00:00': 1,\n",
       "     '2021-03-14T00:00:00': 1,\n",
       "     '2021-03-13T00:00:00': 1,\n",
       "     '2021-03-12T00:00:00': 1,\n",
       "     '2021-03-11T00:00:00': 1,\n",
       "     '2021-03-10T00:00:00': 1,\n",
       "     '2021-03-09T00:00:00': 1,\n",
       "     '2021-03-08T00:00:00': 1,\n",
       "     '2021-03-07T00:00:00': 1},\n",
       "    'num_unique_entries': 540,\n",
       "    'earliest': '2020-03-10T00:00:00',\n",
       "    'latest': '2021-08-31T00:00:00',\n",
       "    'num_null_entries': 0}},\n",
       "  'VAX_count': {'col_name': 'VAX_count',\n",
       "   'concept': 'Vaccination count',\n",
       "   'unit': 'Count',\n",
       "   'description': 'The number of vaccinations administered on the given date.',\n",
       "   'dkg_groundings': [['oboinowl:date', 'date', 'property'],\n",
       "    ['dc:date', 'Date', 'property'],\n",
       "    ['apollosv:00000047', 'vaccination administration capacity', 'class'],\n",
       "    ['opmi:0000529', 'condition end date', 'class']],\n",
       "   'column_stats': {'mean': 44.56481481481482,\n",
       "    'std': 91.57703785200043,\n",
       "    'min': 0.0,\n",
       "    '25%': 0.0,\n",
       "    '50%': 0.0,\n",
       "    '75%': 45.25,\n",
       "    'max': 587.0,\n",
       "    'type': 'numeric',\n",
       "    'num_null_entries': 0}},\n",
       "  'day': {'col_name': 'day',\n",
       "   'concept': 'Day of the year',\n",
       "   'unit': 'Count',\n",
       "   'description': 'The day of the year corresponding to the date of data collection.',\n",
       "   'dkg_groundings': [['opmi:0000091', 'day of birth', 'class'],\n",
       "    ['wikidata:Q102129592', 'reciprocal_day', 'class'],\n",
       "    ['idomal:0000478', '1 day after blood meal', 'class'],\n",
       "    ['opmi:0000473', 'year of birth', 'class']],\n",
       "   'column_stats': {'mean': 269.5,\n",
       "    'std': 156.02884348735012,\n",
       "    'min': 0.0,\n",
       "    '25%': 134.75,\n",
       "    '50%': 269.5,\n",
       "    '75%': 404.25,\n",
       "    'max': 539.0,\n",
       "    'type': 'numeric',\n",
       "    'num_null_entries': 0}},\n",
       "  'sdm': {'col_name': 'sdm',\n",
       "   'concept': 'Stochasticity in the transmission rates',\n",
       "   'unit': 'Proportion',\n",
       "   'description': 'The proportion of stochasticity in the transmission rates on the given date.',\n",
       "   'dkg_groundings': [['cemo:device-specific_rates_and_procedure-specific_rates',\n",
       "     'device-specific rates and procedure-specific rates',\n",
       "     'class'],\n",
       "    ['cido:0000157', 'SARS-CoV transmission', 'class'],\n",
       "    ['cido:0000156', 'SARS-CoV-2 transmission', 'class'],\n",
       "    ['cido:0000155', 'coronavirus transmission', 'class']],\n",
       "   'column_stats': {'mean': 0.33188518518518517,\n",
       "    'std': 0.33411446629713515,\n",
       "    'min': 0.04,\n",
       "    '25%': 0.089,\n",
       "    '50%': 0.12,\n",
       "    '75%': 0.6,\n",
       "    'max': 1.0,\n",
       "    'type': 'numeric',\n",
       "    'num_null_entries': 0}},\n",
       "  'events': {'col_name': 'events',\n",
       "   'concept': 'Unforeseen events',\n",
       "   'unit': 'Count',\n",
       "   'description': 'The number of unforeseen events that occurred on the given date.',\n",
       "   'dkg_groundings': [['cemo:number_of_cases_with_exposure_events',\n",
       "     'number of cases with exposure events',\n",
       "     'class'],\n",
       "    ['cemo:number_of_schools_with_exposure_events',\n",
       "     'number of schools with exposure events',\n",
       "     'class'],\n",
       "    ['cemo:number_of_cases_with_school_exposure_events',\n",
       "     'number of cases with school exposure events',\n",
       "     'class'],\n",
       "    ['pato:0000165', 'time', 'class']],\n",
       "   'column_stats': {'mean': 0.12259259259259257,\n",
       "    'std': 0.16684550289840552,\n",
       "    'min': 0.0,\n",
       "    '25%': 0.1,\n",
       "    '50%': 0.1,\n",
       "    '75%': 0.1,\n",
       "    'max': 0.8,\n",
       "    'type': 'numeric',\n",
       "    'num_null_entries': 0}},\n",
       "  'I_1': {'col_name': 'I_1',\n",
       "   'concept': 'Infectious population (Model 1)',\n",
       "   'unit': 'Count',\n",
       "   'description': 'The number of infectious individuals in the population according to the first model on the given date.',\n",
       "   'dkg_groundings': [['ido:0000447',\n",
       "     'herd immunity to infectious organism',\n",
       "     'class'],\n",
       "    ['idomal:0000352', 'herd immunity to infectious organism', 'class'],\n",
       "    ['apollosv:00000548', 'Susceptible-Infected-Susceptible model', 'class'],\n",
       "    ['apollosv:00000507', 'disease transmission model identifier', 'class']],\n",
       "   'column_stats': {'mean': 58.92037037037037,\n",
       "    'std': 54.643719981744255,\n",
       "    'min': 1.0,\n",
       "    '25%': 14.0,\n",
       "    '50%': 48.0,\n",
       "    '75%': 83.25,\n",
       "    'max': 221.0,\n",
       "    'type': 'numeric',\n",
       "    'num_null_entries': 0}},\n",
       "  'I_2': {'col_name': 'I_2',\n",
       "   'concept': 'Infectious population (Model 2)',\n",
       "   'unit': 'Count',\n",
       "   'description': 'The number of infectious individuals in the population according to the second model on the given date.',\n",
       "   'dkg_groundings': [['ido:0000447',\n",
       "     'herd immunity to infectious organism',\n",
       "     'class'],\n",
       "    ['idomal:0000352', 'herd immunity to infectious organism', 'class'],\n",
       "    ['apollosv:00000548', 'Susceptible-Infected-Susceptible model', 'class'],\n",
       "    ['apollosv:00000507', 'disease transmission model identifier', 'class']],\n",
       "   'column_stats': {'mean': 43.25925925925926,\n",
       "    'std': 57.52591903856349,\n",
       "    'min': 0.0,\n",
       "    '25%': 7.0,\n",
       "    '50%': 21.0,\n",
       "    '75%': 47.25,\n",
       "    'max': 229.0,\n",
       "    'type': 'numeric',\n",
       "    'num_null_entries': 0}},\n",
       "  'I_3': {'col_name': 'I_3',\n",
       "   'concept': 'Infectious population (Model 3)',\n",
       "   'unit': 'Count',\n",
       "   'description': 'The number of infectious individuals in the population according to the third model on the given date.',\n",
       "   'dkg_groundings': [['ido:0000447',\n",
       "     'herd immunity to infectious organism',\n",
       "     'class'],\n",
       "    ['idomal:0000352', 'herd immunity to infectious organism', 'class'],\n",
       "    ['apollosv:00000548', 'Susceptible-Infected-Susceptible model', 'class'],\n",
       "    ['apollosv:00000507', 'disease transmission model identifier', 'class']],\n",
       "   'column_stats': {'mean': 79.17407407407407,\n",
       "    'std': 64.41469941710787,\n",
       "    'min': 0.0,\n",
       "    '25%': 39.0,\n",
       "    '50%': 64.0,\n",
       "    '75%': 97.0,\n",
       "    'max': 291.0,\n",
       "    'type': 'numeric',\n",
       "    'num_null_entries': 0}},\n",
       "  'Y_1': {'col_name': 'Y_1',\n",
       "   'concept': 'Case count (Model 1)',\n",
       "   'unit': 'Count',\n",
       "   'description': 'The number of COVID-19 cases according to the first model on the given date.',\n",
       "   'dkg_groundings': [['apollosv:00000507',\n",
       "     'disease transmission model identifier',\n",
       "     'class'],\n",
       "    ['iao:0000017', 'model number', 'class'],\n",
       "    ['apollosv:00000561', 'disease transmission model software', 'class'],\n",
       "    ['apollosv:00000294', 'agent-based disease transmission model', 'class']],\n",
       "   'column_stats': {'mean': 1.5,\n",
       "    'std': 1.7931016028297173,\n",
       "    'min': 0.0,\n",
       "    '25%': 0.0,\n",
       "    '50%': 1.0,\n",
       "    '75%': 2.0,\n",
       "    'max': 13.0,\n",
       "    'type': 'numeric',\n",
       "    'num_null_entries': 0}},\n",
       "  'Y_2': {'col_name': 'Y_2',\n",
       "   'concept': 'Case count (Model 2)',\n",
       "   'unit': 'Count',\n",
       "   'description': 'The number of COVID-19 cases according to the second model on the given date.',\n",
       "   'dkg_groundings': [['apollosv:00000507',\n",
       "     'disease transmission model identifier',\n",
       "     'class'],\n",
       "    ['iao:0000017', 'model number', 'class'],\n",
       "    ['apollosv:00000561', 'disease transmission model software', 'class'],\n",
       "    ['apollosv:00000294', 'agent-based disease transmission model', 'class']],\n",
       "   'column_stats': {'mean': 1.1555555555555554,\n",
       "    'std': 1.713708416503968,\n",
       "    'min': 0.0,\n",
       "    '25%': 0.0,\n",
       "    '50%': 0.0,\n",
       "    '75%': 2.0,\n",
       "    'max': 10.0,\n",
       "    'type': 'numeric',\n",
       "    'num_null_entries': 0}},\n",
       "  'Y_3': {'col_name': 'Y_3',\n",
       "   'concept': 'Case count (Model 3)',\n",
       "   'unit': 'Count',\n",
       "   'description': 'The number of COVID-19 cases according to the third model on the given date.',\n",
       "   'dkg_groundings': [['apollosv:00000507',\n",
       "     'disease transmission model identifier',\n",
       "     'class'],\n",
       "    ['iao:0000017', 'model number', 'class'],\n",
       "    ['apollosv:00000561', 'disease transmission model software', 'class'],\n",
       "    ['apollosv:00000294', 'agent-based disease transmission model', 'class']],\n",
       "   'column_stats': {'mean': 1.962962962962963,\n",
       "    'std': 1.9230364340387716,\n",
       "    'min': 0.0,\n",
       "    '25%': 1.0,\n",
       "    '50%': 1.0,\n",
       "    '75%': 3.0,\n",
       "    'max': 10.0,\n",
       "    'type': 'numeric',\n",
       "    'num_null_entries': 0}},\n",
       "  'V_1': {'col_name': 'V_1',\n",
       "   'concept': 'Viral load (Model 1)',\n",
       "   'unit': 'Count',\n",
       "   'description': 'The viral load in the wastewater according to the first model on the given date.',\n",
       "   'dkg_groundings': [['apollosv:00000507',\n",
       "     'disease transmission model identifier',\n",
       "     'class'],\n",
       "    ['vsmo:0000051', 'viral load of arthropod', 'class'],\n",
       "    ['iao:0000017', 'model number', 'class'],\n",
       "    ['vido:0001331', 'viral load', 'class']],\n",
       "   'column_stats': {'mean': 99144.7632252408,\n",
       "    'std': 93740.91643752693,\n",
       "    'min': 1002.3180237027808,\n",
       "    '25%': 22667.889843027777,\n",
       "    '50%': 74545.22882665138,\n",
       "    '75%': 142646.6753042973,\n",
       "    'max': 406371.4656460259,\n",
       "    'type': 'numeric',\n",
       "    'num_null_entries': 0}},\n",
       "  'V_2': {'col_name': 'V_2',\n",
       "   'concept': 'Viral load (Model 2)',\n",
       "   'unit': 'Count',\n",
       "   'description': 'The viral load in the wastewater according to the second model on the given date.',\n",
       "   'dkg_groundings': [['apollosv:00000507',\n",
       "     'disease transmission model identifier',\n",
       "     'class'],\n",
       "    ['vsmo:0000051', 'viral load of arthropod', 'class'],\n",
       "    ['iao:0000017', 'model number', 'class'],\n",
       "    ['vido:0001331', 'viral load', 'class']],\n",
       "   'column_stats': {'mean': 72336.3696113207,\n",
       "    'std': 96313.92441935057,\n",
       "    'min': 0.0,\n",
       "    '25%': 10711.966807814451,\n",
       "    '50%': 35411.995339615874,\n",
       "    '75%': 80219.22502508922,\n",
       "    'max': 398459.3191052788,\n",
       "    'type': 'numeric',\n",
       "    'num_null_entries': 0}},\n",
       "  'V_3': {'col_name': 'V_3',\n",
       "   'concept': 'Viral load (Model 3)',\n",
       "   'unit': 'Count',\n",
       "   'description': 'The viral load in the wastewater according to the third model on the given date.',\n",
       "   'dkg_groundings': [['apollosv:00000507',\n",
       "     'disease transmission model identifier',\n",
       "     'class'],\n",
       "    ['vsmo:0000051', 'viral load of arthropod', 'class'],\n",
       "    ['iao:0000017', 'model number', 'class'],\n",
       "    ['vido:0001331', 'viral load', 'class']],\n",
       "   'column_stats': {'mean': 132590.61245229366,\n",
       "    'std': 109802.34668196192,\n",
       "    'min': 0.0,\n",
       "    '25%': 64695.0859253356,\n",
       "    '50%': 108511.39565896089,\n",
       "    '75%': 164867.68024359224,\n",
       "    'max': 513957.0474296356,\n",
       "    'type': 'numeric',\n",
       "    'num_null_entries': 0}},\n",
       "  'Infected': {'col_name': 'Infected',\n",
       "   'concept': 'Infected population',\n",
       "   'unit': 'Count',\n",
       "   'description': 'The number of infected individuals in the population on the given date.',\n",
       "   'dkg_groundings': [['apollosv:00000233', 'infected population', 'class'],\n",
       "    ['cido:0000292', 'human infected by SARS-CoV-2', 'class'],\n",
       "    ['ido:0000511', 'infected population', 'class'],\n",
       "    ['apollosv:00000155', 'population infection survey', 'class']],\n",
       "   'column_stats': {'mean': 181.3537037037037,\n",
       "    'std': 166.84490838993227,\n",
       "    'min': 5.0,\n",
       "    '25%': 93.0,\n",
       "    '50%': 127.0,\n",
       "    '75%': 194.0,\n",
       "    'max': 728.0,\n",
       "    'type': 'numeric',\n",
       "    'num_null_entries': 0}},\n",
       "  'Y': {'col_name': 'Y',\n",
       "   'concept': 'Total case count',\n",
       "   'unit': 'Count',\n",
       "   'description': 'The total number of COVID-19 cases on the given date.',\n",
       "   'dkg_groundings': [['apollosv:00000569', 'total disease cases', 'class'],\n",
       "    ['apollosv:00000568', 'total fatal disease cases', 'class'],\n",
       "    ['cemo:total_number_of_cases_removed_from_isolation',\n",
       "     'total number of cases removed from isolation',\n",
       "     'class'],\n",
       "    ['oae:0001658', 'protein total increased AE', 'class']],\n",
       "   'column_stats': {'mean': 4.618518518518519,\n",
       "    'std': 4.375979045463479,\n",
       "    'min': 0.0,\n",
       "    '25%': 2.0,\n",
       "    '50%': 3.0,\n",
       "    '75%': 6.0,\n",
       "    'max': 24.0,\n",
       "    'type': 'numeric',\n",
       "    'num_null_entries': 0}},\n",
       "  'V': {'col_name': 'V',\n",
       "   'concept': 'Total viral load',\n",
       "   'unit': 'Count',\n",
       "   'description': 'The total viral load in the wastewater on the given date.',\n",
       "   'dkg_groundings': [['vsmo:0000051', 'viral load of arthropod', 'class'],\n",
       "    ['oae:0001658', 'protein total increased AE', 'class'],\n",
       "    ['oae:0001659', 'protein total decreased AE', 'class'],\n",
       "    ['vo:0000156', 'viral gene', 'class']],\n",
       "   'column_stats': {'mean': 94945.09441078735,\n",
       "    'std': 87761.06214864712,\n",
       "    'min': 2032.6239080010116,\n",
       "    '25%': 45637.861836625896,\n",
       "    '50%': 66436.08220887893,\n",
       "    '75%': 102594.28449145911,\n",
       "    'max': 404785.44328658737,\n",
       "    'type': 'numeric',\n",
       "    'num_null_entries': 0}},\n",
       "  'logV': {'col_name': 'logV',\n",
       "   'concept': 'Logarithm of total viral load',\n",
       "   'unit': 'Logarithm (base e)',\n",
       "   'description': 'The natural logarithm of the total viral load in the wastewater on the given date.',\n",
       "   'dkg_groundings': [['vsmo:0000051', 'viral load of arthropod', 'class'],\n",
       "    ['vido:0001331', 'viral load', 'class'],\n",
       "    ['oae:0001658', 'protein total increased AE', 'class'],\n",
       "    ['oae:0001659', 'protein total decreased AE', 'class']],\n",
       "   'column_stats': {'mean': 11.064899833546166,\n",
       "    'std': 0.9704131476024136,\n",
       "    'min': 7.617082802909907,\n",
       "    '25%': 10.728492713353576,\n",
       "    '50%': 11.103994827924955,\n",
       "    '75%': 11.538537492141966,\n",
       "    'max': 12.9111124360484,\n",
       "    'type': 'numeric',\n",
       "    'num_null_entries': 0}}},\n",
       " 'DATASET_TYPE': 'tabular'}"
      ]
     },
     "execution_count": 34,
     "metadata": {},
     "output_type": "execute_result"
    }
   ],
   "source": [
    "# Tabular example\n",
    "csv_name = \"../../resources/dataset/ensemble/abm.csv\"\n",
    "doc_name = \"../../resources/dataset/ensemble/abm_doc.txt\"\n",
    "\n",
    "with open(csv_name, 'rb') as f_csv, open(doc_name,  'rb') as f_doc:\n",
    "    files = {'csv_file': ('filename', f_csv), 'doc_file': ('filename', f_doc)}\n",
    "    params = {\"gpt_key\": GPT_KEY}\n",
    "    response = requests.post(API_ROOT + \"cards/get_data_card/\",  params=params,  files=files)\n",
    "    json_str = response.text\n",
    "# print(json_str)\n",
    "ast.literal_eval(json_str)\n"
   ],
   "metadata": {
    "collapsed": false,
    "pycharm": {
     "name": "#%%\n"
    }
   }
  },
  {
   "cell_type": "code",
   "execution_count": null,
   "outputs": [],
   "source": [],
   "metadata": {
    "collapsed": false,
    "pycharm": {
     "name": "#%%\n"
    }
   }
  }
 ],
 "metadata": {
  "kernelspec": {
   "display_name": "Python 3",
   "language": "python",
   "name": "python3"
  },
  "language_info": {
   "codemirror_mode": {
    "name": "ipython",
    "version": 3
   },
   "file_extension": ".py",
   "mimetype": "text/x-python",
   "name": "python",
   "nbconvert_exporter": "python",
   "pygments_lexer": "ipython3",
   "version": "3.9.17"
  }
 },
 "nbformat": 4,
 "nbformat_minor": 5
}