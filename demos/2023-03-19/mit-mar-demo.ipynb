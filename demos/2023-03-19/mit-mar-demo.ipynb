{
 "cells": [
  {
   "cell_type": "markdown",
   "id": "5c9b2c23",
   "metadata": {
    "pycharm": {
     "name": "#%% md\n"
    }
   },
   "source": [
    "# MIT (TA1): From Paper and Code to annotated Petri Nets"
   ]
  },
  {
   "cell_type": "markdown",
   "id": "0701ccf7",
   "metadata": {
    "pycharm": {
     "name": "#%% md\n"
    }
   },
   "source": [
    "#### Mike Cafarella, Chunwei Liu, Markos Markakis, Peter Chen"
   ]
  },
  {
   "cell_type": "markdown",
   "id": "2719d0e6",
   "metadata": {
    "pycharm": {
     "name": "#%% md\n"
    }
   },
   "source": [
    "## 0. Preprocessing"
   ]
  },
  {
   "cell_type": "code",
   "execution_count": 1,
   "id": "d07d53d5",
   "metadata": {
    "pycharm": {
     "name": "#%%\n"
    }
   },
   "outputs": [],
   "source": [
    "import ast, json, requests, os\n",
    "from IPython import display\n",
    "from gpt_key import *\n",
    "\n",
    "API_ROOT = \"http://localhost:8000/\""
   ]
  },
  {
   "cell_type": "markdown",
   "id": "1602c876",
   "metadata": {
    "pycharm": {
     "name": "#%% md\n"
    }
   },
   "source": [
    "#### We can run a local script to consolidate the \"content\" fields to get just the text of the paper:"
   ]
  },
  {
   "cell_type": "markdown",
   "id": "ae6e9ef4",
   "metadata": {
    "pycharm": {
     "name": "#%% md\n"
    }
   },
   "source": [
    "## 1. Extracting variables and annotating them from the text and the DKG"
   ]
  },
  {
   "cell_type": "markdown",
   "id": "1c55b8b4",
   "metadata": {
    "pycharm": {
     "name": "#%% md\n"
    }
   },
   "source": [
    "#### Using our API (powered by GPT-3), we can extract variables from the paper alongside a list of possible definitions, and ground each of these variables to the MIRA DKG (thanks Harvard team!). If you're interested, the JSON format of our intermediate output can be found [here](https://github.com/mikecafarella/mitaskem/blob/main/JSONformat.md)."
   ]
  },
  {
   "cell_type": "code",
   "execution_count": 2,
   "id": "4b84abd1",
   "metadata": {
    "pycharm": {
     "name": "#%%\n"
    }
   },
   "outputs": [],
   "source": [
    "with open(\"bucky_short.txt\", \"r\") as f:\n",
    "        text = f.read()           \n",
    "        dct_extract = {\"text\":text, \"gpt_key\":GPT_KEY}           \n",
    "        json_str = requests.post(API_ROOT + \"annotation/find_text_vars/\", params=dct_extract).text"
   ]
  },
  {
   "cell_type": "code",
   "execution_count": 3,
   "id": "f3ca99aa",
   "metadata": {
    "pycharm": {
     "name": "#%%\n"
    }
   },
   "outputs": [
    {
     "data": {
      "text/plain": [
       "[{'type': 'variable',\n",
       "  'name': 'S_i j',\n",
       "  'id': 'v0',\n",
       "  'text_annotations': [' Proportion of individuals who are susceptible to the virus'],\n",
       "  'dkg_annotations': [['geonames:2479536', 'Skikda'],\n",
       "   ['geonames:487495', 'Sterlitamak']]},\n",
       " {'type': 'variable',\n",
       "  'name': 'E_i j',\n",
       "  'id': 'v1',\n",
       "  'text_annotations': [' Proportion of individuals who have been exposed to the virus'],\n",
       "  'dkg_annotations': [['geonames:1816670', 'Beijing'],\n",
       "   ['geonames:1799491', 'Neijiang']]},\n",
       " {'type': 'variable',\n",
       "  'name': 'I_i, j^hosp',\n",
       "  'id': 'v2',\n",
       "  'text_annotations': [' Proportion of individuals that are exhibiting severe disease symptoms and are in need of hospitalization'],\n",
       "  'dkg_annotations': []},\n",
       " {'type': 'variable',\n",
       "  'name': 'I_i, j^mild',\n",
       "  'id': 'v3',\n",
       "  'text_annotations': [' Proportion of individuals that are exhibiting mild disease symptoms'],\n",
       "  'dkg_annotations': []},\n",
       " {'type': 'variable',\n",
       "  'name': 'I_i, j^asym',\n",
       "  'id': 'v4',\n",
       "  'text_annotations': [' Proportion of individuals who are infected but asymptomatic'],\n",
       "  'dkg_annotations': []},\n",
       " {'type': 'variable',\n",
       "  'name': 'R_i, j',\n",
       "  'id': 'v5',\n",
       "  'text_annotations': [' Proportion of individuals who have recovered from the virus and are no longer capable of infecting other individuals'],\n",
       "  'dkg_annotations': []},\n",
       " {'type': 'variable',\n",
       "  'name': 'R_i, j^hosp',\n",
       "  'id': 'v6',\n",
       "  'text_annotations': [' Proportion of individuals who have recovered from the virus after a period of time in a hospital'],\n",
       "  'dkg_annotations': []},\n",
       " {'type': 'variable',\n",
       "  'name': 'D_i, j',\n",
       "  'id': 'v7',\n",
       "  'text_annotations': [' Proportion of individuals who have succumbed as a direct result of the virus'],\n",
       "  'dkg_annotations': []},\n",
       " {'type': 'variable',\n",
       "  'name': 'β_i, j',\n",
       "  'id': 'v8',\n",
       "  'text_annotations': [' Force of infection on a member of age group i in location j'],\n",
       "  'dkg_annotations': []},\n",
       " {'type': 'variable',\n",
       "  'name': 'σ',\n",
       "  'id': 'v9',\n",
       "  'text_annotations': [' Viral latent period'],\n",
       "  'dkg_annotations': [['geonames:1280737', 'Lhasa'],\n",
       "   ['geonames:1496153', 'Omsk']]},\n",
       " {'type': 'variable',\n",
       "  'name': 'α',\n",
       "  'id': 'v10',\n",
       "  'text_annotations': [' Rate of infections that are asymptomatic'],\n",
       "  'dkg_annotations': [['geonames:298117', 'Van'],\n",
       "   ['geonames:71137', 'Sanaa']]},\n",
       " {'type': 'variable',\n",
       "  'name': 'ν_i',\n",
       "  'id': 'v11',\n",
       "  'text_annotations': [' FractionI^{\\text {asym }}'],\n",
       "  'dkg_annotations': []},\n",
       " {'type': 'variable',\n",
       "  'name': 'I^{\\text {mild }}',\n",
       "  'id': 'v12',\n",
       "  'text_annotations': [' Mild infected state'],\n",
       "  'dkg_annotations': []},\n",
       " {'type': 'variable',\n",
       "  'name': 'I^{\\text {hosp }}',\n",
       "  'id': 'v13',\n",
       "  'text_annotations': [' Severe infected state'],\n",
       "  'dkg_annotations': []},\n",
       " {'type': 'variable',\n",
       "  'name': '$\\\\gamma$',\n",
       "  'id': 'v14',\n",
       "  'text_annotations': [' Rate of recovery from virus'],\n",
       "  'dkg_annotations': []},\n",
       " {'type': 'variable',\n",
       "  'name': '$1 / \\tau_{i}$',\n",
       "  'id': 'v15',\n",
       "  'text_annotations': [' Rate of recovery after period of illness'],\n",
       "  'dkg_annotations': []},\n",
       " {'type': 'variable',\n",
       "  'name': '$\\\\phi_{i} \\\\gamma$',\n",
       "  'id': 'v16',\n",
       "  'text_annotations': [' Rate of expiration from virus'],\n",
       "  'dkg_annotations': []},\n",
       " {'type': 'variable',\n",
       "  'name': '$R_{0}$',\n",
       "  'id': 'v17',\n",
       "  'text_annotations': [' Basic reproductive number',\n",
       "   ' Reproduction number-based reduction in overall community transmission'],\n",
       "  'dkg_annotations': []},\n",
       " {'type': 'variable',\n",
       "  'name': 'asym_frac',\n",
       "  'id': 'v18',\n",
       "  'text_annotations': [' Fraction of infections that are asymptomatic'],\n",
       "  'dkg_annotations': []},\n",
       " {'type': 'variable',\n",
       "  'name': 'rel_inf_asym',\n",
       "  'id': 'v19',\n",
       "  'text_annotations': [' Relative infectiousness of asymptomatic individuals'],\n",
       "  'dkg_annotations': []},\n",
       " {'type': 'variable',\n",
       "  'name': 'frac_trans_before_s',\n",
       "  'id': 'v20',\n",
       "  'text_annotations': [' Percentage of transmission prior to symptom onset'],\n",
       "  'dkg_annotations': []},\n",
       " {'type': 'variable',\n",
       "  'name': 'F',\n",
       "  'id': 'v21',\n",
       "  'text_annotations': [' Case fatality ratio'],\n",
       "  'dkg_annotations': [['']]},\n",
       " {'type': 'variable',\n",
       "  'name': 'H',\n",
       "  'id': 'v22',\n",
       "  'text_annotations': [' Case hospitalization ratio'],\n",
       "  'dkg_annotations': [['']]},\n",
       " {'type': 'variable',\n",
       "  'name': 'I_TO_H_TIME',\n",
       "  'id': 'v23',\n",
       "  'text_annotations': [' Time from symptom onset to hospitalization'],\n",
       "  'dkg_annotations': []},\n",
       " {'type': 'variable',\n",
       "  'name': 'H_TIME',\n",
       "  'id': 'v24',\n",
       "  'text_annotations': [' Duration of hospitalization',\n",
       "   ' Number of days anfrac'],\n",
       "  'dkg_annotations': [['pr:Q9UNS1', 'protein timeless homolog (human)']]},\n",
       " {'type': 'variable',\n",
       "  'name': 'D_REPORT_TIME',\n",
       "  'id': 'v25',\n",
       "  'text_annotations': [' Time between death and reporting'],\n",
       "  'dkg_annotations': []},\n",
       " {'type': 'variable',\n",
       "  'name': 'Tg',\n",
       "  'id': 'v26',\n",
       "  'text_annotations': [' Mean generation interval (in days)'],\n",
       "  'dkg_annotations': [['']]},\n",
       " {'type': 'variable',\n",
       "  'name': 'CHR',\n",
       "  'id': 'v27',\n",
       "  'text_annotations': [' Case hospitalization-severity ratio'],\n",
       "  'dkg_annotations': [['hp:0011010', 'Chronic'],\n",
       "   ['geonames:710791', 'Cherkasy']]},\n",
       " {'type': 'variable',\n",
       "  'name': 'I_to_H_time',\n",
       "  'id': 'v28',\n",
       "  'text_annotations': [' Time it takes from symptom onset to hospitalization (in days)'],\n",
       "  'dkg_annotations': []},\n",
       " {'type': 'variable',\n",
       "  'name': 'Contact-Matrix Based NPIs',\n",
       "  'id': 'v29',\n",
       "  'text_annotations': [' NPIs that effect certain age groups within the total population.'],\n",
       "  'dkg_annotations': []},\n",
       " {'type': 'variable',\n",
       "  'name': 'Mobility Based NPI',\n",
       "  'id': 'v30',\n",
       "  'text_annotations': [' NPIs that lead to changes in mobility/movement between administrative districts.'],\n",
       "  'dkg_annotations': []},\n",
       " {'type': 'variable',\n",
       "  'name': 'Reproduction Number Based NPI',\n",
       "  'id': 'v31',\n",
       "  'text_annotations': [' NPIs that have an effect on the overall scaling of transmissibility.'],\n",
       "  'dkg_annotations': []}]"
      ]
     },
     "execution_count": 3,
     "metadata": {},
     "output_type": "execute_result"
    }
   ],
   "source": [
    "ast.literal_eval(json_str)"
   ]
  },
  {
   "cell_type": "markdown",
   "id": "bfb7bbbd",
   "metadata": {
    "pycharm": {
     "name": "#%% md\n"
    }
   },
   "source": [
    "## 2. Adding annotations from dataset columns"
   ]
  },
  {
   "cell_type": "markdown",
   "id": "a6938a2a",
   "metadata": {
    "pycharm": {
     "name": "#%% md\n"
    }
   },
   "source": [
    "#### Alongside the text, we might also have discovered a collection of datasets that we think might be relevant:"
   ]
  },
  {
   "cell_type": "code",
   "execution_count": 4,
   "id": "ba00cfb6",
   "metadata": {
    "pycharm": {
     "name": "#%%\n"
    }
   },
   "outputs": [
    {
     "name": "stdout",
     "output_type": "stream",
     "text": [
      "countyFIPS,County Name,State,StateFIPS,2020-01-22\n",
      "0,\"Statewide Unallocated\",\"AL\",\"01\",0\n",
      "1001,\"Autauga County \",\"AL\",\"01\",0\n"
     ]
    }
   ],
   "source": [
    "with open(\"../../resources/dataset/covid_confirmed_usafacts.csv\") as f:\n",
    "    dataset_1 = f.read()\n",
    "    print(dataset_1[:150])"
   ]
  },
  {
   "cell_type": "code",
   "execution_count": 5,
   "id": "5d42a7de",
   "metadata": {
    "pycharm": {
     "name": "#%%\n"
    }
   },
   "outputs": [
    {
     "name": "stdout",
     "output_type": "stream",
     "text": [
      "countyFIPS,County Name,State,StateFIPS,2020-01-22\n",
      "0,\"Statewide Unallocated\",\"AL\",\"01\",0\n",
      "1001,\"Autauga County \",\"AL\",\"01\",0\n"
     ]
    }
   ],
   "source": [
    "with open(\"../../resources/dataset/covid_deaths_usafacts.csv\") as f:\n",
    "    dataset_2 = f.read()\n",
    "    print(dataset_2[:150])"
   ]
  },
  {
   "cell_type": "markdown",
   "id": "4e8df028",
   "metadata": {
    "pycharm": {
     "name": "#%% md\n"
    }
   },
   "source": [
    "#### Let's collect just the column names into a single file:"
   ]
  },
  {
   "cell_type": "code",
   "execution_count": 6,
   "id": "c63f494e",
   "metadata": {
    "pycharm": {
     "name": "#%%\n"
    }
   },
   "outputs": [],
   "source": [
    "dir = \"../../resources/dataset/\"\n",
    "with open(os.path.join(dir,\"headers.txt\"), \"w+\") as fw:\n",
    "    for filename in os.listdir(dir):\n",
    "        file = os.path.join(dir, filename)\n",
    "        if os.path.isfile(file) and file.endswith(\".csv\"):\n",
    "            fw.write(\"{}:\\t{}\".format(filename, open(file, \"r\").readline()))"
   ]
  },
  {
   "cell_type": "code",
   "execution_count": 7,
   "id": "1c449c42",
   "metadata": {
    "pycharm": {
     "name": "#%%\n"
    }
   },
   "outputs": [
    {
     "name": "stdout",
     "output_type": "stream",
     "text": [
      "COVID-19_Reported_Patient_Impact_and_Hospital_Capacity_by_State_Archive_Repository.csv:\tUpdate Date,Days Since Update,User,Rows,Row Change,Columns,Column Change,Metadata Published,Metadata Updates,Column Level Metadata,Column Level Metadata Updates,Archive Link\n",
      "StatewideCOVID-19CasesDeathsTests.csv:\tdate,area,area_type,population,cases,cumulative_cases,deaths,cumulative_deaths,total_tests,cumulative_total_tests,posi\n"
     ]
    }
   ],
   "source": [
    "with open(os.path.join(dir,\"headers.txt\")) as f:\n",
    "    dataset_str = f.read()\n",
    "    print(dataset_str[:419])"
   ]
  },
  {
   "cell_type": "markdown",
   "id": "90543cb7",
   "metadata": {
    "pycharm": {
     "name": "#%% md\n"
    }
   },
   "source": [
    "#### Now we can call our `annotation/link_datasets_to_vars` endpoint to map variables discovered earlier to any matching dataset columns (GIGO warning here):"
   ]
  },
  {
   "cell_type": "code",
   "execution_count": 8,
   "id": "d4d891aa",
   "metadata": {
    "pycharm": {
     "name": "#%%\n"
    }
   },
   "outputs": [
    {
     "data": {
      "text/plain": [
       "'[{\"type\":\"variable\",\"name\":\"S_i j\",\"id\":\"v0\",\"text_annotations\":[\" Proportion of individuals who are susceptible to the virus\"],\"dkg_annotations\":[[\"geonames:2479536\",\"Skikda\"],[\"geonames:487495\",\"Sterlitamak\"]],\"data_annotations\":[\"\"]},{\"type\":\"variable\",\"name\":\"E_i j\",\"id\":\"v1\",\"text_annotations\":[\" Proportion of individuals who have been exposed to the virus\"],\"dkg_annotations\":[[\"geonames:1816670\",\"Beijing\"],[\"geonames:1799491\",\"Neijiang\"]],\"data_annotations\":[\"\"]},{\"type\":\"variable\",\"name\":\"I_i, j^hosp\",\"id\":\"v2\",\"text_annotations\":[\" Proportion of individuals that are exhibiting severe disease symptoms and are in need of hospitalization\"],\"dkg_annotations\":[],\"data_annotations\":[[\"nychealth.csv\",\"HOSPITALIZED_COUNT\"],[\"covid_tracking.csv\",\"hospitalizedCurrently\"]]},{\"type\":\"variable\",\"name\":\"I_i, j^mild\",\"id\":\"v3\",\"text_annotations\":[\" Proportion of individuals that are exhibiting mild disease symptoms\"],\"dkg_annotations\":[],\"data_annotations\":[[\"StatewideCOVID-19CasesDeathsTests.csv\",\"cases\"],[\"nychealth.csv\",\"CASE_COUNT\"]]},{\"type\":\"variable\",\"name\":\"I_i, j^asym\",\"id\":\"v4\",\"text_annotations\":[\" Proportion of individuals who are infected but asymptomatic\"],\"dkg_annotations\":[],\"data_annotations\":[[\"covid_tracking.csv\",\"positiveCasesViral\"],[\"covid_tracking.csv\",\"probableCases\"]]},{\"type\":\"variable\",\"name\":\"R_i, j\",\"id\":\"v5\",\"text_annotations\":[\" Proportion of individuals who have recovered from the virus and are no longer capable of infecting other individuals\"],\"dkg_annotations\":[],\"data_annotations\":[[\"covid_tracking.csv\",\"recovered\"],[\"Reported_State_Hospital_Capacity_and_COVID19_Patient_Impact.csv\",\"recovered\"]]},{\"type\":\"variable\",\"name\":\"R_i, j^hosp\",\"id\":\"v6\",\"text_annotations\":[\" Proportion of individuals who have recovered from the virus after a period of time in a hospital\"],\"dkg_annotations\":[],\"data_annotations\":[\"\"]},{\"type\":\"variable\",\"name\":\"D_i, j\",\"id\":\"v7\",\"text_annotations\":[\" Proportion of individuals who have succumbed as a direct result of the virus\"],\"dkg_annotations\":[],\"data_annotations\":[\"\",\"\"]},{\"type\":\"variable\",\"name\":\"β_i, j\",\"id\":\"v8\",\"text_annotations\":[\" Force of infection on a member of age group i in location j\"],\"dkg_annotations\":[],\"data_annotations\":[\"\"]},{\"type\":\"variable\",\"name\":\"σ\",\"id\":\"v9\",\"text_annotations\":[\" Viral latent period\"],\"dkg_annotations\":[[\"geonames:1280737\",\"Lhasa\"],[\"geonames:1496153\",\"Omsk\"]],\"data_annotations\":[\"\"]},{\"type\":\"variable\",\"name\":\"α\",\"id\":\"v10\",\"text_annotations\":[\" Rate of infections that are asymptomatic\"],\"dkg_annotations\":[[\"geonames:298117\",\"Van\"],[\"geonames:71137\",\"Sanaa\"]],\"data_annotations\":[\"\"]},{\"type\":\"variable\",\"name\":\"ν_i\",\"id\":\"v11\",\"text_annotations\":[\" FractionI^{\\\\text {asym }}\"],\"dkg_annotations\":[],\"data_annotations\":[\"\"]},{\"type\":\"variable\",\"name\":\"I^{\\\\text {mild }}\",\"id\":\"v12\",\"text_annotations\":[\" Mild infected state\"],\"dkg_annotations\":[],\"data_annotations\":[[\"StatewideCOVID-19CasesDeathsTests.csv\",\"cases\"],[\"StatewideCOVID-19CasesDeathsTests.csv\",\"cumulative_cases\"]]},{\"type\":\"variable\",\"name\":\"I^{\\\\text {hosp }}\",\"id\":\"v13\",\"text_annotations\":[\" Severe infected state\"],\"dkg_annotations\":[],\"data_annotations\":[[\"nychealth.csv\",\"HOSPITALIZED_COUNT\"],[\"covid_tracking.csv\",\"hospitalizedCurrently\"]]},{\"type\":\"variable\",\"name\":\"$\\\\\\\\gamma$\",\"id\":\"v14\",\"text_annotations\":[\" Rate of recovery from virus\"],\"dkg_annotations\":[],\"data_annotations\":[[\"covid_tracking.csv\",\"recovered\"],[\"Reported_State_Hospital_Capacity_and_COVID19_Patient_Impact.csv\",\"inpatient_beds_used_covid\"]]},{\"type\":\"variable\",\"name\":\"$1 / \\\\tau_{i}$\",\"id\":\"v15\",\"text_annotations\":[\" Rate of recovery after period of illness\"],\"dkg_annotations\":[],\"data_annotations\":[[\"covid_tracking.csv\",\"recovered\"],[\"Reported_State_Hospital_Capacity_and_COVID19_Patient_Impact.csv\",\"recovered\"]]},{\"type\":\"variable\",\"name\":\"$\\\\\\\\phi_{i} \\\\\\\\gamma$\",\"id\":\"v16\",\"text_annotations\":[\" Rate of expiration from virus\"],\"dkg_annotations\":[],\"data_annotations\":[\"\"]},{\"type\":\"variable\",\"name\":\"$R_{0}$\",\"id\":\"v17\",\"text_annotations\":[\" Basic reproductive number\",\" Reproduction number-based reduction in overall community transmission\"],\"dkg_annotations\":[],\"data_annotations\":[\"\"]},{\"type\":\"variable\",\"name\":\"asym_frac\",\"id\":\"v18\",\"text_annotations\":[\" Fraction of infections that are asymptomatic\"],\"dkg_annotations\":[],\"data_annotations\":[\"\"]},{\"type\":\"variable\",\"name\":\"rel_inf_asym\",\"id\":\"v19\",\"text_annotations\":[\" Relative infectiousness of asymptomatic individuals\"],\"dkg_annotations\":[],\"data_annotations\":[\"\"]},{\"type\":\"variable\",\"name\":\"frac_trans_before_s\",\"id\":\"v20\",\"text_annotations\":[\" Percentage of transmission prior to symptom onset\"],\"dkg_annotations\":[],\"data_annotations\":[\"\"]},{\"type\":\"variable\",\"name\":\"F\",\"id\":\"v21\",\"text_annotations\":[\" Case fatality ratio\"],\"dkg_annotations\":[[\"\"]],\"data_annotations\":[[\"StatewideCOVID-19CasesDeathsDemographics.csv\",\"deaths\"],[\"StatewideCOVID-19CasesDeathsDemographics.csv\",\"percent_deaths\"]]},{\"type\":\"variable\",\"name\":\"H\",\"id\":\"v22\",\"text_annotations\":[\" Case hospitalization ratio\"],\"dkg_annotations\":[[\"\"]],\"data_annotations\":[[\"nychealth.csv\",\"HOSP_COUNT_7DAY_AVG\"],[\"Reported_State_Hospital_Capacity_and_COVID19_Patient_Impact.csv\",\"inpatient_beds_used\"]]},{\"type\":\"variable\",\"name\":\"I_TO_H_TIME\",\"id\":\"v23\",\"text_annotations\":[\" Time from symptom onset to hospitalization\"],\"dkg_annotations\":[],\"data_annotations\":[\"\",\"\"]},{\"type\":\"variable\",\"name\":\"H_TIME\",\"id\":\"v24\",\"text_annotations\":[\" Duration of hospitalization\",\" Number of days anfrac\"],\"dkg_annotations\":[[\"pr:Q9UNS1\",\"protein timeless homolog (human)\"]],\"data_annotations\":[\"\"]},{\"type\":\"variable\",\"name\":\"D_REPORT_TIME\",\"id\":\"v25\",\"text_annotations\":[\" Time between death and reporting\"],\"dkg_annotations\":[],\"data_annotations\":[[\"covid_tracking.csv\",\"dateModified\"],[\"covid_tracking.csv\",\"dateChecked\"]]},{\"type\":\"variable\",\"name\":\"Tg\",\"id\":\"v26\",\"text_annotations\":[\" Mean generation interval (in days)\"],\"dkg_annotations\":[[\"\"]],\"data_annotations\":[\"\"]},{\"type\":\"variable\",\"name\":\"CHR\",\"id\":\"v27\",\"text_annotations\":[\" Case hospitalization-severity ratio\"],\"dkg_annotations\":[[\"hp:0011010\",\"Chronic\"],[\"geonames:710791\",\"Cherkasy\"]],\"data_annotations\":[\"\"]},{\"type\":\"variable\",\"name\":\"I_to_H_time\",\"id\":\"v28\",\"text_annotations\":[\" Time it takes from symptom onset to hospitalization (in days)\"],\"dkg_annotations\":[],\"data_annotations\":[\"\",\"\"]},{\"type\":\"variable\",\"name\":\"Contact-Matrix Based NPIs\",\"id\":\"v29\",\"text_annotations\":[\" NPIs that effect certain age groups within the total population.\"],\"dkg_annotations\":[],\"data_annotations\":[\"\"]},{\"type\":\"variable\",\"name\":\"Mobility Based NPI\",\"id\":\"v30\",\"text_annotations\":[\" NPIs that lead to changes in mobility/movement between administrative districts.\"],\"dkg_annotations\":[],\"data_annotations\":[\"\"]},{\"type\":\"variable\",\"name\":\"Reproduction Number Based NPI\",\"id\":\"v31\",\"text_annotations\":[\" NPIs that have an effect on the overall scaling of transmissibility.\"],\"dkg_annotations\":[],\"data_annotations\":[\"\"]}]'"
      ]
     },
     "execution_count": 8,
     "metadata": {},
     "output_type": "execute_result"
    }
   ],
   "source": [
    "dct_cols = {\"json_str\":json_str, \"dataset_str\": dataset_str, \"gpt_key\":GPT_KEY}           \n",
    "json_str = requests.post(API_ROOT + \"annotation/link_datasets_to_vars/\", params=dct_cols).text\n",
    "json_str"
   ]
  },
  {
   "cell_type": "code",
   "execution_count": 9,
   "id": "5d492104",
   "metadata": {
    "pycharm": {
     "name": "#%%\n"
    }
   },
   "outputs": [
    {
     "data": {
      "text/plain": [
       "[{'type': 'variable',\n",
       "  'name': 'S_i j',\n",
       "  'id': 'v0',\n",
       "  'text_annotations': [' Proportion of individuals who are susceptible to the virus'],\n",
       "  'dkg_annotations': [['geonames:2479536', 'Skikda'],\n",
       "   ['geonames:487495', 'Sterlitamak']],\n",
       "  'data_annotations': ['']},\n",
       " {'type': 'variable',\n",
       "  'name': 'E_i j',\n",
       "  'id': 'v1',\n",
       "  'text_annotations': [' Proportion of individuals who have been exposed to the virus'],\n",
       "  'dkg_annotations': [['geonames:1816670', 'Beijing'],\n",
       "   ['geonames:1799491', 'Neijiang']],\n",
       "  'data_annotations': ['']},\n",
       " {'type': 'variable',\n",
       "  'name': 'I_i, j^hosp',\n",
       "  'id': 'v2',\n",
       "  'text_annotations': [' Proportion of individuals that are exhibiting severe disease symptoms and are in need of hospitalization'],\n",
       "  'dkg_annotations': [],\n",
       "  'data_annotations': [['nychealth.csv', 'HOSPITALIZED_COUNT'],\n",
       "   ['covid_tracking.csv', 'hospitalizedCurrently']]},\n",
       " {'type': 'variable',\n",
       "  'name': 'I_i, j^mild',\n",
       "  'id': 'v3',\n",
       "  'text_annotations': [' Proportion of individuals that are exhibiting mild disease symptoms'],\n",
       "  'dkg_annotations': [],\n",
       "  'data_annotations': [['StatewideCOVID-19CasesDeathsTests.csv', 'cases'],\n",
       "   ['nychealth.csv', 'CASE_COUNT']]},\n",
       " {'type': 'variable',\n",
       "  'name': 'I_i, j^asym',\n",
       "  'id': 'v4',\n",
       "  'text_annotations': [' Proportion of individuals who are infected but asymptomatic'],\n",
       "  'dkg_annotations': [],\n",
       "  'data_annotations': [['covid_tracking.csv', 'positiveCasesViral'],\n",
       "   ['covid_tracking.csv', 'probableCases']]},\n",
       " {'type': 'variable',\n",
       "  'name': 'R_i, j',\n",
       "  'id': 'v5',\n",
       "  'text_annotations': [' Proportion of individuals who have recovered from the virus and are no longer capable of infecting other individuals'],\n",
       "  'dkg_annotations': [],\n",
       "  'data_annotations': [['covid_tracking.csv', 'recovered'],\n",
       "   ['Reported_State_Hospital_Capacity_and_COVID19_Patient_Impact.csv',\n",
       "    'recovered']]},\n",
       " {'type': 'variable',\n",
       "  'name': 'R_i, j^hosp',\n",
       "  'id': 'v6',\n",
       "  'text_annotations': [' Proportion of individuals who have recovered from the virus after a period of time in a hospital'],\n",
       "  'dkg_annotations': [],\n",
       "  'data_annotations': ['']},\n",
       " {'type': 'variable',\n",
       "  'name': 'D_i, j',\n",
       "  'id': 'v7',\n",
       "  'text_annotations': [' Proportion of individuals who have succumbed as a direct result of the virus'],\n",
       "  'dkg_annotations': [],\n",
       "  'data_annotations': ['', '']},\n",
       " {'type': 'variable',\n",
       "  'name': 'β_i, j',\n",
       "  'id': 'v8',\n",
       "  'text_annotations': [' Force of infection on a member of age group i in location j'],\n",
       "  'dkg_annotations': [],\n",
       "  'data_annotations': ['']},\n",
       " {'type': 'variable',\n",
       "  'name': 'σ',\n",
       "  'id': 'v9',\n",
       "  'text_annotations': [' Viral latent period'],\n",
       "  'dkg_annotations': [['geonames:1280737', 'Lhasa'],\n",
       "   ['geonames:1496153', 'Omsk']],\n",
       "  'data_annotations': ['']},\n",
       " {'type': 'variable',\n",
       "  'name': 'α',\n",
       "  'id': 'v10',\n",
       "  'text_annotations': [' Rate of infections that are asymptomatic'],\n",
       "  'dkg_annotations': [['geonames:298117', 'Van'], ['geonames:71137', 'Sanaa']],\n",
       "  'data_annotations': ['']},\n",
       " {'type': 'variable',\n",
       "  'name': 'ν_i',\n",
       "  'id': 'v11',\n",
       "  'text_annotations': [' FractionI^{\\text {asym }}'],\n",
       "  'dkg_annotations': [],\n",
       "  'data_annotations': ['']},\n",
       " {'type': 'variable',\n",
       "  'name': 'I^{\\text {mild }}',\n",
       "  'id': 'v12',\n",
       "  'text_annotations': [' Mild infected state'],\n",
       "  'dkg_annotations': [],\n",
       "  'data_annotations': [['StatewideCOVID-19CasesDeathsTests.csv', 'cases'],\n",
       "   ['StatewideCOVID-19CasesDeathsTests.csv', 'cumulative_cases']]},\n",
       " {'type': 'variable',\n",
       "  'name': 'I^{\\text {hosp }}',\n",
       "  'id': 'v13',\n",
       "  'text_annotations': [' Severe infected state'],\n",
       "  'dkg_annotations': [],\n",
       "  'data_annotations': [['nychealth.csv', 'HOSPITALIZED_COUNT'],\n",
       "   ['covid_tracking.csv', 'hospitalizedCurrently']]},\n",
       " {'type': 'variable',\n",
       "  'name': '$\\\\gamma$',\n",
       "  'id': 'v14',\n",
       "  'text_annotations': [' Rate of recovery from virus'],\n",
       "  'dkg_annotations': [],\n",
       "  'data_annotations': [['covid_tracking.csv', 'recovered'],\n",
       "   ['Reported_State_Hospital_Capacity_and_COVID19_Patient_Impact.csv',\n",
       "    'inpatient_beds_used_covid']]},\n",
       " {'type': 'variable',\n",
       "  'name': '$1 / \\tau_{i}$',\n",
       "  'id': 'v15',\n",
       "  'text_annotations': [' Rate of recovery after period of illness'],\n",
       "  'dkg_annotations': [],\n",
       "  'data_annotations': [['covid_tracking.csv', 'recovered'],\n",
       "   ['Reported_State_Hospital_Capacity_and_COVID19_Patient_Impact.csv',\n",
       "    'recovered']]},\n",
       " {'type': 'variable',\n",
       "  'name': '$\\\\phi_{i} \\\\gamma$',\n",
       "  'id': 'v16',\n",
       "  'text_annotations': [' Rate of expiration from virus'],\n",
       "  'dkg_annotations': [],\n",
       "  'data_annotations': ['']},\n",
       " {'type': 'variable',\n",
       "  'name': '$R_{0}$',\n",
       "  'id': 'v17',\n",
       "  'text_annotations': [' Basic reproductive number',\n",
       "   ' Reproduction number-based reduction in overall community transmission'],\n",
       "  'dkg_annotations': [],\n",
       "  'data_annotations': ['']},\n",
       " {'type': 'variable',\n",
       "  'name': 'asym_frac',\n",
       "  'id': 'v18',\n",
       "  'text_annotations': [' Fraction of infections that are asymptomatic'],\n",
       "  'dkg_annotations': [],\n",
       "  'data_annotations': ['']},\n",
       " {'type': 'variable',\n",
       "  'name': 'rel_inf_asym',\n",
       "  'id': 'v19',\n",
       "  'text_annotations': [' Relative infectiousness of asymptomatic individuals'],\n",
       "  'dkg_annotations': [],\n",
       "  'data_annotations': ['']},\n",
       " {'type': 'variable',\n",
       "  'name': 'frac_trans_before_s',\n",
       "  'id': 'v20',\n",
       "  'text_annotations': [' Percentage of transmission prior to symptom onset'],\n",
       "  'dkg_annotations': [],\n",
       "  'data_annotations': ['']},\n",
       " {'type': 'variable',\n",
       "  'name': 'F',\n",
       "  'id': 'v21',\n",
       "  'text_annotations': [' Case fatality ratio'],\n",
       "  'dkg_annotations': [['']],\n",
       "  'data_annotations': [['StatewideCOVID-19CasesDeathsDemographics.csv',\n",
       "    'deaths'],\n",
       "   ['StatewideCOVID-19CasesDeathsDemographics.csv', 'percent_deaths']]},\n",
       " {'type': 'variable',\n",
       "  'name': 'H',\n",
       "  'id': 'v22',\n",
       "  'text_annotations': [' Case hospitalization ratio'],\n",
       "  'dkg_annotations': [['']],\n",
       "  'data_annotations': [['nychealth.csv', 'HOSP_COUNT_7DAY_AVG'],\n",
       "   ['Reported_State_Hospital_Capacity_and_COVID19_Patient_Impact.csv',\n",
       "    'inpatient_beds_used']]},\n",
       " {'type': 'variable',\n",
       "  'name': 'I_TO_H_TIME',\n",
       "  'id': 'v23',\n",
       "  'text_annotations': [' Time from symptom onset to hospitalization'],\n",
       "  'dkg_annotations': [],\n",
       "  'data_annotations': ['', '']},\n",
       " {'type': 'variable',\n",
       "  'name': 'H_TIME',\n",
       "  'id': 'v24',\n",
       "  'text_annotations': [' Duration of hospitalization',\n",
       "   ' Number of days anfrac'],\n",
       "  'dkg_annotations': [['pr:Q9UNS1', 'protein timeless homolog (human)']],\n",
       "  'data_annotations': ['']},\n",
       " {'type': 'variable',\n",
       "  'name': 'D_REPORT_TIME',\n",
       "  'id': 'v25',\n",
       "  'text_annotations': [' Time between death and reporting'],\n",
       "  'dkg_annotations': [],\n",
       "  'data_annotations': [['covid_tracking.csv', 'dateModified'],\n",
       "   ['covid_tracking.csv', 'dateChecked']]},\n",
       " {'type': 'variable',\n",
       "  'name': 'Tg',\n",
       "  'id': 'v26',\n",
       "  'text_annotations': [' Mean generation interval (in days)'],\n",
       "  'dkg_annotations': [['']],\n",
       "  'data_annotations': ['']},\n",
       " {'type': 'variable',\n",
       "  'name': 'CHR',\n",
       "  'id': 'v27',\n",
       "  'text_annotations': [' Case hospitalization-severity ratio'],\n",
       "  'dkg_annotations': [['hp:0011010', 'Chronic'],\n",
       "   ['geonames:710791', 'Cherkasy']],\n",
       "  'data_annotations': ['']},\n",
       " {'type': 'variable',\n",
       "  'name': 'I_to_H_time',\n",
       "  'id': 'v28',\n",
       "  'text_annotations': [' Time it takes from symptom onset to hospitalization (in days)'],\n",
       "  'dkg_annotations': [],\n",
       "  'data_annotations': ['', '']},\n",
       " {'type': 'variable',\n",
       "  'name': 'Contact-Matrix Based NPIs',\n",
       "  'id': 'v29',\n",
       "  'text_annotations': [' NPIs that effect certain age groups within the total population.'],\n",
       "  'dkg_annotations': [],\n",
       "  'data_annotations': ['']},\n",
       " {'type': 'variable',\n",
       "  'name': 'Mobility Based NPI',\n",
       "  'id': 'v30',\n",
       "  'text_annotations': [' NPIs that lead to changes in mobility/movement between administrative districts.'],\n",
       "  'dkg_annotations': [],\n",
       "  'data_annotations': ['']},\n",
       " {'type': 'variable',\n",
       "  'name': 'Reproduction Number Based NPI',\n",
       "  'id': 'v31',\n",
       "  'text_annotations': [' NPIs that have an effect on the overall scaling of transmissibility.'],\n",
       "  'dkg_annotations': [],\n",
       "  'data_annotations': ['']}]"
      ]
     },
     "execution_count": 9,
     "metadata": {},
     "output_type": "execute_result"
    }
   ],
   "source": [
    "ast.literal_eval(json_str)"
   ]
  },
  {
   "cell_type": "markdown",
   "id": "0ac3d826",
   "metadata": {
    "pycharm": {
     "name": "#%% md\n"
    }
   },
   "source": [
    "## 3. Annotate table headers from the DKG"
   ]
  },
  {
   "cell_type": "markdown",
   "id": "858d2574",
   "metadata": {
    "pycharm": {
     "name": "#%% md\n"
    }
   },
   "source": [
    "#### Let's collect column names from a csv file:"
   ]
  },
  {
   "cell_type": "code",
   "execution_count": 10,
   "id": "c4a62555",
   "metadata": {
    "pycharm": {
     "name": "#%%\n"
    }
   },
   "outputs": [
    {
     "name": "stdout",
     "output_type": "stream",
     "text": [
      "countyFIPS,County Name,State,StateFIPS,2020-01-22\n",
      "\n"
     ]
    }
   ],
   "source": [
    "with open(\"../../resources/dataset/covid_confirmed_usafacts.csv\", \"r\") as f:\n",
    "    col_str = f.readline()\n",
    "print(col_str)"
   ]
  },
  {
   "cell_type": "markdown",
   "id": "0b62ec01",
   "metadata": {
    "pycharm": {
     "name": "#%% md\n"
    }
   },
   "source": [
    "#### Now we can call our `annotation/link_dataset_col_to_dkg` endpoint to ground each of these column names to the MIRA DKG:"
   ]
  },
  {
   "cell_type": "code",
   "execution_count": 11,
   "id": "0fb0c540",
   "metadata": {
    "pycharm": {
     "name": "#%%\n"
    }
   },
   "outputs": [
    {
     "data": {
      "text/plain": [
       "{'countyFIPS': [['wikidata:Q68203438',\n",
       "   'State code remains silent on living will law despite Cruzan case',\n",
       "   'class'],\n",
       "  ['wikidata:Q83288526',\n",
       "   'State codes on intimate partner violence: victimization reporting requirements for healthcare providers',\n",
       "   'class']],\n",
       " 'County Name': [['wikidata:Q82794', 'geographic region', 'class'],\n",
       "  ['wikidata:Q4835091', 'territory', 'class'],\n",
       "  ['wikidata:Q5535051', 'Geographic areas of Houston', 'class'],\n",
       "  ['wikidata:Q111867462',\n",
       "   'geographic area of the United States of America',\n",
       "   'class'],\n",
       "  ['wikidata:Q5535052', 'Geographic areas of Sugar Land, Texas', 'class']],\n",
       " 'State': [['geonames:2938913', 'Darmstadt'],\n",
       "  ['hp:0000024', 'Prostatitis'],\n",
       "  ['doid:2452', 'thrombophilia'],\n",
       "  ['geonames:6690108', 'Panchkula'],\n",
       "  ['geonames:5139568', 'Staten Island'],\n",
       "  ['ido:0000511', 'infected population', 'class'],\n",
       "  ['ido:0000514', 'susceptible population', 'class'],\n",
       "  ['askemo:0000001', 'population', 'class'],\n",
       "  ['obi:0000181', 'population', 'class'],\n",
       "  ['pco:0000001', 'population', 'class'],\n",
       "  ['ncit:C133265', 'Non-Hospital Community Blood Bank', 'class'],\n",
       "  ['cemo:rate_of_community_transmission',\n",
       "   'rate of community transmission',\n",
       "   'class'],\n",
       "  ['ncit:C156646', 'American Health Information Community', 'class'],\n",
       "  ['ncit:C39326', 'Association of Community Cancer Centers', 'class'],\n",
       "  ['ncit:C177659',\n",
       "   'Veterans Affairs Community-Based Outpatient Clinic',\n",
       "   'class']],\n",
       " 'StateFIPS': [],\n",
       " '2020-01-22': [['wikidata:Q57396604', '22 January 2020'],\n",
       "  ['ncit:C171133', 'COVID-19 Infection', 'class'],\n",
       "  ['doid:0080600', 'COVID-19', 'class'],\n",
       "  ['idocovid19:0001141', 'COVID-19', 'class'],\n",
       "  ['vo:0005079', 'AV-COVID-19', 'class'],\n",
       "  ['vo:0005171', 'KBP-COVID-19', 'class'],\n",
       "  ['cido:0000152', 'COVID-19 pandemic', 'class'],\n",
       "  ['idocovid19:0001388', 'COVID-19 pandemic', 'class'],\n",
       "  ['vido:0001386', 'viral disease pandemic', 'class'],\n",
       "  ['ido:0000503', 'infectious disease pandemic', 'class'],\n",
       "  ['cido:0000151', 'coronaviral disease pandemic', 'class']]}"
      ]
     },
     "execution_count": 11,
     "metadata": {},
     "output_type": "execute_result"
    }
   ],
   "source": [
    "dct_cols_dkg = {\"csv_str\":col_str, \"gpt_key\":GPT_KEY}           \n",
    "ground_res = requests.post(API_ROOT + \"annotation/link_dataset_col_to_dkg/\", params=dct_cols_dkg).text\n",
    "ast.literal_eval(ground_res)"
   ]
  },
  {
   "cell_type": "markdown",
   "id": "65a888fa",
   "metadata": {
    "pycharm": {
     "name": "#%% md\n"
    }
   },
   "source": [
    "## 4. Getting a Petri net (as a pyascet) from code"
   ]
  },
  {
   "cell_type": "markdown",
   "id": "1ab7283a",
   "metadata": {
    "pycharm": {
     "name": "#%% md\n"
    }
   },
   "source": [
    "#### Let's now turn our attention to code. We have a python function that describes the Bucky dynamics:"
   ]
  },
  {
   "cell_type": "code",
   "execution_count": 12,
   "id": "e2969b62",
   "metadata": {
    "pycharm": {
     "name": "#%%\n"
    }
   },
   "outputs": [
    {
     "name": "stdout",
     "output_type": "stream",
     "text": [
      "def RHS_func(self, t, y_flat, Nij, contact_mats, Aij, par, npi, aij_sparse, y):\n",
      "    # constraint on values\n",
      "    lower, upper = (0.0, 1.0)  # bounds for state vars  ## TODO multiple_value_asignment\n",
      "\n",
      "    # grab index of OOB values so we can zero derivatives (stability...)\n",
      "    too_low = y_flat <= lower\n",
      "    too_high = y_flat >= upper\n",
      "\n",
      "    # TODO we're passing in y.state just to overwrite it, we probably need another class\n",
      "    # reshape to the usual state tensor (compartment, age, node)\n",
      "    y.state = y_flat.reshape(y.state_shape)\n",
      "\n",
      "    # Clip state to be in bounds (except allocs b/c thats a counter)\n",
      "    xp.clip(y.state, a_min=lower, a_max=upper, out=y.state)\n",
      "\n",
      "    # init d(state)/dt\n",
      "    dy = buckyState(y.consts, Nij)  # TODO make a pseudo copy operator w/ zeros\n",
      "\n",
      "    # effective params after damping w/ allocated stuff\n",
      "    t_index = min(int(t), npi[\"r0_reduct\"].shape[0] - 1)  # prevent OOB error when integrator overshoots\n",
      "    BETA_eff = npi[\"r0_reduct\"][t_index] * par[\"BETA\"]\n",
      "    F_eff = par[\"F_eff\"]\n",
      "    HOSP = par[\"H\"]\n",
      "    THETA = y.Rhn * par[\"THETA\"]\n",
      "    GAMMA = y.Im * par[\"GAMMA\"]\n",
      "    GAMMA_H = y.Im * par[\"GAMMA_H\"]\n",
      "    SIGMA = y.En * par[\"SIGMA\"]\n",
      "    SYM_FRAC = par[\"SYM_FRAC\"]\n",
      "    # ASYM_FRAC = par[\"ASYM_FRAC\"]\n",
      "    CASE_REPORT = par[\"CASE_REPORT\"]\n",
      "\n",
      "    Cij = npi[\"contact_weights\"][t_index] * contact_mats\n",
      "    Cij = xp.sum(Cij, axis=1)\n",
      "    Cij /= xp.sum(Cij, axis=2, keepdims=True)\n",
      "\n",
      "    if aij_sparse:\n",
      "        Aij_eff = Aij.multiply(npi[\"mobility_reduct\"][t_index])\n",
      "    else:\n",
      "        Aij_eff = npi[\"mobility_reduct\"][t_index] * Aij\n",
      "\n",
      "    # perturb Aij\n",
      "    # new_R0_fracij = truncnorm(xp, 1.0, .1, size=Aij.shape, a_min=1e-6)\n",
      "    # new_R0_fracij = xp.clip(new_R0_fracij, 1e-6, None)\n",
      "    # A = Aij * new_R0_fracij\n",
      "    # Aij_eff = A / xp.sum(A, axis=0)\n",
      "\n",
      "    # Infectivity matrix (I made this name up, idk what its really called)\n",
      "    I_tot = xp.sum(Nij * y.Itot, axis=0) - (1.0 - par[\"rel_inf_asym\"]) * xp.sum(Nij * y.Ia, axis=0)\n",
      "\n",
      "    # I_tmp = (Aij.T @ I_tot.T).T\n",
      "    if aij_sparse:\n",
      "        I_tmp = (Aij_eff.T * I_tot.T).T\n",
      "    else:\n",
      "        I_tmp = I_tot @ Aij  # using identity (A@B).T = B.T @ A.T\n",
      "\n",
      "    beta_mat = y.S * xp.squeeze((Cij @ I_tmp.T[..., None]), axis=-1).T  ## TODO ellipsis NOT_DONE\n",
      "    ## beta_mat /= Nij  ## TODO\n",
      "    beta_mat = beta_mat / Nij\n",
      "\n",
      "    # dS/dt\n",
      "    dy.S = -BETA_eff * (beta_mat)\n",
      "    # dE/dt\n",
      "    dy.E[0] = BETA_eff * (beta_mat) - SIGMA * y.E[0]\n",
      "    dy.E[1:] = SIGMA * (y.E[:-1] - y.E[1:])\n",
      "\n",
      "    # dI/dt\n",
      "    dy.Ia[0] = (1.0 - SYM_FRAC) * SIGMA * y.E[-1] - GAMMA * y.Ia[0]\n",
      "    dy.Ia[1:] = GAMMA * (y.Ia[:-1] - y.Ia[1:])\n",
      "\n",
      "    # dIa/dt\n",
      "    dy.I[0] = SYM_FRAC * (1.0 - HOSP) * SIGMA * y.E[-1] - GAMMA * y.I[0]\n",
      "    dy.I[1:] = GAMMA * (y.I[:-1] - y.I[1:])\n",
      "\n",
      "    # dIc/dt\n",
      "    dy.Ic[0] = SYM_FRAC * HOSP * SIGMA * y.E[-1] - GAMMA_H * y.Ic[0]\n",
      "    dy.Ic[1:] = GAMMA_H * (y.Ic[:-1] - y.Ic[1:])\n",
      "\n",
      "    # dRhi/dt\n",
      "    dy.Rh[0] = GAMMA_H * y.Ic[-1] - THETA * y.Rh[0]\n",
      "    dy.Rh[1:] = THETA * (y.Rh[:-1] - y.Rh[1:])\n",
      "\n",
      "    # dR/dt\n",
      "    dy.R = GAMMA * (y.I[-1] + y.Ia[-1]) + (1.0 - F_eff) * THETA * y.Rh[-1]\n",
      "\n",
      "    # dD/dt\n",
      "    dy.D = F_eff * THETA * y.Rh[-1]\n",
      "\n",
      "    dy.incH = SYM_FRAC * CASE_REPORT * HOSP * SIGMA * y.E[-1]\n",
      "    dy.incC = SYM_FRAC * CASE_REPORT * SIGMA * y.E[-1]\n",
      "\n",
      "    # bring back to 1d for the ODE api\n",
      "    dy_flat = dy.state.ravel()\n",
      "\n",
      "    # zero derivatives for things we had to clip if they are going further out of bounds\n",
      "    dy_flat = xp.where(too_low & (dy_flat < 0.0), 0.0, dy_flat)\n",
      "    dy_flat = xp.where(too_high & (dy_flat > 0.0), 0.0, dy_flat)\n",
      "\n",
      "    return dy_flat\n"
     ]
    }
   ],
   "source": [
    "with open(\"../../demos/2023-03-19/bucky.py\", \"r\") as f:\n",
    "    code = f.read()\n",
    "print(code)"
   ]
  },
  {
   "cell_type": "markdown",
   "id": "785c8fa3",
   "metadata": {
    "pycharm": {
     "name": "#%% md\n"
    }
   },
   "source": [
    "#### Using calls to the public MIT API, we can get Petri net components (places, transitions, hypothesized arcs) from this piece of code."
   ]
  },
  {
   "cell_type": "code",
   "execution_count": 13,
   "id": "bc6e7dcb",
   "metadata": {
    "pycharm": {
     "name": "#%%\n"
    }
   },
   "outputs": [
    {
     "data": {
      "text/plain": [
       "['S', ' E', ' I', ' Ia', ' Ic', ' Rh', ' R', ' D', ' incH', ' incC']"
      ]
     },
     "execution_count": 13,
     "metadata": {},
     "output_type": "execute_result"
    }
   ],
   "source": [
    "dict_petri = {\"code\": code, \"gpt_key\": GPT_KEY}\n",
    "places = requests.post(API_ROOT + \"petri/get_places\", params=dict_petri).text\n",
    "ast.literal_eval(places)"
   ]
  },
  {
   "cell_type": "code",
   "execution_count": 14,
   "id": "4f48fde8",
   "metadata": {
    "pycharm": {
     "name": "#%%\n"
    }
   },
   "outputs": [
    {
     "data": {
      "text/plain": [
       "['BETA',\n",
       " ' F_eff',\n",
       " ' HOSP',\n",
       " ' THETA',\n",
       " ' GAMMA',\n",
       " ' GAMMA_H',\n",
       " ' SIGMA',\n",
       " ' SYM_FRAC',\n",
       " ' CASE_REPORT']"
      ]
     },
     "execution_count": 14,
     "metadata": {},
     "output_type": "execute_result"
    }
   ],
   "source": [
    "transitions = requests.post(API_ROOT + \"petri/get_transitions\", params=dict_petri).text\n",
    "ast.literal_eval(transitions)"
   ]
  },
  {
   "cell_type": "code",
   "execution_count": 15,
   "id": "a2558515",
   "metadata": {
    "pycharm": {
     "name": "#%%\n"
    }
   },
   "outputs": [
    {
     "data": {
      "text/plain": [
       "[['S', ' E'],\n",
       " ['E', ' Ia'],\n",
       " ['E', ' I'],\n",
       " ['Ia', ' I'],\n",
       " ['I', ' Ic'],\n",
       " ['Ic', ' Rh'],\n",
       " ['Rh', ' R'],\n",
       " ['R', ' D'],\n",
       " ['E', ' Rh'],\n",
       " ['E', ' R'],\n",
       " ['E', ' D'],\n",
       " ['Ia', ' D'],\n",
       " ['I', ' D'],\n",
       " ['Ic', ' D']]"
      ]
     },
     "execution_count": 15,
     "metadata": {},
     "output_type": "execute_result"
    }
   ],
   "source": [
    "arcs = requests.post(API_ROOT + \"petri/get_arcs\", params=dict_petri).text\n",
    "ast.literal_eval(arcs)"
   ]
  },
  {
   "cell_type": "markdown",
   "id": "21bc9dbc",
   "metadata": {
    "pycharm": {
     "name": "#%% md\n"
    }
   },
   "source": [
    "#### We can then convert these outputs into a py-acset (thanks to Justin Lieffers from Arizona for some of the conversion code and to Owen Lynch for the py-acset code!)"
   ]
  },
  {
   "cell_type": "code",
   "execution_count": 16,
   "id": "473da719",
   "metadata": {
    "pycharm": {
     "name": "#%%\n"
    }
   },
   "outputs": [],
   "source": [
    "dict_acset = {\"places_str\": places, \"transitions_str\": transitions, \"arcs_str\": arcs}\n",
    "pyacset_str = requests.post(API_ROOT + \"petri/get_pyacset\", params=dict_acset).text"
   ]
  },
  {
   "cell_type": "code",
   "execution_count": 17,
   "id": "c2a4aaa3",
   "metadata": {
    "pycharm": {
     "name": "#%%\n"
    }
   },
   "outputs": [
    {
     "data": {
      "text/plain": [
       "{'S': [{'sname': 'S', 'uid': 1},\n",
       "  {'sname': 'E', 'uid': 2},\n",
       "  {'sname': 'I', 'uid': 3},\n",
       "  {'sname': 'Ia', 'uid': 4},\n",
       "  {'sname': 'Ic', 'uid': 5},\n",
       "  {'sname': 'Rh', 'uid': 6},\n",
       "  {'sname': 'R', 'uid': 7},\n",
       "  {'sname': 'D', 'uid': 8},\n",
       "  {'sname': 'incH', 'uid': 9},\n",
       "  {'sname': 'incC', 'uid': 10}],\n",
       " 'T': [{'tname': 'BETA', 'uid': 11},\n",
       "  {'tname': 'F_eff', 'uid': 12},\n",
       "  {'tname': 'HOSP', 'uid': 13},\n",
       "  {'tname': 'THETA', 'uid': 14},\n",
       "  {'tname': 'GAMMA', 'uid': 15},\n",
       "  {'tname': 'GAMMA_H', 'uid': 16},\n",
       "  {'tname': 'SIGMA', 'uid': 17},\n",
       "  {'tname': 'SYM_FRAC', 'uid': 18},\n",
       "  {'tname': 'CASE_REPORT', 'uid': 19}],\n",
       " 'I': [{'it': 1, 'is': 1},\n",
       "  {'it': 2, 'is': 2},\n",
       "  {'it': 3, 'is': 2},\n",
       "  {'it': 4, 'is': 4},\n",
       "  {'it': 5, 'is': 3},\n",
       "  {'it': 6, 'is': 5},\n",
       "  {'it': 7, 'is': 6},\n",
       "  {'it': 8, 'is': 7},\n",
       "  {'it': 9, 'is': 2},\n",
       "  {'it': 10, 'is': 2},\n",
       "  {'it': 11, 'is': 2},\n",
       "  {'it': 12, 'is': 4},\n",
       "  {'it': 13, 'is': 3},\n",
       "  {'it': 14, 'is': 5}],\n",
       " 'O': [{'ot': 1, 'os': 2},\n",
       "  {'ot': 2, 'os': 4},\n",
       "  {'ot': 3, 'os': 3},\n",
       "  {'ot': 4, 'os': 3},\n",
       "  {'ot': 5, 'os': 5},\n",
       "  {'ot': 6, 'os': 6},\n",
       "  {'ot': 7, 'os': 7},\n",
       "  {'ot': 8, 'os': 8},\n",
       "  {'ot': 9, 'os': 6},\n",
       "  {'ot': 10, 'os': 7},\n",
       "  {'ot': 11, 'os': 8},\n",
       "  {'ot': 12, 'os': 8},\n",
       "  {'ot': 13, 'os': 8},\n",
       "  {'ot': 14, 'os': 8}]}"
      ]
     },
     "execution_count": 17,
     "metadata": {},
     "output_type": "execute_result"
    }
   ],
   "source": [
    "ast.literal_eval(pyacset_str)"
   ]
  },
  {
   "cell_type": "markdown",
   "id": "59df09f4",
   "metadata": {
    "pycharm": {
     "name": "#%% md\n"
    }
   },
   "source": [
    "## 5. Linking the annotations to the py-acset and paper info [WIP]"
   ]
  },
  {
   "cell_type": "markdown",
   "id": "b11fcced",
   "metadata": {
    "pycharm": {
     "name": "#%% md\n"
    }
   },
   "source": [
    "#### Finally, we bring everything together: for every place and transition in the pyacset, let's map it to the annotations from earlier:"
   ]
  },
  {
   "cell_type": "code",
   "execution_count": 18,
   "id": "1f50f236",
   "metadata": {
    "pycharm": {
     "name": "#%%\n"
    }
   },
   "outputs": [
    {
     "name": "stdout",
     "output_type": "stream",
     "text": [
      "{\"1\":{},\"2\":{},\"3\":{},\"4\":{},\"5\":{},\"6\":{},\"7\":{},\"8\":{},\"9\":{},\"10\":{},\"11\":{},\"12\":{},\"13\":{},\"14\":{},\"15\":{},\"16\":{},\"17\":{\"type\":\"variable\",\"name\":\"σ\",\"id\":\"v9\",\"text_annotations\":[\" Viral latent period\"],\"dkg_annotations\":[[\"geonames:1280737\",\"Lhasa\"],[\"geonames:1496153\",\"Omsk\"]],\"data_annotations\":[\"\"]},\"18\":{},\"19\":{}}\n"
     ]
    }
   ],
   "source": [
    "dct_link = {\"pyacset_str\":pyacset_str, \"annotations_str\":json_str, \"info_str\":\"\"}\n",
    "metadata_str = requests.post(API_ROOT + \"annotation/link_annos_to_pyacset/\", params=dct_link).text\n",
    "print(metadata_str)"
   ]
  },
  {
   "cell_type": "code",
   "execution_count": 19,
   "id": "61bcdb1b",
   "metadata": {
    "pycharm": {
     "name": "#%%\n"
    }
   },
   "outputs": [
    {
     "data": {
      "text/plain": [
       "{'1': {},\n",
       " '2': {},\n",
       " '3': {},\n",
       " '4': {},\n",
       " '5': {},\n",
       " '6': {},\n",
       " '7': {},\n",
       " '8': {},\n",
       " '9': {},\n",
       " '10': {},\n",
       " '11': {},\n",
       " '12': {},\n",
       " '13': {},\n",
       " '14': {},\n",
       " '15': {},\n",
       " '16': {},\n",
       " '17': {'type': 'variable',\n",
       "  'name': 'σ',\n",
       "  'id': 'v9',\n",
       "  'text_annotations': [' Viral latent period'],\n",
       "  'dkg_annotations': [['geonames:1280737', 'Lhasa'],\n",
       "   ['geonames:1496153', 'Omsk']],\n",
       "  'data_annotations': ['']},\n",
       " '18': {},\n",
       " '19': {}}"
      ]
     },
     "execution_count": 19,
     "metadata": {},
     "output_type": "execute_result"
    }
   ],
   "source": [
    "ast.literal_eval(metadata_str)"
   ]
  },
  {
   "cell_type": "markdown",
   "id": "94a9cfcd",
   "metadata": {
    "pycharm": {
     "name": "#%% md\n"
    }
   },
   "source": [
    "#### Data in this format can be ingested, visualized and edited by TA4! Let's export the related files:"
   ]
  },
  {
   "cell_type": "code",
   "execution_count": 20,
   "id": "8cf547c2",
   "metadata": {
    "pycharm": {
     "name": "#%%\n"
    }
   },
   "outputs": [],
   "source": [
    "with open(\"output-mit-pyacset.json\", \"w+\") as f:\n",
    "    json.dump(ast.literal_eval(pyacset_str), f)\n",
    "with open(\"output-mit-metadata.json\", \"w+\") as f:\n",
    "    json.dump(ast.literal_eval(metadata_str), f)"
   ]
  },
  {
   "cell_type": "markdown",
   "id": "d66094a4",
   "metadata": {
    "pycharm": {
     "name": "#%% md\n"
    }
   },
   "source": [
    "## 6. Interacting with the University of Arizona codepaths"
   ]
  },
  {
   "cell_type": "markdown",
   "id": "439e54ac",
   "metadata": {
    "pycharm": {
     "name": "#%% md\n"
    }
   },
   "source": [
    "#### The University of Arizona team can also produce an annotated py-acset as an output. We can integrate the two outputs by matching on the names of places and transitions, to get a more complete picture of the model. The metadata extracted by both teams can then be accessible by using the associated `uid` of each place/transition as a key into the metadata JSON file."
   ]
  }
 ],
 "metadata": {
  "kernelspec": {
   "display_name": "Python 3",
   "language": "python",
   "name": "python3"
  },
  "language_info": {
   "codemirror_mode": {
    "name": "ipython",
    "version": 3
   },
   "file_extension": ".py",
   "mimetype": "text/x-python",
   "name": "python",
   "nbconvert_exporter": "python",
   "pygments_lexer": "ipython3",
   "version": "3.8.8"
  }
 },
 "nbformat": 4,
 "nbformat_minor": 5
}