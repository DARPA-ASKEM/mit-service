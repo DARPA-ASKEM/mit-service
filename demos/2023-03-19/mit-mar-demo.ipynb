{
 "cells": [
  {
   "cell_type": "markdown",
   "id": "5c9b2c23",
   "metadata": {
    "pycharm": {
     "name": "#%% md\n"
    }
   },
   "source": [
    "# MIT (TA1): From Paper and Code to annotated Petri Nets"
   ]
  },
  {
   "cell_type": "markdown",
   "id": "0701ccf7",
   "metadata": {
    "pycharm": {
     "name": "#%% md\n"
    }
   },
   "source": [
    "#### Mike Cafarella, Chunwei Liu, Markos Markakis, Peter Chen"
   ]
  },
  {
   "cell_type": "markdown",
   "id": "2719d0e6",
   "metadata": {
    "pycharm": {
     "name": "#%% md\n"
    }
   },
   "source": [
    "## 0. Preprocessing"
   ]
  },
  {
   "cell_type": "code",
   "execution_count": 74,
   "id": "d07d53d5",
   "metadata": {
    "pycharm": {
     "name": "#%%\n"
    }
   },
   "outputs": [],
   "source": [
    "import ast, json, requests, os\n",
    "from IPython import display\n",
    "from gpt_key import *\n",
    "\n",
    "API_ROOT = \"http://localhost:8000/\""
   ]
  },
  {
   "cell_type": "markdown",
   "source": [
    "#### We can run a local script to consolidate the \"content\" fields to get just the text of the paper:"
   ],
   "metadata": {
    "collapsed": false,
    "pycharm": {
     "name": "#%% md\n"
    }
   }
  },
  {
   "cell_type": "markdown",
   "id": "ae6e9ef4",
   "metadata": {
    "pycharm": {
     "name": "#%% md\n"
    }
   },
   "source": [
    "## 1. Extracting variables and annotating them from the text and the DKG"
   ]
  },
  {
   "cell_type": "markdown",
   "id": "1c55b8b4",
   "metadata": {
    "pycharm": {
     "name": "#%% md\n"
    }
   },
   "source": [
    "#### Using our API (powered by GPT-3), we can extract variables from the paper alongside a list of possible definitions, and ground each of these variables to the MIRA DKG (thanks Harvard team!). If you're interested, the JSON format of our intermediate output can be found [here](https://github.com/mikecafarella/mitaskem/blob/main/JSONformat.md)."
   ]
  },
  {
   "cell_type": "code",
   "execution_count": 75,
   "id": "4b84abd1",
   "metadata": {
    "pycharm": {
     "name": "#%%\n"
    }
   },
   "outputs": [],
   "source": [
    "with open(\"bucky_short.txt\", \"r\") as f:\n",
    "        text = f.read()           \n",
    "        dct_extract = {\"text\":text, \"gpt_key\":GPT_KEY}           \n",
    "        json_str = requests.post(API_ROOT + \"annotation/find_text_vars/\", params=dct_extract).text"
   ]
  },
  {
   "cell_type": "code",
   "execution_count": 76,
   "id": "f3ca99aa",
   "metadata": {
    "pycharm": {
     "name": "#%%\n"
    }
   },
   "outputs": [
    {
     "data": {
      "text/plain": "[{'type': 'variable',\n  'name': 'S_i j',\n  'id': 'v0',\n  'text_annotations': [' Proportion of individuals who are susceptible to the virus'],\n  'dkg_annotations': [['vsmo:0002217', 'Oropsylla bruneri']]},\n {'type': 'variable',\n  'name': 'E_i j',\n  'id': 'v1',\n  'text_annotations': [' Proportion of individuals who have been exposed to the virus'],\n  'dkg_annotations': [['vsmo:0000766', 'Anopheles annularis']]},\n {'type': 'variable',\n  'name': 'I_i, j^hosp',\n  'id': 'v2',\n  'text_annotations': [' Proportion of individuals that are exhibiting severe disease symptoms and are in need of hospitalization'],\n  'dkg_annotations': []},\n {'type': 'variable',\n  'name': 'I_i, j^mild',\n  'id': 'v3',\n  'text_annotations': [' Proportion of individuals that are exhibiting mild disease symptoms'],\n  'dkg_annotations': []},\n {'type': 'variable',\n  'name': 'I_i, j^asym',\n  'id': 'v4',\n  'text_annotations': [' Proportion of individuals who are infected but asymptomatic'],\n  'dkg_annotations': []},\n {'type': 'variable',\n  'name': 'R_i, j',\n  'id': 'v5',\n  'text_annotations': [' Proportion of individuals who have recovered from the virus and are no longer capable of infecting other individuals'],\n  'dkg_annotations': []},\n {'type': 'variable',\n  'name': 'R_i, j^hosp',\n  'id': 'v6',\n  'text_annotations': [' Proportion of individuals who have recovered from the virus after a period of time in a hospital'],\n  'dkg_annotations': []},\n {'type': 'variable',\n  'name': 'D_i, j',\n  'id': 'v7',\n  'text_annotations': [' Proportion of individuals who have succumbed as a direct result of the virus'],\n  'dkg_annotations': []},\n {'type': 'variable',\n  'name': 'β_i, j',\n  'id': 'v8',\n  'text_annotations': [' Force of infection on a member of age group i in location j'],\n  'dkg_annotations': []},\n {'type': 'variable',\n  'name': 'σ',\n  'id': 'v9',\n  'text_annotations': [' Viral latent period'],\n  'dkg_annotations': []},\n {'type': 'variable',\n  'name': 'α',\n  'id': 'v10',\n  'text_annotations': [' Rate of infections that are asymptomatic'],\n  'dkg_annotations': []},\n {'type': 'variable',\n  'name': 'ν_i',\n  'id': 'v11',\n  'text_annotations': [' Fraction of individuals in age group i who are susceptible to the virusI^{\\text {asym }}'],\n  'dkg_annotations': []},\n {'type': 'variable',\n  'name': 'I^{\\text {mild }}',\n  'id': 'v12',\n  'text_annotations': [' Mild infected state'],\n  'dkg_annotations': []},\n {'type': 'variable',\n  'name': 'I^{\\text {hosp }}',\n  'id': 'v13',\n  'text_annotations': [' Severe infected state'],\n  'dkg_annotations': []},\n {'type': 'variable',\n  'name': '$\\\\gamma$',\n  'id': 'v14',\n  'text_annotations': [' Rate of recovery from virus'],\n  'dkg_annotations': []},\n {'type': 'variable',\n  'name': '$1 / \\tau_{i}$',\n  'id': 'v15',\n  'text_annotations': [' Rate of recovery after period of illness'],\n  'dkg_annotations': []},\n {'type': 'variable',\n  'name': '$\\\\phi_{i} \\\\gamma$',\n  'id': 'v16',\n  'text_annotations': [' Rate of expiration from virus'],\n  'dkg_annotations': []},\n {'type': 'variable',\n  'name': '$R_{0}$',\n  'id': 'v17',\n  'text_annotations': [' Basic reproductive number',\n   ' Reproduction number-based reduction in overall community transmission'],\n  'dkg_annotations': []},\n {'type': 'variable',\n  'name': 'asym_frac',\n  'id': 'v18',\n  'text_annotations': [' Fraction of infections that are asymptomatic'],\n  'dkg_annotations': []},\n {'type': 'variable',\n  'name': 'rel_inf_asym',\n  'id': 'v19',\n  'text_annotations': [' Relative infectiousness of asymptomatic individuals'],\n  'dkg_annotations': []},\n {'type': 'variable',\n  'name': 'frac_trans_before_s',\n  'id': 'v20',\n  'text_annotations': [' Percentage of transmission prior to symptom onset'],\n  'dkg_annotations': []},\n {'type': 'variable',\n  'name': 'F',\n  'id': 'v21',\n  'text_annotations': [' Case fatality ratio'],\n  'dkg_annotations': [['']]},\n {'type': 'variable',\n  'name': 'H',\n  'id': 'v22',\n  'text_annotations': [' Case hospitalization ratio'],\n  'dkg_annotations': [['']]},\n {'type': 'variable',\n  'name': 'I_TO_H_TIME',\n  'id': 'v23',\n  'text_annotations': [' Time from symptom onset to hospitalization'],\n  'dkg_annotations': []},\n {'type': 'variable',\n  'name': 'H_TIME',\n  'id': 'v24',\n  'text_annotations': [' Duration of hospitalization',\n   ' Number of days anfrac'],\n  'dkg_annotations': [['pr:Q9UNS1', 'protein timeless homolog (human)']]},\n {'type': 'variable',\n  'name': 'D_REPORT_TIME',\n  'id': 'v25',\n  'text_annotations': [' Time between death and reporting'],\n  'dkg_annotations': []},\n {'type': 'variable',\n  'name': 'Tg',\n  'id': 'v26',\n  'text_annotations': [' Mean generation interval (in days)'],\n  'dkg_annotations': [['']]},\n {'type': 'variable',\n  'name': 'CHR',\n  'id': 'v27',\n  'text_annotations': [' Case hospitalization-severity ratio'],\n  'dkg_annotations': [['hp:0011010', 'Chronic'],\n   ['ncbitaxon:27458', 'Chrysops']]},\n {'type': 'variable',\n  'name': 'I_to_H_time',\n  'id': 'v28',\n  'text_annotations': [' Time it takes from symptom onset to hospitalization (in days)'],\n  'dkg_annotations': []},\n {'type': 'variable',\n  'name': 'Contact-Matrix Based NPIs',\n  'id': 'v29',\n  'text_annotations': [' NPIs that effect certain age groups within the total population.'],\n  'dkg_annotations': []},\n {'type': 'variable',\n  'name': 'Mobility Based NPI',\n  'id': 'v30',\n  'text_annotations': [' NPIs that lead to changes in mobility/movement between administrative districts.'],\n  'dkg_annotations': []},\n {'type': 'variable',\n  'name': 'Reproduction Number Based NPI',\n  'id': 'v31',\n  'text_annotations': [' NPIs that have an effect on the overall scaling of transmissibility.'],\n  'dkg_annotations': []}]"
     },
     "execution_count": 76,
     "metadata": {},
     "output_type": "execute_result"
    }
   ],
   "source": [
    "ast.literal_eval(json_str)"
   ]
  },
  {
   "cell_type": "markdown",
   "id": "bfb7bbbd",
   "metadata": {
    "pycharm": {
     "name": "#%% md\n"
    }
   },
   "source": [
    "## 2. Adding annotations from dataset columns"
   ]
  },
  {
   "cell_type": "markdown",
   "id": "a6938a2a",
   "metadata": {
    "pycharm": {
     "name": "#%% md\n"
    }
   },
   "source": [
    "#### Alongside the text, we might also have discovered a collection of datasets that we think might be relevant:"
   ]
  },
  {
   "cell_type": "code",
   "execution_count": 39,
   "id": "ba00cfb6",
   "metadata": {
    "pycharm": {
     "name": "#%%\n"
    }
   },
   "outputs": [
    {
     "name": "stdout",
     "output_type": "stream",
     "text": [
      "countyFIPS,County Name,State,StateFIPS,2020-01-22\n",
      "0,\"Statewide Unallocated\",\"AL\",\"01\",0\n",
      "1001,\"Autauga County \",\"AL\",\"01\",0\n"
     ]
    }
   ],
   "source": [
    "with open(\"../../resources/dataset/covid_confirmed_usafacts.csv\") as f:\n",
    "    dataset_1 = f.read()\n",
    "    print(dataset_1[:150])"
   ]
  },
  {
   "cell_type": "code",
   "execution_count": 40,
   "id": "5d42a7de",
   "metadata": {
    "pycharm": {
     "name": "#%%\n"
    }
   },
   "outputs": [
    {
     "name": "stdout",
     "output_type": "stream",
     "text": [
      "countyFIPS,County Name,State,StateFIPS,2020-01-22\n",
      "0,\"Statewide Unallocated\",\"AL\",\"01\",0\n",
      "1001,\"Autauga County \",\"AL\",\"01\",0\n"
     ]
    }
   ],
   "source": [
    "with open(\"../../resources/dataset/covid_deaths_usafacts.csv\") as f:\n",
    "    dataset_2 = f.read()\n",
    "    print(dataset_2[:150])"
   ]
  },
  {
   "cell_type": "markdown",
   "id": "4e8df028",
   "metadata": {
    "pycharm": {
     "name": "#%% md\n"
    }
   },
   "source": [
    "#### Let's collect just the column names into a single file:"
   ]
  },
  {
   "cell_type": "code",
   "execution_count": 41,
   "id": "c63f494e",
   "metadata": {
    "pycharm": {
     "name": "#%%\n"
    }
   },
   "outputs": [],
   "source": [
    "dir = \"../../resources/dataset/\"\n",
    "with open(os.path.join(dir,\"headers.txt\"), \"w+\") as fw:\n",
    "    for filename in os.listdir(dir):\n",
    "        file = os.path.join(dir, filename)\n",
    "        if os.path.isfile(file) and file.endswith(\".csv\"):\n",
    "            fw.write(\"{}:\\t{}\".format(filename, open(file, \"r\").readline()))"
   ]
  },
  {
   "cell_type": "code",
   "execution_count": 42,
   "id": "1c449c42",
   "metadata": {
    "pycharm": {
     "name": "#%%\n"
    }
   },
   "outputs": [
    {
     "name": "stdout",
     "output_type": "stream",
     "text": [
      "COVID-19_Reported_Patient_Impact_and_Hospital_Capacity_by_State_Archive_Repository.csv:\tUpdate Date,Days Since Update,User,Rows,Row Change,Columns,Column Change,Metadata Published,Metadata Updates,Column Level Metadata,Column Level Metadata Updates,Archive Link\n",
      "StatewideCOVID-19CasesDeathsTests.csv:\tdate,area,area_type,population,cases,cumulative_cases,deaths,cumulative_deaths,total_tests,cumulative_total_tests,posi\n"
     ]
    }
   ],
   "source": [
    "with open(os.path.join(dir,\"headers.txt\")) as f:\n",
    "    dataset_str = f.read()\n",
    "    print(dataset_str[:419])"
   ]
  },
  {
   "cell_type": "markdown",
   "id": "90543cb7",
   "metadata": {
    "pycharm": {
     "name": "#%% md\n"
    }
   },
   "source": [
    "#### Now we can call our `annotation/link_datasets_to_vars` endpoint to map variables discovered earlier to any matching dataset columns (GIGO warning here):"
   ]
  },
  {
   "cell_type": "code",
   "execution_count": 43,
   "id": "d4d891aa",
   "metadata": {
    "pycharm": {
     "name": "#%%\n"
    }
   },
   "outputs": [
    {
     "data": {
      "text/plain": "'[{\"type\":\"variable\",\"name\":\"S_i j\",\"id\":\"v0\",\"text_annotations\":[\" Proportion of individuals who are susceptible to the virus\"],\"dkg_annotations\":[[\"vsmo:0002217\",\"Oropsylla bruneri\"]],\"data_annotations\":[\"\",\"\"]},{\"type\":\"variable\",\"name\":\"E_i j\",\"id\":\"v1\",\"text_annotations\":[\" Proportion of individuals who have been exposed to the virus\"],\"dkg_annotations\":[[\"vsmo:0000766\",\"Anopheles annularis\"]],\"data_annotations\":[[\"nychealth.csv\",\"PROBABLE_CASE_COUNT\"],[\"nychealth.csv\",\"PROBABLE_DEATH_COUNT\"]]},{\"type\":\"variable\",\"name\":\"I_i, j^hosp\",\"id\":\"v2\",\"text_annotations\":[\" Proportion of individuals that are exhibiting severe disease symptoms and are in need of hospitalization\"],\"dkg_annotations\":[],\"data_annotations\":[[\"nychealth.csv\",\"HOSPITALIZED_COUNT\"],[\"nychealth.csv\",\"HOSP_COUNT_7DAY_AVG\"]]},{\"type\":\"variable\",\"name\":\"I_i, j^mild\",\"id\":\"v3\",\"text_annotations\":[\" Proportion of individuals that are exhibiting mild disease symptoms\"],\"dkg_annotations\":[],\"data_annotations\":[\"\",\"\"]},{\"type\":\"variable\",\"name\":\"I_i, j^asym\",\"id\":\"v4\",\"text_annotations\":[\" Proportion of individuals who are infected but asymptomatic\"],\"dkg_annotations\":[],\"data_annotations\":[\"\",\"\"]},{\"type\":\"variable\",\"name\":\"R_i, j\",\"id\":\"v5\",\"text_annotations\":[\" Proportion of individuals who have recovered from the virus and are no longer capable of infecting other individuals\"],\"dkg_annotations\":[],\"data_annotations\":[[\"nychealth.csv\",\"recovered\"],[\"covid_tracking.csv\",\"recovered\"]]},{\"type\":\"variable\",\"name\":\"R_i, j^hosp\",\"id\":\"v6\",\"text_annotations\":[\" Proportion of individuals who have recovered from the virus after a period of time in a hospital\"],\"dkg_annotations\":[],\"data_annotations\":[[\"nychealth.csv\",\"BX_HOSPITALIZED_COUNT_7DAY_AVG\"],[\"nychealth.csv\",\"BK_HOSPITALIZED_COUNT_7DAY_AVG\"]]},{\"type\":\"variable\",\"name\":\"D_i, j\",\"id\":\"v7\",\"text_annotations\":[\" Proportion of individuals who have succumbed as a direct result of the virus\"],\"dkg_annotations\":[],\"data_annotations\":[[\"nychealth.csv\",\"DEATH_COUNT\"],[\"nychealth.csv\",\"cumulative_deaths\"]]},{\"type\":\"variable\",\"name\":\"β_i, j\",\"id\":\"v8\",\"text_annotations\":[\" Force of infection on a member of age group i in location j\"],\"dkg_annotations\":[],\"data_annotations\":[\"\"]},{\"type\":\"variable\",\"name\":\"σ\",\"id\":\"v9\",\"text_annotations\":[\" Viral latent period\"],\"dkg_annotations\":[],\"data_annotations\":[\"\",\"\"]},{\"type\":\"variable\",\"name\":\"α\",\"id\":\"v10\",\"text_annotations\":[\" Rate of infections that are asymptomatic\"],\"dkg_annotations\":[],\"data_annotations\":[\"\",\"\"]},{\"type\":\"variable\",\"name\":\"ν_i\",\"id\":\"v11\",\"text_annotations\":[\" Fraction index i\"],\"dkg_annotations\":[],\"data_annotations\":[\"\",\"\"]},{\"type\":\"variable\",\"name\":\"index j\",\"id\":\"v12\",\"text_annotations\":[\" IndexI^{\\\\text {asym }}\"],\"dkg_annotations\":[],\"data_annotations\":[\"\",\"\"]},{\"type\":\"variable\",\"name\":\"I^{\\\\text {mild }}\",\"id\":\"v13\",\"text_annotations\":[\" Mild infected state\"],\"dkg_annotations\":[],\"data_annotations\":[\"\",\"\"]},{\"type\":\"variable\",\"name\":\"I^{\\\\text {hosp }}\",\"id\":\"v14\",\"text_annotations\":[\" Severe infected state\"],\"dkg_annotations\":[],\"data_annotations\":[\"\",[\"nychealth.csv\",\"HOSPITALIZED_COUNT\"]]},{\"type\":\"variable\",\"name\":\"$\\\\\\\\gamma$\",\"id\":\"v15\",\"text_annotations\":[\" Rate of recovery from virus\"],\"dkg_annotations\":[],\"data_annotations\":[\"\",\"\"]},{\"type\":\"variable\",\"name\":\"$1 / \\\\tau_{i}$\",\"id\":\"v16\",\"text_annotations\":[\" Rate of recovery after period of illness\"],\"dkg_annotations\":[],\"data_annotations\":[[\"Reported_State_Hospital_Capacity_and_COVID19_Patient_Impact.csv\",\"previous_day_admission_adult_covid_suspected\"],[\"Reported_State_Hospital_Capacity_and_COVID19_Patient_Impact.csv\",\"previous_day_admission_pediatric_covid_suspected\"]]},{\"type\":\"variable\",\"name\":\"$\\\\\\\\phi_{i} \\\\\\\\gamma$\",\"id\":\"v17\",\"text_annotations\":[\" Rate of expiration from virus\"],\"dkg_annotations\":[],\"data_annotations\":[\"\"]},{\"type\":\"variable\",\"name\":\"$R_{0}$\",\"id\":\"v18\",\"text_annotations\":[\" Basic reproductive number\",\" Reproduction number-based reduction in overall community transmission\"],\"dkg_annotations\":[],\"data_annotations\":[\"\",\"\"]},{\"type\":\"variable\",\"name\":\"asym_frac\",\"id\":\"v19\",\"text_annotations\":[\" Fraction of infections that are asymptomatic\"],\"dkg_annotations\":[],\"data_annotations\":[[\"nychealth.csv\",\"BX_ALL_CASE_COUNT_7DAY_AVG\"],[\"nychealth.csv\",\"MN_ALL_CASE_COUNT_7DAY_AVG\"]]},{\"type\":\"variable\",\"name\":\"rel_inf_asym\",\"id\":\"v20\",\"text_annotations\":[\" Relative infectiousness of asymptomatic individuals\"],\"dkg_annotations\":[],\"data_annotations\":[\"\",\"\",\"\"]},{\"type\":\"variable\",\"name\":\"frac_trans_before_s\",\"id\":\"v21\",\"text_annotations\":[\" Percentage of transmission prior to symptom onset\"],\"dkg_annotations\":[],\"data_annotations\":[[\"nychealth.csv\",\"CASE_COUNT_7DAY_AVG\"],[\"nychealth.csv\",\"ALL_CASE_COUNT_7DAY_AVG\"]]},{\"type\":\"variable\",\"name\":\"F\",\"id\":\"v22\",\"text_annotations\":[\" Case fatality ratio\"],\"dkg_annotations\":[[\"\"]],\"data_annotations\":[[\"nychealth.csv\",\"death\"],[\"nychealth.csv\",\"deathConfirmed\"]]},{\"type\":\"variable\",\"name\":\"H\",\"id\":\"v23\",\"text_annotations\":[\" Case hospitalization ratio\"],\"dkg_annotations\":[[\"\"]],\"data_annotations\":[[\"nychealth.csv\",\"HOSPITALIZED_COUNT\"],[\"nychealth.csv\",\"HOSPITALIZED_COUNT_7DAY_AVG\"]]},{\"type\":\"variable\",\"name\":\"I_TO_H_TIME\",\"id\":\"v24\",\"text_annotations\":[\" Time from symptom onset to hospitalization\"],\"dkg_annotations\":[],\"data_annotations\":[[\"nychealth.csv\",\"I_TO_H_TIME\"],[\"nychealth.csv\",\"H_TIME\"]]},{\"type\":\"variable\",\"name\":\"H_TIME\",\"id\":\"v25\",\"text_annotations\":[\" Duration of hospitalization\",\" Number of days anfrac\"],\"dkg_annotations\":[[\"pr:Q9UNS1\",\"protein timeless homolog (human)\"]],\"data_annotations\":[\"\",\"\"]},{\"type\":\"variable\",\"name\":\"D_REPORT_TIME\",\"id\":\"v26\",\"text_annotations\":[\" Time between death and reporting\"],\"dkg_annotations\":[],\"data_annotations\":[[\"nychealth.csv\",\"DEATH_COUNT\"],[\"nychealth.csv\",\"cumulative_deaths\"]]},{\"type\":\"variable\",\"name\":\"Tg\",\"id\":\"v27\",\"text_annotations\":[\" Mean generation interval (in days)\"],\"dkg_annotations\":[[\"\"]],\"data_annotations\":[\"\",\"\"]},{\"type\":\"variable\",\"name\":\"CHR\",\"id\":\"v28\",\"text_annotations\":[\" Case hospitalization-severity ratio\"],\"dkg_annotations\":[[\"hp:0011010\",\"Chronic\"],[\"ncbitaxon:27458\",\"Chrysops\"]],\"data_annotations\":[[\"nychealth.csv\",\"HOSP_COUNT_7DAY_AVG\"],[\"nychealth.csv\",\"DEATH_COUNT_7DAY_AVG\"]]},{\"type\":\"variable\",\"name\":\"I_to_H_time\",\"id\":\"v29\",\"text_annotations\":[\" Time it takes from symptom onset to hospitalization (in days)\"],\"dkg_annotations\":[],\"data_annotations\":[[\"nychealth.csv\",\"I_TO_H_TIME\"],[\"nychealth.csv\",\"H_TIME\"]]},{\"type\":\"variable\",\"name\":\"Contact-Matrix Based NPIs\",\"id\":\"v30\",\"text_annotations\":[\" NPIs that effect certain age groups within the total population.\"],\"dkg_annotations\":[],\"data_annotations\":[[\"StatewideCOVID-19CasesDeathsDemographics.csv\",\"demographic_category\"],[\"StatewideCOVID-19CasesDeathsDemographics.csv\",\"demographic_value\"]]},{\"type\":\"variable\",\"name\":\"Mobility Based NPI\",\"id\":\"v31\",\"text_annotations\":[\" NPIs that lead to changes in mobility/movement between administrative districts.\"],\"dkg_annotations\":[],\"data_annotations\":[\"\",\"\"]},{\"type\":\"variable\",\"name\":\"Reproduction Number Based NPI\",\"id\":\"v32\",\"text_annotations\":[\" NPIs that have an effect on the overall scaling of transmissibility.\"],\"dkg_annotations\":[],\"data_annotations\":[\"\",\"\"]}]'"
     },
     "execution_count": 43,
     "metadata": {},
     "output_type": "execute_result"
    }
   ],
   "source": [
    "dct_cols = {\"json_str\":json_str, \"dataset_str\": dataset_str, \"gpt_key\":GPT_KEY}           \n",
    "json_str = requests.post(API_ROOT + \"annotation/link_datasets_to_vars/\", params=dct_cols).text\n",
    "json_str"
   ]
  },
  {
   "cell_type": "code",
   "execution_count": 44,
   "id": "5d492104",
   "metadata": {
    "pycharm": {
     "name": "#%%\n"
    }
   },
   "outputs": [
    {
     "data": {
      "text/plain": "[{'type': 'variable',\n  'name': 'S_i j',\n  'id': 'v0',\n  'text_annotations': [' Proportion of individuals who are susceptible to the virus'],\n  'dkg_annotations': [['vsmo:0002217', 'Oropsylla bruneri']],\n  'data_annotations': ['', '']},\n {'type': 'variable',\n  'name': 'E_i j',\n  'id': 'v1',\n  'text_annotations': [' Proportion of individuals who have been exposed to the virus'],\n  'dkg_annotations': [['vsmo:0000766', 'Anopheles annularis']],\n  'data_annotations': [['nychealth.csv', 'PROBABLE_CASE_COUNT'],\n   ['nychealth.csv', 'PROBABLE_DEATH_COUNT']]},\n {'type': 'variable',\n  'name': 'I_i, j^hosp',\n  'id': 'v2',\n  'text_annotations': [' Proportion of individuals that are exhibiting severe disease symptoms and are in need of hospitalization'],\n  'dkg_annotations': [],\n  'data_annotations': [['nychealth.csv', 'HOSPITALIZED_COUNT'],\n   ['nychealth.csv', 'HOSP_COUNT_7DAY_AVG']]},\n {'type': 'variable',\n  'name': 'I_i, j^mild',\n  'id': 'v3',\n  'text_annotations': [' Proportion of individuals that are exhibiting mild disease symptoms'],\n  'dkg_annotations': [],\n  'data_annotations': ['', '']},\n {'type': 'variable',\n  'name': 'I_i, j^asym',\n  'id': 'v4',\n  'text_annotations': [' Proportion of individuals who are infected but asymptomatic'],\n  'dkg_annotations': [],\n  'data_annotations': ['', '']},\n {'type': 'variable',\n  'name': 'R_i, j',\n  'id': 'v5',\n  'text_annotations': [' Proportion of individuals who have recovered from the virus and are no longer capable of infecting other individuals'],\n  'dkg_annotations': [],\n  'data_annotations': [['nychealth.csv', 'recovered'],\n   ['covid_tracking.csv', 'recovered']]},\n {'type': 'variable',\n  'name': 'R_i, j^hosp',\n  'id': 'v6',\n  'text_annotations': [' Proportion of individuals who have recovered from the virus after a period of time in a hospital'],\n  'dkg_annotations': [],\n  'data_annotations': [['nychealth.csv', 'BX_HOSPITALIZED_COUNT_7DAY_AVG'],\n   ['nychealth.csv', 'BK_HOSPITALIZED_COUNT_7DAY_AVG']]},\n {'type': 'variable',\n  'name': 'D_i, j',\n  'id': 'v7',\n  'text_annotations': [' Proportion of individuals who have succumbed as a direct result of the virus'],\n  'dkg_annotations': [],\n  'data_annotations': [['nychealth.csv', 'DEATH_COUNT'],\n   ['nychealth.csv', 'cumulative_deaths']]},\n {'type': 'variable',\n  'name': 'β_i, j',\n  'id': 'v8',\n  'text_annotations': [' Force of infection on a member of age group i in location j'],\n  'dkg_annotations': [],\n  'data_annotations': ['']},\n {'type': 'variable',\n  'name': 'σ',\n  'id': 'v9',\n  'text_annotations': [' Viral latent period'],\n  'dkg_annotations': [],\n  'data_annotations': ['', '']},\n {'type': 'variable',\n  'name': 'α',\n  'id': 'v10',\n  'text_annotations': [' Rate of infections that are asymptomatic'],\n  'dkg_annotations': [],\n  'data_annotations': ['', '']},\n {'type': 'variable',\n  'name': 'ν_i',\n  'id': 'v11',\n  'text_annotations': [' Fraction index i'],\n  'dkg_annotations': [],\n  'data_annotations': ['', '']},\n {'type': 'variable',\n  'name': 'index j',\n  'id': 'v12',\n  'text_annotations': [' IndexI^{\\text {asym }}'],\n  'dkg_annotations': [],\n  'data_annotations': ['', '']},\n {'type': 'variable',\n  'name': 'I^{\\text {mild }}',\n  'id': 'v13',\n  'text_annotations': [' Mild infected state'],\n  'dkg_annotations': [],\n  'data_annotations': ['', '']},\n {'type': 'variable',\n  'name': 'I^{\\text {hosp }}',\n  'id': 'v14',\n  'text_annotations': [' Severe infected state'],\n  'dkg_annotations': [],\n  'data_annotations': ['', ['nychealth.csv', 'HOSPITALIZED_COUNT']]},\n {'type': 'variable',\n  'name': '$\\\\gamma$',\n  'id': 'v15',\n  'text_annotations': [' Rate of recovery from virus'],\n  'dkg_annotations': [],\n  'data_annotations': ['', '']},\n {'type': 'variable',\n  'name': '$1 / \\tau_{i}$',\n  'id': 'v16',\n  'text_annotations': [' Rate of recovery after period of illness'],\n  'dkg_annotations': [],\n  'data_annotations': [['Reported_State_Hospital_Capacity_and_COVID19_Patient_Impact.csv',\n    'previous_day_admission_adult_covid_suspected'],\n   ['Reported_State_Hospital_Capacity_and_COVID19_Patient_Impact.csv',\n    'previous_day_admission_pediatric_covid_suspected']]},\n {'type': 'variable',\n  'name': '$\\\\phi_{i} \\\\gamma$',\n  'id': 'v17',\n  'text_annotations': [' Rate of expiration from virus'],\n  'dkg_annotations': [],\n  'data_annotations': ['']},\n {'type': 'variable',\n  'name': '$R_{0}$',\n  'id': 'v18',\n  'text_annotations': [' Basic reproductive number',\n   ' Reproduction number-based reduction in overall community transmission'],\n  'dkg_annotations': [],\n  'data_annotations': ['', '']},\n {'type': 'variable',\n  'name': 'asym_frac',\n  'id': 'v19',\n  'text_annotations': [' Fraction of infections that are asymptomatic'],\n  'dkg_annotations': [],\n  'data_annotations': [['nychealth.csv', 'BX_ALL_CASE_COUNT_7DAY_AVG'],\n   ['nychealth.csv', 'MN_ALL_CASE_COUNT_7DAY_AVG']]},\n {'type': 'variable',\n  'name': 'rel_inf_asym',\n  'id': 'v20',\n  'text_annotations': [' Relative infectiousness of asymptomatic individuals'],\n  'dkg_annotations': [],\n  'data_annotations': ['', '', '']},\n {'type': 'variable',\n  'name': 'frac_trans_before_s',\n  'id': 'v21',\n  'text_annotations': [' Percentage of transmission prior to symptom onset'],\n  'dkg_annotations': [],\n  'data_annotations': [['nychealth.csv', 'CASE_COUNT_7DAY_AVG'],\n   ['nychealth.csv', 'ALL_CASE_COUNT_7DAY_AVG']]},\n {'type': 'variable',\n  'name': 'F',\n  'id': 'v22',\n  'text_annotations': [' Case fatality ratio'],\n  'dkg_annotations': [['']],\n  'data_annotations': [['nychealth.csv', 'death'],\n   ['nychealth.csv', 'deathConfirmed']]},\n {'type': 'variable',\n  'name': 'H',\n  'id': 'v23',\n  'text_annotations': [' Case hospitalization ratio'],\n  'dkg_annotations': [['']],\n  'data_annotations': [['nychealth.csv', 'HOSPITALIZED_COUNT'],\n   ['nychealth.csv', 'HOSPITALIZED_COUNT_7DAY_AVG']]},\n {'type': 'variable',\n  'name': 'I_TO_H_TIME',\n  'id': 'v24',\n  'text_annotations': [' Time from symptom onset to hospitalization'],\n  'dkg_annotations': [],\n  'data_annotations': [['nychealth.csv', 'I_TO_H_TIME'],\n   ['nychealth.csv', 'H_TIME']]},\n {'type': 'variable',\n  'name': 'H_TIME',\n  'id': 'v25',\n  'text_annotations': [' Duration of hospitalization',\n   ' Number of days anfrac'],\n  'dkg_annotations': [['pr:Q9UNS1', 'protein timeless homolog (human)']],\n  'data_annotations': ['', '']},\n {'type': 'variable',\n  'name': 'D_REPORT_TIME',\n  'id': 'v26',\n  'text_annotations': [' Time between death and reporting'],\n  'dkg_annotations': [],\n  'data_annotations': [['nychealth.csv', 'DEATH_COUNT'],\n   ['nychealth.csv', 'cumulative_deaths']]},\n {'type': 'variable',\n  'name': 'Tg',\n  'id': 'v27',\n  'text_annotations': [' Mean generation interval (in days)'],\n  'dkg_annotations': [['']],\n  'data_annotations': ['', '']},\n {'type': 'variable',\n  'name': 'CHR',\n  'id': 'v28',\n  'text_annotations': [' Case hospitalization-severity ratio'],\n  'dkg_annotations': [['hp:0011010', 'Chronic'],\n   ['ncbitaxon:27458', 'Chrysops']],\n  'data_annotations': [['nychealth.csv', 'HOSP_COUNT_7DAY_AVG'],\n   ['nychealth.csv', 'DEATH_COUNT_7DAY_AVG']]},\n {'type': 'variable',\n  'name': 'I_to_H_time',\n  'id': 'v29',\n  'text_annotations': [' Time it takes from symptom onset to hospitalization (in days)'],\n  'dkg_annotations': [],\n  'data_annotations': [['nychealth.csv', 'I_TO_H_TIME'],\n   ['nychealth.csv', 'H_TIME']]},\n {'type': 'variable',\n  'name': 'Contact-Matrix Based NPIs',\n  'id': 'v30',\n  'text_annotations': [' NPIs that effect certain age groups within the total population.'],\n  'dkg_annotations': [],\n  'data_annotations': [['StatewideCOVID-19CasesDeathsDemographics.csv',\n    'demographic_category'],\n   ['StatewideCOVID-19CasesDeathsDemographics.csv', 'demographic_value']]},\n {'type': 'variable',\n  'name': 'Mobility Based NPI',\n  'id': 'v31',\n  'text_annotations': [' NPIs that lead to changes in mobility/movement between administrative districts.'],\n  'dkg_annotations': [],\n  'data_annotations': ['', '']},\n {'type': 'variable',\n  'name': 'Reproduction Number Based NPI',\n  'id': 'v32',\n  'text_annotations': [' NPIs that have an effect on the overall scaling of transmissibility.'],\n  'dkg_annotations': [],\n  'data_annotations': ['', '']}]"
     },
     "execution_count": 44,
     "metadata": {},
     "output_type": "execute_result"
    }
   ],
   "source": [
    "ast.literal_eval(json_str)"
   ]
  },
  {
   "cell_type": "markdown",
   "id": "60ca157e",
   "metadata": {
    "pycharm": {
     "name": "#%% md\n"
    }
   },
   "source": [
    "## 3. Extracting LaTeX from formula images [Missing]"
   ]
  },
  {
   "cell_type": "markdown",
   "id": "1639ae0a",
   "metadata": {
    "pycharm": {
     "name": "#%% md\n"
    }
   },
   "source": [
    "####  Here is a formula image from the SIDARTHE paper:"
   ]
  },
  {
   "cell_type": "code",
   "execution_count": 40,
   "id": "2c77b882",
   "metadata": {
    "pycharm": {
     "name": "#%%\n"
    }
   },
   "outputs": [
    {
     "data": {
      "image/png": "[encoded data removed]",
      "text/plain": [
       "<IPython.core.display.Image object>"
      ]
     },
     "execution_count": 40,
     "metadata": {},
     "output_type": "execute_result"
    }
   ],
   "source": [
    "display.Image(\"../../resources/images/SIDARTHE/sidarthe_dAdt.png\")"
   ]
  },
  {
   "cell_type": "markdown",
   "id": "7a0ac4f7",
   "metadata": {
    "pycharm": {
     "name": "#%% md\n"
    }
   },
   "source": [
    "#### As we demoed last week, we can extract LaTeX from such formula images (powered by `pix2tex`), also through a public API."
   ]
  },
  {
   "cell_type": "code",
   "execution_count": 41,
   "id": "1574de16",
   "metadata": {
    "pycharm": {
     "name": "#%%\n"
    }
   },
   "outputs": [
    {
     "name": "stdout",
     "output_type": "stream",
     "text": [
      "['\"{\\\\\\\\dot{A}}(t)=\\\\\\\\zeta I(t)-(\\\\\\\\theta+\\\\\\\\mu+\\\\\\\\kappa)A(t)\"', '\"{\\\\\\\\dot{D}}(t)=\\\\\\\\varepsilon I(t)-(\\\\\\\\eta+\\\\\\\\rho)D(t)\"', '\"\\\\\\\\dot{\\\\\\\\bar{F}}(t)\\\\\\\\,\\\\\\\\longrightarrow\\\\\\\\,\\\\\\\\tau\\\\\\\\,T(t)\"', '\"H(t)=i I(t)+\\\\\\\\theta b(t)+\\\\\\\\kappa d(t)+i R(t)+\\\\\\\\sigma T(t)\"', '\"\\\\\\\\scriptstyle I_{\\\\\\\\theta\\\\\\\\theta}=\\\\\\\\delta\\\\\\\\theta\\\\\\\\theta\\\\\\\\theta+I_{\\\\\\\\theta\\\\\\\\theta}+\\\\\\\\gamma\\\\\\\\xi\\\\\\\\theta_{1}+\\\\\\\\delta\\\\\\\\theta_{1})-\\\\\\\\epsilon+\\\\\\\\xi+\\\\\\\\delta I_{\\\\\\\\theta}\"', '\"R(t)=\\\\\\\\eta D(t)+\\\\\\\\theta A(t)-(\\\\\\\\nu+\\\\\\\\xi)R(t)\"', '\"\\\\\\\\delta(t)=-S(t)(a l(t)+\\\\\\\\theta D(t)+r A(t)+\\\\\\\\delta t(t)\"', '\"{\\\\\\\\hat{T}}(t)=\\\\\\\\mu A(t)+\\\\\\\\nu R(t)-(\\\\\\\\sigma+\\\\\\\\tau){\\\\\\\\hat{T}}(t)\"']\n"
     ]
    }
   ],
   "source": [
    "directory = '../../resources/images/SIDARTHE'\n",
    "latex_strs = []\n",
    " \n",
    "for filename in os.listdir(directory):\n",
    "    f = os.path.join(directory, filename)\n",
    "    latex_str = !python3 img_latex.py -p {f} # This is a local script that resizes the image and calls the public API.\n",
    "    latex_strs.append(latex_str[0])\n",
    "\n",
    "print(latex_strs)"
   ]
  },
  {
   "cell_type": "markdown",
   "id": "6cfbd2ba",
   "metadata": {
    "pycharm": {
     "name": "#%% md\n"
    }
   },
   "source": [
    "## 4. Linking variables from the LaTeX formulas to variables from the text [Missing]"
   ]
  },
  {
   "cell_type": "markdown",
   "id": "da7f5ef9",
   "metadata": {
    "pycharm": {
     "name": "#%% md\n"
    }
   },
   "source": [
    "#### We just extracted all these equations in LaTeX, which include variables. Let's link these variables to the variables we found from the text in part 1.  Again, the output (internal)JSON format can be found [here](https://github.com/mikecafarella/mitaskem/blob/main/JSONformat.md)"
   ]
  },
  {
   "cell_type": "code",
   "execution_count": 42,
   "id": "7fbda461",
   "metadata": {
    "pycharm": {
     "name": "#%%\n"
    }
   },
   "outputs": [],
   "source": [
    "for latex_str in latex_strs:\n",
    "    dct_latex = {\"json_str\":json_str, \"formula\": latex_str, \"gpt_key\":GPT_KEY}           \n",
    "    json_str = requests.post(API_ROOT + \"annotation/link_latex_to_vars/\", params=dct_latex).text"
   ]
  },
  {
   "cell_type": "code",
   "execution_count": 43,
   "id": "b5d7c652",
   "metadata": {
    "pycharm": {
     "name": "#%%\n"
    }
   },
   "outputs": [
    {
     "data": {
      "text/plain": [
       "[{'type': 'variable',\n",
       "  'name': 'S',\n",
       "  'id': 'v0',\n",
       "  'text_annotations': [' Susceptible (uninfected)'],\n",
       "  'dkg_annotations': [['ncit:C171133', 'COVID-19 Infection'],\n",
       "   ['ido:0000514', 'susceptible population']],\n",
       "  'data_annotations': [['covid_tracking.csv', 'negative'],\n",
       "   ['covid_tracking.csv', 'totalTestResults']]},\n",
       " {'type': 'variable',\n",
       "  'name': 'I',\n",
       "  'id': 'v1',\n",
       "  'text_annotations': [' Infected (asymptomatic or pauci-symptomatic infected, undetected)'],\n",
       "  'dkg_annotations': [['ido:0000511', 'infected population'],\n",
       "   ['ncit:C171133', 'COVID-19 Infection']],\n",
       "  'data_annotations': [['covid_tracking.csv', 'positive'],\n",
       "   ['covid_tracking.csv', 'probableCases']]},\n",
       " {'type': 'variable',\n",
       "  'name': 'D',\n",
       "  'id': 'v2',\n",
       "  'text_annotations': [' Diagnosed (asymptomatic infected, detected)'],\n",
       "  'dkg_annotations': [['ido:0000511', 'infected population'],\n",
       "   ['ncit:C171133', 'COVID-19 Infection']],\n",
       "  'data_annotations': [['covid_tracking.csv', 'positive'],\n",
       "   ['covid_tracking.csv', 'totalTestResults']]},\n",
       " {'type': 'variable',\n",
       "  'name': 'A',\n",
       "  'id': 'v3',\n",
       "  'text_annotations': [' Ailing (symptomatic infected, undetected)'],\n",
       "  'dkg_annotations': [['ido:0000511', 'infected population'],\n",
       "   ['ncit:C171133', 'COVID-19 Infection']],\n",
       "  'data_annotations': [['covid_tracking.csv', 'hospitalizedCurrently'],\n",
       "   ['covid_tracking.csv', 'hospitalizedCumulative']]},\n",
       " {'type': 'variable',\n",
       "  'name': 'R',\n",
       "  'id': 'v4',\n",
       "  'text_annotations': [' Recognized (symptomatic infected, detected)'],\n",
       "  'dkg_annotations': [['ncit:C171133', 'COVID-19 Infection'],\n",
       "   ['ncit:C28554', 'Dead']],\n",
       "  'data_annotations': [['covid_tracking.csv', 'positive'],\n",
       "   ['covid_tracking.csv', 'death']]},\n",
       " {'type': 'variable',\n",
       "  'name': 'T',\n",
       "  'id': 'v5',\n",
       "  'text_annotations': [' Threatened (infected with life-threatening symptoms, detected)'],\n",
       "  'dkg_annotations': [['ido:0000511', 'infected population'],\n",
       "   ['ncit:C171133', 'COVID-19 Infection']],\n",
       "  'data_annotations': [['covid_tracking.csv', 'hospitalizedCurrently'],\n",
       "   ['covid_tracking.csv', 'hospitalizedCumulative']]},\n",
       " {'type': 'variable',\n",
       "  'name': 'H',\n",
       "  'id': 'v6',\n",
       "  'text_annotations': [' Healed (recovered)'],\n",
       "  'dkg_annotations': [['ncit:C171133', 'COVID-19 Infection'],\n",
       "   ['ncit:C28554', 'Dead']],\n",
       "  'data_annotations': [['covid_tracking.csv', 'recovered'],\n",
       "   ['nychealth.csv', 'recovered']]},\n",
       " {'type': 'variable',\n",
       "  'name': 'E',\n",
       "  'id': 'v7',\n",
       "  'text_annotations': [' Extinct (dead)'],\n",
       "  'dkg_annotations': [['ido:0000511', 'infected population'],\n",
       "   ['ncit:C171133', 'COVID-19 Infection']],\n",
       "  'data_annotations': [['covid_tracking.csv', 'death'],\n",
       "   ['nychealth.csv', 'DEATH_COUNT']]},\n",
       " {'type': 'variable',\n",
       "  'name': 'α',\n",
       "  'id': 'v8',\n",
       "  'text_annotations': [' Transmission rate (the probability of disease transmission in a single contact multiplied by the average number of contacts per person)'],\n",
       "  'dkg_annotations': [],\n",
       "  'data_annotations': [['covid_tracking.csv', 'positiveIncrease'],\n",
       "   ['covid_tracking.csv', 'negativeIncrease']]},\n",
       " {'type': 'variable',\n",
       "  'name': 'β',\n",
       "  'id': 'v9',\n",
       "  'text_annotations': [' Transmission rate (the probability of disease transmission in a single contact multiplied by the average number of contacts per person)'],\n",
       "  'dkg_annotations': [['doid:0080928', 'dialysis-related amyloidosis'],\n",
       "   ['vo:0005114', 'β-propiolactone-inactivated SARS-CoV vaccine']],\n",
       "  'data_annotations': [['covid_tracking.csv', 'positiveIncrease'],\n",
       "   ['covid_tracking.csv', 'negativeIncrease']]},\n",
       " {'type': 'variable',\n",
       "  'name': 'γ',\n",
       "  'id': 'v10',\n",
       "  'text_annotations': [' Transmission rate (the probability of disease transmission in a single contact multiplied by the average number of contacts per person)'],\n",
       "  'dkg_annotations': [['askemo:0000013', 'recovery rate'],\n",
       "   ['vo:0004915', 'vaccine specific interferon-γ immune response']],\n",
       "  'data_annotations': [['covid_tracking.csv', 'totalTestResultsSource'],\n",
       "   ['covid_tracking.csv', 'totalTestResults']]},\n",
       " {'type': 'variable',\n",
       "  'name': 'δ',\n",
       "  'id': 'v11',\n",
       "  'text_annotations': [' Transmission rate (the probability of disease transmission in a single contact multiplied by the average number of contacts per person)ε'],\n",
       "  'dkg_annotations': [['askemo:0000011', 'progression rate'],\n",
       "   ['vo:0005123', 'VSVΔG-MERS vaccine']],\n",
       "  'data_annotations': [['covid_tracking.csv', 'totalTestResultsSource'],\n",
       "   ['covid_tracking.csv', 'totalTestResults']]},\n",
       " {'type': 'variable',\n",
       "  'name': 'θ',\n",
       "  'id': 'v12',\n",
       "  'text_annotations': [' Probability rate of detection relative to symptomatic cases'],\n",
       "  'dkg_annotations': [],\n",
       "  'data_annotations': [['covid_tracking.csv', 'dateModified'],\n",
       "   ['covid_tracking.csv', 'checkTimeEt']]},\n",
       " {'type': 'variable',\n",
       "  'name': 'ζ',\n",
       "  'id': 'v13',\n",
       "  'text_annotations': [' Probability rate at which an infected subject not aware of being infected develops clinically relevant symptoms'],\n",
       "  'dkg_annotations': [],\n",
       "  'data_annotations': [['covid_tracking.csv', 'positiveIncrease'],\n",
       "   ['covid_tracking.csv', 'negativeIncrease']]},\n",
       " {'type': 'variable',\n",
       "  'name': 'η',\n",
       "  'id': 'v14',\n",
       "  'text_annotations': [' Probability rate at which an infected subject aware of being infected develops clinically relevant symptomsμ'],\n",
       "  'dkg_annotations': [],\n",
       "  'data_annotations': [['covid_tracking.csv', 'dateModified'],\n",
       "   ['covid_tracking.csv', 'checkTimeEt']]},\n",
       " {'type': 'variable',\n",
       "  'name': 'ν',\n",
       "  'id': 'v15',\n",
       "  'text_annotations': [' Rate at which detected infected subjects develop life-threatening symptoms'],\n",
       "  'dkg_annotations': [],\n",
       "  'data_annotations': [['covid_tracking.csv', 'hospitalizedCurrently'],\n",
       "   ['covid_tracking.csv', 'hospitalizedCumulative']]},\n",
       " {'type': 'variable',\n",
       "  'name': 'τ',\n",
       "  'id': 'v16',\n",
       "  'text_annotations': [' Mortality rate for infected subjects with life-threatening symptoms'],\n",
       "  'dkg_annotations': [],\n",
       "  'data_annotations': [['covid_tracking.csv', 'death'],\n",
       "   ['nychealth.csv', 'DEATH_COUNT']]},\n",
       " {'type': 'variable',\n",
       "  'name': 'λ',\n",
       "  'id': 'v17',\n",
       "  'text_annotations': [' Rate of recovery for infected subjects'],\n",
       "  'dkg_annotations': [],\n",
       "  'data_annotations': [['covid_tracking.csv', 'recovered'],\n",
       "   ['Hospitals_and_Medical_Centers.csv', 'dis_status']]},\n",
       " {'type': 'variable',\n",
       "  'name': 'κ',\n",
       "  'id': 'v18',\n",
       "  'text_annotations': [' Rate of recovery for infected subjects'],\n",
       "  'dkg_annotations': [],\n",
       "  'data_annotations': [['covid_tracking.csv', 'recovered'], '']},\n",
       " {'type': 'variable',\n",
       "  'name': 'ξ',\n",
       "  'id': 'v19',\n",
       "  'text_annotations': [' Rate of recovery for infected subjects'],\n",
       "  'dkg_annotations': [],\n",
       "  'data_annotations': [['covid_tracking.csv', 'recovered'],\n",
       "   ['Hospitals_and_Medical_Centers.csv', 'dis_status']]},\n",
       " {'type': 'variable',\n",
       "  'name': 'ρ',\n",
       "  'id': 'v20',\n",
       "  'text_annotations': [' Rate of recovery for infected subjects'],\n",
       "  'dkg_annotations': [],\n",
       "  'data_annotations': [['covid_tracking.csv', 'recovered'], '']},\n",
       " {'type': 'variable',\n",
       "  'name': 'σ',\n",
       "  'id': 'v21',\n",
       "  'text_annotations': [' Rate of recovery for infected subjectsNone'],\n",
       "  'dkg_annotations': [],\n",
       "  'data_annotations': ['', '']},\n",
       " {'type': 'equation',\n",
       "  'latex': '{\\\\dot{A}}(t)=\\\\zeta I(t)-(\\\\theta+\\\\mu+\\\\kappa)A(t)',\n",
       "  'id': 'e15029274875602918169',\n",
       "  'matches': {'A': ['v0', 'v3'],\n",
       "   't': ['v16', 'v12'],\n",
       "   'ζ': ['v13', 'v16'],\n",
       "   'I': ['v1', 'v16'],\n",
       "   'θ': ['v12', 'v16'],\n",
       "   'μ': ['v14', 'v15'],\n",
       "   'κ': ['v18', 'v19']}},\n",
       " {'type': 'equation',\n",
       "  'latex': '{\\\\dot{D}}(t)=\\\\varepsilon I(t)-(\\\\eta+\\\\rho)D(t)',\n",
       "  'id': 'e9160306732573434510',\n",
       "  'matches': {'D': ['v0', 'v2'],\n",
       "   'I': ['v1', 'v16'],\n",
       "   't': ['v16', 'v12'],\n",
       "   'ε': ['v12', 'v14'],\n",
       "   'η': ['v14', 'v16'],\n",
       "   'ρ': ['v20', 'v19']}},\n",
       " {'type': 'equation',\n",
       "  'latex': '\\\\dot{\\\\bar{F}}(t)\\\\,\\\\longrightarrow\\\\,\\\\tau\\\\,T(t)',\n",
       "  'id': 'e4327158603912984336',\n",
       "  'matches': {' \\\\dot{\\x08ar{F}}(t)': ['v15', 'v16'],\n",
       "   '\\tau': ['v16', 'v15'],\n",
       "   'T(t)': ['v16', 'v5']}},\n",
       " {'type': 'equation',\n",
       "  'latex': 'H(t)=i I(t)+\\\\theta b(t)+\\\\kappa d(t)+i R(t)+\\\\sigma T(t)',\n",
       "  'id': 'e18402757488225498028',\n",
       "  'matches': {'H(t)': ['v6'],\n",
       "   'I(t)': ['v1'],\n",
       "   'b(t)': ['v9', 'v16'],\n",
       "   'd(t)': ['v16', 'v11'],\n",
       "   'R(t)': ['v4', 'v16'],\n",
       "   'T(t)': ['v16', 'v5'],\n",
       "   'i': ['v1', 'v8'],\n",
       "   'θ': ['v12', 'v16'],\n",
       "   'κ': ['v18', 'v19'],\n",
       "   'σ': ['v21', 'v19']}},\n",
       " {'type': 'equation',\n",
       "  'latex': '\\\\scriptstyle I_{\\\\theta\\\\theta}=\\\\delta\\\\theta\\\\theta\\\\theta+I_{\\\\theta\\\\theta}+\\\\gamma\\\\xi\\\\theta_{1}+\\\\delta\\\\theta_{1})-\\\\epsilon+\\\\xi+\\\\delta I_{\\\\theta}',\n",
       "  'id': 'e13111876941200814871',\n",
       "  'matches': {'I_θθ': ['v1', 'v12'],\n",
       "   'δθθθ': ['v11', 'v12'],\n",
       "   'γξθ1': ['v10', 'v19'],\n",
       "   'δθ1': ['v11', 'v12'],\n",
       "   'ε': ['v12', 'v14'],\n",
       "   'ξ': ['v19', 'v16'],\n",
       "   'δI_θ': ['v11', 'v12']}},\n",
       " {'type': 'equation',\n",
       "  'latex': 'R(t)=\\\\eta D(t)+\\\\theta A(t)-(\\\\nu+\\\\xi)R(t)',\n",
       "  'id': 'e14600561528505332591',\n",
       "  'matches': {'R(t)': ['v4', 'v16'],\n",
       "   'D(t)': ['v2'],\n",
       "   'A(t)': ['v8', 'v16'],\n",
       "   'η': ['v14', 'v16'],\n",
       "   'θ': ['v12', 'v16'],\n",
       "   'ν': ['v15', 'v16'],\n",
       "   'ξ': ['v19', 'v16']}},\n",
       " {'type': 'equation',\n",
       "  'latex': '\\\\delta(t)=-S(t)(a l(t)+\\\\theta D(t)+r A(t)+\\\\delta t(t)',\n",
       "  'id': 'e2849391391462718456',\n",
       "  'matches': {'δ': ['v11', 'v16'],\n",
       "   'S': ['v0', 'v1'],\n",
       "   'a': ['v8', 'v9'],\n",
       "   'l': ['v17', 'v18'],\n",
       "   'θ': ['v12', 'v16'],\n",
       "   'D': ['v0', 'v2'],\n",
       "   'r': ['v4', 'v20'],\n",
       "   'A': ['v0', 'v3'],\n",
       "   't': ['v16', 'v12']}},\n",
       " {'type': 'equation',\n",
       "  'latex': '{\\\\hat{T}}(t)=\\\\mu A(t)+\\\\nu R(t)-(\\\\sigma+\\\\tau){\\\\hat{T}}(t)',\n",
       "  'id': 'e6404018658125356859',\n",
       "  'matches': {'T': ['v16', 'v12'],\n",
       "   'μ': ['v14', 'v15'],\n",
       "   'A': ['v0', 'v3'],\n",
       "   'ν': ['v15', 'v16'],\n",
       "   'R': ['v0', 'v1'],\n",
       "   'σ': ['v21', 'v19'],\n",
       "   'τ': ['v16', 'v12']}}]"
      ]
     },
     "execution_count": 43,
     "metadata": {},
     "output_type": "execute_result"
    }
   ],
   "source": [
    "ast.literal_eval(json_str)"
   ]
  },
  {
   "cell_type": "markdown",
   "id": "65a888fa",
   "metadata": {
    "pycharm": {
     "name": "#%% md\n"
    }
   },
   "source": [
    "## 5. Getting a Petri net (as a pyascet) from code "
   ]
  },
  {
   "cell_type": "markdown",
   "id": "1ab7283a",
   "metadata": {
    "pycharm": {
     "name": "#%% md\n"
    }
   },
   "source": [
    "#### Let's now turn our attention to code. We have a python function that describes the SIDARTHE dynamics:"
   ]
  },
  {
   "cell_type": "code",
   "execution_count": 48,
   "id": "e2969b62",
   "metadata": {
    "pycharm": {
     "name": "#%%\n"
    }
   },
   "outputs": [
    {
     "name": "stdout",
     "output_type": "stream",
     "text": [
      "def RHS_func(self, t, y_flat, Nij, contact_mats, Aij, par, npi, aij_sparse, y):\n",
      "    # constraint on values\n",
      "    lower, upper = (0.0, 1.0)  # bounds for state vars  ## TODO multiple_value_asignment\n",
      "\n",
      "    # grab index of OOB values so we can zero derivatives (stability...)\n",
      "    too_low = y_flat <= lower\n",
      "    too_high = y_flat >= upper\n",
      "\n",
      "    # TODO we're passing in y.state just to overwrite it, we probably need another class\n",
      "    # reshape to the usual state tensor (compartment, age, node)\n",
      "    y.state = y_flat.reshape(y.state_shape)\n",
      "\n",
      "    # Clip state to be in bounds (except allocs b/c thats a counter)\n",
      "    xp.clip(y.state, a_min=lower, a_max=upper, out=y.state)\n",
      "\n",
      "    # init d(state)/dt\n",
      "    dy = buckyState(y.consts, Nij)  # TODO make a pseudo copy operator w/ zeros\n",
      "\n",
      "    # effective params after damping w/ allocated stuff\n",
      "    t_index = min(int(t), npi[\"r0_reduct\"].shape[0] - 1)  # prevent OOB error when integrator overshoots\n",
      "    BETA_eff = npi[\"r0_reduct\"][t_index] * par[\"BETA\"]\n",
      "    F_eff = par[\"F_eff\"]\n",
      "    HOSP = par[\"H\"]\n",
      "    THETA = y.Rhn * par[\"THETA\"]\n",
      "    GAMMA = y.Im * par[\"GAMMA\"]\n",
      "    GAMMA_H = y.Im * par[\"GAMMA_H\"]\n",
      "    SIGMA = y.En * par[\"SIGMA\"]\n",
      "    SYM_FRAC = par[\"SYM_FRAC\"]\n",
      "    # ASYM_FRAC = par[\"ASYM_FRAC\"]\n",
      "    CASE_REPORT = par[\"CASE_REPORT\"]\n",
      "\n",
      "    Cij = npi[\"contact_weights\"][t_index] * contact_mats\n",
      "    Cij = xp.sum(Cij, axis=1)\n",
      "    Cij /= xp.sum(Cij, axis=2, keepdims=True)\n",
      "\n",
      "    if aij_sparse:\n",
      "        Aij_eff = Aij.multiply(npi[\"mobility_reduct\"][t_index])\n",
      "    else:\n",
      "        Aij_eff = npi[\"mobility_reduct\"][t_index] * Aij\n",
      "\n",
      "    # perturb Aij\n",
      "    # new_R0_fracij = truncnorm(xp, 1.0, .1, size=Aij.shape, a_min=1e-6)\n",
      "    # new_R0_fracij = xp.clip(new_R0_fracij, 1e-6, None)\n",
      "    # A = Aij * new_R0_fracij\n",
      "    # Aij_eff = A / xp.sum(A, axis=0)\n",
      "\n",
      "    # Infectivity matrix (I made this name up, idk what its really called)\n",
      "    I_tot = xp.sum(Nij * y.Itot, axis=0) - (1.0 - par[\"rel_inf_asym\"]) * xp.sum(Nij * y.Ia, axis=0)\n",
      "\n",
      "    # I_tmp = (Aij.T @ I_tot.T).T\n",
      "    if aij_sparse:\n",
      "        I_tmp = (Aij_eff.T * I_tot.T).T\n",
      "    else:\n",
      "        I_tmp = I_tot @ Aij  # using identity (A@B).T = B.T @ A.T\n",
      "\n",
      "    beta_mat = y.S * xp.squeeze((Cij @ I_tmp.T[..., None]), axis=-1).T  ## TODO ellipsis NOT_DONE\n",
      "    ## beta_mat /= Nij  ## TODO\n",
      "    beta_mat = beta_mat / Nij\n",
      "\n",
      "    # dS/dt\n",
      "    dy.S = -BETA_eff * (beta_mat)\n",
      "    # dE/dt\n",
      "    dy.E[0] = BETA_eff * (beta_mat) - SIGMA * y.E[0]\n",
      "    dy.E[1:] = SIGMA * (y.E[:-1] - y.E[1:])\n",
      "\n",
      "    # dI/dt\n",
      "    dy.Ia[0] = (1.0 - SYM_FRAC) * SIGMA * y.E[-1] - GAMMA * y.Ia[0]\n",
      "    dy.Ia[1:] = GAMMA * (y.Ia[:-1] - y.Ia[1:])\n",
      "\n",
      "    # dIa/dt\n",
      "    dy.I[0] = SYM_FRAC * (1.0 - HOSP) * SIGMA * y.E[-1] - GAMMA * y.I[0]\n",
      "    dy.I[1:] = GAMMA * (y.I[:-1] - y.I[1:])\n",
      "\n",
      "    # dIc/dt\n",
      "    dy.Ic[0] = SYM_FRAC * HOSP * SIGMA * y.E[-1] - GAMMA_H * y.Ic[0]\n",
      "    dy.Ic[1:] = GAMMA_H * (y.Ic[:-1] - y.Ic[1:])\n",
      "\n",
      "    # dRhi/dt\n",
      "    dy.Rh[0] = GAMMA_H * y.Ic[-1] - THETA * y.Rh[0]\n",
      "    dy.Rh[1:] = THETA * (y.Rh[:-1] - y.Rh[1:])\n",
      "\n",
      "    # dR/dt\n",
      "    dy.R = GAMMA * (y.I[-1] + y.Ia[-1]) + (1.0 - F_eff) * THETA * y.Rh[-1]\n",
      "\n",
      "    # dD/dt\n",
      "    dy.D = F_eff * THETA * y.Rh[-1]\n",
      "\n",
      "    dy.incH = SYM_FRAC * CASE_REPORT * HOSP * SIGMA * y.E[-1]\n",
      "    dy.incC = SYM_FRAC * CASE_REPORT * SIGMA * y.E[-1]\n",
      "\n",
      "    # bring back to 1d for the ODE api\n",
      "    dy_flat = dy.state.ravel()\n",
      "\n",
      "    # zero derivatives for things we had to clip if they are going further out of bounds\n",
      "    dy_flat = xp.where(too_low & (dy_flat < 0.0), 0.0, dy_flat)\n",
      "    dy_flat = xp.where(too_high & (dy_flat > 0.0), 0.0, dy_flat)\n",
      "\n",
      "    return dy_flat\n"
     ]
    }
   ],
   "source": [
    "with open(\"../../demos/2023-03-19/bucky.py\", \"r\") as f:\n",
    "    code = f.read()\n",
    "print(code)"
   ]
  },
  {
   "cell_type": "markdown",
   "id": "785c8fa3",
   "metadata": {
    "pycharm": {
     "name": "#%% md\n"
    }
   },
   "source": [
    "#### Using calls to the public MIT API, we can get Petri net components (places, transitions, hypothesized arcs) from this piece of code."
   ]
  },
  {
   "cell_type": "code",
   "execution_count": 49,
   "id": "bc6e7dcb",
   "metadata": {
    "pycharm": {
     "name": "#%%\n"
    }
   },
   "outputs": [
    {
     "data": {
      "text/plain": "['S', ' E', ' I', ' Ia', ' Ic', ' Rh', ' R', ' D', ' incH', ' incC']"
     },
     "execution_count": 49,
     "metadata": {},
     "output_type": "execute_result"
    }
   ],
   "source": [
    "dict_petri = {\"code\": code, \"gpt_key\": GPT_KEY}\n",
    "places = requests.post(API_ROOT + \"petri/get_places\", params=dict_petri).text\n",
    "ast.literal_eval(places)"
   ]
  },
  {
   "cell_type": "code",
   "execution_count": 50,
   "id": "4f48fde8",
   "metadata": {
    "pycharm": {
     "name": "#%%\n"
    }
   },
   "outputs": [
    {
     "data": {
      "text/plain": "['BETA',\n ' F_eff',\n ' HOSP',\n ' THETA',\n ' GAMMA',\n ' GAMMA_H',\n ' SIGMA',\n ' SYM_FRAC',\n ' CASE_REPORT']"
     },
     "execution_count": 50,
     "metadata": {},
     "output_type": "execute_result"
    }
   ],
   "source": [
    "transitions = requests.post(API_ROOT + \"petri/get_transitions\", params=dict_petri).text\n",
    "ast.literal_eval(transitions)"
   ]
  },
  {
   "cell_type": "code",
   "execution_count": 51,
   "id": "a2558515",
   "metadata": {
    "pycharm": {
     "name": "#%%\n"
    }
   },
   "outputs": [
    {
     "data": {
      "text/plain": "[['S', ' E'],\n ['E', ' Ia'],\n ['E', ' I'],\n ['Ia', ' I'],\n ['I', ' Ic'],\n ['Ic', ' Rh'],\n ['Rh', ' R'],\n ['R', ' D'],\n ['E', ' Rh'],\n ['E', ' R'],\n ['E', ' D'],\n ['Ia', ' D'],\n ['I', ' D'],\n ['Ic', ' D']]"
     },
     "execution_count": 51,
     "metadata": {},
     "output_type": "execute_result"
    }
   ],
   "source": [
    "arcs = requests.post(API_ROOT + \"petri/get_arcs\", params=dict_petri).text\n",
    "ast.literal_eval(arcs)"
   ]
  },
  {
   "cell_type": "markdown",
   "id": "21bc9dbc",
   "metadata": {
    "pycharm": {
     "name": "#%% md\n"
    }
   },
   "source": [
    "#### We can then convert these outputs into a py-acset (thanks to Justin Lieffers from Arizona for some of the conversion code and to Owen Lynch for the py-acset code!)"
   ]
  },
  {
   "cell_type": "code",
   "execution_count": 52,
   "id": "473da719",
   "metadata": {
    "pycharm": {
     "name": "#%%\n"
    }
   },
   "outputs": [],
   "source": [
    "dict_acset = {\"places_str\": places, \"transitions_str\": transitions, \"arcs_str\": arcs}\n",
    "pyacset_str = requests.post(API_ROOT + \"petri/get_pyacset\", params=dict_acset).text"
   ]
  },
  {
   "cell_type": "code",
   "execution_count": 53,
   "id": "c2a4aaa3",
   "metadata": {
    "pycharm": {
     "name": "#%%\n"
    }
   },
   "outputs": [
    {
     "data": {
      "text/plain": "{'S': [{'sname': 'S', 'uid': 1},\n  {'sname': 'E', 'uid': 2},\n  {'sname': 'I', 'uid': 3},\n  {'sname': 'Ia', 'uid': 4},\n  {'sname': 'Ic', 'uid': 5},\n  {'sname': 'Rh', 'uid': 6},\n  {'sname': 'R', 'uid': 7},\n  {'sname': 'D', 'uid': 8},\n  {'sname': 'incH', 'uid': 9},\n  {'sname': 'incC', 'uid': 10}],\n 'T': [{'tname': 'BETA', 'uid': 11},\n  {'tname': 'F_eff', 'uid': 12},\n  {'tname': 'HOSP', 'uid': 13},\n  {'tname': 'THETA', 'uid': 14},\n  {'tname': 'GAMMA', 'uid': 15},\n  {'tname': 'GAMMA_H', 'uid': 16},\n  {'tname': 'SIGMA', 'uid': 17},\n  {'tname': 'SYM_FRAC', 'uid': 18},\n  {'tname': 'CASE_REPORT', 'uid': 19}],\n 'I': [{'it': 1, 'is': 1},\n  {'it': 2, 'is': 2},\n  {'it': 3, 'is': 2},\n  {'it': 4, 'is': 4},\n  {'it': 5, 'is': 3},\n  {'it': 6, 'is': 5},\n  {'it': 7, 'is': 6},\n  {'it': 8, 'is': 7},\n  {'it': 9, 'is': 2},\n  {'it': 10, 'is': 2},\n  {'it': 11, 'is': 2},\n  {'it': 12, 'is': 4},\n  {'it': 13, 'is': 3},\n  {'it': 14, 'is': 5}],\n 'O': [{'ot': 1, 'os': 2},\n  {'ot': 2, 'os': 4},\n  {'ot': 3, 'os': 3},\n  {'ot': 4, 'os': 3},\n  {'ot': 5, 'os': 5},\n  {'ot': 6, 'os': 6},\n  {'ot': 7, 'os': 7},\n  {'ot': 8, 'os': 8},\n  {'ot': 9, 'os': 6},\n  {'ot': 10, 'os': 7},\n  {'ot': 11, 'os': 8},\n  {'ot': 12, 'os': 8},\n  {'ot': 13, 'os': 8},\n  {'ot': 14, 'os': 8}]}"
     },
     "execution_count": 53,
     "metadata": {},
     "output_type": "execute_result"
    }
   ],
   "source": [
    "ast.literal_eval(pyacset_str)"
   ]
  },
  {
   "cell_type": "markdown",
   "id": "59df09f4",
   "metadata": {
    "pycharm": {
     "name": "#%% md\n"
    }
   },
   "source": [
    "## 6. Linking the annotations to the py-acset and paper info [WIP]"
   ]
  },
  {
   "cell_type": "markdown",
   "id": "b11fcced",
   "metadata": {
    "pycharm": {
     "name": "#%% md\n"
    }
   },
   "source": [
    "#### Finally, we bring everything together: for every place and transition in the pyacset, let's map it to the annotations from earlier:"
   ]
  },
  {
   "cell_type": "code",
   "execution_count": 63,
   "id": "1f50f236",
   "metadata": {
    "pycharm": {
     "name": "#%%\n"
    }
   },
   "outputs": [
    {
     "data": {
      "text/plain": "'Internal Server Error'"
     },
     "execution_count": 63,
     "metadata": {},
     "output_type": "execute_result"
    }
   ],
   "source": [
    "\n",
    "dct_link = {\"pyacset_str\":pyacset_str, \"annotations_str\":json_str, \"info_str\":\"\"}\n",
    "metadata_str = requests.post(API_ROOT + \"annotation/link_annos_to_pyacset/\", params=dct_link).text\n",
    "metadata_str"
   ]
  },
  {
   "cell_type": "code",
   "execution_count": 62,
   "id": "61bcdb1b",
   "metadata": {
    "pycharm": {
     "name": "#%%\n"
    }
   },
   "outputs": [
    {
     "ename": "SyntaxError",
     "evalue": "invalid syntax (<unknown>, line 1)",
     "output_type": "error",
     "traceback": [
      "Traceback \u001B[0;36m(most recent call last)\u001B[0m:\n",
      "\u001B[0m  File \u001B[1;32m/Library/Python/3.9/site-packages/IPython/core/interactiveshell.py:3433\u001B[0m in \u001B[1;35mrun_code\u001B[0m\n    exec(code_obj, self.user_global_ns, self.user_ns)\u001B[0m\n",
      "\u001B[0m  Cell \u001B[1;32mIn [62], line 1\u001B[0m\n    ast.literal_eval(metadata_str)\u001B[0m\n",
      "\u001B[0m  File \u001B[1;32m/Library/Developer/CommandLineTools/Library/Frameworks/Python3.framework/Versions/3.9/lib/python3.9/ast.py:62\u001B[0m in \u001B[1;35mliteral_eval\u001B[0m\n    node_or_string = parse(node_or_string, mode='eval')\u001B[0m\n",
      "\u001B[0;36m  File \u001B[0;32m/Library/Developer/CommandLineTools/Library/Frameworks/Python3.framework/Versions/3.9/lib/python3.9/ast.py:50\u001B[0;36m in \u001B[0;35mparse\u001B[0;36m\n\u001B[0;31m    return compile(source, filename, mode, flags,\u001B[0;36m\n",
      "\u001B[0;36m  File \u001B[0;32m<unknown>:1\u001B[0;36m\u001B[0m\n\u001B[0;31m    Internal Server Error\u001B[0m\n\u001B[0m             ^\u001B[0m\n\u001B[0;31mSyntaxError\u001B[0m\u001B[0;31m:\u001B[0m invalid syntax\n"
     ]
    }
   ],
   "source": [
    "ast.literal_eval(metadata_str)"
   ]
  },
  {
   "cell_type": "markdown",
   "id": "94a9cfcd",
   "metadata": {
    "pycharm": {
     "name": "#%% md\n"
    }
   },
   "source": [
    "#### Data in this format can be ingested, visualized and edited by TA4! Let's export the related files:"
   ]
  },
  {
   "cell_type": "code",
   "execution_count": 52,
   "id": "8cf547c2",
   "metadata": {
    "pycharm": {
     "name": "#%%\n"
    }
   },
   "outputs": [],
   "source": [
    "with open(\"output-mit-pyacset.json\", \"w+\") as f:\n",
    "    json.dump(ast.literal_eval(pyacset_str), f)\n",
    "with open(\"output-mit-metadata.json\", \"w+\") as f:\n",
    "    json.dump(ast.literal_eval(metadata_str), f)"
   ]
  },
  {
   "cell_type": "markdown",
   "id": "d66094a4",
   "metadata": {
    "pycharm": {
     "name": "#%% md\n"
    }
   },
   "source": [
    "## 7. Interacting with the University of Arizona codepaths"
   ]
  },
  {
   "cell_type": "markdown",
   "id": "439e54ac",
   "metadata": {
    "pycharm": {
     "name": "#%% md\n"
    }
   },
   "source": [
    "#### The University of Arizona team can also produce an annotated py-acset as an output. We can integrate the two outputs by matching on the names of places and transitions, to get a more complete picture of the model. The metadata extracted by both teams can then be accessible by using the associated `uid` of each place/transition as a key into the metadata JSON file."
   ]
  }
 ],
 "metadata": {
  "kernelspec": {
   "display_name": "Python 3 (ipykernel)",
   "language": "python",
   "name": "python3"
  },
  "language_info": {
   "codemirror_mode": {
    "name": "ipython",
    "version": 3
   },
   "file_extension": ".py",
   "mimetype": "text/x-python",
   "name": "python",
   "nbconvert_exporter": "python",
   "pygments_lexer": "ipython3",
   "version": "3.10.6"
  }
 },
 "nbformat": 4,
 "nbformat_minor": 5
}