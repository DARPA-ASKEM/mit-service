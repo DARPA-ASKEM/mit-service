{
 "cells": [
  {
   "cell_type": "markdown",
   "id": "26243802",
   "metadata": {},
   "source": [
    "# 0. Preprocessing"
   ]
  },
  {
   "cell_type": "markdown",
   "id": "54a714c5",
   "metadata": {},
   "source": [
    "#### Starting with an XDD Query, we obtain PDF ids and eventually the PDFs themselves. We can then run COSMOS to extract outputs like this:\n",
    "    "
   ]
  },
  {
   "cell_type": "code",
   "execution_count": 9,
   "id": "ea353517",
   "metadata": {},
   "outputs": [
    {
     "name": "stdout",
     "output_type": "stream",
     "text": [
      "[     {         \"pdf_name\": \"41591_2020_Article_883.pdf\",         \"dataset_id\": \"documents_5Feb\",         \"page_num\": 1,         \"img_pth\": \"/mytmp/images/41591_2020_Article_883.pdf_1_pad\",         \"pdf_dims\": [             0.0,             0.0,             612.0,             792.0         ],         \"bounding_box\": [             103.0,             51.0,             1341.0,             212.0         ],         \"classes\": [             \"Section Header\",             \"Page Footer\",             \"Fig\n"
     ]
    }
   ],
   "source": [
    "with open(\"documents_sidarthe--COSMOS-data.json\", \"r\") as f:\n",
    "    text = f.read()\n",
    "    print(text.replace('\\n', ' ')[:500])"
   ]
  },
  {
   "cell_type": "markdown",
   "id": "3e96d3f0",
   "metadata": {},
   "source": [
    "#### We can consolidate just the \"content\" fields to get just the text of the paper"
   ]
  },
  {
   "cell_type": "code",
   "execution_count": 10,
   "id": "722a1d4d",
   "metadata": {},
   "outputs": [
    {
     "name": "stdout",
     "output_type": "stream",
     "text": [
      " Modelling the COVID-19 epidemic and implementation of population-wide Modelling the COVID-19 epidemic and implementation of population-wide interventions in Italy Giulia Giordano 1 ✉, Franco Blanchini2, Raffaele Bruno3,4, Patrizio Colaneri5,6, Alessandro Di Filippo3, Angela Di Matteo3 and Marta Colaneri3 In Italy, 128,948 confirmed cases and 15,887 deaths of peo- discharged due to recovery and 15,887 had died7. In the early days of ple  who  tested  positive  for  SARS-CoV-2  were  registered  \n"
     ]
    }
   ],
   "source": [
    "# We have a straightforward script for this but let's look at the output directly\n",
    "with open(\"sidarthe.txt\", \"r\") as f:\n",
    "    text = f.read()\n",
    "    print(text.replace('\\n', ' ')[:500])"
   ]
  },
  {
   "cell_type": "markdown",
   "id": "25dbf8d5",
   "metadata": {},
   "source": [
    "# 1. Extracting variables and annotating them"
   ]
  },
  {
   "cell_type": "markdown",
   "id": "8957778f",
   "metadata": {},
   "source": [
    "#### Using our API (powered by GPT-3), we can extract variables from the paper alongside a list of possible definitions, and ground each of these variables to the MIRA DKG. The JSON format of our output can be found [here](https://github.com/mikecafarella/mitaskem/blob/main/JSONformat.md)"
   ]
  },
  {
   "cell_type": "code",
   "execution_count": 5,
   "id": "03c86f4a",
   "metadata": {},
   "outputs": [],
   "source": [
    "import requests\n",
    "import ast\n",
    "API_ROOT = \"http://100.26.10.46/\"\n",
    "GPT_KEY = \"\""
   ]
  },
  {
   "cell_type": "code",
   "execution_count": 6,
   "id": "a0ece830",
   "metadata": {},
   "outputs": [
    {
     "name": "stdout",
     "output_type": "stream",
     "text": [
      "<Response [200]>\n"
     ]
    }
   ],
   "source": [
    "with open(\"sidarthe_short.txt\", \"r\") as f:\n",
    "        text = f.read()           \n",
    "        dct = {\"text\":text, \"gpt_key\":GPT_KEY}           \n",
    "        r = requests.post(API_ROOT + \"annotation/find_text_vars/\", params=dct)\n",
    "        print(r)"
   ]
  },
  {
   "cell_type": "code",
   "execution_count": 7,
   "id": "3ba791dc",
   "metadata": {},
   "outputs": [
    {
     "data": {
      "text/plain": [
       "[{'type': 'variable',\n",
       "  'name': 'S',\n",
       "  'id': 'v0',\n",
       "  'text_annotations': [' Susceptible (uninfected)'],\n",
       "  'dkg_annotations': [['ncit:C171133', 'COVID-19 Infection'],\n",
       "   ['ido:0000514', 'susceptible population']]},\n",
       " {'type': 'variable',\n",
       "  'name': 'I',\n",
       "  'id': 'v1',\n",
       "  'text_annotations': [' Infected (asymptomatic or pauci-symptomatic infected, undetected)'],\n",
       "  'dkg_annotations': [['ido:0000511', 'infected population'],\n",
       "   ['ncit:C171133', 'COVID-19 Infection']]},\n",
       " {'type': 'variable',\n",
       "  'name': 'D',\n",
       "  'id': 'v2',\n",
       "  'text_annotations': [' Diagnosed (asymptomatic infected, detected)'],\n",
       "  'dkg_annotations': [['ido:0000511', 'infected population'],\n",
       "   ['ncit:C171133', 'COVID-19 Infection']]},\n",
       " {'type': 'variable',\n",
       "  'name': 'A',\n",
       "  'id': 'v3',\n",
       "  'text_annotations': [' Ailing (symptomatic infected, undetected)'],\n",
       "  'dkg_annotations': [['ido:0000511', 'infected population'],\n",
       "   ['ncit:C171133', 'COVID-19 Infection']]},\n",
       " {'type': 'variable',\n",
       "  'name': 'R',\n",
       "  'id': 'v4',\n",
       "  'text_annotations': [' Recognized (symptomatic infected, detected)'],\n",
       "  'dkg_annotations': [['ncit:C171133', 'COVID-19 Infection'],\n",
       "   ['ncit:C28554', 'Dead']]},\n",
       " {'type': 'variable',\n",
       "  'name': 'T',\n",
       "  'id': 'v5',\n",
       "  'text_annotations': [' Threatened (infected with life-threatening symptoms, detected)'],\n",
       "  'dkg_annotations': [['ido:0000511', 'infected population'],\n",
       "   ['ncit:C171133', 'COVID-19 Infection']]},\n",
       " {'type': 'variable',\n",
       "  'name': 'H',\n",
       "  'id': 'v6',\n",
       "  'text_annotations': [' Healed (recovered)'],\n",
       "  'dkg_annotations': [['ncit:C171133', 'COVID-19 Infection'],\n",
       "   ['ncit:C28554', 'Dead']]},\n",
       " {'type': 'variable',\n",
       "  'name': 'E',\n",
       "  'id': 'v7',\n",
       "  'text_annotations': [' Extinct (dead)'],\n",
       "  'dkg_annotations': [['ido:0000511', 'infected population'],\n",
       "   ['ncit:C171133', 'COVID-19 Infection']]},\n",
       " {'type': 'variable',\n",
       "  'name': 'α',\n",
       "  'id': 'v8',\n",
       "  'text_annotations': [' Transmission rate (the probability of disease transmission in a single contact multiplied by the average number of contacts per person)'],\n",
       "  'dkg_annotations': []},\n",
       " {'type': 'variable',\n",
       "  'name': 'β',\n",
       "  'id': 'v9',\n",
       "  'text_annotations': [' Transmission rate (the probability of disease transmission in a single contact multiplied by the average number of contacts per person)'],\n",
       "  'dkg_annotations': [['doid:0080928', 'dialysis-related amyloidosis'],\n",
       "   ['vo:0005114', 'β-propiolactone-inactivated SARS-CoV vaccine']]},\n",
       " {'type': 'variable',\n",
       "  'name': 'γ',\n",
       "  'id': 'v10',\n",
       "  'text_annotations': [' Transmission rate (the probability of disease transmission in a single contact multiplied by the average number of contacts per person)'],\n",
       "  'dkg_annotations': [['askemo:0000013', 'recovery rate'],\n",
       "   ['vo:0004915', 'vaccine specific interferon-γ immune response']]},\n",
       " {'type': 'variable',\n",
       "  'name': 'δ',\n",
       "  'id': 'v11',\n",
       "  'text_annotations': [' Transmission rate (the probability of disease transmission in a single contact multiplied by the average number of contacts per person)ε'],\n",
       "  'dkg_annotations': [['askemo:0000011', 'progression rate'],\n",
       "   ['vo:0005123', 'VSVΔG-MERS vaccine']]},\n",
       " {'type': 'variable',\n",
       "  'name': 'θ',\n",
       "  'id': 'v12',\n",
       "  'text_annotations': [' probability rate of detection relative to symptomatic cases'],\n",
       "  'dkg_annotations': []},\n",
       " {'type': 'variable',\n",
       "  'name': 'ζ',\n",
       "  'id': 'v13',\n",
       "  'text_annotations': [' probability rate at which an infected subject not aware of being infected develops clinically relevant symptoms'],\n",
       "  'dkg_annotations': []},\n",
       " {'type': 'variable',\n",
       "  'name': 'η',\n",
       "  'id': 'v14',\n",
       "  'text_annotations': [' probability rate at which an infected subject aware of being infected develops clinically relevant symptomsμ'],\n",
       "  'dkg_annotations': []},\n",
       " {'type': 'variable',\n",
       "  'name': 'ν',\n",
       "  'id': 'v15',\n",
       "  'text_annotations': [' Rate at which detected infected subjects develop life-threatening symptoms'],\n",
       "  'dkg_annotations': []},\n",
       " {'type': 'variable',\n",
       "  'name': 'τ',\n",
       "  'id': 'v16',\n",
       "  'text_annotations': [' Mortality rate for infected subjects with life-threatening symptoms'],\n",
       "  'dkg_annotations': []},\n",
       " {'type': 'variable',\n",
       "  'name': 'λ',\n",
       "  'id': 'v17',\n",
       "  'text_annotations': [' Rate of recovery for infected subjects'],\n",
       "  'dkg_annotations': []},\n",
       " {'type': 'variable',\n",
       "  'name': 'κ',\n",
       "  'id': 'v18',\n",
       "  'text_annotations': [' Rate of recovery for infected subjects'],\n",
       "  'dkg_annotations': []},\n",
       " {'type': 'variable',\n",
       "  'name': 'ξ',\n",
       "  'id': 'v19',\n",
       "  'text_annotations': [' Rate of recovery for infected subjects'],\n",
       "  'dkg_annotations': []},\n",
       " {'type': 'variable',\n",
       "  'name': 'ρ',\n",
       "  'id': 'v20',\n",
       "  'text_annotations': [' Rate of recovery for infected subjects'],\n",
       "  'dkg_annotations': []},\n",
       " {'type': 'variable',\n",
       "  'name': 'σ',\n",
       "  'id': 'v21',\n",
       "  'text_annotations': [' Rate of recovery for infected subjectsNone'],\n",
       "  'dkg_annotations': []}]"
      ]
     },
     "execution_count": 7,
     "metadata": {},
     "output_type": "execute_result"
    }
   ],
   "source": [
    "json_str = r.text\n",
    "ast.literal_eval(json_str)"
   ]
  },
  {
   "cell_type": "code",
   "execution_count": 8,
   "id": "ca5f16a0",
   "metadata": {},
   "outputs": [],
   "source": [
    "with open(\"jan_demo_intermediate.json\", \"w+\") as f:\n",
    "    f.write(json_str)"
   ]
  },
  {
   "cell_type": "markdown",
   "id": "0a0cff9e",
   "metadata": {},
   "source": [
    "# 2. Extracting LaTeX from formula images"
   ]
  },
  {
   "cell_type": "markdown",
   "id": "5b2db99d",
   "metadata": {},
   "source": [
    "#### As we demoed last week, we can extract latex from formulas (powered by `pix2tex`), also through a public API. Here is a formula image from the SIDARTHE paper:"
   ]
  },
  {
   "cell_type": "code",
   "execution_count": 9,
   "id": "178fef00",
   "metadata": {},
   "outputs": [
    {
     "data": {
      "image/png": "[encoded data removed]",
      "text/plain": [
       "<IPython.core.display.Image object>"
      ]
     },
     "execution_count": 9,
     "metadata": {},
     "output_type": "execute_result"
    }
   ],
   "source": [
    "from IPython import display\n",
    "display.Image(\"sidarthe-eqn1.png\")"
   ]
  },
  {
   "cell_type": "code",
   "execution_count": 35,
   "id": "fe19aef6",
   "metadata": {},
   "outputs": [
    {
     "name": "stdout",
     "output_type": "stream",
     "text": [
      "['\"{\\\\dot{A}}(t)=\\\\zeta I(t)-(\\\\theta+\\\\mu+\\\\kappa)A(t)\"']\n",
      "['\"{\\\\dot{D}}(t)=\\\\varepsilon I(t)-(\\\\eta+\\\\rho)D(t)\"']\n",
      "['\"\\\\dot{\\\\bar{F}}(t)\\\\,\\\\longrightarrow\\\\,\\\\tau\\\\,T r(t)\"']\n",
      "['\"H(t)=i I(t)+\\\\theta b(t)+\\\\kappa d(t)+i R(t)+\\\\sigma T(t)\"']\n",
      "['\"\\\\scriptstyle I_{\\\\theta}=\\\\delta\\\\theta\\\\lbrack\\\\theta\\\\lbrack\\\\theta\\\\lbrack\\\\iota+\\\\iota\\\\theta\\\\rbrack+\\\\iota\\\\theta\\\\lbrack\\\\iota+\\\\iota\\\\theta\\\\rbrack)-\\\\lbrack\\\\theta+\\\\xi+\\\\iota\\\\lbrack\\\\iota\\\\rbrack\\\\iota\\\\eta\\\\rbrack\"']\n",
      "['\"R(t)=\\\\eta D(t)+\\\\theta A(t)-(\\\\nu+\\\\xi)R(t)\"']\n",
      "['\"\\\\delta(t)=-S(t)(a l(t)+\\\\theta D(t)+r A(t)+\\\\delta t(t)\"']\n",
      "['\"{\\\\hat{T}}(t)=\\\\mu A(t)+\\\\nu R(t)-(\\\\sigma+\\\\tau){\\\\hat{T}}(t)\"']\n"
     ]
    }
   ],
   "source": [
    "import os\n",
    "directory = '../../resources/images/SIDARTHE'\n",
    "latex_strs = []\n",
    " \n",
    "for filename in os.listdir(directory):\n",
    "    f = os.path.join(directory, filename)\n",
    "    latex_str = !python3 img_latex.py -p {f}\n",
    "    print(latex_str)\n",
    "    latex_strs.append(latex_str[0])"
   ]
  },
  {
   "cell_type": "markdown",
   "id": "7ebda8f5",
   "metadata": {},
   "source": [
    "#### Clearly, this is not perfect, but it is workable"
   ]
  },
  {
   "cell_type": "markdown",
   "id": "3ce441d7",
   "metadata": {},
   "source": [
    "# 3. Linking variables from the LaTeX formulas to variables from the text"
   ]
  },
  {
   "cell_type": "markdown",
   "id": "ff9b64e2",
   "metadata": {},
   "source": [
    "#### Again, the output JSON format can be found [here](https://github.com/mikecafarella/mitaskem/blob/main/JSONformat.md)"
   ]
  },
  {
   "cell_type": "code",
   "execution_count": 37,
   "id": "7a4298c7",
   "metadata": {},
   "outputs": [
    {
     "name": "stdout",
     "output_type": "stream",
     "text": [
      "\"{\\dot{A}}(t)=\\zeta I(t)-(\\theta+\\mu+\\kappa)A(t)\"\n",
      "<Response [200]>\n",
      "\"{\\dot{D}}(t)=\\varepsilon I(t)-(\\eta+\\rho)D(t)\"\n",
      "<Response [200]>\n",
      "\"\\dot{\\bar{F}}(t)\\,\\longrightarrow\\,\\tau\\,T r(t)\"\n",
      "<Response [200]>\n",
      "\"H(t)=i I(t)+\\theta b(t)+\\kappa d(t)+i R(t)+\\sigma T(t)\"\n",
      "<Response [200]>\n"
     ]
    }
   ],
   "source": [
    "full_json_str = json_str\n",
    "latex_strs = latex_strs[:4] # TODO: fix hex escaping issue\n",
    "for latex_str in latex_strs:\n",
    "    print(latex_str)\n",
    "    dct2 = {\"json_str\":full_json_str, \"formula\": latex_str, \"gpt_key\":GPT_KEY}           \n",
    "\n",
    "    r2 = requests.post(API_ROOT + \"annotation/link_latex_to_vars/\", params=dct2)\n",
    "    print(r2)\n",
    "    full_json_str = r2.text"
   ]
  },
  {
   "cell_type": "code",
   "execution_count": 38,
   "id": "e73e1876",
   "metadata": {},
   "outputs": [
    {
     "data": {
      "text/plain": [
       "[{'type': 'variable',\n",
       "  'name': 'S',\n",
       "  'id': 'v0',\n",
       "  'text_annotations': [' Susceptible (uninfected)'],\n",
       "  'dkg_annotations': [['ncit:C171133', 'COVID-19 Infection'],\n",
       "   ['ido:0000514', 'susceptible population']]},\n",
       " {'type': 'variable',\n",
       "  'name': 'I',\n",
       "  'id': 'v1',\n",
       "  'text_annotations': [' Infected (asymptomatic or pauci-symptomatic infected, undetected)'],\n",
       "  'dkg_annotations': [['ido:0000511', 'infected population'],\n",
       "   ['ncit:C171133', 'COVID-19 Infection']]},\n",
       " {'type': 'variable',\n",
       "  'name': 'D',\n",
       "  'id': 'v2',\n",
       "  'text_annotations': [' Diagnosed (asymptomatic infected, detected)'],\n",
       "  'dkg_annotations': [['ido:0000511', 'infected population'],\n",
       "   ['ncit:C171133', 'COVID-19 Infection']]},\n",
       " {'type': 'variable',\n",
       "  'name': 'A',\n",
       "  'id': 'v3',\n",
       "  'text_annotations': [' Ailing (symptomatic infected, undetected)'],\n",
       "  'dkg_annotations': [['ido:0000511', 'infected population'],\n",
       "   ['ncit:C171133', 'COVID-19 Infection']]},\n",
       " {'type': 'variable',\n",
       "  'name': 'R',\n",
       "  'id': 'v4',\n",
       "  'text_annotations': [' Recognized (symptomatic infected, detected)'],\n",
       "  'dkg_annotations': [['ncit:C171133', 'COVID-19 Infection'],\n",
       "   ['ncit:C28554', 'Dead']]},\n",
       " {'type': 'variable',\n",
       "  'name': 'T',\n",
       "  'id': 'v5',\n",
       "  'text_annotations': [' Threatened (infected with life-threatening symptoms, detected)'],\n",
       "  'dkg_annotations': [['ido:0000511', 'infected population'],\n",
       "   ['ncit:C171133', 'COVID-19 Infection']]},\n",
       " {'type': 'variable',\n",
       "  'name': 'H',\n",
       "  'id': 'v6',\n",
       "  'text_annotations': [' Healed (recovered)'],\n",
       "  'dkg_annotations': [['ncit:C171133', 'COVID-19 Infection'],\n",
       "   ['ncit:C28554', 'Dead']]},\n",
       " {'type': 'variable',\n",
       "  'name': 'E',\n",
       "  'id': 'v7',\n",
       "  'text_annotations': [' Extinct (dead)'],\n",
       "  'dkg_annotations': [['ido:0000511', 'infected population'],\n",
       "   ['ncit:C171133', 'COVID-19 Infection']]},\n",
       " {'type': 'variable',\n",
       "  'name': 'α',\n",
       "  'id': 'v8',\n",
       "  'text_annotations': [' Transmission rate (the probability of disease transmission in a single contact multiplied by the average number of contacts per person)'],\n",
       "  'dkg_annotations': []},\n",
       " {'type': 'variable',\n",
       "  'name': 'β',\n",
       "  'id': 'v9',\n",
       "  'text_annotations': [' Transmission rate (the probability of disease transmission in a single contact multiplied by the average number of contacts per person)'],\n",
       "  'dkg_annotations': [['doid:0080928', 'dialysis-related amyloidosis'],\n",
       "   ['vo:0005114', 'β-propiolactone-inactivated SARS-CoV vaccine']]},\n",
       " {'type': 'variable',\n",
       "  'name': 'γ',\n",
       "  'id': 'v10',\n",
       "  'text_annotations': [' Transmission rate (the probability of disease transmission in a single contact multiplied by the average number of contacts per person)'],\n",
       "  'dkg_annotations': [['askemo:0000013', 'recovery rate'],\n",
       "   ['vo:0004915', 'vaccine specific interferon-γ immune response']]},\n",
       " {'type': 'variable',\n",
       "  'name': 'δ',\n",
       "  'id': 'v11',\n",
       "  'text_annotations': [' Transmission rate (the probability of disease transmission in a single contact multiplied by the average number of contacts per person)ε'],\n",
       "  'dkg_annotations': [['askemo:0000011', 'progression rate'],\n",
       "   ['vo:0005123', 'VSVΔG-MERS vaccine']]},\n",
       " {'type': 'variable',\n",
       "  'name': 'θ',\n",
       "  'id': 'v12',\n",
       "  'text_annotations': [' probability rate of detection relative to symptomatic cases'],\n",
       "  'dkg_annotations': []},\n",
       " {'type': 'variable',\n",
       "  'name': 'ζ',\n",
       "  'id': 'v13',\n",
       "  'text_annotations': [' probability rate at which an infected subject not aware of being infected develops clinically relevant symptoms'],\n",
       "  'dkg_annotations': []},\n",
       " {'type': 'variable',\n",
       "  'name': 'η',\n",
       "  'id': 'v14',\n",
       "  'text_annotations': [' probability rate at which an infected subject aware of being infected develops clinically relevant symptomsμ'],\n",
       "  'dkg_annotations': []},\n",
       " {'type': 'variable',\n",
       "  'name': 'ν',\n",
       "  'id': 'v15',\n",
       "  'text_annotations': [' Rate at which detected infected subjects develop life-threatening symptoms'],\n",
       "  'dkg_annotations': []},\n",
       " {'type': 'variable',\n",
       "  'name': 'τ',\n",
       "  'id': 'v16',\n",
       "  'text_annotations': [' Mortality rate for infected subjects with life-threatening symptoms'],\n",
       "  'dkg_annotations': []},\n",
       " {'type': 'variable',\n",
       "  'name': 'λ',\n",
       "  'id': 'v17',\n",
       "  'text_annotations': [' Rate of recovery for infected subjects'],\n",
       "  'dkg_annotations': []},\n",
       " {'type': 'variable',\n",
       "  'name': 'κ',\n",
       "  'id': 'v18',\n",
       "  'text_annotations': [' Rate of recovery for infected subjects'],\n",
       "  'dkg_annotations': []},\n",
       " {'type': 'variable',\n",
       "  'name': 'ξ',\n",
       "  'id': 'v19',\n",
       "  'text_annotations': [' Rate of recovery for infected subjects'],\n",
       "  'dkg_annotations': []},\n",
       " {'type': 'variable',\n",
       "  'name': 'ρ',\n",
       "  'id': 'v20',\n",
       "  'text_annotations': [' Rate of recovery for infected subjects'],\n",
       "  'dkg_annotations': []},\n",
       " {'type': 'variable',\n",
       "  'name': 'σ',\n",
       "  'id': 'v21',\n",
       "  'text_annotations': [' Rate of recovery for infected subjectsNone'],\n",
       "  'dkg_annotations': []},\n",
       " {'type': 'equation',\n",
       "  'latex': '{\\\\dot{A}}(t)=\\\\zeta I(t)-(\\theta+\\\\mu+\\\\kappa)A(t)',\n",
       "  'id': 'e14396747049802895438',\n",
       "  'matches': {'A': ['v0', 'v3'],\n",
       "   't': ['v16', 'v12'],\n",
       "   'ζ': ['v13', 'v16'],\n",
       "   'I': ['v1', 'v16'],\n",
       "   'θ': ['v12', 'v16'],\n",
       "   'μ': ['v14', 'v15'],\n",
       "   'κ': ['v18', 'v19']}},\n",
       " {'type': 'equation',\n",
       "  'latex': '{\\\\dot{D}}(t)=\\x0barepsilon I(t)-(\\\\eta+\\rho)D(t)',\n",
       "  'id': 'e4993022168523338793',\n",
       "  'matches': {'D': ['v0', 'v2'],\n",
       "   't': ['v16', 'v12'],\n",
       "   'ε': ['v12', 'v14'],\n",
       "   'I': ['v1', 'v16'],\n",
       "   'η': ['v14', 'v16'],\n",
       "   'ρ': ['v20', 'v19']}},\n",
       " {'type': 'equation',\n",
       "  'latex': '\\\\dot{\\x08ar{F}}(t)\\\\,\\\\longrightarrow\\\\,\\tau\\\\,T r(t)',\n",
       "  'id': 'e10864653498552695242',\n",
       "  'matches': {' \\\\dot{\\x08ar{F}}': ['v15', 'v16'],\n",
       "   't': ['v16', 'v12'],\n",
       "   '\\tau': ['v16', 'v15'],\n",
       "   'T': ['v16', 'v12'],\n",
       "   'r': ['v4', 'v20']}},\n",
       " {'type': 'equation',\n",
       "  'latex': 'H(t)=i I(t)+\\theta b(t)+\\\\kappa d(t)+i R(t)+\\\\sigma T(t)',\n",
       "  'id': 'e5108740756805852721',\n",
       "  'matches': {'H(t)': ['v6'],\n",
       "   'I(t)': ['v1'],\n",
       "   'b(t)': ['v9', 'v16'],\n",
       "   'd(t)': ['v16', 'v11'],\n",
       "   'R(t)': ['v4', 'v16'],\n",
       "   'T(t)': ['v16', 'v5'],\n",
       "   'i': ['v1', 'v8'],\n",
       "   'θ': ['v12', 'v16'],\n",
       "   'κ': ['v18', 'v19'],\n",
       "   'σ': ['v21', 'v19']}}]"
      ]
     },
     "execution_count": 38,
     "metadata": {},
     "output_type": "execute_result"
    }
   ],
   "source": [
    "ast.literal_eval(full_json_str)"
   ]
  },
  {
   "cell_type": "code",
   "execution_count": 39,
   "id": "aa5ace75",
   "metadata": {},
   "outputs": [],
   "source": [
    "with open(\"jan_demo_full.json\", \"w+\") as f:\n",
    "    f.write(full_json_str)"
   ]
  }
 ],
 "metadata": {
  "kernelspec": {
   "display_name": "Python 3 (ipykernel)",
   "language": "python",
   "name": "python3"
  },
  "language_info": {
   "codemirror_mode": {
    "name": "ipython",
    "version": 3
   },
   "file_extension": ".py",
   "mimetype": "text/x-python",
   "name": "python",
   "nbconvert_exporter": "python",
   "pygments_lexer": "ipython3",
   "version": "3.10.6"
  }
 },
 "nbformat": 4,
 "nbformat_minor": 5
}
