{
 "cells": [
  {
   "cell_type": "markdown",
   "id": "26243802",
   "metadata": {},
   "source": [
    "# 0. Preprocessing"
   ]
  },
  {
   "cell_type": "markdown",
   "id": "54a714c5",
   "metadata": {},
   "source": [
    "#### Starting with an XDD Query, we obtain PDF ids and eventually the PDFs themselves. We can then run COSMOS to extract outputs like this:\n",
    "    "
   ]
  },
  {
   "cell_type": "code",
   "execution_count": 9,
   "id": "ea353517",
   "metadata": {},
   "outputs": [
    {
     "name": "stdout",
     "output_type": "stream",
     "text": [
      "[     {         \"pdf_name\": \"41591_2020_Article_883.pdf\",         \"dataset_id\": \"documents_5Feb\",         \"page_num\": 1,         \"img_pth\": \"/mytmp/images/41591_2020_Article_883.pdf_1_pad\",         \"pdf_dims\": [             0.0,             0.0,             612.0,             792.0         ],         \"bounding_box\": [             103.0,             51.0,             1341.0,             212.0         ],         \"classes\": [             \"Section Header\",             \"Page Footer\",             \"Fig\n"
     ]
    }
   ],
   "source": [
    "with open(\"documents_sidarthe--COSMOS-data.json\", \"r\") as f:\n",
    "    text = f.read()\n",
    "    print(text.replace('\\n', ' ')[:500])"
   ]
  },
  {
   "cell_type": "markdown",
   "id": "3e96d3f0",
   "metadata": {},
   "source": [
    "#### We can consolidate just the \"content\" fields to get just the text of the paper"
   ]
  },
  {
   "cell_type": "code",
   "execution_count": 10,
   "id": "722a1d4d",
   "metadata": {},
   "outputs": [
    {
     "name": "stdout",
     "output_type": "stream",
     "text": [
      " Modelling the COVID-19 epidemic and implementation of population-wide Modelling the COVID-19 epidemic and implementation of population-wide interventions in Italy Giulia Giordano 1 ✉, Franco Blanchini2, Raffaele Bruno3,4, Patrizio Colaneri5,6, Alessandro Di Filippo3, Angela Di Matteo3 and Marta Colaneri3 In Italy, 128,948 confirmed cases and 15,887 deaths of peo- discharged due to recovery and 15,887 had died7. In the early days of ple  who  tested  positive  for  SARS-CoV-2  were  registered  \n"
     ]
    }
   ],
   "source": [
    "# We have a straightforward script for this but let's look at the output directly\n",
    "with open(\"sidarthe.txt\", \"r\") as f:\n",
    "    text = f.read()\n",
    "    print(text.replace('\\n', ' ')[:500])"
   ]
  },
  {
   "cell_type": "markdown",
   "source": [
    "#### From the COSMOS output, we can also keep metadata like the paper name and doi for later"
   ],
   "metadata": {
    "collapsed": false,
    "pycharm": {
     "name": "#%% md\n"
    }
   }
  },
  {
   "cell_type": "code",
   "execution_count": null,
   "outputs": [],
   "source": [
    "import json\n",
    "with open(\"sidarthe_info.json\", \"r\") as f:\n",
    "    info = json.load(f)\n",
    "    info_s = json.dumps(info)\n",
    "    print(info_s)"
   ],
   "metadata": {
    "collapsed": false,
    "pycharm": {
     "name": "#%%\n"
    }
   }
  },
  {
   "cell_type": "markdown",
   "source": [
    "# 1. Extracting variables and annotating them"
   ],
   "metadata": {
    "collapsed": false,
    "pycharm": {
     "name": "#%% md\n"
    }
   }
  },
  {
   "cell_type": "markdown",
   "source": [
    "#### Using our API (powered by GPT-3), we can extract variables from the paper alongside a list of possible definitions, and ground each of these variables to the MIRA DKG. The JSON format of our output can be found [here](https://github.com/mikecafarella/mitaskem/blob/main/JSONformat.md)"
   ],
   "metadata": {
    "collapsed": false,
    "pycharm": {
     "name": "#%% md\n"
    }
   }
  },
  {
   "cell_type": "code",
   "execution_count": null,
   "outputs": [],
   "source": [
    "import requests\n",
    "import ast\n",
    "API_ROOT = \"http://100.26.10.46/\"\n",
    "GPT_KEY = \"\""
   ],
   "metadata": {
    "collapsed": false,
    "pycharm": {
     "name": "#%%\n"
    }
   }
  },
  {
   "cell_type": "code",
   "execution_count": null,
   "outputs": [],
   "source": [
    "with open(\"sidarthe_short.txt\", \"r\") as f:\n",
    "        text = f.read()           \n",
    "        dct = {\"text\":text, \"gpt_key\":GPT_KEY}           \n",
    "        r = requests.post(API_ROOT + \"annotation/find_text_vars/\", params=dct)\n",
    "        print(r)"
   ],
   "metadata": {
    "collapsed": false,
    "pycharm": {
     "name": "#%%\n"
    }
   }
  },
  {
   "cell_type": "code",
   "execution_count": null,
   "outputs": [],
   "source": [
    "json_str = r.text\n",
    "ast.literal_eval(json_str)"
   ],
   "metadata": {
    "collapsed": false,
    "pycharm": {
     "name": "#%%\n"
    }
   }
  },
  {
   "cell_type": "code",
   "execution_count": null,
   "outputs": [],
   "source": [
    "with open(\"jan_demo_intermediate.json\", \"w+\") as f:\n",
    "    f.write(json_str)"
   ],
   "metadata": {
    "collapsed": false,
    "pycharm": {
     "name": "#%%\n"
    }
   }
  },
  {
   "cell_type": "markdown",
   "source": [
    "# 2. Extracting LaTeX from formula images"
   ],
   "metadata": {
    "collapsed": false,
    "pycharm": {
     "name": "#%% md\n"
    }
   }
  },
  {
   "cell_type": "markdown",
   "source": [
    "#### As we demoed last week, we can extract latex from formulas (powered by `pix2tex`), also through a public API. Here is a formula image from the SIDARTHE paper:"
   ],
   "metadata": {
    "collapsed": false,
    "pycharm": {
     "name": "#%% md\n"
    }
   }
  },
  {
   "cell_type": "code",
   "execution_count": null,
   "outputs": [],
   "source": [
    "from IPython import display\n",
    "display.Image(\"sidarthe-eqn1.png\")"
   ],
   "metadata": {
    "collapsed": false,
    "pycharm": {
     "name": "#%%\n"
    }
   }
  },
  {
   "cell_type": "code",
   "execution_count": null,
   "outputs": [],
   "source": [
    "import os\n",
    "directory = '../../resources/images/SIDARTHE'\n",
    "latex_strs = []\n",
    " \n",
    "for filename in os.listdir(directory):\n",
    "    f = os.path.join(directory, filename)\n",
    "    latex_str = !python3 img_latex.py -p {f}\n",
    "    print(latex_str)\n",
    "    latex_strs.append(latex_str[0])"
   ],
   "metadata": {
    "collapsed": false,
    "pycharm": {
     "name": "#%%\n"
    }
   }
  },
  {
   "cell_type": "markdown",
   "source": [
    "#### Clearly, this is not perfect, but it is workable"
   ],
   "metadata": {
    "collapsed": false,
    "pycharm": {
     "name": "#%% md\n"
    }
   }
  },
  {
   "cell_type": "markdown",
   "source": [
    "# 3. Linking variables from the LaTeX formulas to variables from the text"
   ],
   "metadata": {
    "collapsed": false,
    "pycharm": {
     "name": "#%% md\n"
    }
   }
  },
  {
   "cell_type": "markdown",
   "source": [
    "#### Again, the output JSON format can be found [here](https://github.com/mikecafarella/mitaskem/blob/main/JSONformat.md)"
   ],
   "metadata": {
    "collapsed": false,
    "pycharm": {
     "name": "#%% md\n"
    }
   }
  },
  {
   "cell_type": "code",
   "execution_count": null,
   "outputs": [],
   "source": [
    "full_json_str = json_str\n",
    "latex_strs = latex_strs \n",
    "for latex_str in latex_strs:\n",
    "    print(latex_str)\n",
    "    dct2 = {\"json_str\":full_json_str, \"formula\": latex_str, \"gpt_key\":GPT_KEY}           \n",
    "\n",
    "    r2 = requests.post(API_ROOT + \"annotation/link_latex_to_vars/\", params=dct2)\n",
    "    print(r2)\n",
    "    full_json_str = r2.text"
   ],
   "metadata": {
    "collapsed": false,
    "pycharm": {
     "name": "#%%\n"
    }
   }
  },
  {
   "cell_type": "code",
   "execution_count": null,
   "outputs": [],
   "source": [
    "ast.literal_eval(full_json_str)"
   ],
   "metadata": {
    "collapsed": false,
    "pycharm": {
     "name": "#%%\n"
    }
   }
  },
  {
   "cell_type": "code",
   "execution_count": null,
   "outputs": [],
   "source": [
    "with open(\"jan_demo_full.json\", \"w+\") as f:\n",
    "    f.write(full_json_str)"
   ],
   "metadata": {
    "collapsed": false,
    "pycharm": {
     "name": "#%%\n"
    }
   }
  },
  {
   "cell_type": "markdown",
   "source": [
    "# 4. Getting a Petri net (as a pyascet) from code "
   ],
   "metadata": {
    "collapsed": false,
    "pycharm": {
     "name": "#%% md\n"
    }
   }
  },
  {
   "cell_type": "markdown",
   "source": [
    "#### We have the python function that describes the SIDARTHE dynamics:"
   ],
   "metadata": {
    "collapsed": false,
    "pycharm": {
     "name": "#%% md\n"
    }
   }
  },
  {
   "cell_type": "code",
   "execution_count": null,
   "outputs": [],
   "source": [
    "with open(\"../../resources/jan_evaluation/scenario_2_sidarthe/sidarthe_code.py\", \"r\") as f:\n",
    "    code = f.read()\n",
    "print(code)"
   ],
   "metadata": {
    "collapsed": false,
    "pycharm": {
     "name": "#%%\n"
    }
   }
  },
  {
   "cell_type": "markdown",
   "source": [
    "#### We can use the (new, correctly named version of the) MIT APIs presented last week to get Petri net components from this graph"
   ],
   "metadata": {
    "collapsed": false,
    "pycharm": {
     "name": "#%% md\n"
    }
   }
  },
  {
   "cell_type": "code",
   "execution_count": null,
   "outputs": [],
   "source": [
    "dict_petri = {\"code\": code, \"gpt_key\": GPT_KEY}\n",
    "places = requests.post(API_ROOT + \"petri/get_places\", params=dict_petri).text\n",
    "print(places)"
   ],
   "metadata": {
    "collapsed": false,
    "pycharm": {
     "name": "#%%\n"
    }
   }
  },
  {
   "cell_type": "code",
   "execution_count": null,
   "outputs": [],
   "source": [
    "transitions = requests.post(API_ROOT + \"petri/get_transitions\", params=dict_petri).text\n",
    "print(transitions)"
   ],
   "metadata": {
    "collapsed": false,
    "pycharm": {
     "name": "#%%\n"
    }
   }
  },
  {
   "cell_type": "code",
   "execution_count": null,
   "outputs": [],
   "source": [
    "arcs = requests.post(API_ROOT + \"petri/get_arcs\", params=dict_petri).text\n",
    "print(arcs)"
   ],
   "metadata": {
    "collapsed": false,
    "pycharm": {
     "name": "#%%\n"
    }
   }
  },
  {
   "cell_type": "markdown",
   "source": [
    "#### We can then convert these outputs into a py-acset"
   ],
   "metadata": {
    "collapsed": false,
    "pycharm": {
     "name": "#%% md\n"
    }
   }
  },
  {
   "cell_type": "code",
   "execution_count": null,
   "outputs": [],
   "source": [
    "dict_acset = {\"places_str\": places, \"transitions_str\": transitions, \"arcs_str\": arcs}\n",
    "\n",
    "acset = requests.post(API_ROOT + \"petri/get_pyacset\", params=dict_acset).text\n",
    "\n",
    "pyacset_s = acset\n",
    "print(acset)"
   ],
   "metadata": {
    "collapsed": false,
    "pycharm": {
     "name": "#%%\n"
    }
   }
  },
  {
   "cell_type": "code",
   "execution_count": null,
   "outputs": [],
   "source": [
    "ast.literal_eval(pyacset_s)"
   ],
   "metadata": {
    "collapsed": false,
    "pycharm": {
     "name": "#%%\n"
    }
   }
  },
  {
   "cell_type": "markdown",
   "source": [
    "# 5. Linking the annotations to the py-acset and paper info"
   ],
   "metadata": {
    "collapsed": false,
    "pycharm": {
     "name": "#%% md\n"
    }
   }
  },
  {
   "cell_type": "markdown",
   "source": [
    "#### Finally, we bring everything together: the annotations from earlier, the pyacset and the info from the paper from the very beginning"
   ],
   "metadata": {
    "collapsed": false,
    "pycharm": {
     "name": "#%% md\n"
    }
   }
  },
  {
   "cell_type": "code",
   "execution_count": null,
   "outputs": [],
   "source": [
    "dct3 = {\"pyacset_str\":pyacset_s, \"annotations_str\":full_json_str, \"info_str\":info_s}           \n",
    "r3 = requests.post(API_ROOT + \"annotation/link_annos_to_pyacset/\", params=dct3)\n",
    "print(r3)"
   ],
   "metadata": {
    "collapsed": false,
    "pycharm": {
     "name": "#%%\n"
    }
   }
  },
  {
   "cell_type": "code",
   "execution_count": null,
   "outputs": [],
   "source": [
    "ast.literal_eval(r3.text)"
   ],
   "metadata": {
    "collapsed": false,
    "pycharm": {
     "name": "#%%\n"
    }
   }
  },
  {
   "cell_type": "markdown",
   "source": [
    "#### Data in this format is ingestible by TA4!"
   ],
   "metadata": {
    "collapsed": false,
    "pycharm": {
     "name": "#%% md\n"
    }
   }
  },
  {
   "cell_type": "code",
   "execution_count": 44,
   "id": "aa5ace75",
   "metadata": {},
   "outputs": [],
   "source": [
    "with open(\"jan_demo_full.json\", \"w+\") as f:\n",
    "    f.write(full_json_str)"
   ]
  },
  {
   "cell_type": "markdown",
   "id": "cf625db7",
   "metadata": {},
   "source": [
    "# 4. Getting a Petri net (as a pyascet) from code "
   ]
  },
  {
   "cell_type": "markdown",
   "id": "142102e4",
   "metadata": {},
   "source": [
    "#### We have the python function that describes the SIDARTHE dynamics:"
   ]
  },
  {
   "cell_type": "code",
   "execution_count": 66,
   "id": "6b25c5cc",
   "metadata": {},
   "outputs": [
    {
     "name": "stdout",
     "output_type": "stream",
     "text": [
      "# define SIDARTHE_model\n",
      "def SIDARTHE_model(y, t, alpha, beta, gamma, delta, epsilon, mu, zeta, lamda, eta, rho, theta, kappa, nu, xi, sigma, tau):\n",
      "    S, I, D, A, R, T, H, E = y\n",
      "    dSdt = -S*(alpha(t)*I + beta(t)*D + gamma(t)*A + delta(t)*R)\n",
      "    dIdt = S*(alpha(t)*I + beta(t)*D + gamma(t)*A + delta(t)*R) - (epsilon(t) + zeta(t) + lamda(t))*I\n",
      "    dDdt = epsilon(t)*I - (eta(t) + rho(t))*D\n",
      "    dAdt = zeta(t)*I - (theta(t) + mu(t) + kappa(t))*A\n",
      "    dRdt = eta(t)*D + theta(t)*A - (nu(t) + xi(t))*R\n",
      "    dTdt = mu(t)*A + nu(t)*R - (sigma(t) + tau(t))*T\n",
      "    dHdt = lamda(t)*I + rho(t)*D + kappa(t)*A + xi(t)*R + sigma(t)*T\n",
      "    dEdt = tau(t)*T\n",
      "    \n",
      "    return dSdt, dIdt, dDdt, dAdt, dRdt, dTdt, dHdt, dEdt\n"
     ]
    }
   ],
   "source": [
    "with open(\"../../resources/jan_evaluation/scenario_2_sidarthe/sidarthe_code.py\", \"r\") as f:\n",
    "    code = f.read()\n",
    "print(code)"
   ]
  },
  {
   "cell_type": "markdown",
   "id": "e6da2b6a",
   "metadata": {},
   "source": [
    "#### We can use the (new, correctly named version of the) MIT APIs presented last week to get Petri net components from this graph"
   ]
  },
  {
   "cell_type": "code",
   "execution_count": 67,
   "id": "78e1943c",
   "metadata": {},
   "outputs": [
    {
     "name": "stdout",
     "output_type": "stream",
     "text": [
      "[\"S\",\" I\",\" D\",\" A\",\" R\",\" T\",\" H\",\" E\"]\n"
     ]
    }
   ],
   "source": [
    "dict_petri = {\"code\": code, \"gpt_key\": GPT_KEY}\n",
    "places = requests.post(API_ROOT + \"petri/get_places\", params=dict_petri).text\n",
    "print(places)"
   ]
  },
  {
   "cell_type": "code",
   "execution_count": 68,
   "id": "63508d18",
   "metadata": {},
   "outputs": [
    {
     "name": "stdout",
     "output_type": "stream",
     "text": [
      "[\"alpha\",\" beta\",\" gamma\",\" delta\",\" epsilon\",\" mu\",\" zeta\",\" lamda\",\" eta\",\" rho\",\" theta\",\" kappa\",\" nu\",\" xi\",\" sigma\",\" tau\"]\n"
     ]
    }
   ],
   "source": [
    "transitions = requests.post(API_ROOT + \"petri/get_transitions\", params=dict_petri).text\n",
    "print(transitions)"
   ]
  },
  {
   "cell_type": "code",
   "execution_count": 69,
   "id": "b4c04d56",
   "metadata": {},
   "outputs": [
    {
     "name": "stdout",
     "output_type": "stream",
     "text": [
      "[[\"S\",\" I\"],[\"I\",\" D\"],[\"I\",\" A\"],[\"I\",\" R\"],[\"D\",\" E\"],[\"A\",\" R\"],[\"A\",\" T\"],[\"R\",\" H\"],[\"T\",\" H\"],[\"I\",\" H\"],[\"D\",\" H\"],[\"A\",\" H\"],[\"R\",\" H\"],[\"T\",\" E\"]]\n"
     ]
    }
   ],
   "source": [
    "arcs = requests.post(API_ROOT + \"petri/get_arcs\", params=dict_petri).text\n",
    "print(arcs)"
   ]
  },
  {
   "cell_type": "markdown",
   "id": "c3b50d1a",
   "metadata": {},
   "source": [
    "#### We can then convert these outputs into a py-acset"
   ]
  },
  {
   "cell_type": "code",
   "execution_count": 91,
   "id": "b97374d5",
   "metadata": {},
   "outputs": [
    {
     "name": "stdout",
     "output_type": "stream",
     "text": [
      "{\"S\":[{\"sname\":\"S\",\"uid\":1},{\"sname\":\"I\",\"uid\":2},{\"sname\":\"D\",\"uid\":3},{\"sname\":\"A\",\"uid\":4},{\"sname\":\"R\",\"uid\":5},{\"sname\":\"T\",\"uid\":6},{\"sname\":\"H\",\"uid\":7},{\"sname\":\"E\",\"uid\":8}],\"T\":[{\"tname\":\"alpha\",\"uid\":10},{\"tname\":\" beta\",\"uid\":11},{\"tname\":\" gamma\",\"uid\":12},{\"tname\":\" delta\",\"uid\":13},{\"tname\":\" epsilon\",\"uid\":14},{\"tname\":\" mu\",\"uid\":15},{\"tname\":\" zeta\",\"uid\":16},{\"tname\":\" lamda\",\"uid\":17},{\"tname\":\" eta\",\"uid\":18},{\"tname\":\" rho\",\"uid\":19},{\"tname\":\" theta\",\"uid\":20},{\"tname\":\" kappa\",\"uid\":21},{\"tname\":\" nu\",\"uid\":22},{\"tname\":\" xi\",\"uid\":23},{\"tname\":\" sigma\",\"uid\":24},{\"tname\":\" tau\",\"uid\":25}],\"I\":[{\"it\":1,\"is\":1},{\"it\":2,\"is\":2},{\"it\":3,\"is\":2},{\"it\":4,\"is\":2},{\"it\":5,\"is\":3},{\"it\":6,\"is\":4},{\"it\":7,\"is\":4},{\"it\":8,\"is\":5},{\"it\":9,\"is\":6},{\"it\":10,\"is\":2},{\"it\":11,\"is\":3},{\"it\":12,\"is\":4},{\"it\":13,\"is\":5},{\"it\":14,\"is\":6}],\"O\":[{\"ot\":1,\"os\":2},{\"ot\":2,\"os\":3},{\"ot\":3,\"os\":4},{\"ot\":4,\"os\":5},{\"ot\":5,\"os\":8},{\"ot\":6,\"os\":5},{\"ot\":7,\"os\":6},{\"ot\":8,\"os\":7},{\"ot\":9,\"os\":7},{\"ot\":10,\"os\":7},{\"ot\":11,\"os\":7},{\"ot\":12,\"os\":7},{\"ot\":13,\"os\":7},{\"ot\":14,\"os\":8}]}\n"
     ]
    }
   ],
   "source": [
    "dict_acset = {\"places_str\": places, \"transitions_str\": transitions, \"arcs_str\": arcs}\n",
    "\n",
    "acset = requests.post(API_ROOT + \"petri/get_pyacset\", params=dict_acset).text\n",
    "\n",
    "pyacset_s = acset\n",
    "print(acset)"
   ]
  },
  {
   "cell_type": "code",
   "execution_count": 92,
   "id": "76d9e474",
   "metadata": {},
   "outputs": [
    {
     "data": {
      "text/plain": [
       "{'S': [{'sname': 'S', 'uid': 1},\n",
       "  {'sname': 'I', 'uid': 2},\n",
       "  {'sname': 'D', 'uid': 3},\n",
       "  {'sname': 'A', 'uid': 4},\n",
       "  {'sname': 'R', 'uid': 5},\n",
       "  {'sname': 'T', 'uid': 6},\n",
       "  {'sname': 'H', 'uid': 7},\n",
       "  {'sname': 'E', 'uid': 8}],\n",
       " 'T': [{'tname': 'alpha', 'uid': 10},\n",
       "  {'tname': ' beta', 'uid': 11},\n",
       "  {'tname': ' gamma', 'uid': 12},\n",
       "  {'tname': ' delta', 'uid': 13},\n",
       "  {'tname': ' epsilon', 'uid': 14},\n",
       "  {'tname': ' mu', 'uid': 15},\n",
       "  {'tname': ' zeta', 'uid': 16},\n",
       "  {'tname': ' lamda', 'uid': 17},\n",
       "  {'tname': ' eta', 'uid': 18},\n",
       "  {'tname': ' rho', 'uid': 19},\n",
       "  {'tname': ' theta', 'uid': 20},\n",
       "  {'tname': ' kappa', 'uid': 21},\n",
       "  {'tname': ' nu', 'uid': 22},\n",
       "  {'tname': ' xi', 'uid': 23},\n",
       "  {'tname': ' sigma', 'uid': 24},\n",
       "  {'tname': ' tau', 'uid': 25}],\n",
       " 'I': [{'it': 1, 'is': 1},\n",
       "  {'it': 2, 'is': 2},\n",
       "  {'it': 3, 'is': 2},\n",
       "  {'it': 4, 'is': 2},\n",
       "  {'it': 5, 'is': 3},\n",
       "  {'it': 6, 'is': 4},\n",
       "  {'it': 7, 'is': 4},\n",
       "  {'it': 8, 'is': 5},\n",
       "  {'it': 9, 'is': 6},\n",
       "  {'it': 10, 'is': 2},\n",
       "  {'it': 11, 'is': 3},\n",
       "  {'it': 12, 'is': 4},\n",
       "  {'it': 13, 'is': 5},\n",
       "  {'it': 14, 'is': 6}],\n",
       " 'O': [{'ot': 1, 'os': 2},\n",
       "  {'ot': 2, 'os': 3},\n",
       "  {'ot': 3, 'os': 4},\n",
       "  {'ot': 4, 'os': 5},\n",
       "  {'ot': 5, 'os': 8},\n",
       "  {'ot': 6, 'os': 5},\n",
       "  {'ot': 7, 'os': 6},\n",
       "  {'ot': 8, 'os': 7},\n",
       "  {'ot': 9, 'os': 7},\n",
       "  {'ot': 10, 'os': 7},\n",
       "  {'ot': 11, 'os': 7},\n",
       "  {'ot': 12, 'os': 7},\n",
       "  {'ot': 13, 'os': 7},\n",
       "  {'ot': 14, 'os': 8}]}"
      ]
     },
     "execution_count": 92,
     "metadata": {},
     "output_type": "execute_result"
    }
   ],
   "source": [
    "ast.literal_eval(pyacset_s)"
   ]
  },
  {
   "cell_type": "markdown",
   "id": "9c6bbd15",
   "metadata": {},
   "source": [
    "# 5. Linking the annotations to the py-acset and paper info"
   ]
  },
  {
   "cell_type": "markdown",
   "id": "57010a07",
   "metadata": {},
   "source": [
    "#### Finally, we bring everything together: the annotations from earlier, the pyacset and the info from the paper from the very beginning"
   ]
  },
  {
   "cell_type": "code",
   "execution_count": 93,
   "id": "c15a74af",
   "metadata": {},
   "outputs": [
    {
     "name": "stdout",
     "output_type": "stream",
     "text": [
      "<Response [200]>\n"
     ]
    }
   ],
   "source": [
    "dct3 = {\"pyacset_str\":pyacset_s, \"annotations_str\":full_json_str, \"info_str\":info_s}           \n",
    "r3 = requests.post(API_ROOT + \"annotation/link_annos_to_pyacset/\", params=dct3)\n",
    "print(r3)"
   ]
  },
  {
   "cell_type": "code",
   "execution_count": 94,
   "id": "b2cdbe27",
   "metadata": {},
   "outputs": [
    {
     "data": {
      "text/plain": [
       "{'1': {'type': 'variable',\n",
       "  'name': 'S',\n",
       "  'id': 'v0',\n",
       "  'text_annotations': [' Susceptible (uninfected)'],\n",
       "  'dkg_annotations': [['ncit:C171133', 'COVID-19 Infection'],\n",
       "   ['ido:0000514', 'susceptible population']],\n",
       "  'equation_annotations': {'\\\\delta(t)=-S(t)(a l(t)+\\\\theta D(t)+r A(t)+\\\\delta t(t)': ['S']},\n",
       "  'file': '41591_2020_Article_883.pdf',\n",
       "  'doi': 'https://doi.org/10.1038/s41591-020-0883-7'},\n",
       " '2': {'type': 'variable',\n",
       "  'name': 'I',\n",
       "  'id': 'v1',\n",
       "  'text_annotations': [' Infected (asymptomatic or pauci-symptomatic infected, undetected)'],\n",
       "  'dkg_annotations': [['ido:0000511', 'infected population'],\n",
       "   ['ncit:C171133', 'COVID-19 Infection']],\n",
       "  'equation_annotations': {'{\\\\dot{A}}(t)=\\\\zeta I(t)-(\\\\theta+\\\\mu+\\\\kappa)A(t)': ['I'],\n",
       "   '{\\\\hat{D}}(t)=\\\\varepsilon I(t)-(\\\\eta+\\\\rho)D(t)': ['I']},\n",
       "  'file': '41591_2020_Article_883.pdf',\n",
       "  'doi': 'https://doi.org/10.1038/s41591-020-0883-7'},\n",
       " '3': {'type': 'variable',\n",
       "  'name': 'D',\n",
       "  'id': 'v2',\n",
       "  'text_annotations': [' Diagnosed (asymptomatic infected, detected)'],\n",
       "  'dkg_annotations': [['ido:0000511', 'infected population'],\n",
       "   ['ncit:C171133', 'COVID-19 Infection']],\n",
       "  'equation_annotations': {'{\\\\hat{D}}(t)=\\\\varepsilon I(t)-(\\\\eta+\\\\rho)D(t)': ['D'],\n",
       "   '\\\\delta(t)=-S(t)(a l(t)+\\\\theta D(t)+r A(t)+\\\\delta t(t)': ['D']},\n",
       "  'file': '41591_2020_Article_883.pdf',\n",
       "  'doi': 'https://doi.org/10.1038/s41591-020-0883-7'},\n",
       " '4': {'type': 'variable',\n",
       "  'name': 'A',\n",
       "  'id': 'v3',\n",
       "  'text_annotations': [' Ailing (symptomatic infected, undetected)'],\n",
       "  'dkg_annotations': [['ido:0000511', 'infected population'],\n",
       "   ['ncit:C171133', 'COVID-19 Infection']],\n",
       "  'equation_annotations': {'{\\\\dot{A}}(t)=\\\\zeta I(t)-(\\\\theta+\\\\mu+\\\\kappa)A(t)': ['A'],\n",
       "   '\\\\delta(t)=-S(t)(a l(t)+\\\\theta D(t)+r A(t)+\\\\delta t(t)': ['A'],\n",
       "   '{\\\\hat{T}}(t)=\\\\mu A(t)+\\\\nu R(t)-(\\\\sigma+\\\\tau){\\\\hat{T}}(t)': ['A']},\n",
       "  'file': '41591_2020_Article_883.pdf',\n",
       "  'doi': 'https://doi.org/10.1038/s41591-020-0883-7'},\n",
       " '5': {'type': 'variable',\n",
       "  'name': 'R',\n",
       "  'id': 'v4',\n",
       "  'text_annotations': [' Recognized (symptomatic infected, detected)'],\n",
       "  'dkg_annotations': [['ncit:C171133', 'COVID-19 Infection'],\n",
       "   ['ncit:C28554', 'Dead']],\n",
       "  'equation_annotations': {'{\\\\hat{T}}(t)=\\\\mu A(t)+\\\\nu R(t)-(\\\\sigma+\\\\tau){\\\\hat{T}}(t)': []},\n",
       "  'file': '41591_2020_Article_883.pdf',\n",
       "  'doi': 'https://doi.org/10.1038/s41591-020-0883-7'},\n",
       " '6': {'type': 'variable',\n",
       "  'name': 'T',\n",
       "  'id': 'v5',\n",
       "  'text_annotations': [' Threatened (infected with life-threatening symptoms, detected)'],\n",
       "  'dkg_annotations': [['ido:0000511', 'infected population'],\n",
       "   ['ncit:C171133', 'COVID-19 Infection']],\n",
       "  'equation_annotations': {'{\\\\hat{T}}(t)=\\\\mu A(t)+\\\\nu R(t)-(\\\\sigma+\\\\tau){\\\\hat{T}}(t)': []},\n",
       "  'file': '41591_2020_Article_883.pdf',\n",
       "  'doi': 'https://doi.org/10.1038/s41591-020-0883-7'},\n",
       " '7': {'type': 'variable',\n",
       "  'name': 'H',\n",
       "  'id': 'v6',\n",
       "  'text_annotations': [' Healed (recovered)'],\n",
       "  'dkg_annotations': [['ncit:C171133', 'COVID-19 Infection'],\n",
       "   ['ncit:C28554', 'Dead']],\n",
       "  'file': '41591_2020_Article_883.pdf',\n",
       "  'doi': 'https://doi.org/10.1038/s41591-020-0883-7'},\n",
       " '8': {'type': 'variable',\n",
       "  'name': 'E',\n",
       "  'id': 'v7',\n",
       "  'text_annotations': [' Extinct (dead)'],\n",
       "  'dkg_annotations': [['ido:0000511', 'infected population'],\n",
       "   ['ncit:C171133', 'COVID-19 Infection']],\n",
       "  'file': '41591_2020_Article_883.pdf',\n",
       "  'doi': 'https://doi.org/10.1038/s41591-020-0883-7'},\n",
       " '10': {'type': 'variable',\n",
       "  'name': 'α',\n",
       "  'id': 'v8',\n",
       "  'text_annotations': [' Transmission rate (the probability of disease transmission in a single contact multiplied by the average number of contacts per person)'],\n",
       "  'dkg_annotations': [],\n",
       "  'file': '41591_2020_Article_883.pdf',\n",
       "  'doi': 'https://doi.org/10.1038/s41591-020-0883-7'},\n",
       " '11': {'type': 'variable',\n",
       "  'name': 'β',\n",
       "  'id': 'v9',\n",
       "  'text_annotations': [' Transmission rate (the probability of disease transmission in a single contact multiplied by the average number of contacts per person)'],\n",
       "  'dkg_annotations': [['doid:0080928', 'dialysis-related amyloidosis'],\n",
       "   ['vo:0005114', 'β-propiolactone-inactivated SARS-CoV vaccine']],\n",
       "  'file': '41591_2020_Article_883.pdf',\n",
       "  'doi': 'https://doi.org/10.1038/s41591-020-0883-7'},\n",
       " '12': {'type': 'variable',\n",
       "  'name': 'γ',\n",
       "  'id': 'v10',\n",
       "  'text_annotations': [' Transmission rate (the probability of disease transmission in a single contact multiplied by the average number of contacts per person)'],\n",
       "  'dkg_annotations': [['askemo:0000013', 'recovery rate'],\n",
       "   ['vo:0004915', 'vaccine specific interferon-γ immune response']],\n",
       "  'file': '41591_2020_Article_883.pdf',\n",
       "  'doi': 'https://doi.org/10.1038/s41591-020-0883-7'},\n",
       " '13': {'type': 'variable',\n",
       "  'name': 'δ',\n",
       "  'id': 'v11',\n",
       "  'text_annotations': [' Transmission rate (the probability of disease transmission in a single contact multiplied by the average number of contacts per person)ε'],\n",
       "  'dkg_annotations': [['askemo:0000011', 'progression rate'],\n",
       "   ['vo:0005123', 'VSVΔG-MERS vaccine']],\n",
       "  'equation_annotations': {'\\\\delta(t)=-S(t)(a l(t)+\\\\theta D(t)+r A(t)+\\\\delta t(t)': ['δ']},\n",
       "  'file': '41591_2020_Article_883.pdf',\n",
       "  'doi': 'https://doi.org/10.1038/s41591-020-0883-7'},\n",
       " '14': {'file': '41591_2020_Article_883.pdf',\n",
       "  'doi': 'https://doi.org/10.1038/s41591-020-0883-7'},\n",
       " '15': {'file': '41591_2020_Article_883.pdf',\n",
       "  'doi': 'https://doi.org/10.1038/s41591-020-0883-7'},\n",
       " '16': {'type': 'variable',\n",
       "  'name': 'ζ',\n",
       "  'id': 'v13',\n",
       "  'text_annotations': [' probability rate at which an infected subject not aware of being infected develops clinically relevant symptoms'],\n",
       "  'dkg_annotations': [],\n",
       "  'equation_annotations': {'{\\\\dot{A}}(t)=\\\\zeta I(t)-(\\\\theta+\\\\mu+\\\\kappa)A(t)': ['ζ']},\n",
       "  'file': '41591_2020_Article_883.pdf',\n",
       "  'doi': 'https://doi.org/10.1038/s41591-020-0883-7'},\n",
       " '17': {'type': 'variable',\n",
       "  'name': 'λ',\n",
       "  'id': 'v17',\n",
       "  'text_annotations': [' Rate of recovery for infected subjects'],\n",
       "  'dkg_annotations': [],\n",
       "  'file': '41591_2020_Article_883.pdf',\n",
       "  'doi': 'https://doi.org/10.1038/s41591-020-0883-7'},\n",
       " '18': {'type': 'variable',\n",
       "  'name': 'η',\n",
       "  'id': 'v14',\n",
       "  'text_annotations': [' probability rate at which an infected subject aware of being infected develops clinically relevant symptomsμ'],\n",
       "  'dkg_annotations': [],\n",
       "  'equation_annotations': {'R(t)=\\\\eta D(t)+\\\\theta A(t)-(\\\\nu+\\\\xi)R(t)': ['η']},\n",
       "  'file': '41591_2020_Article_883.pdf',\n",
       "  'doi': 'https://doi.org/10.1038/s41591-020-0883-7'},\n",
       " '19': {'type': 'variable',\n",
       "  'name': 'ρ',\n",
       "  'id': 'v20',\n",
       "  'text_annotations': [' Rate of recovery for infected subjects'],\n",
       "  'dkg_annotations': [],\n",
       "  'file': '41591_2020_Article_883.pdf',\n",
       "  'doi': 'https://doi.org/10.1038/s41591-020-0883-7'},\n",
       " '20': {'type': 'variable',\n",
       "  'name': 'θ',\n",
       "  'id': 'v12',\n",
       "  'text_annotations': [' probability rate of detection relative to symptomatic cases'],\n",
       "  'dkg_annotations': [],\n",
       "  'equation_annotations': {'{\\\\dot{A}}(t)=\\\\zeta I(t)-(\\\\theta+\\\\mu+\\\\kappa)A(t)': ['θ'],\n",
       "   'H(t)=i I(t)+\\\\theta b(t)+\\\\kappa d(t)+i R(t)+\\\\sigma T(t)': ['θ'],\n",
       "   'R(t)=\\\\eta D(t)+\\\\theta A(t)-(\\\\nu+\\\\xi)R(t)': ['θ'],\n",
       "   '\\\\delta(t)=-S(t)(a l(t)+\\\\theta D(t)+r A(t)+\\\\delta t(t)': ['θ']},\n",
       "  'file': '41591_2020_Article_883.pdf',\n",
       "  'doi': 'https://doi.org/10.1038/s41591-020-0883-7'},\n",
       " '21': {'type': 'variable',\n",
       "  'name': 'κ',\n",
       "  'id': 'v18',\n",
       "  'text_annotations': [' Rate of recovery for infected subjects'],\n",
       "  'dkg_annotations': [],\n",
       "  'equation_annotations': {'{\\\\dot{A}}(t)=\\\\zeta I(t)-(\\\\theta+\\\\mu+\\\\kappa)A(t)': ['κ'],\n",
       "   'H(t)=i I(t)+\\\\theta b(t)+\\\\kappa d(t)+i R(t)+\\\\sigma T(t)': ['κ']},\n",
       "  'file': '41591_2020_Article_883.pdf',\n",
       "  'doi': 'https://doi.org/10.1038/s41591-020-0883-7'},\n",
       " '22': {'type': 'variable',\n",
       "  'name': 'ν',\n",
       "  'id': 'v15',\n",
       "  'text_annotations': [' Rate at which detected infected subjects develop life-threatening symptoms'],\n",
       "  'dkg_annotations': [],\n",
       "  'equation_annotations': {'R(t)=\\\\eta D(t)+\\\\theta A(t)-(\\\\nu+\\\\xi)R(t)': ['ν'],\n",
       "   '{\\\\hat{T}}(t)=\\\\mu A(t)+\\\\nu R(t)-(\\\\sigma+\\\\tau){\\\\hat{T}}(t)': ['ν']},\n",
       "  'file': '41591_2020_Article_883.pdf',\n",
       "  'doi': 'https://doi.org/10.1038/s41591-020-0883-7'},\n",
       " '23': {'type': 'variable',\n",
       "  'name': 'ξ',\n",
       "  'id': 'v19',\n",
       "  'text_annotations': [' Rate of recovery for infected subjects'],\n",
       "  'dkg_annotations': [],\n",
       "  'equation_annotations': {'R(t)=\\\\eta D(t)+\\\\theta A(t)-(\\\\nu+\\\\xi)R(t)': ['ξ']},\n",
       "  'file': '41591_2020_Article_883.pdf',\n",
       "  'doi': 'https://doi.org/10.1038/s41591-020-0883-7'},\n",
       " '24': {'type': 'variable',\n",
       "  'name': 'σ',\n",
       "  'id': 'v21',\n",
       "  'text_annotations': [' Rate of recovery for infected subjectsNone'],\n",
       "  'dkg_annotations': [],\n",
       "  'equation_annotations': {'H(t)=i I(t)+\\\\theta b(t)+\\\\kappa d(t)+i R(t)+\\\\sigma T(t)': ['σ'],\n",
       "   '{\\\\hat{T}}(t)=\\\\mu A(t)+\\\\nu R(t)-(\\\\sigma+\\\\tau){\\\\hat{T}}(t)': ['σ']},\n",
       "  'file': '41591_2020_Article_883.pdf',\n",
       "  'doi': 'https://doi.org/10.1038/s41591-020-0883-7'},\n",
       " '25': {'type': 'variable',\n",
       "  'name': 'τ',\n",
       "  'id': 'v16',\n",
       "  'text_annotations': [' Mortality rate for infected subjects with life-threatening symptoms'],\n",
       "  'dkg_annotations': [],\n",
       "  'equation_annotations': {'{\\\\hat{T}}(t)=\\\\mu A(t)+\\\\nu R(t)-(\\\\sigma+\\\\tau){\\\\hat{T}}(t)': ['τ']},\n",
       "  'file': '41591_2020_Article_883.pdf',\n",
       "  'doi': 'https://doi.org/10.1038/s41591-020-0883-7'}}"
      ]
     },
     "execution_count": 94,
     "metadata": {},
     "output_type": "execute_result"
    }
   ],
   "source": [
    "ast.literal_eval(r3.text)"
   ]
  },
  {
   "cell_type": "markdown",
   "id": "72879fa5",
   "metadata": {},
   "source": [
    "#### Data in this format is ingestible by TA4!"
   ]
  }
 ],
 "metadata": {
  "kernelspec": {
   "display_name": "Python 3 (ipykernel)",
   "language": "python",
   "name": "python3"
  },
  "language_info": {
   "codemirror_mode": {
    "name": "ipython",
    "version": 3
   },
   "file_extension": ".py",
   "mimetype": "text/x-python",
   "name": "python",
   "nbconvert_exporter": "python",
   "pygments_lexer": "ipython3",
   "version": "3.10.6"
  }
 },
 "nbformat": 4,
 "nbformat_minor": 5
}