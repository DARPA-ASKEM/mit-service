{
 "cells": [
  {
   "cell_type": "code",
   "execution_count": 2,
   "metadata": {
    "execution": {
     "iopub.execute_input": "2024-02-18T22:32:27.476052Z",
     "iopub.status.busy": "2024-02-18T22:32:27.475329Z",
     "iopub.status.idle": "2024-02-18T22:32:27.581634Z",
     "shell.execute_reply": "2024-02-18T22:32:27.581248Z",
     "shell.execute_reply.started": "2024-02-18T22:32:27.476013Z"
    }
   },
   "outputs": [],
   "source": [
    "import json, requests, os\n",
    "import io\n",
    "GPT_KEY = os.environ.get('OPENAI_API_KEY_MIT')\n",
    "assert GPT_KEY, \"Please set the OPENAI_API_KEY_MIT environment variable\"\n",
    "API_ROOT = \"http://localhost:8000/\""
   ]
  },
  {
   "cell_type": "code",
   "execution_count": 3,
   "metadata": {
    "execution": {
     "iopub.execute_input": "2024-02-18T23:02:51.758119Z",
     "iopub.status.busy": "2024-02-18T23:02:51.753969Z",
     "iopub.status.idle": "2024-02-18T23:02:51.766924Z",
     "shell.execute_reply": "2024-02-18T23:02:51.765849Z",
     "shell.execute_reply.started": "2024-02-18T23:02:51.758057Z"
    }
   },
   "outputs": [],
   "source": [
    "from pathlib import Path\n",
    "\n",
    "def skema_integrated_pdf_extractions(pdf_path):\n",
    "    if isinstance(pdf_path, str):\n",
    "        pdf_path = Path(pdf_path)\n",
    "\n",
    "    pdf_path : Path = pdf_path.expanduser()\n",
    "    assert pdf_path.exists()\n",
    "\n",
    "    output_path = pdf_path.with_suffix('.skema_integrated.json')\n",
    "    if output_path.exists():\n",
    "        with open(output_path) as f:\n",
    "            return json.load(f)\n",
    "\n",
    "    URL= \"https://api.askem.lum.ai\"\n",
    "\n",
    "    params = {\n",
    "       \"annotate_skema\":True,\n",
    "       \"annotate_mit\": True,\n",
    "    }\n",
    "\n",
    "    files = [(\"pdfs\", (str(pdf_path), open(str(pdf_path), \"rb\")))]\n",
    "    response = requests.post(f\"{URL}/text-reading/integrated-pdf-extractions\", params=params, files=files)\n",
    "    if response.status_code == 200:\n",
    "        data = response.json()\n",
    "        with open(output_path, 'w') as f:\n",
    "            json.dump(data, f, indent=2)\n",
    "        return data\n",
    "    else:\n",
    "        raise  Exception(f'{response.status_code=} {response.text=}')"
   ]
  },
  {
   "cell_type": "code",
   "execution_count": 4,
   "metadata": {},
   "outputs": [
    {
     "name": "stderr",
     "output_type": "stream",
     "text": [
      "/Users/orm/mambaforge/envs/mitaskem/lib/python3.10/site-packages/pydantic/_internal/_config.py:317: UserWarning: Valid config keys have changed in V2:\n",
      "* 'schema_extra' has been renamed to 'json_schema_extra'\n",
      "  warnings.warn(message, UserWarning)\n"
     ]
    },
    {
     "data": {
      "text/plain": [
       "<module 'mitaskem.api.routers.annotation' from '/Users/orm/repos/mitaskem/mitaskem/api/routers/annotation.py'>"
      ]
     },
     "execution_count": 4,
     "metadata": {},
     "output_type": "execute_result"
    }
   ],
   "source": [
    "import importlib\n",
    "import mitaskem.api.routers.annotation\n",
    "importlib.reload(mitaskem.api.routers.annotation)"
   ]
  },
  {
   "cell_type": "code",
   "execution_count": 58,
   "metadata": {},
   "outputs": [
    {
     "name": "stdout",
     "output_type": "stream",
     "text": [
      "/Users/orm/example_data/Patty-reviewed-1-28-24-Why is it difficult to accurately predict the COVID-19 epidemic (1).pdf\n",
      "    location             id name  value  \\\n",
      "56     Wuhan   E:-999142283    R    2.0   \n",
      "58     Wuhan  E:-1416661983    R    2.0   \n",
      "108      AIC   E:1393547595    N   40.0   \n",
      "109      AIC  E:-2085445646    N   40.0   \n",
      "\n",
      "                                               passage  \n",
      "56   At the time of this manuscript , the consensus...  \n",
      "58   At the time of this manuscript , the consensus...  \n",
      "108  This definition should be used when K < N = 40...  \n",
      "109  This definition should be used when K < N = 40...  \n",
      "/Users/orm/example_data/Patty-reviewed-1-28-24-bertozzi-et-al-2020-the-challenges-of-modeling-and-forecasting-the-spread-of-covid-19.pdf\n",
      "                                              location             id  \\\n",
      "36                                           Arlington    R:889375648   \n",
      "37                                         Los Angeles    R:889375648   \n",
      "38                               Aerospace Engineering    R:889375648   \n",
      "39                            University of California    R:889375648   \n",
      "40                     Georgia Institute of Technology    R:889375648   \n",
      "41   Indiana University-Purdue University Indianapolis    R:889375648   \n",
      "42                                 University of Texas    R:889375648   \n",
      "43                                             Atlanta    R:889375648   \n",
      "44                                            Tx 76019    R:889375648   \n",
      "45                                        Indianapolis    R:889375648   \n",
      "46                     dDepartment of Computer Science    R:889375648   \n",
      "47                        National Academy of Sciences    R:889375648   \n",
      "106                                      United States   E:-350251764   \n",
      "107                                              Italy   E:-350251764   \n",
      "108                                              China   E:-350251764   \n",
      "179                                        Upper Right    E:463455627   \n",
      "180                                        Upper Right   E:1798774074   \n",
      "238                                      United States   E:-271263446   \n",
      "239                                              Spain   E:-271263446   \n",
      "240                                            Germany   E:-271263446   \n",
      "241                                     United Kingdom   E:-271263446   \n",
      "242                                             France   E:-271263446   \n",
      "243                                              Italy   E:-271263446   \n",
      "244                                              Japan   E:-271263446   \n",
      "245                                        South Korea   E:-271263446   \n",
      "246                                              China   E:-271263446   \n",
      "256                                           Pij 1{TJ   E:-547211764   \n",
      "272                                            Indiana    E:587018829   \n",
      "273                                                AIC    E:587018829   \n",
      "274                                            Weibull    E:587018829   \n",
      "293                                       Upper Center    E:667339562   \n",
      "294                                         Upper Left    E:667339562   \n",
      "300                                         California  E:-1470657502   \n",
      "301                                           New York  E:-1470657502   \n",
      "302                                         California   E:-248384377   \n",
      "303                                           New York   E:-248384377   \n",
      "304                                         California   E:1214535740   \n",
      "305                                           New York   E:1214535740   \n",
      "308                                         California    E:302269808   \n",
      "309                                           New York    E:302269808   \n",
      "310                                         California  E:-1173036264   \n",
      "311                                           New York  E:-1173036264   \n",
      "312                                         California   E:-629166758   \n",
      "313                                           New York   E:-629166758   \n",
      "316                                         California   E:-638902927   \n",
      "317                                           New York   E:-638902927   \n",
      "\n",
      "           name     value                                            passage  \n",
      "36   Mechanical  90095.00  aDepartment of Mathematics , University of Cal...  \n",
      "37   Mechanical  90095.00  aDepartment of Mathematics , University of Cal...  \n",
      "38   Mechanical  90095.00  aDepartment of Mathematics , University of Cal...  \n",
      "39   Mechanical  90095.00  aDepartment of Mathematics , University of Cal...  \n",
      "40   Mechanical  90095.00  aDepartment of Mathematics , University of Cal...  \n",
      "41   Mechanical  90095.00  aDepartment of Mathematics , University of Cal...  \n",
      "42   Mechanical  90095.00  aDepartment of Mathematics , University of Cal...  \n",
      "43   Mechanical  90095.00  aDepartment of Mathematics , University of Cal...  \n",
      "44   Mechanical  90095.00  aDepartment of Mathematics , University of Cal...  \n",
      "45   Mechanical  90095.00  aDepartment of Mathematics , University of Cal...  \n",
      "46   Mechanical  90095.00  aDepartment of Mathematics , University of Cal...  \n",
      "47   Mechanical  90095.00  aDepartment of Mathematics , University of Cal...  \n",
      "106           R      1.00  Public health measures undertaken in China app...  \n",
      "107           R      1.00  Public health measures undertaken in China app...  \n",
      "108           R      1.00  Public health measures undertaken in China app...  \n",
      "179           s      1.00  A phase diagram of the universal solutions for...  \n",
      "180           i      0.00  A phase diagram of the universal solutions for...  \n",
      "238        fits     20.00  Insets show the same data on a logarithmic sca...  \n",
      "239        fits     20.00  Insets show the same data on a logarithmic sca...  \n",
      "240        fits     20.00  Insets show the same data on a logarithmic sca...  \n",
      "241        fits     20.00  Insets show the same data on a logarithmic sca...  \n",
      "242        fits     20.00  Insets show the same data on a logarithmic sca...  \n",
      "243        fits     20.00  Insets show the same data on a logarithmic sca...  \n",
      "244        fits     20.00  Insets show the same data on a logarithmic sca...  \n",
      "245        fits     20.00  Insets show the same data on a logarithmic sca...  \n",
      "246        fits     20.00  Insets show the same data on a logarithmic sca...  \n",
      "256           K      1.00  B ( CID :88 ) R ( T ) = [ 3 ] Rk 1 { T in IK }...  \n",
      "272      AICmin      2.00  ) data from California ( CA ) , Indiana ( IN )...  \n",
      "273      AICmin      2.00  ) data from California ( CA ) , Indiana ( IN )...  \n",
      "274      AICmin      2.00  ) data from California ( CA ) , Indiana ( IN )...  \n",
      "293          R0      2.00  Fig. 2 .\\nSolution of the dimensionless SIR mo...  \n",
      "294          R0      2.00  Fig. 2 .\\nSolution of the dimensionless SIR mo...  \n",
      "300          R0      4.10  ( Left ) California SIR model based on mortali...  \n",
      "301          R0      4.10  ( Left ) California SIR model based on mortali...  \n",
      "302          I0      5.00  ( Left ) California SIR model based on mortali...  \n",
      "303          I0      5.00  ( Left ) California SIR model based on mortali...  \n",
      "304          R0      2.70  Scenarios for the impact of short-term social ...  \n",
      "305          R0      2.70  Scenarios for the impact of short-term social ...  \n",
      "308          R0      2.70  Scenarios for the impact of short-term social ...  \n",
      "309          R0      2.70  Scenarios for the impact of short-term social ...  \n",
      "310          I0      0.10  Scenarios for the impact of short-term social ...  \n",
      "311          I0      0.10  Scenarios for the impact of short-term social ...  \n",
      "312       gamma      0.12  Scenarios for the impact of short-term social ...  \n",
      "313       gamma      0.12  Scenarios for the impact of short-term social ...  \n",
      "316       gamma      0.12  Scenarios for the impact of short-term social ...  \n",
      "317       gamma      0.12  Scenarios for the impact of short-term social ...  \n",
      "/Users/orm/example_data/Patty-reviewed-1-28-24-Mathematical modeling of COVID-19 transmission dynamics with a case study of Wuhan.pdf\n",
      "    location            id       name  value  \\\n",
      "60       WHO  R:1358239516  confirmed   65.0   \n",
      "61     L C (  R:1358239516  confirmed   65.0   \n",
      "62       J.J  R:1358239516  confirmed   65.0   \n",
      "63  Solitons  R:1358239516  confirmed   65.0   \n",
      "\n",
      "                                              passage  \n",
      "60  Lists L C and L D have 66 numbers , where L C ...  \n",
      "61  Lists L C and L D have 66 numbers , where L C ...  \n",
      "62  Lists L C and L D have 66 numbers , where L C ...  \n",
      "63  Lists L C and L D have 66 numbers , where L C ...  \n"
     ]
    }
   ],
   "source": [
    "from pathlib import Path\n",
    "example_data = Path(\"~/example_data/\").expanduser()\n",
    "for file in example_data.iterdir():\n",
    "    if file.suffix == \".pdf\":\n",
    "        print(file)\n",
    "        try:\n",
    "            data = skema_integrated_pdf_extractions(file)\n",
    "            df = list_scenarios_local(None, extractions=data, return_early=True)\n",
    "            print(df)\n",
    "        except Exception as e:\n",
    "            print(e)\n"
   ]
  },
  {
   "cell_type": "markdown",
   "metadata": {},
   "source": [
    "\"Scenarios for the impact of short-term social distancing : fraction of population vs. date .\n",
    "( Left ) California SIR model based on mortality data with parameters from Table 1 ( R0 = 2.7 , gamma = .12 , I0 = .1 ) under two scenarios : R0 constant in time ( light blue ) and R0 cut in half from 27 March ( 1 wk from the start of the California shutdown ) to 5 May but then returned to its original value , to represent a short-term distancing strategy ( dark blue ) .\n",
    "( Right ) New York SIR model with parameters from Table 1 ( R0 = 4.1 , gamma = .1 , I0 = 05 ) under the same two scenarios but with short-term distancing occurring over the dates of 30 March ( 1 wk from the start of the New York shutdown ) to 5 May .\"\n",
    "\n",
    "[\n",
    "{'location':'California', 'variable':'R0', 'value':2.7 },\n",
    "{'location':'California', 'variable':'gamma', 'value':.12},\n",
    "{'location':'California', 'variable':'I0', 'value':.1},\n",
    "\n",
    "{'location':'California', 'variable':'R0', 'value':1.35 },\n",
    "{'location':'California', 'variable':'gamma', 'value':.12},\n",
    "{'location':'California', 'variable':'I0', 'value':.1},\n",
    "\n",
    "{'location':'New York', 'variable':'R0', 'value':4.1 },\n",
    "{'location':'New York', 'variable':'gamma', 'value':.1},\n",
    "{'location':'New York', 'variable':'I0', 'value':.05},\n",
    "\n",
    "{'location':'New York', 'variable':'R0', 'value':2.05 },\n",
    "{'location':'New York', 'variable':'gamma', 'value':.1},\n",
    "{'location':'New York', 'variable':'I0', 'value':.05},\n",
    "\n",
    "]\n",
    "\n"
   ]
  },
  {
   "cell_type": "code",
   "execution_count": 5,
   "metadata": {},
   "outputs": [],
   "source": [
    "def scenario_extraction(integrated_json):\n",
    "    ## send post request to\n",
    "    params = {\n",
    "        \"gpt_key\": GPT_KEY,\n",
    "    }\n",
    "\n",
    "    files = [(\"extractions_file\", ('', io.BytesIO(json.dumps(data).encode('utf-8'))))]\n",
    "\n",
    "    response = requests.post('http://localhost:8000/annotation/list_scenarios/', params=params, files=files)\n",
    "    if response.status_code == 200:\n",
    "        return response.json()\n",
    "    else:\n",
    "        raise  Exception(f'{response.status_code=} {response.text=}')"
   ]
  },
  {
   "cell_type": "code",
   "execution_count": 11,
   "metadata": {},
   "outputs": [],
   "source": [
    "paths = [\n",
    "    '/Users/orm/example_data/Patty-reviewed-1-28-24-Why is it difficult to accurately predict the COVID-19 epidemic (1).pdf',\n",
    "    '/Users/orm/example_data/Patty-reviewed-1-28-24-bertozzi-et-al-2020-the-challenges-of-modeling-and-forecasting-the-spread-of-covid-19.pdf',\n",
    "    '/Users/orm/example_data/Patty-reviewed-1-28-24-Mathematical modeling of COVID-19 transmission dynamics with a case study of Wuhan.pdf',\n",
    "]\n"
   ]
  },
  {
   "cell_type": "code",
   "execution_count": 15,
   "metadata": {},
   "outputs": [
    {
     "name": "stdout",
     "output_type": "stream",
     "text": [
      "True\n",
      "True\n",
      "True\n"
     ]
    }
   ],
   "source": [
    "for path in paths:\n",
    "    print(Path(path).exists())\n",
    "\n",
    "import pandas as pd"
   ]
  },
  {
   "cell_type": "code",
   "execution_count": 27,
   "metadata": {},
   "outputs": [
    {
     "name": "stdout",
     "output_type": "stream",
     "text": [
      "                         varname value    geo\n",
      "0  basic reproduction number R 0     2  Wuhan\n",
      "1                              K   < N   None\n",
      "2                              N    40   None\n",
      "3                              K   > N   None\n",
      "                  varname  value            geo\n",
      "0                 R ( t )   1.00          China\n",
      "1                 R ( t )   1.00          Italy\n",
      "2     reproduction number   2.50  United States\n",
      "3   B ( CID :88 ) R ( T )   3.00             IK\n",
      "4                       K   1.00           None\n",
      "5                      R0   2.70     California\n",
      "6                   gamma   0.12     California\n",
      "7                      I0   0.10     California\n",
      "8                      R0   4.10       New York\n",
      "9                   gamma   0.10       New York\n",
      "10                     I0   0.05       New York\n",
      "      varname                                      value   geo\n",
      "0   L C ( 0 )  number of confirmed cases 04 January 2020  None\n",
      "1  L C ( 65 )    number of confirmed cases 09 March 2020  None\n",
      "2   L D ( 0 )                number of dead on January 4  None\n",
      "3  L D ( 65 )            number of dead on March 9, 2020  None\n"
     ]
    }
   ],
   "source": [
    "for path in paths:\n",
    "    data = skema_integrated_pdf_extractions(path)\n",
    "    extr  = scenario_extraction(data)\n",
    "    print(pd.DataFrame(extr))"
   ]
  },
  {
   "cell_type": "code",
   "execution_count": 80,
   "metadata": {},
   "outputs": [],
   "source": [
    "def file_extract_enhanced(*, text : str = None, path : str = None):\n",
    "    ## send post request to\n",
    "    params = {\n",
    "        \"gpt_key\": GPT_KEY,\n",
    "    }\n",
    "\n",
    "    if isinstance(text, str):\n",
    "        files = [(\"file\", ('', io.BytesIO(text.encode('utf-8'))))]\n",
    "    elif isinstance(path, str):\n",
    "        files = [(\"file\", ('', open(path, 'rb')))]\n",
    "    elif isinstance(path, Path):\n",
    "        files = [(\"file\", ('', path.open('rb')))]\n",
    "    else:\n",
    "        assert False\n",
    "\n",
    "    response = requests.post('http://localhost:8000/annotation/upload_file_extract_enhanced', params=params, files=files)\n",
    "    if response.status_code == 200:\n",
    "        return response.json()\n",
    "    elif response.status_code == 500:\n",
    "        raise  Exception(f'{response.status_code=} {str(response.text)=}')\n",
    "    else:\n",
    "        raise  Exception(f'{response.status_code=} {json.dumps(response.json(), indent=2)}')"
   ]
  },
  {
   "cell_type": "markdown",
   "metadata": {},
   "source": []
  },
  {
   "cell_type": "code",
   "execution_count": 81,
   "metadata": {},
   "outputs": [],
   "source": [
    "res = file_extract_enhanced(text=\"the model has variables v0, v1 and v2, with values .1, .2, and .3 respectively\")"
   ]
  },
  {
   "cell_type": "code",
   "execution_count": 82,
   "metadata": {},
   "outputs": [
    {
     "data": {
      "text/plain": [
       "{'attributes': [{'type': 'anchored_entity',\n",
       "   'amr_element_id': None,\n",
       "   'payload': {'id': {'id': 'mit0'},\n",
       "    'mentions': [{'id': {'id': 'mit0'},\n",
       "      'name': 'v0',\n",
       "      'extraction_source': None,\n",
       "      'provenance': {'method': 'MIT extractor V1.0 - text, dataset, formula annotation (chunwei@mit.edu)',\n",
       "       'timestamp': '2024-02-28T18:02:22.687396'}}],\n",
       "    'text_descriptions': [{'id': {'id': 'mit0'},\n",
       "      'description': 'model variable v0',\n",
       "      'grounding': None,\n",
       "      'extraction_source': None,\n",
       "      'provenance': {'method': 'MIT extractor V1.0 - text, dataset, formula annotation (chunwei@mit.edu)',\n",
       "       'timestamp': '2024-02-28T18:02:22.687396'}}],\n",
       "    'value_descriptions': [{'id': {'id': 'mit0-value'},\n",
       "      'value': {'amount': '0.1', 'grounding': None, 'extraction_source': None},\n",
       "      'units': None,\n",
       "      'type': None,\n",
       "      'bounds': None,\n",
       "      'provenance': {'method': 'MIT extractor V1.0 - text, dataset, formula annotation (chunwei@mit.edu)',\n",
       "       'timestamp': '2024-02-28T18:02:22.687396'}}],\n",
       "    'groundings': [{'grounding_text': 'disease transmission model identifier',\n",
       "      'grounding_id': 'apollosv:00000507',\n",
       "      'source': [],\n",
       "      'score': 1.0,\n",
       "      'provenance': {'method': 'MIT extractor V1.0 - text, dataset, formula annotation (chunwei@mit.edu)',\n",
       "       'timestamp': '2024-02-28T18:02:22.687396'}},\n",
       "     {'grounding_text': 'disease transmission model software',\n",
       "      'grounding_id': 'apollosv:00000561',\n",
       "      'source': [],\n",
       "      'score': 1.0,\n",
       "      'provenance': {'method': 'MIT extractor V1.0 - text, dataset, formula annotation (chunwei@mit.edu)',\n",
       "       'timestamp': '2024-02-28T18:02:22.687396'}}],\n",
       "    'data_columns': []}},\n",
       "  {'type': 'anchored_entity',\n",
       "   'amr_element_id': None,\n",
       "   'payload': {'id': {'id': 'mit1'},\n",
       "    'mentions': [{'id': {'id': 'mit1'},\n",
       "      'name': 'v1',\n",
       "      'extraction_source': None,\n",
       "      'provenance': {'method': 'MIT extractor V1.0 - text, dataset, formula annotation (chunwei@mit.edu)',\n",
       "       'timestamp': '2024-02-28T18:02:22.687396'}}],\n",
       "    'text_descriptions': [{'id': {'id': 'mit1'},\n",
       "      'description': 'model variable v1',\n",
       "      'grounding': None,\n",
       "      'extraction_source': None,\n",
       "      'provenance': {'method': 'MIT extractor V1.0 - text, dataset, formula annotation (chunwei@mit.edu)',\n",
       "       'timestamp': '2024-02-28T18:02:22.687396'}}],\n",
       "    'value_descriptions': [{'id': {'id': 'mit1-value'},\n",
       "      'value': {'amount': '0.2', 'grounding': None, 'extraction_source': None},\n",
       "      'units': None,\n",
       "      'type': None,\n",
       "      'bounds': None,\n",
       "      'provenance': {'method': 'MIT extractor V1.0 - text, dataset, formula annotation (chunwei@mit.edu)',\n",
       "       'timestamp': '2024-02-28T18:02:22.687396'}}],\n",
       "    'groundings': [{'grounding_text': 'KimForest SARS-CoV-2 Detection Kit v1',\n",
       "      'grounding_id': 'cido:0020179',\n",
       "      'source': [],\n",
       "      'score': 1.0,\n",
       "      'provenance': {'method': 'MIT extractor V1.0 - text, dataset, formula annotation (chunwei@mit.edu)',\n",
       "       'timestamp': '2024-02-28T18:02:22.687396'}},\n",
       "     {'grounding_text': 'Newcastle Disease VG/GA Strain, Live Virus Vaccine (USDA: 17A2.V1)',\n",
       "      'grounding_id': 'vo:0001721',\n",
       "      'source': [],\n",
       "      'score': 1.0,\n",
       "      'provenance': {'method': 'MIT extractor V1.0 - text, dataset, formula annotation (chunwei@mit.edu)',\n",
       "       'timestamp': '2024-02-28T18:02:22.687396'}}],\n",
       "    'data_columns': []}},\n",
       "  {'type': 'anchored_entity',\n",
       "   'amr_element_id': None,\n",
       "   'payload': {'id': {'id': 'mit2'},\n",
       "    'mentions': [{'id': {'id': 'mit2'},\n",
       "      'name': 'v2',\n",
       "      'extraction_source': None,\n",
       "      'provenance': {'method': 'MIT extractor V1.0 - text, dataset, formula annotation (chunwei@mit.edu)',\n",
       "       'timestamp': '2024-02-28T18:02:22.687396'}}],\n",
       "    'text_descriptions': [{'id': {'id': 'mit2'},\n",
       "      'description': 'model variable v2',\n",
       "      'grounding': None,\n",
       "      'extraction_source': None,\n",
       "      'provenance': {'method': 'MIT extractor V1.0 - text, dataset, formula annotation (chunwei@mit.edu)',\n",
       "       'timestamp': '2024-02-28T18:02:22.687396'}}],\n",
       "    'value_descriptions': [{'id': {'id': 'mit2-value'},\n",
       "      'value': {'amount': '0.3', 'grounding': None, 'extraction_source': None},\n",
       "      'units': None,\n",
       "      'type': None,\n",
       "      'bounds': None,\n",
       "      'provenance': {'method': 'MIT extractor V1.0 - text, dataset, formula annotation (chunwei@mit.edu)',\n",
       "       'timestamp': '2024-02-28T18:02:22.687396'}}],\n",
       "    'groundings': [{'grounding_text': 'ViroKey SARS-CoV-2 RT-PCR Test v2.0',\n",
       "      'grounding_id': 'cido:0020325',\n",
       "      'source': [],\n",
       "      'score': 1.0,\n",
       "      'provenance': {'method': 'MIT extractor V1.0 - text, dataset, formula annotation (chunwei@mit.edu)',\n",
       "       'timestamp': '2024-02-28T18:02:22.687396'}},\n",
       "     {'grounding_text': 'Maverick SARS-CoV-2 Multi-Antigen Serology Panel v2',\n",
       "      'grounding_id': 'cido:0020200',\n",
       "      'source': [],\n",
       "      'score': 1.0,\n",
       "      'provenance': {'method': 'MIT extractor V1.0 - text, dataset, formula annotation (chunwei@mit.edu)',\n",
       "       'timestamp': '2024-02-28T18:02:22.687396'}}],\n",
       "    'data_columns': []}},\n",
       "  {'type': 'document_collection',\n",
       "   'amr_element_id': None,\n",
       "   'payload': {'documents': [{'id': {'id': '1'},\n",
       "      'source_file': '265ec4bd51065474ceb2dafa5d679513__',\n",
       "      'doi': ''}]}}]}"
      ]
     },
     "execution_count": 82,
     "metadata": {},
     "output_type": "execute_result"
    }
   ],
   "source": [
    "res"
   ]
  },
  {
   "cell_type": "code",
   "execution_count": 72,
   "metadata": {},
   "outputs": [],
   "source": [
    "import jmespath as jp"
   ]
  },
  {
   "cell_type": "code",
   "execution_count": 77,
   "metadata": {},
   "outputs": [
    {
     "data": {
      "text/plain": [
       "['0.1', '0.2', '0.3']"
      ]
     },
     "execution_count": 77,
     "metadata": {},
     "output_type": "execute_result"
    }
   ],
   "source": [
    "jp.search(\"attributes[? type == 'anchored_entity'].payload.value_descriptions[0].value.amount\",res)"
   ]
  },
  {
   "cell_type": "code",
   "execution_count": null,
   "metadata": {},
   "outputs": [],
   "source": []
  }
 ],
 "metadata": {
  "kernelspec": {
   "display_name": "Python 3 (ipykernel)",
   "language": "python",
   "name": "python3"
  },
  "language_info": {
   "codemirror_mode": {
    "name": "ipython",
    "version": 3
   },
   "file_extension": ".py",
   "mimetype": "text/x-python",
   "name": "python",
   "nbconvert_exporter": "python",
   "pygments_lexer": "ipython3",
   "version": "3.10.12"
  }
 },
 "nbformat": 4,
 "nbformat_minor": 4
}
