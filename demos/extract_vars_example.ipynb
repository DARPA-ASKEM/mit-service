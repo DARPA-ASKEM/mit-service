{
 "cells": [
  {
   "cell_type": "code",
   "execution_count": 1,
   "id": "54848093-6d0c-4bbb-9965-df8b5395728c",
   "metadata": {
    "execution": {
     "iopub.execute_input": "2023-07-11T16:02:24.123299Z",
     "iopub.status.busy": "2023-07-11T16:02:24.122970Z",
     "iopub.status.idle": "2023-07-11T16:02:24.138124Z",
     "shell.execute_reply": "2023-07-11T16:02:24.134500Z",
     "shell.execute_reply.started": "2023-07-11T16:02:24.123275Z"
    },
    "tags": [],
    "pycharm": {
     "name": "#%%\n"
    }
   },
   "outputs": [],
   "source": [
    "import sys\n",
    "srcpath = '/Users/orm/repos/mitaskem/src'\n",
    "askempath = '/Users/orm/repos/mitaskem'\n",
    "sys.path.append(askempath)\n",
    "sys.path.append(srcpath)"
   ]
  },
  {
   "cell_type": "code",
   "execution_count": 2,
   "id": "51283582-c9f6-42d8-a9df-517912a653ed",
   "metadata": {
    "execution": {
     "iopub.execute_input": "2023-07-11T16:02:24.144264Z",
     "iopub.status.busy": "2023-07-11T16:02:24.143900Z",
     "iopub.status.idle": "2023-07-11T16:02:25.102485Z",
     "shell.execute_reply": "2023-07-11T16:02:25.102041Z",
     "shell.execute_reply.started": "2023-07-11T16:02:24.144245Z"
    },
    "pycharm": {
     "name": "#%%\n"
    }
   },
   "outputs": [],
   "source": [
    "import methods # module in askem"
   ]
  },
  {
   "cell_type": "code",
   "execution_count": 11,
   "id": "a5efd088-7d30-486a-9919-9a039a2bc1d0",
   "metadata": {
    "execution": {
     "iopub.execute_input": "2023-07-11T16:09:37.524684Z",
     "iopub.status.busy": "2023-07-11T16:09:37.524128Z",
     "iopub.status.idle": "2023-07-11T16:09:37.531739Z",
     "shell.execute_reply": "2023-07-11T16:09:37.531033Z",
     "shell.execute_reply.started": "2023-07-11T16:09:37.524656Z"
    },
    "pycharm": {
     "name": "#%%\n"
    }
   },
   "outputs": [],
   "source": [
    "import api_key\n",
    "import openai\n",
    "import importlib\n",
    "import mit_extraction\n",
    "importlib.reload(methods)\n",
    "importlib.reload(mit_extraction)\n",
    "from mit_extraction import  afind_vars_from_text, _extract_text_vars"
   ]
  },
  {
   "cell_type": "code",
   "execution_count": 4,
   "id": "52789a50-4ca9-469c-8932-34eaa478aa91",
   "metadata": {
    "execution": {
     "iopub.execute_input": "2023-07-11T16:02:25.348858Z",
     "iopub.status.busy": "2023-07-11T16:02:25.348712Z",
     "iopub.status.idle": "2023-07-11T16:02:25.352277Z",
     "shell.execute_reply": "2023-07-11T16:02:25.351864Z",
     "shell.execute_reply.started": "2023-07-11T16:02:25.348849Z"
    },
    "pycharm": {
     "name": "#%%\n"
    }
   },
   "outputs": [],
   "source": [
    "with open('/Users/orm/repos/mitaskem/demos/2023-03-19/bucky.txt') as b:\n",
    "    bucky_text  =     b.read()"
   ]
  },
  {
   "cell_type": "code",
   "execution_count": 5,
   "id": "d7021538-1d90-49d9-b3af-178fbb794a50",
   "metadata": {
    "execution": {
     "iopub.execute_input": "2023-07-11T16:02:25.654819Z",
     "iopub.status.busy": "2023-07-11T16:02:25.654098Z",
     "iopub.status.idle": "2023-07-11T16:02:25.658409Z",
     "shell.execute_reply": "2023-07-11T16:02:25.657608Z",
     "shell.execute_reply.started": "2023-07-11T16:02:25.654792Z"
    },
    "pycharm": {
     "name": "#%%\n"
    }
   },
   "outputs": [],
   "source": [
    "import os"
   ]
  },
  {
   "cell_type": "code",
   "execution_count": 6,
   "id": "d935047f-1273-4f2c-ae2e-39a7d36ca628",
   "metadata": {
    "execution": {
     "iopub.execute_input": "2023-07-11T16:02:32.964043Z",
     "iopub.status.busy": "2023-07-11T16:02:32.963459Z",
     "iopub.status.idle": "2023-07-11T16:02:32.968263Z",
     "shell.execute_reply": "2023-07-11T16:02:32.967248Z",
     "shell.execute_reply.started": "2023-07-11T16:02:32.964017Z"
    },
    "pycharm": {
     "name": "#%%\n"
    }
   },
   "outputs": [],
   "source": [
    "#from methods import create_prompt_tasks, split_latex_into_chunks"
   ]
  },
  {
   "cell_type": "code",
   "execution_count": 14,
   "id": "1636ce61-0194-41c5-99dc-3be885156e07",
   "metadata": {
    "execution": {
     "iopub.execute_input": "2023-07-11T16:10:24.156266Z",
     "iopub.status.busy": "2023-07-11T16:10:24.155888Z",
     "iopub.status.idle": "2023-07-11T16:10:41.152175Z",
     "shell.execute_reply": "2023-07-11T16:10:41.151527Z",
     "shell.execute_reply.started": "2023-07-11T16:10:24.156244Z"
    },
    "pycharm": {
     "name": "#%%\n"
    }
   },
   "outputs": [],
   "source": [
    "\n",
    "resses = await _extract_text_vars(text=bucky_text, var_prompt=var_prompt)"
   ]
  },
  {
   "cell_type": "code",
   "execution_count": 15,
   "id": "559e554b-d3ed-4962-a673-6c79d5f7823d",
   "metadata": {
    "execution": {
     "iopub.execute_input": "2023-07-11T16:10:44.409755Z",
     "iopub.status.busy": "2023-07-11T16:10:44.409385Z",
     "iopub.status.idle": "2023-07-11T16:10:44.415537Z",
     "shell.execute_reply": "2023-07-11T16:10:44.414974Z",
     "shell.execute_reply.started": "2023-07-11T16:10:44.409732Z"
    },
    "pycharm": {
     "name": "#%%\n"
    }
   },
   "outputs": [
    {
     "data": {
      "text/plain": [
       "{'S': [' Proportion of individuals who are susceptible to the virus'],\n",
       " 'E': [' Proportion of individuals who have been exposed to the virus'],\n",
       " 'I^hosp': [' Proportion of individuals that are exhibiting severe disease symptoms and are in need of hospitalization'],\n",
       " 'I^mild': [' Proportion of individuals that are exhibiting mild disease symptoms'],\n",
       " 'I^asym': [' Proportion of individuals who are infected but asymptomatic'],\n",
       " 'R': [' Proportion of individuals who have recovered from the virus and are no longer capable of infecting other individuals'],\n",
       " 'R^hosp': [' Proportion of individuals who have recovered from the virus after a period of time in a hospital'],\n",
       " 'D': [' Proportion of individuals who have succumbed as a direct result of the virus'],\n",
       " 'beta': [' Force of infection on a member of age group i in location j'],\n",
       " 'sigma': [' Viral latent period'],\n",
       " 'alpha': [' Rate of infections that are asymptomatic'],\n",
       " 'nu': [' Fraction of cases necessitating hospitalization'],\n",
       " 'phi': [' Case fatality rate for age group i'],\n",
       " 'gamma': [' Infectious period'],\n",
       " 'tau': [' Recovery period from severe infection for age group i'],\n",
       " 'Ts': [' Mean serial interval'],\n",
       " 'Tg': [' Mean generation interval'],\n",
       " 'CFR': [' Case fatality ratio'],\n",
       " 'CHR': [' Case hospitalization-severity ratio'],\n",
       " 'I_to_H_time': [' Time it takes from symptom onset to hospitalization in days'],\n",
       " 'H_TIME': [' Number of days an individual will be hospitalized'],\n",
       " 'D_REPORT_TIME': [' Number of days between death and reporting'],\n",
       " 'N_age_init': [' Population data stratified by age'],\n",
       " 'case_hist': [' Cumulative historical case data'],\n",
       " 'death_hist': [' Cumulative historical death data'],\n",
       " 'R0_frac': [' Factor that is multiplied with the baseline mobility value to model the effect of NPIs']}"
      ]
     },
     "execution_count": 15,
     "metadata": {},
     "output_type": "execute_result"
    }
   ],
   "source": [
    "resses"
   ]
  },
  {
   "cell_type": "code",
   "execution_count": 9,
   "id": "7aa12f0e-51cc-4c96-aa7c-2c3d2a8434d5",
   "metadata": {
    "execution": {
     "iopub.execute_input": "2023-07-11T16:04:40.387243Z",
     "iopub.status.busy": "2023-07-11T16:04:40.386869Z",
     "iopub.status.idle": "2023-07-11T16:04:40.391159Z",
     "shell.execute_reply": "2023-07-11T16:04:40.390371Z",
     "shell.execute_reply.started": "2023-07-11T16:04:40.387219Z"
    },
    "pycharm": {
     "name": "#%%\n"
    }
   },
   "outputs": [],
   "source": [
    "#resses"
   ]
  },
  {
   "cell_type": "code",
   "execution_count": 93,
   "id": "eb3240ce-7847-4b5b-9210-68463c0f1a14",
   "metadata": {
    "execution": {
     "iopub.execute_input": "2023-07-11T15:54:59.542892Z",
     "iopub.status.busy": "2023-07-11T15:54:59.542280Z",
     "iopub.status.idle": "2023-07-11T15:54:59.557247Z",
     "shell.execute_reply": "2023-07-11T15:54:59.556493Z",
     "shell.execute_reply.started": "2023-07-11T15:54:59.542853Z"
    },
    "pycharm": {
     "name": "#%%\n"
    }
   },
   "outputs": [
    {
     "data": {
      "text/plain": [
       "997"
      ]
     },
     "execution_count": 93,
     "metadata": {},
     "output_type": "execute_result"
    }
   ],
   "source": [
    "split_latex_into_chunks(prompt_template=var_prompt, document=bucky_text, model_name=None, max_answer_size=256, max_total_size=1000)[0]"
   ]
  },
  {
   "cell_type": "code",
   "execution_count": 94,
   "id": "c29f4a00-6ac6-4591-a4b8-d158c085160a",
   "metadata": {
    "execution": {
     "iopub.execute_input": "2023-07-11T15:55:28.591153Z",
     "iopub.status.busy": "2023-07-11T15:55:28.590733Z",
     "iopub.status.idle": "2023-07-11T15:55:28.660114Z",
     "shell.execute_reply": "2023-07-11T15:55:28.659649Z",
     "shell.execute_reply.started": "2023-07-11T15:55:28.591129Z"
    },
    "pycharm": {
     "name": "#%%\n"
    }
   },
   "outputs": [
    {
     "data": {
      "text/plain": [
       "'\\\\documentclass[10pt]{article}\\n\\\\usepackage[utf8]{inputenc}\\n\\\\usepackage[T1]{fontenc}\\n\\\\usepackage{amsmath}\\n\\\\usepackage{amsfonts}\\n\\\\usepackage{amssymb}\\n\\\\usepackage[version=4]{mhchem}\\n\\\\usepackage{stmaryrd}\\n\\\\usepackage{hyperref}\\n\\\\hypersetup{colorlinks=true, linkcolor=blue, filecolor=magenta, urlcolor=cyan,}\\n\\\\urlstyle{same}\\n\\\\usepackage{graphicx}\\n\\\\usepackage[export]{adjustbox}\\n\\\\graphicspath{ {./images/} }\\n\\n\\\\title{The Bucky Model }\\n\\n\\\\author{}\\n\\\\date{}\\n\\n\\n\\\\begin{document}\\n\\\\maketitle\\nOctober 1, 2022\\n\\n(The following documentation was manually converted to IAT $\\\\mathrm{E} X$ from the Bucky Model online web documentation: \\\\href{https://docs.buckymodel.com/en/}{https://docs.buckymodel.com/en/} latest/, converted on 2022-10-01.)\\n\\nThe Bucky model is a spatial SEIR model for simulating COVID-19 at the county level. The Bucky model contains code for running simulations, processing data, and visualizing results.\\n\\n\\\\section{Installation Guide}\\n\\\\begin{enumerate}\\n  \\\\item To begin, first checkout the code from GitLab:\\n\\\\end{enumerate}\\n\\ngit clone \\\\href{https://gitlab.com/kinsemc/bucky.git}{https://gitlab.com/kinsemc/bucky.git}\\n\\n\\\\section{TODO}\\nNOTE: EXTRACTION INCOMPLETE\\n\\n\\\\section{Model Information}\\n\\\\subsection{Model Description}\\nThe JHUAPL-Bucky model is a COVID-19 metapopulation compartment model initially designed to estimate medium-term (on the order of weeks) case incidence and healthcare usage at the second administrative (admin-2, ADM2) level (counties in the United States; cities or districts in various countries). These ADM2 regions are all coupled using mobility information to approximate the both inter- and intra-regional contacts between the members of the populations. Using the historical case and death data, local demographic data (see Graph Information), and a set of parameters derived from empirical studies, the model infers a number of localized features (see table below) that are related to spread of COVID-19. Projecting forward in time, Bucky then utilizes an age stratified compartment model to not only estimate the case load but additionally provide outputs relating to the healthcare burden of each locality. These time forecasts are performed a large number of times (Monte Carlo experiments), with each individual simulation using minor modifications to the input parameters at random, scaled to the uncertainty of the estimates. The resulting collection of simulations is then used to obtain probabilistic estimates for all output variables.\\n\\n\\\\subsubsection{Model Overview}\\nAt its base, the Bucky model is a spatially distributed SEIR model. SEIR models are a class of deterministic models used to model infectious diseases that are spread by person-to-person transmission in a population. The simplest versions of such models are systems of ordinary differential equations and are analysed mathematically [Het89].\\n\\nWithin the context of an SEIR model, disease dynamics are modeled over time by moving the population through a series of compartments (otherwise known as \"bins\" or \"states\"). Those states are as follows:\\n\\n\\\\begin{itemize}\\n  \\\\item susceptible (S): the fraction of the population that could be potentially subjected to the infection;\\n\\n  \\\\item exposed (E): the fraction of the population that has been infected but does not show symptoms yet;\\n\\n  \\\\item infectious (I): the fraction of the population that is infective after the latent period;\\n\\n  \\\\item recovered (R): The fraction of the population that have been infected and recovered from the infection.\\n\\n\\\\end{itemize}\\n\\nThe total population is represented by the sum of the compartments.'"
      ]
     },
     "execution_count": 94,
     "metadata": {},
     "output_type": "execute_result"
    }
   ],
   "source": [
    "split_latex_into_chunks(prompt_template=var_prompt, document=bucky_text, model_name=model_name, max_answer_size=256, max_total_size=1000)[0]"
   ]
  },
  {
   "cell_type": "code",
   "execution_count": 65,
   "id": "fd419bfd-9dc2-49b5-813c-ba3a37d9403b",
   "metadata": {
    "execution": {
     "iopub.execute_input": "2023-07-11T15:33:56.140362Z",
     "iopub.status.busy": "2023-07-11T15:33:56.139985Z",
     "iopub.status.idle": "2023-07-11T15:33:56.145057Z",
     "shell.execute_reply": "2023-07-11T15:33:56.144327Z",
     "shell.execute_reply.started": "2023-07-11T15:33:56.140338Z"
    },
    "pycharm": {
     "name": "#%%\n"
    }
   },
   "outputs": [],
   "source": [
    "with open('./template.txt') as o:\n",
    "    temp = o.read()"
   ]
  },
  {
   "cell_type": "code",
   "execution_count": 67,
   "id": "ba7ffb93-5378-4e82-aadb-6d14edf20ced",
   "metadata": {
    "execution": {
     "iopub.execute_input": "2023-07-11T15:34:00.658616Z",
     "iopub.status.busy": "2023-07-11T15:34:00.658245Z",
     "iopub.status.idle": "2023-07-11T15:34:00.662425Z",
     "shell.execute_reply": "2023-07-11T15:34:00.661734Z",
     "shell.execute_reply.started": "2023-07-11T15:34:00.658594Z"
    },
    "pycharm": {
     "name": "#%%\n"
    }
   },
   "outputs": [
    {
     "name": "stdout",
     "output_type": "stream",
     "text": [
      "hello\n",
      "1234\n",
      "this is a template\n",
      "\n",
      "These are escaped: {hallo}\n"
     ]
    }
   ],
   "source": [
    "print(temp.format(world=1234))"
   ]
  },
  {
   "cell_type": "code",
   "execution_count": 30,
   "id": "bbf27de6-694e-4313-9932-9c683a4f7821",
   "metadata": {
    "execution": {
     "iopub.execute_input": "2023-07-11T15:00:13.248330Z",
     "iopub.status.busy": "2023-07-11T15:00:13.247761Z",
     "iopub.status.idle": "2023-07-11T15:00:13.333046Z",
     "shell.execute_reply": "2023-07-11T15:00:13.332666Z",
     "shell.execute_reply.started": "2023-07-11T15:00:13.248300Z"
    },
    "pycharm": {
     "name": "#%%\n"
    }
   },
   "outputs": [
    {
     "name": "stdout",
     "output_type": "stream",
     "text": [
      "\\documentclass[10pt]{article}\n",
      "\\usepackage[utf8]{inputenc}\n",
      "\\usepackage[T1]{fontenc}\n",
      "\\usepackage{amsmath}\n",
      "\\usepackage{amsfonts}\n",
      "\\usepackage{amssymb}\n",
      "\\usepackage[version=4]{mhchem}\n",
      "\\usepackage{stmaryrd}\n",
      "\\usepackage{hyperref}\n",
      "\\hypersetup{colorlinks=true, linkcolor=blue, filecolor=magenta, urlcolor=cyan,}\n",
      "\\urlstyle{same}\n",
      "\\usepackage{graphicx}\n",
      "\\usepackage[export]{adjustbox}\n",
      "\\graphicspath{ {./images/} }\n",
      "\n",
      "\\title{The Bucky Model }\n",
      "\n",
      "\\author{}\n",
      "\\date{}\n",
      "\n",
      "\n",
      "\\begin{document}\n",
      "\\maketitle\n",
      "October 1, 2022\n",
      "\n",
      "(The following documentation was manually converted to IAT $\\mathrm{E} X$ from the Bucky Model online web documentation: \\href{https://docs.buckymodel.com/en/}{https://docs.buckymodel.com/en/} latest/, converted on 2022-10-01.)\n",
      "\n",
      "The Bucky model is a spatial SEIR model for simulating COVID-19 at the county level. The Bucky model contains code for running simulations, processing data, and visualizing results.\n",
      "\n",
      "\\section{Installation Guide}\n",
      "\\begin{enumerate}\n",
      "  \\item To begin, first checkout the code from GitLab:\n",
      "\\end{enumerate}\n",
      "\n",
      "git clone \\href{https://gitlab.com/kinsemc/bucky.git}{https://gitlab.com/kinsemc/bucky.git}\n",
      "\n",
      "\\section{TODO}\n",
      "NOTE: EXTRACTION INCOMPLETE\n",
      "\n",
      "\\section{Model Information}\n",
      "\\subsection{Model Description}\n",
      "The JHUAPL-Bucky model is a COVID-19 metapopulation compartment model initially designed to estimate medium-term (on the order of weeks) case incidence and healthcare usage at the second administrative (admin-2, ADM2) level (counties in the United States; cities or districts in various countries). These ADM2 regions are all coupled using mobility information to approximate the both inter- and intra-regional contacts between the members of the populations. Using the historical case and death data, local demographic data (see Graph Information), and a set of parameters derived from empirical studies, the model infers a number of localized features (see table below) that are related to spread of COVID-19. Projecting forward in time, Bucky then utilizes an age stratified compartment model to not only estimate the case load but additionally provide outputs relating to the healthcare burden of each locality. These time forecasts are performed a large number of times (Monte Carlo experiments), with each individual simulation using minor modifications to the input parameters at random, scaled to the uncertainty of the estimates. The resulting collection of simulations is then used to obtain probabilistic estimates for all output variables.\n",
      "\n",
      "\\subsubsection{Model Overview}\n",
      "At its base, the Bucky model is a spatially distributed SEIR model. SEIR models are a class of deterministic models used to model infectious diseases that are spread by person-to-person transmission in a population. The simplest versions of such models are systems of ordinary differential equations and are analysed mathematically [Het89].\n",
      "\n",
      "Within the context of an SEIR model, disease dynamics are modeled over time by moving the population through a series of compartments (otherwise known as \"bins\" or \"states\"). Those states are as follows:\n",
      "\n",
      "\\begin{itemize}\n",
      "  \\item susceptible (S): the fraction of the population that could be potentially subjected to the infection;\n",
      "\n",
      "  \\item exposed (E): the fraction of the population that has been infected but does not show symptoms yet;\n",
      "\n",
      "  \\item infectious (I): the fraction of the population that is infective after the latent period;\n",
      "\n",
      "  \\item recovered (R): The fraction of the population that have been infected and recovered from the infection.\n",
      "\n",
      "\\end{itemize}\n",
      "\n",
      "The total population is represented by the sum of the compartments. Basic assumptions of this type of model include:\n",
      "\n",
      "\\begin{itemize}\n",
      "  \\item Once the model is initialized, no individuals are added to the susceptible group. It follows that births and natural deaths are unaccounted for, migration in/out of the region is frozen for the duration of a simulation, and none of the population has been vaccinated or is immune to the pathogen;\n",
      "\n",
      "  \\item The population within each strata is uniform and each pair of individuals within the strata are equally likely to interact;\n",
      "\n",
      "  \\item The probability of interaction between individuals in the population is not rare;\n",
      "\n",
      "  \\item Once infected, an individual cannot be reinfected with the virus.\n",
      "\n",
      "\\end{itemize}\n",
      "\n",
      "Note: The compartments $E, I^{\\text {asym }}, I^{\\text {mild }}, I^{\\text {hosp }}, R^{\\text {hosp }}$ are gamma-distributed with shape parameters specified in the configuration file.\n",
      "\n",
      "\\begin{center}\n",
      "\\includegraphics[max width=\\textwidth]{2023_03_20_d3e634cc02a6a0c25455g-03}\n",
      "\\end{center}\n",
      "\n",
      "Figure 1: Model\n",
      "\n",
      "\\begin{center}\n",
      "\\begin{tabular}{|l|l|}\n",
      "\\hline\n",
      "Variable & Description \\\\\n",
      "\\hline\n",
      "$S_{i j}$ & Proportion of individuals who are susceptible to the virus \\\\\n",
      "\\hline\n",
      "$E_{i j}$ & Proportion of individuals who have been exposed to the virus \\\\\n",
      "\\hline\n",
      "$I_{i, j}^{\\text {hosp }}$ & $\\begin{array}{l}\\text { Proportion of individuals that are exhibiting severe disease } \\\\ \\text { symptoms and are in need of hospitalization }\\end{array}$ \\\\\n",
      "\\hline\n",
      "$I_{i, j}^{\\text {mild }}$ & $\\begin{array}{l}\\text { Proportion of individuals that are exhibiting mild disease symp- } \\\\ \\text { toms }\\end{array}$ \\\\\n",
      "\\hline\n",
      "$I_{i, j}^{\\text {asym }}$ & Proportion of individuals who are infected but asymptomatic \\\\\n",
      "\\hline\n",
      "$R_{i, j}$ & $\\begin{array}{l}\\text { Proportion of individuals who have recovered from the virus and } \\\\ \\text { are no longer capable of infecting other individuals }\\end{array}$ \\\\\n",
      "\\hline\n",
      "$R_{i, j}^{\\text {hosp }}$ & $\\begin{array}{l}\\text { Proportion of individuals who have recovered from the virus } \\\\ \\text { after a period of time in a hospital }\\end{array}$ \\\\\n",
      "\\hline\n",
      "$D_{i, j}$ & $\\begin{array}{l}\\text { Proportion of individuals who have succumbed as a direct result } \\\\ \\text { of the virus }\\end{array}$ \\\\\n",
      "\\hline\n",
      "\\end{tabular}\n",
      "\\end{center}\n",
      "\n",
      "\\begin{center}\n",
      "\\begin{tabular}{|l|l|}\n",
      "\\hline\n",
      "Parameter & Description \\\\\n",
      "\\hline\n",
      "$\\beta_{i, j}$ & Force of infection on a member of age group $i$ in location $j$ \\\\\n",
      "\\hline\n",
      "$\\frac{1}{\\sigma}$ & Viral latent period \\\\\n",
      "\\hline\n",
      "$\\alpha$ & Rate of infections that are asymptomatic \\\\\n",
      "\\hline\n",
      "$\\nu_{i}$ & Fraction of cases necessitating hospitalization \\\\\n",
      "\\hline\n",
      "$\\phi_{i}$ & Case fatality rate for age group $i$ \\\\\n",
      "\\hline\n",
      "$\\frac{1}{\\gamma}$ & Infectious period \\\\\n",
      "\\hline\n",
      "$\\tau_{i}$ & Recovery period from severe infection for age group $i$ \\\\\n",
      "\\hline\n",
      "\\end{tabular}\n",
      "\\end{center}\n",
      "\n",
      "The Bucky model consists of a collection of coupled and stratified SEIR models. Since COVID-19 exhibits heavily age dependent properties, wherein a majority of severe cases are in older individuals, SEIR models are stratified via the age demographic structure of a geographic region in order to get accurate estimates of case severity and deaths. Additionally, to model the spatial dynamics of COVID spread, we consider a set of SEIR sub-models at the smallest geographic level for which we have appropriate data.\n",
      "\n",
      "The basic structure of the model is displayed in the diagram above. Age is denoted by index $i$, and geographic regions are denoted by index $j$. Within each strata, Bucky models the susceptible and exposed populations, followed by one of three possible infected states: asymptomatic $\\left(I^{\\text {asym }}\\right)$, mild $\\left(I^{\\text {mild }}\\right)$, and severe $\\left(I^{\\text {hosp }}\\right)$. Members of the population who are either asymptomatic or exhibit mild symptoms recover from the virus at a rate $\\gamma$. Those who exhibit severe symptoms and are in need of healthcare support will either recover after a period of illness at rate $1 / \\tau_{i}$ or expire as a result of the virus at rate $\\phi_{i} \\gamma$.\n",
      "\n",
      "A critical component of the Bucky model is the parameterization of the model. A number of parameters must be derived and/or estimated from their original data sources. These include, but are not limited to those listed in tables above as well as local estimates of local case doubling time, case reporting rate, case fatality rate, and the case hospitalization rate. Further details of these quantities as well as how they are estimated are given in the Model Input and Output section. All parameter estimation for the model includes the basic assumption that, once estimated and initialized, these parameters remain constant during the simulation period.\n",
      "\n",
      "Coupling individual age and geographically stratified sub-models occurs across a number of dimensions including disease state. Sub-models are coupled together using both the spatial mobility matrix and age-based contact matrices. Modeling of the overall interaction rates between geographic locations and age groups is an important component in accurately modeling non-pharmaceutical Interventions (NPIs). Bucky accounts for the implementation of NPIs (e.g. school closures, border closures, face mask wearing) via modifying either the social contact matrices or the basic reproductive number, $R_{0}$. For further details, see Non-pharmaceutical Interventions.\n",
      "\n",
      "All together, these components contribute to a model that is adaptable to a number of contexts. Bucky is calibrated to the uncertainties in both the case data and the disease parameters, leading to a model that is robust to both the quality and resolution of available input data.\n",
      "\n",
      "\\subsection{Model Input and Output}\n",
      "\\subsubsection{Input}\n",
      "The Bucky model uses two main sources of input: the input graph and CDCrecommended parameters.\n",
      "\n",
      "Input Graph The input graph contains data regarding demographics, geographic information, and historical case information. For details, see Graph Information.\n",
      "\n",
      "CDC-Recommended Parameters The Centers for Disease Control and Prevention $(\\mathrm{CDC})$ has published pandemic planning scenarios [fDCP +20$]$ which contain recommended parameters describing biological and epidemiological parameters. Of these five planning scenarios, Bucky utilizes scenario 5, which contains the CDC's current best estimates for disease severity and transmission. These parameters are described in detail, based on information available from the CDC, and summarized in the table below. CDC-recommended parameters are controlled by parameter files located in the par directory.\n",
      "\n",
      "\\begin{center}\n",
      "\\begin{tabular}{|c|c|c|}\n",
      "\\hline\n",
      "Parameter Description & $\\begin{array}{l}\\text { Bucky } \\quad \\text { Variable } \\\\ \\text { Name }\\end{array}$ & $\\begin{array}{l}\\text { Value (Interquartile } \\\\ \\text { Range) }\\end{array}$ \\\\\n",
      "\\hline\n",
      "Mean generation interval & T-g & $7.5(5.5,8.5)$ \\\\\n",
      "\\hline\n",
      "Mean serial interval & T\\_S & $6(5,7)$ \\\\\n",
      "\\hline\n",
      "$\\begin{array}{l}\\text { Fraction of infections that } \\\\ \\text { are asymptomatic }\\end{array}$ & asym\\_frac & 0.4 \\\\\n",
      "\\hline\n",
      "$\\begin{array}{l}\\text { Relative infectiousness of } \\\\ \\text { asymptomatic individuals }\\end{array}$ & rel\\_inf\\_asym & 0.75 \\\\\n",
      "\\hline\n",
      "$\\begin{array}{l}\\text { Percentage of transmission } \\\\ \\text { prior to symptom onset }\\end{array}$ & frac\\_trans\\_before\\_s & $\\ln 0.5$ \\\\\n",
      "\\hline\n",
      "Case fatality ratio & F & $\\begin{array}{l}\\text { - } 0-49 \\text { years: } 0.0005 \\\\ \\text { - } 50 \\text { - } 64 \\text { years: } 0.002 \\\\ \\text { - } 65+\\text { years: } 0.013\\end{array}$ \\\\\n",
      "\\hline\n",
      "Case hospitalization ratio & $\\mathrm{H}$ & $\\begin{array}{l}\\text { - } 0-49 \\text { years: } 0.017 \\\\ \\text { - } 50 \\text { - } 64 \\text { years: } 0.045 \\\\ \\text { - } 65+\\text { years: } 0.074\\end{array}$ \\\\\n",
      "\\hline\n",
      "$\\begin{array}{l}\\text { Time from symptom onset } \\\\ \\text { to hospitalization }\\end{array}$ & I\\_TO\\_H\\_TIME & $\\begin{array}{l}\\text { - } 0-49 \\text { years: } 6 \\text { days } \\\\ \\text { - } 50-64 \\text { years: } 6 \\text { days } \\\\ \\text { - } 65+\\text { years: } 4 \\text { days }\\end{array}$ \\\\\n",
      "\\hline\n",
      "Duration of hospitalization & H\\_TIME & $\\begin{array}{l}\\text { - } 0-49 \\text { years: } 4.9 \\text { days } \\\\ \\text { - } 50-64 \\text { years: } 7.6 \\text { days } \\\\ \\text { - } 65+\\text { years: } 8.1 \\text { days }\\end{array}$ \\\\\n",
      "\\hline\n",
      "$\\begin{array}{l}\\text { Time between death and re- } \\\\ \\text { porting }\\end{array}$ & D\\_REPORT\\_TIME & $\\begin{array}{l}\\text { - } 0-49 \\text { years: } 7.1 \\text { days } \\\\ \\text { - } 50-64 \\text { years: } 7.2 \\text { days } \\\\ \\text { - } 65+\\text { years: } 6.6 \\text { days }\\end{array}$ \\\\\n",
      "\\hline\n",
      "\\end{tabular}\n",
      "\\end{center}\n",
      "\n",
      "Disease Transmission The following parameters describe the transmissibility of the virus. The percentage of infections that are asymptomatic, asym\\_frac, refers to the percentage of infections that will never develop symptoms. This is a difficult parameter to estimate due to logistical complications (individuals would need to be tested to ensure they remain asymptomatic while infectious) and because the level of asymptomatic infections varies by age. The best estimate for this parameter is the midpoint between the lower bound of $[\\mathrm{BCB}+20]$, the upper bound of $[\\mathrm{PTC}+20]$, which corresponds to the estimates from [OT20].\n",
      "\n",
      "The relative infectiousness of asymptomatic individuals compared to symptomatic individuals rel\\_inf asym is calculated using upper and lower bounds on the difference in viral dynamics between asymptomatic and symptomatic cases. The lower bound is derived from data indicating that more severe cases have higher viral loads [LYW +20$]$ and a study that indicates symptomatic cases shed for longer and have higher viral loads than asymptomatic cases [NYS+20]. Other studies indicate that both symptomatic and asymptomatic cases have similar duration and viral shedding [LKL+20], which is used as the upper bound.\n",
      "\n",
      "The final parameter relating to disease transmission is the fraction of transmission prior to symptom onset frac\\_trans\\_before\\_sym which corresponds to the percentage of new cases that were caused by transmission from an individual before they become symptomatic. The lower bound is derived from\n"
     ]
    }
   ],
   "source": [
    "print(create_prompt_tasks_latex(prompt=var_prompt, document=bucky_text, model_name=model_name)[0])"
   ]
  },
  {
   "cell_type": "code",
   "execution_count": 84,
   "id": "ef194bfe-5c1a-49b4-a048-10e771a279ce",
   "metadata": {
    "execution": {
     "iopub.execute_input": "2023-07-10T21:44:09.321744Z",
     "iopub.status.busy": "2023-07-10T21:44:09.320804Z",
     "iopub.status.idle": "2023-07-10T21:44:09.328972Z",
     "shell.execute_reply": "2023-07-10T21:44:09.328192Z",
     "shell.execute_reply.started": "2023-07-10T21:44:09.321677Z"
    },
    "pycharm": {
     "name": "#%%\n"
    }
   },
   "outputs": [],
   "source": [
    "import langchain\n",
    "from langchain.text_splitter import LatexTextSplitter\n",
    "model_name='text-davinci-003'\n",
    "latex_splitter = LatexTextSplitter.from_tiktoken_encoder(model_name=model_name, chunk_size=4097, chunk_overlap=100)"
   ]
  },
  {
   "cell_type": "code",
   "execution_count": 18,
   "id": "f145651c-2a2a-40b3-abf2-6b640483aee4",
   "metadata": {
    "execution": {
     "iopub.execute_input": "2023-07-11T14:55:15.360563Z",
     "iopub.status.busy": "2023-07-11T14:55:15.360101Z",
     "iopub.status.idle": "2023-07-11T14:55:15.364057Z",
     "shell.execute_reply": "2023-07-11T14:55:15.363361Z",
     "shell.execute_reply.started": "2023-07-11T14:55:15.360527Z"
    },
    "pycharm": {
     "name": "#%%\n"
    }
   },
   "outputs": [],
   "source": [
    "document = bucky_text"
   ]
  },
  {
   "cell_type": "code",
   "execution_count": 22,
   "id": "7dcc6152-9d99-4ae0-a8f7-d1cbe9b16b92",
   "metadata": {
    "execution": {
     "iopub.execute_input": "2023-07-11T14:56:20.095287Z",
     "iopub.status.busy": "2023-07-11T14:56:20.094670Z",
     "iopub.status.idle": "2023-07-11T14:56:20.099130Z",
     "shell.execute_reply": "2023-07-11T14:56:20.098256Z",
     "shell.execute_reply.started": "2023-07-11T14:56:20.095258Z"
    },
    "pycharm": {
     "name": "#%%\n"
    }
   },
   "outputs": [],
   "source": [
    "model_name = 'text-davinci-003'\n",
    "chunk_token_length = None"
   ]
  },
  {
   "cell_type": "code",
   "execution_count": 13,
   "id": "823d4893-7bbc-491d-87ff-ff12b8565f9f",
   "metadata": {
    "execution": {
     "iopub.execute_input": "2023-07-11T16:10:19.433477Z",
     "iopub.status.busy": "2023-07-11T16:10:19.432966Z",
     "iopub.status.idle": "2023-07-11T16:10:19.437463Z",
     "shell.execute_reply": "2023-07-11T16:10:19.436852Z",
     "shell.execute_reply.started": "2023-07-11T16:10:19.433453Z"
    },
    "pycharm": {
     "name": "#%%\n"
    }
   },
   "outputs": [],
   "source": [
    "with open(os.path.join(os.path.dirname(methods.__file__), 'prompts/text_var_prompt.txt'), \"r\") as f:\n",
    "    var_prompt = f.read()"
   ]
  },
  {
   "cell_type": "code",
   "execution_count": 24,
   "id": "fdcc9308-8edf-443c-9bfa-670f16b4fa15",
   "metadata": {
    "execution": {
     "iopub.execute_input": "2023-07-11T14:56:25.671531Z",
     "iopub.status.busy": "2023-07-11T14:56:25.671086Z",
     "iopub.status.idle": "2023-07-11T14:56:25.675638Z",
     "shell.execute_reply": "2023-07-11T14:56:25.674767Z",
     "shell.execute_reply.started": "2023-07-11T14:56:25.671504Z"
    },
    "pycharm": {
     "name": "#%%\n"
    }
   },
   "outputs": [
    {
     "name": "stdout",
     "output_type": "stream",
     "text": [
      "Here is some text:\n",
      "\n",
      "\\documentclass[10pt]{article}\n",
      "\\usepackage[utf8]{inputenc}\n",
      "\\usepackage[T1]{fontenc}\n",
      "\\usepackage{amsmath}\n",
      "\\usepackage{amsfonts}\n",
      "\\usepackage{amssymb}\n",
      "\\usepackage[version=4]{mhchem}\n",
      "\\usepackage{stmaryrd}\n",
      "\\usepackage{hyperref}\n",
      "\\hypersetup{colorlinks=true, linkcolor=blue, filecolor=magenta, urlcolor=cyan,}\n",
      "\\urlstyle{same}\n",
      "\\usepackage{graphicx}\n",
      "\\usepackage[export]{adjustbox}\n",
      "\\graphicspath{ {./images/} }\n",
      "\n",
      "\\title{The Bucky Model }\n",
      "\n",
      "\\author{}\n",
      "\\date{}\n",
      "\n",
      "\n",
      "\\begin{document}\n",
      "\\maketitle\n",
      "October 1, 2022\n",
      "\n",
      "(The following documentation was manually converted to IAT $\\mathrm{E} X$ from the Bucky Model online web documentation: \\href{https://docs.buckymodel.com/en/}{https://docs.buckymodel.com/en/} latest/, converted on 2022-10-01.)\n",
      "\n",
      "The Bucky model is a spatial SEIR model for simulating COVID-19 at the county level. The Bucky model contains code for running simulations, processing data, and visualizing results.\n",
      "\n",
      "\\section{Installation Guide}\n",
      "\\begin{enumerate}\n",
      "  \\item To begin, first checkout the code from GitLab:\n",
      "\\end{enumerate}\n",
      "\n",
      "git clone \\href{https://gitlab.com/kinsemc/bucky.git}{https://gitlab.com/kinsemc/bucky.git}\n",
      "\n",
      "\\section{TODO}\n",
      "NOTE: EXTRACTION INCOMPLETE\n",
      "\n",
      "\\section{Model Information}\n",
      "\\subsection{Model Description}\n",
      "The JHUAPL-Bucky model is a COVID-19 metapopulation compartment model initially designed to estimate medium-term (on the order of weeks) case incidence and healthcare usage at the second administrative (admin-2, ADM2) level (counties in the United States; cities or districts in various countries). These ADM2 regions are all coupled using mobility information to approximate the both inter- and intra-regional contacts between the members of the populations. Using the historical case and death data, local demographic data (see Graph Information), and a set of parameters derived from empirical studies, the model infers a number of localized features (see table below) that are related to spread of COVID-19. Projecting forward in time, Bucky then utilizes an age stratified compartment model to not only estimate the case load but additionally provide outputs relating to the healthcare burden of each locality. These time forecasts are performed a large number of times (Monte Carlo experiments), with each individual simulation using minor modifications to the input parameters at random, scaled to the uncertainty of the estimates. The resulting collection of simulations is then used to obtain probabilistic estimates for all output variables.\n",
      "\n",
      "\\subsubsection{Model Overview}\n",
      "At its base, the Bucky model is a spatially distributed SEIR model. SEIR models are a class of deterministic models used to model infectious diseases that are spread by person-to-person transmission in a population. The simplest versions of such models are systems of ordinary differential equations and are analysed mathematically [Het89].\n",
      "\n",
      "Within the context of an SEIR model, disease dynamics are modeled over time by moving the population through a series of compartments (otherwise known as \"bins\" or \"states\"). Those states are as follows:\n",
      "\n",
      "\\begin{itemize}\n",
      "  \\item susceptible (S): the fraction of the population that could be potentially subjected to the infection;\n",
      "\n",
      "  \\item exposed (E): the fraction of the population that has been infected but does not show symptoms yet;\n",
      "\n",
      "  \\item infectious (I): the fraction of the population that is infective after the latent period;\n",
      "\n",
      "  \\item recovered (R): The fraction of the population that have been infected and recovered from the infection.\n",
      "\n",
      "\\end{itemize}\n",
      "\n",
      "The total population is represented by the sum of the compartments. Basic assumptions of this type of model include:\n",
      "\n",
      "\\begin{itemize}\n",
      "  \\item Once the model is initialized, no individuals are added to the susceptible group. It follows that births and natural deaths are unaccounted for, migration in/out of the region is frozen for the duration of a simulation, and none of the population has been vaccinated or is immune to the pathogen;\n",
      "\n",
      "  \\item The population within each strata is uniform and each pair of individuals within the strata are equally likely to interact;\n",
      "\n",
      "  \\item The probability of interaction between individuals in the population is not rare;\n",
      "\n",
      "  \\item Once infected, an individual cannot be reinfected with the virus.\n",
      "\n",
      "\\end{itemize}\n",
      "\n",
      "Note: The compartments $E, I^{\\text {asym }}, I^{\\text {mild }}, I^{\\text {hosp }}, R^{\\text {hosp }}$ are gamma-distributed with shape parameters specified in the configuration file.\n",
      "\n",
      "\\begin{center}\n",
      "\\includegraphics[max width=\\textwidth]{2023_03_20_d3e634cc02a6a0c25455g-03}\n",
      "\\end{center}\n",
      "\n",
      "Figure 1: Model\n",
      "\n",
      "\\begin{center}\n",
      "\\begin{tabular}{|l|l|}\n",
      "\\hline\n",
      "Variable & Description \\\\\n",
      "\\hline\n",
      "$S_{i j}$ & Proportion of individuals who are susceptible to the virus \\\\\n",
      "\\hline\n",
      "$E_{i j}$ & Proportion of individuals who have been exposed to the virus \\\\\n",
      "\\hline\n",
      "$I_{i, j}^{\\text {hosp }}$ & $\\begin{array}{l}\\text { Proportion of individuals that are exhibiting severe disease } \\\\ \\text { symptoms and are in need of hospitalization }\\end{array}$ \\\\\n",
      "\\hline\n",
      "$I_{i, j}^{\\text {mild }}$ & $\\begin{array}{l}\\text { Proportion of individuals that are exhibiting mild disease symp- } \\\\ \\text { toms }\\end{array}$ \\\\\n",
      "\\hline\n",
      "$I_{i, j}^{\\text {asym }}$ & Proportion of individuals who are infected but asymptomatic \\\\\n",
      "\\hline\n",
      "$R_{i, j}$ & $\\begin{array}{l}\\text { Proportion of individuals who have recovered from the virus and } \\\\ \\text { are no longer capable of infecting other individuals }\\end{array}$ \\\\\n",
      "\\hline\n",
      "$R_{i, j}^{\\text {hosp }}$ & $\\begin{array}{l}\\text { Proportion of individuals who have recovered from the virus } \\\\ \\text { after a period of time in a hospital }\\end{array}$ \\\\\n",
      "\\hline\n",
      "$D_{i, j}$ & $\\begin{array}{l}\\text { Proportion of individuals who have succumbed as a direct result } \\\\ \\text { of the virus }\\end{array}$ \\\\\n",
      "\\hline\n",
      "\\end{tabular}\n",
      "\\end{center}\n",
      "\n",
      "\\begin{center}\n",
      "\\begin{tabular}{|l|l|}\n",
      "\\hline\n",
      "Parameter & Description \\\\\n",
      "\\hline\n",
      "$\\beta_{i, j}$ & Force of infection on a member of age group $i$ in location $j$ \\\\\n",
      "\\hline\n",
      "$\\frac{1}{\\sigma}$ & Viral latent period \\\\\n",
      "\\hline\n",
      "$\\alpha$ & Rate of infections that are asymptomatic \\\\\n",
      "\\hline\n",
      "$\\nu_{i}$ & Fraction of cases necessitating hospitalization \\\\\n",
      "\\hline\n",
      "$\\phi_{i}$ & Case fatality rate for age group $i$ \\\\\n",
      "\\hline\n",
      "$\\frac{1}{\\gamma}$ & Infectious period \\\\\n",
      "\\hline\n",
      "$\\tau_{i}$ & Recovery period from severe infection for age group $i$ \\\\\n",
      "\\hline\n",
      "\\end{tabular}\n",
      "\\end{center}\n",
      "\n",
      "The Bucky model consists of a collection of coupled and stratified SEIR models. Since COVID-19 exhibits heavily age dependent properties, wherein a majority of severe cases are in older individuals, SEIR models are stratified via the age demographic structure of a geographic region in order to get accurate estimates of case severity and deaths. Additionally, to model the spatial dynamics of COVID spread, we consider a set of SEIR sub-models at the smallest geographic level for which we have appropriate data.\n",
      "\n",
      "The basic structure of the model is displayed in the diagram above. Age is denoted by index $i$, and geographic regions are denoted by index $j$. Within each strata, Bucky models the susceptible and exposed populations, followed by one of three possible infected states: asymptomatic $\\left(I^{\\text {asym }}\\right)$, mild $\\left(I^{\\text {mild }}\\right)$, and severe $\\left(I^{\\text {hosp }}\\right)$. Members of the population who are either asymptomatic or exhibit mild symptoms recover from the virus at a rate $\\gamma$. Those who exhibit severe symptoms and are in need of healthcare support will either recover after a period of illness at rate $1 / \\tau_{i}$ or expire as a result of the virus at rate $\\phi_{i} \\gamma$.\n",
      "\n",
      "A critical component of the Bucky model is the parameterization of the model. A number of parameters must be derived and/or estimated from their original data sources. These include, but are not limited to those listed in tables above as well as local estimates of local case doubling time, case reporting rate, case fatality rate, and the case hospitalization rate. Further details of these quantities as well as how they are estimated are given in the Model Input and Output section. All parameter estimation for the model includes the basic assumption that, once estimated and initialized, these parameters remain constant during the simulation period.\n",
      "\n",
      "Coupling individual age and geographically stratified sub-models occurs across a number of dimensions including disease state. Sub-models are coupled together using both the spatial mobility matrix and age-based contact matrices. Modeling of the overall interaction rates between geographic locations and age groups is an important component in accurately modeling non-pharmaceutical Interventions (NPIs). Bucky accounts for the implementation of NPIs (e.g. school closures, border closures, face mask wearing) via modifying either the social contact matrices or the basic reproductive number, $R_{0}$. For further details, see Non-pharmaceutical Interventions.\n",
      "\n",
      "All together, these components contribute to a model that is adaptable to a number of contexts. Bucky is calibrated to the uncertainties in both the case data and the disease parameters, leading to a model that is robust to both the quality and resolution of available input data.\n",
      "\n",
      "\\subsection{Model Input and Output}\n",
      "\\subsubsection{Input}\n",
      "The Bucky model uses two main sources of input: the input graph and CDCrecommended parameters.\n",
      "\n",
      "Input Graph The input graph contains data regarding demographics, geographic information, and historical case information. For details, see Graph Information.\n",
      "\n",
      "CDC-Recommended Parameters The Centers for Disease Control and Prevention $(\\mathrm{CDC})$ has published pandemic planning scenarios [fDCP +20$]$ which contain recommended parameters describing biological and epidemiological parameters. Of these five planning scenarios, Bucky utilizes scenario 5, which contains the CDC's current best estimates for disease severity and transmission. These parameters are described in detail, based on information available from the CDC, and summarized in the table below. CDC-recommended parameters are controlled by parameter files located in the par directory.\n",
      "\n",
      "\\begin{center}\n",
      "\\begin{tabular}{|c|c|c|}\n",
      "\\hline\n",
      "Parameter Description & $\\begin{array}{l}\\text { Bucky } \\quad \\text { Variable } \\\\ \\text { Name }\\end{array}$ & $\\begin{array}{l}\\text { Value (Interquartile } \\\\ \\text { Range) }\\end{array}$ \\\\\n",
      "\\hline\n",
      "Mean generation interval & T-g & $7.5(5.5,8.5)$ \\\\\n",
      "\\hline\n",
      "Mean serial interval & T\\_S & $6(5,7)$ \\\\\n",
      "\\hline\n",
      "$\\begin{array}{l}\\text { Fraction of infections that } \\\\ \\text { are asymptomatic }\\end{array}$ & asym\\_frac & 0.4 \\\\\n",
      "\\hline\n",
      "$\\begin{array}{l}\\text { Relative infectiousness of } \\\\ \\text { asymptomatic individuals }\\end{array}$ & rel\\_inf\\_asym & 0.75 \\\\\n",
      "\\hline\n",
      "$\\begin{array}{l}\\text { Percentage of transmission } \\\\ \\text { prior to symptom onset }\\end{array}$ & frac\\_trans\\_before\\_s & $\\ln 0.5$ \\\\\n",
      "\\hline\n",
      "Case fatality ratio & F & $\\begin{array}{l}\\text { - } 0-49 \\text { years: } 0.0005 \\\\ \\text { - } 50 \\text { - } 64 \\text { years: } 0.002 \\\\ \\text { - } 65+\\text { years: } 0.013\\end{array}$ \\\\\n",
      "\\hline\n",
      "Case hospitalization ratio & $\\mathrm{H}$ & $\\begin{array}{l}\\text { - } 0-49 \\text { years: } 0.017 \\\\ \\text { - } 50 \\text { - } 64 \\text { years: } 0.045 \\\\ \\text { - } 65+\\text { years: } 0.074\\end{array}$ \\\\\n",
      "\\hline\n",
      "$\\begin{array}{l}\\text { Time from symptom onset } \\\\ \\text { to hospitalization }\\end{array}$ & I\\_TO\\_H\\_TIME & $\\begin{array}{l}\\text { - } 0-49 \\text { years: } 6 \\text { days } \\\\ \\text { - } 50-64 \\text { years: } 6 \\text { days } \\\\ \\text { - } 65+\\text { years: } 4 \\text { days }\\end{array}$ \\\\\n",
      "\\hline\n",
      "Duration of hospitalization & H\\_TIME & $\\begin{array}{l}\\text { - } 0-49 \\text { years: } 4.9 \\text { days } \\\\ \\text { - } 50-64 \\text { years: } 7.6 \\text { days } \\\\ \\text { - } 65+\\text { years: } 8.1 \\text { days }\\end{array}$ \\\\\n",
      "\\hline\n",
      "$\\begin{array}{l}\\text { Time between death and re- } \\\\ \\text { porting }\\end{array}$ & D\\_REPORT\\_TIME & $\\begin{array}{l}\\text { - } 0-49 \\text { years: } 7.1 \\text { days } \\\\ \\text { - } 50-64 \\text { years: } 7.2 \\text { days } \\\\ \\text { - } 65+\\text { years: } 6.6 \\text { days }\\end{array}$ \\\\\n",
      "\\hline\n",
      "\\end{tabular}\n",
      "\\end{center}\n",
      "\n",
      "Disease Transmission The following parameters describe the transmissibility of the virus. The percentage of infections that are asymptomatic, asym\\_frac, refers to the percentage of infections that will never develop symptoms. This is a difficult parameter to estimate due to logistical complications (individuals would need to be tested to ensure they remain asymptomatic while infectious) and because the level of asymptomatic infections varies by age. The best estimate for this parameter is the midpoint between the lower bound of $[\\mathrm{BCB}+20]$, the upper bound of $[\\mathrm{PTC}+20]$, which corresponds to the estimates from [OT20].\n",
      "\n",
      "The relative infectiousness of asymptomatic individuals compared to symptomatic individuals rel\\_inf asym is calculated using upper and lower bounds on the difference in viral dynamics between asymptomatic and symptomatic cases. The lower bound is derived from data indicating that more severe cases have higher viral loads [LYW +20$]$ and a study that indicates symptomatic cases shed for longer and have higher viral loads than asymptomatic cases [NYS+20]. Other studies indicate that both symptomatic and asymptomatic cases have similar duration and viral shedding [LKL+20], which is used as the upper bound.\n",
      "\n",
      "The final parameter relating to disease transmission is the fraction of transmission prior to symptom onset frac\\_trans\\_before\\_sym which corresponds to the percentage of new cases that were caused by transmission from an individual before they become symptomatic. The lower bound is derived from $[\\mathrm{HLW}+20\n",
      "\n",
      "This text may describe a model, in which case it may contain terms that are variables. \n",
      "\n",
      "If it does, print the names of these variables, one on each line. To the right of each variable name, print a colon, followed by phrase that best describes the variable from the given text excerpt.\n",
      "\n",
      "If it doesn't, print \"None\".\n"
     ]
    }
   ],
   "source": [
    "print(chunks[0])"
   ]
  },
  {
   "cell_type": "code",
   "execution_count": 70,
   "id": "135214a1-865a-48a6-8953-f81b74b51874",
   "metadata": {
    "execution": {
     "iopub.execute_input": "2023-07-09T03:20:21.604114Z",
     "iopub.status.busy": "2023-07-09T03:20:21.603742Z",
     "iopub.status.idle": "2023-07-09T03:20:21.640719Z",
     "shell.execute_reply": "2023-07-09T03:20:21.640329Z",
     "shell.execute_reply.started": "2023-07-09T03:20:21.604089Z"
    },
    "pycharm": {
     "name": "#%%\n"
    }
   },
   "outputs": [],
   "source": [
    "model_name = 'gpt-3.5-turbo'\n",
    "\n",
    "with open(os.path.join(os.path.dirname(methods.__file__), 'prompts/text_var_prompt.txt'), \"r\") as f:\n",
    "    var_prompt = f.read()\n",
    "\n",
    "chunks = create_prompt_tasks(prompt=var_prompt, document=bucky_text, \n",
    "                             model_name=model_name, chunk_token_length=None, answer_token_length=256)"
   ]
  },
  {
   "cell_type": "code",
   "execution_count": 72,
   "id": "f228e59a-0240-456e-b3d6-0c525a0a4d4f",
   "metadata": {
    "execution": {
     "iopub.execute_input": "2023-07-09T03:20:32.274340Z",
     "iopub.status.busy": "2023-07-09T03:20:32.273974Z",
     "iopub.status.idle": "2023-07-09T03:20:32.277515Z",
     "shell.execute_reply": "2023-07-09T03:20:32.276686Z",
     "shell.execute_reply.started": "2023-07-09T03:20:32.274315Z"
    },
    "pycharm": {
     "name": "#%%\n"
    }
   },
   "outputs": [],
   "source": [
    "#chunks[0]"
   ]
  },
  {
   "cell_type": "code",
   "execution_count": 37,
   "id": "676bd7d4-b879-4bee-9908-3edf2cbb29b4",
   "metadata": {
    "execution": {
     "iopub.execute_input": "2023-07-10T19:44:50.794710Z",
     "iopub.status.busy": "2023-07-10T19:44:50.794283Z",
     "iopub.status.idle": "2023-07-10T19:44:50.800018Z",
     "shell.execute_reply": "2023-07-10T19:44:50.799200Z",
     "shell.execute_reply.started": "2023-07-10T19:44:50.794682Z"
    },
    "pycharm": {
     "name": "#%%\n"
    }
   },
   "outputs": [],
   "source": [
    "async def extract_vars_new(document, model_name, chunk_token_length=None):\n",
    "    with open(os.path.join(os.path.dirname(methods.__file__), 'prompts/text_var_prompt.txt'), \"r\") as f:\n",
    "        var_prompt = f.read()\n",
    "    \n",
    "    chunks = create_prompt_tasks(prompt=var_prompt, document=document, \n",
    "                                     model_name=model_name, chunk_token_length=chunk_token_length, answer_token_length=256)\n",
    "    res = await asend_task_requests(chunks, model=model_name)\n",
    "    return res"
   ]
  },
  {
   "cell_type": "code",
   "execution_count": 14,
   "id": "7d72796d",
   "metadata": {
    "pycharm": {
     "name": "#%%\n"
    }
   },
   "outputs": [],
   "source": [
    "#os.environ['OPENAI_API_KEY']"
   ]
  },
  {
   "cell_type": "code",
   "execution_count": 10,
   "id": "63be0462-8f37-4820-bedc-0eac25efa21b",
   "metadata": {
    "execution": {
     "iopub.execute_input": "2023-07-05T15:46:08.878002Z",
     "iopub.status.busy": "2023-07-05T15:46:08.877645Z",
     "iopub.status.idle": "2023-07-05T15:46:08.882776Z",
     "shell.execute_reply": "2023-07-05T15:46:08.881823Z",
     "shell.execute_reply.started": "2023-07-05T15:46:08.877979Z"
    },
    "pycharm": {
     "name": "#%%\n"
    }
   },
   "outputs": [],
   "source": [
    "res = []"
   ]
  },
  {
   "cell_type": "code",
   "execution_count": 36,
   "id": "dfb788c4-ad85-4c16-be6c-6ead7dff3e9c",
   "metadata": {
    "execution": {
     "iopub.execute_input": "2023-07-10T19:42:19.202016Z",
     "iopub.status.busy": "2023-07-10T19:42:19.201381Z",
     "iopub.status.idle": "2023-07-10T19:42:29.870784Z",
     "shell.execute_reply": "2023-07-10T19:42:29.869350Z",
     "shell.execute_reply.started": "2023-07-10T19:42:19.201975Z"
    },
    "pycharm": {
     "name": "#%%\n"
    }
   },
   "outputs": [
    {
     "data": {
      "text/plain": [
       "''"
      ]
     },
     "execution_count": 36,
     "metadata": {},
     "output_type": "execute_result"
    }
   ],
   "source": [
    "# bucky_text, model_name='gpt-4'))"
   ]
  },
  {
   "cell_type": "code",
   "execution_count": 13,
   "id": "db699e48-50c4-40a2-9835-b8d74818de4c",
   "metadata": {
    "execution": {
     "iopub.execute_input": "2023-07-10T19:20:01.423775Z",
     "iopub.status.busy": "2023-07-10T19:20:01.423424Z",
     "iopub.status.idle": "2023-07-10T19:20:18.951735Z",
     "shell.execute_reply": "2023-07-10T19:20:18.950827Z",
     "shell.execute_reply.started": "2023-07-10T19:20:01.423748Z"
    },
    "pycharm": {
     "name": "#%%\n"
    }
   },
   "outputs": [
    {
     "name": "stdout",
     "output_type": "stream",
     "text": [
      "['S: Proportion of individuals who are susceptible to the virus\\nE: Proportion of individuals who have been exposed to the virus\\nI^hosp: Proportion of individuals that are exhibiting severe disease symptoms and are in need of hospitalization\\nI^mild: Proportion of individuals that are exhibiting mild disease symptoms\\nI^asym: Proportion of individuals who are infected but asymptomatic\\nR: Proportion of individuals who have recovered from the virus and are no longer capable of infecting other individuals\\nR^hosp: Proportion of individuals who have recovered from the virus after a period of time in a hospital\\nD: Proportion of individuals who have succumbed as a direct result of the virus\\nbeta: Force of infection on a member of age group i in location j\\nsigma: Viral latent period\\nalpha: Rate of infections that are asymptomatic\\nnu: Fraction of cases necessitating hospitalization\\nphi: Case fatality rate for age group i\\ngamma: Infectious period\\ntau: Recovery period from severe infection for age group i\\nNone', 'Ts: mean serial interval \\nTg: mean generation interval \\nCFR: case fatality ratio \\nCHR: case hospitalization-severity ratio \\nI_to_H_time: time it takes from symptom onset to hospitalization in days \\nH_TIME: number of days an individual will be hospitalized \\nD_REPORT_TIME: number of days between death and reporting \\nN_age_init: population data stratified by age \\ncase_hist: cumulative historical case data \\ndeath_hist: cumulative historical death data \\nR0_frac: factor that is multiplied with the baseline mobility value to model the effect of NPIs \\nNone', 'None']\n"
     ]
    }
   ],
   "source": [
    "## Using largest possible chunk for model\n",
    "#res.append(('par', 'text-davinci-003', 4097, [44.45, 34.44, 22.78, 13.30, 21.71, 27.39, 17.5]))\n",
    "print(await extract_vars_new(document=bucky_text, model_name='text-davinci-003'))"
   ]
  },
  {
   "cell_type": "code",
   "execution_count": 17,
   "id": "2d88b8c3-6545-4ea9-b45b-726cc64ac5a8",
   "metadata": {
    "execution": {
     "iopub.execute_input": "2023-07-10T19:21:58.723345Z",
     "iopub.status.busy": "2023-07-10T19:21:58.722694Z",
     "iopub.status.idle": "2023-07-10T19:22:14.058735Z",
     "shell.execute_reply": "2023-07-10T19:22:14.057443Z",
     "shell.execute_reply.started": "2023-07-10T19:21:58.723306Z"
    },
    "pycharm": {
     "name": "#%%\n"
    }
   },
   "outputs": [
    {
     "name": "stdout",
     "output_type": "stream",
     "text": [
      "['S: Proportion of individuals who are susceptible to the virus\\nE: Proportion of individuals who have been exposed to the virus\\nI: Proportion of individuals that are exhibiting severe disease symptoms and are in need of hospitalization\\nI: Proportion of individuals that are exhibiting mild disease symptoms\\nI: Proportion of individuals who are infected but asymptomatic\\nR: Proportion of individuals who have recovered from the virus and are no longer capable of infecting other individuals\\nR: Proportion of individuals who have recovered from the virus after a period of time in a hospital\\nD: Proportion of individuals who have succumbed as a direct result of the virus', 'T-g: Mean generation interval \\nT_S: Mean serial interval \\nasym_frac: Fraction of infections that are asymptomatic \\nrel_inf_asym: Relative infectiousness of asymptomatic individuals \\nfrac_trans_before_s: Percentage of transmission prior to symptom onset \\nF: Case fatality ratio \\nH: Case hospitalization ratio \\nI_TO_H_TIME: Time from symptom onset to hospitalization \\nH_TIME: Duration of hospitalization \\nD_REPORT_TIME: Time between death and reporting', 'HLW: Hospital-related parameters derived from COVID-Net and DCIPHER.\\nI_to_H_time: Time it takes from symptom onset to hospitalization in days.\\nH_TIME: Number of days an individual will be hospitalized.\\nD_REPORT_TIME: Number of days between death and reporting.\\nadm1_key: Administrative level 1 key.\\nadm2_key: Administrative level 2 key.\\nadm1_to_str: Dictionary with key-value pairs indicating the adm1 names for each adm1 value appearing in the graph.\\nConfirmed: Cumulative confirmed cases.\\nDeaths: Cumulative deaths.\\nadm2_name: Administrative level 2 name.\\nN_age_init: Array of population data stratified by age.\\nPopulation: Total population for an admin2.\\ncase_hist: Cumulative historical case data.\\ndeath_hist: Cumulative historical death data.\\ncontact_mats: Contact matrix information for the country.\\nNone', 'None', 'cumulative_reported_cases_per_100k: Number of reported cases of COVID-19 per 100,000 people\\n-cmap: Color map used to visualize data\\nCOVIDExposureIndices: Repository of data related to COVID-19\\nCDGHW: Authors of a paper related to COVID-19\\nCDC: Centers for Disease Control and Prevention\\nCAN+20: Authors of a paper related to COVID-19\\nfDCP+20: Centers for Disease Control, Prevention, and others\\nHLW+20: Authors of a paper related to COVID-19\\nHet 89: Author of a paper related to epidemiological models\\nJVZG+20: Authors of a paper related to COVID-19\\nJJA+20: Authors of a paper related to COVID-19\\nLKL+20: Authors of a paper related to COVID-19\\nLYW+20: Authors of a paper related to COVID-19\\nMCH+20: Authors of a paper related to COVID-19\\nNYS+20: Authors of a paper related to COVID-19\\nOT20: Authors of a paper related to COVID-19\\nP', 'None']\n"
     ]
    }
   ],
   "source": [
    "#res.append(('par', 'text-davinci-003', 2000, [19.27, 25.5, 20.6, 23.21, 27.57, 15]))\n",
    "print(await extract_vars_new(document=bucky_text, model_name='text-davinci-003', chunk_token_length=2000))"
   ]
  },
  {
   "cell_type": "code",
   "execution_count": 44,
   "id": "9880ab3a-56f3-4b08-9eb9-4740f2d3ba5b",
   "metadata": {
    "execution": {
     "iopub.execute_input": "2023-07-05T15:46:30.371918Z",
     "iopub.status.busy": "2023-07-05T15:46:30.371370Z",
     "iopub.status.idle": "2023-07-05T15:46:30.375913Z",
     "shell.execute_reply": "2023-07-05T15:46:30.375259Z",
     "shell.execute_reply.started": "2023-07-05T15:46:30.371890Z"
    },
    "pycharm": {
     "name": "#%%\n"
    }
   },
   "outputs": [],
   "source": [
    "#res.append(('par', 'text-davinci-003', 1000, [45.75, 21.41, 37.04, 26.77, ]))\n",
    "print(await extract_vars_new(document=bucky_text, model_name='text-davinci-003', chunk_token_length=1000))"
   ]
  },
  {
   "cell_type": "code",
   "execution_count": 18,
   "id": "ba6d5469-41e9-4af2-a5f8-bb1def46c5cc",
   "metadata": {
    "execution": {
     "iopub.execute_input": "2023-07-10T19:23:13.782404Z",
     "iopub.status.busy": "2023-07-10T19:23:13.781487Z",
     "iopub.status.idle": "2023-07-10T19:23:29.129796Z",
     "shell.execute_reply": "2023-07-10T19:23:29.128774Z",
     "shell.execute_reply.started": "2023-07-10T19:23:13.782353Z"
    },
    "pycharm": {
     "name": "#%%\n"
    }
   },
   "outputs": [
    {
     "name": "stdout",
     "output_type": "stream",
     "text": [
      "['Variables:\\n- git clone: command to clone a repository from GitLab\\n- October 1, 2022: date of the document\\n- The Bucky model: the name of the model\\n- SEIR model: a class of deterministic models used to model infectious diseases\\n- S: susceptible population fraction\\n- E: exposed population fraction\\n- I: infectious population fraction\\n- R: recovered population fraction\\n- $S_{i j}$: proportion of individuals who are susceptible to the virus\\n- $E_{i j}$: proportion of individuals who have been exposed to the virus\\n- $I_{i, j}^{\\\\text {hosp }}$: proportion of individuals that are exhibiting severe disease symptoms and are in need of hospitalization\\n- $I_{i, j}^{\\\\text {mild }}$: proportion of individuals that are exhibiting mild disease symptoms\\n- $I_{i, j}^{\\\\text {asym }}$: proportion of individuals who are infected but asymptomatic\\n- $R_{i, j}$: proportion of individuals who have recovered from the virus and are no longer capable of infecting other individuals\\n- $R_{i, j}^{\\\\text {hosp }}$: proportion of individuals who have recovered from the virus after a period of time in a hospital\\n- $D_{i, j}$: proportion of individuals who have succumbed as a direct result of the virus\\n- $\\\\beta_{i, j}$: force of infection on a member of age group $i$ in location $j$\\n- $\\\\frac{1}{\\\\sigma}$: viral latent period\\n- $\\\\alpha$: rate of infections that are asymptomatic\\n- $\\\\nu_{i}$: fraction of cases necessitating hospitalization\\n- $\\\\phi_{i}$: case fatality rate for age group $i$\\n- $\\\\frac{1}{\\\\gamma}$: infectious period\\n- $\\\\tau_{i}$: recovery period from severe infection for age group $i$\\n- T-g: mean generation interval\\n- T\\\\_S: mean serial interval\\n- asym\\\\_frac: fraction of infections that are asymptomatic\\n- rel\\\\_inf\\\\_asym: relative infectiousness of asymptomatic individuals\\n- frac\\\\_trans\\\\_before\\\\_s: percentage of transmission prior to symptom onset\\n- F: case fatality ratio\\n- H: case hospitalization ratio\\n- I\\\\_TO\\\\_H\\\\_TIME: time from symptom onset to hospitalization\\n- H\\\\_TIME: duration of hospitalization\\n- D\\\\_REPORT\\\\_TIME: time between death and reporting\\n- Contact matrices: matrices describing the interaction rates between age groups\\n- Mobility data: data describing the movement between geographic locations\\n- weight: baseline mobility data used to construct edges in the graph\\n- R0\\\\_frac: factor used to model the effect of NPIs on mobility\\n- NPIs: non-pharmaceutical interventions to control the spread of COVID-19\\n- School Closure: an NPI that reduces contact between school-aged groups\\n- Shielding Elderly: an NPI that increases contacts in the home environment for the elderly\\n- Closing of borders, ports, and/or international flights: an NPI that restricts international movement\\n- Restricting inter-regional movement: an NPI that reduces mobility between regions\\n- Social distancing: an NPI that reduces overall community transmission\\n- Face mask wearing: an NPI that reduces overall community transmission\\n- Installation of hand washing stations: an NPI that reduces overall community transmission\\n- Reduction of size of public gatherings: an NPI that reduces overall community transmission\\n- Closing businesses: an NPI that reduces overall community transmission\\n- Partial Lockdown: an NPI that reduces overall community transmission\\n- Awareness campaigns: an NPI that reduces overall community transmission\\n- cumulative\\\\_reported\\\\_cases\\\\_per\\\\_100k: a column used for map visualization']\n"
     ]
    }
   ],
   "source": [
    "# res.append(('par', 'gpt-3.5-turbo-16k', 16k, [11.09, 23.34, 25.03, \n",
    "#                                     # 5m44 s ERROR, \n",
    "#                                     42, 38, 30, ]))\n",
    "print(await extract_vars_new(document=bucky_text, model_name='gpt-3.5-turbo-16k'))"
   ]
  },
  {
   "cell_type": "code",
   "execution_count": 46,
   "id": "fd70db02-a563-4800-850f-14c61298648f",
   "metadata": {
    "execution": {
     "iopub.execute_input": "2023-07-05T15:46:59.307973Z",
     "iopub.status.busy": "2023-07-05T15:46:59.307561Z",
     "iopub.status.idle": "2023-07-05T15:46:59.312211Z",
     "shell.execute_reply": "2023-07-05T15:46:59.311424Z",
     "shell.execute_reply.started": "2023-07-05T15:46:59.307950Z"
    },
    "pycharm": {
     "name": "#%%\n"
    }
   },
   "outputs": [],
   "source": [
    "res.append(('serial', 'text-davinci-003', 4097, [350, 248, 243, 291]))\n",
    "# 5m 50.70s\n",
    "# 4m 8.34s\n",
    "# 4m 2.77s \n",
    "# 4m 52s\n",
    "# current version seems to use text-davinci-003\n",
    "# serial loop with small batch\n",
    "#find_variables_from_text(bucky_text, gpt_key=gpt_key.GPT_KEY)"
   ]
  },
  {
   "cell_type": "code",
   "execution_count": 48,
   "id": "2e3d95ee-577e-4323-9971-c1b79acc124c",
   "metadata": {
    "execution": {
     "iopub.execute_input": "2023-07-05T15:47:12.025752Z",
     "iopub.status.busy": "2023-07-05T15:47:12.025185Z",
     "iopub.status.idle": "2023-07-05T15:47:12.030693Z",
     "shell.execute_reply": "2023-07-05T15:47:12.028863Z",
     "shell.execute_reply.started": "2023-07-05T15:47:12.025721Z"
    },
    "pycharm": {
     "name": "#%%\n"
    }
   },
   "outputs": [],
   "source": [
    "import pandas as pd"
   ]
  },
  {
   "cell_type": "code",
   "execution_count": 51,
   "id": "f50be672-0213-499f-bbfb-ef2119747f6a",
   "metadata": {
    "execution": {
     "iopub.execute_input": "2023-07-05T15:48:16.488234Z",
     "iopub.status.busy": "2023-07-05T15:48:16.487338Z",
     "iopub.status.idle": "2023-07-05T15:48:16.500408Z",
     "shell.execute_reply": "2023-07-05T15:48:16.498292Z",
     "shell.execute_reply.started": "2023-07-05T15:48:16.488175Z"
    },
    "pycharm": {
     "name": "#%%\n"
    }
   },
   "outputs": [],
   "source": [
    "df = pd.DataFrame.from_records(res, columns=['technique', 'model', 'chunk_size', 'times'])\n",
    "df = df.assign(paper='bucky.txt')"
   ]
  },
  {
   "cell_type": "code",
   "execution_count": 56,
   "id": "5ed217da-b5ce-4b91-b98c-28e49890e83e",
   "metadata": {
    "execution": {
     "iopub.execute_input": "2023-07-05T15:48:46.329906Z",
     "iopub.status.busy": "2023-07-05T15:48:46.329347Z",
     "iopub.status.idle": "2023-07-05T15:48:46.336796Z",
     "shell.execute_reply": "2023-07-05T15:48:46.335206Z",
     "shell.execute_reply.started": "2023-07-05T15:48:46.329876Z"
    },
    "pycharm": {
     "name": "#%%\n"
    }
   },
   "outputs": [],
   "source": [
    "x = [1,2,3]"
   ]
  },
  {
   "cell_type": "code",
   "execution_count": 58,
   "id": "d99a4ad7-b03e-4650-a5e1-9e72a8956797",
   "metadata": {
    "execution": {
     "iopub.execute_input": "2023-07-05T15:48:53.437112Z",
     "iopub.status.busy": "2023-07-05T15:48:53.436722Z",
     "iopub.status.idle": "2023-07-05T15:48:53.441866Z",
     "shell.execute_reply": "2023-07-05T15:48:53.440991Z",
     "shell.execute_reply.started": "2023-07-05T15:48:53.437089Z"
    },
    "pycharm": {
     "name": "#%%\n"
    }
   },
   "outputs": [
    {
     "data": {
      "text/plain": [
       "6"
      ]
     },
     "execution_count": 58,
     "metadata": {},
     "output_type": "execute_result"
    }
   ],
   "source": [
    "sum(x)"
   ]
  },
  {
   "cell_type": "code",
   "execution_count": 60,
   "id": "8b4a57da-5021-4d27-bc0e-b9057d3d89e0",
   "metadata": {
    "execution": {
     "iopub.execute_input": "2023-07-05T15:49:02.308611Z",
     "iopub.status.busy": "2023-07-05T15:49:02.307934Z",
     "iopub.status.idle": "2023-07-05T15:49:02.313156Z",
     "shell.execute_reply": "2023-07-05T15:49:02.312317Z",
     "shell.execute_reply.started": "2023-07-05T15:49:02.308574Z"
    },
    "pycharm": {
     "name": "#%%\n"
    }
   },
   "outputs": [],
   "source": [
    "import numpy as np"
   ]
  },
  {
   "cell_type": "code",
   "execution_count": 62,
   "id": "fb2122aa-f993-4b93-935e-db068766184f",
   "metadata": {
    "execution": {
     "iopub.execute_input": "2023-07-05T15:49:30.951613Z",
     "iopub.status.busy": "2023-07-05T15:49:30.951207Z",
     "iopub.status.idle": "2023-07-05T15:49:30.957414Z",
     "shell.execute_reply": "2023-07-05T15:49:30.956622Z",
     "shell.execute_reply.started": "2023-07-05T15:49:30.951587Z"
    },
    "pycharm": {
     "name": "#%%\n"
    }
   },
   "outputs": [],
   "source": [
    "df = df.assign(mean_time=df.times.apply(np.mean), std_time = df.times.apply(np.std))"
   ]
  },
  {
   "cell_type": "code",
   "execution_count": 63,
   "id": "3fa94e82-18fa-40f7-8b2b-962afbae36f7",
   "metadata": {
    "execution": {
     "iopub.execute_input": "2023-07-05T15:49:31.622959Z",
     "iopub.status.busy": "2023-07-05T15:49:31.621606Z",
     "iopub.status.idle": "2023-07-05T15:49:31.643917Z",
     "shell.execute_reply": "2023-07-05T15:49:31.642537Z",
     "shell.execute_reply.started": "2023-07-05T15:49:31.622891Z"
    },
    "pycharm": {
     "name": "#%%\n"
    }
   },
   "outputs": [
    {
     "data": {
      "text/html": [
       "<div>\n",
       "<style scoped>\n",
       "    .dataframe tbody tr th:only-of-type {\n",
       "        vertical-align: middle;\n",
       "    }\n",
       "\n",
       "    .dataframe tbody tr th {\n",
       "        vertical-align: top;\n",
       "    }\n",
       "\n",
       "    .dataframe thead th {\n",
       "        text-align: right;\n",
       "    }\n",
       "</style>\n",
       "<table border=\"1\" class=\"dataframe\">\n",
       "  <thead>\n",
       "    <tr style=\"text-align: right;\">\n",
       "      <th></th>\n",
       "      <th>technique</th>\n",
       "      <th>model</th>\n",
       "      <th>chunk_size</th>\n",
       "      <th>times</th>\n",
       "      <th>paper</th>\n",
       "      <th>mean_time</th>\n",
       "      <th>std_time</th>\n",
       "    </tr>\n",
       "  </thead>\n",
       "  <tbody>\n",
       "    <tr>\n",
       "      <th>0</th>\n",
       "      <td>par</td>\n",
       "      <td>text-davinci-003</td>\n",
       "      <td>4097</td>\n",
       "      <td>[44.45, 34.44, 22.78, 13.3, 21.71, 27.39]</td>\n",
       "      <td>bucky.txt</td>\n",
       "      <td>27.345000</td>\n",
       "      <td>9.939622</td>\n",
       "    </tr>\n",
       "    <tr>\n",
       "      <th>1</th>\n",
       "      <td>par</td>\n",
       "      <td>text-davinci-003</td>\n",
       "      <td>2000</td>\n",
       "      <td>[19.27, 25.5, 20.6, 23.21, 27.57]</td>\n",
       "      <td>bucky.txt</td>\n",
       "      <td>23.230000</td>\n",
       "      <td>3.052455</td>\n",
       "    </tr>\n",
       "    <tr>\n",
       "      <th>2</th>\n",
       "      <td>par</td>\n",
       "      <td>text-davinci-003</td>\n",
       "      <td>1000</td>\n",
       "      <td>[45.75, 21.41, 37.04, 26.77]</td>\n",
       "      <td>bucky.txt</td>\n",
       "      <td>32.742500</td>\n",
       "      <td>9.377631</td>\n",
       "    </tr>\n",
       "    <tr>\n",
       "      <th>3</th>\n",
       "      <td>par</td>\n",
       "      <td>gpt-3.5-turbo-16k</td>\n",
       "      <td>4097</td>\n",
       "      <td>[11.09, 23.34, 25.03, 42, 38, 30]</td>\n",
       "      <td>bucky.txt</td>\n",
       "      <td>28.243333</td>\n",
       "      <td>10.133520</td>\n",
       "    </tr>\n",
       "    <tr>\n",
       "      <th>4</th>\n",
       "      <td>serial</td>\n",
       "      <td>text-davinci-003</td>\n",
       "      <td>16000</td>\n",
       "      <td>[350, 248, 243, 291]</td>\n",
       "      <td>bucky.txt</td>\n",
       "      <td>283.000000</td>\n",
       "      <td>42.947643</td>\n",
       "    </tr>\n",
       "  </tbody>\n",
       "</table>\n",
       "</div>"
      ],
      "text/plain": [
       "  technique              model  chunk_size  \\\n",
       "0       par   text-davinci-003        4097   \n",
       "1       par   text-davinci-003        2000   \n",
       "2       par   text-davinci-003        1000   \n",
       "3       par  gpt-3.5-turbo-16k        4097   \n",
       "4    serial   text-davinci-003       16000   \n",
       "\n",
       "                                       times      paper   mean_time   std_time  \n",
       "0  [44.45, 34.44, 22.78, 13.3, 21.71, 27.39]  bucky.txt   27.345000   9.939622  \n",
       "1          [19.27, 25.5, 20.6, 23.21, 27.57]  bucky.txt   23.230000   3.052455  \n",
       "2               [45.75, 21.41, 37.04, 26.77]  bucky.txt   32.742500   9.377631  \n",
       "3          [11.09, 23.34, 25.03, 42, 38, 30]  bucky.txt   28.243333  10.133520  \n",
       "4                       [350, 248, 243, 291]  bucky.txt  283.000000  42.947643  "
      ]
     },
     "execution_count": 63,
     "metadata": {},
     "output_type": "execute_result"
    }
   ],
   "source": [
    "df"
   ]
  }
 ],
 "metadata": {
  "kernelspec": {
   "display_name": "Python (mitaskem)",
   "language": "python",
   "name": "mitaskem"
  },
  "language_info": {
   "codemirror_mode": {
    "name": "ipython",
    "version": 3
   },
   "file_extension": ".py",
   "mimetype": "text/x-python",
   "name": "python",
   "nbconvert_exporter": "python",
   "pygments_lexer": "ipython3",
   "version": "3.10.12"
  }
 },
 "nbformat": 4,
 "nbformat_minor": 5
}