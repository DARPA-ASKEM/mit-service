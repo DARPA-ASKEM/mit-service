{
 "cells": [
  {
   "cell_type": "code",
   "execution_count": 4,
   "id": "54848093-6d0c-4bbb-9965-df8b5395728c",
   "metadata": {
    "execution": {
     "iopub.execute_input": "2023-07-10T19:19:48.309250Z",
     "iopub.status.busy": "2023-07-10T19:19:48.308477Z",
     "iopub.status.idle": "2023-07-10T19:19:48.314428Z",
     "shell.execute_reply": "2023-07-10T19:19:48.313392Z",
     "shell.execute_reply.started": "2023-07-10T19:19:48.309206Z"
    },
    "tags": []
   },
   "outputs": [],
   "source": [
    "import sys\n",
    "srcpath = '/Users/orm/repos/mitaskem/src'\n",
    "askempath = '/Users/orm/repos/mitaskem'\n",
    "sys.path.append(askempath)\n",
    "sys.path.append(srcpath)"
   ]
  },
  {
   "cell_type": "code",
   "execution_count": 5,
   "id": "51283582-c9f6-42d8-a9df-517912a653ed",
   "metadata": {
    "execution": {
     "iopub.execute_input": "2023-07-10T19:19:49.723396Z",
     "iopub.status.busy": "2023-07-10T19:19:49.722715Z",
     "iopub.status.idle": "2023-07-10T19:19:49.727697Z",
     "shell.execute_reply": "2023-07-10T19:19:49.726696Z",
     "shell.execute_reply.started": "2023-07-10T19:19:49.723344Z"
    }
   },
   "outputs": [],
   "source": [
    "import methods # module in askem"
   ]
  },
  {
   "cell_type": "code",
   "execution_count": 34,
   "id": "a5efd088-7d30-486a-9919-9a039a2bc1d0",
   "metadata": {
    "execution": {
     "iopub.execute_input": "2023-07-10T19:42:02.153626Z",
     "iopub.status.busy": "2023-07-10T19:42:02.152883Z",
     "iopub.status.idle": "2023-07-10T19:42:02.157665Z",
     "shell.execute_reply": "2023-07-10T19:42:02.156690Z",
     "shell.execute_reply.started": "2023-07-10T19:42:02.153594Z"
    }
   },
   "outputs": [],
   "source": [
    "import api_key\n",
    "import openai"
   ]
  },
  {
   "cell_type": "code",
   "execution_count": 7,
   "id": "43d13c30-7166-4865-a1c8-7242be2202b0",
   "metadata": {
    "execution": {
     "iopub.execute_input": "2023-07-10T19:19:50.196858Z",
     "iopub.status.busy": "2023-07-10T19:19:50.196299Z",
     "iopub.status.idle": "2023-07-10T19:19:51.490629Z",
     "shell.execute_reply": "2023-07-10T19:19:51.490237Z",
     "shell.execute_reply.started": "2023-07-10T19:19:50.196826Z"
    },
    "tags": []
   },
   "outputs": [],
   "source": [
    "from api.routers.annotation import find_variables_from_text"
   ]
  },
  {
   "cell_type": "code",
   "execution_count": 8,
   "id": "52789a50-4ca9-469c-8932-34eaa478aa91",
   "metadata": {
    "execution": {
     "iopub.execute_input": "2023-07-10T19:19:51.979736Z",
     "iopub.status.busy": "2023-07-10T19:19:51.979197Z",
     "iopub.status.idle": "2023-07-10T19:19:51.984177Z",
     "shell.execute_reply": "2023-07-10T19:19:51.983513Z",
     "shell.execute_reply.started": "2023-07-10T19:19:51.979707Z"
    }
   },
   "outputs": [],
   "source": [
    "with open('/Users/orm/repos/mitaskem/demos/2023-03-19/bucky.txt') as b:\n",
    "    bucky_text  =     b.read()"
   ]
  },
  {
   "cell_type": "code",
   "execution_count": 9,
   "id": "d7021538-1d90-49d9-b3af-178fbb794a50",
   "metadata": {
    "execution": {
     "iopub.execute_input": "2023-07-10T19:19:52.212822Z",
     "iopub.status.busy": "2023-07-10T19:19:52.212457Z",
     "iopub.status.idle": "2023-07-10T19:19:52.216556Z",
     "shell.execute_reply": "2023-07-10T19:19:52.215815Z",
     "shell.execute_reply.started": "2023-07-10T19:19:52.212798Z"
    }
   },
   "outputs": [],
   "source": [
    "import os"
   ]
  },
  {
   "cell_type": "code",
   "execution_count": 10,
   "id": "d935047f-1273-4f2c-ae2e-39a7d36ca628",
   "metadata": {
    "execution": {
     "iopub.execute_input": "2023-07-10T19:19:52.422292Z",
     "iopub.status.busy": "2023-07-10T19:19:52.421862Z",
     "iopub.status.idle": "2023-07-10T19:19:52.426759Z",
     "shell.execute_reply": "2023-07-10T19:19:52.426072Z",
     "shell.execute_reply.started": "2023-07-10T19:19:52.422267Z"
    }
   },
   "outputs": [],
   "source": [
    "from methods import create_prompt_tasks, asend_task_requests"
   ]
  },
  {
   "cell_type": "code",
   "execution_count": 20,
   "id": "cd4606d5-50d2-461e-aa7e-51256f06d85c",
   "metadata": {
    "execution": {
     "iopub.execute_input": "2023-07-10T19:37:18.305960Z",
     "iopub.status.busy": "2023-07-10T19:37:18.305385Z",
     "iopub.status.idle": "2023-07-10T19:37:18.311610Z",
     "shell.execute_reply": "2023-07-10T19:37:18.310485Z",
     "shell.execute_reply.started": "2023-07-10T19:37:18.305927Z"
    }
   },
   "outputs": [],
   "source": [
    "import importlib"
   ]
  },
  {
   "cell_type": "code",
   "execution_count": 27,
   "id": "5212060c-de2b-4c05-b8bf-374f504aa50c",
   "metadata": {
    "execution": {
     "iopub.execute_input": "2023-07-10T19:40:41.334919Z",
     "iopub.status.busy": "2023-07-10T19:40:41.334547Z",
     "iopub.status.idle": "2023-07-10T19:40:41.338686Z",
     "shell.execute_reply": "2023-07-10T19:40:41.337686Z",
     "shell.execute_reply.started": "2023-07-10T19:40:41.334893Z"
    }
   },
   "outputs": [],
   "source": [
    "import mit_extraction\n",
    "import methods"
   ]
  },
  {
   "cell_type": "code",
   "execution_count": 57,
   "id": "102312a1-67cc-44cb-93c6-3c169cf0d885",
   "metadata": {
    "execution": {
     "iopub.execute_input": "2023-07-10T19:51:39.476635Z",
     "iopub.status.busy": "2023-07-10T19:51:39.476088Z",
     "iopub.status.idle": "2023-07-10T19:51:39.487175Z",
     "shell.execute_reply": "2023-07-10T19:51:39.486549Z",
     "shell.execute_reply.started": "2023-07-10T19:51:39.476602Z"
    }
   },
   "outputs": [],
   "source": [
    "importlib.reload(methods)\n",
    "importlib.reload(mit_extraction)\n",
    "from mit_extraction import afind_vars_from_text"
   ]
  },
  {
   "cell_type": "code",
   "execution_count": 58,
   "id": "1636ce61-0194-41c5-99dc-3be885156e07",
   "metadata": {
    "execution": {
     "iopub.execute_input": "2023-07-10T19:51:42.038728Z",
     "iopub.status.busy": "2023-07-10T19:51:42.037962Z",
     "iopub.status.idle": "2023-07-10T19:52:43.989595Z",
     "shell.execute_reply": "2023-07-10T19:52:43.988623Z",
     "shell.execute_reply.started": "2023-07-10T19:51:42.038696Z"
    }
   },
   "outputs": [],
   "source": [
    "resses = await afind_vars_from_text(text=bucky_text, gpt_key=openai.api_key)"
   ]
  },
  {
   "cell_type": "code",
   "execution_count": 59,
   "id": "945bd63d-e510-41b4-93d2-e76bdc21b796",
   "metadata": {
    "execution": {
     "iopub.execute_input": "2023-07-10T19:52:57.813664Z",
     "iopub.status.busy": "2023-07-10T19:52:57.813105Z",
     "iopub.status.idle": "2023-07-10T19:52:57.825314Z",
     "shell.execute_reply": "2023-07-10T19:52:57.824540Z",
     "shell.execute_reply.started": "2023-07-10T19:52:57.813636Z"
    }
   },
   "outputs": [
    {
     "data": {
      "text/plain": [
       "[{'type': 'variable',\n",
       "  'name': 'S',\n",
       "  'id': 'v0',\n",
       "  'text_annotations': [' Proportion of individuals who are susceptible to the virus'],\n",
       "  'dkg_annotations': [['ncit:C171133', 'COVID-19 Infection'],\n",
       "   ['ido:0000514', 'susceptible population']]},\n",
       " {'type': 'variable',\n",
       "  'name': 'E',\n",
       "  'id': 'v1',\n",
       "  'text_annotations': [' Proportion of individuals who have been exposed to the virus'],\n",
       "  'dkg_annotations': [['ido:0000511', 'infected population'],\n",
       "   ['ncit:C171133', 'COVID-19 Infection']]},\n",
       " {'type': 'variable',\n",
       "  'name': 'I^hosp',\n",
       "  'id': 'v2',\n",
       "  'text_annotations': [' Proportion of individuals that are exhibiting severe disease symptoms and are in need of hospitalization'],\n",
       "  'dkg_annotations': []},\n",
       " {'type': 'variable',\n",
       "  'name': 'I^mild',\n",
       "  'id': 'v3',\n",
       "  'text_annotations': [' Proportion of individuals that are exhibiting mild disease symptoms'],\n",
       "  'dkg_annotations': []},\n",
       " {'type': 'variable',\n",
       "  'name': 'I^asym',\n",
       "  'id': 'v4',\n",
       "  'text_annotations': [' Proportion of individuals who are infected but asymptomatic'],\n",
       "  'dkg_annotations': []},\n",
       " {'type': 'variable',\n",
       "  'name': 'R',\n",
       "  'id': 'v5',\n",
       "  'text_annotations': [' Proportion of individuals who have recovered from the virus and are no longer capable of infecting other individuals'],\n",
       "  'dkg_annotations': [['ncit:C171133', 'COVID-19 Infection'],\n",
       "   ['ncit:C28554', 'Dead']]},\n",
       " {'type': 'variable',\n",
       "  'name': 'R^hosp',\n",
       "  'id': 'v6',\n",
       "  'text_annotations': [' Proportion of individuals who have recovered from the virus after a period of time in a hospital'],\n",
       "  'dkg_annotations': []},\n",
       " {'type': 'variable',\n",
       "  'name': 'D',\n",
       "  'id': 'v7',\n",
       "  'text_annotations': [' Proportion of individuals who have succumbed as a direct result of the virus'],\n",
       "  'dkg_annotations': [['ido:0000511', 'infected population'],\n",
       "   ['ncit:C171133', 'COVID-19 Infection']]},\n",
       " {'type': 'variable',\n",
       "  'name': 'beta',\n",
       "  'id': 'v8',\n",
       "  'text_annotations': [' Force of infection on a member of age group i in location j'],\n",
       "  'dkg_annotations': [['probonto:k0000067', 'beta'],\n",
       "   ['probonto:k0000097', 'beta']]},\n",
       " {'type': 'variable',\n",
       "  'name': 'sigma',\n",
       "  'id': 'v9',\n",
       "  'text_annotations': [' Viral latent period'],\n",
       "  'dkg_annotations': [['probonto:k0000360', 'scale'],\n",
       "   ['probonto:k0000469', 'scale']]},\n",
       " {'type': 'variable',\n",
       "  'name': 'alpha',\n",
       "  'id': 'v10',\n",
       "  'text_annotations': [' Rate of infections that are asymptomatic'],\n",
       "  'dkg_annotations': [['probonto:k0000066', 'alpha'],\n",
       "   ['probonto:k0000096', 'alpha']]},\n",
       " {'type': 'variable',\n",
       "  'name': 'nu',\n",
       "  'id': 'v11',\n",
       "  'text_annotations': [' Fraction of cases necessitating hospitalization'],\n",
       "  'dkg_annotations': [['uberon:0001245', 'anus'], ['vo:0012365', 'znuA']]},\n",
       " {'type': 'variable',\n",
       "  'name': 'phi',\n",
       "  'id': 'v12',\n",
       "  'text_annotations': [' Case fatality rate for age group i'],\n",
       "  'dkg_annotations': [['geonames:4641239', 'Memphis'],\n",
       "   ['vsmo:0002564', 'Cnephia']]},\n",
       " {'type': 'variable',\n",
       "  'name': 'gamma',\n",
       "  'id': 'v13',\n",
       "  'text_annotations': [' Infectious period'],\n",
       "  'dkg_annotations': [['probonto:k0001213', 'gamma'],\n",
       "   ['probonto:k0000571', 'Gamma1']]},\n",
       " {'type': 'variable',\n",
       "  'name': 'tau',\n",
       "  'id': 'v14',\n",
       "  'text_annotations': [' Recovery period from severe infection for age group i'],\n",
       "  'dkg_annotations': [['probonto:k0000289', 'tau'],\n",
       "   ['ncit:C44012', 'Montauk']]},\n",
       " {'type': 'variable',\n",
       "  'name': 'Ts',\n",
       "  'id': 'v15',\n",
       "  'text_annotations': [' mean serial interval'],\n",
       "  'dkg_annotations': [['geonames:1849796', 'Tsu'],\n",
       "   ['geonames:5318313', 'Tucson']]},\n",
       " {'type': 'variable',\n",
       "  'name': 'Tg',\n",
       "  'id': 'v16',\n",
       "  'text_annotations': [' mean generation interval'],\n",
       "  'dkg_annotations': [['geonames:149606', 'Tanga'],\n",
       "   ['geonames:1624494', 'Tegal']]},\n",
       " {'type': 'variable',\n",
       "  'name': 'CFR',\n",
       "  'id': 'v17',\n",
       "  'text_annotations': [' case fatality ratio'],\n",
       "  'dkg_annotations': [['geonames:3029241', 'Caen'],\n",
       "   ['pr:000002065', 'mast/stem cell growth factor receptor']]},\n",
       " {'type': 'variable',\n",
       "  'name': 'CHR',\n",
       "  'id': 'v18',\n",
       "  'text_annotations': [' case hospitalization-severity ratio'],\n",
       "  'dkg_annotations': [['hp:0011010', 'Chronic'],\n",
       "   ['geonames:710791', 'Cherkasy']]},\n",
       " {'type': 'variable',\n",
       "  'name': 'I_to_H_time',\n",
       "  'id': 'v19',\n",
       "  'text_annotations': [' time it takes from symptom onset to hospitalization in days'],\n",
       "  'dkg_annotations': []},\n",
       " {'type': 'variable',\n",
       "  'name': 'H_TIME',\n",
       "  'id': 'v20',\n",
       "  'text_annotations': [' number of days an individual will be hospitalized'],\n",
       "  'dkg_annotations': [['pr:Q9UNS1', 'protein timeless homolog (human)']]},\n",
       " {'type': 'variable',\n",
       "  'name': 'D_REPORT_TIME',\n",
       "  'id': 'v21',\n",
       "  'text_annotations': [' number of days between death and reporting'],\n",
       "  'dkg_annotations': []},\n",
       " {'type': 'variable',\n",
       "  'name': 'N_age_init',\n",
       "  'id': 'v22',\n",
       "  'text_annotations': [' population data stratified by age'],\n",
       "  'dkg_annotations': []},\n",
       " {'type': 'variable',\n",
       "  'name': 'case_hist',\n",
       "  'id': 'v23',\n",
       "  'text_annotations': [' cumulative historical case data'],\n",
       "  'dkg_annotations': []},\n",
       " {'type': 'variable',\n",
       "  'name': 'death_hist',\n",
       "  'id': 'v24',\n",
       "  'text_annotations': [' cumulative historical death data'],\n",
       "  'dkg_annotations': []},\n",
       " {'type': 'variable',\n",
       "  'name': 'R0_frac',\n",
       "  'id': 'v25',\n",
       "  'text_annotations': [' factor that is multiplied with the baseline mobility value to model the effect of NPIs'],\n",
       "  'dkg_annotations': []}]"
      ]
     },
     "execution_count": 59,
     "metadata": {},
     "output_type": "execute_result"
    }
   ],
   "source": [
    "resses"
   ]
  },
  {
   "cell_type": "code",
   "execution_count": 56,
   "id": "30971121-6c89-4327-b40f-b2f4c5f2d4c6",
   "metadata": {
    "execution": {
     "iopub.execute_input": "2023-07-10T19:50:38.453636Z",
     "iopub.status.busy": "2023-07-10T19:50:38.453058Z",
     "iopub.status.idle": "2023-07-10T19:50:38.457848Z",
     "shell.execute_reply": "2023-07-10T19:50:38.456873Z",
     "shell.execute_reply.started": "2023-07-10T19:50:38.453601Z"
    }
   },
   "outputs": [],
   "source": [
    "# for r in resses:\n",
    "#     print(r)\n",
    "#     print(r.strip('\\nNone'))\n",
    "#     print('---')"
   ]
  },
  {
   "cell_type": "code",
   "execution_count": 45,
   "id": "f24aa0c3-a77a-48ea-bfb7-4975aedaaf84",
   "metadata": {
    "execution": {
     "iopub.execute_input": "2023-07-10T19:47:08.217888Z",
     "iopub.status.busy": "2023-07-10T19:47:08.217285Z",
     "iopub.status.idle": "2023-07-10T19:47:08.223623Z",
     "shell.execute_reply": "2023-07-10T19:47:08.222278Z",
     "shell.execute_reply.started": "2023-07-10T19:47:08.217851Z"
    }
   },
   "outputs": [
    {
     "name": "stdout",
     "output_type": "stream",
     "text": [
      "S: Proportion of individuals who are susceptible to the virus\n",
      "E: Proportion of individuals who have been exposed to the virus\n",
      "I^hosp: Proportion of individuals that are exhibiting severe disease symptoms and are in need of hospitalization\n",
      "I^mild: Proportion of individuals that are exhibiting mild disease symptoms\n",
      "I^asym: Proportion of individuals who are infected but asymptomatic\n",
      "R: Proportion of individuals who have recovered from the virus and are no longer capable of infecting other individuals\n",
      "R^hosp: Proportion of individuals who have recovered from the virus after a period of time in a hospital\n",
      "D: Proportion of individuals who have succumbed as a direct result of the virus\n",
      "beta: Force of infection on a member of age group i in location j\n",
      "sigma: Viral latent period\n",
      "alpha: Rate of infections that are asymptomatic\n",
      "nu: Fraction of cases necessitating hospitalization\n",
      "phi: Case fatality rate for age group i\n",
      "gamma: Infectious period\n",
      "tau: Recovery period from severe infection for age group i\n",
      "NoneTs: mean serial interval \n",
      "Tg: mean generation interval \n",
      "CFR: case fatality ratio \n",
      "CHR: case hospitalization-severity ratio \n",
      "I_to_H_time: time it takes from symptom onset to hospitalization in days \n",
      "H_TIME: number of days an individual will be hospitalized \n",
      "D_REPORT_TIME: number of days between death and reporting \n",
      "N_age_init: population data stratified by age \n",
      "case_hist: cumulative historical case data \n",
      "death_hist: cumulative historical death data \n",
      "weight: baseline mobility data \n",
      "R0_frac: factor multiplied with the baseline mobility value \n",
      "None\n"
     ]
    }
   ],
   "source": [
    "print(Out[43])"
   ]
  },
  {
   "cell_type": "code",
   "execution_count": 70,
   "id": "135214a1-865a-48a6-8953-f81b74b51874",
   "metadata": {
    "execution": {
     "iopub.execute_input": "2023-07-09T03:20:21.604114Z",
     "iopub.status.busy": "2023-07-09T03:20:21.603742Z",
     "iopub.status.idle": "2023-07-09T03:20:21.640719Z",
     "shell.execute_reply": "2023-07-09T03:20:21.640329Z",
     "shell.execute_reply.started": "2023-07-09T03:20:21.604089Z"
    }
   },
   "outputs": [],
   "source": [
    "model_name = 'gpt-3.5-turbo'\n",
    "\n",
    "with open(os.path.join(os.path.dirname(methods.__file__), 'prompts/text_var_prompt.txt'), \"r\") as f:\n",
    "    var_prompt = f.read()\n",
    "\n",
    "chunks = create_prompt_tasks(prompt=var_prompt, document=bucky_text, \n",
    "                             model_name=model_name, chunk_token_length=None, answer_token_length=256)"
   ]
  },
  {
   "cell_type": "code",
   "execution_count": 72,
   "id": "f228e59a-0240-456e-b3d6-0c525a0a4d4f",
   "metadata": {
    "execution": {
     "iopub.execute_input": "2023-07-09T03:20:32.274340Z",
     "iopub.status.busy": "2023-07-09T03:20:32.273974Z",
     "iopub.status.idle": "2023-07-09T03:20:32.277515Z",
     "shell.execute_reply": "2023-07-09T03:20:32.276686Z",
     "shell.execute_reply.started": "2023-07-09T03:20:32.274315Z"
    }
   },
   "outputs": [],
   "source": [
    "#chunks[0]"
   ]
  },
  {
   "cell_type": "code",
   "execution_count": 37,
   "id": "676bd7d4-b879-4bee-9908-3edf2cbb29b4",
   "metadata": {
    "execution": {
     "iopub.execute_input": "2023-07-10T19:44:50.794710Z",
     "iopub.status.busy": "2023-07-10T19:44:50.794283Z",
     "iopub.status.idle": "2023-07-10T19:44:50.800018Z",
     "shell.execute_reply": "2023-07-10T19:44:50.799200Z",
     "shell.execute_reply.started": "2023-07-10T19:44:50.794682Z"
    }
   },
   "outputs": [],
   "source": [
    "async def extract_vars_new(document, model_name, chunk_token_length=None):\n",
    "    with open(os.path.join(os.path.dirname(methods.__file__), 'prompts/text_var_prompt.txt'), \"r\") as f:\n",
    "        var_prompt = f.read()\n",
    "    \n",
    "    chunks = create_prompt_tasks(prompt=var_prompt, document=document, \n",
    "                                     model_name=model_name, chunk_token_length=chunk_token_length, answer_token_length=256)\n",
    "    res = await asend_task_requests(chunks, model=model_name)\n",
    "    return res"
   ]
  },
  {
   "cell_type": "code",
   "execution_count": 14,
   "id": "7d72796d",
   "metadata": {},
   "outputs": [],
   "source": [
    "#os.environ['OPENAI_API_KEY']"
   ]
  },
  {
   "cell_type": "code",
   "execution_count": 10,
   "id": "63be0462-8f37-4820-bedc-0eac25efa21b",
   "metadata": {
    "execution": {
     "iopub.execute_input": "2023-07-05T15:46:08.878002Z",
     "iopub.status.busy": "2023-07-05T15:46:08.877645Z",
     "iopub.status.idle": "2023-07-05T15:46:08.882776Z",
     "shell.execute_reply": "2023-07-05T15:46:08.881823Z",
     "shell.execute_reply.started": "2023-07-05T15:46:08.877979Z"
    }
   },
   "outputs": [],
   "source": [
    "res = []"
   ]
  },
  {
   "cell_type": "code",
   "execution_count": 36,
   "id": "dfb788c4-ad85-4c16-be6c-6ead7dff3e9c",
   "metadata": {
    "execution": {
     "iopub.execute_input": "2023-07-10T19:42:19.202016Z",
     "iopub.status.busy": "2023-07-10T19:42:19.201381Z",
     "iopub.status.idle": "2023-07-10T19:42:29.870784Z",
     "shell.execute_reply": "2023-07-10T19:42:29.869350Z",
     "shell.execute_reply.started": "2023-07-10T19:42:19.201975Z"
    }
   },
   "outputs": [
    {
     "data": {
      "text/plain": [
       "''"
      ]
     },
     "execution_count": 36,
     "metadata": {},
     "output_type": "execute_result"
    }
   ],
   "source": [
    "# bucky_text, model_name='gpt-4'))"
   ]
  },
  {
   "cell_type": "code",
   "execution_count": 13,
   "id": "db699e48-50c4-40a2-9835-b8d74818de4c",
   "metadata": {
    "execution": {
     "iopub.execute_input": "2023-07-10T19:20:01.423775Z",
     "iopub.status.busy": "2023-07-10T19:20:01.423424Z",
     "iopub.status.idle": "2023-07-10T19:20:18.951735Z",
     "shell.execute_reply": "2023-07-10T19:20:18.950827Z",
     "shell.execute_reply.started": "2023-07-10T19:20:01.423748Z"
    }
   },
   "outputs": [
    {
     "name": "stdout",
     "output_type": "stream",
     "text": [
      "['S: Proportion of individuals who are susceptible to the virus\\nE: Proportion of individuals who have been exposed to the virus\\nI^hosp: Proportion of individuals that are exhibiting severe disease symptoms and are in need of hospitalization\\nI^mild: Proportion of individuals that are exhibiting mild disease symptoms\\nI^asym: Proportion of individuals who are infected but asymptomatic\\nR: Proportion of individuals who have recovered from the virus and are no longer capable of infecting other individuals\\nR^hosp: Proportion of individuals who have recovered from the virus after a period of time in a hospital\\nD: Proportion of individuals who have succumbed as a direct result of the virus\\nbeta: Force of infection on a member of age group i in location j\\nsigma: Viral latent period\\nalpha: Rate of infections that are asymptomatic\\nnu: Fraction of cases necessitating hospitalization\\nphi: Case fatality rate for age group i\\ngamma: Infectious period\\ntau: Recovery period from severe infection for age group i\\nNone', 'Ts: mean serial interval \\nTg: mean generation interval \\nCFR: case fatality ratio \\nCHR: case hospitalization-severity ratio \\nI_to_H_time: time it takes from symptom onset to hospitalization in days \\nH_TIME: number of days an individual will be hospitalized \\nD_REPORT_TIME: number of days between death and reporting \\nN_age_init: population data stratified by age \\ncase_hist: cumulative historical case data \\ndeath_hist: cumulative historical death data \\nR0_frac: factor that is multiplied with the baseline mobility value to model the effect of NPIs \\nNone', 'None']\n"
     ]
    }
   ],
   "source": [
    "## Using largest possible chunk for model\n",
    "#res.append(('par', 'text-davinci-003', 4097, [44.45, 34.44, 22.78, 13.30, 21.71, 27.39, 17.5]))\n",
    "print(await extract_vars_new(document=bucky_text, model_name='text-davinci-003'))"
   ]
  },
  {
   "cell_type": "code",
   "execution_count": 17,
   "id": "2d88b8c3-6545-4ea9-b45b-726cc64ac5a8",
   "metadata": {
    "execution": {
     "iopub.execute_input": "2023-07-10T19:21:58.723345Z",
     "iopub.status.busy": "2023-07-10T19:21:58.722694Z",
     "iopub.status.idle": "2023-07-10T19:22:14.058735Z",
     "shell.execute_reply": "2023-07-10T19:22:14.057443Z",
     "shell.execute_reply.started": "2023-07-10T19:21:58.723306Z"
    }
   },
   "outputs": [
    {
     "name": "stdout",
     "output_type": "stream",
     "text": [
      "['S: Proportion of individuals who are susceptible to the virus\\nE: Proportion of individuals who have been exposed to the virus\\nI: Proportion of individuals that are exhibiting severe disease symptoms and are in need of hospitalization\\nI: Proportion of individuals that are exhibiting mild disease symptoms\\nI: Proportion of individuals who are infected but asymptomatic\\nR: Proportion of individuals who have recovered from the virus and are no longer capable of infecting other individuals\\nR: Proportion of individuals who have recovered from the virus after a period of time in a hospital\\nD: Proportion of individuals who have succumbed as a direct result of the virus', 'T-g: Mean generation interval \\nT_S: Mean serial interval \\nasym_frac: Fraction of infections that are asymptomatic \\nrel_inf_asym: Relative infectiousness of asymptomatic individuals \\nfrac_trans_before_s: Percentage of transmission prior to symptom onset \\nF: Case fatality ratio \\nH: Case hospitalization ratio \\nI_TO_H_TIME: Time from symptom onset to hospitalization \\nH_TIME: Duration of hospitalization \\nD_REPORT_TIME: Time between death and reporting', 'HLW: Hospital-related parameters derived from COVID-Net and DCIPHER.\\nI_to_H_time: Time it takes from symptom onset to hospitalization in days.\\nH_TIME: Number of days an individual will be hospitalized.\\nD_REPORT_TIME: Number of days between death and reporting.\\nadm1_key: Administrative level 1 key.\\nadm2_key: Administrative level 2 key.\\nadm1_to_str: Dictionary with key-value pairs indicating the adm1 names for each adm1 value appearing in the graph.\\nConfirmed: Cumulative confirmed cases.\\nDeaths: Cumulative deaths.\\nadm2_name: Administrative level 2 name.\\nN_age_init: Array of population data stratified by age.\\nPopulation: Total population for an admin2.\\ncase_hist: Cumulative historical case data.\\ndeath_hist: Cumulative historical death data.\\ncontact_mats: Contact matrix information for the country.\\nNone', 'None', 'cumulative_reported_cases_per_100k: Number of reported cases of COVID-19 per 100,000 people\\n-cmap: Color map used to visualize data\\nCOVIDExposureIndices: Repository of data related to COVID-19\\nCDGHW: Authors of a paper related to COVID-19\\nCDC: Centers for Disease Control and Prevention\\nCAN+20: Authors of a paper related to COVID-19\\nfDCP+20: Centers for Disease Control, Prevention, and others\\nHLW+20: Authors of a paper related to COVID-19\\nHet 89: Author of a paper related to epidemiological models\\nJVZG+20: Authors of a paper related to COVID-19\\nJJA+20: Authors of a paper related to COVID-19\\nLKL+20: Authors of a paper related to COVID-19\\nLYW+20: Authors of a paper related to COVID-19\\nMCH+20: Authors of a paper related to COVID-19\\nNYS+20: Authors of a paper related to COVID-19\\nOT20: Authors of a paper related to COVID-19\\nP', 'None']\n"
     ]
    }
   ],
   "source": [
    "#res.append(('par', 'text-davinci-003', 2000, [19.27, 25.5, 20.6, 23.21, 27.57, 15]))\n",
    "print(await extract_vars_new(document=bucky_text, model_name='text-davinci-003', chunk_token_length=2000))"
   ]
  },
  {
   "cell_type": "code",
   "execution_count": 44,
   "id": "9880ab3a-56f3-4b08-9eb9-4740f2d3ba5b",
   "metadata": {
    "execution": {
     "iopub.execute_input": "2023-07-05T15:46:30.371918Z",
     "iopub.status.busy": "2023-07-05T15:46:30.371370Z",
     "iopub.status.idle": "2023-07-05T15:46:30.375913Z",
     "shell.execute_reply": "2023-07-05T15:46:30.375259Z",
     "shell.execute_reply.started": "2023-07-05T15:46:30.371890Z"
    }
   },
   "outputs": [],
   "source": [
    "#res.append(('par', 'text-davinci-003', 1000, [45.75, 21.41, 37.04, 26.77, ]))\n",
    "print(await extract_vars_new(document=bucky_text, model_name='text-davinci-003', chunk_token_length=1000))"
   ]
  },
  {
   "cell_type": "code",
   "execution_count": 18,
   "id": "ba6d5469-41e9-4af2-a5f8-bb1def46c5cc",
   "metadata": {
    "execution": {
     "iopub.execute_input": "2023-07-10T19:23:13.782404Z",
     "iopub.status.busy": "2023-07-10T19:23:13.781487Z",
     "iopub.status.idle": "2023-07-10T19:23:29.129796Z",
     "shell.execute_reply": "2023-07-10T19:23:29.128774Z",
     "shell.execute_reply.started": "2023-07-10T19:23:13.782353Z"
    }
   },
   "outputs": [
    {
     "name": "stdout",
     "output_type": "stream",
     "text": [
      "['Variables:\\n- git clone: command to clone a repository from GitLab\\n- October 1, 2022: date of the document\\n- The Bucky model: the name of the model\\n- SEIR model: a class of deterministic models used to model infectious diseases\\n- S: susceptible population fraction\\n- E: exposed population fraction\\n- I: infectious population fraction\\n- R: recovered population fraction\\n- $S_{i j}$: proportion of individuals who are susceptible to the virus\\n- $E_{i j}$: proportion of individuals who have been exposed to the virus\\n- $I_{i, j}^{\\\\text {hosp }}$: proportion of individuals that are exhibiting severe disease symptoms and are in need of hospitalization\\n- $I_{i, j}^{\\\\text {mild }}$: proportion of individuals that are exhibiting mild disease symptoms\\n- $I_{i, j}^{\\\\text {asym }}$: proportion of individuals who are infected but asymptomatic\\n- $R_{i, j}$: proportion of individuals who have recovered from the virus and are no longer capable of infecting other individuals\\n- $R_{i, j}^{\\\\text {hosp }}$: proportion of individuals who have recovered from the virus after a period of time in a hospital\\n- $D_{i, j}$: proportion of individuals who have succumbed as a direct result of the virus\\n- $\\\\beta_{i, j}$: force of infection on a member of age group $i$ in location $j$\\n- $\\\\frac{1}{\\\\sigma}$: viral latent period\\n- $\\\\alpha$: rate of infections that are asymptomatic\\n- $\\\\nu_{i}$: fraction of cases necessitating hospitalization\\n- $\\\\phi_{i}$: case fatality rate for age group $i$\\n- $\\\\frac{1}{\\\\gamma}$: infectious period\\n- $\\\\tau_{i}$: recovery period from severe infection for age group $i$\\n- T-g: mean generation interval\\n- T\\\\_S: mean serial interval\\n- asym\\\\_frac: fraction of infections that are asymptomatic\\n- rel\\\\_inf\\\\_asym: relative infectiousness of asymptomatic individuals\\n- frac\\\\_trans\\\\_before\\\\_s: percentage of transmission prior to symptom onset\\n- F: case fatality ratio\\n- H: case hospitalization ratio\\n- I\\\\_TO\\\\_H\\\\_TIME: time from symptom onset to hospitalization\\n- H\\\\_TIME: duration of hospitalization\\n- D\\\\_REPORT\\\\_TIME: time between death and reporting\\n- Contact matrices: matrices describing the interaction rates between age groups\\n- Mobility data: data describing the movement between geographic locations\\n- weight: baseline mobility data used to construct edges in the graph\\n- R0\\\\_frac: factor used to model the effect of NPIs on mobility\\n- NPIs: non-pharmaceutical interventions to control the spread of COVID-19\\n- School Closure: an NPI that reduces contact between school-aged groups\\n- Shielding Elderly: an NPI that increases contacts in the home environment for the elderly\\n- Closing of borders, ports, and/or international flights: an NPI that restricts international movement\\n- Restricting inter-regional movement: an NPI that reduces mobility between regions\\n- Social distancing: an NPI that reduces overall community transmission\\n- Face mask wearing: an NPI that reduces overall community transmission\\n- Installation of hand washing stations: an NPI that reduces overall community transmission\\n- Reduction of size of public gatherings: an NPI that reduces overall community transmission\\n- Closing businesses: an NPI that reduces overall community transmission\\n- Partial Lockdown: an NPI that reduces overall community transmission\\n- Awareness campaigns: an NPI that reduces overall community transmission\\n- cumulative\\\\_reported\\\\_cases\\\\_per\\\\_100k: a column used for map visualization']\n"
     ]
    }
   ],
   "source": [
    "# res.append(('par', 'gpt-3.5-turbo-16k', 16k, [11.09, 23.34, 25.03, \n",
    "#                                     # 5m44 s ERROR, \n",
    "#                                     42, 38, 30, ]))\n",
    "print(await extract_vars_new(document=bucky_text, model_name='gpt-3.5-turbo-16k'))"
   ]
  },
  {
   "cell_type": "code",
   "execution_count": 46,
   "id": "fd70db02-a563-4800-850f-14c61298648f",
   "metadata": {
    "execution": {
     "iopub.execute_input": "2023-07-05T15:46:59.307973Z",
     "iopub.status.busy": "2023-07-05T15:46:59.307561Z",
     "iopub.status.idle": "2023-07-05T15:46:59.312211Z",
     "shell.execute_reply": "2023-07-05T15:46:59.311424Z",
     "shell.execute_reply.started": "2023-07-05T15:46:59.307950Z"
    }
   },
   "outputs": [],
   "source": [
    "res.append(('serial', 'text-davinci-003', 4097, [350, 248, 243, 291]))\n",
    "# 5m 50.70s\n",
    "# 4m 8.34s\n",
    "# 4m 2.77s \n",
    "# 4m 52s\n",
    "# current version seems to use text-davinci-003\n",
    "# serial loop with small batch\n",
    "#find_variables_from_text(bucky_text, gpt_key=gpt_key.GPT_KEY)"
   ]
  },
  {
   "cell_type": "code",
   "execution_count": 48,
   "id": "2e3d95ee-577e-4323-9971-c1b79acc124c",
   "metadata": {
    "execution": {
     "iopub.execute_input": "2023-07-05T15:47:12.025752Z",
     "iopub.status.busy": "2023-07-05T15:47:12.025185Z",
     "iopub.status.idle": "2023-07-05T15:47:12.030693Z",
     "shell.execute_reply": "2023-07-05T15:47:12.028863Z",
     "shell.execute_reply.started": "2023-07-05T15:47:12.025721Z"
    }
   },
   "outputs": [],
   "source": [
    "import pandas as pd"
   ]
  },
  {
   "cell_type": "code",
   "execution_count": 51,
   "id": "f50be672-0213-499f-bbfb-ef2119747f6a",
   "metadata": {
    "execution": {
     "iopub.execute_input": "2023-07-05T15:48:16.488234Z",
     "iopub.status.busy": "2023-07-05T15:48:16.487338Z",
     "iopub.status.idle": "2023-07-05T15:48:16.500408Z",
     "shell.execute_reply": "2023-07-05T15:48:16.498292Z",
     "shell.execute_reply.started": "2023-07-05T15:48:16.488175Z"
    }
   },
   "outputs": [],
   "source": [
    "df = pd.DataFrame.from_records(res, columns=['technique', 'model', 'chunk_size', 'times'])\n",
    "df = df.assign(paper='bucky.txt')"
   ]
  },
  {
   "cell_type": "code",
   "execution_count": 56,
   "id": "5ed217da-b5ce-4b91-b98c-28e49890e83e",
   "metadata": {
    "execution": {
     "iopub.execute_input": "2023-07-05T15:48:46.329906Z",
     "iopub.status.busy": "2023-07-05T15:48:46.329347Z",
     "iopub.status.idle": "2023-07-05T15:48:46.336796Z",
     "shell.execute_reply": "2023-07-05T15:48:46.335206Z",
     "shell.execute_reply.started": "2023-07-05T15:48:46.329876Z"
    }
   },
   "outputs": [],
   "source": [
    "x = [1,2,3]"
   ]
  },
  {
   "cell_type": "code",
   "execution_count": 58,
   "id": "d99a4ad7-b03e-4650-a5e1-9e72a8956797",
   "metadata": {
    "execution": {
     "iopub.execute_input": "2023-07-05T15:48:53.437112Z",
     "iopub.status.busy": "2023-07-05T15:48:53.436722Z",
     "iopub.status.idle": "2023-07-05T15:48:53.441866Z",
     "shell.execute_reply": "2023-07-05T15:48:53.440991Z",
     "shell.execute_reply.started": "2023-07-05T15:48:53.437089Z"
    }
   },
   "outputs": [
    {
     "data": {
      "text/plain": [
       "6"
      ]
     },
     "execution_count": 58,
     "metadata": {},
     "output_type": "execute_result"
    }
   ],
   "source": [
    "sum(x)"
   ]
  },
  {
   "cell_type": "code",
   "execution_count": 60,
   "id": "8b4a57da-5021-4d27-bc0e-b9057d3d89e0",
   "metadata": {
    "execution": {
     "iopub.execute_input": "2023-07-05T15:49:02.308611Z",
     "iopub.status.busy": "2023-07-05T15:49:02.307934Z",
     "iopub.status.idle": "2023-07-05T15:49:02.313156Z",
     "shell.execute_reply": "2023-07-05T15:49:02.312317Z",
     "shell.execute_reply.started": "2023-07-05T15:49:02.308574Z"
    }
   },
   "outputs": [],
   "source": [
    "import numpy as np"
   ]
  },
  {
   "cell_type": "code",
   "execution_count": 62,
   "id": "fb2122aa-f993-4b93-935e-db068766184f",
   "metadata": {
    "execution": {
     "iopub.execute_input": "2023-07-05T15:49:30.951613Z",
     "iopub.status.busy": "2023-07-05T15:49:30.951207Z",
     "iopub.status.idle": "2023-07-05T15:49:30.957414Z",
     "shell.execute_reply": "2023-07-05T15:49:30.956622Z",
     "shell.execute_reply.started": "2023-07-05T15:49:30.951587Z"
    }
   },
   "outputs": [],
   "source": [
    "df = df.assign(mean_time=df.times.apply(np.mean), std_time = df.times.apply(np.std))"
   ]
  },
  {
   "cell_type": "code",
   "execution_count": 63,
   "id": "3fa94e82-18fa-40f7-8b2b-962afbae36f7",
   "metadata": {
    "execution": {
     "iopub.execute_input": "2023-07-05T15:49:31.622959Z",
     "iopub.status.busy": "2023-07-05T15:49:31.621606Z",
     "iopub.status.idle": "2023-07-05T15:49:31.643917Z",
     "shell.execute_reply": "2023-07-05T15:49:31.642537Z",
     "shell.execute_reply.started": "2023-07-05T15:49:31.622891Z"
    }
   },
   "outputs": [
    {
     "data": {
      "text/html": [
       "<div>\n",
       "<style scoped>\n",
       "    .dataframe tbody tr th:only-of-type {\n",
       "        vertical-align: middle;\n",
       "    }\n",
       "\n",
       "    .dataframe tbody tr th {\n",
       "        vertical-align: top;\n",
       "    }\n",
       "\n",
       "    .dataframe thead th {\n",
       "        text-align: right;\n",
       "    }\n",
       "</style>\n",
       "<table border=\"1\" class=\"dataframe\">\n",
       "  <thead>\n",
       "    <tr style=\"text-align: right;\">\n",
       "      <th></th>\n",
       "      <th>technique</th>\n",
       "      <th>model</th>\n",
       "      <th>chunk_size</th>\n",
       "      <th>times</th>\n",
       "      <th>paper</th>\n",
       "      <th>mean_time</th>\n",
       "      <th>std_time</th>\n",
       "    </tr>\n",
       "  </thead>\n",
       "  <tbody>\n",
       "    <tr>\n",
       "      <th>0</th>\n",
       "      <td>par</td>\n",
       "      <td>text-davinci-003</td>\n",
       "      <td>4097</td>\n",
       "      <td>[44.45, 34.44, 22.78, 13.3, 21.71, 27.39]</td>\n",
       "      <td>bucky.txt</td>\n",
       "      <td>27.345000</td>\n",
       "      <td>9.939622</td>\n",
       "    </tr>\n",
       "    <tr>\n",
       "      <th>1</th>\n",
       "      <td>par</td>\n",
       "      <td>text-davinci-003</td>\n",
       "      <td>2000</td>\n",
       "      <td>[19.27, 25.5, 20.6, 23.21, 27.57]</td>\n",
       "      <td>bucky.txt</td>\n",
       "      <td>23.230000</td>\n",
       "      <td>3.052455</td>\n",
       "    </tr>\n",
       "    <tr>\n",
       "      <th>2</th>\n",
       "      <td>par</td>\n",
       "      <td>text-davinci-003</td>\n",
       "      <td>1000</td>\n",
       "      <td>[45.75, 21.41, 37.04, 26.77]</td>\n",
       "      <td>bucky.txt</td>\n",
       "      <td>32.742500</td>\n",
       "      <td>9.377631</td>\n",
       "    </tr>\n",
       "    <tr>\n",
       "      <th>3</th>\n",
       "      <td>par</td>\n",
       "      <td>gpt-3.5-turbo-16k</td>\n",
       "      <td>4097</td>\n",
       "      <td>[11.09, 23.34, 25.03, 42, 38, 30]</td>\n",
       "      <td>bucky.txt</td>\n",
       "      <td>28.243333</td>\n",
       "      <td>10.133520</td>\n",
       "    </tr>\n",
       "    <tr>\n",
       "      <th>4</th>\n",
       "      <td>serial</td>\n",
       "      <td>text-davinci-003</td>\n",
       "      <td>16000</td>\n",
       "      <td>[350, 248, 243, 291]</td>\n",
       "      <td>bucky.txt</td>\n",
       "      <td>283.000000</td>\n",
       "      <td>42.947643</td>\n",
       "    </tr>\n",
       "  </tbody>\n",
       "</table>\n",
       "</div>"
      ],
      "text/plain": [
       "  technique              model  chunk_size  \\\n",
       "0       par   text-davinci-003        4097   \n",
       "1       par   text-davinci-003        2000   \n",
       "2       par   text-davinci-003        1000   \n",
       "3       par  gpt-3.5-turbo-16k        4097   \n",
       "4    serial   text-davinci-003       16000   \n",
       "\n",
       "                                       times      paper   mean_time   std_time  \n",
       "0  [44.45, 34.44, 22.78, 13.3, 21.71, 27.39]  bucky.txt   27.345000   9.939622  \n",
       "1          [19.27, 25.5, 20.6, 23.21, 27.57]  bucky.txt   23.230000   3.052455  \n",
       "2               [45.75, 21.41, 37.04, 26.77]  bucky.txt   32.742500   9.377631  \n",
       "3          [11.09, 23.34, 25.03, 42, 38, 30]  bucky.txt   28.243333  10.133520  \n",
       "4                       [350, 248, 243, 291]  bucky.txt  283.000000  42.947643  "
      ]
     },
     "execution_count": 63,
     "metadata": {},
     "output_type": "execute_result"
    }
   ],
   "source": [
    "df"
   ]
  }
 ],
 "metadata": {
  "kernelspec": {
   "display_name": "Python (mitaskem)",
   "language": "python",
   "name": "mitaskem"
  },
  "language_info": {
   "codemirror_mode": {
    "name": "ipython",
    "version": 3
   },
   "file_extension": ".py",
   "mimetype": "text/x-python",
   "name": "python",
   "nbconvert_exporter": "python",
   "pygments_lexer": "ipython3",
   "version": "3.10.12"
  }
 },
 "nbformat": 4,
 "nbformat_minor": 5
}
