{
 "cells": [
  {
   "cell_type": "code",
   "execution_count": 16,
   "metadata": {
    "execution": {
     "iopub.execute_input": "2024-02-18T22:32:27.476052Z",
     "iopub.status.busy": "2024-02-18T22:32:27.475329Z",
     "iopub.status.idle": "2024-02-18T22:32:27.581634Z",
     "shell.execute_reply": "2024-02-18T22:32:27.581248Z",
     "shell.execute_reply.started": "2024-02-18T22:32:27.476013Z"
    }
   },
   "outputs": [],
   "source": [
    "import json, requests, os\n",
    "import io\n",
    "GPT_KEY = os.environ.get('OPENAI_API_KEY_MIT')\n",
    "assert GPT_KEY, \"Please set the OPENAI_API_KEY_MIT environment variable\"\n",
    "API_ROOT = \"http://localhost:8000/\"\n",
    "\n",
    "from pathlib import Path\n",
    "import pandas as pd"
   ]
  },
  {
   "cell_type": "code",
   "execution_count": 10,
   "metadata": {
    "execution": {
     "iopub.execute_input": "2024-02-18T23:02:51.758119Z",
     "iopub.status.busy": "2024-02-18T23:02:51.753969Z",
     "iopub.status.idle": "2024-02-18T23:02:51.766924Z",
     "shell.execute_reply": "2024-02-18T23:02:51.765849Z",
     "shell.execute_reply.started": "2024-02-18T23:02:51.758057Z"
    }
   },
   "outputs": [],
   "source": [
    "\n",
    "def skema_integrated_pdf_extractions(pdf_path):\n",
    "    \"\"\" wrapper that calls /integrated-pdf-extractions endpoint of the skema api\"\"\"\n",
    "\n",
    "    if isinstance(pdf_path, str):\n",
    "        pdf_path = Path(pdf_path)\n",
    "\n",
    "    pdf_path : Path = pdf_path.expanduser()\n",
    "    assert pdf_path.exists()\n",
    "\n",
    "    output_path = pdf_path.with_suffix('.skema_integrated.json')\n",
    "    if output_path.exists():\n",
    "        with open(output_path) as f:\n",
    "            return json.load(f)\n",
    "\n",
    "    URL= \"https://api.askem.lum.ai\"\n",
    "\n",
    "    params = {\n",
    "       \"annotate_skema\":True,\n",
    "       \"annotate_mit\": True,\n",
    "    }\n",
    "\n",
    "    files = [(\"pdfs\", (str(pdf_path), open(str(pdf_path), \"rb\")))]\n",
    "    response = requests.post(f\"{URL}/text-reading/integrated-pdf-extractions\", params=params, files=files)\n",
    "    if response.status_code == 200:\n",
    "        data = response.json()\n",
    "        with open(output_path, 'w') as f:\n",
    "            json.dump(data, f, indent=2)\n",
    "        return data\n",
    "    else:\n",
    "        raise  Exception(f'{response.status_code=} {response.text=}')"
   ]
  },
  {
   "cell_type": "code",
   "execution_count": 2,
   "metadata": {},
   "outputs": [
    {
     "name": "stderr",
     "output_type": "stream",
     "text": [
      "/Users/orm/mambaforge/envs/mitaskem/lib/python3.10/site-packages/pydantic/_internal/_config.py:317: UserWarning: Valid config keys have changed in V2:\n",
      "* 'schema_extra' has been renamed to 'json_schema_extra'\n",
      "  warnings.warn(message, UserWarning)\n"
     ]
    },
    {
     "data": {
      "text/plain": [
       "<module 'mitaskem.api.routers.annotation' from '/Users/orm/repos/mitaskem/mitaskem/api/routers/annotation.py'>"
      ]
     },
     "execution_count": 2,
     "metadata": {},
     "output_type": "execute_result"
    }
   ],
   "source": [
    "import importlib\n",
    "import mitaskem.api.routers.annotation\n",
    "importlib.reload(mitaskem.api.routers.annotation)"
   ]
  },
  {
   "cell_type": "code",
   "execution_count": 3,
   "metadata": {},
   "outputs": [],
   "source": [
    "# from pathlib import Path\n",
    "# example_data = Path(\"~/example_data/\").expanduser()\n",
    "# for file in example_data.iterdir():\n",
    "#     if file.suffix == \".pdf\":\n",
    "#         print(file)\n",
    "#         try:\n",
    "#             data = skema_integrated_pdf_extractions(file)\n",
    "#             df = list_scenarios_local(None, extractions=data, return_early=True)\n",
    "#             print(df)\n",
    "#         except Exception as e:\n",
    "#             print(e)\n"
   ]
  },
  {
   "cell_type": "code",
   "execution_count": 22,
   "metadata": {},
   "outputs": [],
   "source": [
    "def scenario_extraction(integrated_json, url=\"http://54.227.237.7\"):\n",
    "    ## send post request to\n",
    "    # URL = \"\"\n",
    "    params = {\n",
    "        \"gpt_key\": GPT_KEY,\n",
    "    }\n",
    "\n",
    "    files = [(\"extractions_file\", ('', io.BytesIO(json.dumps(integrated_json).encode('utf-8'))))]\n",
    "\n",
    "    response = requests.post(f'{url}/annotation/list_scenarios/', params=params, files=files)\n",
    "    if response.status_code == 200:\n",
    "        return response.json()\n",
    "    else:\n",
    "        print(response.text)\n",
    "        raise  Exception(f'{response.status_code=} {response.text=}')"
   ]
  },
  {
   "cell_type": "code",
   "execution_count": 7,
   "metadata": {},
   "outputs": [],
   "source": [
    "paths = [\n",
    "    '/Users/orm/example_data/Patty-reviewed-1-28-24-Why is it difficult to accurately predict the COVID-19 epidemic (1).pdf',\n",
    "    '/Users/orm/example_data/Patty-reviewed-1-28-24-bertozzi-et-al-2020-the-challenges-of-modeling-and-forecasting-the-spread-of-covid-19.pdf',\n",
    "    '/Users/orm/example_data/Patty-reviewed-1-28-24-Mathematical modeling of COVID-19 transmission dynamics with a case study of Wuhan.pdf',\n",
    "]\n"
   ]
  },
  {
   "cell_type": "code",
   "execution_count": 23,
   "metadata": {},
   "outputs": [
    {
     "name": "stdout",
     "output_type": "stream",
     "text": [
      "                         varname value    geo\n",
      "0  basic reproduction number R 0     2  Wuhan\n",
      "1                              K   < N   None\n",
      "2                              N    40   None\n",
      "3                              K   > N   None\n",
      "                  varname  value            geo\n",
      "0                 R ( t )   1.00          China\n",
      "1                 R ( t )   1.00          Italy\n",
      "2     reproduction number   2.50  United States\n",
      "3   B ( CID :88 ) R ( T )   3.00             IK\n",
      "4                       K   1.00           None\n",
      "5                      R0   2.70     California\n",
      "6                   gamma   0.12     California\n",
      "7                      I0   0.10     California\n",
      "8                      R0   4.10       New York\n",
      "9                   gamma   0.10       New York\n",
      "10                     I0   0.05       New York\n",
      "      varname                                      value   geo\n",
      "0   L C ( 0 )  number of confirmed cases 04 January 2020  None\n",
      "1  L C ( 65 )    number of confirmed cases 09 March 2020  None\n",
      "2   L D ( 0 )                number of dead on January 4  None\n",
      "3  L D ( 65 )            number of dead on March 9, 2020  None\n"
     ]
    }
   ],
   "source": [
    "for path in paths:\n",
    "    data = skema_integrated_pdf_extractions(path)\n",
    "    extr  = scenario_extraction(data, url=\"http://localhost:8000\")\n",
    "    print(pd.DataFrame(extr))"
   ]
  }
 ],
 "metadata": {
  "kernelspec": {
   "display_name": "Python 3 (ipykernel)",
   "language": "python",
   "name": "python3"
  },
  "language_info": {
   "codemirror_mode": {
    "name": "ipython",
    "version": 3
   },
   "file_extension": ".py",
   "mimetype": "text/x-python",
   "name": "python",
   "nbconvert_exporter": "python",
   "pygments_lexer": "ipython3",
   "version": "3.10.12"
  }
 },
 "nbformat": 4,
 "nbformat_minor": 4
}
